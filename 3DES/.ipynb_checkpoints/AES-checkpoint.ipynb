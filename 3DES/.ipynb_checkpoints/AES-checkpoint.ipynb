{
 "cells": [
  {
   "cell_type": "code",
   "execution_count": 90,
   "id": "b95078c9",
   "metadata": {},
   "outputs": [],
   "source": [
    "#start\n",
    "import random\n",
    "import string\n",
    "import numpy as np"
   ]
  },
  {
   "cell_type": "code",
   "execution_count": 91,
   "id": "af0d3faa",
   "metadata": {},
   "outputs": [],
   "source": [
    "def plaintext_preprocess(input_plaintext):\n",
    "    width = 16\n",
    "    input_plaintext = input_plaintext.ljust(width,'0')\n",
    "    input_text = input_plaintext[:width]\n",
    "    return input_text"
   ]
  },
  {
   "cell_type": "code",
   "execution_count": 92,
   "id": "c8d431fc",
   "metadata": {},
   "outputs": [],
   "source": [
    "def Key_generation(n):\n",
    "    N = n//8\n",
    "    Key = ''.join(random.choices(string.ascii_letters + string.digits, k=N))\n",
    "    return Key"
   ]
  },
  {
   "cell_type": "code",
   "execution_count": 128,
   "id": "0007e8c0",
   "metadata": {},
   "outputs": [],
   "source": [
    "def box_byte(string_128):\n",
    "    box = np.array(bytearray(string_128), dtype=np.byte)\n",
    "    box.shape = (4, 4)\n",
    "    result = box.T\n",
    "    return result"
   ]
  },
  {
   "cell_type": "code",
   "execution_count": 129,
   "id": "1a216342",
   "metadata": {},
   "outputs": [],
   "source": [
    "def box_xor(A_128,B_128):\n",
    "    return np.bitwise_xor(A_128, B_128)"
   ]
  },
  {
   "cell_type": "code",
   "execution_count": 157,
   "id": "4494fcf0",
   "metadata": {},
   "outputs": [],
   "source": [
    "def S_box_location(single_byte_128):\n",
    "    Sbox_loc= np.base_repr(single_byte_128, base=16)\n",
    "    loc = np.array([int(i, 16) for i in Sbox_loc])\n",
    "    return loc[0],loc[1]"
   ]
  },
  {
   "cell_type": "code",
   "execution_count": 178,
   "id": "452a74eb",
   "metadata": {},
   "outputs": [],
   "source": [
    "def S_box(x,y):\n",
    "    Sbox = np.array([\n",
    "            [0x63, 0x7C, 0x77, 0x7B, 0xF2, 0x6B, 0x6F, 0xC5, 0x30, 0x01, 0x67, 0x2B, 0xFE, 0xD7, 0xAB, 0x76],\n",
    "            [0xCA, 0x82, 0xC9, 0x7D, 0xFA, 0x59, 0x47, 0xF0, 0xAD, 0xD4, 0xA2, 0xAF, 0x9C, 0xA4, 0x72, 0xC0],\n",
    "            [0xB7, 0xFD, 0x93, 0x26, 0x36, 0x3F, 0xF7, 0xCC, 0x34, 0xA5, 0xE5, 0xF1, 0x71, 0xD8, 0x31, 0x15],\n",
    "            [0x04, 0xC7, 0x23, 0xC3, 0x18, 0x96, 0x05, 0x9A, 0x07, 0x12, 0x80, 0xE2, 0xEB, 0x27, 0xB2, 0x75],\n",
    "            [0x09, 0x83, 0x2C, 0x1A, 0x1B, 0x6E, 0x5A, 0xA0, 0x52, 0x3B, 0xD6, 0xB3, 0x29, 0xE3, 0x2F, 0x84],\n",
    "            [0x53, 0xD1, 0x00, 0xED, 0x20, 0xFC, 0xB1, 0x5B, 0x6A, 0xCB, 0xBE, 0x39, 0x4A, 0x4C, 0x58, 0xCF],\n",
    "            [0xD0, 0xEF, 0xAA, 0xFB, 0x43, 0x4D, 0x33, 0x85, 0x45, 0xF9, 0x02, 0x7F, 0x50, 0x3C, 0x9F, 0xA8],\n",
    "            [0x51, 0xA3, 0x40, 0x8F, 0x92, 0x9D, 0x38, 0xF5, 0xBC, 0xB6, 0xDA, 0x21, 0x10, 0xFF, 0xF3, 0xD2],\n",
    "            [0xCD, 0x0C, 0x13, 0xEC, 0x5F, 0x97, 0x44, 0x17, 0xC4, 0xA7, 0x7E, 0x3D, 0x64, 0x5D, 0x19, 0x73],\n",
    "            [0x60, 0x81, 0x4F, 0xDC, 0x22, 0x2A, 0x90, 0x88, 0x46, 0xEE, 0xB8, 0x14, 0xDE, 0x5E, 0x0B, 0xDB],\n",
    "            [0xE0, 0x32, 0x3A, 0x0A, 0x49, 0x06, 0x24, 0x5C, 0xC2, 0xD3, 0xAC, 0x62, 0x91, 0x95, 0xE4, 0x79],\n",
    "            [0xE7, 0xC8, 0x37, 0x6D, 0x8D, 0xD5, 0x4E, 0xA9, 0x6C, 0x56, 0xF4, 0xEA, 0x65, 0x7A, 0xAE, 0x08],\n",
    "            [0xBA, 0x78, 0x25, 0x2E, 0x1C, 0xA6, 0xB4, 0xC6, 0xE8, 0xDD, 0x74, 0x1F, 0x4B, 0xBD, 0x8B, 0x8A],\n",
    "            [0x70, 0x3E, 0xB5, 0x66, 0x48, 0x03, 0xF6, 0x0E, 0x61, 0x35, 0x57, 0xB9, 0x86, 0xC1, 0x1D, 0x9E],\n",
    "            [0xE1, 0xF8, 0x98, 0x11, 0x69, 0xD9, 0x8E, 0x94, 0x9B, 0x1E, 0x87, 0xE9, 0xCE, 0x55, 0x28, 0xDF],\n",
    "            [0x8C, 0xA1, 0x89, 0x0D, 0xBF, 0xE6, 0x42, 0x68, 0x41, 0x99, 0x2D, 0x0F, 0xB0, 0x54, 0xBB, 0x16]\n",
    "            ])\n",
    "    return Sbox[x][y]"
   ]
  },
  {
   "cell_type": "code",
   "execution_count": null,
   "id": "5f5586c4",
   "metadata": {},
   "outputs": [],
   "source": [
    "def shiftrow(Box):\n",
    "    \n",
    "    return"
   ]
  },
  {
   "cell_type": "markdown",
   "id": "8bf77af1",
   "metadata": {},
   "source": [
    "# Start"
   ]
  },
  {
   "cell_type": "code",
   "execution_count": 179,
   "id": "521f2dd8",
   "metadata": {},
   "outputs": [],
   "source": [
    "input_plaintext = \"ABcd12\"\n",
    "Key = Key_generation(128)\n",
    "Plain_text = plaintext_preprocess(input_plaintext)"
   ]
  },
  {
   "cell_type": "code",
   "execution_count": 180,
   "id": "9c70af6c",
   "metadata": {},
   "outputs": [],
   "source": [
    "Key_128=box_byte(bytes(Key,encoding='utf-8'))\n",
    "Plain_text_128=box_byte(bytes(Plain_text,encoding='utf-8'))"
   ]
  },
  {
   "cell_type": "code",
   "execution_count": 181,
   "id": "8491f7b8",
   "metadata": {},
   "outputs": [],
   "source": [
    "result = box_xor(Plain_text_128,Key_128)"
   ]
  },
  {
   "cell_type": "code",
   "execution_count": 182,
   "id": "3a4601bc",
   "metadata": {},
   "outputs": [],
   "source": [
    "x,y = S_box_location(Key_128[0][0])"
   ]
  },
  {
   "cell_type": "code",
   "execution_count": 183,
   "id": "fef44c56",
   "metadata": {},
   "outputs": [
    {
     "data": {
      "text/plain": [
       "44"
      ]
     },
     "execution_count": 183,
     "metadata": {},
     "output_type": "execute_result"
    }
   ],
   "source": [
    "S_box(x,y)"
   ]
  },
  {
   "cell_type": "code",
   "execution_count": null,
   "id": "76f3ab17",
   "metadata": {},
   "outputs": [],
   "source": []
  },
  {
   "cell_type": "code",
   "execution_count": null,
   "id": "fd903af3",
   "metadata": {},
   "outputs": [],
   "source": []
  }
 ],
 "metadata": {
  "kernelspec": {
   "display_name": "Python 3",
   "language": "python",
   "name": "python3"
  },
  "language_info": {
   "codemirror_mode": {
    "name": "ipython",
    "version": 3
   },
   "file_extension": ".py",
   "mimetype": "text/x-python",
   "name": "python",
   "nbconvert_exporter": "python",
   "pygments_lexer": "ipython3",
   "version": "3.8.6"
  }
 },
 "nbformat": 4,
 "nbformat_minor": 5
}
