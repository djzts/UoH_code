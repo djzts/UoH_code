{
 "cells": [
  {
   "cell_type": "code",
   "execution_count": null,
   "id": "76e637f0",
   "metadata": {},
   "outputs": [],
   "source": [
    "#if __name__ == \"__main__\":  \n",
    "    \"\"\"\n",
    "    print(\"Processing DES encryption algorithm\")\n",
    "    M=\"0000000100100011010001010110011110001001101010111100110111101111\"#测试的明文\n",
    "    K=\"0001001100110100010101110111100110011011101111001101111111110001\"#密钥\n",
    "    print(\"明文是\" + M)\n",
    "    print(\"加密后:\" + Encryption(M, K))\n",
    "    print(\"解密后\" + Decryption(Encryption(M,K), K))\n",
    "    \"\"\"\n",
    "#    print(\"【DES程序说明】\")\n",
    "#    print(\"1. 明文文件默认为同目录下的plainText.txt，如需加密其他文件，请修改16到20行代码的文件变量。\" )\n",
    "#    print(\"2. 密钥是随机生成的，保存在同目录的secretKey.txt文件中\")\n",
    "#    print(\"3. 如果要显示加密和解密过程，可修改23行代码的打印变量，置为True\")\n",
    "#    print(\"---------------------------------------------------------------------\")\n",
    "#    #continueSign = input(\"请按任意键执行加密和解密过程。。。\")\n",
    "#    print(\"随机生成密钥中...\")\n",
    "#    secretKey = createSecrteKey()"
   ]
  }
 ],
 "metadata": {
  "kernelspec": {
   "display_name": "Python 3",
   "language": "python",
   "name": "python3"
  },
  "language_info": {
   "codemirror_mode": {
    "name": "ipython",
    "version": 3
   },
   "file_extension": ".py",
   "mimetype": "text/x-python",
   "name": "python",
   "nbconvert_exporter": "python",
   "pygments_lexer": "ipython3",
   "version": "3.8.6"
  }
 },
 "nbformat": 4,
 "nbformat_minor": 5
}
