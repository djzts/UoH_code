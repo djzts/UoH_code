{
 "cells": [
  {
   "cell_type": "code",
   "execution_count": 1,
   "metadata": {},
   "outputs": [
    {
     "name": "stdout",
     "output_type": "stream",
     "text": [
      "[25, 4, 22, 3, 22, 15, 19, 5, 19, 21, 12, 8, 4]\n"
     ]
    }
   ],
   "source": [
    "a = ['c','a','s','h','n','o','t','n','e','e','d','e','d']\n",
    "b = ['b','e','o','k','j','d','m','s','x','z','p','m','h']\n",
    "A = [ord(x) %32 for x in a]\n",
    "B = [ord(x) %32 for x in b]\n",
    "result = [(y-x) % 26 for x, y in zip(A,B)]\n",
    "print(result)"
   ]
  },
  {
   "cell_type": "code",
   "execution_count": 12,
   "metadata": {},
   "outputs": [],
   "source": [
    "P = 14"
   ]
  },
  {
   "cell_type": "code",
   "execution_count": null,
   "metadata": {},
   "outputs": [],
   "source": []
  },
  {
   "cell_type": "code",
   "execution_count": 30,
   "metadata": {},
   "outputs": [],
   "source": [
    "\n",
    "#P = 22\n",
    "def Chelsea(P):\n",
    "    prime_number_set = []\n",
    "    i = 2\n",
    "    while (i <= P):\n",
    "        j = 2\n",
    "        counter = 0\n",
    "        while (j <= i/2):\n",
    "            if (i%j == 0):\n",
    "                counter = counter + 1\n",
    "            j = j + 1\n",
    "        if (counter == 0):\n",
    "            #print(i)\n",
    "            prime_number_set.append(i)\n",
    "        i = i + 1\n",
    "    return len(prime_number_set)\n",
    "    "
   ]
  },
  {
   "cell_type": "code",
   "execution_count": 31,
   "metadata": {},
   "outputs": [
    {
     "name": "stdout",
     "output_type": "stream",
     "text": [
      "6\n"
     ]
    }
   ],
   "source": [
    "print(Chelsea(14))"
   ]
  },
  {
   "cell_type": "code",
   "execution_count": 12,
   "metadata": {},
   "outputs": [
    {
     "name": "stdout",
     "output_type": "stream",
     "text": [
      "26\n",
      "26\n",
      "1295.2563149674063\n",
      "45.2563149674063\n",
      "[960.0, 920.1, 880.3010000000002, 840.60401, 801.0100501000002, 761.5201506010001, 722.13535210701, 682.8567056280801, 643.6852726843608, 604.6221254112045, 565.6683466653164, 526.8250301319697, 488.09328043328946, 449.4742132376225, 410.96895536999864, 372.5786449236987, 334.3044313729356, 296.1474756866651, 258.1089504435315, 220.19003994796708, 182.39194034744673, 144.71585975092103, 107.16301834843034, 69.73464853191467, 32.43199501723393, 0]\n"
     ]
    }
   ],
   "source": [
    "debt = 1000\n",
    "rate = 0.01 \n",
    "payment = 50\n",
    "verbose = False\n",
    "\n",
    "n = 1\n",
    "while (n*50<=(1+rate)**n*debt):\n",
    "    n += 1\n",
    "print(n)\n",
    "Total_payment = (1+rate)**n*debt\n",
    "Last_payment = (1+rate)**n*debt-(n-1)*50\n",
    "\n",
    "Remaining_balance = [(1+rate)**i*debt-i*50 for i in range(1,n+1)]\n",
    "Remaining_balance[-1] = 0\n",
    "#for n in range()\n",
    "print(n)\n",
    "print(Total_payment)\n",
    "print(last_payment)\n",
    "print(Remaining_balance)"
   ]
  },
  {
   "cell_type": "code",
   "execution_count": 17,
   "metadata": {},
   "outputs": [],
   "source": [
    "def CreditPay(rate,payment,verbose):\n",
    "    debt = 1000\n",
    "    n = 1\n",
    "    #determine the number of month of return\n",
    "    while (n*50<=(1+rate)**n*debt):\n",
    "        n += 1\n",
    "    if verbose:\n",
    "        Remaining_balance = [(1+rate)**i*debt-i*50 for i in range(1,n+1)]\n",
    "        Remaining_balance[-1] = 0\n",
    "        print(Remaining_balance)\n",
    "    else:\n",
    "        Total_payment = (1+rate)**n*debt\n",
    "        Last_payment = (1+rate)**n*debt-(n-1)*50\n",
    "        print(\"Total_payment: \",Total_payment)\n",
    "        print(\"last_payment: \",Last_payment)\n",
    "    \n",
    "    return n\n",
    "        "
   ]
  },
  {
   "cell_type": "code",
   "execution_count": 20,
   "metadata": {},
   "outputs": [],
   "source": [
    "def CreditPay_alt(rate,payment,verbose):\n",
    "    debt = 1000\n",
    "    n = 1\n",
    "    #determine the number of month of return\n",
    "    Remaining_balance = []\n",
    "    while (debt>0):\n",
    "        debt = (1+rate)*debt-payment\n",
    "        Remaining_balance.append(debt)\n",
    "        n += 1\n",
    "        \n",
    "    if verbose:\n",
    "        Remaining_balance[-1] = 0\n",
    "        print(Remaining_balance)\n",
    "    else:\n",
    "        Total_payment = n*payment+Remaining_balance[-1]\n",
    "        Last_payment = payment+Remaining_balance[-1]\n",
    "        print(\"Total_payment: \",Total_payment)\n",
    "        print(\"last_payment: \",Last_payment)\n",
    "    \n",
    "    return n"
   ]
  },
  {
   "cell_type": "code",
   "execution_count": 23,
   "metadata": {},
   "outputs": [
    {
     "name": "stdout",
     "output_type": "stream",
     "text": [
      "[960.0, 919.6, 878.796, 837.58396, 795.9597996000001, 753.9193975960001, 711.45859157196, 668.5731774876797, 625.2589092625565, 581.5114983551821, 537.3266133387339, 492.6998794721212, 447.6268782668424, 402.1031470495109, 356.124178520006, 309.6854203052061, 262.7822745082582, 215.41009725334078, 167.56419822587418, 119.23984020813293, 70.43223861021426, 21.136560996316405, 0]\n"
     ]
    },
    {
     "data": {
      "text/plain": [
       "24"
      ]
     },
     "execution_count": 23,
     "metadata": {},
     "output_type": "execute_result"
    }
   ],
   "source": [
    "rate = 0.01 \n",
    "payment = 50\n",
    "verbose = 1\n",
    "\n",
    "CreditPay_alt(rate,payment,verbose)"
   ]
  },
  {
   "cell_type": "code",
   "execution_count": 24,
   "metadata": {},
   "outputs": [
    {
     "name": "stdout",
     "output_type": "stream",
     "text": [
      "Total_payment:  1171.3479266062795\n",
      "last_payment:  21.347926606279568\n"
     ]
    },
    {
     "data": {
      "text/plain": [
       "24"
      ]
     },
     "execution_count": 24,
     "metadata": {},
     "output_type": "execute_result"
    }
   ],
   "source": [
    "rate = 0.01 \n",
    "payment = 50\n",
    "verbose = 0\n",
    "\n",
    "CreditPay_alt(rate,payment,verbose)"
   ]
  },
  {
   "cell_type": "code",
   "execution_count": 25,
   "metadata": {},
   "outputs": [
    {
     "name": "stdout",
     "output_type": "stream",
     "text": [
      "[960.0, 920.1, 880.3010000000002, 840.60401, 801.0100501000002, 761.5201506010001, 722.13535210701, 682.8567056280801, 643.6852726843608, 604.6221254112045, 565.6683466653164, 526.8250301319697, 488.09328043328946, 449.4742132376225, 410.96895536999864, 372.5786449236987, 334.3044313729356, 296.1474756866651, 258.1089504435315, 220.19003994796708, 182.39194034744673, 144.71585975092103, 107.16301834843034, 69.73464853191467, 32.43199501723393, 0]\n"
     ]
    },
    {
     "data": {
      "text/plain": [
       "26"
      ]
     },
     "execution_count": 25,
     "metadata": {},
     "output_type": "execute_result"
    }
   ],
   "source": [
    "rate = 0.01 \n",
    "payment = 50\n",
    "verbose = 1\n",
    "\n",
    "CreditPay(rate,payment,verbose)"
   ]
  },
  {
   "cell_type": "code",
   "execution_count": 26,
   "metadata": {},
   "outputs": [
    {
     "name": "stdout",
     "output_type": "stream",
     "text": [
      "Total_payment:  1295.2563149674063\n",
      "last_payment:  45.2563149674063\n"
     ]
    },
    {
     "data": {
      "text/plain": [
       "26"
      ]
     },
     "execution_count": 26,
     "metadata": {},
     "output_type": "execute_result"
    }
   ],
   "source": [
    "rate = 0.01 \n",
    "payment = 50\n",
    "verbose = 0\n",
    "\n",
    "CreditPay(rate,payment,verbose)"
   ]
  },
  {
   "cell_type": "code",
   "execution_count": null,
   "metadata": {},
   "outputs": [],
   "source": []
  }
 ],
 "metadata": {
  "kernelspec": {
   "display_name": "Python 3",
   "language": "python",
   "name": "python3"
  },
  "language_info": {
   "codemirror_mode": {
    "name": "ipython",
    "version": 3
   },
   "file_extension": ".py",
   "mimetype": "text/x-python",
   "name": "python",
   "nbconvert_exporter": "python",
   "pygments_lexer": "ipython3",
   "version": "3.8.6"
  }
 },
 "nbformat": 4,
 "nbformat_minor": 4
}
