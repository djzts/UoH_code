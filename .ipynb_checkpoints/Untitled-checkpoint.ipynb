{
 "cells": [
  {
   "cell_type": "code",
   "execution_count": 1,
   "id": "14ce5d0d",
   "metadata": {},
   "outputs": [],
   "source": [
    "import numpy as np"
   ]
  },
  {
   "cell_type": "code",
   "execution_count": 15,
   "id": "8537a621",
   "metadata": {},
   "outputs": [
    {
     "name": "stdout",
     "output_type": "stream",
     "text": [
      "[0 1 0]\n",
      "[1 1 1]\n"
     ]
    }
   ],
   "source": [
    "H = np.array([[1,1,0,1,1,0,0],\n",
    "              [1,0,1,1,0,1,0],\n",
    "              [0,1,1,1,0,0,1]])\n",
    "\n",
    "M = np.array([1,0,1,0])\n",
    "\n",
    "C = np.array([1,0,1,0,M[0] + M[1] + M[3], M[0] + M[2] + M[3], M[1] + M[2] + M[3]])\n",
    "              \n",
    "E = np.array([0,1,0,0,0,0,0])             \n",
    "              \n",
    "       \n",
    "B = C + E        \n",
    "\n",
    "print( np.dot(H,B)%2 )\n",
    "\n",
    "print( np.dot(H,C)%2 )\n",
    "\n"
   ]
  },
  {
   "cell_type": "code",
   "execution_count": null,
   "id": "dd76068b",
   "metadata": {},
   "outputs": [],
   "source": []
  }
 ],
 "metadata": {
  "kernelspec": {
   "display_name": "Python 3",
   "language": "python",
   "name": "python3"
  },
  "language_info": {
   "codemirror_mode": {
    "name": "ipython",
    "version": 3
   },
   "file_extension": ".py",
   "mimetype": "text/x-python",
   "name": "python",
   "nbconvert_exporter": "python",
   "pygments_lexer": "ipython3",
   "version": "3.8.6"
  }
 },
 "nbformat": 4,
 "nbformat_minor": 5
}
