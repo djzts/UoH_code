{
 "cells": [
  {
   "cell_type": "code",
   "execution_count": 1,
   "metadata": {},
   "outputs": [
    {
     "name": "stdout",
     "output_type": "stream",
     "text": [
      "[25, 4, 22, 3, 22, 15, 19, 5, 19, 21, 12, 8, 4]\n"
     ]
    }
   ],
   "source": [
    "a = ['c','a','s','h','n','o','t','n','e','e','d','e','d']\n",
    "b = ['b','e','o','k','j','d','m','s','x','z','p','m','h']\n",
    "A = [ord(x) %32 for x in a]\n",
    "B = [ord(x) %32 for x in b]\n",
    "result = [(y-x) % 26 for x, y in zip(A,B)]\n",
    "print(result)"
   ]
  },
  {
   "cell_type": "code",
   "execution_count": null,
   "metadata": {},
   "outputs": [],
   "source": []
  }
 ],
 "metadata": {
  "kernelspec": {
   "display_name": "Python 3",
   "language": "python",
   "name": "python3"
  },
  "language_info": {
   "codemirror_mode": {
    "name": "ipython",
    "version": 3
   },
   "file_extension": ".py",
   "mimetype": "text/x-python",
   "name": "python",
   "nbconvert_exporter": "python",
   "pygments_lexer": "ipython3",
   "version": "3.8.6"
  }
 },
 "nbformat": 4,
 "nbformat_minor": 4
}
