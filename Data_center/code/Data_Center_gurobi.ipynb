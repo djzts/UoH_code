{
 "cells": [
  {
   "cell_type": "code",
   "execution_count": 349,
   "id": "a5f47ea7",
   "metadata": {},
   "outputs": [
    {
     "data": {
      "text/html": [
       "<style>.container { width:100% !important; }</style>"
      ],
      "text/plain": [
       "<IPython.core.display.HTML object>"
      ]
     },
     "metadata": {},
     "output_type": "display_data"
    },
    {
     "data": {
      "text/html": [
       "<style>.container { width:100% !important; }</style>"
      ],
      "text/plain": [
       "<IPython.core.display.HTML object>"
      ]
     },
     "metadata": {},
     "output_type": "display_data"
    },
    {
     "name": "stdout",
     "output_type": "stream",
     "text": [
      "[[0. 1. 0. 1. 0. 0. 0. 0. 0.]\n",
      " [1. 0. 1. 0. 1. 0. 0. 0. 0.]\n",
      " [0. 1. 0. 0. 0. 1. 0. 0. 0.]\n",
      " [1. 0. 0. 0. 1. 0. 1. 0. 0.]\n",
      " [0. 1. 0. 1. 0. 1. 0. 1. 0.]\n",
      " [0. 0. 1. 0. 1. 0. 0. 0. 1.]\n",
      " [0. 0. 0. 1. 0. 0. 0. 1. 0.]\n",
      " [0. 0. 0. 0. 1. 0. 1. 0. 1.]\n",
      " [0. 0. 0. 0. 0. 1. 0. 1. 0.]]\n",
      "[[31 30 29 32 26 26 30 24 27]]\n"
     ]
    }
   ],
   "source": [
    "import numpy as np\n",
    "from collections import defaultdict\n",
    "import random\n",
    "from numpy import random\n",
    "from IPython.core.display import display, HTML\n",
    "display(HTML(\"<style>.container { width:100% !important; }</style>\"))\n",
    "%run Data_Center_setup.ipynb\n",
    "\n",
    "from collections import defaultdict\n",
    "\n",
    "import gurobipy as gp\n",
    "from gurobipy import GRB\n",
    "from gurobipy import*\n",
    "from gurobipy import quicksum\n",
    "\n",
    "print(adjacent_zone_map)\n",
    "print(T_zone_initial.reshape(1, -1))"
   ]
  },
  {
   "cell_type": "markdown",
   "id": "a3e2c940",
   "metadata": {},
   "source": [
    "$$\n",
    "\\begin{equation*}\n",
    "\\begin{array}{lll}\n",
    "&\\displaystyle \\min_{\\substack{\n",
    "u^{\\text{dis}}_{t},\\ u^{\\text{chr}}_{t},p^{\\text{dis}}_{t},\\ p^{\\text{chr}}_{t},x^{\\text{chiller}}_{j,t},\\ x^{\\text{tower}}_{j,t} \\\\\n",
    "T_{i,t}^{\\text{Zone}},\\ T_{i,t+1}^{\\text{Zone}} ,T_{i,t}^{\\text{sup}},\\ v^{\\text{vent}}_{t} \\\\}} \n",
    "\\sum_{t=0}^{T}p^{e,g}_{t} e^{\\text{dc,in}}_{t} & \\\\\n",
    "s.t.\\quad &e^{\\text{dc,in}}_{t} = E^{\\text{HVAC}}_t + E^{\\text{Se}}_{t} +\\Delta E^{\\text{B}}_{t} - E^{\\text{Solar}}_{t} & \\forall  t \\in \\mathbf{T}\\\\\n",
    "&e^{\\text{dc,in}}_{t} \\geq 0 & \\forall t \\in \\mathbf{T}\\\\\n",
    "& \\Delta E^{\\text{B}}_{t} = p^{\\text{chr}}_{t}\\eta^{\\text{chr}} - p^{\\text{dis}}_{t} \\cdot (\\eta^{\\text{dis}})^{-1} & \\forall  t \\in \\mathbf{T}\\\\ \n",
    "& E^{\\text{B,state}}_{t+1} = E^{\\text{B,state}}_{t} + \\Delta E^{\\text{B}}_{t} & \\forall  t \\in \\mathbf{T} \\\\\n",
    "& \\underline{\\xi^{\\text{B}}} \\leq E^{\\text{B,state}}_{t} \\leq \\overline{\\xi^{\\text{B}}} & \\forall  t \\in \\mathbf{T} \\\\\n",
    "& p^{\\text{chr}}_{t} \\leq \\overline{p^{\\text{chr}}_{t}} \\cdot u^{\\text{chr}}_{t} & \\forall  t \\in \\mathbf{T}\\\\\n",
    "& p^{\\text{dis}}_{t} \\leq \\overline{p^{\\text{dis}}_{t}} \\cdot u^{\\text{dis}}_{t} & \\forall  t \\in \\mathbf{T}\\\\\n",
    "& u^{\\text{chr}}_{t} + u^{\\text{dis}}_{t} \\leq 1 & \\forall  t \\in \\mathbf{T}\\\\\n",
    "&T^{\\text{Zone}}_{i,t+1} = T^{\\text{Zone}}_{i,t} \n",
    "+ \\displaystyle\\sum_{i^{\\prime} \\in  \\mathcal{N}\\left(i\\right)} \n",
    "\\left(\\frac{T_{i^{\\prime},t}^{\\text{Zone}} - T_{i,t}^{\\text{Zone}}}\n",
    "{C^{\\text{heat}}_{i}R^{\\text{Zone}}_{i^{\\prime}i}}\\right)\n",
    "+ \\frac{\\dot{m}_{i} c_{a}\\left(T_{i,t}^{\\text{sup}} - T_{i,t}^{\\text{Zone}}\\right) \n",
    "+ \\theta_{i,t}}{C^{\\text{heat}}_{i}} & \\forall i \\in \\mathbf{I}^{\\text{Zone}}, t \\in \\mathbf{T}\\\\\n",
    "&T_{i,t}^{-} \\leq T^{\\text{Zone}}_{i,t} \\leq T_{i,t}^{+}, & \\forall i \\in \\mathbf{I}^{\\text{Zone}}, t \\in \\mathbf{T} \\\\\n",
    "&v^{\\text{vent}}_t + v^{\\text{out}}_t \\geq \\underline{v}^{\\text{vent}}_t & \\forall  t \\in \\mathbf{T}\\\\\n",
    "&L^{\\text{heat}}_{t} = \\left(T^{\\text{out}}_{t}-T^{\\text{sup}}_{t}\\right)\\cdot v^{\\text{out}}_{t} c^{\\text{air}}_p + \\left(\\displaystyle \\sum_{i \\in \\mathbf{I}^{\\text{Zone}} }{\\chi_{i}T^{\\text{Zone}}_{i,t}}-T^{\\text{sup}}_{t}\\right)\\cdot \\left(v^{\\text{sup}} - v^{\\text{out}}_t\\right) c^{\\text{air}}_p & \\forall t \\in \\mathbf{T}\\\\\n",
    "&\\displaystyle \\sum_{j \\in \\mathbf{J}^{\\text{chiller}}} x^{\\text{chiller}}_{j,t}m^{\\text{chiller}}_{j,t} \\geq \\frac{\\left(T^{\\text{out}}_{t}-T^{\\text{sup}}_{t}\\right)\\cdot v^{\\text{out}}_{t} c^{\\text{air}}_p + \\left(\\displaystyle \\sum_{i \\in \\mathbf{I}^{\\text{Zone}} }{\\chi_{i}T^{\\text{Zone}}_{i,t}}-T^{\\text{sup}}_{t}\\right)\\cdot \\left(v^{\\text{sup}} - v^{\\text{out}}_t\\right) c^{\\text{air}}_p}\n",
    "{\\left(T^{\\text{chwr}}_{t}-T^{\\text{chws}}_{t}\\right)\\cdot c^{\\text{water}}_p}  & \\forall t \\in \\mathbf{T}\\\\\n",
    "&\\displaystyle \\sum_{j \\in \\mathbf{J}^{\\text{tower}}}{x^{\\text{tower}}_{j,t}m^{\\text{tower}}_{j,t}} \\geq \\frac{\\left(T^{\\text{out}}_{t}-T^{\\text{sup}}_{t}\\right)\\cdot v^{\\text{out}}_{t} c^{\\text{air}}_p + \\left(\\displaystyle \\sum_{i \\in \\mathbf{I}^{\\text{Zone}} }{\\chi_{i}T^{\\text{Zone}}_{i,t}}-T^{\\text{sup}}_{t}\\right)\\cdot \\left(v^{\\text{sup}} - v^{\\text{out}}_t\\right) c^{\\text{air}}_p }\n",
    "{\\left(T^{\\text{conwr}}_{t}-T^{\\text{conws}}_{t}\\right)\\cdot  c^{\\text{water}}_p }  & \\forall t \\in \\mathbf{T}\\\\\n",
    "&e^{\\text{vent}}_{t}=\\beta^{\\text{vent}}_{0}+\\beta^{\\text{vent}}_{1}\\left(v^{\\text{vent}}_t-\\underline{v}^{\\text{vent}}\\right) \n",
    "& \\forall t \\in \\mathbf{T}\\\\\n",
    "&e^{\\text{chiller}}_{t}=\\displaystyle\\sum_{j \\in \\mathbf{J}^{\\text{chiller}}}x^{\\text{chiller}}_{j,t}\\left(\\beta^{\\text{chiller}}_{0,j}\n",
    " + \\beta^{\\text{chiller}}_{1,j}m^{\\text{chiller}}_{j,t}\\right) & \\forall t \\in \\mathbf{T}\\\\\n",
    "&e^{\\text {pump }}_{t}=\\beta^{\\text{pump}}_{0}+\\beta^{\\text{pump}}_{1} \\frac{\\left(T^{\\text{out}}_{t}-T^{\\text{sup}}_{t}\\right)\\cdot v^{\\text{out}}_{t} c^{\\text{air}}_p + \\left(\\displaystyle \\sum_{i \\in \\mathbf{I}^{\\text{Zone}} }{\\chi_{i}T^{\\text{Zone}}_{i,t}}-T^{\\text{sup}}_{t}\\right)\\cdot \\left(v^{\\text{sup}} - v^{\\text{out}}_t\\right) c^{\\text{air}}_p}\n",
    "{\\left(T^{\\text{chwr}}_{t}-T^{\\text{chws}}_{t}\\right)\\cdot c^{\\text{water}}_p}  & \\forall t \\in \\mathbf{T}\\\\\n",
    "&e^{\\text{tower}}_{t} = \\displaystyle\\sum_{j \\in \\mathbf{J}^{\\text{tower}}}x^{\\text{tower}}_{j,t} \\left(\\beta^{\\text{tower}}_{0,j} + \\beta^{\\text{tower}}_{1,j}m^{\\text{tower}}_{j,t}\\right) & \\forall t \\in \\mathbf{T}\\\\\n",
    "&E^{\\text{HVAC}}_{t} =  e^{\\text{sup}}_{t} + e^{\\text{vent}}_{t}+ e^{\\text{chiller}}_{t} + e^{\\text{pump}}_{t} + e^{\\text{tower}}_{t} & \\forall  t \\in \\mathbf{T}\\\\\n",
    "\\end{array}\n",
    "\\end{equation*}\n",
    "$$"
   ]
  },
  {
   "cell_type": "code",
   "execution_count": null,
   "id": "18f6a29b",
   "metadata": {},
   "outputs": [],
   "source": []
  },
  {
   "cell_type": "code",
   "execution_count": 350,
   "id": "b609f977",
   "metadata": {},
   "outputs": [
    {
     "data": {
      "text/plain": [
       "array([1, 2, 3, 4])"
      ]
     },
     "execution_count": 350,
     "metadata": {},
     "output_type": "execute_result"
    }
   ],
   "source": [
    "\n",
    "p_eg"
   ]
  },
  {
   "cell_type": "code",
   "execution_count": 460,
   "id": "a4ea48f7",
   "metadata": {},
   "outputs": [
    {
     "data": {
      "text/html": [
       "<style>.container { width:100% !important; }</style>"
      ],
      "text/plain": [
       "<IPython.core.display.HTML object>"
      ]
     },
     "metadata": {},
     "output_type": "display_data"
    },
    {
     "name": "stdout",
     "output_type": "stream",
     "text": [
      "Gurobi Optimizer version 9.5.0 build v9.5.0rc5 (win64)\n",
      "Thread count: 12 physical cores, 24 logical processors, using up to 24 threads\n",
      "Optimize a model with 234 rows, 162 columns and 642 nonzeros\n",
      "Model fingerprint: 0x4de494a4\n",
      "Variable types: 102 continuous, 60 integer (60 binary)\n",
      "Coefficient statistics:\n",
      "  Matrix range     [3e-03, 2e+02]\n",
      "  Objective range  [2e+02, 8e+02]\n",
      "  Bounds range     [1e+00, 1e+00]\n",
      "  RHS range        [1e+00, 7e+03]\n",
      "Presolve removed 205 rows and 107 columns\n",
      "Presolve time: 0.00s\n",
      "Presolved: 29 rows, 55 columns, 195 nonzeros\n",
      "Variable types: 50 continuous, 5 integer (4 binary)\n",
      "Found heuristic solution: objective 1.507780e+07\n",
      "\n",
      "Root relaxation: objective 1.464232e+07, 36 iterations, 0.00 seconds (0.00 work units)\n",
      "\n",
      "    Nodes    |    Current Node    |     Objective Bounds      |     Work\n",
      " Expl Unexpl |  Obj  Depth IntInf | Incumbent    BestBd   Gap | It/Node Time\n",
      "\n",
      "     0     0 1.4642e+07    0    3 1.5078e+07 1.4642e+07  2.89%     -    0s\n",
      "H    0     0                    1.483456e+07 1.4642e+07  1.30%     -    0s\n",
      "H    0     0                    1.483122e+07 1.4642e+07  1.27%     -    0s\n",
      "H    0     0                    1.480662e+07 1.4642e+07  1.11%     -    0s\n",
      "H    0     0                    1.480475e+07 1.4642e+07  1.10%     -    0s\n",
      "\n",
      "Cutting planes:\n",
      "  Gomory: 1\n",
      "\n",
      "Explored 1 nodes (36 simplex iterations) in 0.02 seconds (0.00 work units)\n",
      "Thread count was 24 (of 24 available processors)\n",
      "\n",
      "Solution count 3: 1.48047e+07 1.48312e+07 1.50778e+07 \n",
      "\n",
      "Optimal solution found (tolerance 1.00e-04)\n",
      "Best objective 1.480474643592e+07, best bound 1.480474643592e+07, gap 0.0000%\n"
     ]
    }
   ],
   "source": [
    "%run Data_Center_setup.ipynb\n",
    "# create one model instance, with a name\n",
    "DCMG = gp.Model(\"Data_center_model\")\n",
    "\n",
    "# continuous decision variables\n",
    "# charging and discharging of battery rate\n",
    "p_char = DCMG.addVars(T, vtype=GRB.CONTINUOUS, name='p_char')\n",
    "p_dis = DCMG.addVars(T, vtype=GRB.CONTINUOUS, name='p_char')\n",
    "\n",
    "# zone i AC temperature\n",
    "Temp_AC = DCMG.addVars(I_zone, T, vtype=GRB.CONTINUOUS, name='Temp_sup')\n",
    "\n",
    "# ventilation air flow rate\n",
    "v_vent = DCMG.addVars(T, vtype=GRB.CONTINUOUS, name='v_vent')\n",
    "\n",
    "# continuous state variables\n",
    "# room air temperature\n",
    "Temp_Zone = DCMG.addVars(I_zone, T + 1, vtype=GRB.CONTINUOUS, name='Temp_zone')\n",
    "\n",
    "# battery state \n",
    "Battery_state = DCMG.addVars(T + 1, vtype=GRB.CONTINUOUS, name='Battery_state')\n",
    "\n",
    "# eletricity demand\n",
    "e_in = DCMG.addVars(T, vtype=GRB.CONTINUOUS, name='e_in')\n",
    "\n",
    "# binary continuous variables\n",
    "# charging and discharging of battery state\n",
    "u_char = DCMG.addVars(T, vtype=GRB.BINARY, name='u_char')\n",
    "u_dis = DCMG.addVars(T, vtype=GRB.BINARY, name='u_dis')\n",
    "\n",
    "# chiller and tower on/off state\n",
    "x_chiller = DCMG.addVars(J_chiller, T, vtype=GRB.BINARY, name='x_chiller')\n",
    "x_tower = DCMG.addVars(J_tower, T, vtype=GRB.BINARY, name='x_tower')\n",
    "\n",
    "# objective function\n",
    "DCMG.setObjective(quicksum( e_in[t] * p_eg[t] for t in range(T)), GRB.MINIMIZE)\n",
    "\n",
    "# constarint 1\n",
    "for t in range(T):\n",
    "    DCMG.addConstr(e_in[t] == e_server[t] + p_char[t] * eta_char_b - p_dis[t] * eta_dischar_b - e_solar[t] + e_sup[t] + \\\n",
    "                      beta_vent_0 + beta_vent_1 * (v_vent[t] - v_vent_startup)  + \\\n",
    "                      quicksum(x_chiller[j,t] * (beta_chiller_0[j] +  beta_chiller_1[j] * M_chiller_rated[j]) for j in range(J_chiller)) + \\\n",
    "                      quicksum(x_tower[j,t] * (beta_tower_0[j] +  beta_tower_1[j] * M_tower_rated[j]) for j in range(J_tower)) + \\\n",
    "                      beta_pump_0 + beta_pump_1 / (C_water * (T_chiller_water_return[t] - T_chiller_water_supply[t])) * \\\n",
    "                      ((T_out[t] -  quicksum(Chi[t] * Temp_Zone[i,t] for i in range(I_zone)) ) * v_out[t] * c_s_air  + \\\n",
    "                      quicksum(Chi[i] * (Temp_Zone[i,t] - Temp_AC[i,t]) for i in range(I_zone)) * (v_sup[t] - v_out[t]) * c_s_air)  )  \n",
    "    \n",
    "# constarint 2\n",
    "for t in range(T):\n",
    "    DCMG.addConstr(e_in[t] >= 0)\n",
    "\n",
    "# constarint 3\n",
    "DCMG.addConstr(Battery_state[0] == 0.5 * Battery_capacity)\n",
    "   \n",
    "# constarint 3.5\n",
    "for t in range(T):\n",
    "    DCMG.addConstr(Battery_state[t + 1] == Battery_state[t] + p_char[t] * eta_char_b - p_dis[t] * eta_dischar_b)\n",
    "    DCMG.addConstr(Battery_state[t + 1] >= Battery_capacity_lowbound)\n",
    "    DCMG.addConstr(Battery_state[t + 1] <= Battery_capacity_upbound)\n",
    "    \n",
    "    \n",
    "# constarint 4 & 5\n",
    "for t in range(T):\n",
    "    DCMG.addConstr(p_char[t] <= char_b_upperbound * u_char[t])\n",
    "    DCMG.addConstr(p_dis[t] <= dis_b_upperbound * u_dis[t])\n",
    "\n",
    "# constarint 6\n",
    "for t in range(T):\n",
    "    DCMG.addConstr(u_char[t] + u_dis[t] <= 1)\n",
    "     \n",
    "# constarint 7 & 7.5 \n",
    "for i in range(I_zone):\n",
    "    #print(i // I_zone_length, i % I_zone_length)\n",
    "    DCMG.addConstr( Temp_Zone[i,0] == T_zone_initial [i // I_zone_length, i % I_zone_length] )  # unit: C\n",
    "    #print(T_zone_initial)\n",
    "    \n",
    "for i in range(I_zone):\n",
    "    for t in range(T):\n",
    "        DCMG.addConstr( Temp_Zone[i, t + 1] ==  Temp_Zone[i,t] + quicksum(adjacency * (Temp_Zone[node,t] - Temp_Zone[i,t])  for node, adjacency in enumerate(adjacent_zone_map[i,:]) if node != i)/\\\n",
    "        (C_air_room[i // I_zone_length, i % I_zone_length] * R_air_ij) + (m_air_in[i,t] * c_s_air * (Temp_AC[i,t] - Temp_Zone[i,t]) + theta_heat[i,t]) / (C_air_room[i // I_zone_length, i % I_zone_length]) )\n",
    "\n",
    "\n",
    "# constarint 8 & 8.5\n",
    "for t in range(1, T + 1):\n",
    "    for i in range(I_zone):\n",
    "        DCMG.addConstr(Temp_Zone[i,t] >= T_datacenter_lowerbound[i,t-1])\n",
    "        DCMG.addConstr(Temp_Zone[i,t] <= T_datacenter_upperbound[i,t-1])\n",
    "        \n",
    "\n",
    "# constarint 9 & 9.5\n",
    "for t in range(T):\n",
    "    DCMG.addConstr(v_vent[t] + v_out[t] >= v_vent_lowerbound[t])\n",
    "\n",
    "# constarint 10\n",
    "for t in range(T):\n",
    "    DCMG.addConstr(quicksum( x_chiller[j,t] * M_chiller_rated[j] for j in range(J_chiller)) >= \\\n",
    "    ((T_out[t] -  quicksum(Chi[t] * Temp_Zone[i,t] for i in range(I_zone))) * v_out[t] * c_s_air + \\\n",
    "    quicksum(Chi[i] * (Temp_Zone[i,t] - Temp_AC[i,t]) for i in range(I_zone)) * (v_sup[t] - v_out[t]) * c_s_air)/ \\\n",
    "    (T_chiller_water_return[t] - T_chiller_water_supply[t])/C_water)\n",
    "    \n",
    "# constarint 11 \n",
    "for t in range(T):\n",
    "    DCMG.addConstr(quicksum( x_tower[j,t] * M_tower_rated[j] for j in range(J_tower)) >= \\\n",
    "    ((T_out[t] -  quicksum(Chi[t] * Temp_Zone[i,t] for i in range(I_zone))) * v_out[t] * c_s_air + \\\n",
    "    quicksum(Chi[i] * (Temp_Zone[i,t] - Temp_AC[i,t]) for i in range(I_zone)) * (v_sup[t] - v_out[t]) * c_s_air)/ \\\n",
    "    (T_tower_water_return[t] - T_tower_water_supply[t])/C_water )\n",
    "\n",
    "    \n",
    "# constarint 12(added)\n",
    "for i in range(I_zone):\n",
    "    for t in range(T):\n",
    "        DCMG.addConstr(Temp_AC[i,t] >= T_AC_lowerbound[i,t])\n",
    "        DCMG.addConstr(Temp_AC[i,t] <= T_AC_upperbound[i,t])\n",
    "\n",
    "DCMG_sol = DCMG.optimize()\n",
    "#assert DCMG_sol\n",
    "#DCMG.display()"
   ]
  },
  {
   "cell_type": "code",
   "execution_count": 464,
   "id": "9f758567",
   "metadata": {},
   "outputs": [
    {
     "name": "stdout",
     "output_type": "stream",
     "text": [
      "Obj: 1.48047e+07\n",
      "2\n"
     ]
    }
   ],
   "source": [
    "u_sol = DCMG.getVars()\n",
    "print('Obj: %g' % DCMG.ObjVal)\n",
    "\n",
    "print(DCMG.getAttr(GRB.Attr.Status))"
   ]
  },
  {
   "cell_type": "code",
   "execution_count": null,
   "id": "93e7c8e7",
   "metadata": {},
   "outputs": [],
   "source": []
  },
  {
   "cell_type": "code",
   "execution_count": null,
   "id": "956e933c",
   "metadata": {},
   "outputs": [],
   "source": []
  },
  {
   "cell_type": "code",
   "execution_count": null,
   "id": "2063734e",
   "metadata": {},
   "outputs": [],
   "source": []
  },
  {
   "cell_type": "code",
   "execution_count": 458,
   "id": "2458f781",
   "metadata": {},
   "outputs": [
    {
     "data": {
      "text/html": [
       "<style>.container { width:100% !important; }</style>"
      ],
      "text/plain": [
       "<IPython.core.display.HTML object>"
      ]
     },
     "metadata": {},
     "output_type": "display_data"
    },
    {
     "data": {
      "text/plain": [
       "'\\nt = 0\\n\\nprint(C_air_room)\\nprint(T_zone_initial)\\n\\nfor i in range(9):\\n    print(T_zone_initial[i // I_zone_length, i % I_zone_length] +         sum(adjacency * (T_zone_initial[node // I_zone_length , node % I_zone_length] -        T_zone_initial[i // I_zone_length, i % I_zone_length])  for node, adjacency in enumerate(adjacent_zone_map[i,:]) if node != i)/(C_air_room[i // I_zone_length, i % I_zone_length] * R_air_ij) \\n        +\\n        (m_air_in[i,t] * c_s_air * (12 - T_zone_initial[i // I_zone_length, i % I_zone_length]) + theta_heat[i,t]) / (C_air_room[i // I_zone_length, i % I_zone_length]))\\n    \\n    #print()\\n'"
      ]
     },
     "execution_count": 458,
     "metadata": {},
     "output_type": "execute_result"
    }
   ],
   "source": [
    "%run Data_Center_setup.ipynb\n",
    "'''\n",
    "t = 0\n",
    "\n",
    "print(C_air_room)\n",
    "print(T_zone_initial)\n",
    "\n",
    "for i in range(9):\n",
    "    print(T_zone_initial[i // I_zone_length, i % I_zone_length] + \\\n",
    "        sum(adjacency * (T_zone_initial[node // I_zone_length , node % I_zone_length] -\\\n",
    "        T_zone_initial[i // I_zone_length, i % I_zone_length])  for node, adjacency in enumerate(adjacent_zone_map[i,:]) if node != i)/(C_air_room[i // I_zone_length, i % I_zone_length] * R_air_ij) \n",
    "        +\n",
    "        (m_air_in[i,t] * c_s_air * (12 - T_zone_initial[i // I_zone_length, i % I_zone_length]) + theta_heat[i,t]) / (C_air_room[i // I_zone_length, i % I_zone_length]))\n",
    "    \n",
    "    #print()\n",
    "''' \n",
    "    \n",
    " "
   ]
  },
  {
   "cell_type": "code",
   "execution_count": 459,
   "id": "148c5dee",
   "metadata": {},
   "outputs": [],
   "source": [
    "#(m_air_in[i,t] * c_s_air * (26 - T_zone_initial[i // I_zone_length, i % I_zone_length]) + theta_heat[i,t]) / (C_air_room[i // I_zone_length, i % I_zone_length])"
   ]
  },
  {
   "cell_type": "code",
   "execution_count": 380,
   "metadata": {},
   "outputs": [
    {
     "data": {
      "text/plain": [
       "63.39256152742522"
      ]
     },
     "execution_count": 380,
     "metadata": {},
     "output_type": "execute_result"
    }
   ],
   "source": [
    "#t = 0\n",
    "#((T_out[t] -  sum(Chi[t] * T_zone_initial[i // I_zone_length, i % I_zone_length] for i in range(I_zone))) * v_out[t] * c_s_air + \\\n",
    "#    sum(Chi[i] * (T_zone_initial[i // I_zone_length, i % I_zone_length] - 26) for i in range(I_zone)) * (v_sup[t] - v_out[t]) * c_s_air)/ \\\n",
    "#    ((T_tower_water_return[t] - T_tower_water_supply[t])*C_water)"
   ]
  },
  {
   "cell_type": "code",
   "execution_count": 381,
   "id": "b88b385e",
   "metadata": {},
   "outputs": [
    {
     "data": {
      "text/plain": [
       "82.41032998565278"
      ]
     },
     "execution_count": 381,
     "metadata": {},
     "output_type": "execute_result"
    }
   ],
   "source": [
    "##((T_out[t] -  sum(Chi[t] * T_zone_initial[i // I_zone_length, i % I_zone_length] for i in range(I_zone))) * v_out[t] * c_s_air + \\\n",
    "#    sum(Chi[i] * (T_zone_initial[i // I_zone_length, i % I_zone_length] - 26) for i in range(I_zone)) * (v_sup[t] - v_out[t]) * c_s_air)/ \\\n",
    "#    ((T_chiller_water_return[t] - T_chiller_water_supply[t])*C_water)"
   ]
  },
  {
   "cell_type": "code",
   "execution_count": 454,
   "id": "2a65b19b",
   "metadata": {},
   "outputs": [
    {
     "name": "stdout",
     "output_type": "stream",
     "text": [
      "Gurobi Optimizer version 9.5.0 build v9.5.0rc5 (win64)\n",
      "Thread count: 12 physical cores, 24 logical processors, using up to 24 threads\n",
      "Optimize a model with 234 rows, 162 columns and 642 nonzeros\n",
      "Model fingerprint: 0xeec75a22\n",
      "Variable types: 102 continuous, 60 integer (60 binary)\n",
      "Coefficient statistics:\n",
      "  Matrix range     [3e-03, 2e+02]\n",
      "  Objective range  [2e+02, 8e+02]\n",
      "  Bounds range     [1e+00, 1e+00]\n",
      "  RHS range        [1e+00, 7e+03]\n",
      "Presolve removed 199 rows and 100 columns\n",
      "Presolve time: 0.00s\n",
      "Presolved: 35 rows, 62 columns, 224 nonzeros\n",
      "Variable types: 54 continuous, 8 integer (2 binary)\n",
      "Found heuristic solution: objective 1.298699e+07\n",
      "\n",
      "Root relaxation: objective 1.283252e+07, 39 iterations, 0.00 seconds (0.00 work units)\n",
      "\n",
      "    Nodes    |    Current Node    |     Objective Bounds      |     Work\n",
      " Expl Unexpl |  Obj  Depth IntInf | Incumbent    BestBd   Gap | It/Node Time\n",
      "\n",
      "     0     0 1.2833e+07    0    5 1.2987e+07 1.2833e+07  1.19%     -    0s\n",
      "     0     0 1.2987e+07    0    4 1.2987e+07 1.2987e+07  0.00%     -    0s\n",
      "\n",
      "Cutting planes:\n",
      "  Gomory: 2\n",
      "  MIR: 7\n",
      "\n",
      "Explored 1 nodes (45 simplex iterations) in 0.02 seconds (0.00 work units)\n",
      "Thread count was 24 (of 24 available processors)\n",
      "\n",
      "Solution count 1: 1.2987e+07 \n",
      "\n",
      "Optimal solution found (tolerance 1.00e-04)\n",
      "Best objective 1.298698864977e+07, best bound 1.298698864977e+07, gap 0.0000%\n"
     ]
    }
   ],
   "source": []
  },
  {
   "cell_type": "code",
   "execution_count": 455,
   "id": "cfd005df",
   "metadata": {},
   "outputs": [
    {
     "name": "stdout",
     "output_type": "stream",
     "text": [
      "Obj: 1.2987e+07\n",
      "2\n"
     ]
    },
    {
     "data": {
      "text/plain": [
       "{(0, 0): <gurobi.Var x_tower[0,0] (value 1.0)>,\n",
       " (0, 1): <gurobi.Var x_tower[0,1] (value 0.0)>,\n",
       " (0, 2): <gurobi.Var x_tower[0,2] (value 0.0)>,\n",
       " (0, 3): <gurobi.Var x_tower[0,3] (value 0.0)>,\n",
       " (1, 0): <gurobi.Var x_tower[1,0] (value 1.0)>,\n",
       " (1, 1): <gurobi.Var x_tower[1,1] (value 0.0)>,\n",
       " (1, 2): <gurobi.Var x_tower[1,2] (value 1.0)>,\n",
       " (1, 3): <gurobi.Var x_tower[1,3] (value 0.0)>,\n",
       " (2, 0): <gurobi.Var x_tower[2,0] (value 0.0)>,\n",
       " (2, 1): <gurobi.Var x_tower[2,1] (value 1.0)>,\n",
       " (2, 2): <gurobi.Var x_tower[2,2] (value 0.0)>,\n",
       " (2, 3): <gurobi.Var x_tower[2,3] (value 1.0)>,\n",
       " (3, 0): <gurobi.Var x_tower[3,0] (value 0.0)>,\n",
       " (3, 1): <gurobi.Var x_tower[3,1] (value 0.0)>,\n",
       " (3, 2): <gurobi.Var x_tower[3,2] (value 0.0)>,\n",
       " (3, 3): <gurobi.Var x_tower[3,3] (value 1.0)>,\n",
       " (4, 0): <gurobi.Var x_tower[4,0] (value 0.0)>,\n",
       " (4, 1): <gurobi.Var x_tower[4,1] (value 0.0)>,\n",
       " (4, 2): <gurobi.Var x_tower[4,2] (value 0.0)>,\n",
       " (4, 3): <gurobi.Var x_tower[4,3] (value 0.0)>,\n",
       " (5, 0): <gurobi.Var x_tower[5,0] (value 0.0)>,\n",
       " (5, 1): <gurobi.Var x_tower[5,1] (value 0.0)>,\n",
       " (5, 2): <gurobi.Var x_tower[5,2] (value 0.0)>,\n",
       " (5, 3): <gurobi.Var x_tower[5,3] (value 0.0)>,\n",
       " (6, 0): <gurobi.Var x_tower[6,0] (value 0.0)>,\n",
       " (6, 1): <gurobi.Var x_tower[6,1] (value 0.0)>,\n",
       " (6, 2): <gurobi.Var x_tower[6,2] (value 1.0)>,\n",
       " (6, 3): <gurobi.Var x_tower[6,3] (value 0.0)>,\n",
       " (7, 0): <gurobi.Var x_tower[7,0] (value 0.0)>,\n",
       " (7, 1): <gurobi.Var x_tower[7,1] (value 1.0)>,\n",
       " (7, 2): <gurobi.Var x_tower[7,2] (value 0.0)>,\n",
       " (7, 3): <gurobi.Var x_tower[7,3] (value 0.0)>}"
      ]
     },
     "execution_count": 455,
     "metadata": {},
     "output_type": "execute_result"
    }
   ],
   "source": [
    "u_sol = DCMG.getVars()\n",
    "print('Obj: %g' % DCMG.ObjVal)\n",
    "\n",
    "print(DCMG.getAttr(GRB.Attr.Status))\n",
    "\n",
    "x_tower"
   ]
  },
  {
   "cell_type": "code",
   "execution_count": 465,
   "id": "cfb93605",
   "metadata": {},
   "outputs": [
    {
     "name": "stdout",
     "output_type": "stream",
     "text": [
      "x_chiller[0,0] 1\n",
      "x_chiller[0,1] 1\n",
      "x_chiller[0,2] 1\n",
      "x_chiller[0,3] 1\n",
      "x_chiller[1,0] 1\n",
      "x_chiller[1,1] 1\n",
      "x_chiller[1,2] 1\n",
      "x_chiller[1,3] -0\n",
      "x_chiller[2,0] 1\n",
      "x_chiller[2,1] 1\n",
      "x_chiller[2,2] -0\n",
      "x_chiller[2,3] 1\n",
      "x_chiller[3,0] 1\n",
      "x_chiller[3,1] 1\n",
      "x_chiller[3,2] 1\n",
      "x_chiller[3,3] 1\n",
      "x_chiller[4,0] 1\n",
      "x_chiller[4,1] 1\n",
      "x_chiller[4,2] 1\n",
      "x_chiller[4,3] 1\n",
      "x_tower[0,0] 1\n",
      "x_tower[0,1] 0\n",
      "x_tower[0,2] 1\n",
      "x_tower[0,3] 0\n",
      "x_tower[1,0] 0\n",
      "x_tower[1,1] 0\n",
      "x_tower[1,2] 0\n",
      "x_tower[1,3] 0\n",
      "x_tower[2,0] 0\n",
      "x_tower[2,1] 1\n",
      "x_tower[2,2] 0\n",
      "x_tower[2,3] 1\n",
      "x_tower[3,0] 0\n",
      "x_tower[3,1] 0\n",
      "x_tower[3,2] 1\n",
      "x_tower[3,3] 0\n",
      "x_tower[4,0] 1\n",
      "x_tower[4,1] 0\n",
      "x_tower[4,2] 1\n",
      "x_tower[4,3] 0\n",
      "x_tower[5,0] 0\n",
      "x_tower[5,1] 1\n",
      "x_tower[5,2] 0\n",
      "x_tower[5,3] 0\n",
      "x_tower[6,0] 0\n",
      "x_tower[6,1] 1\n",
      "x_tower[6,2] 0\n",
      "x_tower[6,3] 1\n",
      "x_tower[7,0] 1\n",
      "x_tower[7,1] 0\n",
      "x_tower[7,2] 0\n",
      "x_tower[7,3] 1\n"
     ]
    }
   ],
   "source": [
    "\n",
    "for v in u_sol:\n",
    "    if v.VarName.split(\"_\")[0] == \"x\":\n",
    "        print('%s %g' % (v.VarName, v.X))\n",
    "\n"
   ]
  },
  {
   "cell_type": "code",
   "execution_count": 466,
   "id": "fb45da54",
   "metadata": {},
   "outputs": [
    {
     "name": "stdout",
     "output_type": "stream",
     "text": [
      "Temp_sup[0,0] 11.3625\n",
      "Temp_sup[0,1] 16.2625\n",
      "Temp_sup[0,2] 16.2625\n",
      "Temp_sup[0,3] 16.2625\n",
      "Temp_sup[1,0] 12.7833\n",
      "Temp_sup[1,1] 16.2625\n",
      "Temp_sup[1,2] 16.2809\n",
      "Temp_sup[1,3] 16.275\n",
      "Temp_sup[2,0] 13.3562\n",
      "Temp_sup[2,1] 16.2625\n",
      "Temp_sup[2,2] 16.2675\n",
      "Temp_sup[2,3] 16.2625\n",
      "Temp_sup[3,0] 10.8426\n",
      "Temp_sup[3,1] 16.2625\n",
      "Temp_sup[3,2] 16.2809\n",
      "Temp_sup[3,3] 16.275\n",
      "Temp_sup[4,0] 14.6875\n",
      "Temp_sup[4,1] 10\n",
      "Temp_sup[4,2] 14.668\n",
      "Temp_sup[4,3] 18.0619\n",
      "Temp_sup[5,0] 14.775\n",
      "Temp_sup[5,1] 14.5841\n",
      "Temp_sup[5,2] 16.9759\n",
      "Temp_sup[5,3] 16.275\n",
      "Temp_sup[6,0] 13.2833\n",
      "Temp_sup[6,1] 16.2625\n",
      "Temp_sup[6,2] 16.2811\n",
      "Temp_sup[6,3] 16.2625\n",
      "Temp_sup[7,0] 16.2053\n",
      "Temp_sup[7,1] 10\n",
      "Temp_sup[7,2] 18.909\n",
      "Temp_sup[7,3] 16.275\n",
      "Temp_sup[8,0] 14.6333\n",
      "Temp_sup[8,1] 16.2625\n",
      "Temp_sup[8,2] 16.2861\n",
      "Temp_sup[8,3] 16.2625\n",
      "Temp_zone[0,0] 31\n",
      "Temp_zone[0,1] 24\n",
      "Temp_zone[0,2] 24\n",
      "Temp_zone[0,3] 24\n",
      "Temp_zone[0,4] 24\n",
      "Temp_zone[1,0] 30\n",
      "Temp_zone[1,1] 24\n",
      "Temp_zone[1,2] 24\n",
      "Temp_zone[1,3] 24\n",
      "Temp_zone[1,4] 24\n",
      "Temp_zone[2,0] 29\n",
      "Temp_zone[2,1] 24\n",
      "Temp_zone[2,2] 24\n",
      "Temp_zone[2,3] 24\n",
      "Temp_zone[2,4] 24\n",
      "Temp_zone[3,0] 32\n",
      "Temp_zone[3,1] 24\n",
      "Temp_zone[3,2] 24\n",
      "Temp_zone[3,3] 24\n",
      "Temp_zone[3,4] 24\n",
      "Temp_zone[4,0] 26\n",
      "Temp_zone[4,1] 24\n",
      "Temp_zone[4,2] 20.4552\n",
      "Temp_zone[4,3] 21.5875\n",
      "Temp_zone[4,4] 24\n",
      "Temp_zone[5,0] 26\n",
      "Temp_zone[5,1] 24\n",
      "Temp_zone[5,2] 23.0317\n",
      "Temp_zone[5,3] 24\n",
      "Temp_zone[5,4] 24\n",
      "Temp_zone[6,0] 30\n",
      "Temp_zone[6,1] 24\n",
      "Temp_zone[6,2] 24\n",
      "Temp_zone[6,3] 24\n",
      "Temp_zone[6,4] 24\n",
      "Temp_zone[7,0] 24\n",
      "Temp_zone[7,1] 24\n",
      "Temp_zone[7,2] 20.4215\n",
      "Temp_zone[7,3] 24\n",
      "Temp_zone[7,4] 24\n",
      "Temp_zone[8,0] 27\n",
      "Temp_zone[8,1] 24\n",
      "Temp_zone[8,2] 24\n",
      "Temp_zone[8,3] 24\n",
      "Temp_zone[8,4] 24\n"
     ]
    }
   ],
   "source": [
    "for v in u_sol:\n",
    "    if v.VarName.split(\"_\")[0] == \"Temp\":\n",
    "        print('%s %g' % (v.VarName, v.X))"
   ]
  },
  {
   "cell_type": "code",
   "execution_count": null,
   "id": "2c1b93f9",
   "metadata": {},
   "outputs": [],
   "source": []
  },
  {
   "cell_type": "code",
   "execution_count": null,
   "id": "bbe8f8a9",
   "metadata": {},
   "outputs": [],
   "source": []
  }
 ],
 "metadata": {
  "kernelspec": {
   "display_name": "Python 3.8.6 64-bit",
   "language": "python",
   "name": "python3"
  },
  "language_info": {
   "codemirror_mode": {
    "name": "ipython",
    "version": 3
   },
   "file_extension": ".py",
   "mimetype": "text/x-python",
   "name": "python",
   "nbconvert_exporter": "python",
   "pygments_lexer": "ipython3",
   "version": "3.8.6"
  },
  "vscode": {
   "interpreter": {
    "hash": "9650cb4e16cdd4a8e8e2d128bf38d875813998db22a3c986335f89e0cb4d7bb2"
   }
  }
 },
 "nbformat": 4,
 "nbformat_minor": 5
}
