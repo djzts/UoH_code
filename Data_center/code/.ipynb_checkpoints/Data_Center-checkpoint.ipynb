{
 "cells": [
  {
   "cell_type": "code",
   "execution_count": 1,
   "id": "47fb4191",
   "metadata": {},
   "outputs": [
    {
     "data": {
      "text/html": [
       "<style>.container { width:100% !important; }</style>"
      ],
      "text/plain": [
       "<IPython.core.display.HTML object>"
      ]
     },
     "metadata": {},
     "output_type": "display_data"
    },
    {
     "data": {
      "text/html": [
       "<style>.container { width:100% !important; }</style>"
      ],
      "text/plain": [
       "<IPython.core.display.HTML object>"
      ]
     },
     "metadata": {},
     "output_type": "display_data"
    }
   ],
   "source": [
    "import numpy as np\n",
    "from collections import defaultdict\n",
    "import random\n",
    "from numpy import random\n",
    "from IPython.core.display import display, HTML\n",
    "display(HTML(\"<style>.container { width:100% !important; }</style>\"))\n",
    "%run Cplex_setup.ipynb"
   ]
  },
  {
   "cell_type": "markdown",
   "id": "0b4196d1",
   "metadata": {},
   "source": [
    "$$\n",
    "\\begin{equation*}\n",
    "\\begin{array}{lll}\n",
    "&\\displaystyle \\min_{\\substack{\n",
    "u^{\\text{dis}}_{t},\\ u^{\\text{chr}}_{t},p^{\\text{dis}}_{t},\\ p^{\\text{chr}}_{t},x^{\\text{chiller}}_{j,t},\\ x^{\\text{tower}}_{j,t} \\\\\n",
    "T_{i,t}^{\\text{Zone}},\\ T_{i,t+1}^{\\text{Zone}} ,T_{i,t}^{\\text{sup}},\\ v^{\\text{vent}}_{t} \\\\}} \n",
    "\\sum_{t=0}^{T}p^{e,g}_{t} e^{\\text{dc,in}}_{t} & \\\\\n",
    "s.t.\\quad &e^{\\text{dc,in}}_{t} = E^{\\text{HVAC}}_t + E^{\\text{Se}}_{t} +\\Delta E^{\\text{B}}_{t} - E^{\\text{Solar}}_{t} & \\forall  t \\in \\mathbf{T}\\\\\n",
    "&e^{\\text{dc,in}}_{t} \\geq 0 & \\forall t \\in \\mathbf{T}\\\\\n",
    "& \\Delta E^{\\text{B}}_{t} = p^{\\text{chr}}_{t}\\eta^{\\text{chr}} - p^{\\text{dis}}_{t} \\cdot (\\eta^{\\text{dis}})^{-1} & \\forall  t \\in \\mathbf{T}\\\\ \n",
    "& E^{\\text{B,state}}_{t+1} = E^{\\text{B,state}}_{t} + \\Delta E^{\\text{B}}_{t} & \\forall  t \\in \\mathbf{T} \\\\\n",
    "& \\underline{\\xi^{\\text{B}}} \\leq E^{\\text{B,state}}_{t} \\leq \\overline{\\xi^{\\text{B}}} & \\forall  t \\in \\mathbf{T} \\\\\n",
    "& p^{\\text{chr}}_{t} \\leq \\overline{p^{\\text{chr}}_{t}} \\cdot u^{\\text{chr}}_{t} & \\forall  t \\in \\mathbf{T}\\\\\n",
    "& p^{\\text{dis}}_{t} \\leq \\overline{p^{\\text{dis}}_{t}} \\cdot u^{\\text{dis}}_{t} & \\forall  t \\in \\mathbf{T}\\\\\n",
    "& u^{\\text{chr}}_{t} + u^{\\text{dis}}_{t} \\leq 1 & \\forall  t \\in \\mathbf{T}\\\\\n",
    "&T^{\\text{Zone}}_{i,t+1} = T^{\\text{Zone}}_{i,t} \n",
    "+ \\displaystyle\\sum_{i^{\\prime} \\in  \\mathcal{N}\\left(i\\right)} \n",
    "\\left(\\frac{T_{i^{\\prime},t}^{\\text{Zone}} - T_{i,t}^{\\text{Zone}}}\n",
    "{C^{\\text{heat}}_{i}R^{\\text{Zone}}_{i^{\\prime}i}}\\right)\n",
    "+ \\frac{\\dot{m}_{i} c_{a}\\left(T_{i,t}^{\\text{sup}} - T_{i,t}^{\\text{Zone}}\\right) \n",
    "+ \\theta_{i,t}}{C^{\\text{heat}}_{i}} & \\forall i \\in \\mathbf{I}^{\\text{Zone}}, t \\in \\mathbf{T}\\\\\n",
    "&T_{i,t}^{-} \\leq T^{\\text{Zone}}_{i,t} \\leq T_{i,t}^{+}, & \\forall i \\in \\mathbf{I}^{\\text{Zone}}, t \\in \\mathbf{T} \\\\\n",
    "&v^{\\text{vent}}_t + v^{\\text{out}}_t \\geq \\underline{v}^{\\text{vent}}_t & \\forall  t \\in \\mathbf{T}\\\\\n",
    "&L^{\\text{heat}}_{t} = \\left(T^{\\text{out}}_{t}-T^{\\text{sup}}_{t}\\right)\\cdot v^{\\text{out}}_{t} c^{\\text{air}}_p + \\left(\\displaystyle \\sum_{i \\in \\mathbf{I}^{\\text{Zone}} }{\\chi_{i}T^{\\text{Zone}}_{i,t}}-T^{\\text{sup}}_{t}\\right)\\cdot \\left(v^{\\text{sup}} - v^{\\text{out}}_t\\right) c^{\\text{air}}_p & \\forall t \\in \\mathbf{T}\\\\\n",
    "&\\displaystyle \\sum_{j \\in \\mathbf{J}^{\\text{chiller}}} x^{\\text{chiller}}_{j,t}m^{\\text{chiller}}_{j,t} \\geq \\frac{\\left(T^{\\text{out}}_{t}-T^{\\text{sup}}_{t}\\right)\\cdot v^{\\text{out}}_{t} c^{\\text{air}}_p + \\left(\\displaystyle \\sum_{i \\in \\mathbf{I}^{\\text{Zone}} }{\\chi_{i}T^{\\text{Zone}}_{i,t}}-T^{\\text{sup}}_{t}\\right)\\cdot \\left(v^{\\text{sup}} - v^{\\text{out}}_t\\right) c^{\\text{air}}_p}\n",
    "{\\left(T^{\\text{chwr}}_{t}-T^{\\text{chws}}_{t}\\right)\\cdot c^{\\text{water}}_p}  & \\forall t \\in \\mathbf{T}\\\\\n",
    "&\\displaystyle \\sum_{j \\in \\mathbf{J}^{\\text{tower}}}{x^{\\text{tower}}_{j,t}m^{\\text{tower}}_{j,t}} \\geq \\frac{\\left(T^{\\text{out}}_{t}-T^{\\text{sup}}_{t}\\right)\\cdot v^{\\text{out}}_{t} c^{\\text{air}}_p + \\left(\\displaystyle \\sum_{i \\in \\mathbf{I}^{\\text{Zone}} }{\\chi_{i}T^{\\text{Zone}}_{i,t}}-T^{\\text{sup}}_{t}\\right)\\cdot \\left(v^{\\text{sup}} - v^{\\text{out}}_t\\right) c^{\\text{air}}_p }\n",
    "{\\left(T^{\\text{conwr}}_{t}-T^{\\text{conws}}_{t}\\right)\\cdot  c^{\\text{water}}_p }  & \\forall t \\in \\mathbf{T}\\\\\n",
    "&e^{\\text{vent}}_{t}=\\beta^{\\text{vent}}_{0}+\\beta^{\\text{vent}}_{1}\\left(v^{\\text{vent}}_t-\\underline{v}^{\\text{vent}}\\right) \n",
    "& \\forall t \\in \\mathbf{T}\\\\\n",
    "&e^{\\text{chiller}}_{t}=\\displaystyle\\sum_{j \\in \\mathbf{J}^{\\text{chiller}}}x^{\\text{chiller}}_{j,t}\\left(\\beta^{\\text{chiller}}_{0,j}\n",
    " + \\beta^{\\text{chiller}}_{1,j}m^{\\text{chiller}}_{j,t}\\right) & \\forall t \\in \\mathbf{T}\\\\\n",
    "&e^{\\text {pump }}_{t}=\\beta^{\\text{pump}}_{0}+\\beta^{\\text{pump}}_{1} \\frac{\\left(T^{\\text{out}}_{t}-T^{\\text{sup}}_{t}\\right)\\cdot v^{\\text{out}}_{t} c^{\\text{air}}_p + \\left(\\displaystyle \\sum_{i \\in \\mathbf{I}^{\\text{Zone}} }{\\chi_{i}T^{\\text{Zone}}_{i,t}}-T^{\\text{sup}}_{t}\\right)\\cdot \\left(v^{\\text{sup}} - v^{\\text{out}}_t\\right) c^{\\text{air}}_p}\n",
    "{\\left(T^{\\text{chwr}}_{t}-T^{\\text{chws}}_{t}\\right)\\cdot c^{\\text{water}}_p}  & \\forall t \\in \\mathbf{T}\\\\\n",
    "&e^{\\text{tower}}_{t} = \\displaystyle\\sum_{j \\in \\mathbf{J}^{\\text{tower}}}x^{\\text{tower}}_{j,t} \\left(\\beta^{\\text{tower}}_{0,j} + \\beta^{\\text{tower}}_{1,j}m^{\\text{tower}}_{j,t}\\right) & \\forall t \\in \\mathbf{T}\\\\\n",
    "&E^{\\text{HVAC}}_{t} =  e^{\\text{sup}}_{t} + e^{\\text{vent}}_{t}+ e^{\\text{chiller}}_{t} + e^{\\text{pump}}_{t} + e^{\\text{tower}}_{t} & \\forall  t \\in \\mathbf{T}\\\\\n",
    "\\end{array}\n",
    "\\end{equation*}\n",
    "$$"
   ]
  },
  {
   "cell_type": "code",
   "execution_count": 4,
   "id": "dfcc04e4",
   "metadata": {},
   "outputs": [],
   "source": [
    "# Total time interval\n",
    "T = 4\n",
    "\n",
    "# Total Data center zones\n",
    "I_zone_wide = 2\n",
    "I_zone_length = 3\n",
    "\n",
    "# time interval length\n",
    "delta_t = 15\n",
    "\n",
    "# sever electricity consumpsion\n",
    "e_server = np.zeros(T)\n",
    "\n",
    "# Solar electricity production\n",
    "e_solar = np.zeros(T)\n",
    "\n",
    "# Batter electricity charging upper bound\n",
    "char_b_upperbound = np.ones(T)\n",
    "\n",
    "# Batter electricity discharging upper bound\n",
    "dis_b_upperbound = np.ones(T)\n",
    "\n",
    "#zone tempreture initialization celcius or fahrenheit\n",
    "T_initial_upperbound = 25\n",
    "T_initial_lowerbound = 33 \n",
    "random_choice = 0  \n",
    "if random_choice == 0 :\n",
    "    T_zone_initial =np.array([[31, 30, 29],[32, 26, 26]])\n",
    "else:\n",
    "    T_zone_initial = np.random.randint(25, 33, (I_zone_wide, I_zone_length))\n",
    "\n"
   ]
  },
  {
   "cell_type": "code",
   "execution_count": 8,
   "id": "ae23d9f6",
   "metadata": {},
   "outputs": [
    {
     "data": {
      "text/plain": [
       "array([[31, 30, 29],\n",
       "       [32, 26, 26]])"
      ]
     },
     "execution_count": 8,
     "metadata": {},
     "output_type": "execute_result"
    }
   ],
   "source": [
    "np.random.randint(25, 33, (2, 3))"
   ]
  },
  {
   "cell_type": "code",
   "execution_count": 2,
   "id": "31f7fd30",
   "metadata": {},
   "outputs": [],
   "source": [
    "# first import the Model class from docplex.mp\n",
    "from docplex.mp.model import Model\n",
    "\n",
    "# create one model instance, with a name\n",
    "DCM = Model(name='Data_center_demo')\n",
    "\n",
    "\n",
    "#\n",
    "x = {(i,j): tm.continuous_var(name='x_{0}_{1}'.format(i,j)) for i in source for j in target}"
   ]
  },
  {
   "cell_type": "code",
   "execution_count": null,
   "id": "e1952cc1",
   "metadata": {},
   "outputs": [],
   "source": []
  }
 ],
 "metadata": {
  "kernelspec": {
   "display_name": "Python 3",
   "language": "python",
   "name": "python3"
  },
  "language_info": {
   "codemirror_mode": {
    "name": "ipython",
    "version": 3
   },
   "file_extension": ".py",
   "mimetype": "text/x-python",
   "name": "python",
   "nbconvert_exporter": "python",
   "pygments_lexer": "ipython3",
   "version": "3.8.6"
  }
 },
 "nbformat": 4,
 "nbformat_minor": 5
}
