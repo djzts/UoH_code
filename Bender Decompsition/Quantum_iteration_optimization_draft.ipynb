{
 "cells": [
  {
   "cell_type": "code",
   "execution_count": 1,
   "id": "bf48159c",
   "metadata": {},
   "outputs": [
    {
     "data": {
      "text/html": [
       "<style>.container { width:100% !important; }</style>"
      ],
      "text/plain": [
       "<IPython.core.display.HTML object>"
      ]
     },
     "metadata": {},
     "output_type": "display_data"
    },
    {
     "data": {
      "text/html": [
       "<style>.container { width:100% !important; }</style>"
      ],
      "text/plain": [
       "<IPython.core.display.HTML object>"
      ]
     },
     "metadata": {},
     "output_type": "display_data"
    },
    {
     "data": {
      "text/html": [
       "<style>.container { width:100% !important; }</style>"
      ],
      "text/plain": [
       "<IPython.core.display.HTML object>"
      ]
     },
     "metadata": {},
     "output_type": "display_data"
    }
   ],
   "source": [
    "import numpy as np\n",
    "from collections import defaultdict\n",
    "import random\n",
    "from numpy import random\n",
    "import matplotlib.pyplot as plt\n",
    "\n",
    "\n",
    "from collections import defaultdict\n",
    "\n",
    "from dwave.system.samplers import DWaveSampler\n",
    "from dwave.system.composites import EmbeddingComposite\n",
    "import networkx as nx\n",
    "import numpy as np\n",
    "import dwave.inspector\n",
    "import dimod\n",
    "from dwave.system import LeapHybridSampler\n",
    "import matplotlib\n",
    "from IPython.core.display import display, HTML\n",
    "display(HTML(\"<style>.container { width:100% !important; }</style>\"))\n",
    "\n",
    "\n",
    "## Quantum Part\n",
    "from collections import defaultdict\n",
    "\n",
    "from dwave.system.samplers import DWaveSampler\n",
    "from dwave.system.composites import EmbeddingComposite\n",
    "import networkx as nx\n",
    "import numpy as np\n",
    "import dwave.inspector\n",
    "import dimod\n",
    "from dwave.system import LeapHybridSampler\n",
    "import matplotlib\n",
    "from matplotlib import pyplot as plt\n",
    "\n",
    "#function set\n",
    "%run Functions_Set.ipynb\n",
    "\n",
    "#Page Size\n",
    "from IPython.core.display import display, HTML\n",
    "display(HTML(\"<style>.container { width:100% !important; }</style>\"))"
   ]
  },
  {
   "cell_type": "code",
   "execution_count": 2,
   "id": "2bb2b037",
   "metadata": {},
   "outputs": [],
   "source": [
    "def make_dictionary():\n",
    "    Var_dictionary = {}\n",
    "    # set-up a dictionary\n",
    "    Total = 0\n",
    "    # x input\n",
    "    for e in range(2):\n",
    "        Var_dictionary[\"x_%d\"%(e)] = int(e)\n",
    "    Total = len(Var_dictionary)   \n",
    "    return Var_dictionary, Total"
   ]
  },
  {
   "cell_type": "code",
   "execution_count": 3,
   "id": "9c603917",
   "metadata": {},
   "outputs": [],
   "source": [
    "def show_graph(matrix):\n",
    "    matfig = plt.figure(figsize=(9,9)) \n",
    "    plt.matshow(matrix,fignum=matfig.number)\n",
    "    plt.colorbar()\n",
    "    plt.show() "
   ]
  },
  {
   "cell_type": "code",
   "execution_count": 4,
   "id": "cdcd3198",
   "metadata": {},
   "outputs": [],
   "source": [
    "def dot(*mats):\n",
    "    A = mats[0]\n",
    "    for B in mats[1:]:\n",
    "        A = np.dot(A,B)    \n",
    "    return A\n",
    "        "
   ]
  },
  {
   "cell_type": "code",
   "execution_count": 5,
   "id": "09af67e1",
   "metadata": {},
   "outputs": [],
   "source": [
    "def add_front(a,b):\n",
    "    if len(a) < len(b):\n",
    "        c = b.copy()\n",
    "        c[:len(a)] += a\n",
    "    else:\n",
    "        c = a.copy()\n",
    "        \n",
    "        c[:len(b)] += b  \n",
    "    return c"
   ]
  },
  {
   "cell_type": "code",
   "execution_count": 6,
   "id": "97c1c74b",
   "metadata": {},
   "outputs": [],
   "source": [
    "def add_end(a,b):\n",
    "    if len(a) < len(b):\n",
    "        c = b.copy()\n",
    "        c[-len(a):] += a\n",
    "    else:\n",
    "        c = a.copy()\n",
    "        \n",
    "        c[-len(b):] += b  \n",
    "    return c"
   ]
  },
  {
   "cell_type": "code",
   "execution_count": 7,
   "id": "ae5373b8",
   "metadata": {},
   "outputs": [
    {
     "name": "stdout",
     "output_type": "stream",
     "text": [
      "[3 3 3 5]\n",
      "[1 2 5 6]\n"
     ]
    }
   ],
   "source": [
    "a = np.array([1,2,3,5])\n",
    "b = np.array([2,1])\n",
    "print(add_front(a,b))\n",
    "print(add_end(a,b))"
   ]
  },
  {
   "cell_type": "markdown",
   "id": "52491d20",
   "metadata": {},
   "source": [
    "## Objective\n",
    "$$\n",
    "\\max 8y_{1} + 9y_{1} + 5y_{3} + 6y_{4} -15x_{1} - 10x_{2} \n",
    "$$\n",
    "\n",
    "$$\n",
    "s.t. \\quad y_{1} + y_{3} \\leq 1\n",
    "$$\n",
    "\n",
    "$$\n",
    "\\qquad \\  y_{1} + y_{4} \\leq 1\n",
    "$$\n",
    "\n",
    "$$\n",
    "\\qquad \\  y_{2} + y_{3} \\leq 1\n",
    "$$\n",
    "\n",
    "$$\n",
    "\\qquad \\  y_{2} + y_{4} \\leq 1\n",
    "$$\n",
    "\n",
    "$$\n",
    "\\qquad \\  x_{1} + x_{2} \\geq 1\n",
    "$$\n",
    "\n",
    "$$\n",
    "\\qquad \\  y_{1} - x_{1} \\leq 0\n",
    "$$\n",
    "\n",
    "$$\n",
    "\\qquad \\  y_{2} - x_{1} \\leq 0\n",
    "$$\n",
    "\n",
    "$$\n",
    "\\qquad \\  y_{3} - x_{2} \\leq 0\n",
    "$$\n",
    "\n",
    "$$\n",
    "\\qquad \\  y_{4} - x_{2} \\leq 0\n",
    "$$\n",
    "\n",
    "$$\n",
    "\\qquad \\ \\forall \\ j \\quad y_{j} \\geq 0\n",
    "$$"
   ]
  },
  {
   "cell_type": "markdown",
   "id": "6b200c99",
   "metadata": {},
   "source": [
    "## General Structure\n",
    "$$\n",
    "\\max h^{\\intercal} \\cdot y + c^{\\intercal} \\cdot x\n",
    "$$\n",
    "\n",
    "$$\n",
    "s.t. \\quad A\\mathbf{x} + G \\mathbf{y} \\leq b\n",
    "$$\n",
    "\n",
    "$$\n",
    "x \\in Binary\n",
    "$$\n",
    "\n",
    "$$\n",
    "y \\geq 0\n",
    "$$"
   ]
  },
  {
   "cell_type": "markdown",
   "id": "37b77e85",
   "metadata": {},
   "source": [
    "## The Master problem\n",
    "\n",
    "$$\n",
    "\\max_{x,t} \\, c^{\\intercal} x + t\n",
    "$$\n",
    "\n",
    "$$\n",
    "s.t. \\quad (b-Ax)^{\\intercal}u^{k} \\geq t \\quad \\forall k \\in K\n",
    "$$\n",
    "\n",
    "$$\n",
    "\\qquad \\ (b-Ax)^{\\intercal}r^{j} \\geq 0 \\quad \\forall j \\in J\n",
    "$$\n",
    "\n",
    "$$\n",
    "t \\in \\mathbb{R} \\ , \\  x\\in X\n",
    "$$\n"
   ]
  },
  {
   "cell_type": "markdown",
   "id": "e29985dd",
   "metadata": {},
   "source": [
    "## The Rewritten Master problem\n",
    "\n",
    "$$\n",
    "\\max_{x,t} \\, c^{\\intercal} x + t\n",
    "$$\n",
    "\n",
    "$$\n",
    "s.t. \\quad t +\\left(u^{k}\\right)^{\\intercal}Ax \\geq b^{\\intercal}u^{k} \\quad \\forall k \\in K\n",
    "$$\n",
    "\n",
    "$$\n",
    "\\qquad \\ \\left(r^{j}\\right)^{\\intercal}Ax \\geq b^{\\intercal}r^{j} \\quad \\forall j \\in J\n",
    "$$\n",
    "\n",
    "$$\n",
    "t \\in \\mathbb{R} \\ , \\  x\\in X\n",
    "$$"
   ]
  },
  {
   "cell_type": "markdown",
   "id": "ec246142",
   "metadata": {},
   "source": [
    "## Initial relaxed Master Problem\n",
    "The first four constraints imply $y_{j} \\leq 1$ for $j = 1, . . . , 4$, for any choice of $x$.\n",
    "Thus, we can get a very simple bound for the problem: set $y_{j} = 1$ for $j = 1, . . . , 4$. This gives a value of $28$ from the $y$ variables.\n",
    "\n"
   ]
  },
  {
   "cell_type": "code",
   "execution_count": 127,
   "id": "883c349c",
   "metadata": {},
   "outputs": [],
   "source": [
    "A = np.array([[0, 0],\n",
    "              [0, 0],\n",
    "              [0, 0],\n",
    "              [0, 0],\n",
    "              [-1, -1],\n",
    "              [-1, 0],\n",
    "              [-1, 0],\n",
    "              [0, -1],\n",
    "              [0, -1],])\n",
    "\n",
    "G = np.array([[1,0,1,0], \n",
    "              [1,0,0,1],\n",
    "              [0,1,1,0],\n",
    "              [0,1,0,1],\n",
    "              [0,0,0,0],\n",
    "              [1,0,0,0],\n",
    "              [0,1,0,0],\n",
    "              [0,0,1,0],\n",
    "              [0,0,0,1],\n",
    "             ])\n",
    "b = np.array([1,1,1,1,-1,0,0,0,0])\n",
    "\n",
    "c = np.array([-15.0,-10.0])\n",
    "\n",
    "h = np.array([8,9,5,6])\n",
    "\n",
    "t = np.inf"
   ]
  },
  {
   "cell_type": "code",
   "execution_count": 128,
   "id": "bf635b7a",
   "metadata": {},
   "outputs": [],
   "source": [
    "#obj\n",
    "\n",
    "QUBO_matrix_initial = np.zeros((2,2))\n",
    "Var_dic, length = make_dictionary()\n",
    "\n",
    "# OBJ\n",
    "QUBO = np.diag(np.abs(c))  \n",
    "\n",
    "# Select a solver\n",
    "sampler = LeapHybridSampler()\n",
    "\n",
    "sampleset = sampler.sample_qubo(QUBO)\n"
   ]
  },
  {
   "cell_type": "code",
   "execution_count": 167,
   "id": "1b240ef2",
   "metadata": {},
   "outputs": [
    {
     "name": "stdout",
     "output_type": "stream",
     "text": [
      "   0  1  2  3  4  5  6   energy  num_occurrences\n",
      "0  1  1  1  1  0  1  1 -19055.0                1\n",
      "[ 1.0000e+00  1.0000e+00  1.0000e+00  1.0000e+00  0.0000e+00  1.0000e+00\n",
      "  1.0000e+00 -1.9055e+04  1.0000e+00]\n",
      "QUBO Q = :\n",
      "[[-16965.   5760.   -170.   -340.   -170.   -340.   -680.]\n",
      " [  5610. -13010.   -110.   -220.   -110.   -220.   -440.]\n",
      " [  -170.   -110.    510.     20.      0.      0.      0.]\n",
      " [  -340.   -220.     20.   1040.      0.      0.      0.]\n",
      " [  -170.   -110.      0.      0.    450.     20.     40.]\n",
      " [  -340.   -220.      0.      0.     20.    920.     80.]\n",
      " [  -680.   -440.      0.      0.     40.     80.   1920.]]\n",
      "result x = : [1. 1.]\n"
     ]
    }
   ],
   "source": [
    "OP = sampleset.to_pandas_dataframe()\n",
    "OP_final = OP.to_numpy()[0]\n",
    "result = OP_final[:length]\n",
    "print(OP)\n",
    "print(OP_final)\n",
    "print(\"QUBO Q = :\")\n",
    "print( QUBO )\n",
    "print(\"result x = :\",result)"
   ]
  },
  {
   "cell_type": "code",
   "execution_count": 130,
   "id": "42d1367b",
   "metadata": {},
   "outputs": [
    {
     "name": "stdout",
     "output_type": "stream",
     "text": [
      "obj: [ 1.  1.  1.  1. -1.  0.  0.  0.  0.]\n"
     ]
    }
   ],
   "source": [
    "x = result\n",
    "obj = b-np.dot(A,x)\n",
    "\n",
    "print(\"obj:\",obj)"
   ]
  },
  {
   "cell_type": "markdown",
   "id": "ba7669c7",
   "metadata": {},
   "source": []
  },
  {
   "cell_type": "code",
   "execution_count": 131,
   "id": "d4f18f59",
   "metadata": {},
   "outputs": [],
   "source": [
    "from scipy.optimize import linprog"
   ]
  },
  {
   "cell_type": "code",
   "execution_count": 132,
   "id": "1685f17e",
   "metadata": {},
   "outputs": [],
   "source": [
    "#obj = [+1, +1, 1, 1, -1, 0, 0, 0, 0]\n",
    "#      ─┬  ─┬  \n",
    "#       │   │  .......\n",
    "#       │   └┤ Coefficient for u2\n",
    "#       └────┤ Coefficient for u1\n",
    "\n",
    "lhs_ineq = [[-1, -1, -0, -0, -0, -1, -0, -0, -0],\n",
    "            [-0, -0, -1, -1, -0, -0, -1, -0, -0],\n",
    "            [-1, -0, -1, -0, -0, -0, -0, -1, -0],\n",
    "            [-0, -1, -0, -1, -0, -0, -0, -0, -1]]\n",
    "\n",
    "rhs_ineq = [-8,\n",
    "            -9,\n",
    "            -5,\n",
    "            -6]\n",
    "\n",
    "bnd = [(0, float(\"inf\")),\n",
    "       (0, float(\"inf\")),\n",
    "       (0, float(\"inf\")),\n",
    "       (0, float(\"inf\")),\n",
    "       (0, float(\"inf\")),\n",
    "       (0, float(\"inf\")),\n",
    "       (0, float(\"inf\")),\n",
    "       (0, float(\"inf\")),   \n",
    "       (0, float(\"inf\")),]  # Bounds of u s\n",
    "\n",
    "opt = linprog(c=obj, A_ub=lhs_ineq, b_ub=rhs_ineq, bounds=bnd,method=\"revised simplex\")"
   ]
  },
  {
   "cell_type": "code",
   "execution_count": 133,
   "id": "08bfd2e0",
   "metadata": {},
   "outputs": [
    {
     "name": "stdout",
     "output_type": "stream",
     "text": [
      "     con: array([], dtype=float64)\n",
      "     fun: -inf\n",
      " message: 'If feasible, the problem is (trivially) unbounded due  to a zero column in the constraint matrices. If you wish to check whether the problem is infeasible, turn presolve off.'\n",
      "     nit: 0\n",
      "   slack: array([nan, nan, nan, nan])\n",
      "  status: 3\n",
      " success: False\n",
      "       x: array([ 0.,  0.,  0.,  0., inf,  0.,  0.,  0.,  0.])\n"
     ]
    }
   ],
   "source": [
    "print(opt)"
   ]
  },
  {
   "cell_type": "code",
   "execution_count": 134,
   "id": "d31e78f1",
   "metadata": {},
   "outputs": [
    {
     "name": "stdout",
     "output_type": "stream",
     "text": [
      "[0. 0. 0. 0. 1. 0. 0. 0. 0.]\n"
     ]
    }
   ],
   "source": [
    "r = np.sign(opt['x'])\n",
    "print(r)"
   ]
  },
  {
   "cell_type": "code",
   "execution_count": 135,
   "id": "33d358f9",
   "metadata": {},
   "outputs": [
    {
     "name": "stdout",
     "output_type": "stream",
     "text": [
      "[-1. -1.] <= -1.0\n"
     ]
    }
   ],
   "source": [
    "cons_add_lhs = dot(r,A)\n",
    "cons_add_rhs = dot(b,r)\n",
    "print(cons_add_lhs,\"<=\",cons_add_rhs)"
   ]
  },
  {
   "cell_type": "code",
   "execution_count": 136,
   "id": "aef636ed",
   "metadata": {},
   "outputs": [
    {
     "name": "stdout",
     "output_type": "stream",
     "text": [
      "[1. 1.] >= 1.0\n"
     ]
    }
   ],
   "source": [
    "symbol = \"<=\"\n",
    "if np.sign(cons_add_rhs) == -1:\n",
    "    symbol = \">=\"\n",
    "\n",
    "cons_add_lhs_final = np.sign(cons_add_rhs) * cons_add_lhs\n",
    "cons_add_rhs_final = np.sign(cons_add_rhs) * cons_add_rhs\n",
    "\n",
    "\n",
    "print(cons_add_lhs_final, symbol, cons_add_rhs_final)"
   ]
  },
  {
   "cell_type": "code",
   "execution_count": null,
   "id": "ec47b408",
   "metadata": {},
   "outputs": [],
   "source": []
  },
  {
   "cell_type": "code",
   "execution_count": 137,
   "id": "e8024b09",
   "metadata": {},
   "outputs": [],
   "source": [
    "#np.asarray(0.5 * (np.outer(cons_add_lhs_final,cons_add_lhs_final) - 3.0 * np.diag(cons_add_lhs_final)))"
   ]
  },
  {
   "cell_type": "code",
   "execution_count": 138,
   "id": "ebc833c3",
   "metadata": {},
   "outputs": [
    {
     "data": {
      "text/plain": [
       "True"
      ]
     },
     "execution_count": 138,
     "metadata": {},
     "output_type": "execute_result"
    }
   ],
   "source": [
    "1.0 == 1"
   ]
  },
  {
   "cell_type": "code",
   "execution_count": 139,
   "id": "87101bb5",
   "metadata": {},
   "outputs": [
    {
     "data": {
      "text/html": [
       "<style>.container { width:100% !important; }</style>"
      ],
      "text/plain": [
       "<IPython.core.display.HTML object>"
      ]
     },
     "metadata": {},
     "output_type": "display_data"
    },
    {
     "name": "stdout",
     "output_type": "stream",
     "text": [
      "[-15. -10.] 0 [1. 1.] >= 1.0 2\n",
      "1.0 1\n",
      "[1. 1.] >= 1.0\n",
      "yep enter\n",
      "[1. 1.] >= 1.0\n",
      "label =>  0 , penalty is 150.0\n",
      ">=1 \n",
      "[[-135.  150.]\n",
      " [   0. -140.]]\n"
     ]
    }
   ],
   "source": [
    "#function set\n",
    "%run Functions_Set.ipynb\n",
    "\n",
    "# Obj\n",
    "QUBO_pre = np.diag(np.abs(c))  \n",
    "\n",
    "# add constraint (r1)^{T} Ax ≤ b^{T} r1 to (RMP):\n",
    "\n",
    "Penalty = np.max(np.abs(c))*10\n",
    "\n",
    "#QUBO += Penalty * np.asarray(0.5 * (np.outer(cons_add_lhs_final,cons_add_lhs_final) - 3.0 * np.diag(cons_add_lhs_final)))\n",
    "\n",
    "C = c\n",
    "t = 0\n",
    "new_Constraint = cons_add_lhs_final\n",
    "new_Symbol = symbol\n",
    "New_rhs = cons_add_rhs_final\n",
    "round_num = 2 \n",
    "\n",
    "print(C, t, new_Constraint, new_Symbol, New_rhs, round_num)\n",
    "\n",
    "QUBO, _ = solve_master_old(C, t, QUBO_pre, new_Constraint, new_Symbol, New_rhs, round_num, Penalty, _print = 1)\n",
    "\n",
    "\n",
    "\n",
    "print(QUBO)\n",
    "\n",
    "#show_graph(QUBO)\n",
    "\n",
    "\n"
   ]
  },
  {
   "cell_type": "code",
   "execution_count": 140,
   "id": "9b436d1b",
   "metadata": {},
   "outputs": [],
   "source": [
    "\n",
    "# Select a solver\n",
    "sampler = LeapHybridSampler()\n",
    "\n",
    "sampleset = sampler.sample_qubo(QUBO)"
   ]
  },
  {
   "cell_type": "code",
   "execution_count": 141,
   "id": "9104065e",
   "metadata": {},
   "outputs": [
    {
     "name": "stdout",
     "output_type": "stream",
     "text": [
      "result x = : [0. 1.]\n"
     ]
    }
   ],
   "source": [
    "OP = sampleset.to_pandas_dataframe()\n",
    "OP_final = OP.to_numpy()[0]\n",
    "result = OP_final[:length]\n",
    "print(\"result x = :\",result)"
   ]
  },
  {
   "cell_type": "code",
   "execution_count": 142,
   "id": "b484cbe6",
   "metadata": {},
   "outputs": [
    {
     "name": "stdout",
     "output_type": "stream",
     "text": [
      "[1. 1. 1. 1. 0. 0. 0. 1. 1.]\n"
     ]
    }
   ],
   "source": [
    "x = result\n",
    "obj = b-np.dot(A,x)\n",
    "print(obj)"
   ]
  },
  {
   "cell_type": "code",
   "execution_count": 143,
   "id": "71717053",
   "metadata": {},
   "outputs": [
    {
     "name": "stdout",
     "output_type": "stream",
     "text": [
      "[1. 1. 1. 1. 0. 0. 0. 1. 1.]\n"
     ]
    }
   ],
   "source": [
    "x = result\n",
    "obj = b-np.dot(A,x)\n",
    "print(obj)"
   ]
  },
  {
   "cell_type": "code",
   "execution_count": 144,
   "id": "87761c80",
   "metadata": {},
   "outputs": [
    {
     "name": "stdout",
     "output_type": "stream",
     "text": [
      "[[-1, -1, 0, 0, 0, -1, 0, 0, 0], [0, 0, -1, -1, 0, 0, -1, 0, 0], [-1, 0, -1, 0, 0, 0, 0, -1, 0], [0, -1, 0, -1, 0, 0, 0, 0, -1]]\n",
      "[-8, -9, -5, -6]\n"
     ]
    }
   ],
   "source": [
    "print(lhs_ineq)\n",
    "print(rhs_ineq)"
   ]
  },
  {
   "cell_type": "code",
   "execution_count": 145,
   "id": "f687a8b7",
   "metadata": {},
   "outputs": [],
   "source": [
    "opt = linprog(c=obj, A_ub=lhs_ineq, b_ub=rhs_ineq, bounds=bnd,method=\"revised simplex\")"
   ]
  },
  {
   "cell_type": "code",
   "execution_count": 146,
   "id": "06a4a907",
   "metadata": {},
   "outputs": [
    {
     "name": "stdout",
     "output_type": "stream",
     "text": [
      "     con: array([], dtype=float64)\n",
      "     fun: 11.0\n",
      " message: 'Optimization terminated successfully.'\n",
      "     nit: 0\n",
      "   slack: array([0., 0., 0., 0.])\n",
      "  status: 0\n",
      " success: True\n",
      "       x: array([0., 0., 0., 0., 0., 8., 9., 5., 6.])\n"
     ]
    }
   ],
   "source": [
    "print(opt)"
   ]
  },
  {
   "cell_type": "code",
   "execution_count": 161,
   "id": "d055458c",
   "metadata": {},
   "outputs": [
    {
     "name": "stdout",
     "output_type": "stream",
     "text": [
      "[-17. -11.] <= -22.0\n"
     ]
    }
   ],
   "source": [
    "t = 22\n",
    "r = opt['x']\n",
    "cons_add_lhs = dot(r,A)\n",
    "cons_add_rhs = dot(b,r) - t\n",
    "print(cons_add_lhs,\"<=\",cons_add_rhs)"
   ]
  },
  {
   "cell_type": "code",
   "execution_count": 162,
   "id": "26841cf7",
   "metadata": {},
   "outputs": [
    {
     "name": "stdout",
     "output_type": "stream",
     "text": [
      "[17. 11.] >= 22.0\n"
     ]
    }
   ],
   "source": [
    "symbol = \"<=\"\n",
    "if np.sign(cons_add_rhs) == -1:\n",
    "    symbol = \">=\"\n",
    "turbulance = 1e-10\n",
    "    \n",
    "cons_add_lhs_final = np.sign(cons_add_rhs + turbulance) * cons_add_lhs\n",
    "cons_add_rhs_final = np.sign(cons_add_rhs + turbulance) * cons_add_rhs\n",
    "\n",
    "\n",
    "print(cons_add_lhs_final, symbol, cons_add_rhs_final)"
   ]
  },
  {
   "cell_type": "code",
   "execution_count": 163,
   "id": "f16d761e",
   "metadata": {},
   "outputs": [
    {
     "data": {
      "text/html": [
       "<style>.container { width:100% !important; }</style>"
      ],
      "text/plain": [
       "<IPython.core.display.HTML object>"
      ]
     },
     "metadata": {},
     "output_type": "display_data"
    },
    {
     "name": "stdout",
     "output_type": "stream",
     "text": [
      "22.0 1\n",
      "[17. 11.] >= 22.0\n",
      "yep enter\n",
      "[17. 11.] >= 22.0\n",
      "QUBO_Cons_ineq_normal\n",
      "label >=  0 , penalty is 10.0\n",
      "symbol == >=\n",
      "Slack_Var_Add_num: 3.0\n",
      "Slack_Var_Add_coeff: [1. 2. 4.]\n",
      "var_matched_2: [0. 0. 0. 0. 1. 2. 4.]\n",
      "normal else\n"
     ]
    }
   ],
   "source": [
    "#function set\n",
    "%run Functions_Set.ipynb\n",
    "\n",
    "# Obj\n",
    "#QUBO = np.diag(np.abs(c))  \n",
    "\n",
    "# add constraint (r1)^{T} Ax ≤ b^{T} r1 to (RMP):\n",
    "\n",
    "new_Constraint = cons_add_lhs_final\n",
    "new_Symbol = symbol\n",
    "New_rhs = cons_add_rhs_final\n",
    "round_num = 3\n",
    "\n",
    "Penalty = np.max(np.abs(obj))*10\n",
    "\n",
    "QUBO_pre = QUBO\n",
    "\n",
    "QUBO, _ = solve_master_old(C, t, QUBO_pre, new_Constraint, new_Symbol, New_rhs, round_num, Penalty, _print = 1)\n",
    "\n",
    "\n",
    "\n",
    "#print(QUBO)\n",
    "\n",
    "#show_graph(QUBO)\n",
    "\n"
   ]
  },
  {
   "cell_type": "code",
   "execution_count": 164,
   "id": "1a24016c",
   "metadata": {},
   "outputs": [
    {
     "name": "stdout",
     "output_type": "stream",
     "text": [
      "result x = : [1. 1.]\n"
     ]
    }
   ],
   "source": [
    "# Select a solver\n",
    "sampler = LeapHybridSampler()\n",
    "\n",
    "sampleset = sampler.sample_qubo(QUBO)\n",
    "\n",
    "OP = sampleset.to_pandas_dataframe()\n",
    "OP_final = OP.to_numpy()[0]\n",
    "result = OP_final[:length]\n",
    "print(\"result x = :\",result)"
   ]
  },
  {
   "cell_type": "code",
   "execution_count": 165,
   "id": "2eb789d3",
   "metadata": {},
   "outputs": [
    {
     "name": "stdout",
     "output_type": "stream",
     "text": [
      "-3.0 [-15. -10.] [1. 1.]\n"
     ]
    }
   ],
   "source": [
    "master_value = t + dot(c,result)\n",
    "print(master_value,c,result)"
   ]
  },
  {
   "cell_type": "code",
   "execution_count": null,
   "id": "edab8a2a",
   "metadata": {},
   "outputs": [],
   "source": []
  },
  {
   "cell_type": "code",
   "execution_count": 124,
   "id": "1c33e2fb",
   "metadata": {},
   "outputs": [
    {
     "name": "stdout",
     "output_type": "stream",
     "text": [
      "[1. 1. 1. 1. 1. 1. 1. 1. 1.]\n"
     ]
    }
   ],
   "source": [
    "x = result\n",
    "obj = b-np.dot(A,x)\n",
    "print(obj)"
   ]
  },
  {
   "cell_type": "code",
   "execution_count": 120,
   "id": "ea294cde",
   "metadata": {},
   "outputs": [
    {
     "name": "stdout",
     "output_type": "stream",
     "text": [
      "[[-1, -1, 0, 0, 0, -1, 0, 0, 0], [0, 0, -1, -1, 0, 0, -1, 0, 0], [-1, 0, -1, 0, 0, 0, 0, -1, 0], [0, -1, 0, -1, 0, 0, 0, 0, -1]]\n",
      "[-8, -9, -5, -6]\n"
     ]
    }
   ],
   "source": [
    "print(lhs_ineq)\n",
    "print(rhs_ineq)"
   ]
  },
  {
   "cell_type": "code",
   "execution_count": 121,
   "id": "dd839152",
   "metadata": {},
   "outputs": [
    {
     "name": "stdout",
     "output_type": "stream",
     "text": [
      "     con: array([], dtype=float64)\n",
      "     fun: 17.0\n",
      " message: 'Optimization terminated successfully.'\n",
      "     nit: 3\n",
      "   slack: array([0., 0., 0., 0.])\n",
      "  status: 0\n",
      " success: True\n",
      "       x: array([2., 6., 3., 0., 0., 0., 6., 0., 0.])\n"
     ]
    }
   ],
   "source": [
    "opt = linprog(c=obj, A_ub=lhs_ineq, b_ub=rhs_ineq, bounds=bnd,method=\"revised simplex\")\n",
    "print(opt)"
   ]
  },
  {
   "cell_type": "code",
   "execution_count": 93,
   "id": "2013176e",
   "metadata": {},
   "outputs": [
    {
     "name": "stdout",
     "output_type": "stream",
     "text": [
      "[-6.  0.] <= 11.0\n"
     ]
    }
   ],
   "source": [
    "r = opt['x']\n",
    "cons_add_lhs = dot(r,A)\n",
    "cons_add_rhs = dot(b,r)\n",
    "print(cons_add_lhs,\"<=\",cons_add_rhs)"
   ]
  },
  {
   "cell_type": "code",
   "execution_count": 63,
   "id": "49fd96e0",
   "metadata": {},
   "outputs": [
    {
     "name": "stdout",
     "output_type": "stream",
     "text": [
      "[-6.  0.] <= 11.0\n"
     ]
    }
   ],
   "source": [
    "#r = np.array([8,0,0,9,0,0,0,0,0])\n",
    "cons_add_lhs = dot(r,A)\n",
    "cons_add_rhs = dot(b,r)\n",
    "print(cons_add_lhs,\"<=\",cons_add_rhs)"
   ]
  },
  {
   "cell_type": "code",
   "execution_count": null,
   "id": "1aec16d5",
   "metadata": {},
   "outputs": [],
   "source": [
    "dot(b - dot(A, r)"
   ]
  },
  {
   "cell_type": "code",
   "execution_count": 64,
   "id": "49f2a33a",
   "metadata": {},
   "outputs": [
    {
     "name": "stdout",
     "output_type": "stream",
     "text": [
      "[-6.  0.] <= 11.0\n"
     ]
    }
   ],
   "source": [
    "symbol = \"<=\"\n",
    "if np.sign(cons_add_rhs) == -1:\n",
    "    symbol = \">=\"\n",
    "turbulance = 1e-10\n",
    "    \n",
    "cons_add_lhs_final = np.sign(cons_add_rhs + turbulance) * cons_add_lhs\n",
    "cons_add_rhs_final = np.sign(cons_add_rhs + turbulance) * cons_add_rhs\n",
    "\n",
    "\n",
    "print(cons_add_lhs_final, symbol, cons_add_rhs_final)"
   ]
  },
  {
   "cell_type": "code",
   "execution_count": 65,
   "id": "3a795eb4",
   "metadata": {},
   "outputs": [
    {
     "data": {
      "text/html": [
       "<style>.container { width:100% !important; }</style>"
      ],
      "text/plain": [
       "<IPython.core.display.HTML object>"
      ]
     },
     "metadata": {},
     "output_type": "display_data"
    },
    {
     "name": "stdout",
     "output_type": "stream",
     "text": [
      "11.0 0\n",
      "[-6.  0.] <= 11.0\n",
      "yep enter\n",
      "[-6.  0.] <= 11.0\n",
      "QUBO_Cons_ineq_normal\n",
      "label >=  0 , penalty is 10.0\n",
      "symbol == <=\n",
      "Slack_Var_Add_num: 5.0\n",
      "Slack_Var_Add_coeff: [ 1.  2.  4.  8. 16.]\n",
      "var_matched_1: [-6.  0.  0.  0.  0.  0.  0.  0.  0.  0.  0.  0.]\n",
      "var_matched_2: [ 0.  0.  0.  0.  0.  0.  0.  1.  2.  4.  8. 16.]\n",
      "normal else\n",
      "[[-5085.  2020.     0.     0.     0.     0.     0.   -60.  -120.  -240.\n",
      "   -480.  -960.]\n",
      " [ 1870. -5090.     0.     0.     0.     0.     0.     0.     0.     0.\n",
      "      0.     0.]\n",
      " [    0.     0.  -330.    20.    40.    80.   160.     0.     0.     0.\n",
      "      0.     0.]\n",
      " [    0.     0.    20.  -640.    80.   160.   320.     0.     0.     0.\n",
      "      0.     0.]\n",
      " [    0.     0.    40.    80. -1200.   320.   640.     0.     0.     0.\n",
      "      0.     0.]\n",
      " [    0.     0.    80.   160.   320. -2080.  1280.     0.     0.     0.\n",
      "      0.     0.]\n",
      " [    0.     0.   160.   320.   640.  1280. -2880.     0.     0.     0.\n",
      "      0.     0.]\n",
      " [  -60.     0.     0.     0.     0.     0.     0.  -210.    20.    40.\n",
      "     80.   160.]\n",
      " [ -120.     0.     0.     0.     0.     0.     0.    20.  -400.    80.\n",
      "    160.   320.]\n",
      " [ -240.     0.     0.     0.     0.     0.     0.    40.    80.  -720.\n",
      "    320.   640.]\n",
      " [ -480.     0.     0.     0.     0.     0.     0.    80.   160.   320.\n",
      "  -1120.  1280.]\n",
      " [ -960.     0.     0.     0.     0.     0.     0.   160.   320.   640.\n",
      "   1280.  -960.]]\n",
      "result x = : [1. 1.]\n"
     ]
    }
   ],
   "source": [
    "#function set\n",
    "%run Functions_Set.ipynb\n",
    "\n",
    "# Obj\n",
    "#QUBO = np.diag(np.abs(c))  \n",
    "\n",
    "# add constraint (r1)^{T} Ax ≤ b^{T} r1 to (RMP):\n",
    "\n",
    "new_Constraint = cons_add_lhs_final\n",
    "new_Symbol = symbol\n",
    "New_rhs = cons_add_rhs_final\n",
    "round_num = 3\n",
    "\n",
    "\n",
    "Penalty = np.max(np.abs(obj))*10\n",
    "\n",
    "QUBO_pre = QUBO\n",
    "\n",
    "QUBO, _ = solve_master_old(C, t, QUBO_pre, new_Constraint, new_Symbol, New_rhs, round_num, Penalty, _print = 1)\n",
    "\n",
    "\n",
    "\n",
    "print(QUBO)\n",
    "\n",
    "#show_graph(QUBO)\n",
    "\n",
    "# Select a solver\n",
    "sampler = LeapHybridSampler()\n",
    "\n",
    "sampleset = sampler.sample_qubo(QUBO)\n",
    "\n",
    "OP = sampleset.to_pandas_dataframe()\n",
    "OP_final = OP.to_numpy()[0]\n",
    "result = OP_final[:length]\n",
    "print(\"result x = :\",result)"
   ]
  },
  {
   "cell_type": "code",
   "execution_count": null,
   "id": "430f570a",
   "metadata": {},
   "outputs": [],
   "source": []
  }
 ],
 "metadata": {
  "kernelspec": {
   "display_name": "Python 3",
   "language": "python",
   "name": "python3"
  },
  "language_info": {
   "codemirror_mode": {
    "name": "ipython",
    "version": 3
   },
   "file_extension": ".py",
   "mimetype": "text/x-python",
   "name": "python",
   "nbconvert_exporter": "python",
   "pygments_lexer": "ipython3",
   "version": "3.8.6"
  }
 },
 "nbformat": 4,
 "nbformat_minor": 5
}
