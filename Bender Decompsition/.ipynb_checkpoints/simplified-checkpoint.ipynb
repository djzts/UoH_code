{
 "cells": [
  {
   "cell_type": "code",
   "execution_count": 11,
   "id": "bf48159c",
   "metadata": {},
   "outputs": [
    {
     "data": {
      "text/html": [
       "<style>.container { width:100% !important; }</style>"
      ],
      "text/plain": [
       "<IPython.core.display.HTML object>"
      ]
     },
     "metadata": {},
     "output_type": "display_data"
    },
    {
     "data": {
      "text/html": [
       "<style>.container { width:100% !important; }</style>"
      ],
      "text/plain": [
       "<IPython.core.display.HTML object>"
      ]
     },
     "metadata": {},
     "output_type": "display_data"
    },
    {
     "data": {
      "text/html": [
       "<style>.container { width:100% !important; }</style>"
      ],
      "text/plain": [
       "<IPython.core.display.HTML object>"
      ]
     },
     "metadata": {},
     "output_type": "display_data"
    }
   ],
   "source": [
    "import numpy as np\n",
    "from collections import defaultdict\n",
    "import random\n",
    "from numpy import random\n",
    "import matplotlib.pyplot as plt\n",
    "\n",
    "\n",
    "from collections import defaultdict\n",
    "\n",
    "from dwave.system.samplers import DWaveSampler\n",
    "from dwave.system.composites import EmbeddingComposite\n",
    "import networkx as nx\n",
    "import numpy as np\n",
    "import dwave.inspector\n",
    "import dimod\n",
    "from dwave.system import LeapHybridSampler\n",
    "import matplotlib\n",
    "from IPython.core.display import display, HTML\n",
    "display(HTML(\"<style>.container { width:100% !important; }</style>\"))\n",
    "\n",
    "\n",
    "## Quantum Part\n",
    "from collections import defaultdict\n",
    "\n",
    "from dwave.system.samplers import DWaveSampler\n",
    "from dwave.system.composites import EmbeddingComposite\n",
    "import networkx as nx\n",
    "import numpy as np\n",
    "import dwave.inspector\n",
    "import dimod\n",
    "from dwave.system import LeapHybridSampler\n",
    "import matplotlib\n",
    "from matplotlib import pyplot as plt\n",
    "\n",
    "#function set\n",
    "%run Functions_Set.ipynb\n",
    "\n",
    "#Page Size\n",
    "from IPython.core.display import display, HTML\n",
    "display(HTML(\"<style>.container { width:100% !important; }</style>\"))"
   ]
  },
  {
   "cell_type": "code",
   "execution_count": 12,
   "id": "2bb2b037",
   "metadata": {},
   "outputs": [],
   "source": [
    "def make_dictionary():\n",
    "    Var_dictionary = {}\n",
    "    # set-up a dictionary\n",
    "    Total = 0\n",
    "    # x input\n",
    "    for e in range(2):\n",
    "        Var_dictionary[\"x_%d\"%(e)] = int(e)\n",
    "    Total = len(Var_dictionary)   \n",
    "    return Var_dictionary, Total"
   ]
  },
  {
   "cell_type": "code",
   "execution_count": 13,
   "id": "9c603917",
   "metadata": {},
   "outputs": [],
   "source": [
    "def show_graph(matrix):\n",
    "    matfig = plt.figure(figsize=(9,9)) \n",
    "    plt.matshow(matrix,fignum=matfig.number)\n",
    "    plt.colorbar()\n",
    "    plt.show() "
   ]
  },
  {
   "cell_type": "code",
   "execution_count": 14,
   "id": "cdcd3198",
   "metadata": {},
   "outputs": [],
   "source": [
    "def dot(*mats):\n",
    "    A = mats[0]\n",
    "    for B in mats[1:]:\n",
    "        A = np.dot(A,B)    \n",
    "    return A\n",
    "        "
   ]
  },
  {
   "cell_type": "code",
   "execution_count": 15,
   "id": "09af67e1",
   "metadata": {},
   "outputs": [],
   "source": [
    "def add_front(a,b):\n",
    "    if len(a) < len(b):\n",
    "        c = b.copy()\n",
    "        c[:len(a)] += a\n",
    "    else:\n",
    "        c = a.copy()\n",
    "        \n",
    "        c[:len(b)] += b  \n",
    "    return c"
   ]
  },
  {
   "cell_type": "code",
   "execution_count": 16,
   "id": "97c1c74b",
   "metadata": {},
   "outputs": [],
   "source": [
    "def add_end(a,b):\n",
    "    if len(a) < len(b):\n",
    "        c = b.copy()\n",
    "        c[-len(a):] += a\n",
    "    else:\n",
    "        c = a.copy()\n",
    "        \n",
    "        c[-len(b):] += b  \n",
    "    return c"
   ]
  },
  {
   "cell_type": "markdown",
   "id": "eb055bc8",
   "metadata": {},
   "source": []
  },
  {
   "cell_type": "markdown",
   "id": "6b200c99",
   "metadata": {},
   "source": [
    "## General Structure\n",
    "$$\n",
    "\\max h^{\\intercal} \\cdot y + c^{\\intercal} \\cdot x\n",
    "$$\n",
    "\n",
    "$$\n",
    "s.t. \\quad A\\mathbf{x} + G \\mathbf{y} \\leq b\n",
    "$$\n",
    "\n",
    "$$\n",
    "x \\in Binary\n",
    "$$\n",
    "\n",
    "$$\n",
    "y \\geq 0\n",
    "$$"
   ]
  },
  {
   "cell_type": "markdown",
   "id": "37b77e85",
   "metadata": {},
   "source": [
    "## The Master problem\n",
    "\n",
    "$$\n",
    "\\max_{x,t} \\, c^{\\intercal} x + t\n",
    "$$\n",
    "\n",
    "$$\n",
    "s.t. \\quad (b-Ax)^{\\intercal}u^{k} \\geq t \\quad \\forall k \\in K\n",
    "$$\n",
    "\n",
    "$$\n",
    "\\qquad \\ (b-Ax)^{\\intercal}r^{j} \\geq 0 \\quad \\forall j \\in J\n",
    "$$\n",
    "\n",
    "$$\n",
    "t \\in \\mathbb{R} \\ , \\  x\\in X\n",
    "$$\n"
   ]
  },
  {
   "cell_type": "markdown",
   "id": "e29985dd",
   "metadata": {},
   "source": [
    "## The Rewritten Master problem\n",
    "\n",
    "$$\n",
    "\\max_{x,t} \\, c^{\\intercal} x + t\n",
    "$$\n",
    "\n",
    "$$\n",
    "s.t. \\quad t +\\left(u^{k}\\right)^{\\intercal}Ax \\geq b^{\\intercal}u^{k} \\quad \\forall k \\in K\n",
    "$$\n",
    "\n",
    "$$\n",
    "\\qquad \\ \\left(r^{j}\\right)^{\\intercal}Ax \\geq b^{\\intercal}r^{j} \\quad \\forall j \\in J\n",
    "$$\n",
    "\n",
    "$$\n",
    "t \\in \\mathbb{R} \\ , \\  x\\in X\n",
    "$$"
   ]
  },
  {
   "cell_type": "code",
   "execution_count": null,
   "id": "b2cd1438",
   "metadata": {},
   "outputs": [],
   "source": []
  },
  {
   "cell_type": "markdown",
   "id": "ec246142",
   "metadata": {},
   "source": [
    "## Initial relaxed Master Problem\n",
    "The first four constraints imply $y_{j} \\leq 1$ for $j = 1, . . . , 4$, for any choice of $x$.\n",
    "Thus, we can get a very simple bound for the problem: set $y_{j} = 1$ for $j = 1, . . . , 4$. This gives a value of $28$ from the $y$ variables.\n",
    "\n"
   ]
  },
  {
   "cell_type": "code",
   "execution_count": 5,
   "id": "883c349c",
   "metadata": {},
   "outputs": [
    {
     "data": {
      "text/plain": [
       "'\\nq = np.array([[0, 0],\\n              [0, 0],\\n              [0, 0],\\n              [0, 0],\\n              [-1, -1],\\n              [-1, 0],\\n              [-1, 0],\\n              [0, -1],\\n              [0, -1],])\\n\\nA_y = np.array([[5,3,4,6], \\n              [2.5,1.2,2,1.8],\\n              [1.5,0.9,1.6,2.4]\\n             ])\\n\\nA_z = np.array([[1,1,1,1], \\n              [0.8,0.7,0.6,0.3],\\n              [0.6,0.7,0.8,0.9]\\n             ])\\nb = np.array([1,1,1,1,-1,0,0,0,0])\\n\\nc = np.array([-15.0,-10.0])\\n\\nh = np.array([8,9,5,6])\\n'"
      ]
     },
     "execution_count": 5,
     "metadata": {},
     "output_type": "execute_result"
    }
   ],
   "source": [
    "\"\"\"\n",
    "q = np.array([[0, 0],\n",
    "              [0, 0],\n",
    "              [0, 0],\n",
    "              [0, 0],\n",
    "              [-1, -1],\n",
    "              [-1, 0],\n",
    "              [-1, 0],\n",
    "              [0, -1],\n",
    "              [0, -1],])\n",
    "\n",
    "A_y = np.array([[5,3,4,6], \n",
    "              [2.5,1.2,2,1.8],\n",
    "              [1.5,0.9,1.6,2.4]\n",
    "             ])\n",
    "\n",
    "A_z = np.array([[1,1,1,1], \n",
    "              [0.8,0.7,0.6,0.3],\n",
    "              [0.6,0.7,0.8,0.9]\n",
    "             ])\n",
    "b = np.array([1,1,1,1,-1,0,0,0,0])\n",
    "\n",
    "c = np.array([-15.0,-10.0])\n",
    "\n",
    "h = np.array([8,9,5,6])\n",
    "\"\"\"\n"
   ]
  },
  {
   "cell_type": "code",
   "execution_count": 10,
   "id": "410506cd",
   "metadata": {},
   "outputs": [],
   "source": [
    "# initialize y*\n",
    "UB = 1e3\n",
    "LB = -1e3\n",
    "epsilon = 0.1\n",
    "var_x_length = len(c)\n",
    "\n",
    "#while difference <= epsilon:\n",
    "    \n",
    "    \n",
    "    \n"
   ]
  },
  {
   "cell_type": "code",
   "execution_count": null,
   "id": "e2283afb",
   "metadata": {},
   "outputs": [],
   "source": [
    "#sub problem \n"
   ]
  },
  {
   "cell_type": "code",
   "execution_count": null,
   "id": "832a4423",
   "metadata": {},
   "outputs": [],
   "source": []
  },
  {
   "cell_type": "code",
   "execution_count": null,
   "id": "997d499d",
   "metadata": {},
   "outputs": [],
   "source": []
  }
 ],
 "metadata": {
  "kernelspec": {
   "display_name": "Python 3",
   "language": "python",
   "name": "python3"
  },
  "language_info": {
   "codemirror_mode": {
    "name": "ipython",
    "version": 3
   },
   "file_extension": ".py",
   "mimetype": "text/x-python",
   "name": "python",
   "nbconvert_exporter": "python",
   "pygments_lexer": "ipython3",
   "version": "3.8.6"
  }
 },
 "nbformat": 4,
 "nbformat_minor": 5
}
