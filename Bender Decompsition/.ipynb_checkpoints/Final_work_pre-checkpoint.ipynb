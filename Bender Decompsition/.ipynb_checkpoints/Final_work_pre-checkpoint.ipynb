{
 "cells": [
  {
   "cell_type": "code",
   "execution_count": 27,
   "id": "bf48159c",
   "metadata": {},
   "outputs": [
    {
     "data": {
      "text/html": [
       "<style>.container { width:100% !important; }</style>"
      ],
      "text/plain": [
       "<IPython.core.display.HTML object>"
      ]
     },
     "metadata": {},
     "output_type": "display_data"
    },
    {
     "data": {
      "text/html": [
       "<style>.container { width:100% !important; }</style>"
      ],
      "text/plain": [
       "<IPython.core.display.HTML object>"
      ]
     },
     "metadata": {},
     "output_type": "display_data"
    },
    {
     "data": {
      "text/html": [
       "<style>.container { width:100% !important; }</style>"
      ],
      "text/plain": [
       "<IPython.core.display.HTML object>"
      ]
     },
     "metadata": {},
     "output_type": "display_data"
    }
   ],
   "source": [
    "import numpy as np\n",
    "from collections import defaultdict\n",
    "import random\n",
    "from numpy import random\n",
    "import matplotlib.pyplot as plt\n",
    "\n",
    "\n",
    "from collections import defaultdict\n",
    "\n",
    "from dwave.system.samplers import DWaveSampler\n",
    "from dwave.system.composites import EmbeddingComposite\n",
    "import networkx as nx\n",
    "import numpy as np\n",
    "import dwave.inspector\n",
    "import dimod\n",
    "from dwave.system import LeapHybridSampler\n",
    "import matplotlib\n",
    "from IPython.core.display import display, HTML\n",
    "display(HTML(\"<style>.container { width:100% !important; }</style>\"))\n",
    "\n",
    "#traditional opt\n",
    "from scipy.optimize import linprog\n",
    "\n",
    "## Quantum Part\n",
    "from collections import defaultdict\n",
    "\n",
    "from dwave.system.samplers import DWaveSampler\n",
    "from dwave.system.composites import EmbeddingComposite\n",
    "import networkx as nx\n",
    "import numpy as np\n",
    "import dwave.inspector\n",
    "import dimod\n",
    "from dwave.system import LeapHybridSampler\n",
    "import matplotlib\n",
    "from matplotlib import pyplot as plt\n",
    "\n",
    "#function set\n",
    "%run Functions_Set.ipynb\n",
    "\n",
    "#Page Size\n",
    "from IPython.core.display import display, HTML\n",
    "display(HTML(\"<style>.container { width:100% !important; }</style>\"))"
   ]
  },
  {
   "cell_type": "code",
   "execution_count": 28,
   "id": "2bb2b037",
   "metadata": {},
   "outputs": [],
   "source": [
    "def make_dictionary():\n",
    "    Var_dictionary = {}\n",
    "    # set-up a dictionary\n",
    "    Total = 0\n",
    "    # x input\n",
    "    for e in range(2):\n",
    "        Var_dictionary[\"x_%d\"%(e)] = int(e)\n",
    "    Total = len(Var_dictionary)   \n",
    "    return Var_dictionary, Total"
   ]
  },
  {
   "cell_type": "code",
   "execution_count": 29,
   "id": "9c603917",
   "metadata": {},
   "outputs": [],
   "source": [
    "def show_graph(matrix):\n",
    "    matfig = plt.figure(figsize=(9,9)) \n",
    "    plt.matshow(matrix,fignum=matfig.number)\n",
    "    plt.colorbar()\n",
    "    plt.show() "
   ]
  },
  {
   "cell_type": "code",
   "execution_count": 30,
   "id": "cdcd3198",
   "metadata": {},
   "outputs": [],
   "source": [
    "def dot(*mats):\n",
    "    A = mats[0]\n",
    "    for B in mats[1:]:\n",
    "        A = np.dot(A,B)    \n",
    "    return A\n",
    "        "
   ]
  },
  {
   "cell_type": "code",
   "execution_count": 31,
   "id": "09af67e1",
   "metadata": {},
   "outputs": [],
   "source": [
    "def add_front(a,b):\n",
    "    if len(a) < len(b):\n",
    "        c = b.copy()\n",
    "        c[:len(a)] += a\n",
    "    else:\n",
    "        c = a.copy()\n",
    "        \n",
    "        c[:len(b)] += b  \n",
    "    return c"
   ]
  },
  {
   "cell_type": "code",
   "execution_count": 32,
   "id": "97c1c74b",
   "metadata": {},
   "outputs": [],
   "source": [
    "def add_end(a,b):\n",
    "    if len(a) < len(b):\n",
    "        c = b.copy()\n",
    "        c[-len(a):] += a\n",
    "    else:\n",
    "        c = a.copy()\n",
    "        \n",
    "        c[-len(b):] += b  \n",
    "    return c"
   ]
  },
  {
   "cell_type": "code",
   "execution_count": 33,
   "id": "ae5373b8",
   "metadata": {},
   "outputs": [
    {
     "name": "stdout",
     "output_type": "stream",
     "text": [
      "[3 3 3 5]\n",
      "[1 2 5 6]\n"
     ]
    }
   ],
   "source": [
    "a = np.array([1,2,3,5])\n",
    "b = np.array([2,1])\n",
    "print(add_front(a,b))\n",
    "print(add_end(a,b))"
   ]
  },
  {
   "cell_type": "markdown",
   "id": "52491d20",
   "metadata": {},
   "source": [
    "## Objective\n",
    "$$\n",
    "\\max 8y_{1} + 9y_{1} + 5y_{3} + 6y_{4} -15x_{1} - 10x_{2} \n",
    "$$\n",
    "\n",
    "$$\n",
    "s.t. \\quad y_{1} + y_{3} \\leq 1\n",
    "$$\n",
    "\n",
    "$$\n",
    "\\qquad \\  y_{1} + y_{4} \\leq 1\n",
    "$$\n",
    "\n",
    "$$\n",
    "\\qquad \\  y_{2} + y_{3} \\leq 1\n",
    "$$\n",
    "\n",
    "$$\n",
    "\\qquad \\  y_{2} + y_{4} \\leq 1\n",
    "$$\n",
    "\n",
    "$$\n",
    "\\qquad \\  x_{1} + x_{2} \\geq 1\n",
    "$$\n",
    "\n",
    "$$\n",
    "\\qquad \\  y_{1} - x_{1} \\leq 0\n",
    "$$\n",
    "\n",
    "$$\n",
    "\\qquad \\  y_{2} - x_{1} \\leq 0\n",
    "$$\n",
    "\n",
    "$$\n",
    "\\qquad \\  y_{3} - x_{2} \\leq 0\n",
    "$$\n",
    "\n",
    "$$\n",
    "\\qquad \\  y_{4} - x_{2} \\leq 0\n",
    "$$\n",
    "\n",
    "$$\n",
    "\\qquad \\ \\forall \\ j \\quad y_{j} \\geq 0\n",
    "$$"
   ]
  },
  {
   "cell_type": "markdown",
   "id": "eb055bc8",
   "metadata": {},
   "source": []
  },
  {
   "cell_type": "markdown",
   "id": "6b200c99",
   "metadata": {},
   "source": [
    "## General Structure\n",
    "$$\n",
    "\\max h^{\\intercal} \\cdot y + c^{\\intercal} \\cdot x\n",
    "$$\n",
    "\n",
    "$$\n",
    "s.t. \\quad A\\mathbf{x} + G \\mathbf{y} \\leq b\n",
    "$$\n",
    "\n",
    "$$\n",
    "x \\in Binary\n",
    "$$\n",
    "\n",
    "$$\n",
    "y \\in R^{+} (bounded)\n",
    "$$"
   ]
  },
  {
   "cell_type": "markdown",
   "id": "37b77e85",
   "metadata": {},
   "source": [
    "## The Master problem\n",
    "\n",
    "$$\n",
    "\\max_{x,t} \\, c^{\\intercal} x + t\n",
    "$$\n",
    "\n",
    "$$\n",
    "s.t. \\quad (b-Ax)^{\\intercal}u^{k} \\geq t \\quad \\forall k \\in K\n",
    "$$\n",
    "\n",
    "$$\n",
    "\\qquad \\ (b-Ax)^{\\intercal}r^{j} \\geq 0 \\quad \\forall j \\in J\n",
    "$$\n",
    "\n",
    "$$\n",
    "t \\in \\mathbb{R} \\ , \\  x\\in X\n",
    "$$\n"
   ]
  },
  {
   "cell_type": "markdown",
   "id": "e29985dd",
   "metadata": {},
   "source": [
    "## The Rewritten Master problem\n",
    "\n",
    "$$\n",
    "\\max_{x,t} \\, c^{\\intercal} x + t\n",
    "$$\n",
    "\n",
    "$$\n",
    "s.t. \\quad t +\\left(u^{k}\\right)^{\\intercal}Ax \\geq b^{\\intercal}u^{k} \\quad \\forall k \\in K\n",
    "$$\n",
    "\n",
    "$$\n",
    "\\qquad \\ \\left(r^{j}\\right)^{\\intercal}Ax \\geq b^{\\intercal}r^{j} \\quad \\forall j \\in J\n",
    "$$\n",
    "\n",
    "$$\n",
    "t \\in \\mathbb{R} \\ , \\  x\\in X\n",
    "$$"
   ]
  },
  {
   "cell_type": "code",
   "execution_count": null,
   "id": "9b17b4c1",
   "metadata": {},
   "outputs": [],
   "source": []
  },
  {
   "cell_type": "markdown",
   "id": "ec246142",
   "metadata": {},
   "source": [
    "## Initial relaxed Master Problem\n",
    "The first four constraints imply $y_{j} \\leq 1$ for $j = 1, . . . , 4$, for any choice of $x$.\n",
    "Thus, we can get a very simple bound for the problem: set $y_{j} = 1$ for $j = 1, . . . , 4$. This gives a value of $28$ from the $y$ variables.\n",
    "\n"
   ]
  },
  {
   "cell_type": "code",
   "execution_count": 386,
   "id": "883c349c",
   "metadata": {},
   "outputs": [
    {
     "name": "stdout",
     "output_type": "stream",
     "text": [
      "The length of variable is 2\n"
     ]
    }
   ],
   "source": [
    "A = np.array([[0, 0],\n",
    "              [0, 0],\n",
    "              [0, 0],\n",
    "              [0, 0],\n",
    "              [-1, -1],\n",
    "              [-1, 0],\n",
    "              [-1, 0],\n",
    "              [0, -1],\n",
    "              [0, -1],])\n",
    "\n",
    "G = np.array([[1,0,1,0], \n",
    "              [1,0,0,1],\n",
    "              [0,1,1,0],\n",
    "              [0,1,0,1],\n",
    "              [0,0,0,0],\n",
    "              [1,0,0,0],\n",
    "              [0,1,0,0],\n",
    "              [0,0,1,0],\n",
    "              [0,0,0,1],\n",
    "             ])\n",
    "b = np.array([1,1,1,1,-1,0,0,0,0])\n",
    "\n",
    "c = np.array([-15.0,-10.0])\n",
    "\n",
    "h = np.array([8,9,5,6])\n",
    "\n",
    "t = np.inf \n",
    "\n",
    "y_range = np.array([[0, 1],\n",
    "                   [0, 1],\n",
    "                   [0, 1],\n",
    "                   [0, 1]])\n",
    "length = len(c)\n",
    "\n",
    "print(\"The length of variable is\" , length)\n",
    "\n",
    "QUBO_obj = np.diag(np.abs(c))\n",
    "\n",
    "contraint_dict = {}"
   ]
  },
  {
   "cell_type": "code",
   "execution_count": 387,
   "id": "32f02b2e",
   "metadata": {},
   "outputs": [
    {
     "data": {
      "text/plain": [
       "2"
      ]
     },
     "execution_count": 387,
     "metadata": {},
     "output_type": "execute_result"
    }
   ],
   "source": [
    "len(QUBO_obj)"
   ]
  },
  {
   "cell_type": "code",
   "execution_count": 388,
   "id": "6351a58a",
   "metadata": {},
   "outputs": [
    {
     "name": "stdout",
     "output_type": "stream",
     "text": [
      "[[1 1]\n",
      " [1 1]\n",
      " [1 1]\n",
      " [1 1]]\n"
     ]
    }
   ],
   "source": [
    "sign = np.tile(np.sign(h), (2, 1)).T\n",
    "print(sign)"
   ]
  },
  {
   "cell_type": "code",
   "execution_count": 391,
   "id": "410506cd",
   "metadata": {},
   "outputs": [
    {
     "data": {
      "text/html": [
       "<style>.container { width:100% !important; }</style>"
      ],
      "text/plain": [
       "<IPython.core.display.HTML object>"
      ]
     },
     "metadata": {},
     "output_type": "display_data"
    },
    {
     "name": "stdout",
     "output_type": "stream",
     "text": [
      "the T is 28\n",
      "This is the 0 th region search, The search area is < [28. 20. 12.] >\n",
      "Searching the domain partially done, Now do the checking\n",
      "Looks Good returning the result now\n",
      "Initial region is,< [28. 20. 12.] >\n"
     ]
    }
   ],
   "source": [
    "#function set\n",
    "%run Functions_Set.ipynb\n",
    "# initial t\n",
    "y_range_actual = sign * y_range \n",
    "t = dot (np.max(y_range_actual,axis = 1),h) \n",
    "\n",
    "print(\"the T is\",t)\n",
    "\n",
    "step = 8.0 # => 2^n\n",
    "region, co_domain, opt_x_set = region_search(t, step, QUBO_obj, contraint_dict)\n",
    "print(\"Initial region is,<\",region,\">\")"
   ]
  },
  {
   "cell_type": "code",
   "execution_count": 392,
   "id": "d9b809ec",
   "metadata": {},
   "outputs": [
    {
     "data": {
      "text/html": [
       "<style>.container { width:100% !important; }</style>"
      ],
      "text/plain": [
       "<IPython.core.display.HTML object>"
      ]
     },
     "metadata": {},
     "output_type": "display_data"
    },
    {
     "name": "stdout",
     "output_type": "stream",
     "text": [
      "level 3.0 substep 4.0\n",
      "the searching area is < [28. 24. 20.] > , which is the 0 th in the subregion.\n",
      "Searching the sub-domain partially done, Now do the checking\n",
      "Looks Good, found the peak region going to dig into the sub region now\n",
      "the searching area is < [28. 26. 24.] > , which is the 0 th in the subregion.\n",
      "Searching the sub-domain partially done, Now do the checking\n",
      "Looks Good, found the peak region going to dig into the sub region now\n",
      "the searching area is < [28. 27. 26.] > , which is the 0 th in the subregion.\n",
      "Searching the sub-domain partially done, Now do the checking\n",
      "the step is 1, returning the peak region now\n",
      "region is: [28. 27. 26.] codomain is: [28 27 26]\n"
     ]
    }
   ],
   "source": [
    "#function set\n",
    "%run Functions_Set.ipynb\n",
    "level = np.log2(step)\n",
    "substep = 2**(level-1)\n",
    "print(\"level\", level,\"substep\",substep)    \n",
    "    \n",
    "sub_region ,value, opt_x_set =  region_check(region, substep, QUBO,contraint_dict)\n",
    "\n"
   ]
  },
  {
   "cell_type": "code",
   "execution_count": 393,
   "id": "1b1ff353",
   "metadata": {},
   "outputs": [
    {
     "name": "stdout",
     "output_type": "stream",
     "text": [
      "[28. 27. 26.] [28 27 26] [[0. 0.]\n",
      " [0. 0.]\n",
      " [0. 0.]]\n"
     ]
    }
   ],
   "source": [
    "print(sub_region ,value,opt_x_set)"
   ]
  },
  {
   "cell_type": "code",
   "execution_count": 394,
   "id": "e2283afb",
   "metadata": {},
   "outputs": [
    {
     "name": "stdout",
     "output_type": "stream",
     "text": [
      "28.0 [0. 0.]\n"
     ]
    }
   ],
   "source": [
    "t = sub_region[np.argmax(value)]\n",
    "opt_x = opt_x_set[np.argmax(value),:]\n",
    "print(t,opt_x)"
   ]
  },
  {
   "cell_type": "code",
   "execution_count": 395,
   "id": "832a4423",
   "metadata": {},
   "outputs": [
    {
     "name": "stdout",
     "output_type": "stream",
     "text": [
      "obj: [ 1.  1.  1.  1. -1.  0.  0.  0.  0.]\n"
     ]
    }
   ],
   "source": [
    "# Select a solver\n",
    "#sampler = LeapHybridSampler()\n",
    "\n",
    "#sampleset = sampler.sample_qubo(QUBO)\n",
    "\n",
    "#OP = sampleset.to_pandas_dataframe()\n",
    "#OP_final = OP.to_numpy()[0]\n",
    "#result = OP_final[:length]\n",
    "\n",
    "x = opt_x\n",
    "obj = b-np.dot(A,x)\n",
    "\n",
    "print(\"obj:\",obj)"
   ]
  },
  {
   "cell_type": "code",
   "execution_count": 396,
   "id": "d2698a19",
   "metadata": {},
   "outputs": [
    {
     "name": "stdout",
     "output_type": "stream",
     "text": [
      "[[-1 -1  0  0  0 -1  0  0  0]\n",
      " [ 0  0 -1 -1  0  0 -1  0  0]\n",
      " [-1  0 -1  0  0  0  0 -1  0]\n",
      " [ 0 -1  0 -1  0  0  0  0 -1]] [-8 -9 -5 -6]\n",
      "     con: array([], dtype=float64)\n",
      "     fun: -inf\n",
      " message: 'If feasible, the problem is (trivially) unbounded due  to a zero column in the constraint matrices. If you wish to check whether the problem is infeasible, turn presolve off.'\n",
      "     nit: 0\n",
      "   slack: array([nan, nan, nan, nan])\n",
      "  status: 3\n",
      " success: False\n",
      "       x: array([ 0.,  0.,  0.,  0., inf,  0.,  0.,  0.,  0.])\n"
     ]
    }
   ],
   "source": [
    "lhs_ineq = -G.T\n",
    "rhs_ineq = -h.T\n",
    "bnd = [(0, float(\"inf\")),\n",
    "       (0, float(\"inf\")),\n",
    "       (0, float(\"inf\")),\n",
    "       (0, float(\"inf\")),\n",
    "       (0, float(\"inf\")),\n",
    "       (0, float(\"inf\")),\n",
    "       (0, float(\"inf\")),\n",
    "       (0, float(\"inf\")),   \n",
    "       (0, float(\"inf\")),]  # Bounds of u s\n",
    "\n",
    "print(lhs_ineq,rhs_ineq)\n",
    "\n",
    "\n",
    "opt = linprog(c=obj, A_ub=lhs_ineq, b_ub=rhs_ineq, bounds=bnd,method=\"revised simplex\")\n",
    "print(opt)"
   ]
  },
  {
   "cell_type": "code",
   "execution_count": 397,
   "id": "55384c53",
   "metadata": {},
   "outputs": [],
   "source": [
    "x_result = opt['x']\n",
    "ray_flag = 1\n",
    "if np.isinf(x_result).any():\n",
    "    x_result = np.sign(opt['x'])\n",
    "    ray_flag = 0"
   ]
  },
  {
   "cell_type": "code",
   "execution_count": 398,
   "id": "2d49d624",
   "metadata": {},
   "outputs": [
    {
     "name": "stdout",
     "output_type": "stream",
     "text": [
      "[-1. -1.] <= -1.0\n"
     ]
    }
   ],
   "source": [
    "cons_add_lhs = dot(x_result,A)\n",
    "cons_add_rhs = dot(b,x_result)\n",
    "print(cons_add_lhs,\"<=\",cons_add_rhs)"
   ]
  },
  {
   "cell_type": "code",
   "execution_count": 399,
   "id": "cf1ed6d3",
   "metadata": {},
   "outputs": [
    {
     "data": {
      "text/plain": [
       "{0: [array([-1., -1.]), '<=', -1.0, 0]}"
      ]
     },
     "execution_count": 399,
     "metadata": {},
     "output_type": "execute_result"
    }
   ],
   "source": [
    "contraint_dict.update({0: [cons_add_lhs, \"<=\", cons_add_rhs, ray_flag]})\n",
    "contraint_dict"
   ]
  },
  {
   "cell_type": "code",
   "execution_count": 400,
   "id": "ebd19f49",
   "metadata": {},
   "outputs": [
    {
     "data": {
      "text/html": [
       "<style>.container { width:100% !important; }</style>"
      ],
      "text/plain": [
       "<IPython.core.display.HTML object>"
      ]
     },
     "metadata": {},
     "output_type": "display_data"
    },
    {
     "name": "stdout",
     "output_type": "stream",
     "text": [
      "This is the 0 th region search, The search area is < [28. 20. 12.] >\n",
      "input constraint: 0 th constraint: [-1. -1.] <= -1.0 flag is 0\n",
      "input constraint: 0 th constraint: [1. 1.] >= 1.0\n",
      "yep enter\n",
      "[1. 1.] >= 1.0\n",
      "label =>  0 , penalty is 150.0\n",
      "fx >=1 condition\n",
      "input constraint: 0 th constraint: [-1. -1.] <= -1.0 flag is 0\n",
      "input constraint: 0 th constraint: [1. 1.] >= 1.0\n",
      "yep enter\n",
      "[1. 1.] >= 1.0\n",
      "label =>  0 , penalty is 150.0\n",
      "fx >=1 condition\n",
      "input constraint: 0 th constraint: [-1. -1.] <= -1.0 flag is 0\n",
      "input constraint: 0 th constraint: [1. 1.] >= 1.0\n",
      "yep enter\n",
      "[1. 1.] >= 1.0\n",
      "label =>  0 , penalty is 150.0\n",
      "fx >=1 condition\n",
      "Searching the domain partially done, Now do the checking\n",
      "Looks Good returning the result now\n",
      "Initial region is,< [28. 20. 12.] >\n"
     ]
    }
   ],
   "source": [
    "%run Functions_Set.ipynb\n",
    "step = 8.0 # => 2^n\n",
    "region, co_domain, opt_x_set = region_search(t, step, QUBO_obj, contraint_dict)\n",
    "print(\"Initial region is,<\",region,\">\")"
   ]
  },
  {
   "cell_type": "code",
   "execution_count": 401,
   "id": "15894112",
   "metadata": {},
   "outputs": [
    {
     "data": {
      "text/html": [
       "<style>.container { width:100% !important; }</style>"
      ],
      "text/plain": [
       "<IPython.core.display.HTML object>"
      ]
     },
     "metadata": {},
     "output_type": "display_data"
    },
    {
     "name": "stdout",
     "output_type": "stream",
     "text": [
      "level 3.0 substep 4.0\n",
      "the searching area is < [28. 24. 20.] > , which is the 0 th in the subregion.\n",
      "input constraint: 0 th constraint: [-1. -1.] <= -1.0 flag is 0\n",
      "input constraint: 0 th constraint: [1. 1.] >= 1.0\n",
      "yep enter\n",
      "[1. 1.] >= 1.0\n",
      "label =>  0 , penalty is 150.0\n",
      "fx >=1 condition\n",
      "input constraint: 0 th constraint: [-1. -1.] <= -1.0 flag is 0\n",
      "input constraint: 0 th constraint: [1. 1.] >= 1.0\n",
      "yep enter\n",
      "[1. 1.] >= 1.0\n",
      "label =>  0 , penalty is 150.0\n",
      "fx >=1 condition\n",
      "input constraint: 0 th constraint: [-1. -1.] <= -1.0 flag is 0\n",
      "input constraint: 0 th constraint: [1. 1.] >= 1.0\n",
      "yep enter\n",
      "[1. 1.] >= 1.0\n",
      "label =>  0 , penalty is 150.0\n",
      "fx >=1 condition\n",
      "Searching the sub-domain partially done, Now do the checking\n",
      "Looks Good, found the peak region going to dig into the sub region now\n",
      "the searching area is < [28. 26. 24.] > , which is the 0 th in the subregion.\n",
      "input constraint: 0 th constraint: [-1. -1.] <= -1.0 flag is 0\n",
      "input constraint: 0 th constraint: [1. 1.] >= 1.0\n",
      "yep enter\n",
      "[1. 1.] >= 1.0\n",
      "label =>  0 , penalty is 150.0\n",
      "fx >=1 condition\n",
      "input constraint: 0 th constraint: [-1. -1.] <= -1.0 flag is 0\n",
      "input constraint: 0 th constraint: [1. 1.] >= 1.0\n",
      "yep enter\n",
      "[1. 1.] >= 1.0\n",
      "label =>  0 , penalty is 150.0\n",
      "fx >=1 condition\n",
      "input constraint: 0 th constraint: [-1. -1.] <= -1.0 flag is 0\n",
      "input constraint: 0 th constraint: [1. 1.] >= 1.0\n",
      "yep enter\n",
      "[1. 1.] >= 1.0\n",
      "label =>  0 , penalty is 150.0\n",
      "fx >=1 condition\n",
      "Searching the sub-domain partially done, Now do the checking\n",
      "Looks Good, found the peak region going to dig into the sub region now\n",
      "the searching area is < [28. 27. 26.] > , which is the 0 th in the subregion.\n",
      "input constraint: 0 th constraint: [-1. -1.] <= -1.0 flag is 0\n",
      "input constraint: 0 th constraint: [1. 1.] >= 1.0\n",
      "yep enter\n",
      "[1. 1.] >= 1.0\n",
      "label =>  0 , penalty is 150.0\n",
      "fx >=1 condition\n",
      "input constraint: 0 th constraint: [-1. -1.] <= -1.0 flag is 0\n",
      "input constraint: 0 th constraint: [1. 1.] >= 1.0\n",
      "yep enter\n",
      "[1. 1.] >= 1.0\n",
      "label =>  0 , penalty is 150.0\n",
      "fx >=1 condition\n",
      "input constraint: 0 th constraint: [-1. -1.] <= -1.0 flag is 0\n",
      "input constraint: 0 th constraint: [1. 1.] >= 1.0\n",
      "yep enter\n",
      "[1. 1.] >= 1.0\n",
      "label =>  0 , penalty is 150.0\n",
      "fx >=1 condition\n",
      "Searching the sub-domain partially done, Now do the checking\n",
      "the step is 1, returning the peak region now\n",
      "region is: [28. 27. 26.] codomain is: [18 17 16]\n"
     ]
    }
   ],
   "source": [
    "#function set\n",
    "%run Functions_Set.ipynb\n",
    "level = np.log2(step)\n",
    "substep = 2**(level-1)\n",
    "print(\"level\", level,\"substep\",substep)    \n",
    "    \n",
    "sub_region ,value, opt_x_set =  region_check(region, substep, QUBO,contraint_dict)"
   ]
  },
  {
   "cell_type": "code",
   "execution_count": 402,
   "id": "0292c5c1",
   "metadata": {},
   "outputs": [
    {
     "name": "stdout",
     "output_type": "stream",
     "text": [
      "28.0 [0. 1.]\n",
      "obj: [1. 1. 1. 1. 0. 0. 0. 1. 1.]\n"
     ]
    }
   ],
   "source": [
    "t = sub_region[np.argmax(value)]\n",
    "opt_x = opt_x_set[np.argmax(value),:]\n",
    "print(t,opt_x)\n",
    "\n",
    "\n",
    "x = opt_x\n",
    "obj = b-np.dot(A,x)\n",
    "\n",
    "print(\"obj:\",obj)"
   ]
  },
  {
   "cell_type": "code",
   "execution_count": 403,
   "id": "11d204d4",
   "metadata": {},
   "outputs": [
    {
     "name": "stdout",
     "output_type": "stream",
     "text": [
      "     con: array([], dtype=float64)\n",
      "     fun: 11.0\n",
      " message: 'Optimization terminated successfully.'\n",
      "     nit: 0\n",
      "   slack: array([0., 0., 0., 0.])\n",
      "  status: 0\n",
      " success: True\n",
      "       x: array([0., 0., 0., 0., 0., 8., 9., 5., 6.])\n"
     ]
    }
   ],
   "source": [
    "opt = linprog(c=obj, A_ub=lhs_ineq, b_ub=rhs_ineq, bounds=bnd,method=\"revised simplex\")\n",
    "print(opt)"
   ]
  },
  {
   "cell_type": "code",
   "execution_count": 404,
   "id": "aa55770c",
   "metadata": {},
   "outputs": [],
   "source": [
    "x_result = opt['x']\n",
    "ray_flag = 1\n",
    "if np.isinf(x_result).any():\n",
    "    x_result = np.sign(opt['x'])\n",
    "    ray_flag = 0"
   ]
  },
  {
   "cell_type": "code",
   "execution_count": 405,
   "id": "de7be810",
   "metadata": {},
   "outputs": [
    {
     "name": "stdout",
     "output_type": "stream",
     "text": [
      "[-17. -11.] <= 0.0\n"
     ]
    }
   ],
   "source": [
    "cons_add_lhs = dot(x_result,A)\n",
    "cons_add_rhs = dot(b,x_result)\n",
    "print(cons_add_lhs,\"<=\",cons_add_rhs)"
   ]
  },
  {
   "cell_type": "code",
   "execution_count": 406,
   "id": "00644714",
   "metadata": {},
   "outputs": [
    {
     "data": {
      "text/plain": [
       "{0: [array([-1., -1.]), '<=', -1.0, 0], 1: [array([-17., -11.]), '<=', 0.0, 1]}"
      ]
     },
     "execution_count": 406,
     "metadata": {},
     "output_type": "execute_result"
    }
   ],
   "source": [
    "contraint_dict.update({1: [cons_add_lhs, \"<=\", cons_add_rhs, ray_flag]})\n",
    "contraint_dict"
   ]
  },
  {
   "cell_type": "code",
   "execution_count": 407,
   "id": "13cf7bba",
   "metadata": {},
   "outputs": [
    {
     "data": {
      "text/html": [
       "<style>.container { width:100% !important; }</style>"
      ],
      "text/plain": [
       "<IPython.core.display.HTML object>"
      ]
     },
     "metadata": {},
     "output_type": "display_data"
    },
    {
     "name": "stdout",
     "output_type": "stream",
     "text": [
      "This is the 0 th region search, The search area is < [28. 20. 12.] >\n",
      "input constraint: 0 th constraint: [-1. -1.] <= -1.0 flag is 0\n",
      "input constraint: 0 th constraint: [1. 1.] >= 1.0\n",
      "yep enter\n",
      "[1. 1.] >= 1.0\n",
      "label =>  0 , penalty is 150.0\n",
      "fx >=1 condition\n",
      "input constraint: 1 th constraint: [-17. -11.] <= -28.0 flag is 1\n",
      "input constraint: 1 th constraint: [17. 11.] >= 28.0\n",
      "yep enter\n",
      "[17. 11.] >= 28.0\n",
      "QUBO_Cons_ineq_normal\n",
      "label >=  0 , penalty is 150.0\n",
      "symbol == >=\n",
      "Slack_Var_Add_num: 0\n",
      "Slack_Var_Add_coeff: []\n",
      "normal else\n",
      "input constraint: 0 th constraint: [-1. -1.] <= -1.0 flag is 0\n",
      "input constraint: 0 th constraint: [1. 1.] >= 1.0\n",
      "yep enter\n",
      "[1. 1.] >= 1.0\n",
      "label =>  0 , penalty is 150.0\n",
      "fx >=1 condition\n",
      "input constraint: 1 th constraint: [-17. -11.] <= -20.0 flag is 1\n",
      "input constraint: 1 th constraint: [17. 11.] >= 20.0\n",
      "yep enter\n",
      "[17. 11.] >= 20.0\n",
      "QUBO_Cons_ineq_normal\n",
      "label >=  0 , penalty is 150.0\n",
      "symbol == >=\n",
      "Slack_Var_Add_num: 4.0\n",
      "Slack_Var_Add_coeff: [1. 2. 4. 8.]\n",
      "var_matched_2: [0. 0. 1. 2. 4. 8.]\n",
      "normal else\n",
      "input constraint: 0 th constraint: [-1. -1.] <= -1.0 flag is 0\n",
      "input constraint: 0 th constraint: [1. 1.] >= 1.0\n",
      "yep enter\n",
      "[1. 1.] >= 1.0\n",
      "label =>  0 , penalty is 150.0\n",
      "fx >=1 condition\n",
      "input constraint: 1 th constraint: [-17. -11.] <= -12.0 flag is 1\n",
      "input constraint: 1 th constraint: [17. 11.] >= 12.0\n",
      "yep enter\n",
      "[17. 11.] >= 12.0\n",
      "QUBO_Cons_ineq_normal\n",
      "label >=  0 , penalty is 150.0\n",
      "symbol == >=\n",
      "Slack_Var_Add_num: 5.0\n",
      "Slack_Var_Add_coeff: [ 1.  2.  4.  8. 16.]\n",
      "var_matched_2: [ 0.  0.  1.  2.  4.  8. 16.]\n",
      "normal else\n",
      "Searching the domain partially done, Now do the checking\n",
      "continue, since [ 3 -5 -3] is not what we need\n",
      "This is the 1 th region search, The search area is < [20. 12.  4.] >\n",
      "input constraint: 0 th constraint: [-1. -1.] <= -1.0 flag is 0\n",
      "input constraint: 0 th constraint: [1. 1.] >= 1.0\n",
      "yep enter\n",
      "[1. 1.] >= 1.0\n",
      "label =>  0 , penalty is 150.0\n",
      "fx >=1 condition\n",
      "input constraint: 1 th constraint: [-17. -11.] <= -20.0 flag is 1\n",
      "input constraint: 1 th constraint: [17. 11.] >= 20.0\n",
      "yep enter\n",
      "[17. 11.] >= 20.0\n",
      "QUBO_Cons_ineq_normal\n",
      "label >=  0 , penalty is 150.0\n",
      "symbol == >=\n",
      "Slack_Var_Add_num: 4.0\n",
      "Slack_Var_Add_coeff: [1. 2. 4. 8.]\n",
      "var_matched_2: [0. 0. 1. 2. 4. 8.]\n",
      "normal else\n",
      "input constraint: 0 th constraint: [-1. -1.] <= -1.0 flag is 0\n",
      "input constraint: 0 th constraint: [1. 1.] >= 1.0\n",
      "yep enter\n",
      "[1. 1.] >= 1.0\n",
      "label =>  0 , penalty is 150.0\n",
      "fx >=1 condition\n",
      "input constraint: 1 th constraint: [-17. -11.] <= -12.0 flag is 1\n",
      "input constraint: 1 th constraint: [17. 11.] >= 12.0\n",
      "yep enter\n",
      "[17. 11.] >= 12.0\n",
      "QUBO_Cons_ineq_normal\n",
      "label >=  0 , penalty is 150.0\n",
      "symbol == >=\n",
      "Slack_Var_Add_num: 5.0\n",
      "Slack_Var_Add_coeff: [ 1.  2.  4.  8. 16.]\n",
      "var_matched_2: [ 0.  0.  1.  2.  4.  8. 16.]\n",
      "normal else\n",
      "input constraint: 0 th constraint: [-1. -1.] <= -1.0 flag is 0\n",
      "input constraint: 0 th constraint: [1. 1.] >= 1.0\n",
      "yep enter\n",
      "[1. 1.] >= 1.0\n",
      "label =>  0 , penalty is 150.0\n",
      "fx >=1 condition\n",
      "input constraint: 1 th constraint: [-17. -11.] <= -4.0 flag is 1\n",
      "input constraint: 1 th constraint: [17. 11.] >= 4.0\n",
      "yep enter\n",
      "[17. 11.] >= 4.0\n",
      "QUBO_Cons_ineq_normal\n",
      "label >=  0 , penalty is 150.0\n",
      "symbol == >=\n",
      "Slack_Var_Add_num: 5.0\n",
      "Slack_Var_Add_coeff: [ 1.  2.  4.  8. 16.]\n",
      "var_matched_2: [ 0.  0.  1.  2.  4.  8. 16.]\n",
      "normal else\n",
      "Searching the domain partially done, Now do the checking\n",
      "Looks Good returning the result now\n",
      "Initial region is,< [20. 12.  4.] >\n"
     ]
    }
   ],
   "source": [
    "%run Functions_Set.ipynb\n",
    "step = 8.0 # => 2^n\n",
    "region, co_domain, opt_x_set = region_search(t, step, QUBO_obj, contraint_dict)\n",
    "print(\"Initial region is,<\",region,\">\")"
   ]
  },
  {
   "cell_type": "code",
   "execution_count": 408,
   "id": "7d307116",
   "metadata": {},
   "outputs": [
    {
     "data": {
      "text/html": [
       "<style>.container { width:100% !important; }</style>"
      ],
      "text/plain": [
       "<IPython.core.display.HTML object>"
      ]
     },
     "metadata": {},
     "output_type": "display_data"
    },
    {
     "name": "stdout",
     "output_type": "stream",
     "text": [
      "level 3.0 substep 4.0\n",
      "the searching area is < [20. 16. 12.] > , which is the 0 th in the subregion.\n",
      "input constraint: 0 th constraint: [-1. -1.] <= -1.0 flag is 0\n",
      "input constraint: 0 th constraint: [1. 1.] >= 1.0\n",
      "yep enter\n",
      "[1. 1.] >= 1.0\n",
      "label =>  0 , penalty is 150.0\n",
      "fx >=1 condition\n",
      "input constraint: 1 th constraint: [-17. -11.] <= -20.0 flag is 1\n",
      "input constraint: 1 th constraint: [17. 11.] >= 20.0\n",
      "yep enter\n",
      "[17. 11.] >= 20.0\n",
      "QUBO_Cons_ineq_normal\n",
      "label >=  0 , penalty is 150.0\n",
      "symbol == >=\n",
      "Slack_Var_Add_num: 4.0\n",
      "Slack_Var_Add_coeff: [1. 2. 4. 8.]\n",
      "var_matched_2: [0. 0. 1. 2. 4. 8.]\n",
      "normal else\n",
      "input constraint: 0 th constraint: [-1. -1.] <= -1.0 flag is 0\n",
      "input constraint: 0 th constraint: [1. 1.] >= 1.0\n",
      "yep enter\n",
      "[1. 1.] >= 1.0\n",
      "label =>  0 , penalty is 150.0\n",
      "fx >=1 condition\n",
      "input constraint: 1 th constraint: [-17. -11.] <= -16.0 flag is 1\n",
      "input constraint: 1 th constraint: [17. 11.] >= 16.0\n",
      "yep enter\n",
      "[17. 11.] >= 16.0\n",
      "QUBO_Cons_ineq_normal\n",
      "label >=  0 , penalty is 150.0\n",
      "symbol == >=\n",
      "Slack_Var_Add_num: 4.0\n",
      "Slack_Var_Add_coeff: [1. 2. 4. 8.]\n",
      "var_matched_2: [0. 0. 1. 2. 4. 8.]\n",
      "normal else\n",
      "input constraint: 0 th constraint: [-1. -1.] <= -1.0 flag is 0\n",
      "input constraint: 0 th constraint: [1. 1.] >= 1.0\n",
      "yep enter\n",
      "[1. 1.] >= 1.0\n",
      "label =>  0 , penalty is 150.0\n",
      "fx >=1 condition\n",
      "input constraint: 1 th constraint: [-17. -11.] <= -12.0 flag is 1\n",
      "input constraint: 1 th constraint: [17. 11.] >= 12.0\n",
      "yep enter\n",
      "[17. 11.] >= 12.0\n",
      "QUBO_Cons_ineq_normal\n",
      "label >=  0 , penalty is 150.0\n",
      "symbol == >=\n",
      "Slack_Var_Add_num: 5.0\n",
      "Slack_Var_Add_coeff: [ 1.  2.  4.  8. 16.]\n",
      "var_matched_2: [ 0.  0.  1.  2.  4.  8. 16.]\n",
      "normal else\n",
      "Searching the sub-domain partially done, Now do the checking\n",
      "Looks Good, found the peak region going to dig into the sub region now\n",
      "the searching area is < [20. 18. 16.] > , which is the 0 th in the subregion.\n",
      "input constraint: 0 th constraint: [-1. -1.] <= -1.0 flag is 0\n",
      "input constraint: 0 th constraint: [1. 1.] >= 1.0\n",
      "yep enter\n",
      "[1. 1.] >= 1.0\n",
      "label =>  0 , penalty is 150.0\n",
      "fx >=1 condition\n",
      "input constraint: 1 th constraint: [-17. -11.] <= -20.0 flag is 1\n",
      "input constraint: 1 th constraint: [17. 11.] >= 20.0\n",
      "yep enter\n",
      "[17. 11.] >= 20.0\n",
      "QUBO_Cons_ineq_normal\n",
      "label >=  0 , penalty is 150.0\n",
      "symbol == >=\n",
      "Slack_Var_Add_num: 4.0\n",
      "Slack_Var_Add_coeff: [1. 2. 4. 8.]\n",
      "var_matched_2: [0. 0. 1. 2. 4. 8.]\n",
      "normal else\n",
      "input constraint: 0 th constraint: [-1. -1.] <= -1.0 flag is 0\n",
      "input constraint: 0 th constraint: [1. 1.] >= 1.0\n",
      "yep enter\n",
      "[1. 1.] >= 1.0\n",
      "label =>  0 , penalty is 150.0\n",
      "fx >=1 condition\n",
      "input constraint: 1 th constraint: [-17. -11.] <= -18.0 flag is 1\n",
      "input constraint: 1 th constraint: [17. 11.] >= 18.0\n",
      "yep enter\n",
      "[17. 11.] >= 18.0\n",
      "QUBO_Cons_ineq_normal\n",
      "label >=  0 , penalty is 150.0\n",
      "symbol == >=\n",
      "Slack_Var_Add_num: 4.0\n",
      "Slack_Var_Add_coeff: [1. 2. 4. 8.]\n",
      "var_matched_2: [0. 0. 1. 2. 4. 8.]\n",
      "normal else\n",
      "input constraint: 0 th constraint: [-1. -1.] <= -1.0 flag is 0\n",
      "input constraint: 0 th constraint: [1. 1.] >= 1.0\n",
      "yep enter\n",
      "[1. 1.] >= 1.0\n",
      "label =>  0 , penalty is 150.0\n",
      "fx >=1 condition\n",
      "input constraint: 1 th constraint: [-17. -11.] <= -16.0 flag is 1\n",
      "input constraint: 1 th constraint: [17. 11.] >= 16.0\n",
      "yep enter\n",
      "[17. 11.] >= 16.0\n",
      "QUBO_Cons_ineq_normal\n",
      "label >=  0 , penalty is 150.0\n",
      "symbol == >=\n",
      "Slack_Var_Add_num: 4.0\n",
      "Slack_Var_Add_coeff: [1. 2. 4. 8.]\n",
      "var_matched_2: [0. 0. 1. 2. 4. 8.]\n",
      "normal else\n",
      "Searching the sub-domain partially done, Now do the checking\n",
      "continue: No peak in this subregion.< [20. 18. 16.] >, The value codomain is< [-5 -7  1] > going to the next region\n",
      "the searching area is < [18. 16. 14.] > , which is the 3 th in the subregion.\n",
      "input constraint: 0 th constraint: [-1. -1.] <= -1.0 flag is 0\n",
      "input constraint: 0 th constraint: [1. 1.] >= 1.0\n",
      "yep enter\n",
      "[1. 1.] >= 1.0\n",
      "label =>  0 , penalty is 150.0\n",
      "fx >=1 condition\n",
      "input constraint: 1 th constraint: [-17. -11.] <= -18.0 flag is 1\n",
      "input constraint: 1 th constraint: [17. 11.] >= 18.0\n",
      "yep enter\n",
      "[17. 11.] >= 18.0\n",
      "QUBO_Cons_ineq_normal\n",
      "label >=  0 , penalty is 150.0\n",
      "symbol == >=\n",
      "Slack_Var_Add_num: 4.0\n",
      "Slack_Var_Add_coeff: [1. 2. 4. 8.]\n",
      "var_matched_2: [0. 0. 1. 2. 4. 8.]\n",
      "normal else\n",
      "input constraint: 0 th constraint: [-1. -1.] <= -1.0 flag is 0\n",
      "input constraint: 0 th constraint: [1. 1.] >= 1.0\n",
      "yep enter\n",
      "[1. 1.] >= 1.0\n",
      "label =>  0 , penalty is 150.0\n",
      "fx >=1 condition\n",
      "input constraint: 1 th constraint: [-17. -11.] <= -16.0 flag is 1\n",
      "input constraint: 1 th constraint: [17. 11.] >= 16.0\n",
      "yep enter\n",
      "[17. 11.] >= 16.0\n",
      "QUBO_Cons_ineq_normal\n",
      "label >=  0 , penalty is 150.0\n",
      "symbol == >=\n",
      "Slack_Var_Add_num: 4.0\n",
      "Slack_Var_Add_coeff: [1. 2. 4. 8.]\n",
      "var_matched_2: [0. 0. 1. 2. 4. 8.]\n",
      "normal else\n",
      "input constraint: 0 th constraint: [-1. -1.] <= -1.0 flag is 0\n",
      "input constraint: 0 th constraint: [1. 1.] >= 1.0\n",
      "yep enter\n",
      "[1. 1.] >= 1.0\n",
      "label =>  0 , penalty is 150.0\n",
      "fx >=1 condition\n",
      "input constraint: 1 th constraint: [-17. -11.] <= -14.0 flag is 1\n",
      "input constraint: 1 th constraint: [17. 11.] >= 14.0\n",
      "yep enter\n",
      "[17. 11.] >= 14.0\n",
      "QUBO_Cons_ineq_normal\n",
      "label >=  0 , penalty is 150.0\n",
      "symbol == >=\n",
      "Slack_Var_Add_num: 4.0\n",
      "Slack_Var_Add_coeff: [1. 2. 4. 8.]\n",
      "var_matched_2: [0. 0. 1. 2. 4. 8.]\n",
      "normal else\n",
      "Searching the sub-domain partially done, Now do the checking\n",
      "Looks Good, found the peak region going to dig into the sub region now\n",
      "the searching area is < [18. 17. 16.] > , which is the 0 th in the subregion.\n",
      "input constraint: 0 th constraint: [-1. -1.] <= -1.0 flag is 0\n",
      "input constraint: 0 th constraint: [1. 1.] >= 1.0\n",
      "yep enter\n",
      "[1. 1.] >= 1.0\n",
      "label =>  0 , penalty is 150.0\n",
      "fx >=1 condition\n",
      "input constraint: 1 th constraint: [-17. -11.] <= -18.0 flag is 1\n",
      "input constraint: 1 th constraint: [17. 11.] >= 18.0\n",
      "yep enter\n",
      "[17. 11.] >= 18.0\n",
      "QUBO_Cons_ineq_normal\n",
      "label >=  0 , penalty is 150.0\n",
      "symbol == >=\n",
      "Slack_Var_Add_num: 4.0\n",
      "Slack_Var_Add_coeff: [1. 2. 4. 8.]\n",
      "var_matched_2: [0. 0. 1. 2. 4. 8.]\n",
      "normal else\n",
      "input constraint: 0 th constraint: [-1. -1.] <= -1.0 flag is 0\n",
      "input constraint: 0 th constraint: [1. 1.] >= 1.0\n",
      "yep enter\n",
      "[1. 1.] >= 1.0\n",
      "label =>  0 , penalty is 150.0\n",
      "fx >=1 condition\n",
      "input constraint: 1 th constraint: [-17. -11.] <= -17.0 flag is 1\n",
      "input constraint: 1 th constraint: [17. 11.] >= 17.0\n",
      "yep enter\n",
      "[17. 11.] >= 17.0\n",
      "QUBO_Cons_ineq_normal\n",
      "label >=  0 , penalty is 150.0\n",
      "symbol == >=\n",
      "Slack_Var_Add_num: 4.0\n",
      "Slack_Var_Add_coeff: [1. 2. 4. 8.]\n",
      "var_matched_2: [0. 0. 1. 2. 4. 8.]\n",
      "normal else\n",
      "input constraint: 0 th constraint: [-1. -1.] <= -1.0 flag is 0\n",
      "input constraint: 0 th constraint: [1. 1.] >= 1.0\n",
      "yep enter\n",
      "[1. 1.] >= 1.0\n",
      "label =>  0 , penalty is 150.0\n",
      "fx >=1 condition\n",
      "input constraint: 1 th constraint: [-17. -11.] <= -16.0 flag is 1\n",
      "input constraint: 1 th constraint: [17. 11.] >= 16.0\n",
      "yep enter\n",
      "[17. 11.] >= 16.0\n",
      "QUBO_Cons_ineq_normal\n",
      "label >=  0 , penalty is 150.0\n",
      "symbol == >=\n",
      "Slack_Var_Add_num: 4.0\n",
      "Slack_Var_Add_coeff: [1. 2. 4. 8.]\n",
      "var_matched_2: [0. 0. 1. 2. 4. 8.]\n",
      "normal else\n",
      "Searching the sub-domain partially done, Now do the checking\n",
      "the step is 1, returning the peak region now\n",
      "region is: [18. 17. 16.] codomain is: [-7  2  1]\n"
     ]
    }
   ],
   "source": [
    "#function set\n",
    "%run Functions_Set.ipynb\n",
    "level = np.log2(step)\n",
    "substep = 2**(level-1)\n",
    "print(\"level\", level,\"substep\",substep)    \n",
    "    \n",
    "sub_region ,value, opt_x_set =  region_check(region, substep, QUBO,contraint_dict)"
   ]
  },
  {
   "cell_type": "code",
   "execution_count": 409,
   "id": "1b472429",
   "metadata": {},
   "outputs": [
    {
     "name": "stdout",
     "output_type": "stream",
     "text": [
      "17.0 [1. 0.]\n",
      "optimal value: 2\n",
      "obj: [1. 1. 1. 1. 0. 1. 1. 0. 0.]\n"
     ]
    }
   ],
   "source": [
    "t = sub_region[np.argmax(value)]\n",
    "opt_x = opt_x_set[np.argmax(value),:]\n",
    "print(t,opt_x)\n",
    "\n",
    "print(\"optimal value:\", value[np.argmax(value)])\n",
    "\n",
    "x = opt_x\n",
    "obj = b-np.dot(A,x)\n",
    "\n",
    "print(\"obj:\",obj)"
   ]
  },
  {
   "cell_type": "code",
   "execution_count": 410,
   "id": "e178064a",
   "metadata": {},
   "outputs": [
    {
     "name": "stdout",
     "output_type": "stream",
     "text": [
      "     con: array([], dtype=float64)\n",
      "     fun: 17.0\n",
      " message: 'Optimization terminated successfully.'\n",
      "     nit: 0\n",
      "   slack: array([0., 0., 0., 0.])\n",
      "  status: 0\n",
      " success: True\n",
      "       x: array([0., 0., 0., 0., 0., 8., 9., 5., 6.])\n"
     ]
    }
   ],
   "source": [
    "opt = linprog(c=obj, A_ub=lhs_ineq, b_ub=rhs_ineq, bounds=bnd,method=\"revised simplex\")\n",
    "print(opt)"
   ]
  },
  {
   "cell_type": "code",
   "execution_count": null,
   "id": "def96774",
   "metadata": {},
   "outputs": [],
   "source": []
  },
  {
   "cell_type": "code",
   "execution_count": null,
   "id": "7c74b539",
   "metadata": {},
   "outputs": [],
   "source": []
  },
  {
   "cell_type": "code",
   "execution_count": null,
   "id": "d7df6314",
   "metadata": {},
   "outputs": [],
   "source": []
  },
  {
   "cell_type": "code",
   "execution_count": null,
   "id": "64a460e2",
   "metadata": {},
   "outputs": [],
   "source": []
  },
  {
   "cell_type": "code",
   "execution_count": null,
   "id": "d228be07",
   "metadata": {},
   "outputs": [],
   "source": []
  },
  {
   "cell_type": "code",
   "execution_count": null,
   "id": "1f7730fb",
   "metadata": {},
   "outputs": [],
   "source": []
  },
  {
   "cell_type": "code",
   "execution_count": null,
   "id": "ea5df936",
   "metadata": {},
   "outputs": [],
   "source": []
  },
  {
   "cell_type": "code",
   "execution_count": null,
   "id": "b5ba522f",
   "metadata": {},
   "outputs": [],
   "source": []
  },
  {
   "cell_type": "code",
   "execution_count": null,
   "id": "ced5a2d4",
   "metadata": {},
   "outputs": [],
   "source": []
  },
  {
   "cell_type": "code",
   "execution_count": null,
   "id": "9619e3b9",
   "metadata": {},
   "outputs": [],
   "source": []
  },
  {
   "cell_type": "code",
   "execution_count": 329,
   "id": "4c61ceb1",
   "metadata": {},
   "outputs": [
    {
     "data": {
      "text/html": [
       "<style>.container { width:100% !important; }</style>"
      ],
      "text/plain": [
       "<IPython.core.display.HTML object>"
      ]
     },
     "metadata": {},
     "output_type": "display_data"
    },
    {
     "name": "stdout",
     "output_type": "stream",
     "text": [
      "input constraint: 0 th constraint: [-1. -1.] <= -1.0 flag is 0\n",
      "input constraint: 0 th constraint: [1. 1.] >= 1.0\n",
      "yep enter\n",
      "[1. 1.] >= 1.0\n",
      "label =>  0 , penalty is 150.0\n",
      "fx >=1 condition\n",
      "[[-135.  150.]\n",
      " [   0. -140.]]\n"
     ]
    }
   ],
   "source": [
    "%run Functions_Set.ipynb\n",
    "QUBO_post, _ = solve_master_qubo(C, t, QUBO, contraint_dict, _print = 1)\n",
    "print(QUBO_post)"
   ]
  },
  {
   "cell_type": "code",
   "execution_count": null,
   "id": "b2503974",
   "metadata": {},
   "outputs": [],
   "source": []
  },
  {
   "cell_type": "code",
   "execution_count": null,
   "id": "549f8bc5",
   "metadata": {},
   "outputs": [],
   "source": []
  },
  {
   "cell_type": "code",
   "execution_count": null,
   "id": "5a1f6fc8",
   "metadata": {},
   "outputs": [],
   "source": []
  },
  {
   "cell_type": "code",
   "execution_count": null,
   "id": "cf706bc3",
   "metadata": {},
   "outputs": [],
   "source": []
  },
  {
   "cell_type": "code",
   "execution_count": null,
   "id": "1932dc37",
   "metadata": {},
   "outputs": [],
   "source": []
  },
  {
   "cell_type": "code",
   "execution_count": null,
   "id": "b1f55710",
   "metadata": {},
   "outputs": [],
   "source": []
  },
  {
   "cell_type": "code",
   "execution_count": null,
   "id": "7e1c660c",
   "metadata": {},
   "outputs": [],
   "source": []
  },
  {
   "cell_type": "code",
   "execution_count": null,
   "id": "5700f6bf",
   "metadata": {},
   "outputs": [],
   "source": []
  },
  {
   "cell_type": "code",
   "execution_count": 166,
   "id": "4eec0f37",
   "metadata": {},
   "outputs": [
    {
     "name": "stdout",
     "output_type": "stream",
     "text": [
      "[[-135.  150.]\n",
      " [   0. -140.]]\n"
     ]
    }
   ],
   "source": [
    "# Obj\n",
    "QUBO_obj = QUBO.obj() \n",
    "\n",
    "# add constraint (r1)^{T} Ax ≤ b^{T} r1 to (RMP):\n",
    "\n",
    "Penalty = np.max(np.abs(c))*10\n",
    "\n",
    "#QUBO += Penalty * np.asarray(0.5 * (np.outer(cons_add_lhs_final,cons_add_lhs_final) - 3.0 * np.diag(cons_add_lhs_final)))\n",
    "\n",
    "\n",
    "\n",
    "new_Constraint = cons_add_lhs_final\n",
    "new_Symbol = symbol\n",
    "New_rhs = cons_add_rhs_final\n",
    "round_num = 2 \n",
    "\n",
    "\n",
    "\n",
    "\n",
    "\n",
    "\n"
   ]
  },
  {
   "cell_type": "code",
   "execution_count": null,
   "id": "73d99d38",
   "metadata": {},
   "outputs": [],
   "source": [
    "\n",
    "print(QUBO)\n",
    "t = 0\n",
    "C = c\n",
    "print(C, t, new_Constraint, new_Symbol, New_rhs, round_num)\n",
    "\n",
    "QUBO, _ = solve_master_old(C, t, QUBO_pre, new_Constraint, new_Symbol, New_rhs, round_num, Penalty, _print = 1)"
   ]
  },
  {
   "cell_type": "code",
   "execution_count": null,
   "id": "6fb06d24",
   "metadata": {},
   "outputs": [],
   "source": []
  },
  {
   "cell_type": "code",
   "execution_count": null,
   "id": "eb46cd02",
   "metadata": {},
   "outputs": [],
   "source": []
  },
  {
   "cell_type": "code",
   "execution_count": null,
   "id": "2bd678eb",
   "metadata": {},
   "outputs": [],
   "source": []
  },
  {
   "cell_type": "code",
   "execution_count": null,
   "id": "22a576f0",
   "metadata": {},
   "outputs": [],
   "source": []
  },
  {
   "cell_type": "code",
   "execution_count": null,
   "id": "9f10c622",
   "metadata": {},
   "outputs": [],
   "source": []
  },
  {
   "cell_type": "code",
   "execution_count": null,
   "id": "7a9c2ea7",
   "metadata": {},
   "outputs": [],
   "source": []
  },
  {
   "cell_type": "code",
   "execution_count": null,
   "id": "d15d90f1",
   "metadata": {},
   "outputs": [],
   "source": []
  },
  {
   "cell_type": "code",
   "execution_count": null,
   "id": "d0317c62",
   "metadata": {},
   "outputs": [],
   "source": []
  },
  {
   "cell_type": "code",
   "execution_count": null,
   "id": "dc53c5ac",
   "metadata": {},
   "outputs": [],
   "source": []
  },
  {
   "cell_type": "code",
   "execution_count": null,
   "id": "a9891fba",
   "metadata": {},
   "outputs": [],
   "source": []
  },
  {
   "cell_type": "code",
   "execution_count": null,
   "id": "6f53981a",
   "metadata": {},
   "outputs": [],
   "source": []
  },
  {
   "cell_type": "code",
   "execution_count": null,
   "id": "257eba7a",
   "metadata": {},
   "outputs": [],
   "source": []
  },
  {
   "cell_type": "code",
   "execution_count": null,
   "id": "5f4ea187",
   "metadata": {},
   "outputs": [],
   "source": []
  },
  {
   "cell_type": "code",
   "execution_count": null,
   "id": "f0458594",
   "metadata": {},
   "outputs": [],
   "source": []
  },
  {
   "cell_type": "code",
   "execution_count": null,
   "id": "b66f2c7c",
   "metadata": {},
   "outputs": [],
   "source": []
  },
  {
   "cell_type": "code",
   "execution_count": null,
   "id": "997d499d",
   "metadata": {},
   "outputs": [],
   "source": [
    "\n",
    "initial_spot = np.array([t, t - step, t - 2 * step])\n",
    "value = np.arange(len(initial_spot))\n",
    "\n",
    "for index, t_assume in enumerate(initial_spot):\n",
    "    \n",
    "    # OBJ\n",
    "      \n",
    "    x = solve_for_value(QUBO)\n",
    "    \n",
    "    #final result\n",
    "    value[index] = dot(c,x) + t_assume\n",
    "\n",
    "if value[2] < value[1]:\n",
    "    \n",
    "    #下一步\n",
    "    \n",
    "    #return initial_spots , value\n",
    "    print(\"next\")\n",
    "    \n",
    "else:\n",
    "    \n",
    "    print(\"continue\")"
   ]
  }
 ],
 "metadata": {
  "kernelspec": {
   "display_name": "Python 3",
   "language": "python",
   "name": "python3"
  },
  "language_info": {
   "codemirror_mode": {
    "name": "ipython",
    "version": 3
   },
   "file_extension": ".py",
   "mimetype": "text/x-python",
   "name": "python",
   "nbconvert_exporter": "python",
   "pygments_lexer": "ipython3",
   "version": "3.8.6"
  }
 },
 "nbformat": 4,
 "nbformat_minor": 5
}
