{
 "cells": [
  {
   "cell_type": "code",
   "execution_count": 1,
   "id": "24d7514b",
   "metadata": {},
   "outputs": [
    {
     "data": {
      "text/html": [
       "<style>.container { width:100% !important; }</style>"
      ],
      "text/plain": [
       "<IPython.core.display.HTML object>"
      ]
     },
     "metadata": {},
     "output_type": "display_data"
    }
   ],
   "source": [
    "# Normal import\n",
    "import numpy as np\n",
    "from collections import defaultdict\n",
    "import random\n",
    "from numpy import random\n",
    "import matplotlib.pyplot as plt\n",
    "\n",
    "import networkx as nx\n",
    "import numpy as np\n",
    "from dwave.system import LeapHybridSampler\n",
    "import matplotlib\n",
    "\n",
    "\n",
    "\n",
    "## Quantum Part\n",
    "from collections import defaultdict\n",
    "from dwave.system.samplers import DWaveSampler\n",
    "from dwave.system.composites import EmbeddingComposite\n",
    "import dwave.inspector\n",
    "import dimod\n",
    "from dwave.system import LeapHybridSampler\n",
    "\n",
    "#Page Size\n",
    "from IPython.core.display import display, HTML\n",
    "display(HTML(\"<style>.container { width:100% !important; }</style>\"))"
   ]
  },
  {
   "cell_type": "code",
   "execution_count": 2,
   "id": "9748d98d",
   "metadata": {},
   "outputs": [],
   "source": [
    "A = np.array([[0, 0],\n",
    "              [0, 0],\n",
    "              [0, 0],\n",
    "              [0, 0],\n",
    "              [-1, -1],\n",
    "              [-1, 0],\n",
    "              [-1, 0],\n",
    "              [0, -1],\n",
    "              [0, -1],])\n",
    "\n",
    "G = np.array([[1,0,1,0], \n",
    "              [1,0,0,1],\n",
    "              [0,1,1,0],\n",
    "              [0,1,0,1],\n",
    "              [0,0,0,0],\n",
    "              [1,0,0,0],\n",
    "              [0,1,0,0],\n",
    "              [0,0,1,0],\n",
    "              [0,0,0,1],\n",
    "             ])\n",
    "b = np.array([1,1,1,1,-1,0,0,0,0])\n",
    "\n",
    "c = np.array([-15.0,-10.0])\n",
    "\n",
    "h = np.array([8,9,5,6])"
   ]
  },
  {
   "cell_type": "code",
   "execution_count": 3,
   "id": "968a8476",
   "metadata": {},
   "outputs": [
    {
     "name": "stdout",
     "output_type": "stream",
     "text": [
      "None\n"
     ]
    }
   ],
   "source": [
    "z = None\n",
    "if z==None:\n",
    "    print(\"None\")"
   ]
  },
  {
   "cell_type": "code",
   "execution_count": 4,
   "id": "5a600ea9",
   "metadata": {},
   "outputs": [],
   "source": [
    "b = np.array([2,4,1,-3,-1,0,-4,0,0])"
   ]
  },
  {
   "cell_type": "code",
   "execution_count": 5,
   "id": "23772010",
   "metadata": {},
   "outputs": [
    {
     "name": "stdout",
     "output_type": "stream",
     "text": [
      "-8\n"
     ]
    }
   ],
   "source": [
    "lhs = np.sum(b[b<0])\n",
    "rhs =5\n",
    "print(lhs)\n",
    "disturbance = 1e-6"
   ]
  },
  {
   "cell_type": "code",
   "execution_count": 6,
   "id": "a1563132",
   "metadata": {},
   "outputs": [
    {
     "name": "stdout",
     "output_type": "stream",
     "text": [
      "13.000001\n"
     ]
    },
    {
     "data": {
      "text/plain": [
       "4.0"
      ]
     },
     "execution_count": 6,
     "metadata": {},
     "output_type": "execute_result"
    }
   ],
   "source": [
    "print(rhs - lhs + disturbance)\n",
    "np.ceil(np.log2(rhs - lhs + disturbance))"
   ]
  },
  {
   "cell_type": "code",
   "execution_count": 7,
   "id": "fcd2dee2",
   "metadata": {},
   "outputs": [],
   "source": [
    "lhs = np.array([1,0,1,0,0,0])\n",
    "r = np.array([0,1,0,0,0,0])\n",
    "p = np.array([0,1,0,-1,0,0])"
   ]
  },
  {
   "cell_type": "code",
   "execution_count": 8,
   "id": "c38e1996",
   "metadata": {},
   "outputs": [
    {
     "data": {
      "text/plain": [
       "(2,)"
      ]
     },
     "execution_count": 8,
     "metadata": {},
     "output_type": "execute_result"
    }
   ],
   "source": [
    "np.sum(lhs>0),"
   ]
  },
  {
   "cell_type": "code",
   "execution_count": 9,
   "id": "13822900",
   "metadata": {},
   "outputs": [
    {
     "name": "stdout",
     "output_type": "stream",
     "text": [
      "[False  True False False False False]\n"
     ]
    }
   ],
   "source": [
    "vector = p==1\n",
    "print(vector)"
   ]
  },
  {
   "cell_type": "code",
   "execution_count": 10,
   "id": "183823b8",
   "metadata": {},
   "outputs": [
    {
     "name": "stdout",
     "output_type": "stream",
     "text": [
      "[[1 0 1 0 0 0]\n",
      " [0 0 0 0 0 0]\n",
      " [1 0 1 0 0 0]\n",
      " [0 0 0 0 0 0]\n",
      " [0 0 0 0 0 0]\n",
      " [0 0 0 0 0 0]]\n",
      "[[0 0 1 0 0 0]\n",
      " [0 0 0 0 0 0]\n",
      " [0 0 0 0 0 0]\n",
      " [0 0 0 0 0 0]\n",
      " [0 0 0 0 0 0]\n",
      " [0 0 0 0 0 0]]\n"
     ]
    }
   ],
   "source": [
    "result = np.outer(lhs,lhs)\n",
    "print(result)\n",
    "print(np.triu(result,k = 1))"
   ]
  },
  {
   "cell_type": "code",
   "execution_count": 11,
   "id": "9599b62e",
   "metadata": {},
   "outputs": [
    {
     "data": {
      "text/plain": [
       "True"
      ]
     },
     "execution_count": 11,
     "metadata": {},
     "output_type": "execute_result"
    }
   ],
   "source": [
    "np.array_equal(lhs, lhs.astype(bool))  "
   ]
  },
  {
   "cell_type": "code",
   "execution_count": 13,
   "id": "8031679c",
   "metadata": {},
   "outputs": [
    {
     "data": {
      "text/plain": [
       "True"
      ]
     },
     "execution_count": 13,
     "metadata": {},
     "output_type": "execute_result"
    }
   ],
   "source": [
    "lhs = p\n",
    "(np.sum(lhs) == 0) and (np.sum(abs(lhs))== 2)"
   ]
  },
  {
   "cell_type": "code",
   "execution_count": 8,
   "id": "79089b6b",
   "metadata": {},
   "outputs": [
    {
     "name": "stdout",
     "output_type": "stream",
     "text": [
      "[0 1 2 3 4]\n",
      "[ 1  2  4  8 16]\n"
     ]
    }
   ],
   "source": [
    "s = np.arange(5)\n",
    "print(s)\n",
    "print(2**s)"
   ]
  },
  {
   "cell_type": "code",
   "execution_count": 9,
   "id": "611839c9",
   "metadata": {},
   "outputs": [],
   "source": [
    "ss = 2**s"
   ]
  },
  {
   "cell_type": "code",
   "execution_count": 10,
   "id": "f62b4d8b",
   "metadata": {},
   "outputs": [
    {
     "name": "stdout",
     "output_type": "stream",
     "text": [
      "[[ 0  1  2  3  4]\n",
      " [ 0  2  4  6  8]\n",
      " [ 0  4  8 12 16]\n",
      " [ 0  8 16 24 32]\n",
      " [ 0 16 32 48 64]]\n",
      "[[ 0  0  0  0  0]\n",
      " [ 1  2  4  8 16]\n",
      " [ 2  4  8 16 32]\n",
      " [ 3  6 12 24 48]\n",
      " [ 4  8 16 32 64]]\n"
     ]
    }
   ],
   "source": [
    "print(np.outer(ss,s))\n",
    "print(np.outer(s,ss))"
   ]
  },
  {
   "cell_type": "code",
   "execution_count": 12,
   "id": "0a808470",
   "metadata": {},
   "outputs": [
    {
     "name": "stdout",
     "output_type": "stream",
     "text": [
      "execute\n"
     ]
    }
   ],
   "source": [
    "a = 0\n",
    "if not a == 1:\n",
    "    print(\"execute\")"
   ]
  },
  {
   "cell_type": "code",
   "execution_count": 15,
   "id": "f7903074",
   "metadata": {},
   "outputs": [
    {
     "data": {
      "text/plain": [
       "4"
      ]
     },
     "execution_count": 15,
     "metadata": {},
     "output_type": "execute_result"
    }
   ],
   "source": [
    "max(4,-2)"
   ]
  },
  {
   "cell_type": "code",
   "execution_count": null,
   "id": "f99ebffa",
   "metadata": {},
   "outputs": [],
   "source": []
  }
 ],
 "metadata": {
  "kernelspec": {
   "display_name": "Python 3",
   "language": "python",
   "name": "python3"
  },
  "language_info": {
   "codemirror_mode": {
    "name": "ipython",
    "version": 3
   },
   "file_extension": ".py",
   "mimetype": "text/x-python",
   "name": "python",
   "nbconvert_exporter": "python",
   "pygments_lexer": "ipython3",
   "version": "3.8.6"
  }
 },
 "nbformat": 4,
 "nbformat_minor": 5
}
