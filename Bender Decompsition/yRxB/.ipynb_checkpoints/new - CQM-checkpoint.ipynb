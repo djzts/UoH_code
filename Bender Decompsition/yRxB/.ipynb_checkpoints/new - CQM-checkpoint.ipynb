{
 "cells": [
  {
   "cell_type": "code",
   "execution_count": 1,
   "id": "dd47bafd",
   "metadata": {},
   "outputs": [
    {
     "data": {
      "text/html": [
       "<style>.container { width:100% !important; }</style>"
      ],
      "text/plain": [
       "<IPython.core.display.HTML object>"
      ]
     },
     "metadata": {},
     "output_type": "display_data"
    },
    {
     "data": {
      "text/html": [
       "<style>.container { width:100% !important; }</style>"
      ],
      "text/plain": [
       "<IPython.core.display.HTML object>"
      ]
     },
     "metadata": {},
     "output_type": "display_data"
    },
    {
     "data": {
      "text/html": [
       "<style>.container { width:100% !important; }</style>"
      ],
      "text/plain": [
       "<IPython.core.display.HTML object>"
      ]
     },
     "metadata": {},
     "output_type": "display_data"
    }
   ],
   "source": [
    "import numpy as np\n",
    "from numpy import random\n",
    "import matplotlib.pyplot as plt\n",
    "import time\n",
    "\n",
    "from dwave.system.samplers import DWaveSampler\n",
    "from dwave.system.composites import EmbeddingComposite\n",
    "from dwave.system import LeapHybridCQMSampler\n",
    "import networkx as nx\n",
    "import dwave.inspector\n",
    "import dimod\n",
    "from dwave.system import LeapHybridSampler\n",
    "import matplotlib\n",
    "from IPython.core.display import display, HTML\n",
    "display(HTML(\"<style>.container { width:100% !important; }</style>\"))\n",
    "\n",
    "#traditional opt\n",
    "from scipy.optimize import linprog\n",
    "\n",
    "## Quantum Part\n",
    "from collections import defaultdict\n",
    "\n",
    "#function set\n",
    "%run Func_Set.ipynb\n",
    "\n",
    "#Page Size\n",
    "from IPython.core.display import display, HTML\n",
    "display(HTML(\"<style>.container { width:100% !important; }</style>\"))\n",
    "\n",
    "#gurobi\n",
    "import gurobipy as gp\n",
    "from gurobipy import GRB\n",
    "from gurobipy import*\n",
    "from gurobipy import quicksum"
   ]
  },
  {
   "cell_type": "markdown",
   "id": "b36eea44",
   "metadata": {},
   "source": [
    "## Some Useful Function\n",
    "\n",
    "### 1. Show graph \n",
    "\n",
    "Graph maker\n",
    "\n",
    "### 2. dot(*mats) \n",
    "\n",
    "multiple np.dot: product of all matrices from input.\n",
    "\n",
    "### 3. Add front / end\n",
    "\n",
    "a = [1,2,3,5]\n",
    "b = [2,1]\n",
    "\n",
    "add_front(a,b) ==> [3 3 3 5]\n",
    "\n",
    "add_end(a,b)  ==>  [1 2 5 6]"
   ]
  },
  {
   "cell_type": "code",
   "execution_count": 39,
   "id": "b8d5aa4e",
   "metadata": {},
   "outputs": [],
   "source": [
    "def show_graph(matrix):\n",
    "    matfig = plt.figure(figsize=(9,9)) \n",
    "    plt.matshow(matrix,fignum=matfig.number)\n",
    "    plt.colorbar()\n",
    "    plt.show() \n",
    "    \n",
    "def dot(*mats):\n",
    "    A = mats[0]\n",
    "    for B in mats[1:]:\n",
    "        A = np.dot(A,B)    \n",
    "    return A\n",
    "\n",
    "def add_front(a,b):\n",
    "    if len(a) < len(b):\n",
    "        c = b.copy()\n",
    "        c[:len(a)] += a\n",
    "    else:\n",
    "        c = a.copy()\n",
    "        \n",
    "        c[:len(b)] += b  \n",
    "    return c\n",
    "\n",
    "def add_end(a,b):\n",
    "    if len(a) < len(b):\n",
    "        c = b.copy()\n",
    "        c[-len(a):] += a\n",
    "    else:\n",
    "        c = a.copy()\n",
    "        \n",
    "        c[-len(b):] += b  \n",
    "    return c"
   ]
  },
  {
   "cell_type": "markdown",
   "id": "ef15aac7",
   "metadata": {},
   "source": [
    "## Objective (Class_default)\n",
    "$$\n",
    "\\max 8y_{1} + 9y_{1} + 5y_{3} + 6y_{4} -15x_{1} - 10x_{2} \n",
    "$$\n",
    "\n",
    "$$\n",
    "s.t. \\quad y_{1} + y_{3} \\leq 1\n",
    "$$\n",
    "\n",
    "$$\n",
    "\\qquad \\  y_{1} + y_{4} \\leq 1\n",
    "$$\n",
    "\n",
    "$$\n",
    "\\qquad \\  y_{2} + y_{3} \\leq 1\n",
    "$$\n",
    "\n",
    "$$\n",
    "\\qquad \\  y_{2} + y_{4} \\leq 1\n",
    "$$\n",
    "\n",
    "$$\n",
    "\\qquad \\  x_{1} + x_{2} \\geq 1\n",
    "$$\n",
    "\n",
    "$$\n",
    "\\qquad \\  y_{1} - x_{1} \\leq 0\n",
    "$$\n",
    "\n",
    "$$\n",
    "\\qquad \\  y_{2} - x_{1} \\leq 0\n",
    "$$\n",
    "\n",
    "$$\n",
    "\\qquad \\  y_{3} - x_{2} \\leq 0\n",
    "$$\n",
    "\n",
    "$$\n",
    "\\qquad \\  y_{4} - x_{2} \\leq 0\n",
    "$$\n",
    "\n",
    "$$\n",
    "\\qquad \\ \\forall \\ j \\quad y_{j} \\geq 0\n",
    "$$"
   ]
  },
  {
   "cell_type": "markdown",
   "id": "eec251a0",
   "metadata": {},
   "source": [
    "## General Structure\n",
    "$$\n",
    "\\max h^{\\intercal} \\cdot y + c^{\\intercal} \\cdot x\n",
    "$$\n",
    "\n",
    "$$\n",
    "s.t. \\quad A\\mathbf{x} + G \\mathbf{y} \\leq b\n",
    "$$\n",
    "\n",
    "$$\n",
    "x \\in Binary\n",
    "$$\n",
    "\n",
    "$$\n",
    "y \\in R^{+} (bounded)\n",
    "$$"
   ]
  },
  {
   "cell_type": "markdown",
   "id": "d16e625f",
   "metadata": {},
   "source": [
    "## The Master problem\n",
    "\n",
    "$$\n",
    "\\max_{x,t} \\, c^{\\intercal} x + t\n",
    "$$\n",
    "\n",
    "$$\n",
    "s.t. \\quad (b-Ax)^{\\intercal}u^{k} \\geq t \\quad \\forall k \\in K\n",
    "$$\n",
    "\n",
    "$$\n",
    "\\qquad \\ (b-Ax)^{\\intercal}r^{j} \\geq 0 \\quad \\forall j \\in J\n",
    "$$\n",
    "\n",
    "$$\n",
    "t \\in \\mathbb{R} \\ , \\  x\\in X\n",
    "$$\n"
   ]
  },
  {
   "cell_type": "markdown",
   "id": "46e394aa",
   "metadata": {},
   "source": [
    "## The Rewritten Master problem\n",
    "\n",
    "$$\n",
    "\\max_{x,t} \\, c^{\\intercal} x + t\n",
    "$$\n",
    "\n",
    "$$\n",
    "s.t. \\quad t +\\left(u^{k}\\right)^{\\intercal}Ax \\geq b^{\\intercal}u^{k} \\quad \\forall k \\in K\n",
    "$$\n",
    "\n",
    "$$\n",
    "\\qquad \\ \\left(r^{j}\\right)^{\\intercal}Ax \\geq b^{\\intercal}r^{j} \\quad \\forall j \\in J\n",
    "$$\n",
    "\n",
    "$$\n",
    "t \\in \\mathbb{R} \\ , \\  x\\in X\n",
    "$$"
   ]
  },
  {
   "cell_type": "markdown",
   "id": "c5879561",
   "metadata": {},
   "source": [
    "## Initial relaxed Master Problem (Default Class)\n",
    "The first four constraints imply $y_{j} \\leq 1$ for $j = 1, . . . , 4$, for any choice of $x$.\n",
    "Thus, we can get a very simple bound for the problem: set $y_{j} = 1$ for $j = 1, . . . , 4$. This gives a value of $28$ from the $y$ variables.\n"
   ]
  },
  {
   "cell_type": "code",
   "execution_count": 53,
   "id": "e56abb4c",
   "metadata": {},
   "outputs": [],
   "source": [
    "class Benders_decomposition(object):\n",
    "    \n",
    "    ### 类缺省属性 class default setup\n",
    "    A = np.array([[0, 0],\n",
    "                  [0, 0],\n",
    "                  [0, 0],\n",
    "                  [0, 0],\n",
    "                  [-1, -1],\n",
    "                  [-1, 0],\n",
    "                  [-1, 0],\n",
    "                  [0, -1],\n",
    "                  [0, -1],])\n",
    "\n",
    "    G = np.array([[1,0,1,0], \n",
    "                  [1,0,0,1],\n",
    "                  [0,1,1,0],\n",
    "                  [0,1,0,1],\n",
    "                  [0,0,0,0],\n",
    "                  [1,0,0,0],\n",
    "                  [0,1,0,0],\n",
    "                  [0,0,1,0],\n",
    "                  [0,0,0,1],])\n",
    "    \n",
    "    b = np.array([1,1,1,1,-1,0,0,0,0])\n",
    "\n",
    "    c = np.array([-15.0,-10.0])\n",
    "\n",
    "    h = np.array([8,9,5,6])\n",
    "\n",
    "    t = np.inf   \n",
    "    \n",
    "    y_range = np.array([[0, 1],\n",
    "                        [0, 1],\n",
    "                        [0, 1],\n",
    "                        [0, 1]])\n",
    "    \n",
    "    t_upperB_set = []\n",
    "    \n",
    "    t_lowerB_set = []\n",
    "    \n",
    "    t_range_upperB = 11\n",
    "    \n",
    "    t_range_lowerB = -4 \n",
    "    \n",
    "    t_range_negativeB = 0\n",
    "    \n",
    "    ray_flag = 0\n",
    "    \n",
    "    contraint_dict = {}\n",
    "\n",
    "    threshold = 0.001\n",
    "    \n",
    "    timer = []\n",
    "\n",
    "    def __init__(self, data):\n",
    "        if not data == None:\n",
    "            self.A = data.A\n",
    "            self.G = data.G\n",
    "            self.b = data.b\n",
    "            self.c = data.c\n",
    "            self.h = data.h\n",
    "            self.y_range = data.y_range\n",
    "        \n",
    "    def t_arrangement(self):  # 2^(PLB ... ... PUB) + (-2^(0 ... ... NUB))\n",
    "        \n",
    "        Positive_t_region = np.arange(self.t_range_lowerB , self.t_range_upperB , 1)\n",
    "        \n",
    "        Negative_t_region = np.arange(0,self.t_range_negativeB, 1)\n",
    "        \n",
    "        Positive_coeffcient_t = np.power(2. , Positive_t_region)\n",
    "        \n",
    "        Negative_coeffcient_t = -np.power(2. , Negative_t_region)    \n",
    "    \n",
    "        return np.concatenate((Positive_coeffcient_t, Negative_coeffcient_t))\n",
    "    \n",
    "    def QUBO_obj(self, t_Coeffcient):\n",
    "\n",
    "        return -np.diag(np.concatenate((t_Coeffcient, self.c)))\n",
    "            \n",
    "    def initial_t(self):\n",
    "        \n",
    "        # yield y range and sign from h.  then we can determind the t range\n",
    "        sign = np.tile(np.sign(self.h), (2, 1)).T\n",
    "        \n",
    "        y_range_actual = sign * self.y_range \n",
    "        \n",
    "        print(np.max(y_range_actual, axis = 1),self.h)\n",
    "        \n",
    "        self.t = dot(np.max(y_range_actual, axis = 1), self.h) \n",
    "        \n",
    "        self.t_upperB_set.append(self.t)\n",
    "        \n",
    "        return self.t\n",
    "    \n",
    "    def constraint_dict_generator(self, t_Coeffcient):\n",
    "        \n",
    "        cons_add_lhs = np.concatenate((t_Coeffcient, np.zeros_like(self.c)))\n",
    "        \n",
    "        cons_add_rhs = self.t\n",
    "        \n",
    "        order = len(self.contraint_dict)\n",
    "        \n",
    "        print(\"There are %d constriants in dict\"%(order))\n",
    "        \n",
    "        self.contraint_dict.update({order: [cons_add_lhs, \"<=\", cons_add_rhs, self.ray_flag]})\n",
    "        \n",
    "        return self.contraint_dict\n",
    "    \n",
    "        "
   ]
  },
  {
   "cell_type": "code",
   "execution_count": 60,
   "id": "c1ca932a",
   "metadata": {},
   "outputs": [],
   "source": [
    "def Quantum(data):\n",
    "    \n",
    "    problem = Benders_decomposition(data)\n",
    "    \n",
    "    general_t_coeff = problem.t_arrangement()\n",
    "\n",
    "    QUBO_obj = problem.QUBO_obj(general_t_coeff)\n",
    "    \n",
    "    #print(QUBO_obj)\n",
    "    \n",
    "    t_Upper_bound = problem.initial_t()\n",
    "    \n",
    "    t_Lower_bound = -np.inf\n",
    "    \n",
    "    counter = 0\n",
    "    \n",
    "    contraint_dict = problem.constraint_dict_generator(general_t_coeff)\n",
    "    \n",
    "    while(((t_Upper_bound - t_Lower_bound)> problem.threshold) and counter <= 1e1):\n",
    "        \n",
    "        print(\"round: %d\"%(counter))\n",
    "        \n",
    "        result, time_info = cqm_spot_search(QUBO_obj, contraint_dict, len(QUBO_obj))\n",
    "        \n",
    "        #print(time_info)\n",
    "        problem.timer.append(time_info[\"qpu_access_time\"]*1e-6)\n",
    "        print(\"Quantum %d round runtime is: \"%(counter),time_info[\"qpu_access_time\"]*1e-6,\" Second(s)\")\n",
    "        \n",
    "        t, x, value = answer_analyse(result, -np.diag(QUBO_obj), len(general_t_coeff), general_t_coeff)\n",
    "        \n",
    "        print(t, x, value)\n",
    "        \n",
    "        obj = problem.b-np.dot(problem.A, x)\n",
    "        \n",
    "        problem.t_upperB_set.append(t)\n",
    "        t_Upper_bound = t\n",
    "        \n",
    "        model = gp.Model(\"%dth Benders Decomp Gurobi\"%(counter))\n",
    "        u = model.addVars(len(obj), vtype=GRB.CONTINUOUS, lb = 0  , name=\"u\")\n",
    "\n",
    "        #print(len(obj))\n",
    "        model.Params.LogToConsole = 0\n",
    "        # Set objective\n",
    "        model.setObjective(quicksum(obj[i] * u[i] for i in range(len(obj))), GRB.MINIMIZE)\n",
    "\n",
    "\n",
    "        #print(len(problem.h.T))\n",
    "        for line in range(len(problem.h.T)):\n",
    "            model.addConstr(quicksum(-problem.G[i,line] * u[i]  for i in range(len(obj))) <= -problem.h[line], name=f'constraint_{line}')\n",
    "\n",
    "        model.Params.InfUnbdInfo = 1\n",
    "\n",
    "        model.optimize()\n",
    "        #model.display()\n",
    "        print(\"Gurobi %d round runtime is: \"%(counter),model.Runtime,\" Second(s)\")\n",
    "        problem.timer.append(model.Runtime)\n",
    "\n",
    "        if model.Status == GRB.OPTIMAL:\n",
    "            print('Optimal objective: %g' % model.ObjVal)\n",
    "        elif model.Status == GRB.INF_OR_UNBD:\n",
    "            print('Model is infeasible or unbounded')\n",
    "        elif model.Status == GRB.INFEASIBLE:\n",
    "            print('Model is infeasible')\n",
    "        elif model.Status == GRB.UNBOUNDED:\n",
    "            print('Model is unbounded')\n",
    "        else:\n",
    "            print('Optimization ended with status %d' % model.Status)\n",
    "        \n",
    "        u_optimal =  np.zeros(len(obj))\n",
    "        \n",
    "        for index, item in enumerate(model.getVars()):\n",
    "            u_optimal[index] = item.X\n",
    "\n",
    "        if model.Status == GRB.UNBOUNDED:\n",
    "            u_optimal = np.where(u_optimal > 1e10,1,u_optimal)\n",
    "            problem.ray_flag = 1\n",
    "        \n",
    "        problem.t_lowerB_set.append(model.ObjVal)\n",
    "        t_Lower_bound = model.ObjVal\n",
    "            \n",
    "        if problem.ray_flag:\n",
    "            cons_add_lhs = np.concatenate((np.zeros_like(general_t_coeff), dot(u_optimal,problem.A)))\n",
    "        else:\n",
    "            cons_add_lhs = np.concatenate((general_t_coeff, dot(u_optimal,problem.A)))\n",
    "            \n",
    "        cons_add_rhs = dot(problem.b,u_optimal)\n",
    "        \n",
    "        counter += 1\n",
    "    \n",
    "        contraint_dict.update({counter: [cons_add_lhs, \"<=\", cons_add_rhs, problem.ray_flag]})\n",
    "        \n",
    "        problem.ray_flag = 0\n",
    "        \n",
    "        print(\"t_Upper_bound is \" ,t_Upper_bound, \", t_Lower_bound is \", t_Lower_bound)\n",
    "        print(\"x solution is \", x)\n",
    "        print(\" \")\n",
    "        print(\"The condition of while is \", (np.abs(t_Upper_bound - t_Lower_bound)>= problem.threshold) and counter <= 1e1)\n",
    "        if not (t_Upper_bound - t_Lower_bound>= problem.threshold) and counter <= 1e1 :\n",
    "            print(\"exit\")\n",
    "        \n",
    "        time.sleep(6)\n",
    "        \n",
    "    print(\"the time slot set is \",problem.timer,\". \")\n",
    "    print(\"Total calculation time is: \",np.sum(np.asarray(problem.timer)) , \" second\")\n",
    "    \n",
    "        "
   ]
  },
  {
   "cell_type": "code",
   "execution_count": null,
   "id": "089327f4",
   "metadata": {},
   "outputs": [],
   "source": []
  },
  {
   "cell_type": "code",
   "execution_count": 61,
   "id": "7c561576",
   "metadata": {},
   "outputs": [
    {
     "data": {
      "text/html": [
       "<style>.container { width:100% !important; }</style>"
      ],
      "text/plain": [
       "<IPython.core.display.HTML object>"
      ]
     },
     "metadata": {},
     "output_type": "display_data"
    },
    {
     "name": "stdout",
     "output_type": "stream",
     "text": [
      "Set parameter LogToConsole to value 1\n",
      "x solution is  ['0', '1', '2', '3', '4']\n",
      "<gurobi.Model MIP instance Benders Decomp Gurobi: 6 constrs, 13 vars, Parameter changes: InfUnbdInfo=1>\n",
      "Optimal objective: 11.2059\n",
      "Gurobi runtime is 0.0020008087158203125 seconds\n"
     ]
    }
   ],
   "source": [
    "#gurobi function set\n",
    "%run Gurobi.ipynb\n",
    "#function set\n",
    "%run Func_Set.ipynb\n",
    "\n",
    "data = None\n",
    "\n",
    "while (data == None):\n",
    "    data = gurobi_test()\n",
    "    \n",
    "#data.A"
   ]
  },
  {
   "cell_type": "code",
   "execution_count": 62,
   "id": "c0dd4a50",
   "metadata": {},
   "outputs": [
    {
     "name": "stdout",
     "output_type": "stream",
     "text": [
      "[5 5 5 0 5 5 5 5] [3 4 4 0 2 7 6 7]\n",
      "There are 5 constriants in dict\n",
      "round: 0\n",
      "spot searching ......\n",
      "Searching the spot done, Now return the result\n",
      "Quantum 0 round runtime is:  0.016387  Second(s)\n",
      "11.0 [1. 1. 0. 1. 0.] -6.0\n",
      "Gurobi 0 round runtime is:  0.000499725341796875  Second(s)\n",
      "Optimal objective: 8.88235\n",
      "t_Upper_bound is  11.0 , t_Lower_bound is  8.88235294117647\n",
      "x solution is  [1. 1. 0. 1. 0.]\n",
      " \n",
      "The condition of while is  True\n",
      "round: 1\n",
      "spot searching ......\n",
      "Searching the spot done, Now return the result\n",
      "Quantum 1 round runtime is:  0.0  Second(s)\n",
      "10.0 [1. 1. 1. 1. 0.] -21.0\n",
      "Gurobi 1 round runtime is:  0.0  Second(s)\n",
      "Optimal objective: 10.0294\n",
      "t_Upper_bound is  10.0 , t_Lower_bound is  10.029411764705882\n",
      "x solution is  [1. 1. 1. 1. 0.]\n",
      " \n",
      "The condition of while is  True\n",
      "exit\n",
      "the time slot set is  [0.0, 0.0, 0.0, 0.0005016326904296875, 0.0, 0.0, 0.0, 0.0005016326904296875, 0.0, 0.0, 0.015038, 0.0, 0.016387, 0.000499725341796875, 0.0, 0.0] . \n",
      "Total calculation time is:  0.032927990722656245  second\n"
     ]
    }
   ],
   "source": [
    "Quantum(data)"
   ]
  },
  {
   "cell_type": "code",
   "execution_count": 57,
   "id": "5e9ae00a",
   "metadata": {},
   "outputs": [
    {
     "name": "stdout",
     "output_type": "stream",
     "text": [
      "[1 1 1 1] [8 9 5 6]\n",
      "There are 0 constriants in dict\n",
      "round: 0\n",
      "spot searching ......\n",
      "Searching the spot done, Now return the result\n",
      "Quantum 0 round runtime is:  0.0  Second(s)\n",
      "28.0 [0. 0.] 28.0\n",
      "Gurobi 0 round runtime is:  0.0  Second(s)\n",
      "Model is unbounded\n",
      "t_Upper_bound is  28.0 , t_Lower_bound is  -1e+30\n",
      "x solution is  [0. 0.]\n",
      " \n",
      "The condition of while is  True\n",
      "round: 1\n",
      "spot searching ......\n",
      "Searching the spot done, Now return the result\n",
      "Quantum 1 round runtime is:  0.0  Second(s)\n",
      "28.0 [0. 1.] 18.0\n",
      "Gurobi 1 round runtime is:  0.0005016326904296875  Second(s)\n",
      "Optimal objective: 11\n",
      "t_Upper_bound is  28.0 , t_Lower_bound is  11.0\n",
      "x solution is  [0. 1.]\n",
      " \n",
      "The condition of while is  True\n",
      "round: 2\n",
      "spot searching ......\n",
      "Searching the spot done, Now return the result\n",
      "Quantum 2 round runtime is:  0.0  Second(s)\n",
      "17.0 [1. 0.] 2.0\n",
      "Gurobi 2 round runtime is:  0.0  Second(s)\n",
      "Optimal objective: 17\n",
      "t_Upper_bound is  17.0 , t_Lower_bound is  17.0\n",
      "x solution is  [1. 0.]\n",
      " \n",
      "The condition of while is  False\n",
      "exit\n",
      "the time slot set is  [0.0, 0.0, 0.0, 0.0005016326904296875, 0.0, 0.0] . \n",
      "Total calculation time is:  0.0005016326904296875  second\n"
     ]
    }
   ],
   "source": [
    "Quantum(None)"
   ]
  },
  {
   "cell_type": "code",
   "execution_count": null,
   "id": "7ead5619",
   "metadata": {},
   "outputs": [],
   "source": []
  },
  {
   "cell_type": "code",
   "execution_count": null,
   "id": "65074e63",
   "metadata": {},
   "outputs": [],
   "source": []
  },
  {
   "cell_type": "code",
   "execution_count": null,
   "id": "6e14390e",
   "metadata": {},
   "outputs": [],
   "source": []
  },
  {
   "cell_type": "code",
   "execution_count": null,
   "id": "3e8593f2",
   "metadata": {},
   "outputs": [],
   "source": []
  },
  {
   "cell_type": "code",
   "execution_count": null,
   "id": "c892d11a",
   "metadata": {},
   "outputs": [],
   "source": []
  },
  {
   "cell_type": "code",
   "execution_count": null,
   "id": "b6909056",
   "metadata": {},
   "outputs": [],
   "source": []
  },
  {
   "cell_type": "code",
   "execution_count": null,
   "id": "aafbae99",
   "metadata": {},
   "outputs": [],
   "source": []
  },
  {
   "cell_type": "code",
   "execution_count": null,
   "id": "75570dd6",
   "metadata": {},
   "outputs": [],
   "source": []
  },
  {
   "cell_type": "code",
   "execution_count": null,
   "id": "d7de97b2",
   "metadata": {},
   "outputs": [],
   "source": []
  },
  {
   "cell_type": "code",
   "execution_count": 45,
   "id": "5f88275c",
   "metadata": {},
   "outputs": [
    {
     "name": "stdout",
     "output_type": "stream",
     "text": [
      "0\n",
      "There are 0 constriants in dict\n",
      "{0: [array([ 9.765625e-04,  1.953125e-03,  3.906250e-03,  7.812500e-03,\n",
      "        1.562500e-02,  3.125000e-02,  6.250000e-02,  1.250000e-01,\n",
      "        2.500000e-01,  5.000000e-01,  1.000000e+00,  2.000000e+00,\n",
      "        4.000000e+00,  8.000000e+00,  1.600000e+01,  3.200000e+01,\n",
      "        6.400000e+01,  1.280000e+02,  2.560000e+02,  5.120000e+02,\n",
      "        1.024000e+03, -1.000000e+00, -2.000000e+00, -4.000000e+00,\n",
      "       -8.000000e+00, -1.600000e+01,  0.000000e+00,  0.000000e+00]), '<=', 28, 0]}\n"
     ]
    }
   ],
   "source": [
    "problem.contraint_dict={}\n",
    "\n",
    "print(len(problem.contraint_dict))\n",
    "problem = Benders_decomposition(1)\n",
    "\n",
    "general_t_coeff = problem.t_arrangement()\n",
    "\n",
    "QUBO_obj = problem.QUBO_obj(general_t_coeff)\n",
    "\n",
    "temp = problem.initial_t()\n",
    "\n",
    "problem.contraint_dict = problem.constraint_dict_generator(general_t_coeff)\n",
    "\n",
    "print(problem.contraint_dict)"
   ]
  },
  {
   "cell_type": "code",
   "execution_count": 46,
   "id": "9fbfe35c",
   "metadata": {},
   "outputs": [
    {
     "name": "stdout",
     "output_type": "stream",
     "text": [
      "spot searching ......\n",
      "label >=  0 , penalty is 10240.0\n",
      "symbol ====> <=\n",
      "Slack_Var_Add_num: 6.0\n",
      "normal else condition\n",
      "Searching the spot done, Now return the result\n"
     ]
    }
   ],
   "source": [
    "result, time_info = spot_search(QUBO_obj, problem.contraint_dict, len(QUBO_obj))"
   ]
  },
  {
   "cell_type": "code",
   "execution_count": 47,
   "id": "2eb22da5",
   "metadata": {},
   "outputs": [
    {
     "name": "stdout",
     "output_type": "stream",
     "text": [
      "[0. 0. 0. 0. 0. 0. 0. 0. 0. 0. 0. 0. 1. 1. 0. 1. 0. 0. 0. 0. 0. 0. 0. 0.\n",
      " 0. 1. 0. 0.]\n"
     ]
    }
   ],
   "source": [
    "print(result)\n",
    "t, x, value = answer_analyse(result, -np.diag(QUBO_obj), len(general_t_coeff), general_t_coeff)"
   ]
  },
  {
   "cell_type": "code",
   "execution_count": 48,
   "id": "d352998f",
   "metadata": {},
   "outputs": [
    {
     "name": "stdout",
     "output_type": "stream",
     "text": [
      "obj: [ 1.  1.  1.  1. -1.  0.  0.  0.  0.]\n"
     ]
    }
   ],
   "source": [
    "obj = problem.b-np.dot(problem.A, x)\n",
    "\n",
    "print(\"obj:\",obj)\n",
    "\n",
    "problem.t_upperB_set.append(t)"
   ]
  },
  {
   "cell_type": "code",
   "execution_count": 49,
   "id": "585039a0",
   "metadata": {},
   "outputs": [
    {
     "name": "stdout",
     "output_type": "stream",
     "text": [
      "Model is unbounded\n"
     ]
    }
   ],
   "source": [
    "Bender_round = 0\n",
    "model = gp.Model(\"%dth Benders Decomp Gurobi\"%(Bender_round))\n",
    "u = model.addVars(len(obj), vtype=GRB.CONTINUOUS, lb = 0  , name=\"u\")\n",
    "\n",
    "#print(len(obj))\n",
    "model.Params.LogToConsole = 0\n",
    "# Set objective\n",
    "model.setObjective(quicksum(obj[i] * u[i] for i in range(len(obj))), GRB.MINIMIZE)\n",
    "\n",
    "\n",
    "#print(len(problem.h.T))\n",
    "for line in range(len(problem.h.T)):\n",
    "    model.addConstr(quicksum(-problem.G[i,line] * u[i]  for i in range(len(obj))) <= -problem.h[line], name=f'constraint_{line}')\n",
    "\n",
    "model.Params.InfUnbdInfo = 1\n",
    "\n",
    "model.optimize()\n",
    "#model.display()\n",
    "sub_time = model.Runtime\n",
    "\n",
    "if model.Status == GRB.OPTIMAL:\n",
    "    print('Optimal objective: %g' % model.ObjVal)\n",
    "elif model.Status == GRB.INF_OR_UNBD:\n",
    "    print('Model is infeasible or unbounded')\n",
    "elif model.Status == GRB.INFEASIBLE:\n",
    "    print('Model is infeasible')\n",
    "elif model.Status == GRB.UNBOUNDED:\n",
    "    print('Model is unbounded')\n",
    "else:\n",
    "    print('Optimization ended with status %d' % model.Status)\n",
    "    \n",
    "Bender_round += 1"
   ]
  },
  {
   "cell_type": "code",
   "execution_count": 50,
   "id": "04063a21",
   "metadata": {},
   "outputs": [],
   "source": [
    "u_optimal =  np.zeros(len(obj))\n",
    "for index, item in enumerate(model.getVars()):\n",
    "    u_optimal[index] = item.X\n",
    "    \n",
    "if model.Status == GRB.UNBOUNDED:\n",
    "    u_optimal = np.where(u_optimal > 1e10,1,u_optimal)\n",
    "    problem.ray_flag = 1\n",
    "    \n",
    "#problem.t_lowerB_set.append(model.ObjVal)\n",
    "#print(model.ObjVal)"
   ]
  },
  {
   "cell_type": "code",
   "execution_count": 51,
   "id": "ad8b7ce6",
   "metadata": {},
   "outputs": [],
   "source": [
    "if problem.ray_flag:\n",
    "    cons_add_lhs = np.concatenate((np.zeros_like(general_t_coeff), dot(u_optimal,problem.A)))\n",
    "else:\n",
    "    cons_add_lhs = np.concatenate((general_t_coeff, dot(u_optimal,problem.A)))\n",
    "\n",
    "cons_add_rhs = dot(problem.b,u_optimal)\n",
    "\n",
    "problem.contraint_dict.update({Bender_round: [cons_add_lhs, \"<=\", cons_add_rhs, problem.ray_flag]})"
   ]
  },
  {
   "cell_type": "code",
   "execution_count": 52,
   "id": "e52ec71b",
   "metadata": {},
   "outputs": [
    {
     "name": "stdout",
     "output_type": "stream",
     "text": [
      "{0: [array([ 9.765625e-04,  1.953125e-03,  3.906250e-03,  7.812500e-03,\n",
      "        1.562500e-02,  3.125000e-02,  6.250000e-02,  1.250000e-01,\n",
      "        2.500000e-01,  5.000000e-01,  1.000000e+00,  2.000000e+00,\n",
      "        4.000000e+00,  8.000000e+00,  1.600000e+01,  3.200000e+01,\n",
      "        6.400000e+01,  1.280000e+02,  2.560000e+02,  5.120000e+02,\n",
      "        1.024000e+03, -1.000000e+00, -2.000000e+00, -4.000000e+00,\n",
      "       -8.000000e+00, -1.600000e+01,  0.000000e+00,  0.000000e+00]), '<=', 28, 0], 1: [array([ 0.,  0.,  0.,  0.,  0.,  0.,  0.,  0.,  0.,  0.,  0.,  0.,  0.,\n",
      "        0.,  0.,  0.,  0.,  0.,  0.,  0.,  0.,  0.,  0.,  0.,  0.,  0.,\n",
      "       -1., -1.]), '<=', -1.0, 1]}\n",
      "spot searching ......\n",
      "label >=  0 , penalty is 10240.0\n",
      "symbol ====> <=\n",
      "Slack_Var_Add_num: 6.0\n",
      "normal else condition\n",
      "label >=  0 , penalty is 10240.0\n",
      "symbol ==> >=\n",
      "Slack_Var_Add_num: 1.0\n",
      "ineq1 else condition\n",
      "Searching the spot done, Now return the result\n"
     ]
    }
   ],
   "source": [
    "print(problem.contraint_dict)\n",
    "result,time_info = spot_search(QUBO_obj, problem.contraint_dict, len(QUBO_obj))"
   ]
  },
  {
   "cell_type": "code",
   "execution_count": 53,
   "id": "83c4a1e3",
   "metadata": {},
   "outputs": [
    {
     "data": {
      "text/plain": [
       "array([0., 0., 0., 0., 0., 0., 0., 0., 0., 0., 0., 1., 0., 0., 1., 0., 0.,\n",
       "       0., 0., 0., 0., 0., 1., 1., 1., 0., 0., 1.])"
      ]
     },
     "execution_count": 53,
     "metadata": {},
     "output_type": "execute_result"
    }
   ],
   "source": [
    "result"
   ]
  },
  {
   "cell_type": "code",
   "execution_count": null,
   "id": "39f3525b",
   "metadata": {},
   "outputs": [],
   "source": []
  }
 ],
 "metadata": {
  "kernelspec": {
   "display_name": "Python 3",
   "language": "python",
   "name": "python3"
  },
  "language_info": {
   "codemirror_mode": {
    "name": "ipython",
    "version": 3
   },
   "file_extension": ".py",
   "mimetype": "text/x-python",
   "name": "python",
   "nbconvert_exporter": "python",
   "pygments_lexer": "ipython3",
   "version": "3.8.6"
  }
 },
 "nbformat": 4,
 "nbformat_minor": 5
}
