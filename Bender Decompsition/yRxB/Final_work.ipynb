{
 "cells": [
  {
   "cell_type": "code",
   "execution_count": 33,
   "id": "bf48159c",
   "metadata": {},
   "outputs": [
    {
     "data": {
      "text/html": [
       "<style>.container { width:100% !important; }</style>"
      ],
      "text/plain": [
       "<IPython.core.display.HTML object>"
      ]
     },
     "metadata": {},
     "output_type": "display_data"
    },
    {
     "data": {
      "text/html": [
       "<style>.container { width:100% !important; }</style>"
      ],
      "text/plain": [
       "<IPython.core.display.HTML object>"
      ]
     },
     "metadata": {},
     "output_type": "display_data"
    },
    {
     "data": {
      "text/html": [
       "<style>.container { width:100% !important; }</style>"
      ],
      "text/plain": [
       "<IPython.core.display.HTML object>"
      ]
     },
     "metadata": {},
     "output_type": "display_data"
    }
   ],
   "source": [
    "import numpy as np\n",
    "from collections import defaultdict\n",
    "import random\n",
    "from numpy import random\n",
    "import matplotlib.pyplot as plt\n",
    "\n",
    "\n",
    "from collections import defaultdict\n",
    "\n",
    "from dwave.system.samplers import DWaveSampler\n",
    "from dwave.system.composites import EmbeddingComposite\n",
    "import networkx as nx\n",
    "import numpy as np\n",
    "import dwave.inspector\n",
    "import dimod\n",
    "from dwave.system import LeapHybridSampler\n",
    "import matplotlib\n",
    "from IPython.core.display import display, HTML\n",
    "display(HTML(\"<style>.container { width:100% !important; }</style>\"))\n",
    "\n",
    "#traditional opt\n",
    "from scipy.optimize import linprog\n",
    "\n",
    "## Quantum Part\n",
    "from collections import defaultdict\n",
    "\n",
    "from dwave.system.samplers import DWaveSampler\n",
    "from dwave.system.composites import EmbeddingComposite\n",
    "import networkx as nx\n",
    "import numpy as np\n",
    "import dwave.inspector\n",
    "import dimod\n",
    "from dwave.system import LeapHybridSampler\n",
    "import matplotlib\n",
    "from matplotlib import pyplot as plt\n",
    "\n",
    "#function set\n",
    "%run Func_Set.ipynb\n",
    "\n",
    "#Page Size\n",
    "from IPython.core.display import display, HTML\n",
    "display(HTML(\"<style>.container { width:100% !important; }</style>\"))"
   ]
  },
  {
   "cell_type": "code",
   "execution_count": 34,
   "id": "2bb2b037",
   "metadata": {},
   "outputs": [],
   "source": [
    "def make_dictionary():\n",
    "    Var_dictionary = {}\n",
    "    # set-up a dictionary\n",
    "    Total = 0\n",
    "    # x input\n",
    "    for e in range(2):\n",
    "        Var_dictionary[\"x_%d\"%(e)] = int(e)\n",
    "    Total = len(Var_dictionary)   \n",
    "    return Var_dictionary, Total"
   ]
  },
  {
   "cell_type": "code",
   "execution_count": 35,
   "id": "9c603917",
   "metadata": {},
   "outputs": [],
   "source": [
    "def show_graph(matrix):\n",
    "    matfig = plt.figure(figsize=(9,9)) \n",
    "    plt.matshow(matrix,fignum=matfig.number)\n",
    "    plt.colorbar()\n",
    "    plt.show() "
   ]
  },
  {
   "cell_type": "code",
   "execution_count": 36,
   "id": "cdcd3198",
   "metadata": {},
   "outputs": [],
   "source": [
    "def dot(*mats):\n",
    "    A = mats[0]\n",
    "    for B in mats[1:]:\n",
    "        A = np.dot(A,B)    \n",
    "    return A\n",
    "        "
   ]
  },
  {
   "cell_type": "code",
   "execution_count": 37,
   "id": "09af67e1",
   "metadata": {},
   "outputs": [],
   "source": [
    "def add_front(a,b):\n",
    "    if len(a) < len(b):\n",
    "        c = b.copy()\n",
    "        c[:len(a)] += a\n",
    "    else:\n",
    "        c = a.copy()\n",
    "        \n",
    "        c[:len(b)] += b  \n",
    "    return c"
   ]
  },
  {
   "cell_type": "code",
   "execution_count": 38,
   "id": "97c1c74b",
   "metadata": {},
   "outputs": [],
   "source": [
    "def add_end(a,b):\n",
    "    if len(a) < len(b):\n",
    "        c = b.copy()\n",
    "        c[-len(a):] += a\n",
    "    else:\n",
    "        c = a.copy()\n",
    "        \n",
    "        c[-len(b):] += b  \n",
    "    return c"
   ]
  },
  {
   "cell_type": "code",
   "execution_count": 39,
   "id": "ae5373b8",
   "metadata": {},
   "outputs": [
    {
     "name": "stdout",
     "output_type": "stream",
     "text": [
      "[3 3 3 5]\n",
      "[1 2 5 6]\n"
     ]
    }
   ],
   "source": [
    "a = np.array([1,2,3,5])\n",
    "b = np.array([2,1])\n",
    "print(add_front(a,b))\n",
    "print(add_end(a,b))"
   ]
  },
  {
   "cell_type": "markdown",
   "id": "52491d20",
   "metadata": {},
   "source": [
    "## Objective\n",
    "$$\n",
    "\\max 8y_{1} + 9y_{1} + 5y_{3} + 6y_{4} -15x_{1} - 10x_{2} \n",
    "$$\n",
    "\n",
    "$$\n",
    "s.t. \\quad y_{1} + y_{3} \\leq 1\n",
    "$$\n",
    "\n",
    "$$\n",
    "\\qquad \\  y_{1} + y_{4} \\leq 1\n",
    "$$\n",
    "\n",
    "$$\n",
    "\\qquad \\  y_{2} + y_{3} \\leq 1\n",
    "$$\n",
    "\n",
    "$$\n",
    "\\qquad \\  y_{2} + y_{4} \\leq 1\n",
    "$$\n",
    "\n",
    "$$\n",
    "\\qquad \\  x_{1} + x_{2} \\geq 1\n",
    "$$\n",
    "\n",
    "$$\n",
    "\\qquad \\  y_{1} - x_{1} \\leq 0\n",
    "$$\n",
    "\n",
    "$$\n",
    "\\qquad \\  y_{2} - x_{1} \\leq 0\n",
    "$$\n",
    "\n",
    "$$\n",
    "\\qquad \\  y_{3} - x_{2} \\leq 0\n",
    "$$\n",
    "\n",
    "$$\n",
    "\\qquad \\  y_{4} - x_{2} \\leq 0\n",
    "$$\n",
    "\n",
    "$$\n",
    "\\qquad \\ \\forall \\ j \\quad y_{j} \\geq 0\n",
    "$$"
   ]
  },
  {
   "cell_type": "markdown",
   "id": "eb055bc8",
   "metadata": {},
   "source": []
  },
  {
   "cell_type": "markdown",
   "id": "6b200c99",
   "metadata": {},
   "source": [
    "## General Structure\n",
    "$$\n",
    "\\max h^{\\intercal} \\cdot y + c^{\\intercal} \\cdot x\n",
    "$$\n",
    "\n",
    "$$\n",
    "s.t. \\quad A\\mathbf{x} + G \\mathbf{y} \\leq b\n",
    "$$\n",
    "\n",
    "$$\n",
    "x \\in Binary\n",
    "$$\n",
    "\n",
    "$$\n",
    "y \\in R^{+} (bounded)\n",
    "$$"
   ]
  },
  {
   "cell_type": "markdown",
   "id": "37b77e85",
   "metadata": {},
   "source": [
    "## The Master problem\n",
    "\n",
    "$$\n",
    "\\max_{x,t} \\, c^{\\intercal} x + t\n",
    "$$\n",
    "\n",
    "$$\n",
    "s.t. \\quad (b-Ax)^{\\intercal}u^{k} \\geq t \\quad \\forall k \\in K\n",
    "$$\n",
    "\n",
    "$$\n",
    "\\qquad \\ (b-Ax)^{\\intercal}r^{j} \\geq 0 \\quad \\forall j \\in J\n",
    "$$\n",
    "\n",
    "$$\n",
    "t \\in \\mathbb{R} \\ , \\  x\\in X\n",
    "$$\n"
   ]
  },
  {
   "cell_type": "markdown",
   "id": "e29985dd",
   "metadata": {},
   "source": [
    "## The Rewritten Master problem\n",
    "\n",
    "$$\n",
    "\\max_{x,t} \\, c^{\\intercal} x + t\n",
    "$$\n",
    "\n",
    "$$\n",
    "s.t. \\quad t +\\left(u^{k}\\right)^{\\intercal}Ax \\geq b^{\\intercal}u^{k} \\quad \\forall k \\in K\n",
    "$$\n",
    "\n",
    "$$\n",
    "\\qquad \\ \\left(r^{j}\\right)^{\\intercal}Ax \\geq b^{\\intercal}r^{j} \\quad \\forall j \\in J\n",
    "$$\n",
    "\n",
    "$$\n",
    "t \\in \\mathbb{R} \\ , \\  x\\in X\n",
    "$$"
   ]
  },
  {
   "cell_type": "code",
   "execution_count": null,
   "id": "ee4cacd0",
   "metadata": {},
   "outputs": [],
   "source": []
  },
  {
   "cell_type": "markdown",
   "id": "ec246142",
   "metadata": {},
   "source": [
    "## Initial relaxed Master Problem\n",
    "The first four constraints imply $y_{j} \\leq 1$ for $j = 1, . . . , 4$, for any choice of $x$.\n",
    "Thus, we can get a very simple bound for the problem: set $y_{j} = 1$ for $j = 1, . . . , 4$. This gives a value of $28$ from the $y$ variables.\n",
    "\n"
   ]
  },
  {
   "cell_type": "code",
   "execution_count": 40,
   "id": "883c349c",
   "metadata": {},
   "outputs": [
    {
     "name": "stdout",
     "output_type": "stream",
     "text": [
      "[ 9.765625e-04  1.953125e-03  3.906250e-03  7.812500e-03  1.562500e-02\n",
      "  3.125000e-02  6.250000e-02  1.250000e-01  2.500000e-01  5.000000e-01\n",
      "  1.000000e+00  2.000000e+00  4.000000e+00  8.000000e+00  1.600000e+01\n",
      "  3.200000e+01  6.400000e+01  1.280000e+02  2.560000e+02  5.120000e+02\n",
      "  1.024000e+03 -1.500000e+01 -1.000000e+01]\n",
      "The length of variable is 23\n"
     ]
    }
   ],
   "source": [
    "A = np.array([[0, 0],\n",
    "              [0, 0],\n",
    "              [0, 0],\n",
    "              [0, 0],\n",
    "              [-1, -1],\n",
    "              [-1, 0],\n",
    "              [-1, 0],\n",
    "              [0, -1],\n",
    "              [0, -1],])\n",
    "\n",
    "G = np.array([[1,0,1,0], \n",
    "              [1,0,0,1],\n",
    "              [0,1,1,0],\n",
    "              [0,1,0,1],\n",
    "              [0,0,0,0],\n",
    "              [1,0,0,0],\n",
    "              [0,1,0,0],\n",
    "              [0,0,1,0],\n",
    "              [0,0,0,1],\n",
    "             ])\n",
    "b = np.array([1,1,1,1,-1,0,0,0,0])\n",
    "\n",
    "c = np.array([-15.0,-10.0])\n",
    "\n",
    "h = np.array([8,9,5,6])\n",
    "\n",
    "t = np.inf \n",
    "\n",
    "t_u = []\n",
    "t_l = []\n",
    "\n",
    "y_range = np.array([[0, 1],\n",
    "                   [0, 1],\n",
    "                   [0, 1],\n",
    "                   [0, 1]])\n",
    "length = len(c)\n",
    "\n",
    "\n",
    "\n",
    "#### positive t\n",
    "t_range_u = 11\n",
    "t_range_l = -10 \n",
    "t_x = np.arange(t_range_l , t_range_u , 1)\n",
    "\n",
    "\n",
    "coef_t_x = np.power(2. , t_x)\n",
    "#print(t_x, coef_t_x )\n",
    "\n",
    "#### negative t \n",
    "\n",
    "negative_t_range_u = 5\n",
    "negative_t_range_l = -10 \n",
    "negative_t_x = np.arange(0 , t_range_u , 1)\n",
    "negative_coef_t_x = - np.power(2. , negative_t_x)\n",
    "\n",
    "#general_t_coeff = np.concatenate((coef_t_x, negative_coef_t_x))\n",
    "\n",
    "\n",
    "#General_obj = np.concatenate((coef_t_x, negative_coef_t_x, c))\n",
    "\n",
    "\n",
    "general_t_coeff = (coef_t_x)\n",
    "\n",
    "\n",
    "General_obj = np.concatenate((coef_t_x, c))\n",
    "                             \n",
    "print(General_obj)\n",
    "      \n",
    "QUBO_obj = np.diag(-General_obj)\n",
    "\n",
    "\n",
    "contraint_dict = {}\n",
    "\n",
    "threshold = 0.001\n",
    "\n",
    "answer_length = len(QUBO_obj)\n",
    "len_of_t = len(general_t_coeff)\n",
    "\n",
    "\n",
    "\n",
    "print(\"The length of variable is\" , len(QUBO_obj))"
   ]
  },
  {
   "cell_type": "code",
   "execution_count": 41,
   "id": "45cb0ce6",
   "metadata": {},
   "outputs": [
    {
     "name": "stdout",
     "output_type": "stream",
     "text": [
      "28\n"
     ]
    }
   ],
   "source": [
    "sign = np.tile(np.sign(h), (2, 1)).T\n",
    "y_range_actual = sign * y_range \n",
    "t = dot (np.max(y_range_actual,axis = 1),h) \n",
    "\n",
    "t_u.append(t)\n",
    "\n",
    "print(t)"
   ]
  },
  {
   "cell_type": "code",
   "execution_count": 42,
   "id": "f409f8b3",
   "metadata": {},
   "outputs": [],
   "source": [
    "ray_flag = 0"
   ]
  },
  {
   "cell_type": "code",
   "execution_count": 43,
   "id": "88eaa9dc",
   "metadata": {},
   "outputs": [],
   "source": [
    "#cons_add_lhs = np.concatenate((coef_t_x,negative_coef_t_x, np.zeros_like(c)))\n",
    "cons_add_lhs = np.concatenate((coef_t_x, np.zeros_like(c)))\n",
    "cons_add_rhs = t"
   ]
  },
  {
   "cell_type": "code",
   "execution_count": 44,
   "id": "fb692097",
   "metadata": {},
   "outputs": [
    {
     "data": {
      "text/plain": [
       "{0: [array([9.765625e-04, 1.953125e-03, 3.906250e-03, 7.812500e-03,\n",
       "         1.562500e-02, 3.125000e-02, 6.250000e-02, 1.250000e-01,\n",
       "         2.500000e-01, 5.000000e-01, 1.000000e+00, 2.000000e+00,\n",
       "         4.000000e+00, 8.000000e+00, 1.600000e+01, 3.200000e+01,\n",
       "         6.400000e+01, 1.280000e+02, 2.560000e+02, 5.120000e+02,\n",
       "         1.024000e+03, 0.000000e+00, 0.000000e+00]),\n",
       "  '<=',\n",
       "  28,\n",
       "  0]}"
      ]
     },
     "execution_count": 44,
     "metadata": {},
     "output_type": "execute_result"
    }
   ],
   "source": [
    "contraint_dict.update({0: [cons_add_lhs, \"<=\", cons_add_rhs, ray_flag]})\n",
    "contraint_dict"
   ]
  },
  {
   "cell_type": "code",
   "execution_count": 45,
   "id": "2fae7ad9",
   "metadata": {},
   "outputs": [
    {
     "data": {
      "text/html": [
       "<style>.container { width:100% !important; }</style>"
      ],
      "text/plain": [
       "<IPython.core.display.HTML object>"
      ]
     },
     "metadata": {},
     "output_type": "display_data"
    },
    {
     "name": "stdout",
     "output_type": "stream",
     "text": [
      "spot searching ......\n",
      "yep enter\n",
      "[9.765625e-04 1.953125e-03 3.906250e-03 7.812500e-03 1.562500e-02\n",
      " 3.125000e-02 6.250000e-02 1.250000e-01 2.500000e-01 5.000000e-01\n",
      " 1.000000e+00 2.000000e+00 4.000000e+00 8.000000e+00 1.600000e+01\n",
      " 3.200000e+01 6.400000e+01 1.280000e+02 2.560000e+02 5.120000e+02\n",
      " 1.024000e+03 0.000000e+00 0.000000e+00] <= 28\n",
      "QUBO_Cons_ineq_normal\n",
      "label >=  0 , penalty is 10240.0\n",
      "symbol == <=\n",
      "Slack_Var_Add_num: 5.0\n",
      "Slack_Var_Add_coeff: [ 1.  2.  4.  8. 16.]\n",
      "var_matched_1: [9.765625e-04 1.953125e-03 3.906250e-03 7.812500e-03 1.562500e-02\n",
      " 3.125000e-02 6.250000e-02 1.250000e-01 2.500000e-01 5.000000e-01\n",
      " 1.000000e+00 2.000000e+00 4.000000e+00 8.000000e+00 1.600000e+01\n",
      " 3.200000e+01 6.400000e+01 1.280000e+02 2.560000e+02 5.120000e+02\n",
      " 1.024000e+03 0.000000e+00 0.000000e+00 0.000000e+00 0.000000e+00\n",
      " 0.000000e+00 0.000000e+00 0.000000e+00]\n",
      "var_matched_2: [ 0.  0.  0.  0.  0.  0.  0.  0.  0.  0.  0.  0.  0.  0.  0.  0.  0.  0.\n",
      "  0.  0.  0.  0.  0.  1.  2.  4.  8. 16.]\n",
      "normal else\n",
      "Searching the spot done, Now return the result\n"
     ]
    }
   ],
   "source": [
    "#function set\n",
    "%run Func_Set.ipynb\n",
    "\n",
    "result = spot_search(QUBO_obj, contraint_dict, answer_length)\n"
   ]
  },
  {
   "cell_type": "code",
   "execution_count": 46,
   "id": "d03e4ae4",
   "metadata": {},
   "outputs": [
    {
     "data": {
      "text/html": [
       "<style>.container { width:100% !important; }</style>"
      ],
      "text/plain": [
       "<IPython.core.display.HTML object>"
      ]
     },
     "metadata": {},
     "output_type": "display_data"
    },
    {
     "name": "stdout",
     "output_type": "stream",
     "text": [
      "23 23 21\n",
      "obj: [ 1.  1.  1.  1. -1.  0.  0.  0.  0.]\n"
     ]
    }
   ],
   "source": [
    "#function set\n",
    "%run Func_Set.ipynb\n",
    "print(len(result),len(General_obj), len_of_t)\n",
    "t, x, value = answer_analyse(result, General_obj, len_of_t, general_t_coeff)\n",
    "\n",
    "obj = b-np.dot(A,x)\n",
    "\n",
    "print(\"obj:\",obj)\n",
    "\n",
    "t_u.append(t)"
   ]
  },
  {
   "cell_type": "code",
   "execution_count": 47,
   "id": "abee0522",
   "metadata": {},
   "outputs": [
    {
     "name": "stdout",
     "output_type": "stream",
     "text": [
      "[[-1 -1  0  0  0 -1  0  0  0]\n",
      " [ 0  0 -1 -1  0  0 -1  0  0]\n",
      " [-1  0 -1  0  0  0  0 -1  0]\n",
      " [ 0 -1  0 -1  0  0  0  0 -1]] [-8 -9 -5 -6]\n",
      "     con: array([], dtype=float64)\n",
      "     fun: -inf\n",
      " message: 'If feasible, the problem is (trivially) unbounded due  to a zero column in the constraint matrices. If you wish to check whether the problem is infeasible, turn presolve off.'\n",
      "     nit: 0\n",
      "   slack: array([nan, nan, nan, nan])\n",
      "  status: 3\n",
      " success: False\n",
      "       x: array([ 0.,  0.,  0.,  0., inf,  0.,  0.,  0.,  0.])\n"
     ]
    }
   ],
   "source": [
    "lhs_ineq = -G.T\n",
    "rhs_ineq = -h.T\n",
    "bnd = [(0, float(\"inf\")),\n",
    "       (0, float(\"inf\")),\n",
    "       (0, float(\"inf\")),\n",
    "       (0, float(\"inf\")),\n",
    "       (0, float(\"inf\")),\n",
    "       (0, float(\"inf\")),\n",
    "       (0, float(\"inf\")),\n",
    "       (0, float(\"inf\")),   \n",
    "       (0, float(\"inf\")),]  # Bounds of u s\n",
    "\n",
    "print(lhs_ineq,rhs_ineq)\n",
    "\n",
    "\n",
    "opt = linprog(c=obj, A_ub=lhs_ineq, b_ub=rhs_ineq, bounds=bnd,method=\"revised simplex\")\n",
    "print(opt)"
   ]
  },
  {
   "cell_type": "code",
   "execution_count": 48,
   "id": "ad8c4546",
   "metadata": {},
   "outputs": [],
   "source": [
    "t_l.append(opt['fun'])"
   ]
  },
  {
   "cell_type": "code",
   "execution_count": 49,
   "id": "309ac16b",
   "metadata": {},
   "outputs": [],
   "source": [
    "x_result = opt['x']\n",
    "ray_flag = 1\n",
    "if np.isinf(x_result).any():\n",
    "    x_result = np.sign(opt['x'])\n",
    "    ray_flag = 0"
   ]
  },
  {
   "cell_type": "code",
   "execution_count": 50,
   "id": "dafce164",
   "metadata": {},
   "outputs": [
    {
     "name": "stdout",
     "output_type": "stream",
     "text": [
      "[ 0.  0.  0.  0.  0.  0.  0.  0.  0.  0.  0.  0.  0.  0.  0.  0.  0.  0.\n",
      "  0.  0.  0. -1. -1.] <= -1.0\n"
     ]
    }
   ],
   "source": [
    "if ray_flag:\n",
    "    cons_add_lhs = np.concatenate((general_t_coeff, dot(x_result,A)))\n",
    "else:\n",
    "    cons_add_lhs = np.concatenate((np.zeros_like(general_t_coeff), dot(x_result,A)))\n",
    "cons_add_rhs = dot(b,x_result)\n",
    "print(cons_add_lhs,\"<=\",cons_add_rhs)"
   ]
  },
  {
   "cell_type": "code",
   "execution_count": 51,
   "id": "91789303",
   "metadata": {},
   "outputs": [
    {
     "data": {
      "text/plain": [
       "{0: [array([9.765625e-04, 1.953125e-03, 3.906250e-03, 7.812500e-03,\n",
       "         1.562500e-02, 3.125000e-02, 6.250000e-02, 1.250000e-01,\n",
       "         2.500000e-01, 5.000000e-01, 1.000000e+00, 2.000000e+00,\n",
       "         4.000000e+00, 8.000000e+00, 1.600000e+01, 3.200000e+01,\n",
       "         6.400000e+01, 1.280000e+02, 2.560000e+02, 5.120000e+02,\n",
       "         1.024000e+03, 0.000000e+00, 0.000000e+00]),\n",
       "  '<=',\n",
       "  28,\n",
       "  0],\n",
       " 1: [array([ 0.,  0.,  0.,  0.,  0.,  0.,  0.,  0.,  0.,  0.,  0.,  0.,  0.,\n",
       "          0.,  0.,  0.,  0.,  0.,  0.,  0.,  0., -1., -1.]),\n",
       "  '<=',\n",
       "  -1.0,\n",
       "  0]}"
      ]
     },
     "execution_count": 51,
     "metadata": {},
     "output_type": "execute_result"
    }
   ],
   "source": [
    "contraint_dict.update({1: [cons_add_lhs, \"<=\", cons_add_rhs, ray_flag]})\n",
    "contraint_dict"
   ]
  },
  {
   "cell_type": "code",
   "execution_count": 52,
   "id": "4d651f31",
   "metadata": {},
   "outputs": [
    {
     "data": {
      "text/html": [
       "<style>.container { width:100% !important; }</style>"
      ],
      "text/plain": [
       "<IPython.core.display.HTML object>"
      ]
     },
     "metadata": {},
     "output_type": "display_data"
    },
    {
     "name": "stdout",
     "output_type": "stream",
     "text": [
      "spot searching ......\n",
      "yep enter\n",
      "[9.765625e-04 1.953125e-03 3.906250e-03 7.812500e-03 1.562500e-02\n",
      " 3.125000e-02 6.250000e-02 1.250000e-01 2.500000e-01 5.000000e-01\n",
      " 1.000000e+00 2.000000e+00 4.000000e+00 8.000000e+00 1.600000e+01\n",
      " 3.200000e+01 6.400000e+01 1.280000e+02 2.560000e+02 5.120000e+02\n",
      " 1.024000e+03 0.000000e+00 0.000000e+00] <= 28\n",
      "QUBO_Cons_ineq_normal\n",
      "label >=  0 , penalty is 10240.0\n",
      "symbol == <=\n",
      "Slack_Var_Add_num: 5.0\n",
      "Slack_Var_Add_coeff: [ 1.  2.  4.  8. 16.]\n",
      "var_matched_1: [9.765625e-04 1.953125e-03 3.906250e-03 7.812500e-03 1.562500e-02\n",
      " 3.125000e-02 6.250000e-02 1.250000e-01 2.500000e-01 5.000000e-01\n",
      " 1.000000e+00 2.000000e+00 4.000000e+00 8.000000e+00 1.600000e+01\n",
      " 3.200000e+01 6.400000e+01 1.280000e+02 2.560000e+02 5.120000e+02\n",
      " 1.024000e+03 0.000000e+00 0.000000e+00 0.000000e+00 0.000000e+00\n",
      " 0.000000e+00 0.000000e+00 0.000000e+00]\n",
      "var_matched_2: [ 0.  0.  0.  0.  0.  0.  0.  0.  0.  0.  0.  0.  0.  0.  0.  0.  0.  0.\n",
      "  0.  0.  0.  0.  0.  1.  2.  4.  8. 16.]\n",
      "normal else\n",
      "yep enter\n",
      "[-0. -0. -0. -0. -0. -0. -0. -0. -0. -0. -0. -0. -0. -0. -0. -0. -0. -0.\n",
      " -0. -0. -0.  1.  1.] >= 1.0\n",
      "QUBO_Cons_ineq_normal\n",
      "label >=  0 , penalty is 10240.0\n",
      "symbol == >=\n",
      "Slack_Var_Add_num: 1.0\n",
      "Slack_Var_Add_coeff: [1.]\n",
      "var_matched_2: [0. 0. 0. 0. 0. 0. 0. 0. 0. 0. 0. 0. 0. 0. 0. 0. 0. 0. 0. 0. 0. 0. 0. 0.\n",
      " 0. 0. 0. 0. 1.]\n",
      "ineq1 else condition\n",
      "Searching the spot done, Now return the result\n"
     ]
    }
   ],
   "source": [
    "#function set\n",
    "%run Func_Set.ipynb\n",
    "\n",
    "result = spot_search(QUBO_obj, contraint_dict, answer_length)"
   ]
  },
  {
   "cell_type": "code",
   "execution_count": 53,
   "id": "a947956b",
   "metadata": {},
   "outputs": [
    {
     "data": {
      "text/html": [
       "<style>.container { width:100% !important; }</style>"
      ],
      "text/plain": [
       "<IPython.core.display.HTML object>"
      ]
     },
     "metadata": {},
     "output_type": "display_data"
    },
    {
     "name": "stdout",
     "output_type": "stream",
     "text": [
      "obj: [1. 1. 1. 1. 0. 0. 0. 1. 1.]\n",
      "     con: array([], dtype=float64)\n",
      "     fun: 11.0\n",
      " message: 'Optimization terminated successfully.'\n",
      "     nit: 0\n",
      "   slack: array([0., 0., 0., 0.])\n",
      "  status: 0\n",
      " success: True\n",
      "       x: array([0., 0., 0., 0., 0., 8., 9., 5., 6.])\n",
      "t_upper_bound: 28.0\n",
      "t_lower_bound: 11.0\n"
     ]
    }
   ],
   "source": [
    "#function set\n",
    "%run Func_Set.ipynb\n",
    "#print(len(result),len(General_obj), len_of_t)\n",
    "t, x, value = answer_analyse(result, General_obj, len_of_t, general_t_coeff)\n",
    "t_u.append(t)\n",
    "\n",
    "obj = b-np.dot(A,x)\n",
    "\n",
    "print(\"obj:\",obj)\n",
    "opt = linprog(c=obj, A_ub=lhs_ineq, b_ub=rhs_ineq, bounds=bnd,method=\"revised simplex\")\n",
    "print(opt)\n",
    "t_lower_bound = opt['fun']\n",
    "print(\"t_upper_bound:\",t)\n",
    "print(\"t_lower_bound:\",t_lower_bound)\n",
    "t_l.append(opt['fun'])"
   ]
  },
  {
   "cell_type": "code",
   "execution_count": 54,
   "id": "990a1064",
   "metadata": {},
   "outputs": [
    {
     "name": "stdout",
     "output_type": "stream",
     "text": [
      "[ 9.765625e-04  1.953125e-03  3.906250e-03  7.812500e-03  1.562500e-02\n",
      "  3.125000e-02  6.250000e-02  1.250000e-01  2.500000e-01  5.000000e-01\n",
      "  1.000000e+00  2.000000e+00  4.000000e+00  8.000000e+00  1.600000e+01\n",
      "  3.200000e+01  6.400000e+01  1.280000e+02  2.560000e+02  5.120000e+02\n",
      "  1.024000e+03 -1.700000e+01 -1.100000e+01] <= 0.0\n"
     ]
    }
   ],
   "source": [
    "x_result = opt['x']\n",
    "ray_flag = 1\n",
    "if np.isinf(x_result).any():\n",
    "    x_result = np.sign(opt['x'])\n",
    "    ray_flag = 0\n",
    "    \n",
    "if ray_flag:\n",
    "    cons_add_lhs = np.concatenate((general_t_coeff, dot(x_result,A)))\n",
    "else:\n",
    "    cons_add_lhs = np.concatenate((np.zeros_like(general_t_coeff), dot(x_result,A)))\n",
    "cons_add_rhs = dot(b,x_result)\n",
    "print(cons_add_lhs,\"<=\",cons_add_rhs)\n",
    "\n",
    "contraint_dict.update({2: [cons_add_lhs, \"<=\", cons_add_rhs, ray_flag]})"
   ]
  },
  {
   "cell_type": "code",
   "execution_count": 55,
   "id": "cf790c63",
   "metadata": {},
   "outputs": [
    {
     "data": {
      "text/html": [
       "<style>.container { width:100% !important; }</style>"
      ],
      "text/plain": [
       "<IPython.core.display.HTML object>"
      ]
     },
     "metadata": {},
     "output_type": "display_data"
    },
    {
     "name": "stdout",
     "output_type": "stream",
     "text": [
      "spot searching ......\n",
      "yep enter\n",
      "[9.765625e-04 1.953125e-03 3.906250e-03 7.812500e-03 1.562500e-02\n",
      " 3.125000e-02 6.250000e-02 1.250000e-01 2.500000e-01 5.000000e-01\n",
      " 1.000000e+00 2.000000e+00 4.000000e+00 8.000000e+00 1.600000e+01\n",
      " 3.200000e+01 6.400000e+01 1.280000e+02 2.560000e+02 5.120000e+02\n",
      " 1.024000e+03 0.000000e+00 0.000000e+00] <= 28\n",
      "QUBO_Cons_ineq_normal\n",
      "label >=  0 , penalty is 10240.0\n",
      "symbol == <=\n",
      "Slack_Var_Add_num: 5.0\n",
      "Slack_Var_Add_coeff: [ 1.  2.  4.  8. 16.]\n",
      "var_matched_1: [9.765625e-04 1.953125e-03 3.906250e-03 7.812500e-03 1.562500e-02\n",
      " 3.125000e-02 6.250000e-02 1.250000e-01 2.500000e-01 5.000000e-01\n",
      " 1.000000e+00 2.000000e+00 4.000000e+00 8.000000e+00 1.600000e+01\n",
      " 3.200000e+01 6.400000e+01 1.280000e+02 2.560000e+02 5.120000e+02\n",
      " 1.024000e+03 0.000000e+00 0.000000e+00 0.000000e+00 0.000000e+00\n",
      " 0.000000e+00 0.000000e+00 0.000000e+00]\n",
      "var_matched_2: [ 0.  0.  0.  0.  0.  0.  0.  0.  0.  0.  0.  0.  0.  0.  0.  0.  0.  0.\n",
      "  0.  0.  0.  0.  0.  1.  2.  4.  8. 16.]\n",
      "normal else\n",
      "yep enter\n",
      "[-0. -0. -0. -0. -0. -0. -0. -0. -0. -0. -0. -0. -0. -0. -0. -0. -0. -0.\n",
      " -0. -0. -0.  1.  1.] >= 1.0\n",
      "QUBO_Cons_ineq_normal\n",
      "label >=  0 , penalty is 10240.0\n",
      "symbol == >=\n",
      "Slack_Var_Add_num: 1.0\n",
      "Slack_Var_Add_coeff: [1.]\n",
      "var_matched_2: [0. 0. 0. 0. 0. 0. 0. 0. 0. 0. 0. 0. 0. 0. 0. 0. 0. 0. 0. 0. 0. 0. 0. 0.\n",
      " 0. 0. 0. 0. 1.]\n",
      "ineq1 else condition\n",
      "yep enter\n",
      "[ 9.765625e-04  1.953125e-03  3.906250e-03  7.812500e-03  1.562500e-02\n",
      "  3.125000e-02  6.250000e-02  1.250000e-01  2.500000e-01  5.000000e-01\n",
      "  1.000000e+00  2.000000e+00  4.000000e+00  8.000000e+00  1.600000e+01\n",
      "  3.200000e+01  6.400000e+01  1.280000e+02  2.560000e+02  5.120000e+02\n",
      "  1.024000e+03 -1.700000e+01 -1.100000e+01] <= 0.0\n",
      "QUBO_Cons_ineq_normal\n",
      "label >=  0 , penalty is 10240.0\n",
      "symbol == <=\n",
      "Slack_Var_Add_num: 5.0\n",
      "Slack_Var_Add_coeff: [ 1.  2.  4.  8. 16.]\n",
      "var_matched_1: [ 9.765625e-04  1.953125e-03  3.906250e-03  7.812500e-03  1.562500e-02\n",
      "  3.125000e-02  6.250000e-02  1.250000e-01  2.500000e-01  5.000000e-01\n",
      "  1.000000e+00  2.000000e+00  4.000000e+00  8.000000e+00  1.600000e+01\n",
      "  3.200000e+01  6.400000e+01  1.280000e+02  2.560000e+02  5.120000e+02\n",
      "  1.024000e+03 -1.700000e+01 -1.100000e+01  0.000000e+00  0.000000e+00\n",
      "  0.000000e+00  0.000000e+00  0.000000e+00  0.000000e+00  0.000000e+00\n",
      "  0.000000e+00  0.000000e+00  0.000000e+00  0.000000e+00]\n",
      "var_matched_2: [ 0.  0.  0.  0.  0.  0.  0.  0.  0.  0.  0.  0.  0.  0.  0.  0.  0.  0.\n",
      "  0.  0.  0.  0.  0.  0.  0.  0.  0.  0.  0.  1.  2.  4.  8. 16.]\n",
      "ineq0 else condition\n",
      "Searching the spot done, Now return the result\n"
     ]
    }
   ],
   "source": [
    "#function set\n",
    "%run Func_Set.ipynb\n",
    "\n",
    "result = spot_search(QUBO_obj, contraint_dict, answer_length)"
   ]
  },
  {
   "cell_type": "code",
   "execution_count": 56,
   "id": "e32957bc",
   "metadata": {},
   "outputs": [
    {
     "data": {
      "text/html": [
       "<style>.container { width:100% !important; }</style>"
      ],
      "text/plain": [
       "<IPython.core.display.HTML object>"
      ]
     },
     "metadata": {},
     "output_type": "display_data"
    },
    {
     "name": "stdout",
     "output_type": "stream",
     "text": [
      "obj: [1. 1. 1. 1. 1. 1. 1. 1. 1.]\n",
      "     con: array([], dtype=float64)\n",
      "     fun: 17.0\n",
      " message: 'Optimization terminated successfully.'\n",
      "     nit: 3\n",
      "   slack: array([0., 0., 0., 0.])\n",
      "  status: 0\n",
      " success: True\n",
      "       x: array([2., 6., 3., 0., 0., 0., 6., 0., 0.])\n",
      "t_upper_bound: 28.0\n",
      "t_lower_bound: 17.0\n"
     ]
    }
   ],
   "source": [
    "#function set\n",
    "%run Func_Set.ipynb\n",
    "#print(len(result),len(General_obj), len_of_t)\n",
    "t, x, value = answer_analyse(result, General_obj, len_of_t, general_t_coeff)\n",
    "\n",
    "t_u.append(t)\n",
    "\n",
    "obj = b-np.dot(A,x)\n",
    "\n",
    "\n",
    "print(\"obj:\",obj)\n",
    "opt = linprog(c=obj, A_ub=lhs_ineq, b_ub=rhs_ineq, bounds=bnd,method=\"revised simplex\")\n",
    "print(opt)\n",
    "t_lower_bound = opt['fun']\n",
    "print(\"t_upper_bound:\",t)\n",
    "print(\"t_lower_bound:\",t_lower_bound)\n",
    "t_l.append(opt['fun'])"
   ]
  },
  {
   "cell_type": "code",
   "execution_count": 57,
   "id": "be59a32c",
   "metadata": {},
   "outputs": [
    {
     "name": "stdout",
     "output_type": "stream",
     "text": [
      "[ 9.765625e-04  1.953125e-03  3.906250e-03  7.812500e-03  1.562500e-02\n",
      "  3.125000e-02  6.250000e-02  1.250000e-01  2.500000e-01  5.000000e-01\n",
      "  1.000000e+00  2.000000e+00  4.000000e+00  8.000000e+00  1.600000e+01\n",
      "  3.200000e+01  6.400000e+01  1.280000e+02  2.560000e+02  5.120000e+02\n",
      "  1.024000e+03 -6.000000e+00  0.000000e+00] <= 11.0\n"
     ]
    }
   ],
   "source": [
    "x_result = opt['x']\n",
    "ray_flag = 1\n",
    "if np.isinf(x_result).any():\n",
    "    x_result = np.sign(opt['x'])\n",
    "    ray_flag = 0\n",
    "    \n",
    "if ray_flag:\n",
    "    cons_add_lhs = np.concatenate((general_t_coeff, dot(x_result,A)))\n",
    "else:\n",
    "    cons_add_lhs = np.concatenate((np.zeros_like(general_t_coeff), dot(x_result,A)))\n",
    "cons_add_rhs = dot(b,x_result)\n",
    "print(cons_add_lhs,\"<=\",cons_add_rhs)\n",
    "\n",
    "contraint_dict.update({2: [cons_add_lhs, \"<=\", cons_add_rhs, ray_flag]})"
   ]
  },
  {
   "cell_type": "code",
   "execution_count": 58,
   "id": "cdcf30df",
   "metadata": {},
   "outputs": [
    {
     "data": {
      "text/html": [
       "<style>.container { width:100% !important; }</style>"
      ],
      "text/plain": [
       "<IPython.core.display.HTML object>"
      ]
     },
     "metadata": {},
     "output_type": "display_data"
    },
    {
     "name": "stdout",
     "output_type": "stream",
     "text": [
      "spot searching ......\n",
      "yep enter\n",
      "[9.765625e-04 1.953125e-03 3.906250e-03 7.812500e-03 1.562500e-02\n",
      " 3.125000e-02 6.250000e-02 1.250000e-01 2.500000e-01 5.000000e-01\n",
      " 1.000000e+00 2.000000e+00 4.000000e+00 8.000000e+00 1.600000e+01\n",
      " 3.200000e+01 6.400000e+01 1.280000e+02 2.560000e+02 5.120000e+02\n",
      " 1.024000e+03 0.000000e+00 0.000000e+00] <= 28\n",
      "QUBO_Cons_ineq_normal\n",
      "label >=  0 , penalty is 10240.0\n",
      "symbol == <=\n",
      "Slack_Var_Add_num: 5.0\n",
      "Slack_Var_Add_coeff: [ 1.  2.  4.  8. 16.]\n",
      "var_matched_1: [9.765625e-04 1.953125e-03 3.906250e-03 7.812500e-03 1.562500e-02\n",
      " 3.125000e-02 6.250000e-02 1.250000e-01 2.500000e-01 5.000000e-01\n",
      " 1.000000e+00 2.000000e+00 4.000000e+00 8.000000e+00 1.600000e+01\n",
      " 3.200000e+01 6.400000e+01 1.280000e+02 2.560000e+02 5.120000e+02\n",
      " 1.024000e+03 0.000000e+00 0.000000e+00 0.000000e+00 0.000000e+00\n",
      " 0.000000e+00 0.000000e+00 0.000000e+00]\n",
      "var_matched_2: [ 0.  0.  0.  0.  0.  0.  0.  0.  0.  0.  0.  0.  0.  0.  0.  0.  0.  0.\n",
      "  0.  0.  0.  0.  0.  1.  2.  4.  8. 16.]\n",
      "normal else\n",
      "yep enter\n",
      "[-0. -0. -0. -0. -0. -0. -0. -0. -0. -0. -0. -0. -0. -0. -0. -0. -0. -0.\n",
      " -0. -0. -0.  1.  1.] >= 1.0\n",
      "QUBO_Cons_ineq_normal\n",
      "label >=  0 , penalty is 10240.0\n",
      "symbol == >=\n",
      "Slack_Var_Add_num: 1.0\n",
      "Slack_Var_Add_coeff: [1.]\n",
      "var_matched_2: [0. 0. 0. 0. 0. 0. 0. 0. 0. 0. 0. 0. 0. 0. 0. 0. 0. 0. 0. 0. 0. 0. 0. 0.\n",
      " 0. 0. 0. 0. 1.]\n",
      "ineq1 else condition\n",
      "yep enter\n",
      "[ 9.765625e-04  1.953125e-03  3.906250e-03  7.812500e-03  1.562500e-02\n",
      "  3.125000e-02  6.250000e-02  1.250000e-01  2.500000e-01  5.000000e-01\n",
      "  1.000000e+00  2.000000e+00  4.000000e+00  8.000000e+00  1.600000e+01\n",
      "  3.200000e+01  6.400000e+01  1.280000e+02  2.560000e+02  5.120000e+02\n",
      "  1.024000e+03 -6.000000e+00  0.000000e+00] <= 11.0\n",
      "QUBO_Cons_ineq_normal\n",
      "label >=  0 , penalty is 10240.0\n",
      "symbol == <=\n",
      "Slack_Var_Add_num: 5.0\n",
      "Slack_Var_Add_coeff: [ 1.  2.  4.  8. 16.]\n",
      "var_matched_1: [ 9.765625e-04  1.953125e-03  3.906250e-03  7.812500e-03  1.562500e-02\n",
      "  3.125000e-02  6.250000e-02  1.250000e-01  2.500000e-01  5.000000e-01\n",
      "  1.000000e+00  2.000000e+00  4.000000e+00  8.000000e+00  1.600000e+01\n",
      "  3.200000e+01  6.400000e+01  1.280000e+02  2.560000e+02  5.120000e+02\n",
      "  1.024000e+03 -6.000000e+00  0.000000e+00  0.000000e+00  0.000000e+00\n",
      "  0.000000e+00  0.000000e+00  0.000000e+00  0.000000e+00  0.000000e+00\n",
      "  0.000000e+00  0.000000e+00  0.000000e+00  0.000000e+00]\n",
      "var_matched_2: [ 0.  0.  0.  0.  0.  0.  0.  0.  0.  0.  0.  0.  0.  0.  0.  0.  0.  0.\n",
      "  0.  0.  0.  0.  0.  0.  0.  0.  0.  0.  0.  1.  2.  4.  8. 16.]\n",
      "normal else\n",
      "Searching the spot done, Now return the result\n"
     ]
    }
   ],
   "source": [
    "#function set\n",
    "%run Func_Set.ipynb\n",
    "\n",
    "result = spot_search(QUBO_obj, contraint_dict, answer_length)"
   ]
  },
  {
   "cell_type": "code",
   "execution_count": 59,
   "id": "717a5322",
   "metadata": {},
   "outputs": [
    {
     "data": {
      "text/html": [
       "<style>.container { width:100% !important; }</style>"
      ],
      "text/plain": [
       "<IPython.core.display.HTML object>"
      ]
     },
     "metadata": {},
     "output_type": "display_data"
    },
    {
     "name": "stdout",
     "output_type": "stream",
     "text": [
      "obj: [1. 1. 1. 1. 0. 1. 1. 0. 0.]\n",
      "     con: array([], dtype=float64)\n",
      "     fun: 17.0\n",
      " message: 'Optimization terminated successfully.'\n",
      "     nit: 0\n",
      "   slack: array([0., 0., 0., 0.])\n",
      "  status: 0\n",
      " success: True\n",
      "       x: array([0., 0., 0., 0., 0., 8., 9., 5., 6.])\n",
      "t_upper_bound: 17.0\n",
      "t_lower_bound: 17.0\n"
     ]
    }
   ],
   "source": [
    "#function set\n",
    "%run Func_Set.ipynb\n",
    "#print(len(result),len(General_obj), len_of_t)\n",
    "t, x, value = answer_analyse(result, General_obj, len_of_t, general_t_coeff)\n",
    "t_u.append(t)\n",
    "\n",
    "\n",
    "obj = b-np.dot(A,x)\n",
    "\n",
    "print(\"obj:\",obj)\n",
    "opt = linprog(c=obj, A_ub=lhs_ineq, b_ub=rhs_ineq, bounds=bnd,method=\"revised simplex\")\n",
    "print(opt)\n",
    "t_lower_bound = opt['fun']\n",
    "print(\"t_upper_bound:\",t)\n",
    "print(\"t_lower_bound:\",t_lower_bound)\n",
    "t_l.append(opt['fun'])"
   ]
  },
  {
   "cell_type": "code",
   "execution_count": 60,
   "id": "ab622161",
   "metadata": {},
   "outputs": [
    {
     "name": "stdout",
     "output_type": "stream",
     "text": [
      "[28, 28.0, 28.0, 28.0, 17.0]\n"
     ]
    }
   ],
   "source": [
    "t_u[1] =28.0\n",
    "print(t_u)\n"
   ]
  },
  {
   "cell_type": "code",
   "execution_count": 61,
   "id": "24c994b6",
   "metadata": {},
   "outputs": [
    {
     "name": "stdout",
     "output_type": "stream",
     "text": [
      "[-inf, -inf, 11.0, 17.0, 17.0]\n"
     ]
    }
   ],
   "source": [
    "t_l.insert(0, -np.inf)\n",
    "print(t_l)"
   ]
  },
  {
   "cell_type": "code",
   "execution_count": 70,
   "id": "13f328f6",
   "metadata": {},
   "outputs": [
    {
     "data": {
      "text/plain": [
       "([<matplotlib.axis.XTick at 0x1e1fb68a4c0>,\n",
       "  <matplotlib.axis.XTick at 0x1e1fb68a490>,\n",
       "  <matplotlib.axis.XTick at 0x1e1fb684190>,\n",
       "  <matplotlib.axis.XTick at 0x1e1fb67ab20>,\n",
       "  <matplotlib.axis.XTick at 0x1e1fb656220>],\n",
       " [Text(0, 0, ''),\n",
       "  Text(0, 0, ''),\n",
       "  Text(0, 0, ''),\n",
       "  Text(0, 0, ''),\n",
       "  Text(0, 0, '')])"
      ]
     },
     "execution_count": 70,
     "metadata": {},
     "output_type": "execute_result"
    },
    {
     "data": {
      "image/png": "[encoded data removed]",
      "text/plain": [
       "<Figure size 432x288 with 1 Axes>"
      ]
     },
     "metadata": {
      "needs_background": "light"
     },
     "output_type": "display_data"
    }
   ],
   "source": [
    "x_len = len(t_u)\n",
    "x = np.arange(x_len)\n",
    "plt.plot(x,t_u,'r--',label = \"upper bound\")\n",
    "plt.plot(x,t_l,'b--',label = \"lower bound\")\n",
    "plt.title('Upper and Lower Bound of t')\n",
    "plt.xlabel('round')\n",
    "plt.legend()\n",
    "plt.show\n",
    "plt.xticks(np.arange(0, x_len, step=1)) "
   ]
  },
  {
   "cell_type": "code",
   "execution_count": 67,
   "id": "1dc43176",
   "metadata": {},
   "outputs": [
    {
     "name": "stdout",
     "output_type": "stream",
     "text": [
      "[0 1 2 3 4]\n"
     ]
    }
   ],
   "source": [
    "print(x)"
   ]
  },
  {
   "cell_type": "code",
   "execution_count": null,
   "id": "16fd86fb",
   "metadata": {},
   "outputs": [],
   "source": []
  },
  {
   "cell_type": "code",
   "execution_count": null,
   "id": "45361e9e",
   "metadata": {},
   "outputs": [],
   "source": []
  },
  {
   "cell_type": "code",
   "execution_count": null,
   "id": "18a8cec1",
   "metadata": {},
   "outputs": [],
   "source": []
  },
  {
   "cell_type": "code",
   "execution_count": null,
   "id": "54387d60",
   "metadata": {},
   "outputs": [],
   "source": []
  },
  {
   "cell_type": "code",
   "execution_count": 391,
   "id": "410506cd",
   "metadata": {},
   "outputs": [
    {
     "data": {
      "text/html": [
       "<style>.container { width:100% !important; }</style>"
      ],
      "text/plain": [
       "<IPython.core.display.HTML object>"
      ]
     },
     "metadata": {},
     "output_type": "display_data"
    },
    {
     "name": "stdout",
     "output_type": "stream",
     "text": [
      "the T is 28\n",
      "This is the 0 th region search, The search area is < [28. 20. 12.] >\n",
      "Searching the domain partially done, Now do the checking\n",
      "Looks Good returning the result now\n",
      "Initial region is,< [28. 20. 12.] >\n"
     ]
    }
   ],
   "source": [
    "#function set\n",
    "%run Functions_Set.ipynb\n",
    "# initial t\n",
    "y_range_actual = sign * y_range \n",
    "t = dot (np.max(y_range_actual,axis = 1),h) \n",
    "\n",
    "print(\"the T upperbound is\",t)\n",
    "\n",
    "\n",
    "spot, co_domain = region_search(t, step, QUBO_obj, contraint_dict)\n"
   ]
  },
  {
   "cell_type": "code",
   "execution_count": 392,
   "id": "fcb148eb",
   "metadata": {},
   "outputs": [
    {
     "data": {
      "text/html": [
       "<style>.container { width:100% !important; }</style>"
      ],
      "text/plain": [
       "<IPython.core.display.HTML object>"
      ]
     },
     "metadata": {},
     "output_type": "display_data"
    },
    {
     "name": "stdout",
     "output_type": "stream",
     "text": [
      "level 3.0 substep 4.0\n",
      "the searching area is < [28. 24. 20.] > , which is the 0 th in the subregion.\n",
      "Searching the sub-domain partially done, Now do the checking\n",
      "Looks Good, found the peak region going to dig into the sub region now\n",
      "the searching area is < [28. 26. 24.] > , which is the 0 th in the subregion.\n",
      "Searching the sub-domain partially done, Now do the checking\n",
      "Looks Good, found the peak region going to dig into the sub region now\n",
      "the searching area is < [28. 27. 26.] > , which is the 0 th in the subregion.\n",
      "Searching the sub-domain partially done, Now do the checking\n",
      "the step is 1, returning the peak region now\n",
      "region is: [28. 27. 26.] codomain is: [28 27 26]\n"
     ]
    }
   ],
   "source": [
    "#function set\n",
    "%run Functions_Set.ipynb\n",
    "level = np.log2(step)\n",
    "substep = 2**(level-1)\n",
    "print(\"level\", level,\"substep\",substep)    \n",
    "    \n",
    "sub_region ,value, opt_x_set =  region_check(region, substep, QUBO,contraint_dict)\n",
    "\n"
   ]
  },
  {
   "cell_type": "code",
   "execution_count": 393,
   "id": "172f64da",
   "metadata": {},
   "outputs": [
    {
     "name": "stdout",
     "output_type": "stream",
     "text": [
      "[28. 27. 26.] [28 27 26] [[0. 0.]\n",
      " [0. 0.]\n",
      " [0. 0.]]\n"
     ]
    }
   ],
   "source": [
    "print(sub_region ,value,opt_x_set)"
   ]
  },
  {
   "cell_type": "code",
   "execution_count": 394,
   "id": "e2283afb",
   "metadata": {},
   "outputs": [
    {
     "name": "stdout",
     "output_type": "stream",
     "text": [
      "28.0 [0. 0.]\n"
     ]
    }
   ],
   "source": [
    "t = sub_region[np.argmax(value)]\n",
    "opt_x = opt_x_set[np.argmax(value),:]\n",
    "print(t,opt_x)"
   ]
  },
  {
   "cell_type": "code",
   "execution_count": 395,
   "id": "832a4423",
   "metadata": {},
   "outputs": [
    {
     "name": "stdout",
     "output_type": "stream",
     "text": [
      "obj: [ 1.  1.  1.  1. -1.  0.  0.  0.  0.]\n"
     ]
    }
   ],
   "source": [
    "# Select a solver\n",
    "#sampler = LeapHybridSampler()\n",
    "\n",
    "#sampleset = sampler.sample_qubo(QUBO)\n",
    "\n",
    "#OP = sampleset.to_pandas_dataframe()\n",
    "#OP_final = OP.to_numpy()[0]\n",
    "#result = OP_final[:length]\n",
    "\n",
    "x = opt_x\n",
    "obj = b-np.dot(A,x)\n",
    "\n",
    "print(\"obj:\",obj)"
   ]
  },
  {
   "cell_type": "code",
   "execution_count": 396,
   "id": "c6157690",
   "metadata": {},
   "outputs": [
    {
     "name": "stdout",
     "output_type": "stream",
     "text": [
      "[[-1 -1  0  0  0 -1  0  0  0]\n",
      " [ 0  0 -1 -1  0  0 -1  0  0]\n",
      " [-1  0 -1  0  0  0  0 -1  0]\n",
      " [ 0 -1  0 -1  0  0  0  0 -1]] [-8 -9 -5 -6]\n",
      "     con: array([], dtype=float64)\n",
      "     fun: -inf\n",
      " message: 'If feasible, the problem is (trivially) unbounded due  to a zero column in the constraint matrices. If you wish to check whether the problem is infeasible, turn presolve off.'\n",
      "     nit: 0\n",
      "   slack: array([nan, nan, nan, nan])\n",
      "  status: 3\n",
      " success: False\n",
      "       x: array([ 0.,  0.,  0.,  0., inf,  0.,  0.,  0.,  0.])\n"
     ]
    }
   ],
   "source": [
    "lhs_ineq = -G.T\n",
    "rhs_ineq = -h.T\n",
    "bnd = [(0, float(\"inf\")),\n",
    "       (0, float(\"inf\")),\n",
    "       (0, float(\"inf\")),\n",
    "       (0, float(\"inf\")),\n",
    "       (0, float(\"inf\")),\n",
    "       (0, float(\"inf\")),\n",
    "       (0, float(\"inf\")),\n",
    "       (0, float(\"inf\")),   \n",
    "       (0, float(\"inf\")),]  # Bounds of u s\n",
    "\n",
    "print(lhs_ineq,rhs_ineq)\n",
    "\n",
    "\n",
    "opt = linprog(c=obj, A_ub=lhs_ineq, b_ub=rhs_ineq, bounds=bnd,method=\"revised simplex\")\n",
    "print(opt)"
   ]
  },
  {
   "cell_type": "code",
   "execution_count": 397,
   "id": "009f2bf4",
   "metadata": {},
   "outputs": [],
   "source": [
    "x_result = opt['x']\n",
    "ray_flag = 1\n",
    "if np.isinf(x_result).any():\n",
    "    x_result = np.sign(opt['x'])\n",
    "    ray_flag = 0"
   ]
  },
  {
   "cell_type": "code",
   "execution_count": 398,
   "id": "bcff7e34",
   "metadata": {},
   "outputs": [
    {
     "name": "stdout",
     "output_type": "stream",
     "text": [
      "[-1. -1.] <= -1.0\n"
     ]
    }
   ],
   "source": [
    "cons_add_lhs = dot(x_result,A)\n",
    "cons_add_rhs = dot(b,x_result)\n",
    "print(cons_add_lhs,\"<=\",cons_add_rhs)"
   ]
  },
  {
   "cell_type": "code",
   "execution_count": 399,
   "id": "67080b39",
   "metadata": {},
   "outputs": [
    {
     "data": {
      "text/plain": [
       "{0: [array([-1., -1.]), '<=', -1.0, 0]}"
      ]
     },
     "execution_count": 399,
     "metadata": {},
     "output_type": "execute_result"
    }
   ],
   "source": [
    "contraint_dict.update({0: [cons_add_lhs, \"<=\", cons_add_rhs, ray_flag]})\n",
    "contraint_dict"
   ]
  },
  {
   "cell_type": "code",
   "execution_count": 400,
   "id": "5efd8053",
   "metadata": {},
   "outputs": [
    {
     "data": {
      "text/html": [
       "<style>.container { width:100% !important; }</style>"
      ],
      "text/plain": [
       "<IPython.core.display.HTML object>"
      ]
     },
     "metadata": {},
     "output_type": "display_data"
    },
    {
     "name": "stdout",
     "output_type": "stream",
     "text": [
      "This is the 0 th region search, The search area is < [28. 20. 12.] >\n",
      "input constraint: 0 th constraint: [-1. -1.] <= -1.0 flag is 0\n",
      "input constraint: 0 th constraint: [1. 1.] >= 1.0\n",
      "yep enter\n",
      "[1. 1.] >= 1.0\n",
      "label =>  0 , penalty is 150.0\n",
      "fx >=1 condition\n",
      "input constraint: 0 th constraint: [-1. -1.] <= -1.0 flag is 0\n",
      "input constraint: 0 th constraint: [1. 1.] >= 1.0\n",
      "yep enter\n",
      "[1. 1.] >= 1.0\n",
      "label =>  0 , penalty is 150.0\n",
      "fx >=1 condition\n",
      "input constraint: 0 th constraint: [-1. -1.] <= -1.0 flag is 0\n",
      "input constraint: 0 th constraint: [1. 1.] >= 1.0\n",
      "yep enter\n",
      "[1. 1.] >= 1.0\n",
      "label =>  0 , penalty is 150.0\n",
      "fx >=1 condition\n",
      "Searching the domain partially done, Now do the checking\n",
      "Looks Good returning the result now\n",
      "Initial region is,< [28. 20. 12.] >\n"
     ]
    }
   ],
   "source": [
    "%run Functions_Set.ipynb\n",
    "step = 8.0 # => 2^n\n",
    "region, co_domain, opt_x_set = region_search(t, step, QUBO_obj, contraint_dict)\n",
    "print(\"Initial region is,<\",region,\">\")"
   ]
  },
  {
   "cell_type": "code",
   "execution_count": 401,
   "id": "f91cc3c6",
   "metadata": {},
   "outputs": [
    {
     "data": {
      "text/html": [
       "<style>.container { width:100% !important; }</style>"
      ],
      "text/plain": [
       "<IPython.core.display.HTML object>"
      ]
     },
     "metadata": {},
     "output_type": "display_data"
    },
    {
     "name": "stdout",
     "output_type": "stream",
     "text": [
      "level 3.0 substep 4.0\n",
      "the searching area is < [28. 24. 20.] > , which is the 0 th in the subregion.\n",
      "input constraint: 0 th constraint: [-1. -1.] <= -1.0 flag is 0\n",
      "input constraint: 0 th constraint: [1. 1.] >= 1.0\n",
      "yep enter\n",
      "[1. 1.] >= 1.0\n",
      "label =>  0 , penalty is 150.0\n",
      "fx >=1 condition\n",
      "input constraint: 0 th constraint: [-1. -1.] <= -1.0 flag is 0\n",
      "input constraint: 0 th constraint: [1. 1.] >= 1.0\n",
      "yep enter\n",
      "[1. 1.] >= 1.0\n",
      "label =>  0 , penalty is 150.0\n",
      "fx >=1 condition\n",
      "input constraint: 0 th constraint: [-1. -1.] <= -1.0 flag is 0\n",
      "input constraint: 0 th constraint: [1. 1.] >= 1.0\n",
      "yep enter\n",
      "[1. 1.] >= 1.0\n",
      "label =>  0 , penalty is 150.0\n",
      "fx >=1 condition\n",
      "Searching the sub-domain partially done, Now do the checking\n",
      "Looks Good, found the peak region going to dig into the sub region now\n",
      "the searching area is < [28. 26. 24.] > , which is the 0 th in the subregion.\n",
      "input constraint: 0 th constraint: [-1. -1.] <= -1.0 flag is 0\n",
      "input constraint: 0 th constraint: [1. 1.] >= 1.0\n",
      "yep enter\n",
      "[1. 1.] >= 1.0\n",
      "label =>  0 , penalty is 150.0\n",
      "fx >=1 condition\n",
      "input constraint: 0 th constraint: [-1. -1.] <= -1.0 flag is 0\n",
      "input constraint: 0 th constraint: [1. 1.] >= 1.0\n",
      "yep enter\n",
      "[1. 1.] >= 1.0\n",
      "label =>  0 , penalty is 150.0\n",
      "fx >=1 condition\n",
      "input constraint: 0 th constraint: [-1. -1.] <= -1.0 flag is 0\n",
      "input constraint: 0 th constraint: [1. 1.] >= 1.0\n",
      "yep enter\n",
      "[1. 1.] >= 1.0\n",
      "label =>  0 , penalty is 150.0\n",
      "fx >=1 condition\n",
      "Searching the sub-domain partially done, Now do the checking\n",
      "Looks Good, found the peak region going to dig into the sub region now\n",
      "the searching area is < [28. 27. 26.] > , which is the 0 th in the subregion.\n",
      "input constraint: 0 th constraint: [-1. -1.] <= -1.0 flag is 0\n",
      "input constraint: 0 th constraint: [1. 1.] >= 1.0\n",
      "yep enter\n",
      "[1. 1.] >= 1.0\n",
      "label =>  0 , penalty is 150.0\n",
      "fx >=1 condition\n",
      "input constraint: 0 th constraint: [-1. -1.] <= -1.0 flag is 0\n",
      "input constraint: 0 th constraint: [1. 1.] >= 1.0\n",
      "yep enter\n",
      "[1. 1.] >= 1.0\n",
      "label =>  0 , penalty is 150.0\n",
      "fx >=1 condition\n",
      "input constraint: 0 th constraint: [-1. -1.] <= -1.0 flag is 0\n",
      "input constraint: 0 th constraint: [1. 1.] >= 1.0\n",
      "yep enter\n",
      "[1. 1.] >= 1.0\n",
      "label =>  0 , penalty is 150.0\n",
      "fx >=1 condition\n",
      "Searching the sub-domain partially done, Now do the checking\n",
      "the step is 1, returning the peak region now\n",
      "region is: [28. 27. 26.] codomain is: [18 17 16]\n"
     ]
    }
   ],
   "source": [
    "#function set\n",
    "%run Functions_Set.ipynb\n",
    "level = np.log2(step)\n",
    "substep = 2**(level-1)\n",
    "print(\"level\", level,\"substep\",substep)    \n",
    "    \n",
    "sub_region ,value, opt_x_set =  region_check(region, substep, QUBO,contraint_dict)"
   ]
  },
  {
   "cell_type": "code",
   "execution_count": 402,
   "id": "112aa2d9",
   "metadata": {},
   "outputs": [
    {
     "name": "stdout",
     "output_type": "stream",
     "text": [
      "28.0 [0. 1.]\n",
      "obj: [1. 1. 1. 1. 0. 0. 0. 1. 1.]\n"
     ]
    }
   ],
   "source": [
    "t = sub_region[np.argmax(value)]\n",
    "opt_x = opt_x_set[np.argmax(value),:]\n",
    "print(t,opt_x)\n",
    "\n",
    "\n",
    "x = opt_x\n",
    "obj = b-np.dot(A,x)\n",
    "\n",
    "print(\"obj:\",obj)"
   ]
  },
  {
   "cell_type": "code",
   "execution_count": 403,
   "id": "81b05496",
   "metadata": {},
   "outputs": [
    {
     "name": "stdout",
     "output_type": "stream",
     "text": [
      "     con: array([], dtype=float64)\n",
      "     fun: 11.0\n",
      " message: 'Optimization terminated successfully.'\n",
      "     nit: 0\n",
      "   slack: array([0., 0., 0., 0.])\n",
      "  status: 0\n",
      " success: True\n",
      "       x: array([0., 0., 0., 0., 0., 8., 9., 5., 6.])\n"
     ]
    }
   ],
   "source": [
    "opt = linprog(c=obj, A_ub=lhs_ineq, b_ub=rhs_ineq, bounds=bnd,method=\"revised simplex\")\n",
    "print(opt)"
   ]
  },
  {
   "cell_type": "code",
   "execution_count": 404,
   "id": "569412db",
   "metadata": {},
   "outputs": [],
   "source": [
    "x_result = opt['x']\n",
    "ray_flag = 1\n",
    "if np.isinf(x_result).any():\n",
    "    x_result = np.sign(opt['x'])\n",
    "    ray_flag = 0"
   ]
  },
  {
   "cell_type": "code",
   "execution_count": 405,
   "id": "395ef783",
   "metadata": {},
   "outputs": [
    {
     "name": "stdout",
     "output_type": "stream",
     "text": [
      "[-17. -11.] <= 0.0\n"
     ]
    }
   ],
   "source": [
    "cons_add_lhs = dot(x_result,A)\n",
    "cons_add_rhs = dot(b,x_result)\n",
    "print(cons_add_lhs,\"<=\",cons_add_rhs)"
   ]
  },
  {
   "cell_type": "code",
   "execution_count": 406,
   "id": "26e57475",
   "metadata": {},
   "outputs": [
    {
     "data": {
      "text/plain": [
       "{0: [array([-1., -1.]), '<=', -1.0, 0], 1: [array([-17., -11.]), '<=', 0.0, 1]}"
      ]
     },
     "execution_count": 406,
     "metadata": {},
     "output_type": "execute_result"
    }
   ],
   "source": [
    "contraint_dict.update({1: [cons_add_lhs, \"<=\", cons_add_rhs, ray_flag]})\n",
    "contraint_dict"
   ]
  },
  {
   "cell_type": "code",
   "execution_count": 407,
   "id": "2216df2a",
   "metadata": {},
   "outputs": [
    {
     "data": {
      "text/html": [
       "<style>.container { width:100% !important; }</style>"
      ],
      "text/plain": [
       "<IPython.core.display.HTML object>"
      ]
     },
     "metadata": {},
     "output_type": "display_data"
    },
    {
     "name": "stdout",
     "output_type": "stream",
     "text": [
      "This is the 0 th region search, The search area is < [28. 20. 12.] >\n",
      "input constraint: 0 th constraint: [-1. -1.] <= -1.0 flag is 0\n",
      "input constraint: 0 th constraint: [1. 1.] >= 1.0\n",
      "yep enter\n",
      "[1. 1.] >= 1.0\n",
      "label =>  0 , penalty is 150.0\n",
      "fx >=1 condition\n",
      "input constraint: 1 th constraint: [-17. -11.] <= -28.0 flag is 1\n",
      "input constraint: 1 th constraint: [17. 11.] >= 28.0\n",
      "yep enter\n",
      "[17. 11.] >= 28.0\n",
      "QUBO_Cons_ineq_normal\n",
      "label >=  0 , penalty is 150.0\n",
      "symbol == >=\n",
      "Slack_Var_Add_num: 0\n",
      "Slack_Var_Add_coeff: []\n",
      "normal else\n",
      "input constraint: 0 th constraint: [-1. -1.] <= -1.0 flag is 0\n",
      "input constraint: 0 th constraint: [1. 1.] >= 1.0\n",
      "yep enter\n",
      "[1. 1.] >= 1.0\n",
      "label =>  0 , penalty is 150.0\n",
      "fx >=1 condition\n",
      "input constraint: 1 th constraint: [-17. -11.] <= -20.0 flag is 1\n",
      "input constraint: 1 th constraint: [17. 11.] >= 20.0\n",
      "yep enter\n",
      "[17. 11.] >= 20.0\n",
      "QUBO_Cons_ineq_normal\n",
      "label >=  0 , penalty is 150.0\n",
      "symbol == >=\n",
      "Slack_Var_Add_num: 4.0\n",
      "Slack_Var_Add_coeff: [1. 2. 4. 8.]\n",
      "var_matched_2: [0. 0. 1. 2. 4. 8.]\n",
      "normal else\n",
      "input constraint: 0 th constraint: [-1. -1.] <= -1.0 flag is 0\n",
      "input constraint: 0 th constraint: [1. 1.] >= 1.0\n",
      "yep enter\n",
      "[1. 1.] >= 1.0\n",
      "label =>  0 , penalty is 150.0\n",
      "fx >=1 condition\n",
      "input constraint: 1 th constraint: [-17. -11.] <= -12.0 flag is 1\n",
      "input constraint: 1 th constraint: [17. 11.] >= 12.0\n",
      "yep enter\n",
      "[17. 11.] >= 12.0\n",
      "QUBO_Cons_ineq_normal\n",
      "label >=  0 , penalty is 150.0\n",
      "symbol == >=\n",
      "Slack_Var_Add_num: 5.0\n",
      "Slack_Var_Add_coeff: [ 1.  2.  4.  8. 16.]\n",
      "var_matched_2: [ 0.  0.  1.  2.  4.  8. 16.]\n",
      "normal else\n",
      "Searching the domain partially done, Now do the checking\n",
      "continue, since [ 3 -5 -3] is not what we need\n",
      "This is the 1 th region search, The search area is < [20. 12.  4.] >\n",
      "input constraint: 0 th constraint: [-1. -1.] <= -1.0 flag is 0\n",
      "input constraint: 0 th constraint: [1. 1.] >= 1.0\n",
      "yep enter\n",
      "[1. 1.] >= 1.0\n",
      "label =>  0 , penalty is 150.0\n",
      "fx >=1 condition\n",
      "input constraint: 1 th constraint: [-17. -11.] <= -20.0 flag is 1\n",
      "input constraint: 1 th constraint: [17. 11.] >= 20.0\n",
      "yep enter\n",
      "[17. 11.] >= 20.0\n",
      "QUBO_Cons_ineq_normal\n",
      "label >=  0 , penalty is 150.0\n",
      "symbol == >=\n",
      "Slack_Var_Add_num: 4.0\n",
      "Slack_Var_Add_coeff: [1. 2. 4. 8.]\n",
      "var_matched_2: [0. 0. 1. 2. 4. 8.]\n",
      "normal else\n",
      "input constraint: 0 th constraint: [-1. -1.] <= -1.0 flag is 0\n",
      "input constraint: 0 th constraint: [1. 1.] >= 1.0\n",
      "yep enter\n",
      "[1. 1.] >= 1.0\n",
      "label =>  0 , penalty is 150.0\n",
      "fx >=1 condition\n",
      "input constraint: 1 th constraint: [-17. -11.] <= -12.0 flag is 1\n",
      "input constraint: 1 th constraint: [17. 11.] >= 12.0\n",
      "yep enter\n",
      "[17. 11.] >= 12.0\n",
      "QUBO_Cons_ineq_normal\n",
      "label >=  0 , penalty is 150.0\n",
      "symbol == >=\n",
      "Slack_Var_Add_num: 5.0\n",
      "Slack_Var_Add_coeff: [ 1.  2.  4.  8. 16.]\n",
      "var_matched_2: [ 0.  0.  1.  2.  4.  8. 16.]\n",
      "normal else\n",
      "input constraint: 0 th constraint: [-1. -1.] <= -1.0 flag is 0\n",
      "input constraint: 0 th constraint: [1. 1.] >= 1.0\n",
      "yep enter\n",
      "[1. 1.] >= 1.0\n",
      "label =>  0 , penalty is 150.0\n",
      "fx >=1 condition\n",
      "input constraint: 1 th constraint: [-17. -11.] <= -4.0 flag is 1\n",
      "input constraint: 1 th constraint: [17. 11.] >= 4.0\n",
      "yep enter\n",
      "[17. 11.] >= 4.0\n",
      "QUBO_Cons_ineq_normal\n",
      "label >=  0 , penalty is 150.0\n",
      "symbol == >=\n",
      "Slack_Var_Add_num: 5.0\n",
      "Slack_Var_Add_coeff: [ 1.  2.  4.  8. 16.]\n",
      "var_matched_2: [ 0.  0.  1.  2.  4.  8. 16.]\n",
      "normal else\n",
      "Searching the domain partially done, Now do the checking\n",
      "Looks Good returning the result now\n",
      "Initial region is,< [20. 12.  4.] >\n"
     ]
    }
   ],
   "source": [
    "%run Functions_Set.ipynb\n",
    "step = 8.0 # => 2^n\n",
    "region, co_domain, opt_x_set = region_search(t, step, QUBO_obj, contraint_dict)\n",
    "print(\"Initial region is,<\",region,\">\")"
   ]
  },
  {
   "cell_type": "code",
   "execution_count": 408,
   "id": "5062138e",
   "metadata": {},
   "outputs": [
    {
     "data": {
      "text/html": [
       "<style>.container { width:100% !important; }</style>"
      ],
      "text/plain": [
       "<IPython.core.display.HTML object>"
      ]
     },
     "metadata": {},
     "output_type": "display_data"
    },
    {
     "name": "stdout",
     "output_type": "stream",
     "text": [
      "level 3.0 substep 4.0\n",
      "the searching area is < [20. 16. 12.] > , which is the 0 th in the subregion.\n",
      "input constraint: 0 th constraint: [-1. -1.] <= -1.0 flag is 0\n",
      "input constraint: 0 th constraint: [1. 1.] >= 1.0\n",
      "yep enter\n",
      "[1. 1.] >= 1.0\n",
      "label =>  0 , penalty is 150.0\n",
      "fx >=1 condition\n",
      "input constraint: 1 th constraint: [-17. -11.] <= -20.0 flag is 1\n",
      "input constraint: 1 th constraint: [17. 11.] >= 20.0\n",
      "yep enter\n",
      "[17. 11.] >= 20.0\n",
      "QUBO_Cons_ineq_normal\n",
      "label >=  0 , penalty is 150.0\n",
      "symbol == >=\n",
      "Slack_Var_Add_num: 4.0\n",
      "Slack_Var_Add_coeff: [1. 2. 4. 8.]\n",
      "var_matched_2: [0. 0. 1. 2. 4. 8.]\n",
      "normal else\n",
      "input constraint: 0 th constraint: [-1. -1.] <= -1.0 flag is 0\n",
      "input constraint: 0 th constraint: [1. 1.] >= 1.0\n",
      "yep enter\n",
      "[1. 1.] >= 1.0\n",
      "label =>  0 , penalty is 150.0\n",
      "fx >=1 condition\n",
      "input constraint: 1 th constraint: [-17. -11.] <= -16.0 flag is 1\n",
      "input constraint: 1 th constraint: [17. 11.] >= 16.0\n",
      "yep enter\n",
      "[17. 11.] >= 16.0\n",
      "QUBO_Cons_ineq_normal\n",
      "label >=  0 , penalty is 150.0\n",
      "symbol == >=\n",
      "Slack_Var_Add_num: 4.0\n",
      "Slack_Var_Add_coeff: [1. 2. 4. 8.]\n",
      "var_matched_2: [0. 0. 1. 2. 4. 8.]\n",
      "normal else\n",
      "input constraint: 0 th constraint: [-1. -1.] <= -1.0 flag is 0\n",
      "input constraint: 0 th constraint: [1. 1.] >= 1.0\n",
      "yep enter\n",
      "[1. 1.] >= 1.0\n",
      "label =>  0 , penalty is 150.0\n",
      "fx >=1 condition\n",
      "input constraint: 1 th constraint: [-17. -11.] <= -12.0 flag is 1\n",
      "input constraint: 1 th constraint: [17. 11.] >= 12.0\n",
      "yep enter\n",
      "[17. 11.] >= 12.0\n",
      "QUBO_Cons_ineq_normal\n",
      "label >=  0 , penalty is 150.0\n",
      "symbol == >=\n",
      "Slack_Var_Add_num: 5.0\n",
      "Slack_Var_Add_coeff: [ 1.  2.  4.  8. 16.]\n",
      "var_matched_2: [ 0.  0.  1.  2.  4.  8. 16.]\n",
      "normal else\n",
      "Searching the sub-domain partially done, Now do the checking\n",
      "Looks Good, found the peak region going to dig into the sub region now\n",
      "the searching area is < [20. 18. 16.] > , which is the 0 th in the subregion.\n",
      "input constraint: 0 th constraint: [-1. -1.] <= -1.0 flag is 0\n",
      "input constraint: 0 th constraint: [1. 1.] >= 1.0\n",
      "yep enter\n",
      "[1. 1.] >= 1.0\n",
      "label =>  0 , penalty is 150.0\n",
      "fx >=1 condition\n",
      "input constraint: 1 th constraint: [-17. -11.] <= -20.0 flag is 1\n",
      "input constraint: 1 th constraint: [17. 11.] >= 20.0\n",
      "yep enter\n",
      "[17. 11.] >= 20.0\n",
      "QUBO_Cons_ineq_normal\n",
      "label >=  0 , penalty is 150.0\n",
      "symbol == >=\n",
      "Slack_Var_Add_num: 4.0\n",
      "Slack_Var_Add_coeff: [1. 2. 4. 8.]\n",
      "var_matched_2: [0. 0. 1. 2. 4. 8.]\n",
      "normal else\n",
      "input constraint: 0 th constraint: [-1. -1.] <= -1.0 flag is 0\n",
      "input constraint: 0 th constraint: [1. 1.] >= 1.0\n",
      "yep enter\n",
      "[1. 1.] >= 1.0\n",
      "label =>  0 , penalty is 150.0\n",
      "fx >=1 condition\n",
      "input constraint: 1 th constraint: [-17. -11.] <= -18.0 flag is 1\n",
      "input constraint: 1 th constraint: [17. 11.] >= 18.0\n",
      "yep enter\n",
      "[17. 11.] >= 18.0\n",
      "QUBO_Cons_ineq_normal\n",
      "label >=  0 , penalty is 150.0\n",
      "symbol == >=\n",
      "Slack_Var_Add_num: 4.0\n",
      "Slack_Var_Add_coeff: [1. 2. 4. 8.]\n",
      "var_matched_2: [0. 0. 1. 2. 4. 8.]\n",
      "normal else\n",
      "input constraint: 0 th constraint: [-1. -1.] <= -1.0 flag is 0\n",
      "input constraint: 0 th constraint: [1. 1.] >= 1.0\n",
      "yep enter\n",
      "[1. 1.] >= 1.0\n",
      "label =>  0 , penalty is 150.0\n",
      "fx >=1 condition\n",
      "input constraint: 1 th constraint: [-17. -11.] <= -16.0 flag is 1\n",
      "input constraint: 1 th constraint: [17. 11.] >= 16.0\n",
      "yep enter\n",
      "[17. 11.] >= 16.0\n",
      "QUBO_Cons_ineq_normal\n",
      "label >=  0 , penalty is 150.0\n",
      "symbol == >=\n",
      "Slack_Var_Add_num: 4.0\n",
      "Slack_Var_Add_coeff: [1. 2. 4. 8.]\n",
      "var_matched_2: [0. 0. 1. 2. 4. 8.]\n",
      "normal else\n",
      "Searching the sub-domain partially done, Now do the checking\n",
      "continue: No peak in this subregion.< [20. 18. 16.] >, The value codomain is< [-5 -7  1] > going to the next region\n",
      "the searching area is < [18. 16. 14.] > , which is the 3 th in the subregion.\n",
      "input constraint: 0 th constraint: [-1. -1.] <= -1.0 flag is 0\n",
      "input constraint: 0 th constraint: [1. 1.] >= 1.0\n",
      "yep enter\n",
      "[1. 1.] >= 1.0\n",
      "label =>  0 , penalty is 150.0\n",
      "fx >=1 condition\n",
      "input constraint: 1 th constraint: [-17. -11.] <= -18.0 flag is 1\n",
      "input constraint: 1 th constraint: [17. 11.] >= 18.0\n",
      "yep enter\n",
      "[17. 11.] >= 18.0\n",
      "QUBO_Cons_ineq_normal\n",
      "label >=  0 , penalty is 150.0\n",
      "symbol == >=\n",
      "Slack_Var_Add_num: 4.0\n",
      "Slack_Var_Add_coeff: [1. 2. 4. 8.]\n",
      "var_matched_2: [0. 0. 1. 2. 4. 8.]\n",
      "normal else\n",
      "input constraint: 0 th constraint: [-1. -1.] <= -1.0 flag is 0\n",
      "input constraint: 0 th constraint: [1. 1.] >= 1.0\n",
      "yep enter\n",
      "[1. 1.] >= 1.0\n",
      "label =>  0 , penalty is 150.0\n",
      "fx >=1 condition\n",
      "input constraint: 1 th constraint: [-17. -11.] <= -16.0 flag is 1\n",
      "input constraint: 1 th constraint: [17. 11.] >= 16.0\n",
      "yep enter\n",
      "[17. 11.] >= 16.0\n",
      "QUBO_Cons_ineq_normal\n",
      "label >=  0 , penalty is 150.0\n",
      "symbol == >=\n",
      "Slack_Var_Add_num: 4.0\n",
      "Slack_Var_Add_coeff: [1. 2. 4. 8.]\n",
      "var_matched_2: [0. 0. 1. 2. 4. 8.]\n",
      "normal else\n",
      "input constraint: 0 th constraint: [-1. -1.] <= -1.0 flag is 0\n",
      "input constraint: 0 th constraint: [1. 1.] >= 1.0\n",
      "yep enter\n",
      "[1. 1.] >= 1.0\n",
      "label =>  0 , penalty is 150.0\n",
      "fx >=1 condition\n",
      "input constraint: 1 th constraint: [-17. -11.] <= -14.0 flag is 1\n",
      "input constraint: 1 th constraint: [17. 11.] >= 14.0\n",
      "yep enter\n",
      "[17. 11.] >= 14.0\n",
      "QUBO_Cons_ineq_normal\n",
      "label >=  0 , penalty is 150.0\n",
      "symbol == >=\n",
      "Slack_Var_Add_num: 4.0\n",
      "Slack_Var_Add_coeff: [1. 2. 4. 8.]\n",
      "var_matched_2: [0. 0. 1. 2. 4. 8.]\n",
      "normal else\n",
      "Searching the sub-domain partially done, Now do the checking\n",
      "Looks Good, found the peak region going to dig into the sub region now\n",
      "the searching area is < [18. 17. 16.] > , which is the 0 th in the subregion.\n",
      "input constraint: 0 th constraint: [-1. -1.] <= -1.0 flag is 0\n",
      "input constraint: 0 th constraint: [1. 1.] >= 1.0\n",
      "yep enter\n",
      "[1. 1.] >= 1.0\n",
      "label =>  0 , penalty is 150.0\n",
      "fx >=1 condition\n",
      "input constraint: 1 th constraint: [-17. -11.] <= -18.0 flag is 1\n",
      "input constraint: 1 th constraint: [17. 11.] >= 18.0\n",
      "yep enter\n",
      "[17. 11.] >= 18.0\n",
      "QUBO_Cons_ineq_normal\n",
      "label >=  0 , penalty is 150.0\n",
      "symbol == >=\n",
      "Slack_Var_Add_num: 4.0\n",
      "Slack_Var_Add_coeff: [1. 2. 4. 8.]\n",
      "var_matched_2: [0. 0. 1. 2. 4. 8.]\n",
      "normal else\n",
      "input constraint: 0 th constraint: [-1. -1.] <= -1.0 flag is 0\n",
      "input constraint: 0 th constraint: [1. 1.] >= 1.0\n",
      "yep enter\n",
      "[1. 1.] >= 1.0\n",
      "label =>  0 , penalty is 150.0\n",
      "fx >=1 condition\n",
      "input constraint: 1 th constraint: [-17. -11.] <= -17.0 flag is 1\n",
      "input constraint: 1 th constraint: [17. 11.] >= 17.0\n",
      "yep enter\n",
      "[17. 11.] >= 17.0\n",
      "QUBO_Cons_ineq_normal\n",
      "label >=  0 , penalty is 150.0\n",
      "symbol == >=\n",
      "Slack_Var_Add_num: 4.0\n",
      "Slack_Var_Add_coeff: [1. 2. 4. 8.]\n",
      "var_matched_2: [0. 0. 1. 2. 4. 8.]\n",
      "normal else\n",
      "input constraint: 0 th constraint: [-1. -1.] <= -1.0 flag is 0\n",
      "input constraint: 0 th constraint: [1. 1.] >= 1.0\n",
      "yep enter\n",
      "[1. 1.] >= 1.0\n",
      "label =>  0 , penalty is 150.0\n",
      "fx >=1 condition\n",
      "input constraint: 1 th constraint: [-17. -11.] <= -16.0 flag is 1\n",
      "input constraint: 1 th constraint: [17. 11.] >= 16.0\n",
      "yep enter\n",
      "[17. 11.] >= 16.0\n",
      "QUBO_Cons_ineq_normal\n",
      "label >=  0 , penalty is 150.0\n",
      "symbol == >=\n",
      "Slack_Var_Add_num: 4.0\n",
      "Slack_Var_Add_coeff: [1. 2. 4. 8.]\n",
      "var_matched_2: [0. 0. 1. 2. 4. 8.]\n",
      "normal else\n",
      "Searching the sub-domain partially done, Now do the checking\n",
      "the step is 1, returning the peak region now\n",
      "region is: [18. 17. 16.] codomain is: [-7  2  1]\n"
     ]
    }
   ],
   "source": [
    "#function set\n",
    "%run Functions_Set.ipynb\n",
    "level = np.log2(step)\n",
    "substep = 2**(level-1)\n",
    "print(\"level\", level,\"substep\",substep)    \n",
    "    \n",
    "sub_region ,value, opt_x_set =  region_check(region, substep, QUBO,contraint_dict)"
   ]
  },
  {
   "cell_type": "code",
   "execution_count": 409,
   "id": "b5f44faf",
   "metadata": {},
   "outputs": [
    {
     "name": "stdout",
     "output_type": "stream",
     "text": [
      "17.0 [1. 0.]\n",
      "optimal value: 2\n",
      "obj: [1. 1. 1. 1. 0. 1. 1. 0. 0.]\n"
     ]
    }
   ],
   "source": [
    "t = sub_region[np.argmax(value)]\n",
    "opt_x = opt_x_set[np.argmax(value),:]\n",
    "print(t,opt_x)\n",
    "\n",
    "print(\"optimal value:\", value[np.argmax(value)])\n",
    "\n",
    "x = opt_x\n",
    "obj = b-np.dot(A,x)\n",
    "\n",
    "print(\"obj:\",obj)"
   ]
  },
  {
   "cell_type": "code",
   "execution_count": 410,
   "id": "71a2b44d",
   "metadata": {},
   "outputs": [
    {
     "name": "stdout",
     "output_type": "stream",
     "text": [
      "     con: array([], dtype=float64)\n",
      "     fun: 17.0\n",
      " message: 'Optimization terminated successfully.'\n",
      "     nit: 0\n",
      "   slack: array([0., 0., 0., 0.])\n",
      "  status: 0\n",
      " success: True\n",
      "       x: array([0., 0., 0., 0., 0., 8., 9., 5., 6.])\n"
     ]
    }
   ],
   "source": [
    "opt = linprog(c=obj, A_ub=lhs_ineq, b_ub=rhs_ineq, bounds=bnd,method=\"revised simplex\")\n",
    "print(opt)"
   ]
  },
  {
   "cell_type": "code",
   "execution_count": null,
   "id": "800600f3",
   "metadata": {},
   "outputs": [],
   "source": []
  },
  {
   "cell_type": "code",
   "execution_count": null,
   "id": "d21af4bd",
   "metadata": {},
   "outputs": [],
   "source": []
  },
  {
   "cell_type": "code",
   "execution_count": null,
   "id": "0cb00a9e",
   "metadata": {},
   "outputs": [],
   "source": []
  },
  {
   "cell_type": "code",
   "execution_count": null,
   "id": "8898d550",
   "metadata": {},
   "outputs": [],
   "source": []
  },
  {
   "cell_type": "code",
   "execution_count": null,
   "id": "a928962c",
   "metadata": {},
   "outputs": [],
   "source": []
  },
  {
   "cell_type": "code",
   "execution_count": null,
   "id": "4bdf2b28",
   "metadata": {},
   "outputs": [],
   "source": []
  },
  {
   "cell_type": "code",
   "execution_count": null,
   "id": "59d81afe",
   "metadata": {},
   "outputs": [],
   "source": []
  },
  {
   "cell_type": "code",
   "execution_count": null,
   "id": "343a1146",
   "metadata": {},
   "outputs": [],
   "source": []
  },
  {
   "cell_type": "code",
   "execution_count": null,
   "id": "23991c43",
   "metadata": {},
   "outputs": [],
   "source": []
  },
  {
   "cell_type": "code",
   "execution_count": null,
   "id": "92be7e31",
   "metadata": {},
   "outputs": [],
   "source": []
  },
  {
   "cell_type": "code",
   "execution_count": 329,
   "id": "533b03d9",
   "metadata": {},
   "outputs": [
    {
     "data": {
      "text/html": [
       "<style>.container { width:100% !important; }</style>"
      ],
      "text/plain": [
       "<IPython.core.display.HTML object>"
      ]
     },
     "metadata": {},
     "output_type": "display_data"
    },
    {
     "name": "stdout",
     "output_type": "stream",
     "text": [
      "input constraint: 0 th constraint: [-1. -1.] <= -1.0 flag is 0\n",
      "input constraint: 0 th constraint: [1. 1.] >= 1.0\n",
      "yep enter\n",
      "[1. 1.] >= 1.0\n",
      "label =>  0 , penalty is 150.0\n",
      "fx >=1 condition\n",
      "[[-135.  150.]\n",
      " [   0. -140.]]\n"
     ]
    }
   ],
   "source": [
    "%run Functions_Set.ipynb\n",
    "QUBO_post, _ = solve_master_qubo(C, t, QUBO, contraint_dict, _print = 1)\n",
    "print(QUBO_post)"
   ]
  },
  {
   "cell_type": "code",
   "execution_count": null,
   "id": "9c3602dc",
   "metadata": {},
   "outputs": [],
   "source": []
  },
  {
   "cell_type": "code",
   "execution_count": null,
   "id": "8fb5250a",
   "metadata": {},
   "outputs": [],
   "source": []
  },
  {
   "cell_type": "code",
   "execution_count": null,
   "id": "7362a199",
   "metadata": {},
   "outputs": [],
   "source": []
  },
  {
   "cell_type": "code",
   "execution_count": null,
   "id": "3d3f57f3",
   "metadata": {},
   "outputs": [],
   "source": []
  },
  {
   "cell_type": "code",
   "execution_count": null,
   "id": "05bd61e0",
   "metadata": {},
   "outputs": [],
   "source": []
  },
  {
   "cell_type": "code",
   "execution_count": null,
   "id": "dd268c41",
   "metadata": {},
   "outputs": [],
   "source": []
  },
  {
   "cell_type": "code",
   "execution_count": null,
   "id": "8a35d3ca",
   "metadata": {},
   "outputs": [],
   "source": []
  },
  {
   "cell_type": "code",
   "execution_count": null,
   "id": "b04ca344",
   "metadata": {},
   "outputs": [],
   "source": []
  },
  {
   "cell_type": "code",
   "execution_count": 166,
   "id": "c3328020",
   "metadata": {},
   "outputs": [
    {
     "name": "stdout",
     "output_type": "stream",
     "text": [
      "[[-135.  150.]\n",
      " [   0. -140.]]\n"
     ]
    }
   ],
   "source": [
    "# Obj\n",
    "QUBO_obj = QUBO.obj() \n",
    "\n",
    "# add constraint (r1)^{T} Ax ≤ b^{T} r1 to (RMP):\n",
    "\n",
    "Penalty = np.max(np.abs(c))*10\n",
    "\n",
    "#QUBO += Penalty * np.asarray(0.5 * (np.outer(cons_add_lhs_final,cons_add_lhs_final) - 3.0 * np.diag(cons_add_lhs_final)))\n",
    "\n",
    "\n",
    "\n",
    "new_Constraint = cons_add_lhs_final\n",
    "new_Symbol = symbol\n",
    "New_rhs = cons_add_rhs_final\n",
    "round_num = 2 \n",
    "\n",
    "\n",
    "\n",
    "\n",
    "\n",
    "\n"
   ]
  },
  {
   "cell_type": "code",
   "execution_count": null,
   "id": "0ebc7cb8",
   "metadata": {},
   "outputs": [],
   "source": [
    "\n",
    "print(QUBO)\n",
    "t = 0\n",
    "C = c\n",
    "print(C, t, new_Constraint, new_Symbol, New_rhs, round_num)\n",
    "\n",
    "QUBO, _ = solve_master_old(C, t, QUBO_pre, new_Constraint, new_Symbol, New_rhs, round_num, Penalty, _print = 1)"
   ]
  },
  {
   "cell_type": "code",
   "execution_count": null,
   "id": "264832ef",
   "metadata": {},
   "outputs": [],
   "source": []
  },
  {
   "cell_type": "code",
   "execution_count": null,
   "id": "799238ab",
   "metadata": {},
   "outputs": [],
   "source": []
  },
  {
   "cell_type": "code",
   "execution_count": null,
   "id": "6357fe6a",
   "metadata": {},
   "outputs": [],
   "source": []
  },
  {
   "cell_type": "code",
   "execution_count": null,
   "id": "d4c4fed3",
   "metadata": {},
   "outputs": [],
   "source": []
  },
  {
   "cell_type": "code",
   "execution_count": null,
   "id": "db6999b2",
   "metadata": {},
   "outputs": [],
   "source": []
  },
  {
   "cell_type": "code",
   "execution_count": null,
   "id": "52f2ae60",
   "metadata": {},
   "outputs": [],
   "source": []
  },
  {
   "cell_type": "code",
   "execution_count": null,
   "id": "47dafbbc",
   "metadata": {},
   "outputs": [],
   "source": []
  },
  {
   "cell_type": "code",
   "execution_count": null,
   "id": "73169e92",
   "metadata": {},
   "outputs": [],
   "source": []
  },
  {
   "cell_type": "code",
   "execution_count": null,
   "id": "9b9fa4e0",
   "metadata": {},
   "outputs": [],
   "source": []
  },
  {
   "cell_type": "code",
   "execution_count": null,
   "id": "81d75d9b",
   "metadata": {},
   "outputs": [],
   "source": []
  },
  {
   "cell_type": "code",
   "execution_count": null,
   "id": "4667de3e",
   "metadata": {},
   "outputs": [],
   "source": []
  },
  {
   "cell_type": "code",
   "execution_count": null,
   "id": "cf6fb44a",
   "metadata": {},
   "outputs": [],
   "source": []
  },
  {
   "cell_type": "code",
   "execution_count": null,
   "id": "dae2be30",
   "metadata": {},
   "outputs": [],
   "source": []
  },
  {
   "cell_type": "code",
   "execution_count": null,
   "id": "909e3f7f",
   "metadata": {},
   "outputs": [],
   "source": []
  },
  {
   "cell_type": "code",
   "execution_count": null,
   "id": "3db56dd6",
   "metadata": {},
   "outputs": [],
   "source": []
  },
  {
   "cell_type": "code",
   "execution_count": null,
   "id": "997d499d",
   "metadata": {},
   "outputs": [],
   "source": [
    "\n",
    "initial_spot = np.array([t, t - step, t - 2 * step])\n",
    "value = np.arange(len(initial_spot))\n",
    "\n",
    "for index, t_assume in enumerate(initial_spot):\n",
    "    \n",
    "    # OBJ\n",
    "      \n",
    "    x = solve_for_value(QUBO)\n",
    "    \n",
    "    #final result\n",
    "    value[index] = dot(c,x) + t_assume\n",
    "\n",
    "if value[2] < value[1]:\n",
    "    \n",
    "    #下一步\n",
    "    \n",
    "    #return initial_spots , value\n",
    "    print(\"next\")\n",
    "    \n",
    "else:\n",
    "    \n",
    "    print(\"continue\")"
   ]
  }
 ],
 "metadata": {
  "kernelspec": {
   "display_name": "Python 3",
   "language": "python",
   "name": "python3"
  },
  "language_info": {
   "codemirror_mode": {
    "name": "ipython",
    "version": 3
   },
   "file_extension": ".py",
   "mimetype": "text/x-python",
   "name": "python",
   "nbconvert_exporter": "python",
   "pygments_lexer": "ipython3",
   "version": "3.8.6"
  }
 },
 "nbformat": 4,
 "nbformat_minor": 5
}
