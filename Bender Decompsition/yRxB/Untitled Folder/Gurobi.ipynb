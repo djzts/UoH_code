{
 "cells": [
  {
   "cell_type": "code",
   "execution_count": 1,
   "id": "d94ac16f",
   "metadata": {},
   "outputs": [],
   "source": [
    "import networkx as nx\n",
    "import numpy as np\n",
    "from collections import defaultdict\n",
    "import random\n",
    "from numpy import random\n",
    "import matplotlib.pyplot as plt\n",
    "\n",
    "import gurobipy as gp\n",
    "from gurobipy import GRB\n",
    "from gurobipy import*\n",
    "from gurobipy import quicksum"
   ]
  },
  {
   "cell_type": "code",
   "execution_count": 37,
   "id": "c9dd4f9d",
   "metadata": {},
   "outputs": [],
   "source": [
    " ### 类缺省属性 class default setup\n",
    "class Benders_decomposition(object):   \n",
    "    A = np.array([[0, 0],\n",
    "                  [0, 0],\n",
    "                  [0, 0],\n",
    "                  [0, 0],\n",
    "                  [-1, -1],\n",
    "                  [-1, 0],\n",
    "                  [-1, 0],\n",
    "                  [0, -1],\n",
    "                  [0, -1],])\n",
    "\n",
    "    G = np.array([[1,0,1,0], \n",
    "                  [1,0,0,1],\n",
    "                  [0,1,1,0],\n",
    "                  [0,1,0,1],\n",
    "                  [0,0,0,0],\n",
    "                  [1,0,0,0],\n",
    "                  [0,1,0,0],\n",
    "                  [0,0,1,0],\n",
    "                  [0,0,0,1],])\n",
    "    \n",
    "    b = np.array([1,1,1,1,-1,0,0,0,0])\n",
    "\n",
    "    c = np.array([-15.0,-10.0])\n",
    "\n",
    "    h = np.array([8,9,5,6])\n",
    "    \n",
    "    def __init__(self, data):\n",
    "        self.data = data"
   ]
  },
  {
   "cell_type": "code",
   "execution_count": 67,
   "id": "f3d27796",
   "metadata": {},
   "outputs": [],
   "source": [
    " ### 类缺省属性 class default setup\n",
    "class random_Benders_decomposition(object):   \n",
    "    size_x = 50\n",
    "    size_y = 20\n",
    "    size_constraint  = 10\n",
    "    A = np.random.randint(-5,5,size=(size_constraint,size_x))\n",
    "\n",
    "    G = np.random.randint(-20,20,size=(size_constraint,size_y))\n",
    "    \n",
    "    b = np.random.randint(-10,10, size=size_constraint)\n",
    "\n",
    "    c = np.random.randint(-10.0,10.0,size=size_x)\n",
    "\n",
    "    h = np.random.randint(0.0,10.0,size=size_y)\n",
    "    \n",
    "    def __init__(self, data):\n",
    "        self.data = data"
   ]
  },
  {
   "cell_type": "code",
   "execution_count": null,
   "id": "93a63550",
   "metadata": {},
   "outputs": [],
   "source": []
  },
  {
   "cell_type": "code",
   "execution_count": 68,
   "id": "4c5cd874",
   "metadata": {},
   "outputs": [
    {
     "name": "stdout",
     "output_type": "stream",
     "text": [
      "[[-1 -4 -1 -5  4 -3  0  1 -4  4 -1  4  1 -2 -2  1 -1 -5 -5  3 -5 -1  0  3\n",
      "   0  4 -1 -1 -1 -4  1  0  3 -2 -2 -4 -2  4  2 -1  3 -4 -5 -5 -3 -5  2  0\n",
      "  -1 -2]\n",
      " [-3 -1  3 -2 -5  3  4 -4  0  3  4  3  3 -5  0  0 -2 -5 -5  3  1 -2  1 -5\n",
      "   3  0 -2  0  1 -4  4  4  3  3  3 -5  1  0  1  1  4 -4  0 -2  4  1  4  2\n",
      "   2  0]\n",
      " [ 1 -2  0 -2  0 -5 -1  4  4 -2 -2 -3  3 -1  0 -1  4  4  2  2  1  2 -4 -1\n",
      "  -5 -3 -2  4  4  4  4  0 -4  0 -2  2  2 -3  4  2  2  2 -5 -1 -3  2 -4  2\n",
      "   3  2]\n",
      " [ 4  2 -3  0  0  4  3  2 -3 -2 -5  1 -2 -1 -3  3  2 -4 -4  1  2 -2  4 -2\n",
      "   1 -2 -1 -5  1  2 -5  4  2  2 -3 -1  2  3 -4 -5 -1  2 -2  3 -1 -3 -3  3\n",
      "  -1  1]\n",
      " [-2  4 -1  2 -5  0 -3 -1 -4  4  1  3  3  1 -5 -2 -2  0 -4  0  0 -4  4 -5\n",
      "  -2 -4 -3 -5  3  2  4 -5  3 -4 -3  3 -1 -3 -1  3  1 -1 -3  4 -3 -3  1 -3\n",
      "   1  3]\n",
      " [-4  2  0  0  4 -3  2  2  0  3 -3  0 -5 -5  1  0  1  2  1  1  3  1 -3  2\n",
      "  -2 -5  0  0  4  2  0 -3 -2 -1  3 -1  1 -5  0  3  4 -1  2 -1  2 -3  3 -1\n",
      "   2 -2]\n",
      " [ 1 -4  0  1 -1  2 -5  3  1  3 -5 -3 -4 -3  1  4  4 -1 -1 -2 -4  4 -5  1\n",
      "   4  1  2 -3  1  2  4  1  0  3  0  2 -5  1  2  3  1  3 -2 -5 -2  0 -1  1\n",
      "   1  2]\n",
      " [ 4 -3 -4  1 -4  3  1 -1 -1  0 -1 -5 -1  3 -1  1 -3  3  2 -3 -3 -1 -4  2\n",
      "   4 -2  1  3 -2  1  1 -3 -4  3 -4 -1  0 -1  4 -1 -1  3  3  1  1  3  1  2\n",
      "   3  2]\n",
      " [ 1 -4 -5 -1 -5 -1  4 -3  4 -2 -1  4  3 -2  2  2 -1 -3  4  3 -3  4  1  2\n",
      "   0 -4  2 -5  1 -2  0 -1  3 -3 -3 -4  3 -3  0  1 -3  4 -1  1 -2  3 -3 -2\n",
      "  -4  2]\n",
      " [-2 -3  2 -5  2 -3 -1 -2 -2 -2  4 -4  4  0 -3 -1 -2 -3  4  1  1 -3  0  4\n",
      "  -4 -5  2  0 -5 -3 -5  4  0 -4 -5  4 -2 -4  2  3 -3  3  1  4  1  2  2 -5\n",
      "  -3  3]]\n",
      "50 20\n"
     ]
    }
   ],
   "source": [
    "Example = random_Benders_decomposition(0)\n",
    "size_of_constraints,size_of_x = np.shape(Example.A)\n",
    "_,size_of_y = np.shape(Example.G)\n",
    "h = Example.h\n",
    "c = Example.c\n",
    "A = Example.A\n",
    "G = Example.G\n",
    "b = Example.b\n",
    "print(A)\n",
    "print(size_of_x, size_of_y)"
   ]
  },
  {
   "cell_type": "code",
   "execution_count": 69,
   "id": "c5ed047c",
   "metadata": {},
   "outputs": [],
   "source": [
    "m = gp.Model(\"Benders Decomp Gurobi\")\n",
    "x = m.addVars(size_of_x, vtype=GRB.BINARY, name=\"x\")\n",
    "y = m.addVars(size_of_y, vtype=GRB.CONTINUOUS, lb = 0, ub = 5, name=\"y\")"
   ]
  },
  {
   "cell_type": "code",
   "execution_count": 70,
   "id": "a2f68be7",
   "metadata": {},
   "outputs": [],
   "source": [
    "# Set objective\n",
    "m.setObjective(quicksum(h[i] * y[i] for i in range(size_of_y)) + \n",
    "              quicksum(c[i] * x[i] for i in range(size_of_x)), GRB.MAXIMIZE)"
   ]
  },
  {
   "cell_type": "code",
   "execution_count": 71,
   "id": "3277f445",
   "metadata": {},
   "outputs": [],
   "source": [
    "# Add constraints:\n",
    "for item in range(size_of_constraints):\n",
    "        \n",
    "    m.addConstr(quicksum(A[item, i] * x[i]  for i in range(size_of_x)) + \n",
    "                quicksum(G[item, j] * y[j]  for j in range(size_of_y)) <= b[item], name=f'constraint_{item}')"
   ]
  },
  {
   "cell_type": "code",
   "execution_count": 72,
   "id": "007775b9",
   "metadata": {},
   "outputs": [
    {
     "name": "stdout",
     "output_type": "stream",
     "text": [
      "Gurobi Optimizer version 9.5.0 build v9.5.0rc5 (win64)\n",
      "Thread count: 12 physical cores, 24 logical processors, using up to 24 threads\n",
      "Optimize a model with 10 rows, 70 columns and 649 nonzeros\n",
      "Model fingerprint: 0x25853d6a\n",
      "Variable types: 20 continuous, 50 integer (50 binary)\n",
      "Coefficient statistics:\n",
      "  Matrix range     [1e+00, 2e+01]\n",
      "  Objective range  [1e+00, 1e+01]\n",
      "  Bounds range     [1e+00, 5e+00]\n",
      "  RHS range        [2e+00, 9e+00]\n",
      "Found heuristic solution: objective 40.5748168\n",
      "Presolve time: 0.00s\n",
      "Presolved: 10 rows, 70 columns, 649 nonzeros\n",
      "Variable types: 20 continuous, 50 integer (50 binary)\n",
      "Found heuristic solution: objective 127.3023543\n",
      "\n",
      "Root relaxation: objective 3.360877e+02, 10 iterations, 0.00 seconds (0.00 work units)\n",
      "\n",
      "    Nodes    |    Current Node    |     Objective Bounds      |     Work\n",
      " Expl Unexpl |  Obj  Depth IntInf | Incumbent    BestBd   Gap | It/Node Time\n",
      "\n",
      "*    0     0               0     336.0877309  336.08773  0.00%     -    0s\n",
      "\n",
      "Explored 1 nodes (10 simplex iterations) in 0.01 seconds (0.00 work units)\n",
      "Thread count was 24 (of 24 available processors)\n",
      "\n",
      "Solution count 3: 336.088 127.302 40.5748 \n",
      "\n",
      "Optimal solution found (tolerance 1.00e-04)\n",
      "Best objective 3.360877309000e+02, best bound 3.360877309000e+02, gap 0.0000%\n"
     ]
    }
   ],
   "source": [
    "m.optimize()\n",
    "#print (m.display())"
   ]
  },
  {
   "cell_type": "code",
   "execution_count": 73,
   "id": "19ae1a2c",
   "metadata": {},
   "outputs": [
    {
     "name": "stdout",
     "output_type": "stream",
     "text": [
      "Gurobi runtime is 0.00901031494140625 seconds\n"
     ]
    }
   ],
   "source": [
    "print(\"Gurobi runtime is\", m.Runtime ,\"seconds\")"
   ]
  },
  {
   "cell_type": "code",
   "execution_count": 45,
   "id": "5177f468",
   "metadata": {},
   "outputs": [
    {
     "name": "stdout",
     "output_type": "stream",
     "text": [
      "['9', '11', '15', '19', '20', '21', '22', '24', '29', '32', '33', '35', '37', '39', '40', '44']\n"
     ]
    }
   ],
   "source": [
    "x_list = [str.replace(str.replace(v.varName,\"]\",\"\"),\"x[\",\"\") for v in m.getVars() if v.x == 1 and v.varName[0] =='x']\n",
    "        \n",
    "print(x_list)"
   ]
  },
  {
   "cell_type": "code",
   "execution_count": 46,
   "id": "426a47b2",
   "metadata": {},
   "outputs": [
    {
     "data": {
      "text/plain": [
       "260.8810305909356"
      ]
     },
     "execution_count": 46,
     "metadata": {},
     "output_type": "execute_result"
    }
   ],
   "source": [
    "m.ObjVal"
   ]
  },
  {
   "cell_type": "code",
   "execution_count": null,
   "id": "f08a585c",
   "metadata": {},
   "outputs": [],
   "source": []
  },
  {
   "cell_type": "code",
   "execution_count": null,
   "id": "4ab1aa2b",
   "metadata": {},
   "outputs": [],
   "source": []
  },
  {
   "cell_type": "code",
   "execution_count": null,
   "id": "0b0037fd",
   "metadata": {},
   "outputs": [],
   "source": []
  },
  {
   "cell_type": "code",
   "execution_count": null,
   "id": "e3a7c638",
   "metadata": {},
   "outputs": [],
   "source": []
  },
  {
   "cell_type": "code",
   "execution_count": null,
   "id": "b3bea5ea",
   "metadata": {},
   "outputs": [],
   "source": []
  },
  {
   "cell_type": "code",
   "execution_count": null,
   "id": "766eb076",
   "metadata": {},
   "outputs": [],
   "source": []
  },
  {
   "cell_type": "code",
   "execution_count": null,
   "id": "f6960cf8",
   "metadata": {},
   "outputs": [],
   "source": []
  },
  {
   "cell_type": "code",
   "execution_count": null,
   "id": "c50acb49",
   "metadata": {},
   "outputs": [],
   "source": []
  },
  {
   "cell_type": "code",
   "execution_count": 32,
   "id": "efc6fe2b",
   "metadata": {},
   "outputs": [
    {
     "ename": "SyntaxError",
     "evalue": "invalid syntax (<ipython-input-32-a5bdadecf18b>, line 2)",
     "output_type": "error",
     "traceback": [
      "\u001b[1;36m  File \u001b[1;32m\"<ipython-input-32-a5bdadecf18b>\"\u001b[1;36m, line \u001b[1;32m2\u001b[0m\n\u001b[1;33m    _,size_of_x = np.\u001b[0m\n\u001b[1;37m                     ^\u001b[0m\n\u001b[1;31mSyntaxError\u001b[0m\u001b[1;31m:\u001b[0m invalid syntax\n"
     ]
    }
   ],
   "source": [
    "try:\n",
    "    _,size_of_x = np.\n",
    "    \n",
    "    # Create a new model\n",
    "    m = gp.Model(\"Benders Decomp Gurobi\")\n",
    "\n",
    "    # Create variables\n",
    "    x = m.addVars(edge_number, Q, vtype=GRB.BINARY, name=\"x\")\n",
    "    \n",
    "    print(x[0,1])\n",
    "    # Set objective\n",
    "    m.setObjective(quicksum(quicksum((p*j+1) * c_e[i,j]  * x[i,j] for i in range(edge_number)) \n",
    "                            for j in range(Q)), GRB.MAXIMIZE)\n",
    "\n",
    "    # Add constraint 1:\n",
    "    for vertex in range(1, Q + 1):\n",
    "    \n",
    "        index = constraint_1(network, Q, edge_dictionary, compelete_label, vertex)\n",
    "\n",
    "        # \n",
    "        m.addConstr(quicksum( quicksum(x[i,j] for j in range(Q)) for i in index) == 1, name=f'constraint_1_vertex_{vertex}')\n",
    "\n",
    "    # Add constraint 2:  \n",
    "    for vertex in range(1, Q + 1):\n",
    "    \n",
    "        index_out, index_in = constraint_2(network, Q, edge_dictionary, compelete_label, vertex)\n",
    "    \n",
    "        #print(index_out, index_in, level_coeff[index_in])\n",
    "    \n",
    "        m.addConstr( quicksum(quicksum( (j+1) * x[i,j] for j in range(Q)) for i in index_out) - quicksum( quicksum( (n+1) * x[m,n] for n in range(Q)) for m in index_in)  == 1, name=f'constraint_2_vertex_{vertex}')\n",
    "\n",
    "    # Add constraint 3:\n",
    "    m_t_u,m_t_l = capacity_subtree_limit_generator(Q)\n",
    "    print(m_t_u,m_t_l)\n",
    "    \n",
    "    for level in range(Q):\n",
    "        m.addConstr ( quicksum(x[i,int(level)] for i in range(Q)) >= m_t_l[int(level)], name=f'constraint_3_Buslowerlevel_{level}')\n",
    "        m.addConstr ( quicksum(x[i,int(level)] for i in range(Q)) <= m_t_u[int(level)], name=f'constraint_3_Busupperlevel_{level}')\n",
    "    \n",
    "    \n",
    "    # Optimize model\n",
    "    m.optimize()\n",
    "    print (m.display())\n",
    "\n",
    "    #$for v in m.getVars():\n",
    "        #print('%s %g' % (v.varName, v.x))\n",
    "\n",
    "    x_list = [str.replace(str.replace(v.varName,\"]\",\"\"),\"x[\",\"\") for v in m.getVars() if v.x == 1 and v.varName[0] =='x']\n",
    "        \n",
    "    print(x_list )\n",
    "    \n",
    "    #print('Obj: %g' % m.objVal)\n",
    "\n",
    "except gp.GurobiError as e:\n",
    "    print('Error code ' + str(e.errno) + ': ' + str(e))\n",
    "\n",
    "except AttributeError:\n",
    "    print('Encountered an attribute error')"
   ]
  },
  {
   "cell_type": "code",
   "execution_count": null,
   "id": "5cc50359",
   "metadata": {},
   "outputs": [],
   "source": []
  }
 ],
 "metadata": {
  "kernelspec": {
   "display_name": "Python 3",
   "language": "python",
   "name": "python3"
  },
  "language_info": {
   "codemirror_mode": {
    "name": "ipython",
    "version": 3
   },
   "file_extension": ".py",
   "mimetype": "text/x-python",
   "name": "python",
   "nbconvert_exporter": "python",
   "pygments_lexer": "ipython3",
   "version": "3.8.6"
  }
 },
 "nbformat": 4,
 "nbformat_minor": 5
}
