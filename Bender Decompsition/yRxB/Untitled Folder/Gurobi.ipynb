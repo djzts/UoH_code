{
 "cells": [
  {
   "cell_type": "code",
   "execution_count": 14,
   "id": "d94ac16f",
   "metadata": {},
   "outputs": [],
   "source": [
    "import networkx as nx\n",
    "import numpy as np\n",
    "from collections import defaultdict\n",
    "import random\n",
    "from numpy import random\n",
    "import matplotlib.pyplot as plt\n",
    "\n",
    "import gurobipy as gp\n",
    "from gurobipy import GRB\n",
    "from gurobipy import*\n",
    "from gurobipy import quicksum"
   ]
  },
  {
   "cell_type": "code",
   "execution_count": 15,
   "id": "c9dd4f9d",
   "metadata": {},
   "outputs": [],
   "source": [
    " ### 类缺省属性 class default setup\n",
    "class Benders_decomposition(object):   \n",
    "    A = np.array([[0, 0],\n",
    "                  [0, 0],\n",
    "                  [0, 0],\n",
    "                  [0, 0],\n",
    "                  [-1, -1],\n",
    "                  [-1, 0],\n",
    "                  [-1, 0],\n",
    "                  [0, -1],\n",
    "                  [0, -1],])\n",
    "\n",
    "    G = np.array([[1,0,1,0], \n",
    "                  [1,0,0,1],\n",
    "                  [0,1,1,0],\n",
    "                  [0,1,0,1],\n",
    "                  [0,0,0,0],\n",
    "                  [1,0,0,0],\n",
    "                  [0,1,0,0],\n",
    "                  [0,0,1,0],\n",
    "                  [0,0,0,1],])\n",
    "    \n",
    "    b = np.array([1,1,1,1,-1,0,0,0,0])\n",
    "\n",
    "    c = np.array([-15.0,-10.0])\n",
    "\n",
    "    h = np.array([8,9,5,6])\n",
    "    \n",
    "    def __init__(self, data):\n",
    "        self.data = data"
   ]
  },
  {
   "cell_type": "code",
   "execution_count": 16,
   "id": "f3d27796",
   "metadata": {},
   "outputs": [],
   "source": [
    " ### 类缺省属性 class default setup\n",
    "class random_Benders_decomposition(object):   \n",
    "    size_x = 3\n",
    "    size_y = 6\n",
    "    size_constraint  = 10\n",
    "    A = np.random.randint(-5,5,size=(size_constraint,size_x))\n",
    "\n",
    "    G = np.random.randint(-20,20,size=(size_constraint,size_y))\n",
    "    \n",
    "    b = np.random.randint(-10,10, size=size_constraint)\n",
    "\n",
    "    c = np.random.randint(-10.0,10.0,size=size_x)\n",
    "\n",
    "    h = np.random.randint(0.0,10.0,size=size_y)\n",
    "    \n",
    "    def __init__(self, data):\n",
    "        self.data = data"
   ]
  },
  {
   "cell_type": "code",
   "execution_count": null,
   "id": "93a63550",
   "metadata": {},
   "outputs": [],
   "source": []
  },
  {
   "cell_type": "code",
   "execution_count": 17,
   "id": "4c5cd874",
   "metadata": {},
   "outputs": [
    {
     "name": "stdout",
     "output_type": "stream",
     "text": [
      "[[ 4 -1  4]\n",
      " [ 0  4 -4]\n",
      " [ 1  4 -3]\n",
      " [-2  3 -5]\n",
      " [ 2 -3  3]\n",
      " [ 4 -3  1]\n",
      " [ 1  2 -1]\n",
      " [-1  1  3]\n",
      " [ 3 -5 -2]\n",
      " [-3 -1 -5]]\n",
      "3 6\n"
     ]
    }
   ],
   "source": [
    "Example = random_Benders_decomposition(0)\n",
    "size_of_constraints,size_of_x = np.shape(Example.A)\n",
    "_,size_of_y = np.shape(Example.G)\n",
    "h = Example.h\n",
    "c = Example.c\n",
    "A = Example.A\n",
    "G = Example.G\n",
    "b = Example.b\n",
    "print(A)\n",
    "print(size_of_x, size_of_y)"
   ]
  },
  {
   "cell_type": "code",
   "execution_count": 21,
   "id": "c5ed047c",
   "metadata": {},
   "outputs": [
    {
     "name": "stdout",
     "output_type": "stream",
     "text": [
      "Set parameter Username\n"
     ]
    },
    {
     "ename": "GurobiError",
     "evalue": "License expired 2022-03-06",
     "output_type": "error",
     "traceback": [
      "\u001b[1;31m---------------------------------------------------------------------------\u001b[0m",
      "\u001b[1;31mGurobiError\u001b[0m                               Traceback (most recent call last)",
      "\u001b[1;32m<ipython-input-21-3731e9e498c1>\u001b[0m in \u001b[0;36m<module>\u001b[1;34m\u001b[0m\n\u001b[1;32m----> 1\u001b[1;33m \u001b[0mm\u001b[0m \u001b[1;33m=\u001b[0m \u001b[0mgp\u001b[0m\u001b[1;33m.\u001b[0m\u001b[0mModel\u001b[0m\u001b[1;33m(\u001b[0m\u001b[1;34m\"Benders Decomp Gurobi\"\u001b[0m\u001b[1;33m)\u001b[0m\u001b[1;33m\u001b[0m\u001b[1;33m\u001b[0m\u001b[0m\n\u001b[0m\u001b[0;32m      2\u001b[0m \u001b[0mx\u001b[0m \u001b[1;33m=\u001b[0m \u001b[0mm\u001b[0m\u001b[1;33m.\u001b[0m\u001b[0maddVars\u001b[0m\u001b[1;33m(\u001b[0m\u001b[0msize_of_x\u001b[0m\u001b[1;33m,\u001b[0m \u001b[0mvtype\u001b[0m\u001b[1;33m=\u001b[0m\u001b[0mGRB\u001b[0m\u001b[1;33m.\u001b[0m\u001b[0mBINARY\u001b[0m\u001b[1;33m,\u001b[0m \u001b[0mname\u001b[0m\u001b[1;33m=\u001b[0m\u001b[1;34m\"x\"\u001b[0m\u001b[1;33m)\u001b[0m\u001b[1;33m\u001b[0m\u001b[1;33m\u001b[0m\u001b[0m\n\u001b[0;32m      3\u001b[0m \u001b[0my\u001b[0m \u001b[1;33m=\u001b[0m \u001b[0mm\u001b[0m\u001b[1;33m.\u001b[0m\u001b[0maddVars\u001b[0m\u001b[1;33m(\u001b[0m\u001b[0msize_of_y\u001b[0m\u001b[1;33m,\u001b[0m \u001b[0mvtype\u001b[0m\u001b[1;33m=\u001b[0m\u001b[0mGRB\u001b[0m\u001b[1;33m.\u001b[0m\u001b[0mCONTINUOUS\u001b[0m\u001b[1;33m,\u001b[0m \u001b[0mlb\u001b[0m \u001b[1;33m=\u001b[0m \u001b[1;36m0\u001b[0m\u001b[1;33m,\u001b[0m \u001b[0mub\u001b[0m \u001b[1;33m=\u001b[0m \u001b[1;36m5\u001b[0m\u001b[1;33m,\u001b[0m \u001b[0mname\u001b[0m\u001b[1;33m=\u001b[0m\u001b[1;34m\"y\"\u001b[0m\u001b[1;33m)\u001b[0m\u001b[1;33m\u001b[0m\u001b[1;33m\u001b[0m\u001b[0m\n",
      "\u001b[1;32msrc\\gurobipy\\model.pxi\u001b[0m in \u001b[0;36mgurobipy.Model.__init__\u001b[1;34m()\u001b[0m\n",
      "\u001b[1;32msrc\\gurobipy\\gurobi.pxi\u001b[0m in \u001b[0;36mgurobipy.gurobi._getdefaultenv\u001b[1;34m()\u001b[0m\n",
      "\u001b[1;32msrc\\gurobipy\\env.pxi\u001b[0m in \u001b[0;36mgurobipy.Env.__init__\u001b[1;34m()\u001b[0m\n",
      "\u001b[1;31mGurobiError\u001b[0m: License expired 2022-03-06"
     ]
    }
   ],
   "source": [
    "m = gp.Model(\"Benders Decomp Gurobi\")\n",
    "x = m.addVars(size_of_x, vtype=GRB.BINARY, name=\"x\")\n",
    "y = m.addVars(size_of_y, vtype=GRB.CONTINUOUS, lb = 0, ub = 5, name=\"y\")"
   ]
  },
  {
   "cell_type": "code",
   "execution_count": 19,
   "id": "a2f68be7",
   "metadata": {},
   "outputs": [
    {
     "ename": "NameError",
     "evalue": "name 'm' is not defined",
     "output_type": "error",
     "traceback": [
      "\u001b[1;31m---------------------------------------------------------------------------\u001b[0m",
      "\u001b[1;31mNameError\u001b[0m                                 Traceback (most recent call last)",
      "\u001b[1;32m<ipython-input-19-377a119d15f6>\u001b[0m in \u001b[0;36m<module>\u001b[1;34m\u001b[0m\n\u001b[0;32m      1\u001b[0m \u001b[1;31m# Set objective\u001b[0m\u001b[1;33m\u001b[0m\u001b[1;33m\u001b[0m\u001b[1;33m\u001b[0m\u001b[0m\n\u001b[1;32m----> 2\u001b[1;33m m.setObjective(quicksum(h[i] * y[i] for i in range(size_of_y)) + \n\u001b[0m\u001b[0;32m      3\u001b[0m               quicksum(c[i] * x[i] for i in range(size_of_x)), GRB.MAXIMIZE)\n",
      "\u001b[1;31mNameError\u001b[0m: name 'm' is not defined"
     ]
    }
   ],
   "source": [
    "# Set objective\n",
    "m.setObjective(quicksum(h[i] * y[i] for i in range(size_of_y)) + \n",
    "              quicksum(c[i] * x[i] for i in range(size_of_x)), GRB.MAXIMIZE)"
   ]
  },
  {
   "cell_type": "code",
   "execution_count": 20,
   "id": "3277f445",
   "metadata": {},
   "outputs": [
    {
     "ename": "NameError",
     "evalue": "name 'm' is not defined",
     "output_type": "error",
     "traceback": [
      "\u001b[1;31m---------------------------------------------------------------------------\u001b[0m",
      "\u001b[1;31mNameError\u001b[0m                                 Traceback (most recent call last)",
      "\u001b[1;32m<ipython-input-20-739b44e4df9c>\u001b[0m in \u001b[0;36m<module>\u001b[1;34m\u001b[0m\n\u001b[0;32m      2\u001b[0m \u001b[1;32mfor\u001b[0m \u001b[0mitem\u001b[0m \u001b[1;32min\u001b[0m \u001b[0mrange\u001b[0m\u001b[1;33m(\u001b[0m\u001b[0msize_of_constraints\u001b[0m\u001b[1;33m)\u001b[0m\u001b[1;33m:\u001b[0m\u001b[1;33m\u001b[0m\u001b[1;33m\u001b[0m\u001b[0m\n\u001b[0;32m      3\u001b[0m \u001b[1;33m\u001b[0m\u001b[0m\n\u001b[1;32m----> 4\u001b[1;33m     m.addConstr(quicksum(A[item, i] * x[i]  for i in range(size_of_x)) + \n\u001b[0m\u001b[0;32m      5\u001b[0m                 quicksum(G[item, j] * y[j]  for j in range(size_of_y)) <= b[item], name=f'constraint_{item}')\n",
      "\u001b[1;31mNameError\u001b[0m: name 'm' is not defined"
     ]
    }
   ],
   "source": [
    "# Add constraints:\n",
    "for item in range(size_of_constraints):\n",
    "        \n",
    "    m.addConstr(quicksum(A[item, i] * x[i]  for i in range(size_of_x)) + \n",
    "                quicksum(G[item, j] * y[j]  for j in range(size_of_y)) <= b[item], name=f'constraint_{item}')"
   ]
  },
  {
   "cell_type": "code",
   "execution_count": 8,
   "id": "007775b9",
   "metadata": {},
   "outputs": [
    {
     "name": "stdout",
     "output_type": "stream",
     "text": [
      "Gurobi Optimizer version 9.5.0 build v9.5.0rc5 (win64)\n",
      "Thread count: 12 physical cores, 24 logical processors, using up to 24 threads\n",
      "Optimize a model with 10 rows, 70 columns and 647 nonzeros\n",
      "Model fingerprint: 0xbd172681\n",
      "Variable types: 20 continuous, 50 integer (50 binary)\n",
      "Coefficient statistics:\n",
      "  Matrix range     [1e+00, 2e+01]\n",
      "  Objective range  [1e+00, 1e+01]\n",
      "  Bounds range     [1e+00, 5e+00]\n",
      "  RHS range        [1e+00, 9e+00]\n",
      "Found heuristic solution: objective 50.2505435\n",
      "Presolve time: 0.01s\n",
      "Presolved: 10 rows, 70 columns, 647 nonzeros\n",
      "Variable types: 20 continuous, 50 integer (50 binary)\n",
      "Found heuristic solution: objective 121.5177559\n",
      "\n",
      "Root relaxation: objective 2.707893e+02, 16 iterations, 0.00 seconds (0.00 work units)\n",
      "\n",
      "    Nodes    |    Current Node    |     Objective Bounds      |     Work\n",
      " Expl Unexpl |  Obj  Depth IntInf | Incumbent    BestBd   Gap | It/Node Time\n",
      "\n",
      "     0     0  270.78933    0    1  121.51776  270.78933   123%     -    0s\n",
      "H    0     0                     251.3086392  270.78933  7.75%     -    0s\n",
      "H    0     0                     270.7719964  270.78933  0.01%     -    0s\n",
      "\n",
      "Explored 1 nodes (16 simplex iterations) in 0.04 seconds (0.00 work units)\n",
      "Thread count was 24 (of 24 available processors)\n",
      "\n",
      "Solution count 4: 270.772 251.309 121.518 50.2505 \n",
      "\n",
      "Optimal solution found (tolerance 1.00e-04)\n",
      "Best objective 2.707719964082e+02, best bound 2.707893269802e+02, gap 0.0064%\n",
      "Maximize\n",
      "<gurobi.LinExpr: 6.0 x[0] + -7.0 x[1] + -9.0 x[2] + 5.0 x[3] + 7.0 x[4] + -3.0 x[5] +\n",
      "-6.0 x[6] + -6.0 x[7] + -6.0 x[8] + 9.0 x[9] + 3.0 x[10] + -1.0 x[11] + -2.0 x[12]\n",
      "+ 9.0 x[13] + 6.0 x[14] + -1.0 x[15] + x[16] + -1.0 x[17] + -8.0 x[18] + 2.0 x[19]\n",
      "+ 2.0 x[20] + -10.0 x[21] + 3.0 x[22] + -7.0 x[23] + 2.0 x[24] + 2.0 x[25] + -4.0 x[26]\n",
      "+ -10.0 x[27] + 9.0 x[28] + -1.0 x[29] + -10.0 x[30] + 6.0 x[31] + -4.0 x[32]\n",
      "+ 9.0 x[33] + 4.0 x[34] + -2.0 x[35] + -6.0 x[36] + 9.0 x[37] + -2.0 x[38] + -9.0 x[39]\n",
      "+ -5.0 x[40] + 5.0 x[41] + 2.0 x[42] + 3.0 x[43] + -4.0 x[44] + x[46] + -9.0 x[47]\n",
      "+ 6.0 x[48] + -1.0 x[49] + 4.0 y[0] + y[1] + y[2] + 2.0 y[4] + 3.0 y[5] + y[6]\n",
      "+ 3.0 y[7] + y[8] + 5.0 y[9] + 6.0 y[10] + 4.0 y[11] + 8.0 y[12] + 9.0 y[13] + 8.0 y[14]\n",
      "+ 7.0 y[15] + 6.0 y[16] + 8.0 y[19]>\n",
      "Subject To\n",
      "constraint_0: <gurobi.LinExpr: x[0] + 2.0 x[1] + -5.0 x[2] + -3.0 x[3] + -5.0 x[4] +\n",
      "3.0 x[5] + -5.0 x[6] + -3.0 x[7] + -2.0 x[8] + -2.0 x[10] + -4.0 x[11] + 3.0 x[12] +\n",
      "-5.0 x[13] + -1.0 x[14] + -2.0 x[15] + -1.0 x[16] + -3.0 x[17] + 2.0 x[18] + 2.0 x[19] +\n",
      "3.0 x[20] + -1.0 x[21] + -2.0 x[22] + 3.0 x[23] + x[24] + x[25] + -2.0 x[26] + 4.0 x[27]\n",
      "+ x[28] + 2.0 x[29] + -2.0 x[33] + 4.0 x[34] + -2.0 x[35] + -4.0 x[36] + -5.0 x[37] +\n",
      "-2.0 x[39] + 4.0 x[40] + 2.0 x[41] + 4.0 x[42] + 2.0 x[43] + 3.0 x[44] + -3.0 x[45] +\n",
      "x[46] + 4.0 x[48] + 2.0 x[49] + -12.0 y[0] + -17.0 y[1] + -17.0 y[2] + 17.0 y[3] + 18.0\n",
      "y[4] + -7.0 y[5] + -4.0 y[6] + -18.0 y[8] + 2.0 y[9] + -3.0 y[10] + 11.0 y[11] + 8.0\n",
      "y[13] + -4.0 y[14] + 2.0 y[15] + -18.0 y[16] + -13.0 y[17] + -19.0 y[18] + -14.0 y[19]>\n",
      " <= 2\n",
      "constraint_1: <gurobi.LinExpr: -4.0 x[1] + -2.0 x[2] + 2.0 x[3] + -2.0 x[4] + -2.0 x[5]\n",
      "+ -5.0 x[6] + 2.0 x[7] + -2.0 x[8] + x[9] + 4.0 x[10] + 2.0 x[11] + 2.0 x[12] + 3.0\n",
      "x[13] + -5.0 x[14] + -5.0 x[15] + -4.0 x[16] + -3.0 x[17] + 2.0 x[18] + x[19] + 3.0\n",
      "x[21] + -3.0 x[22] + -3.0 x[23] + 2.0 x[24] + -3.0 x[25] + -4.0 x[26] + 3.0 x[27] + -1.0\n",
      "x[28] + -1.0 x[29] + -4.0 x[30] + 4.0 x[31] + -2.0 x[32] + -3.0 x[33] + -4.0 x[34] +\n",
      "-2.0 x[35] + 3.0 x[38] + x[39] + -2.0 x[40] + 4.0 x[41] + -4.0 x[42] + -5.0 x[43] + -3.0\n",
      "x[44] + -3.0 x[45] + -4.0 x[46] + 3.0 x[47] + -5.0 x[48] + -2.0 x[49] + 17.0 y[0] + 3.0\n",
      "y[1] + -20.0 y[2] + 8.0 y[3] + 4.0 y[4] + -6.0 y[5] + 3.0 y[6] + -14.0 y[7] + 17.0 y[8]\n",
      "+ 11.0 y[9] + -6.0 y[10] + 12.0 y[11] + 5.0 y[12] + -8.0 y[13] + 4.0 y[14] + 4.0 y[15] +\n",
      " -6.0 y[16] + 16.0 y[17] + -7.0 y[18] + 9.0 y[19]> <= 0\n",
      "constraint_2: <gurobi.LinExpr: -1.0 x[0] + 4.0 x[1] + 2.0 x[2] + 2.0 x[3] + x[5] + x[6]\n",
      "+ -3.0 x[7] + 4.0 x[8] + 4.0 x[9] + -3.0 x[10] + -4.0 x[11] + -2.0 x[12] + -2.0 x[13] +\n",
      "-4.0 x[14] + 4.0 x[15] + -1.0 x[16] + -1.0 x[17] + x[18] + -2.0 x[19] + 3.0 x[20] + -2.0\n",
      "x[21] + 2.0 x[22] + -5.0 x[23] + -3.0 x[24] + 4.0 x[25] + x[26] + 3.0 x[27] + 2.0 x[28]\n",
      "+ 4.0 x[29] + 2.0 x[30] + -1.0 x[31] + 3.0 x[32] + 3.0 x[33] + 3.0 x[34] + -5.0 x[35] +\n",
      "-5.0 x[37] + x[38] + -1.0 x[39] + 4.0 x[40] + 4.0 x[41] + x[42] + 3.0 x[43] + x[44] +\n",
      "-3.0 x[45] + 3.0 x[46] + x[47] + 4.0 x[48] + -3.0 x[49] + -8.0 y[0] + -5.0 y[1] + 5.0\n",
      "y[2] + -19.0 y[3] + 14.0 y[4] + 14.0 y[5] + 17.0 y[6] + -7.0 y[7] + -14.0 y[8] + 7.0\n",
      "y[9] + -14.0 y[10] + 9.0 y[11] + 7.0 y[12] + -1.0 y[13] + -12.0 y[14] + 3.0 y[15] + 12.0\n",
      " y[16] + 3.0 y[17] + -12.0 y[18] + 3.0 y[19]> <= -9\n",
      "constraint_3: <gurobi.LinExpr: 3.0 x[0] + -4.0 x[1] + -5.0 x[2] + 4.0 x[3] + -5.0 x[4]\n",
      "+ x[5] + 4.0 x[6] + 4.0 x[9] + -1.0 x[10] + 2.0 x[11] + -1.0 x[12] + 4.0 x[13] + -2.0\n",
      "x[15] + -2.0 x[16] + 4.0 x[17] + 2.0 x[18] + 4.0 x[19] + 3.0 x[20] + x[21] + -5.0 x[22]\n",
      "+ x[23] + -3.0 x[24] + -5.0 x[26] + -4.0 x[27] + -5.0 x[28] + -4.0 x[29] + x[30] + -2.0\n",
      "x[31] + -5.0 x[32] + -4.0 x[33] + x[34] + -3.0 x[35] + x[36] + 3.0 x[37] + -3.0 x[39] +\n",
      "-4.0 x[40] + -1.0 x[41] + -4.0 x[42] + 2.0 x[43] + 4.0 x[44] + -1.0 x[45] + -2.0 x[46] +\n",
      "2.0 x[47] + -5.0 x[49] + -3.0 y[0] + 6.0 y[1] + -2.0 y[2] + -10.0 y[3] + -8.0 y[4] +\n",
      "-13.0 y[5] + 9.0 y[6] + 11.0 y[7] + -15.0 y[8] + 19.0 y[9] + 19.0 y[10] + -20.0 y[11] +\n",
      "17.0 y[12] + 3.0 y[13] + 13.0 y[14] + 13.0 y[15] + -16.0 y[16] + -7.0 y[17] + 10.0 y[18]\n",
      " + 19.0 y[19]> <= 7\n",
      "constraint_4: <gurobi.LinExpr: -1.0 x[0] + 3.0 x[1] + x[2] + 2.0 x[3] + 4.0 x[4] + 2.0\n",
      "x[5] + x[6] + 3.0 x[7] + x[8] + 3.0 x[9] + 4.0 x[10] + -5.0 x[12] + -5.0 x[13] + 3.0\n",
      "x[14] + -2.0 x[15] + 4.0 x[16] + 3.0 x[17] + 2.0 x[18] + -5.0 x[19] + 3.0 x[20] + -2.0\n",
      "x[21] + 2.0 x[22] + x[23] + 3.0 x[24] + -4.0 x[25] + x[26] + -2.0 x[27] + -2.0 x[28] +\n",
      "-3.0 x[29] + 3.0 x[31] + x[32] + -2.0 x[33] + -3.0 x[34] + -2.0 x[35] + -5.0 x[36] +\n",
      "-1.0 x[37] + 2.0 x[38] + -2.0 x[39] + -4.0 x[40] + -5.0 x[41] + -1.0 x[42] + x[45] + 4.0\n",
      "x[46] + 4.0 x[47] + 4.0 x[48] + 4.0 x[49] + 8.0 y[0] + 6.0 y[1] + -6.0 y[2] + -18.0 y[3]\n",
      "+ -14.0 y[4] + 5.0 y[5] + 8.0 y[6] + -6.0 y[7] + 15.0 y[8] + -14.0 y[9] + -5.0 y[10] +\n",
      "-2.0 y[11] + 11.0 y[12] + 6.0 y[13] + -1.0 y[14] + 16.0 y[15] + 7.0 y[16] + y[17] + 2.0\n",
      " y[18] + 9.0 y[19]> <= -5\n",
      "constraint_5: <gurobi.LinExpr: -5.0 x[0] + -2.0 x[1] + 3.0 x[2] + -2.0 x[3] + -3.0 x[4]\n",
      "+ -3.0 x[5] + 3.0 x[6] + 4.0 x[7] + -3.0 x[8] + 2.0 x[9] + -3.0 x[10] + -3.0 x[11] + 4.0\n",
      "x[12] + 4.0 x[14] + -4.0 x[15] + x[16] + 4.0 x[17] + -4.0 x[18] + x[19] + -3.0 x[20] +\n",
      "4.0 x[21] + -1.0 x[22] + -2.0 x[23] + -4.0 x[24] + 3.0 x[25] + 2.0 x[26] + 3.0 x[27] +\n",
      "-3.0 x[29] + -3.0 x[30] + -4.0 x[31] + -3.0 x[32] + -3.0 x[33] + 4.0 x[34] + 3.0 x[35] +\n",
      "3.0 x[36] + 2.0 x[37] + 4.0 x[38] + x[40] + -5.0 x[41] + -5.0 x[42] + -4.0 x[43] + 3.0\n",
      "x[44] + -3.0 x[45] + -2.0 x[46] + 2.0 x[47] + -5.0 x[48] + -3.0 x[49] + -17.0 y[0] +\n",
      "-12.0 y[1] + -4.0 y[2] + 13.0 y[3] + 4.0 y[4] + -4.0 y[5] + 13.0 y[6] + y[7] + 10.0 y[8]\n",
      "+ 18.0 y[9] + 13.0 y[10] + 18.0 y[11] + 8.0 y[12] + 5.0 y[13] + 14.0 y[14] + 8.0 y[15] +\n",
      " 11.0 y[16] + -16.0 y[17] + -6.0 y[18] + -17.0 y[19]> <= 5\n",
      "constraint_6: <gurobi.LinExpr: 4.0 x[0] + -1.0 x[1] + x[2] + -2.0 x[3] + 3.0 x[4] +\n",
      "-1.0 x[5] + 2.0 x[7] + -1.0 x[8] + -1.0 x[9] + -1.0 x[10] + -5.0 x[11] + -1.0 x[12] +\n",
      "4.0 x[13] + -1.0 x[14] + 3.0 x[15] + -2.0 x[16] + -4.0 x[17] + 2.0 x[18] + -3.0 x[19] +\n",
      "3.0 x[20] + x[21] + -2.0 x[23] + -2.0 x[24] + -3.0 x[25] + -2.0 x[26] + -5.0 x[28] + 3.0\n",
      "x[29] + 3.0 x[30] + -3.0 x[32] + -3.0 x[33] + 4.0 x[34] + x[35] + x[36] + -2.0 x[37] +\n",
      "-1.0 x[38] + -5.0 x[39] + -5.0 x[40] + -1.0 x[41] + -2.0 x[42] + 2.0 x[43] + -1.0 x[44]\n",
      "+ 3.0 x[45] + -1.0 x[46] + 3.0 x[47] + -5.0 x[48] + 2.0 x[49] + 2.0 y[0] + 2.0 y[1] +\n",
      "-3.0 y[2] + 15.0 y[3] + 16.0 y[4] + 4.0 y[5] + -5.0 y[6] + -10.0 y[7] + -9.0 y[8] +\n",
      "-16.0 y[9] + -9.0 y[10] + 11.0 y[11] + 8.0 y[12] + 19.0 y[13] + -14.0 y[14] + -12.0\n",
      " y[16] + -6.0 y[17] + -10.0 y[18] + -1.0 y[19]> <= -3\n",
      "constraint_7: <gurobi.LinExpr: 4.0 x[0] + 3.0 x[1] + 4.0 x[2] + -3.0 x[3] + -1.0 x[4] +\n",
      "4.0 x[5] + 4.0 x[6] + -3.0 x[7] + 4.0 x[8] + x[9] + -4.0 x[10] + 3.0 x[11] + x[12] + 3.0\n",
      "x[13] + 4.0 x[15] + -1.0 x[16] + -3.0 x[17] + -4.0 x[18] + 4.0 x[19] + -5.0 x[21] + 4.0\n"
     ]
    },
    {
     "name": "stdout",
     "output_type": "stream",
     "text": [
      "x[22] + 2.0 x[23] + -5.0 x[24] + x[26] + -4.0 x[27] + -4.0 x[28] + 4.0 x[29] + -3.0\n",
      "x[30] + 3.0 x[33] + -1.0 x[34] + 2.0 x[35] + 3.0 x[36] + -1.0 x[37] + 3.0 x[38] + 4.0\n",
      "x[39] + -4.0 x[40] + -5.0 x[41] + 2.0 x[42] + -2.0 x[43] + 2.0 x[44] + -3.0 x[45] +\n",
      "x[46] + 3.0 x[47] + 4.0 x[48] + 3.0 x[49] + 3.0 y[0] + 7.0 y[1] + 13.0 y[2] + -16.0 y[3]\n",
      "+ -14.0 y[4] + -6.0 y[5] + -13.0 y[6] + -16.0 y[7] + -18.0 y[8] + -7.0 y[9] + -8.0 y[10]\n",
      "+ 14.0 y[11] + 16.0 y[12] + -4.0 y[13] + 16.0 y[14] + -10.0 y[15] + -13.0 y[16] + -20.0\n",
      " y[17] + 4.0 y[18] + 5.0 y[19]> <= 1\n",
      "constraint_8: <gurobi.LinExpr: 2.0 x[0] + -5.0 x[2] + 3.0 x[4] + -5.0 x[5] + -5.0 x[6]\n",
      "+ 4.0 x[7] + -2.0 x[8] + x[9] + -4.0 x[10] + -1.0 x[11] + x[12] + -5.0 x[13] + 3.0 x[15]\n",
      "+ x[16] + -4.0 x[17] + 4.0 x[18] + 4.0 x[19] + 2.0 x[20] + -5.0 x[21] + 4.0 x[22] +\n",
      "x[26] + -4.0 x[27] + -1.0 x[28] + -4.0 x[29] + -1.0 x[30] + 2.0 x[31] + x[32] + 2.0\n",
      "x[33] + -3.0 x[34] + -4.0 x[35] + -4.0 x[36] + 2.0 x[38] + 3.0 x[39] + -2.0 x[40] + -5.0\n",
      "x[41] + 3.0 x[42] + 4.0 x[44] + -4.0 x[45] + -4.0 x[46] + x[47] + -5.0 x[49] + -2.0 y[0]\n",
      "+ 3.0 y[1] + -20.0 y[2] + 4.0 y[3] + 10.0 y[4] + 9.0 y[5] + -15.0 y[6] + 11.0 y[7] +\n",
      "16.0 y[8] + 11.0 y[9] + 11.0 y[10] + 19.0 y[11] + -19.0 y[12] + 7.0 y[13] + -4.0 y[14] +\n",
      " 16.0 y[15] + 6.0 y[16] + 17.0 y[17] + -2.0 y[18] + 10.0 y[19]> <= 6\n",
      "constraint_9: <gurobi.LinExpr: -2.0 x[0] + -3.0 x[1] + 3.0 x[2] + -5.0 x[4] + x[5] +\n",
      "-1.0 x[6] + -4.0 x[7] + -2.0 x[8] + -5.0 x[9] + -4.0 x[10] + 2.0 x[12] + 2.0 x[13] + 4.0\n",
      "x[14] + 3.0 x[15] + x[16] + x[17] + -5.0 x[18] + x[19] + 2.0 x[20] + -2.0 x[21] + -1.0\n",
      "x[22] + -4.0 x[23] + 2.0 x[24] + 4.0 x[25] + -2.0 x[26] + -2.0 x[27] + -5.0 x[30] + -3.0\n",
      "x[31] + -5.0 x[32] + -2.0 x[33] + 2.0 x[34] + 3.0 x[35] + -5.0 x[37] + 3.0 x[38] + -3.0\n",
      "x[39] + -3.0 x[40] + -4.0 x[42] + 4.0 x[43] + -5.0 x[44] + 2.0 x[45] + 3.0 x[46] + -3.0\n",
      "x[47] + x[48] + -3.0 x[49] + 3.0 y[0] + -4.0 y[1] + 12.0 y[2] + 3.0 y[3] + -9.0 y[4] +\n",
      "y[5] + 8.0 y[6] + -9.0 y[7] + -14.0 y[8] + -2.0 y[9] + 18.0 y[10] + 18.0 y[12] + 12.0\n",
      "y[13] + -10.0 y[14] + -7.0 y[15] + 18.0 y[16] + -13.0 y[17] + 9.0 y[18] + -4.0 y[19]> <=\n",
      " -8\n",
      "Bounds\n",
      "  0 <= y[0] <= 5\n",
      "  0 <= y[1] <= 5\n",
      "  0 <= y[2] <= 5\n",
      "  0 <= y[3] <= 5\n",
      "  0 <= y[4] <= 5\n",
      "  0 <= y[5] <= 5\n",
      "  0 <= y[6] <= 5\n",
      "  0 <= y[7] <= 5\n",
      "  0 <= y[8] <= 5\n",
      "  0 <= y[9] <= 5\n",
      "  0 <= y[10] <= 5\n",
      "  0 <= y[11] <= 5\n",
      "  0 <= y[12] <= 5\n",
      "  0 <= y[13] <= 5\n",
      "  0 <= y[14] <= 5\n",
      "  0 <= y[15] <= 5\n",
      "  0 <= y[16] <= 5\n",
      "  0 <= y[17] <= 5\n",
      "  0 <= y[18] <= 5\n",
      "  0 <= y[19] <= 5\n",
      "Binaries\n",
      "['x[0]', 'x[1]', 'x[2]', 'x[3]', 'x[4]', 'x[5]', 'x[6]', 'x[7]', 'x[8]', 'x[9]',\n",
      "'x[10]', 'x[11]', 'x[12]', 'x[13]', 'x[14]', 'x[15]', 'x[16]', 'x[17]', 'x[18]',\n",
      "'x[19]', 'x[20]', 'x[21]', 'x[22]', 'x[23]', 'x[24]', 'x[25]', 'x[26]', 'x[27]',\n",
      "'x[28]', 'x[29]', 'x[30]', 'x[31]', 'x[32]', 'x[33]', 'x[34]', 'x[35]', 'x[36]',\n",
      "'x[37]', 'x[38]', 'x[39]', 'x[40]', 'x[41]', 'x[42]', 'x[43]', 'x[44]', 'x[45]',\n",
      " 'x[46]', 'x[47]', 'x[48]', 'x[49]']\n",
      "None\n"
     ]
    }
   ],
   "source": [
    "m.optimize()\n",
    "print (m.display())"
   ]
  },
  {
   "cell_type": "code",
   "execution_count": 73,
   "id": "19ae1a2c",
   "metadata": {},
   "outputs": [
    {
     "name": "stdout",
     "output_type": "stream",
     "text": [
      "Gurobi runtime is 0.00901031494140625 seconds\n"
     ]
    }
   ],
   "source": [
    "print(\"Gurobi runtime is\", m.Runtime ,\"seconds\")"
   ]
  },
  {
   "cell_type": "code",
   "execution_count": 45,
   "id": "5177f468",
   "metadata": {},
   "outputs": [
    {
     "name": "stdout",
     "output_type": "stream",
     "text": [
      "['9', '11', '15', '19', '20', '21', '22', '24', '29', '32', '33', '35', '37', '39', '40', '44']\n"
     ]
    }
   ],
   "source": [
    "x_list = [str.replace(str.replace(v.varName,\"]\",\"\"),\"x[\",\"\") for v in m.getVars() if v.x == 1 and v.varName[0] =='x']\n",
    "        \n",
    "print(x_list)"
   ]
  },
  {
   "cell_type": "code",
   "execution_count": 46,
   "id": "426a47b2",
   "metadata": {},
   "outputs": [
    {
     "data": {
      "text/plain": [
       "260.8810305909356"
      ]
     },
     "execution_count": 46,
     "metadata": {},
     "output_type": "execute_result"
    }
   ],
   "source": [
    "m.ObjVal"
   ]
  },
  {
   "cell_type": "code",
   "execution_count": null,
   "id": "f08a585c",
   "metadata": {},
   "outputs": [],
   "source": []
  },
  {
   "cell_type": "code",
   "execution_count": null,
   "id": "4ab1aa2b",
   "metadata": {},
   "outputs": [],
   "source": []
  },
  {
   "cell_type": "code",
   "execution_count": null,
   "id": "0b0037fd",
   "metadata": {},
   "outputs": [],
   "source": []
  },
  {
   "cell_type": "code",
   "execution_count": null,
   "id": "e3a7c638",
   "metadata": {},
   "outputs": [],
   "source": []
  },
  {
   "cell_type": "code",
   "execution_count": null,
   "id": "b3bea5ea",
   "metadata": {},
   "outputs": [],
   "source": []
  },
  {
   "cell_type": "code",
   "execution_count": null,
   "id": "766eb076",
   "metadata": {},
   "outputs": [],
   "source": []
  },
  {
   "cell_type": "code",
   "execution_count": null,
   "id": "f6960cf8",
   "metadata": {},
   "outputs": [],
   "source": []
  },
  {
   "cell_type": "code",
   "execution_count": null,
   "id": "c50acb49",
   "metadata": {},
   "outputs": [],
   "source": []
  },
  {
   "cell_type": "code",
   "execution_count": 32,
   "id": "efc6fe2b",
   "metadata": {},
   "outputs": [
    {
     "ename": "SyntaxError",
     "evalue": "invalid syntax (<ipython-input-32-a5bdadecf18b>, line 2)",
     "output_type": "error",
     "traceback": [
      "\u001b[1;36m  File \u001b[1;32m\"<ipython-input-32-a5bdadecf18b>\"\u001b[1;36m, line \u001b[1;32m2\u001b[0m\n\u001b[1;33m    _,size_of_x = np.\u001b[0m\n\u001b[1;37m                     ^\u001b[0m\n\u001b[1;31mSyntaxError\u001b[0m\u001b[1;31m:\u001b[0m invalid syntax\n"
     ]
    }
   ],
   "source": [
    "try:\n",
    "    _,size_of_x = np.\n",
    "    \n",
    "    # Create a new model\n",
    "    m = gp.Model(\"Benders Decomp Gurobi\")\n",
    "\n",
    "    # Create variables\n",
    "    x = m.addVars(edge_number, Q, vtype=GRB.BINARY, name=\"x\")\n",
    "    \n",
    "    print(x[0,1])\n",
    "    # Set objective\n",
    "    m.setObjective(quicksum(quicksum((p*j+1) * c_e[i,j]  * x[i,j] for i in range(edge_number)) \n",
    "                            for j in range(Q)), GRB.MAXIMIZE)\n",
    "\n",
    "    # Add constraint 1:\n",
    "    for vertex in range(1, Q + 1):\n",
    "    \n",
    "        index = constraint_1(network, Q, edge_dictionary, compelete_label, vertex)\n",
    "\n",
    "        # \n",
    "        m.addConstr(quicksum( quicksum(x[i,j] for j in range(Q)) for i in index) == 1, name=f'constraint_1_vertex_{vertex}')\n",
    "\n",
    "    # Add constraint 2:  \n",
    "    for vertex in range(1, Q + 1):\n",
    "    \n",
    "        index_out, index_in = constraint_2(network, Q, edge_dictionary, compelete_label, vertex)\n",
    "    \n",
    "        #print(index_out, index_in, level_coeff[index_in])\n",
    "    \n",
    "        m.addConstr( quicksum(quicksum( (j+1) * x[i,j] for j in range(Q)) for i in index_out) - quicksum( quicksum( (n+1) * x[m,n] for n in range(Q)) for m in index_in)  == 1, name=f'constraint_2_vertex_{vertex}')\n",
    "\n",
    "    # Add constraint 3:\n",
    "    m_t_u,m_t_l = capacity_subtree_limit_generator(Q)\n",
    "    print(m_t_u,m_t_l)\n",
    "    \n",
    "    for level in range(Q):\n",
    "        m.addConstr ( quicksum(x[i,int(level)] for i in range(Q)) >= m_t_l[int(level)], name=f'constraint_3_Buslowerlevel_{level}')\n",
    "        m.addConstr ( quicksum(x[i,int(level)] for i in range(Q)) <= m_t_u[int(level)], name=f'constraint_3_Busupperlevel_{level}')\n",
    "    \n",
    "    \n",
    "    # Optimize model\n",
    "    m.optimize()\n",
    "    print (m.display())\n",
    "\n",
    "    #$for v in m.getVars():\n",
    "        #print('%s %g' % (v.varName, v.x))\n",
    "\n",
    "    x_list = [str.replace(str.replace(v.varName,\"]\",\"\"),\"x[\",\"\") for v in m.getVars() if v.x == 1 and v.varName[0] =='x']\n",
    "        \n",
    "    print(x_list )\n",
    "    \n",
    "    #print('Obj: %g' % m.objVal)\n",
    "\n",
    "except gp.GurobiError as e:\n",
    "    print('Error code ' + str(e.errno) + ': ' + str(e))\n",
    "\n",
    "except AttributeError:\n",
    "    print('Encountered an attribute error')"
   ]
  },
  {
   "cell_type": "code",
   "execution_count": null,
   "id": "5cc50359",
   "metadata": {},
   "outputs": [],
   "source": []
  }
 ],
 "metadata": {
  "kernelspec": {
   "display_name": "Python 3",
   "language": "python",
   "name": "python3"
  },
  "language_info": {
   "codemirror_mode": {
    "name": "ipython",
    "version": 3
   },
   "file_extension": ".py",
   "mimetype": "text/x-python",
   "name": "python",
   "nbconvert_exporter": "python",
   "pygments_lexer": "ipython3",
   "version": "3.8.6"
  }
 },
 "nbformat": 4,
 "nbformat_minor": 5
}
