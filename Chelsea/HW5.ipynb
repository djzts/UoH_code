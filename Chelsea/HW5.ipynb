{
 "cells": [
  {
   "cell_type": "code",
   "execution_count": 2,
   "id": "bf919a5c",
   "metadata": {},
   "outputs": [],
   "source": [
    "import numpy as np"
   ]
  },
  {
   "cell_type": "markdown",
   "id": "000c38f0",
   "metadata": {},
   "source": [
    "## Q1\n",
    "Your task is to compute a session key in a DHKE protocol based on elliptic curves. Your private key is $a = 6$. You receive Bob’s public key $B = (5, 9)$. The elliptic curve being used is defined by\n",
    "\n",
    "Given EC: \n",
    " \n",
    "$$ E: 𝑦^2≡ 𝑥^3+𝑥+6 \\quad \\textrm{mod} \\ 11 $$"
   ]
  },
  {
   "cell_type": "code",
   "execution_count": 3,
   "id": "0afb4dfb",
   "metadata": {},
   "outputs": [],
   "source": [
    "def EC_add(P,Q,p,a,b):\n",
    "    if P==Q:\n",
    "        s = ((3 * P[0]**2 + a)*pow(2 * P[1] , -1 , p ) )%p\n",
    "    else: \n",
    "        s = ((Q[1] - P[1])*pow(Q[0] - P[0] , -1 , p ) )%p\n",
    "\n",
    "    x = (s**2 - P[0] - Q[0]) % p    \n",
    "    \n",
    "    temp = (s * (P[0] - x) - P[1]) % p\n",
    "    \n",
    "    \n",
    "    if (temp**2%p == (x**3 + a*x + b) % p):\n",
    "        y = temp\n",
    "        print(\"the calculated y is on the curve\")\n",
    "    else:\n",
    "        y = temp-p\n",
    "        print(\"the calculated y is not on the curve, it is on the negative plane\")\n",
    "    print(\"the final answer is\",\"(\",x,\",\",y,\")\")\n",
    "    \n",
    "    return (x,y)"
   ]
  },
  {
   "cell_type": "code",
   "execution_count": 4,
   "id": "d66c5001",
   "metadata": {},
   "outputs": [],
   "source": [
    "def DHKE(Private_key,B,p,a,b):\n",
    "    if Private_key ==0:\n",
    "        return \"0\"\n",
    "    elif Private_key ==1:\n",
    "        return B\n",
    "    else:\n",
    "        print(\"the first bit is: 1 ==> 1 B\")\n",
    "        output = B \n",
    "        print(\"the final answer is\",\"(\",B[0],\",\",B[1],\")\")\n",
    "        bin_key = \"1\"\n",
    "        for i in np.binary_repr(Private_key)[1:]:\n",
    "            bin_key +=  i\n",
    "            \n",
    "            number = int(bin_key,2)\n",
    "            \n",
    "            print(\"the next bit is:\",i,\" ==> %d B\"%(number))\n",
    "            \n",
    "            output = EC_add(output,output,p,a,b)\n",
    "            if np.int(i):\n",
    "                output = EC_add(output,B,p,a,b)\n",
    "    return output\n",
    "            \n",
    "    "
   ]
  },
  {
   "cell_type": "code",
   "execution_count": 5,
   "id": "61023a8c",
   "metadata": {},
   "outputs": [],
   "source": [
    "B = (5,9)\n",
    "p = 11\n",
    "a = 1\n",
    "b = 6\n",
    "Private_key = 6"
   ]
  },
  {
   "cell_type": "code",
   "execution_count": 6,
   "id": "cd75ec48",
   "metadata": {},
   "outputs": [
    {
     "name": "stdout",
     "output_type": "stream",
     "text": [
      "the first bit is: 1 ==> 1 B\n",
      "the final answer is ( 5 , 9 )\n",
      "the next bit is: 1  ==> 3 B\n",
      "the calculated y is on the curve\n",
      "the final answer is ( 10 , 9 )\n",
      "the calculated y is on the curve\n",
      "the final answer is ( 7 , 2 )\n",
      "the next bit is: 0  ==> 6 B\n",
      "the calculated y is on the curve\n",
      "the final answer is ( 2 , 7 )\n"
     ]
    }
   ],
   "source": [
    "final=DHKE(Private_key,B,p,a,b)"
   ]
  },
  {
   "cell_type": "code",
   "execution_count": 7,
   "id": "2d189c44",
   "metadata": {},
   "outputs": [],
   "source": [
    "B = (8,10)\n",
    "p = 29\n",
    "a = 4\n",
    "b = 20\n",
    "Private_key = 9"
   ]
  },
  {
   "cell_type": "code",
   "execution_count": 8,
   "id": "793c8858",
   "metadata": {},
   "outputs": [
    {
     "name": "stdout",
     "output_type": "stream",
     "text": [
      "the first bit is: 1 ==> 1 B\n",
      "the final answer is ( 8 , 10 )\n",
      "the next bit is: 0  ==> 2 B\n",
      "the calculated y is on the curve\n",
      "the final answer is ( 0 , 22 )\n",
      "the next bit is: 0  ==> 4 B\n",
      "the calculated y is on the curve\n",
      "the final answer is ( 6 , 17 )\n",
      "the next bit is: 1  ==> 9 B\n",
      "the calculated y is on the curve\n",
      "the final answer is ( 13 , 6 )\n",
      "the calculated y is on the curve\n",
      "the final answer is ( 4 , 10 )\n"
     ]
    }
   ],
   "source": [
    "final=DHKE(Private_key,B,p,a,b)"
   ]
  },
  {
   "cell_type": "markdown",
   "id": "34acd990",
   "metadata": {},
   "source": [
    "## Q2\n",
    "Given an RSA signature scheme with the public key $(n = 9797, e = 131)$, which of the following signatures are valid?\n",
    "\n",
    "1.$(x = 123, \\textrm{sig}(x) = 6292)$\n",
    "\n",
    "2.$(x = 4333, \\textrm{sig}(x) = 4768)$\n",
    "\n",
    "3.$(x = 4333, \\textrm{sig}(x) = 1424)$"
   ]
  },
  {
   "cell_type": "code",
   "execution_count": 134,
   "id": "92173074",
   "metadata": {},
   "outputs": [],
   "source": [
    "def Validation(x,sig,n,e):\n",
    "    recover = sig ** e % n\n",
    "    print(\"the recovered message is\",recover)\n",
    "    if recover == x % n :\n",
    "        return(\"the signature is valid\")\n",
    "    else:\n",
    "        return(\"the signature is not valid\")"
   ]
  },
  {
   "cell_type": "code",
   "execution_count": 135,
   "id": "a1ce4c34",
   "metadata": {},
   "outputs": [
    {
     "name": "stdout",
     "output_type": "stream",
     "text": [
      "the recovered message is 123\n",
      "the signature is valid\n"
     ]
    }
   ],
   "source": [
    "#2.1\n",
    "print(Validation(123,6292,9797,131))"
   ]
  },
  {
   "cell_type": "code",
   "execution_count": 136,
   "id": "cef6440e",
   "metadata": {},
   "outputs": [
    {
     "name": "stdout",
     "output_type": "stream",
     "text": [
      "the recovered message is 9644\n",
      "the signature is not valid\n"
     ]
    }
   ],
   "source": [
    "#2.2\n",
    "print(Validation(4333,4768,9797,131))"
   ]
  },
  {
   "cell_type": "code",
   "execution_count": 137,
   "id": "c19bc015",
   "metadata": {},
   "outputs": [
    {
     "name": "stdout",
     "output_type": "stream",
     "text": [
      "the recovered message is 4333\n",
      "the signature is valid\n"
     ]
    }
   ],
   "source": [
    "#2.3\n",
    "print(Validation(4333,1424,9797,131))"
   ]
  }
 ],
 "metadata": {
  "kernelspec": {
   "display_name": "Python 3",
   "language": "python",
   "name": "python3"
  },
  "language_info": {
   "codemirror_mode": {
    "name": "ipython",
    "version": 3
   },
   "file_extension": ".py",
   "mimetype": "text/x-python",
   "name": "python",
   "nbconvert_exporter": "python",
   "pygments_lexer": "ipython3",
   "version": "3.8.6"
  }
 },
 "nbformat": 4,
 "nbformat_minor": 5
}
