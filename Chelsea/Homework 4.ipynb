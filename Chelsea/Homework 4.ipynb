{
 "cells": [
  {
   "cell_type": "code",
   "execution_count": 1,
   "metadata": {},
   "outputs": [],
   "source": [
    "import numpy as np"
   ]
  },
  {
   "cell_type": "code",
   "execution_count": 2,
   "metadata": {},
   "outputs": [],
   "source": [
    "def RSA(p,q,key,x,mode):\n",
    "    n = p*q\n",
    "    print(\"n = p x q = \",n) \n",
    "    Phi_n = (p-1)*(q-1)\n",
    "    print(\"Phi(n) = (p-1) x (q-1) = \",Phi_n)\n",
    "    key_inverse = pow(key, -1, Phi_n)\n",
    "    if mode==\"encrpt\":\n",
    "        print(\"the decryption key d ≡ e^(-1) mod Phi(n) = \",key_inverse)\n",
    "        print(\"Now,start our encryption process, the plain text is \",x)\n",
    "        encrypt_text = x**key % n\n",
    "        print(\"the encrypt text is, y = x^e mod n = \",encrypt_text)\n",
    "        print(\"Now,start our decryption process\")\n",
    "        decrypt_text = encrypt_text**key_inverse % n\n",
    "        \n",
    "        print(\"the decrypt text is, x = y^d mod n = \",decrypt_text)\n",
    "    else:\n",
    "        print(\"the encryption key e ≡ d^(-1) mod Phi(n) = \",key_inverse)\n",
    "        print(\"Now,start our encryption process, the plain text is \",x)\n",
    "        encrypt_text = x**key_inverse % n\n",
    "        print(\"the encrypt text is, y = x^e mod n = \",encrypt_text)\n",
    "        print(\"Now,start our decryption process\")\n",
    "        decrypt_text = encrypt_text**key % n\n",
    "        print(\"the decrypt text is, x = y^d mod n = \",decrypt_text)\n",
    "    \n",
    "    "
   ]
  },
  {
   "cell_type": "markdown",
   "metadata": {},
   "source": [
    "## Question 1\n",
    "**1.1** p = 3, q = 11, d = 7, x = 5\n",
    "\n",
    "**1.2** p = 5, q = 11, d = 3, x = 9"
   ]
  },
  {
   "cell_type": "code",
   "execution_count": 3,
   "metadata": {},
   "outputs": [
    {
     "name": "stdout",
     "output_type": "stream",
     "text": [
      "n = p x q =  33\n",
      "Phi(n) = (p-1) x (q-1) =  20\n",
      "the encryption key e ≡ d^(-1) mod Phi(n) =  3\n",
      "Now,start our encryption process, the plain text is  5\n",
      "the encrypt text is, y = x^e mod n =  26\n",
      "Now,start our decryption process\n",
      "the decrypt text is, x = y^d mod n =  5\n"
     ]
    }
   ],
   "source": [
    "#Question 1.1\n",
    "RSA(3, 11, 7, 5,\"decrpt\")"
   ]
  },
  {
   "cell_type": "code",
   "execution_count": 4,
   "metadata": {},
   "outputs": [
    {
     "name": "stdout",
     "output_type": "stream",
     "text": [
      "n = p x q =  55\n",
      "Phi(n) = (p-1) x (q-1) =  40\n",
      "the decryption key d ≡ e^(-1) mod Phi(n) =  27\n",
      "Now,start our encryption process, the plain text is  9\n",
      "the encrypt text is, y = x^e mod n =  14\n",
      "Now,start our decryption process\n",
      "the decrypt text is, x = y^d mod n =  9\n"
     ]
    }
   ],
   "source": [
    "#Question 1.2\n",
    "RSA(5, 11, 3, 9,\"encrpt\")"
   ]
  },
  {
   "cell_type": "markdown",
   "metadata": {},
   "source": [
    "## Question 2\n",
    "Compute the two public keys and the common key for the DHKE scheme with the parameters p = 467, α = 2, and\n",
    "\n",
    "**2.1** a = 3, b = 5\n",
    "\n",
    "**2.2** a = 400, b = 134"
   ]
  },
  {
   "cell_type": "code",
   "execution_count": 5,
   "metadata": {},
   "outputs": [],
   "source": [
    "def RSA(p,alpha,a,b):\n",
    "    print(\"Alice and Bob agree use p = \", p ,\",and alpha = \", alpha ,\"as a base.\")\n",
    "    A = alpha**a%p\n",
    "    print(\"Alice choose a number a = \", a, \",and calculate the A = alpha^a mod p = \", A ,\"and send it to Bob.\")\n",
    "    B = alpha**b%p\n",
    "    print(\"Bob choose a number b = \", b, \",and calculate the B = alpha^b mod p = \", B ,\"and send it to Alice.\")\n",
    "    K_AB_1 = (B**a)%p\n",
    "    print(\"Alice calculate common key K_AB = B^a = \",K_AB_1)\n",
    "    K_AB_2 = (A**b)%p\n",
    "    print(\"Alice calculate common key K_AB = A^b = \",K_AB_2,\"as a proof of they match\")"
   ]
  },
  {
   "cell_type": "code",
   "execution_count": 6,
   "metadata": {},
   "outputs": [
    {
     "name": "stdout",
     "output_type": "stream",
     "text": [
      "Alice and Bob agree use p =  467 ,and alpha =  2 as a base.\n",
      "Alice choose a number a =  3 ,and calculate the A = alpha^a mod p =  8 and send it to Bob.\n",
      "Bob choose a number b =  5 ,and calculate the B = alpha^b mod p =  32 and send it to Alice.\n",
      "Alice calculate common key K_AB = B^a =  78\n",
      "Alice calculate common key K_AB = A^b =  78 as a proof of they match\n"
     ]
    }
   ],
   "source": [
    "#2.1\n",
    "RSA(467,2,3,5)"
   ]
  },
  {
   "cell_type": "code",
   "execution_count": 7,
   "metadata": {},
   "outputs": [
    {
     "name": "stdout",
     "output_type": "stream",
     "text": [
      "Alice and Bob agree use p =  467 ,and alpha =  2 as a base.\n",
      "Alice choose a number a =  400 ,and calculate the A = alpha^a mod p =  137 and send it to Bob.\n",
      "Bob choose a number b =  134 ,and calculate the B = alpha^b mod p =  84 and send it to Alice.\n",
      "Alice calculate common key K_AB = B^a =  90\n",
      "Alice calculate common key K_AB = A^b =  90 as a proof of they match\n"
     ]
    }
   ],
   "source": [
    "#2.2\n",
    "RSA(467,2,400,134)"
   ]
  },
  {
   "cell_type": "markdown",
   "metadata": {},
   "source": [
    " ## Question 3\n",
    " Encrypt the following messages with the Elgamal scheme (p = 467 and α = 2):\n",
    " \n",
    " **3.1** K_pr = d = 105, i = 213, x = 33\n",
    " \n",
    " **3.2** K_pr = d = 105, i = 123, x = 33\n",
    " \n",
    " **3.3** K_pr = d = 300, i = 45, x = 248\n",
    " \n",
    " **3.4** K_pr = d = 300, i = 47, x = 248"
   ]
  },
  {
   "cell_type": "code",
   "execution_count": 8,
   "metadata": {},
   "outputs": [],
   "source": [
    "def Elgamal_scheme(p,alpha,d,i,x):\n",
    "    print(\"Step 1. Bob choose Prime p =\",p,\",alpha =\",alpha,\",plain text x =\",x)\n",
    "    \n",
    "    print(\"Step 2. Bob has a random number K_pr =\",d)\n",
    "    K_pub = alpha**d%p\n",
    "    print(\"Everyone knows the public key between Alice and Bob is K_pub ≡ alpha^d mod p =\",K_pub)\n",
    "    K_E = alpha**i%p\n",
    "    print(\"Step 3. Alice will compute a Ephemeral Key K_E ≡ alpha^i mod p =\",K_E)\n",
    "    K_M = K_pub**i%p\n",
    "    print(\"Step 4. Alice will also compute a masking Key K_M ≡ K_pub^i mod p =\",K_M)\n",
    "    print(\"the plaintext was\",x)\n",
    "    y = x*K_M%p\n",
    "    print(\"Step 5. Alice encrpts plaintext x with K_M, y ≡ x•K_M mod p =\",y,\"and send (y,K_E) back to Bob\")\n",
    "    K_M_B = K_E**d%p\n",
    "    print(\"Step 6. Bob recovers the K_M by K_M ≡ K_E^d mod p =\",K_M_B)\n",
    "    x_recover = y*pow(K_M,-1,p)%p\n",
    "    print(\"Step 7. Bob decrpts the cipher text by x ≡ K_M^(-1)•y =\",x_recover)"
   ]
  },
  {
   "cell_type": "code",
   "execution_count": 9,
   "metadata": {},
   "outputs": [
    {
     "name": "stdout",
     "output_type": "stream",
     "text": [
      "Step 1. Bob choose Prime p = 467 ,alpha = 2 ,plain text x = 33\n",
      "Step 2. Bob has a random number K_pr = 105\n",
      "Everyone knows the public key between Alice and Bob is K_pub ≡ alpha^d mod p = 444\n",
      "Step 3. Alice will compute a Ephemeral Key K_E ≡ alpha^i mod p = 29\n",
      "Step 4. Alice will also compute a masking Key K_M ≡ K_pub^i mod p = 292\n",
      "the plaintext was 33\n",
      "Step 5. Alice encrpts plaintext x with K_M, y ≡ x•K_M mod p = 296 and send (y,K_E) back to Bob\n",
      "Step 6. Bob recovers the K_M by K_M ≡ K_E^d mod p = 292\n",
      "Step 7. Bob decrpts the cipher text by x ≡ K_M^(-1)•y = 33\n"
     ]
    }
   ],
   "source": [
    "#3.1\n",
    "Elgamal_scheme(467,2,105,213,33)"
   ]
  },
  {
   "cell_type": "code",
   "execution_count": 10,
   "metadata": {},
   "outputs": [
    {
     "name": "stdout",
     "output_type": "stream",
     "text": [
      "Step 1. Bob choose Prime p = 467 ,alpha = 2 ,plain text x = 33\n",
      "Step 2. Bob has a random number K_pr = 105\n",
      "Everyone knows the public key between Alice and Bob is K_pub ≡ alpha^d mod p = 444\n",
      "Step 3. Alice will compute a Ephemeral Key K_E ≡ alpha^i mod p = 125\n",
      "Step 4. Alice will also compute a masking Key K_M ≡ K_pub^i mod p = 278\n",
      "the plaintext was 33\n",
      "Step 5. Alice encrpts plaintext x with K_M, y ≡ x•K_M mod p = 301 and send (y,K_E) back to Bob\n",
      "Step 6. Bob recovers the K_M by K_M ≡ K_E^d mod p = 278\n",
      "Step 7. Bob decrpts the cipher text by x ≡ K_M^(-1)•y = 33\n"
     ]
    }
   ],
   "source": [
    "#3.2\n",
    "Elgamal_scheme(467,2,105,123,33)"
   ]
  },
  {
   "cell_type": "code",
   "execution_count": 11,
   "metadata": {},
   "outputs": [
    {
     "name": "stdout",
     "output_type": "stream",
     "text": [
      "Step 1. Bob choose Prime p = 467 ,alpha = 2 ,plain text x = 248\n",
      "Step 2. Bob has a random number K_pr = 300\n",
      "Everyone knows the public key between Alice and Bob is K_pub ≡ alpha^d mod p = 317\n",
      "Step 3. Alice will compute a Ephemeral Key K_E ≡ alpha^i mod p = 80\n",
      "Step 4. Alice will also compute a masking Key K_M ≡ K_pub^i mod p = 12\n",
      "the plaintext was 248\n",
      "Step 5. Alice encrpts plaintext x with K_M, y ≡ x•K_M mod p = 174 and send (y,K_E) back to Bob\n",
      "Step 6. Bob recovers the K_M by K_M ≡ K_E^d mod p = 12\n",
      "Step 7. Bob decrpts the cipher text by x ≡ K_M^(-1)•y = 248\n"
     ]
    }
   ],
   "source": [
    "#3.3\n",
    "Elgamal_scheme(467,2,300,45,248)"
   ]
  },
  {
   "cell_type": "code",
   "execution_count": 12,
   "metadata": {},
   "outputs": [
    {
     "name": "stdout",
     "output_type": "stream",
     "text": [
      "Step 1. Bob choose Prime p = 467 ,alpha = 2 ,plain text x = 248\n",
      "Step 2. Bob has a random number K_pr = 300\n",
      "Everyone knows the public key between Alice and Bob is K_pub ≡ alpha^d mod p = 317\n",
      "Step 3. Alice will compute a Ephemeral Key K_E ≡ alpha^i mod p = 320\n",
      "Step 4. Alice will also compute a masking Key K_M ≡ K_pub^i mod p = 74\n",
      "the plaintext was 248\n",
      "Step 5. Alice encrpts plaintext x with K_M, y ≡ x•K_M mod p = 139 and send (y,K_E) back to Bob\n",
      "Step 6. Bob recovers the K_M by K_M ≡ K_E^d mod p = 74\n",
      "Step 7. Bob decrpts the cipher text by x ≡ K_M^(-1)•y = 248\n"
     ]
    }
   ],
   "source": [
    "#3.4\n",
    "Elgamal_scheme(467,2,300,47,248)"
   ]
  },
  {
   "cell_type": "code",
   "execution_count": null,
   "metadata": {},
   "outputs": [],
   "source": []
  },
  {
   "cell_type": "markdown",
   "metadata": {},
   "source": [
    "## Question 4\n",
    "Considering the four examples from Problem 4.1, we see that the Elgamal scheme is nondeterministic: A given plaintext x has many valid ciphertext, e.g., both x = 33 and x = 248 have the same ciphertext in the problem above.\n",
    "\n",
    "**4.1** Why is the Elgamal signature scheme nondeterministic?\n",
    "\n",
    "**4.2** How many valid ciphertexts exist for each message x (general expression)?\n",
    "How many are there for the system in Problem 4.3.1 (numerical answer)?\n",
    "\n",
    "**4.3** Is RSA crypto system nondeterministic once the public key has been chosen?"
   ]
  },
  {
   "cell_type": "markdown",
   "metadata": {},
   "source": [
    "**Answer of 4.1**\n",
    "\n",
    "In this context, \"nondeterministic\" means that the algorithm to generate the ciphertext (or the signature) takes a random value as one of its inputs, and it can generate many possible ciphertexts (or signatures) based on the random value. ElGamal is nondetermanistic because the encryptor selects a random exponent as a part of encryption method.\n",
    "\n",
    "For public key encryption, this randomization of the encrypted message is important. If the public key encryption algorithm was not nondetermistic (that is, the encrypted message depended only on the plaintext message and the public key), then someone with an encrypted message M and the public key $PK$ and a candidate plaintext message P could test if the decryption of M was P (simply by encrypting P using the public key $PK$, and checking if the result was M).\n",
    "\n",
    "Because of this, public key encryption is almost always nondetermanistic."
   ]
  },
  {
   "cell_type": "markdown",
   "metadata": {},
   "source": [
    "**Answer of 4.2**\n",
    "\n",
    "It depends on how many space ring $p$, In general, we could have $(2,3,\\dots,p-2)$ choice of cipher text, which has $p-3$ different valid cipher text options. However, Once we set up our $k_{pr}$, the cipher text choices could be limited by $k_{pr}$ and $p$\n"
   ]
  },
  {
   "cell_type": "markdown",
   "metadata": {},
   "source": [
    "**Answer of 4.3**\n",
    "\n",
    "The RSA encryption system is deterministic. Once the public parameter has set up, a plain text will always be encrypted to a fixed cipher text."
   ]
  },
  {
   "cell_type": "markdown",
   "metadata": {},
   "source": [
    " ## Question 5\n",
    "Given EC: \n",
    " \n",
    "$$ E: 𝑦^2≡ 𝑥^3+2𝑥+2 \\quad mod \\ 17 $$\n",
    "\n",
    "All points on the curve form a cyclic group and that the order is #E = 19. The base point/primitive element is $𝑃=(5,1)$, please calculate $2P, 3P, 4P, 5P, 6P, 7P, 8P, 9P, 10P, 11P, 12P, 13P, 14P, 15P, 16P, 17P, 18P$ and $19P$."
   ]
  },
  {
   "cell_type": "code",
   "execution_count": 17,
   "metadata": {},
   "outputs": [],
   "source": [
    "def EC_add(P,Q,p,a,b):\n",
    "    if P==Q:\n",
    "        s = ((3 * P[0]**2 + a)*pow(2 * P[1] , -1 , p ) )%p\n",
    "    else: \n",
    "        s = ((Q[1] - P[1])*pow(Q[0] - P[0] , -1 , p ) )%p\n",
    "\n",
    "    x = (s**2 - P[0] - Q[0]) % p    \n",
    "    \n",
    "    temp = (s * (P[0] - x) - P[1]) % p\n",
    "    \n",
    "    if (temp**2%p == (x**3 + 2 * x + 2) % p):\n",
    "        y = temp\n",
    "        print(\"the calculated y is on the curve\")\n",
    "    else:\n",
    "        y = temp-p\n",
    "        print(\"the calculated y is not on the curve, it is on the negative plane\")\n",
    "    print(\"the final answer is\",\"(\",x,\",\",y,\")\")\n",
    "    \n",
    "    return (x,y)"
   ]
  },
  {
   "cell_type": "code",
   "execution_count": 18,
   "metadata": {},
   "outputs": [],
   "source": [
    "P1 = (5,1)\n",
    "p = 17\n",
    "a = 2\n",
    "b = 2"
   ]
  },
  {
   "cell_type": "code",
   "execution_count": 19,
   "metadata": {},
   "outputs": [
    {
     "name": "stdout",
     "output_type": "stream",
     "text": [
      "For 2 P, The answer of location is:\n",
      "the calculated y is on the curve\n",
      "the final answer is ( 6 , 3 )\n",
      "For 3 P, The answer of location is:\n",
      "the calculated y is on the curve\n",
      "the final answer is ( 10 , 6 )\n",
      "For 4 P, The answer of location is:\n",
      "the calculated y is on the curve\n",
      "the final answer is ( 3 , 1 )\n",
      "For 5 P, The answer of location is:\n",
      "the calculated y is on the curve\n",
      "the final answer is ( 9 , 16 )\n",
      "For 6 P, The answer of location is:\n",
      "the calculated y is on the curve\n",
      "the final answer is ( 16 , 13 )\n",
      "For 7 P, The answer of location is:\n",
      "the calculated y is on the curve\n",
      "the final answer is ( 0 , 6 )\n",
      "For 8 P, The answer of location is:\n",
      "the calculated y is on the curve\n",
      "the final answer is ( 13 , 7 )\n",
      "For 9 P, The answer of location is:\n",
      "the calculated y is on the curve\n",
      "the final answer is ( 7 , 6 )\n",
      "For 10 P, The answer of location is:\n",
      "the calculated y is on the curve\n",
      "the final answer is ( 7 , 11 )\n",
      "For 11 P, The answer of location is:\n",
      "the calculated y is on the curve\n",
      "the final answer is ( 13 , 10 )\n",
      "For 12 P, The answer of location is:\n",
      "the calculated y is on the curve\n",
      "the final answer is ( 0 , 11 )\n",
      "For 13 P, The answer of location is:\n",
      "the calculated y is on the curve\n",
      "the final answer is ( 16 , 4 )\n",
      "For 14 P, The answer of location is:\n",
      "the calculated y is on the curve\n",
      "the final answer is ( 9 , 1 )\n",
      "For 15 P, The answer of location is:\n",
      "the calculated y is on the curve\n",
      "the final answer is ( 3 , 16 )\n",
      "For 16 P, The answer of location is:\n",
      "the calculated y is on the curve\n",
      "the final answer is ( 10 , 11 )\n",
      "For 17 P, The answer of location is:\n",
      "the calculated y is on the curve\n",
      "the final answer is ( 6 , 14 )\n",
      "For 18 P, The answer of location is:\n",
      "the calculated y is on the curve\n",
      "the final answer is ( 5 , 16 )\n",
      "For 19 P, The answer of location is special 0 \n"
     ]
    }
   ],
   "source": [
    "P_increment = P1\n",
    "for i in range(2,19):\n",
    "    print(\"For\",i,\"P, The answer of location is:\")\n",
    "    P_increment = EC_add(P_increment,P1,p,a,b)\n",
    "print(\"For 19 P, The answer of location is special 0 \")   "
   ]
  },
  {
   "cell_type": "code",
   "execution_count": null,
   "metadata": {},
   "outputs": [],
   "source": [
    " "
   ]
  },
  {
   "cell_type": "code",
   "execution_count": 21,
   "metadata": {},
   "outputs": [
    {
     "data": {
      "text/plain": [
       "3"
      ]
     },
     "execution_count": 21,
     "metadata": {},
     "output_type": "execute_result"
    }
   ],
   "source": [
    "6**7*7**5%11"
   ]
  },
  {
   "cell_type": "code",
   "execution_count": 24,
   "metadata": {},
   "outputs": [
    {
     "data": {
      "text/plain": [
       "4704884352"
      ]
     },
     "execution_count": 24,
     "metadata": {},
     "output_type": "execute_result"
    }
   ],
   "source": [
    "6**7*7**5"
   ]
  },
  {
   "cell_type": "code",
   "execution_count": 22,
   "metadata": {},
   "outputs": [
    {
     "data": {
      "text/plain": [
       "1"
      ]
     },
     "execution_count": 22,
     "metadata": {},
     "output_type": "execute_result"
    }
   ],
   "source": [
    "3**5%11"
   ]
  },
  {
   "cell_type": "code",
   "execution_count": 23,
   "metadata": {},
   "outputs": [
    {
     "data": {
      "text/plain": [
       "243"
      ]
     },
     "execution_count": 23,
     "metadata": {},
     "output_type": "execute_result"
    }
   ],
   "source": [
    "3**5"
   ]
  },
  {
   "cell_type": "code",
   "execution_count": null,
   "metadata": {},
   "outputs": [],
   "source": []
  }
 ],
 "metadata": {
  "kernelspec": {
   "display_name": "Python 3",
   "language": "python",
   "name": "python3"
  },
  "language_info": {
   "codemirror_mode": {
    "name": "ipython",
    "version": 3
   },
   "file_extension": ".py",
   "mimetype": "text/x-python",
   "name": "python",
   "nbconvert_exporter": "python",
   "pygments_lexer": "ipython3",
   "version": "3.8.6"
  }
 },
 "nbformat": 4,
 "nbformat_minor": 4
}
