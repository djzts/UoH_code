{
 "cells": [
  {
   "cell_type": "code",
   "execution_count": 94,
   "id": "b959e91e",
   "metadata": {},
   "outputs": [],
   "source": [
    "import string\n",
    "Text_1_file = open(\"JackAndJill.txt\", \"r\")\n",
    "Text_2_file = open(\"TheHillWeClimb.txt\", \"r\")\n",
    "Text_1 = Text_1_file.read()\n",
    "Text_2 = Text_2_file.read()"
   ]
  },
  {
   "cell_type": "code",
   "execution_count": 95,
   "id": "c5863ecc",
   "metadata": {},
   "outputs": [],
   "source": [
    "#Text_1 = Text_1.replace('\\n','')\n",
    "#Text_2 = Text_2.replace('\\n','')"
   ]
  },
  {
   "cell_type": "code",
   "execution_count": 96,
   "id": "63033137",
   "metadata": {},
   "outputs": [],
   "source": [
    "wlist1 = [\"Jack\",\"Jill\",\"up\",\"river\"]"
   ]
  },
  {
   "cell_type": "code",
   "execution_count": 97,
   "id": "d59ed00b",
   "metadata": {},
   "outputs": [
    {
     "data": {
      "text/plain": [
       "'Jack and Jill went up the hill,\\nTo fetch a pail of water.\\nJack fell down and broke his crown,\\nAnd Jill came tumbling after.\\n'"
      ]
     },
     "execution_count": 97,
     "metadata": {},
     "output_type": "execute_result"
    }
   ],
   "source": [
    "Text_1"
   ]
  },
  {
   "cell_type": "code",
   "execution_count": 98,
   "id": "18c002e9",
   "metadata": {},
   "outputs": [
    {
     "name": "stdout",
     "output_type": "stream",
     "text": [
      "['Jack 2\\n', 'Jill 2\\n', 'up 1\\n', 'river 0\\n']\n"
     ]
    }
   ],
   "source": [
    "count = [ word + \" \" + str(Text_1.count(word)) +\"\\n\" for word in wlist1]\n",
    "print(count)"
   ]
  },
  {
   "cell_type": "code",
   "execution_count": 99,
   "id": "98a22496",
   "metadata": {},
   "outputs": [],
   "source": [
    "file1 = open('output.txt', 'w')\n",
    "file1.writelines(count)\n",
    "file1.close()"
   ]
  },
  {
   "cell_type": "code",
   "execution_count": 100,
   "id": "55502663",
   "metadata": {},
   "outputs": [],
   "source": [
    "def Matchwords(Inputfilename,Outputfilename,thelist):\n",
    "    Text_file = open(Inputfilename, \"r\")\n",
    "    Text = Text_file.read()\n",
    "    #Text = Text.replace('\\n','')\n",
    "    count = [ word + \" \" + str(Text.count(word)) +\"\\n\" for word in thelist]\n",
    "    file = open('output.txt', 'w')\n",
    "    file.writelines(count)\n",
    "    file.close()"
   ]
  },
  {
   "cell_type": "code",
   "execution_count": 112,
   "id": "9ed07b7f",
   "metadata": {},
   "outputs": [
    {
     "ename": "SyntaxError",
     "evalue": "invalid syntax (<ipython-input-112-53731abc9cef>, line 1)",
     "output_type": "error",
     "traceback": [
      "\u001b[1;36m  File \u001b[1;32m\"<ipython-input-112-53731abc9cef>\"\u001b[1;36m, line \u001b[1;32m1\u001b[0m\n\u001b[1;33m    def Matchwords(Inputfilename,Outputfilename,thelist)\u001b[0m\n\u001b[1;37m                                                        ^\u001b[0m\n\u001b[1;31mSyntaxError\u001b[0m\u001b[1;31m:\u001b[0m invalid syntax\n"
     ]
    }
   ],
   "source": [
    "def Matchwords(Inputfilename,Outputfilename,thelist):\n",
    "    Text_file = open(Inputfilename, \"r\")\n",
    "    Text = Text_file.read()\n",
    "    total_space_count = len(Text)\n",
    "    total_word_count = len(Text.split())\n",
    "    output = [total_space_count,total_word_count]\n",
    "    return output"
   ]
  },
  {
   "cell_type": "code",
   "execution_count": 102,
   "id": "eb7cda79",
   "metadata": {},
   "outputs": [
    {
     "data": {
      "text/plain": [
       "124"
      ]
     },
     "execution_count": 102,
     "metadata": {},
     "output_type": "execute_result"
    }
   ],
   "source": [
    "len(Text_1)"
   ]
  },
  {
   "cell_type": "code",
   "execution_count": 103,
   "id": "949d48bb",
   "metadata": {},
   "outputs": [
    {
     "data": {
      "text/plain": [
       "97"
      ]
     },
     "execution_count": 103,
     "metadata": {},
     "output_type": "execute_result"
    }
   ],
   "source": [
    "ord('a')"
   ]
  },
  {
   "cell_type": "code",
   "execution_count": 104,
   "id": "714c3593",
   "metadata": {},
   "outputs": [
    {
     "data": {
      "text/plain": [
       "90"
      ]
     },
     "execution_count": 104,
     "metadata": {},
     "output_type": "execute_result"
    }
   ],
   "source": [
    "ord('Z')"
   ]
  },
  {
   "cell_type": "code",
   "execution_count": 111,
   "id": "09a606c3",
   "metadata": {},
   "outputs": [
    {
     "data": {
      "text/plain": [
       "25"
      ]
     },
     "execution_count": 111,
     "metadata": {},
     "output_type": "execute_result"
    }
   ],
   "source": [
    "Text_alt = Text_1.splitlines()\n",
    "len(Text_1.split())"
   ]
  },
  {
   "cell_type": "code",
   "execution_count": 90,
   "id": "afe8bffd",
   "metadata": {},
   "outputs": [],
   "source": [
    "filtered_text = ''.join(filter(str.isalpha, Text_1))"
   ]
  },
  {
   "cell_type": "code",
   "execution_count": 91,
   "id": "cc79174f",
   "metadata": {},
   "outputs": [
    {
     "data": {
      "text/plain": [
       "95"
      ]
     },
     "execution_count": 91,
     "metadata": {},
     "output_type": "execute_result"
    }
   ],
   "source": [
    "len(filtered_text)"
   ]
  },
  {
   "cell_type": "code",
   "execution_count": null,
   "id": "3b04cdac",
   "metadata": {},
   "outputs": [],
   "source": []
  }
 ],
 "metadata": {
  "kernelspec": {
   "display_name": "Python 3",
   "language": "python",
   "name": "python3"
  },
  "language_info": {
   "codemirror_mode": {
    "name": "ipython",
    "version": 3
   },
   "file_extension": ".py",
   "mimetype": "text/x-python",
   "name": "python",
   "nbconvert_exporter": "python",
   "pygments_lexer": "ipython3",
   "version": "3.8.6"
  }
 },
 "nbformat": 4,
 "nbformat_minor": 5
}
