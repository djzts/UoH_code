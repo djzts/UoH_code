{
 "cells": [
  {
   "cell_type": "code",
   "execution_count": 1,
   "id": "afc8c67d",
   "metadata": {},
   "outputs": [],
   "source": [
    "import numpy as np"
   ]
  },
  {
   "cell_type": "code",
   "execution_count": 56,
   "id": "8c5fa6d6",
   "metadata": {},
   "outputs": [
    {
     "name": "stdout",
     "output_type": "stream",
     "text": [
      "C: [1 0 1 0 1 0 1]\n",
      "B: [1 1 1 1 1 0 1]\n",
      "[0 1 0]\n",
      "[0 0 0]\n"
     ]
    }
   ],
   "source": [
    "H = np.array([[1,1,0,1,1,0,0],\n",
    "              [1,0,1,1,0,1,0],\n",
    "              [0,1,1,1,0,0,1]])\n",
    "\n",
    "\n",
    "G = np.array([[1,0,0,0,1,1,0],\n",
    "              [0,1,0,0,1,0,1],\n",
    "              [0,0,1,0,0,1,1],\n",
    "              [0,0,0,1,1,1,1]])\n",
    "\n",
    "M = np.array([1,0,1,0])\n",
    "\n",
    "#C = np.array([M[0],M[1],M[2],M[3],M[0] + M[1] + M[3], M[0] + M[2] + M[3], M[1] + M[2] + M[3]])%2\n",
    "C = np.dot(M,G)%2\n",
    "\n",
    "print(\"C:\",C)\n",
    "\n",
    "              \n",
    "E = np.array([0,1,0,1,0,0,0])             \n",
    "              \n",
    "       \n",
    "B = (C + E)%2        \n",
    "\n",
    "print(\"B:\",B)\n",
    "\n",
    "print( np.dot(H,B)%2 )\n",
    "\n",
    "print( np.dot(H,C)%2 )\n",
    "\n"
   ]
  },
  {
   "cell_type": "code",
   "execution_count": 55,
   "id": "6fb538ac",
   "metadata": {},
   "outputs": [
    {
     "name": "stdout",
     "output_type": "stream",
     "text": [
      "[0 0 0 1]\n",
      "[0 0 0 0]\n"
     ]
    }
   ],
   "source": [
    "print( np.dot(G,B)%2 )\n",
    "\n",
    "print( np.dot(G,C)%2 )\n",
    "\n"
   ]
  },
  {
   "cell_type": "code",
   "execution_count": null,
   "id": "de560b3c",
   "metadata": {},
   "outputs": [],
   "source": []
  }
 ],
 "metadata": {
  "kernelspec": {
   "display_name": "Python 3",
   "language": "python",
   "name": "python3"
  },
  "language_info": {
   "codemirror_mode": {
    "name": "ipython",
    "version": 3
   },
   "file_extension": ".py",
   "mimetype": "text/x-python",
   "name": "python",
   "nbconvert_exporter": "python",
   "pygments_lexer": "ipython3",
   "version": "3.8.6"
  }
 },
 "nbformat": 4,
 "nbformat_minor": 5
}
