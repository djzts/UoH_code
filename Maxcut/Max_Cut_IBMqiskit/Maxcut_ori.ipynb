{
  "cells": [
    {
      "cell_type": "markdown",
      "metadata": {
        "slideshow": {
          "slide_type": "slide"
        }
      },
      "source": "### If you're using your own machine, install qiskit first\nTo do that, uncomment the line below and run cell"
    },
    {
      "cell_type": "code",
      "execution_count": 1,
      "metadata": {
        "trusted": true
      },
      "outputs": [],
      "source": "# !pip install qiskit\n# To update qiskit:\n# !pip install -U qiskit"
    },
    {
      "cell_type": "markdown",
      "metadata": {},
      "source": "### And check version — should match the one below"
    },
    {
      "cell_type": "code",
      "execution_count": 2,
      "metadata": {
        "scrolled": true,
        "trusted": true
      },
      "outputs": [
        {
          "name": "stderr",
          "output_type": "stream",
          "text": "Matplotlib is building the font cache; this may take a moment.\n"
        },
        {
          "data": {
            "text/plain": "{'qiskit-terra': '0.16.1',\n 'qiskit-aer': '0.7.2',\n 'qiskit-ignis': '0.5.1',\n 'qiskit-ibmq-provider': '0.11.1',\n 'qiskit-aqua': '0.8.1',\n 'qiskit': '0.23.2'}"
          },
          "execution_count": 2,
          "metadata": {},
          "output_type": "execute_result"
        }
      ],
      "source": "import qiskit\nqiskit.__qiskit_version__"
    },
    {
      "cell_type": "markdown",
      "metadata": {
        "slideshow": {
          "slide_type": "slide"
        }
      },
      "source": "### Let's solve MAXCUT on a simple graph\n\nRecall the MAXCUT objective is $\\max_{\\mathbb{s}}\\frac{1}{2}\\sum_{ij\\in E}(1-s_is_j)$\n\nBefore going further, let's reformulate it:\n\n$\\frac{1}{2}\\sum_{ij\\in E}(1-s_is_j) = \\frac{1}{2}\\sum_{ij\\in E}(-s_is_j) + const$\n\nTherefore the above _maximization_ problem is equivalent to the problem below:\n\n$\\max_{\\mathbb{s}}\\sum_{ij\\in E}(-s_is_j)$"
    },
    {
      "cell_type": "markdown",
      "metadata": {
        "slideshow": {
          "slide_type": "slide"
        }
      },
      "source": "### Constructing the Hamiltonian\n\nMAXCUT is equivalent to the problem below:\n\n$\\max_{\\mathbb{s}}\\sum_{ij\\in E}(-s_is_j)$\n\nWe've seen earlier that the Hamiltonian can be constructed by mapping binary variables $s_i$ onto the eigenvalues of $Z$. For the above maximization problem has the following Hamiltonian:\n\n$\\sum_{ij\\in E}(-Z_iZ_j)$"
    },
    {
      "cell_type": "markdown",
      "metadata": {
        "slideshow": {
          "slide_type": "slide"
        }
      },
      "source": "### Constructing QAOA circuit\n\nCost Hamiltonian: $C = \\sum_{ij\\in E}(-Z_iZ_j)$\n\nThe full QAOA circuit:\n\n$|\\psi{(\\mathbb{\\beta},\\mathbb{\\gamma})}> =  e^{-i\\beta_p B}e^{-i\\gamma_p C}\\cdots e^{-i\\beta_1 B}e^{-i\\gamma_1 C} H^{\\otimes n} |0>$\n\nNeed to implement cost operator $e^{-i\\gamma_p C}$ and mixer operator $e^{-i\\beta_p B}$"
    },
    {
      "cell_type": "markdown",
      "metadata": {
        "slideshow": {
          "slide_type": "slide"
        }
      },
      "source": "### Let's beging by importing everything we'll need later"
    },
    {
      "cell_type": "code",
      "execution_count": 3,
      "metadata": {
        "slideshow": {
          "slide_type": "-"
        },
        "trusted": true
      },
      "outputs": [],
      "source": "# import warnings; warnings.filterwarnings(\"ignore\")\nimport numpy as np\nimport networkx as nx\nimport matplotlib.pyplot as plt\nfrom collections import defaultdict\nfrom operator import itemgetter\nfrom scipy.optimize import minimize\nfrom qiskit import QuantumCircuit, QuantumRegister, ClassicalRegister, execute, Aer\nfrom qiskit.aqua.algorithms import NumPyEigensolver\nfrom qiskit.quantum_info import Pauli\nfrom qiskit.aqua.operators import op_converter\nfrom qiskit.aqua.operators import WeightedPauliOperator"
    },
    {
      "cell_type": "markdown",
      "metadata": {
        "slideshow": {
          "slide_type": "slide"
        }
      },
      "source": "### Consider the following graph"
    },
    {
      "cell_type": "code",
      "execution_count": 4,
      "metadata": {
        "trusted": true
      },
      "outputs": [
        {
          "data": {
            "image/png": "[encoded data removed]",
            "text/plain": "<Figure size 432x288 with 1 Axes>"
          },
          "metadata": {},
          "output_type": "display_data"
        }
      ],
      "source": "G = nx.Graph()\nG.add_edges_from([[0,3],[0,4],[1,3],[1,4],[2,3],[2,4]])\nnx.draw(G, pos=nx.bipartite_layout(G, [0,1,2]))"
    },
    {
      "cell_type": "markdown",
      "metadata": {
        "slideshow": {
          "slide_type": "slide"
        }
      },
      "source": "### We can now build the circuit for cost operator\n\nCost operator $ e^{-i\\gamma_p C} = e^{-i\\gamma_p \\sum_{ij\\in E}(-Z_iZ_j)}$\n\nNote that later we will see how to do this more efficiently in Qiskit"
    },
    {
      "cell_type": "code",
      "execution_count": 5,
      "metadata": {
        "slideshow": {
          "slide_type": "-"
        },
        "trusted": true
      },
      "outputs": [],
      "source": "def append_zz_term(qc, q1, q2, gamma):\n    qc.cx(q1,q2)\n    qc.rz(2*gamma, q2)\n    qc.cx(q1,q2)\n\ndef get_cost_operator_circuit(G, gamma):\n    N = G.number_of_nodes()\n    qc = QuantumCircuit(N,N)\n    for i, j in G.edges():\n        append_zz_term(qc, i, j, gamma)\n    return qc\n    "
    },
    {
      "cell_type": "markdown",
      "metadata": {
        "slideshow": {
          "slide_type": "slide"
        }
      },
      "source": "### Let's verify that our function produces the correct circuit\n\nCost operator $e^{-i\\gamma_p C} = e^{-i\\gamma_p \\sum_{ij\\in E}(-Z_iZ_j)}$"
    },
    {
      "cell_type": "code",
      "execution_count": 6,
      "metadata": {
        "trusted": true
      },
      "outputs": [
        {
          "data": {
            "image/png": "[encoded data removed]",
            "text/plain": "<Figure size 1049.8x385.28 with 1 Axes>"
          },
          "execution_count": 6,
          "metadata": {},
          "output_type": "execute_result"
        }
      ],
      "source": "qc = get_cost_operator_circuit(G, np.pi / 3)\nqc.draw()"
    },
    {
      "cell_type": "markdown",
      "metadata": {
        "slideshow": {
          "slide_type": "slide"
        }
      },
      "source": "### Now we need to build mixer operator\n\nMixer operator: $e^{-i\\beta_p B} = e^{-i\\beta_p \\sum_{i\\in V}X_i} = e^{-i\\beta_p X_0}e^{-i\\beta_p X_1}e^{-i\\beta_p X_2}e^{-i\\beta_p X_3}$"
    },
    {
      "cell_type": "code",
      "execution_count": 7,
      "metadata": {
        "slideshow": {
          "slide_type": "fragment"
        },
        "trusted": true
      },
      "outputs": [],
      "source": "def append_x_term(qc, q1, beta):\n    qc.rx(2*beta, q1)\n\ndef get_mixer_operator_circuit(G, beta):\n    N = G.number_of_nodes()\n    qc = QuantumCircuit(N,N)\n    for n in G.nodes():\n        append_x_term(qc, n, beta)\n    return qc\n"
    },
    {
      "cell_type": "markdown",
      "metadata": {
        "slideshow": {
          "slide_type": "slide"
        }
      },
      "source": "### Let's verify the circuit\n\nMixer operator: $e^{-i\\beta_p B} = e^{-i\\beta_p \\sum_{i\\in V}X_i} = e^{-i\\beta_p X_0}e^{-i\\beta_p X_1}e^{-i\\beta_p X_2}e^{-i\\beta_p X_3}e^{-i\\beta_p X_4}$"
    },
    {
      "cell_type": "code",
      "execution_count": 8,
      "metadata": {
        "trusted": true
      },
      "outputs": [
        {
          "data": {
            "image/png": "[encoded data removed]",
            "text/plain": "<Figure size 146.797x385.28 with 1 Axes>"
          },
          "execution_count": 8,
          "metadata": {},
          "output_type": "execute_result"
        }
      ],
      "source": "qc = get_mixer_operator_circuit(G, np.pi/3)\nqc.draw()"
    },
    {
      "cell_type": "markdown",
      "metadata": {
        "slideshow": {
          "slide_type": "slide"
        }
      },
      "source": "### Now we are ready to build the full circuit\n\n$|\\psi{(\\mathbb{\\beta},\\mathbb{\\gamma})}> =  e^{-i\\beta_p B}e^{-i\\gamma_p C}\\cdots e^{-i\\beta_1 B}e^{-i\\gamma_1 C} H^{\\otimes n} |0>$"
    },
    {
      "cell_type": "code",
      "execution_count": 9,
      "metadata": {
        "trusted": true
      },
      "outputs": [],
      "source": "def get_qaoa_circuit(G, beta, gamma):\n    assert(len(beta) == len(gamma))\n    p = len(beta) # infering number of QAOA steps from the parameters passed\n    N = G.number_of_nodes()\n    qc = QuantumCircuit(N,N)\n    # first, apply a layer of Hadamards\n    qc.h(range(N))\n    # second, apply p alternating operators\n    for i in range(p):\n        qc += get_cost_operator_circuit(G,gamma[i])\n        qc += get_mixer_operator_circuit(G,beta[i])\n    # finally, do not forget to measure the result!\n    qc.barrier(range(N))\n    qc.measure(range(N), range(N))\n    return qc"
    },
    {
      "cell_type": "markdown",
      "metadata": {
        "slideshow": {
          "slide_type": "slide"
        }
      },
      "source": "### Let's verify that circuit looks right\n\n$|\\psi{(\\mathbb{\\beta},\\mathbb{\\gamma})}> =  e^{-i\\beta_p B}e^{-i\\gamma_p C}\\cdots e^{-i\\beta_1 B}e^{-i\\gamma_1 C} H^{\\otimes n} |0>$"
    },
    {
      "cell_type": "code",
      "execution_count": 19,
      "metadata": {
        "trusted": true
      },
      "outputs": [
        {
          "data": {
            "image/png": "[encoded data removed]",
            "text/plain": "<Figure size 1531.4x385.28 with 1 Axes>"
          },
          "execution_count": 19,
          "metadata": {},
          "output_type": "execute_result"
        }
      ],
      "source": "qc = get_qaoa_circuit(G,[np.pi/3], [np.pi/2])\nqc.draw()"
    },
    {
      "cell_type": "markdown",
      "metadata": {
        "slideshow": {
          "slide_type": "slide"
        }
      },
      "source": "### Running a circuit in Qiskit\n\nFor the purposes of this tutorial, we will be running the circuits in simulator. To run your circuits on real IBM quantum computers, all you need to do is change the backend. However, the devices are noisy, so there might be dragons!"
    },
    {
      "cell_type": "markdown",
      "metadata": {
        "slideshow": {
          "slide_type": "fragment"
        }
      },
      "source": "#### Qiskit qubit ordering\n\nNote that Qiskit uses an ordering where zeroth qubit is the rightmost (the least significant bit in the bistring),\nso we need to invert the samples we received"
    },
    {
      "cell_type": "code",
      "execution_count": 20,
      "metadata": {
        "trusted": true
      },
      "outputs": [],
      "source": "def invert_counts(counts):\n    return {k[::-1]:v for k, v in counts.items()}"
    },
    {
      "cell_type": "markdown",
      "metadata": {
        "slideshow": {
          "slide_type": "slide"
        }
      },
      "source": "Now we can run the circuit"
    },
    {
      "cell_type": "code",
      "execution_count": 21,
      "metadata": {
        "slideshow": {
          "slide_type": "-"
        },
        "trusted": true
      },
      "outputs": [
        {
          "name": "stdout",
          "output_type": "stream",
          "text": "{'00000': 22, '10000': 33, '00001': 25, '10001': 32, '01001': 30, '11001': 35, '00101': 32, '10101': 31, '01101': 36, '11101': 24, '00011': 40, '10011': 38, '01011': 43, '11011': 20, '00111': 47, '10111': 41, '01111': 33, '11111': 31, '01000': 31, '11000': 30, '00100': 33, '10100': 26, '01100': 29, '11100': 27, '00010': 30, '10010': 39, '01010': 34, '11010': 33, '00110': 26, '10110': 26, '01110': 39, '11110': 28}\n"
        }
      ],
      "source": "backend = Aer.get_backend('qasm_simulator')\njob = execute(qc, backend)\nresult = job.result()\nprint(invert_counts(result.get_counts()))"
    },
    {
      "cell_type": "markdown",
      "metadata": {
        "slideshow": {
          "slide_type": "slide"
        }
      },
      "source": "### How good were these results?\n\nTo answer that, we need to compute $<\\psi|C|\\psi>$. Luckily, C is a classical Hamiltonian, so we can do this easily. We are going to compute -1 times the value of the cut because by convention classical optimizers minimize (this will come up shortly)."
    },
    {
      "cell_type": "code",
      "execution_count": 22,
      "metadata": {
        "trusted": true
      },
      "outputs": [
        {
          "data": {
            "text/plain": "-6"
          },
          "execution_count": 22,
          "metadata": {},
          "output_type": "execute_result"
        }
      ],
      "source": "def maxcut_obj(x,G):\n    cut = 0\n    for i, j in G.edges():\n        if x[i] != x[j]:\n            # the edge is cut\n            cut -= 1\n    return cut\n\nmaxcut_obj('00011', G)"
    },
    {
      "cell_type": "markdown",
      "metadata": {
        "slideshow": {
          "slide_type": "slide"
        }
      },
      "source": "### Estimate energy from the sample"
    },
    {
      "cell_type": "code",
      "execution_count": 23,
      "metadata": {
        "slideshow": {
          "slide_type": "-"
        },
        "trusted": true
      },
      "outputs": [
        {
          "data": {
            "text/plain": "-3.0625"
          },
          "execution_count": 23,
          "metadata": {},
          "output_type": "execute_result"
        }
      ],
      "source": "def compute_maxcut_energy(counts, G):\n    energy = 0\n    total_counts = 0\n    for meas, meas_count in counts.items():\n        obj_for_meas = maxcut_obj(meas, G)\n        energy += obj_for_meas * meas_count\n        total_counts += meas_count\n    return energy / total_counts\n\ncompute_maxcut_energy(invert_counts(result.get_counts()), G)"
    },
    {
      "cell_type": "markdown",
      "metadata": {
        "slideshow": {
          "slide_type": "slide"
        }
      },
      "source": "### Putting all the pieces together\n\nAs you remember, we run QAOA as a variational algorithm, so we will need a classical optimizer to optimize the parameters $\\beta$, $\\gamma$. We will use Constrained Optimization BY Linear Approximation (COBYLA) from `scipy.optimize`.\n\nWe need to wrap our circuit into a black-box objective function `f` that COBYLA could optimize. Note that by convention all optimizers perform _minimization_, so we had to put a minus sign in front of our objective earlier."
    },
    {
      "cell_type": "code",
      "execution_count": 24,
      "metadata": {
        "trusted": true
      },
      "outputs": [],
      "source": "def get_black_box_objective(G,p):\n    backend = Aer.get_backend('qasm_simulator')\n    def f(theta):\n        # let's assume first half is betas, second half is gammas\n        beta = theta[:p]\n        gamma = theta[p:]\n        qc = get_qaoa_circuit(G,beta, gamma)\n        counts = execute(qc, backend, seed_simulator=10).result().get_counts()\n        # return the energy\n        return compute_maxcut_energy(invert_counts(counts), G)\n    return f"
    },
    {
      "cell_type": "markdown",
      "metadata": {
        "slideshow": {
          "slide_type": "slide"
        }
      },
      "source": "### Now we can run the optimizer to get optimal parameters!"
    },
    {
      "cell_type": "code",
      "execution_count": 25,
      "metadata": {
        "trusted": true
      },
      "outputs": [
        {
          "data": {
            "text/plain": "     fun: -5.2978515625\n   maxcv: 0.0\n message: 'Optimization terminated successfully.'\n    nfev: 134\n  status: 1\n success: True\n       x: array([1.83749394, 2.1345936 , 1.9319531 , 2.09862998, 0.347631  ,\n       2.04618358, 6.11249139, 2.31785137, 3.56479392, 5.87260613])"
          },
          "execution_count": 25,
          "metadata": {},
          "output_type": "execute_result"
        }
      ],
      "source": "# p is the number of QAOA alternating operators\np = 5\nobj = get_black_box_objective(G, p)\n\ninit_point = np.array([0.81069872, 2.2067517 , 0.83830696, 2.15579759, 0.37060699,\n       2.42068091, 6.1575306 , 2.2453419 , 3.85060091, 6.137845  ])\n# We are going to limit the number of iterations to 2500\nres_sample = minimize(obj, init_point, method='COBYLA', options={'maxiter':2500, 'disp': True})\nres_sample"
    },
    {
      "cell_type": "markdown",
      "metadata": {
        "slideshow": {
          "slide_type": "slide"
        }
      },
      "source": "### To get the solution strings, let's run the circuit with optimal parameters"
    },
    {
      "cell_type": "code",
      "execution_count": 26,
      "metadata": {
        "trusted": true
      },
      "outputs": [
        {
          "data": {
            "text/plain": "{'10000': 4,\n '00001': 31,\n '01001': 2,\n '11001': 3,\n '10101': 2,\n '11101': 28,\n '00011': 397,\n '10011': 31,\n '01011': 22,\n '00111': 17,\n '10111': 1,\n '01111': 3,\n '11111': 1,\n '01000': 6,\n '11000': 22,\n '00100': 2,\n '10100': 18,\n '01100': 22,\n '11100': 353,\n '00010': 22,\n '10010': 4,\n '01010': 1,\n '11010': 2,\n '00110': 1,\n '10110': 1,\n '01110': 3,\n '11110': 25}"
          },
          "execution_count": 26,
          "metadata": {},
          "output_type": "execute_result"
        }
      ],
      "source": "optimal_theta = res_sample['x']\nqc = get_qaoa_circuit(G, optimal_theta[:p], optimal_theta[p:])\ncounts = invert_counts(execute(qc, backend).result().get_counts())\ncounts"
    },
    {
      "cell_type": "markdown",
      "metadata": {
        "slideshow": {
          "slide_type": "slide"
        }
      },
      "source": "### How good are there results?"
    },
    {
      "cell_type": "code",
      "execution_count": 27,
      "metadata": {
        "trusted": true
      },
      "outputs": [
        {
          "data": {
            "text/plain": "<BarContainer object of 5 artists>"
          },
          "execution_count": 27,
          "metadata": {},
          "output_type": "execute_result"
        },
        {
          "data": {
            "image/png": "[encoded data removed]",
            "text/plain": "<Figure size 432x288 with 1 Axes>"
          },
          "metadata": {
            "needs_background": "light"
          },
          "output_type": "display_data"
        }
      ],
      "source": "energies = defaultdict(int)\nfor k, v in counts.items():\n    energies[maxcut_obj(k,G)] += v\n\nx,y = zip(*energies.items())\nplt.bar(x,y)"
    },
    {
      "cell_type": "markdown",
      "metadata": {},
      "source": "Pretty good! Most of the results we get correspond to good solutions!"
    },
    {
      "cell_type": "code",
      "execution_count": 28,
      "metadata": {
        "slideshow": {
          "slide_type": "slide"
        },
        "trusted": true
      },
      "outputs": [
        {
          "name": "stdout",
          "output_type": "stream",
          "text": "Best string: 00011 with cut: 6\n"
        },
        {
          "data": {
            "image/png": "[encoded data removed]",
            "text/plain": "<Figure size 432x288 with 1 Axes>"
          },
          "metadata": {},
          "output_type": "display_data"
        }
      ],
      "source": "# get the best solution:\nbest_cut, best_solution = min([(maxcut_obj(x,G),x) for x in counts.keys()], key=itemgetter(0))\nprint(f\"Best string: {best_solution} with cut: {-best_cut}\")\n\n# color the graph nodes by part\ncolors = ['r' if best_solution[node] == '0' else 'b' for node in G]\nnx.draw(G,node_color = colors, pos=nx.bipartite_layout(G, [0,1,2]))"
    },
    {
      "cell_type": "markdown",
      "metadata": {
        "slideshow": {
          "slide_type": "slide"
        }
      },
      "source": "### Using statevector simulator\n\nWhat if you want to get the full QAOA state? Luckily, Qiskit provides `statevector_simulator` backend. \n\n### What is a state vector?\n\nState vector is a vector of amplitudes, e.g.: $\\frac{1}{\\sqrt{2}}\\bigg(|00\\rangle + |11\\rangle\\bigg) \\rightarrow (\\frac{1}{\\sqrt{2}}, 0, 0, \\frac{1}{\\sqrt{2}})$"
    },
    {
      "cell_type": "code",
      "execution_count": 29,
      "metadata": {
        "trusted": true
      },
      "outputs": [
        {
          "data": {
            "text/plain": "array([0.70710678+0.j, 0.        +0.j, 0.        +0.j, 0.70710678+0.j])"
          },
          "execution_count": 29,
          "metadata": {},
          "output_type": "execute_result"
        }
      ],
      "source": "qc = QuantumCircuit(2)\nqc.h(0)\nqc.cx(0,1)\nsv = execute(qc, backend=Aer.get_backend('statevector_simulator')).result().get_statevector()\nsv"
    },
    {
      "cell_type": "markdown",
      "metadata": {
        "slideshow": {
          "slide_type": "slide"
        }
      },
      "source": "Less luckily, qubit ordering considerations still apply. Below are some helper functions we're going to use."
    },
    {
      "cell_type": "code",
      "execution_count": 30,
      "metadata": {
        "trusted": true
      },
      "outputs": [],
      "source": "# Endianness conversion tools from https://github.com/Qiskit/qiskit-terra/issues/1148#issuecomment-438574708\n\nimport numpy as np\n\ndef state_num2str(basis_state_as_num, nqubits):\n    return '{0:b}'.format(basis_state_as_num).zfill(nqubits)\n\ndef state_str2num(basis_state_as_str):\n    return int(basis_state_as_str, 2)\n\ndef state_reverse(basis_state_as_num, nqubits):\n    basis_state_as_str = state_num2str(basis_state_as_num, nqubits)\n    new_str = basis_state_as_str[::-1]\n    return state_str2num(new_str)\n\ndef get_adjusted_state(state):\n    nqubits = np.log2(state.shape[0])\n    if nqubits % 1:\n        raise ValueError(\"Input vector is not a valid statevector for qubits.\")\n    nqubits = int(nqubits)\n\n    adjusted_state = np.zeros(2**nqubits, dtype=complex)\n    for basis_state in range(2**nqubits):\n         adjusted_state[state_reverse(basis_state, nqubits)] = state[basis_state]\n    return adjusted_state"
    },
    {
      "cell_type": "markdown",
      "metadata": {
        "slideshow": {
          "slide_type": "slide"
        }
      },
      "source": "### Running using full-state (`statevector`) simulator\n\nNote that a few things are different when using the full statevector simulator. First, we must not measure. Second, as the result, we get amplitudes instead of samples."
    },
    {
      "cell_type": "code",
      "execution_count": 31,
      "metadata": {
        "trusted": true
      },
      "outputs": [],
      "source": "def get_qaoa_circuit_sv(G, beta, gamma):\n    assert(len(beta) == len(gamma))\n    p = len(beta) # infering number of QAOA steps from the parameters passed\n    N = G.number_of_nodes()\n    qc = QuantumCircuit(N,N)\n    # first, apply a layer of Hadamards\n    qc.h(range(N))\n    # second, apply p alternating operators\n    for i in range(p):\n        qc += get_cost_operator_circuit(G,gamma[i])\n        qc += get_mixer_operator_circuit(G,beta[i])\n    # no measurement in the end!\n    return qc"
    },
    {
      "cell_type": "markdown",
      "metadata": {
        "slideshow": {
          "slide_type": "slide"
        }
      },
      "source": "Second, we need to get which amplitudes correspond to which computational basis states (= binary strings)"
    },
    {
      "cell_type": "code",
      "execution_count": 32,
      "metadata": {
        "trusted": true
      },
      "outputs": [],
      "source": "def state_to_ampl_counts(vec, eps=1e-15):\n    \"\"\"Converts a statevector to a dictionary\n    of bitstrings and corresponding amplitudes\n    \"\"\"\n    qubit_dims = np.log2(vec.shape[0])\n    if qubit_dims % 1:\n        raise ValueError(\"Input vector is not a valid statevector for qubits.\")\n    qubit_dims = int(qubit_dims)\n    counts = {}\n    str_format = '0{}b'.format(qubit_dims)\n    for kk in range(vec.shape[0]):\n        val = vec[kk]\n        if val.real**2+val.imag**2 > eps:\n            counts[format(kk, str_format)] = val\n    return counts\n"
    },
    {
      "cell_type": "markdown",
      "metadata": {
        "slideshow": {
          "slide_type": "slide"
        }
      },
      "source": "Let's try plugging in the optimal parameters we found using the QASM simulator"
    },
    {
      "cell_type": "code",
      "execution_count": 33,
      "metadata": {
        "trusted": true
      },
      "outputs": [
        {
          "data": {
            "text/plain": "{'00000': (0.014279499254842733+0.011623320789211036j),\n '00001': (0.1343820158905131-0.09405829764019868j),\n '00010': (0.13438201589051307-0.09405829764019863j),\n '00011': (-0.016021400960288798-0.6036236563655749j),\n '00100': (-0.053501339525443406+0.006060075992361353j),\n '00101': (-0.036284717358102285-0.010367992306133646j),\n '00110': (-0.036284717358102334-0.010367992306133772j),\n '00111': (-0.062136581172159165+0.1321705184193228j),\n '01000': (-0.05350133952544347+0.006060075992361423j),\n '01001': (-0.036284717358102465-0.010367992306133729j),\n '01010': (-0.03628471735810236-0.010367992306133608j),\n '01011': (-0.06213658117215926+0.1321705184193228j),\n '01100': (-0.062136581172159276+0.1321705184193229j),\n '01101': (-0.03628471735810238-0.010367992306133703j),\n '01110': (-0.036284717358102396-0.010367992306133698j),\n '01111': (-0.053501339525443524+0.006060075992361352j),\n '10000': (-0.05350133952544349+0.006060075992361365j),\n '10001': (-0.03628471735810246-0.010367992306133693j),\n '10010': (-0.03628471735810238-0.01036799230613367j),\n '10011': (-0.06213658117215928+0.13217051841932273j),\n '10100': (-0.062136581172159346+0.1321705184193228j),\n '10101': (-0.03628471735810238-0.010367992306133705j),\n '10110': (-0.036284717358102445-0.010367992306133719j),\n '10111': (-0.053501339525443545+0.006060075992361407j),\n '11000': (-0.0621365811721592+0.13217051841932295j),\n '11001': (-0.0362847173581024-0.010367992306133668j),\n '11010': (-0.036284717358102334-0.010367992306133637j),\n '11011': (-0.05350133952544351+0.006060075992361407j),\n '11100': (-0.016021400960289003-0.603623656365575j),\n '11101': (0.1343820158905132-0.0940582976401987j),\n '11110': (0.13438201589051316-0.09405829764019857j),\n '11111': (0.01427949925484264+0.011623320789211038j)}"
          },
          "execution_count": 33,
          "metadata": {},
          "output_type": "execute_result"
        }
      ],
      "source": "backend = Aer.get_backend('statevector_simulator')\nqc = get_qaoa_circuit_sv(G, optimal_theta[:p], optimal_theta[p:])\nsv = get_adjusted_state(execute(qc, backend).result().get_statevector())\nstate_to_ampl_counts(sv)"
    },
    {
      "cell_type": "markdown",
      "metadata": {
        "slideshow": {
          "slide_type": "slide"
        }
      },
      "source": "### Let's verify that we get the same energy"
    },
    {
      "cell_type": "code",
      "execution_count": 34,
      "metadata": {
        "trusted": true
      },
      "outputs": [
        {
          "data": {
            "text/plain": "-5.2962604856081095"
          },
          "execution_count": 34,
          "metadata": {},
          "output_type": "execute_result"
        }
      ],
      "source": "def compute_maxcut_energy_sv(sv, G):\n    \"\"\"Compute objective from statevector\n    For large number of qubits, this is slow. \n    \"\"\"\n    counts = state_to_ampl_counts(sv)\n    return sum(maxcut_obj(np.array([int(x) for x in k]), G) * (np.abs(v)**2) for k, v in counts.items())\n\ncompute_maxcut_energy_sv(sv, G)"
    },
    {
      "cell_type": "markdown",
      "metadata": {},
      "source": "Yay! Energy matches"
    },
    {
      "cell_type": "markdown",
      "metadata": {
        "slideshow": {
          "slide_type": "slide"
        }
      },
      "source": "### Now, we can run the full optimization loop with the statevector simulator"
    },
    {
      "cell_type": "code",
      "execution_count": 35,
      "metadata": {
        "trusted": true
      },
      "outputs": [],
      "source": "def get_black_box_objective_sv(G,p):\n    backend = Aer.get_backend('statevector_simulator')\n    def f(theta):\n        # let's assume first half is betas, second half is gammas\n        beta = theta[:p]\n        gamma = theta[p:]\n        qc = get_qaoa_circuit_sv(G,beta, gamma)\n        sv = execute(qc, backend).result().get_statevector()\n        # return the energy\n        return compute_maxcut_energy_sv(get_adjusted_state(sv), G)\n    return f"
    },
    {
      "cell_type": "markdown",
      "metadata": {
        "slideshow": {
          "slide_type": "slide"
        }
      },
      "source": "Copying and pasting the code for the `qasm_simulator`..."
    },
    {
      "cell_type": "code",
      "execution_count": 36,
      "metadata": {
        "trusted": true
      },
      "outputs": [
        {
          "data": {
            "text/plain": "     fun: -5.951766437277824\n   maxcv: 0.0\n message: 'Maximum number of function evaluations has been exceeded.'\n    nfev: 2500\n  status: 2\n success: False\n       x: array([2.22756251, 1.9889162 , 1.98299898, 1.81388845, 0.55950043,\n       2.25718027, 6.07302411, 2.40272878, 3.77489696, 6.0364936 ])"
          },
          "execution_count": 36,
          "metadata": {},
          "output_type": "execute_result"
        }
      ],
      "source": "# p is the number of QAOA alternating operators\np = 5\nobj = get_black_box_objective_sv(G, p)\n\ninit_point = np.array([0.81069872, 2.2067517 , 0.83830696, 2.15579759, 0.37060699,\n       2.42068091, 6.1575306 , 2.2453419 , 3.85060091, 6.137845  ])\n# We are going to limit the number of iterations to 2500\nres_sv = minimize(obj, init_point, method='COBYLA', options={'maxiter':2500, 'disp': True})\nres_sv"
    },
    {
      "cell_type": "markdown",
      "metadata": {
        "slideshow": {
          "slide_type": "slide"
        }
      },
      "source": "We get **much better solution** if we have access to the full state vector! In fact, if we run it long enough, we will get arbitratily close to the true optimum (to verify it yourself, try setting `'maxiter':10000` above)"
    },
    {
      "cell_type": "code",
      "execution_count": 38,
      "metadata": {
        "trusted": true
      },
      "outputs": [
        {
          "name": "stdout",
          "output_type": "stream",
          "text": "Best energy with samples: -5.30, with full state vector: -5.95\n"
        }
      ],
      "source": "print(f\"Best energy with samples: {res_sample['fun']:.2f}, with full state vector: {res_sv['fun']:.2f}\")"
    },
    {
      "cell_type": "markdown",
      "metadata": {
        "slideshow": {
          "slide_type": "fragment"
        }
      },
      "source": "This is because with samples we get stuck in a lower quality point:"
    },
    {
      "cell_type": "code",
      "execution_count": 39,
      "metadata": {
        "trusted": true
      },
      "outputs": [
        {
          "name": "stdout",
          "output_type": "stream",
          "text": "Angles found with samples: beta=[1.83749394 2.1345936  1.9319531  2.09862998 0.347631  ], gamma=[2.04618358 6.11249139 2.31785137 3.56479392 5.87260613]\nAngles found with full state: beta=[2.22756251 1.9889162  1.98299898 1.81388845 0.55950043], gamma=[2.25718027 6.07302411 2.40272878 3.77489696 6.0364936 ]\n"
        }
      ],
      "source": "print(f\"Angles found with samples: beta={res_sample['x'][:p]}, gamma={res_sample['x'][p:]}\")\nprint(f\"Angles found with full state: beta={res_sv['x'][:p]}, gamma={res_sv['x'][p:]}\")"
    },
    {
      "cell_type": "markdown",
      "metadata": {},
      "source": "Note that these are two different points!"
    },
    {
      "cell_type": "markdown",
      "metadata": {
        "slideshow": {
          "slide_type": "slide"
        }
      },
      "source": "An important point to make is that this is **not a local minimum** that COBYLA gets stuck in when using the sampling. We can easily verify that by running COBYLA with full state from that point"
    },
    {
      "cell_type": "code",
      "execution_count": 40,
      "metadata": {
        "trusted": true
      },
      "outputs": [
        {
          "data": {
            "text/plain": "     fun: -5.379488009621202\n   maxcv: 0.0\n message: 'Maximum number of function evaluations has been exceeded.'\n    nfev: 50\n  status: 2\n success: False\n       x: array([1.84912811, 2.1430627 , 1.94267686, 2.08362536, 0.36741251,\n       2.04556667, 6.12254338, 2.30958241, 3.57688979, 5.86524965])"
          },
          "execution_count": 40,
          "metadata": {},
          "output_type": "execute_result"
        }
      ],
      "source": "# p is the number of QAOA alternating operators\np = 5\nobj = get_black_box_objective_sv(G, p)\n\ninit_point = res_sample['x']\n# 'rhobeg' controls initial changes to the variables. \n# We set it low to make sure we are searching a small neighborhood of the optimal point\nres_sv2 = minimize(obj, init_point, method='COBYLA', options={'maxiter':50, 'disp': True, 'rhobeg': 0.001})\nres_sv2"
    },
    {
      "cell_type": "markdown",
      "metadata": {},
      "source": "The lesson here is that our simple deterministic optimizers (like COBYLA) assume that *every function value they get is true*. This causes them to thing that a point is a local minimum, when in fact it is not. We have to bake the assumption of stochaisticity into the optimizers we use!"
    },
    {
      "cell_type": "markdown",
      "metadata": {
        "slideshow": {
          "slide_type": "slide"
        }
      },
      "source": "### That was pretty involved! Is there an easier way?\n\nSo far we have effectively reimplemented the entire stack of tools used in Qiskit. Wasn't too bad, huh? Note that you can fairly easily do the above in any framework you prefer (Google cirq, Rigetti PyQuil, ...), all you need to learn is how to apply gates. What follows is more specific to IBM Qiskit (though not entirely).\n\nLuckily, you don't have to reimplement QAOA every time you want to use it (though I do recommend doing it at least once to understand what's going on!)\n\nQiskit provides a number of tools for optimization, some as simple to use as plugging your graph into a declarative interface. Today we're going to look at some of them. I have copied and pasted some of the code from Qiskit here for educational purposes."
    },
    {
      "cell_type": "markdown",
      "metadata": {
        "slideshow": {
          "slide_type": "slide"
        }
      },
      "source": "### Recap\n\nTo solve MAXCUT we had to do the following:\n\n1. Choose a problem class (maxcut) and a problem instance (graph)\n2. Come up with a general Hamiltonian for the problem class\n3. Build specific Hamiltonian for the problem instance\n4. From the Hamiltonian, construct QAOA circuit\n5. Wrap QAOA circuit in a black box function\n6. Optimize QAOA parameters\n7. Get solution by running QAOA circuit with optimal parameters"
    },
    {
      "cell_type": "markdown",
      "metadata": {
        "slideshow": {
          "slide_type": "slide"
        }
      },
      "source": "### Qiskit to help!\n\nLet's see how Qiskit can help us with steps 3 and 4:\n\n\n1. Choose a problem class (maxcut) and a problem instance (graph)\n2. Come up with a general Hamiltonian for the problem class\n3. **Build specific Hamiltonian for the problem instance**\n4. **From the Hamiltonian, construct QAOA circuit**\n5. Wrap QAOA circuit in a black box function\n6. Optimize QAOA parameters\n7. Get solution by running QAOA circuit with optimal parameters"
    },
    {
      "cell_type": "markdown",
      "metadata": {
        "slideshow": {
          "slide_type": "fragment"
        }
      },
      "source": "### Building the circuit in Qiskit\n\nFirst thing we're going to try is to use Qiskit tools to build circuit instead of building it by hand. To do that, we will have to construct a Hamiltonian object and pass it to QAOA class initializer."
    },
    {
      "cell_type": "markdown",
      "metadata": {
        "slideshow": {
          "slide_type": "slide"
        }
      },
      "source": "### Building the Hamiltonian in Qiskit\n\nQiskit uses weird notation that we will not get into"
    },
    {
      "cell_type": "code",
      "execution_count": 41,
      "metadata": {
        "trusted": true
      },
      "outputs": [],
      "source": "# copied from qiskit.optimization.ising.max_cut\n\ndef get_cost_operator(weight_matrix):\n    \"\"\"Generate Hamiltonian for the max-cut problem of a graph.\n    Args:\n        weight_matrix (numpy.ndarray) : adjacency matrix.\n    Returns:\n        WeightedPauliOperator: operator for the Hamiltonian\n        float: a constant shift for the obj function.\n    \"\"\"\n    num_nodes = weight_matrix.shape[0]\n    pauli_list = []\n    shift = 0\n    for i in range(num_nodes):\n        for j in range(i):\n            if weight_matrix[i, j] != 0:\n                x_p = np.zeros(num_nodes, dtype=np.bool)\n                z_p = np.zeros(num_nodes, dtype=np.bool)\n                z_p[i] = True\n                z_p[j] = True\n                pauli_list.append([0.5 * weight_matrix[i, j], Pauli(z_p, x_p)])\n                shift -= 0.5 * weight_matrix[i, j]\n    return WeightedPauliOperator(paulis=pauli_list), shift"
    },
    {
      "cell_type": "markdown",
      "metadata": {
        "slideshow": {
          "slide_type": "slide"
        }
      },
      "source": "### First, let's construct a Hamiltonian \n\nRecall the MAXCUT objective is $\\max_{\\mathbb{s}}\\frac{1}{2}\\sum_{ij\\in E}(1-s_is_j) = \\max_{\\mathbb{s}}\\frac{1}{2}\\sum_{ij\\in E}(-s_is_j) + const$. Qiskit conveniently takes care of the constant in form of offset.\n\nCorresponding Hamiltonian is $\\frac{1}{2}\\sum_{ij\\in E}(-Z_iZ_j)$, but Qiskit by convention always searches for the _ground_ state, so the sign is flipped."
    },
    {
      "cell_type": "code",
      "execution_count": 42,
      "metadata": {
        "trusted": true
      },
      "outputs": [
        {
          "name": "stdout",
          "output_type": "stream",
          "text": "IZIIZ\t(0.5+0j)\nIZIZI\t(0.5+0j)\nIZZII\t(0.5+0j)\nZIIIZ\t(0.5+0j)\nZIIZI\t(0.5+0j)\nZIZII\t(0.5+0j)\n\n"
        }
      ],
      "source": "w = nx.adjacency_matrix(G, nodelist=range(G.number_of_nodes())) # have to pass nodelist so the columns are ordered properly\nC, offset = get_cost_operator(w)\nprint(C.print_details())"
    },
    {
      "cell_type": "markdown",
      "metadata": {},
      "source": "Looks correct!"
    },
    {
      "cell_type": "markdown",
      "metadata": {
        "slideshow": {
          "slide_type": "slide"
        }
      },
      "source": "### Verifying that Hamiltonian is correct\n\nRecall that since \"Hamiltonian\" is just a fancy word for matrix*, we can find its ground state (lowest eigenvalue eigenvector) classically with any eigensolver. We can use Qiskit `NumPyEigensolver`, which in is just a wrapper around `np.linalg.eig` and `scisparse.linalg.eigs`\n\n*not really"
    },
    {
      "cell_type": "markdown",
      "metadata": {
        "slideshow": {
          "slide_type": "slide"
        }
      },
      "source": "### Let's run NumPyEigensolver on our Hamiltonian (Hermitian matrix)"
    },
    {
      "cell_type": "code",
      "execution_count": 43,
      "metadata": {
        "slideshow": {
          "slide_type": "-"
        },
        "trusted": true
      },
      "outputs": [
        {
          "data": {
            "text/plain": "{'eigenvalues': array([-3.+0.j]), 'eigenstates': ListOp([VectorStateFn(Statevector([0.+0.j, 0.+0.j, 0.+0.j, 0.+0.j, 0.+0.j, 0.+0.j, 0.+0.j,\n             0.+0.j, 0.+0.j, 0.+0.j, 0.+0.j, 0.+0.j, 0.+0.j, 0.+0.j,\n             0.+0.j, 0.+0.j, 0.+0.j, 0.+0.j, 0.+0.j, 0.+0.j, 0.+0.j,\n             0.+0.j, 0.+0.j, 0.+0.j, 1.+0.j, 0.+0.j, 0.+0.j, 0.+0.j,\n             0.+0.j, 0.+0.j, 0.+0.j, 0.+0.j],\n            dims=(2, 2, 2, 2, 2)), coeff=1.0, is_measurement=False)], coeff=1.0, abelian=False)}"
          },
          "execution_count": 43,
          "metadata": {},
          "output_type": "execute_result"
        }
      ],
      "source": "ee = NumPyEigensolver(C, k=1) # k=1 means lowest eigenvalue and eigenvector\n\nresult = ee.run()\nresult"
    },
    {
      "cell_type": "markdown",
      "metadata": {
        "slideshow": {
          "slide_type": "slide"
        }
      },
      "source": "### Now, we need to convert the eigenvectors of $2^n\\times 2^n$ matrix into solutions to our MAXCUT problem (vectors of size $n$)\n\nLuckily, Qiskit has a function for that!"
    },
    {
      "cell_type": "code",
      "execution_count": 44,
      "metadata": {
        "trusted": true
      },
      "outputs": [
        {
          "name": "stdout",
          "output_type": "stream",
          "text": "Solution: [0 0 0 1 1] with cut: [-6.+0.j]\n"
        }
      ],
      "source": "from qiskit.optimization.applications.ising.common import sample_most_likely\nprint(f\"Solution: {sample_most_likely(result['eigenstates'][0])} with cut: {result['eigenvalues']+offset}\")\n"
    },
    {
      "cell_type": "markdown",
      "metadata": {},
      "source": "And it's a correct solution. So we've built our Hamiltonian correctly. Note that you can use the same process (building a Hamiltonian, running ExactEigensolver on it) in prototyping your own algorithms."
    },
    {
      "cell_type": "markdown",
      "metadata": {
        "slideshow": {
          "slide_type": "slide"
        }
      },
      "source": "### Q: Can I build my Hamiltonian as a matrix?\n\nYes you can! Let's try doing it it for the same five-node graph:\n\n$C=\\frac{1}{2}\\sum_{ij\\in E}Z_iZ_i = \\frac{1}{2}(Z_0Z_3 + Z_0Z_4 + Z_1Z_3 + Z_1Z_4 + Z_2Z_3 + Z_2Z_4) = \\frac{1}{2}(Z\\otimes I \\otimes I \\otimes Z \\otimes I + Z\\otimes I \\otimes I \\otimes I \\otimes Z + I\\otimes Z \\otimes I \\otimes Z \\otimes I + I\\otimes Z \\otimes I \\otimes I \\otimes Z + I\\otimes I \\otimes Z \\otimes Z \\otimes I + I\\otimes I \\otimes Z \\otimes I \\otimes Z)$"
    },
    {
      "cell_type": "code",
      "execution_count": 45,
      "metadata": {
        "trusted": true
      },
      "outputs": [],
      "source": "I = np.eye(2,2)\nZ = np.array([[1.,0.], [0.,-1.]])\n\nZ0Z3 = np.kron(np.kron(np.kron(np.kron(Z,I), I), Z), I)\nZ0Z4 = np.kron(np.kron(np.kron(np.kron(Z,I), I), I), Z)\nZ1Z3 = np.kron(np.kron(np.kron(np.kron(I,Z), I), Z), I)\nZ1Z4 = np.kron(np.kron(np.kron(np.kron(I,Z), I), I), Z)\nZ2Z3 = np.kron(np.kron(np.kron(np.kron(I,I), Z), Z), I)\nZ2Z4 = np.kron(np.kron(np.kron(np.kron(I,I), Z), I), Z)\n\nC_numpy = 0.5 * (Z0Z3 + Z0Z4 + Z1Z3 + Z1Z4 + Z2Z3 + Z2Z4)"
    },
    {
      "cell_type": "markdown",
      "metadata": {},
      "source": "PS If you know a better way of doing this -- please let me know!"
    },
    {
      "cell_type": "markdown",
      "metadata": {
        "slideshow": {
          "slide_type": "slide"
        }
      },
      "source": "### Let's check that the Hamiltonian we've built is correct\n\nNo shenanigans here -- just numpy."
    },
    {
      "cell_type": "code",
      "execution_count": 46,
      "metadata": {
        "trusted": true
      },
      "outputs": [
        {
          "name": "stdout",
          "output_type": "stream",
          "text": "Solution: [1. 1. 0. 0. 0.] with cut: -6.0\n"
        }
      ],
      "source": "# Get eigenvalues and eigenvectors\neigval, eigvec = np.linalg.eig(C_numpy)\n# Sort eigenvalues\nidx = eigval.argsort()\n# Get lowest\nlowest_eigval = eigval[idx][0]\nlowest_eigvec = eigvec[idx][0]\n# Only need qiskit to convert eigenvector into the solution to our problem\nprint(f\"Solution: {sample_most_likely(lowest_eigvec)} with cut: {lowest_eigval+offset}\")"
    },
    {
      "cell_type": "markdown",
      "metadata": {},
      "source": "And this is correct!"
    },
    {
      "cell_type": "markdown",
      "metadata": {
        "slideshow": {
          "slide_type": "slide"
        }
      },
      "source": "### Constructing QAOA circuit for our Hamiltonian\n\nQiskit provides a class that constructs QAOA circuit for us from a Hamiltonian. \n\nThe abstraction Qiskit uses for this is \"Variational Form\". Roughly speaking, variational form is just a parameterized circuit that prepares some parameterized state $\\psi(\\theta)$. For QAOA, as you might recall, this parameterized state is:\n\n$$  \\begin{aligned} \n    |\\psi{(\\mathbb{\\theta})}> & = |\\psi{(\\mathbb{\\beta},\\mathbb{\\gamma})}>\\\\\n    &=  e^{-i\\beta_p B}e^{-i\\gamma_p C}\\cdots e^{-i\\beta_1 B}e^{-i\\gamma_1 C} H^{\\otimes n} |0>.\n  \\end{aligned} $$"
    },
    {
      "cell_type": "code",
      "execution_count": 47,
      "metadata": {
        "trusted": true
      },
      "outputs": [],
      "source": "from qiskit.aqua.algorithms.minimum_eigen_solvers.qaoa.var_form import QAOAVarForm\n\np = 5\nvar_form = QAOAVarForm(C.to_opflow(), p)"
    },
    {
      "cell_type": "markdown",
      "metadata": {
        "slideshow": {
          "slide_type": "slide"
        }
      },
      "source": "### Constructing QAOA circuit for our Hamiltonian (cont'd)\n\nTo construct circuit, we need to pass the parameters $\\mathbb{\\beta}, \\mathbb{\\gamma}$ to the variational form."
    },
    {
      "cell_type": "code",
      "execution_count": 48,
      "metadata": {
        "trusted": true
      },
      "outputs": [
        {
          "name": "stdout",
          "output_type": "stream",
          "text": "{'00000': 41, '00001': 14, '10000': 41, '10001': 34, '10010': 36, '10011': 34, '10100': 48, '10101': 37, '10110': 40, '10111': 27, '11000': 21, '11001': 34, '11010': 45, '11011': 8, '11100': 40, '11101': 12, '11110': 10, '11111': 37, '00010': 13, '00011': 30, '00100': 15, '00101': 44, '00110': 44, '00111': 30, '01000': 35, '01001': 33, '01010': 48, '01011': 37, '01100': 41, '01101': 38, '01110': 25, '01111': 32}\n"
        }
      ],
      "source": "N = G.number_of_nodes()\n\n# Lower and upper bounds: beta \\in {0, pi}, gamma \\in {0, 2*pi}\nlb = np.zeros(2*p)\nub = np.hstack([np.full(p, np.pi), np.full(p, 2*np.pi)])\nrandom_point = np.random.uniform(lb, ub, 2*p)\n\n# Build the circuit\nqc = var_form.construct_circuit(random_point)\n\n# Don't forget to measure! This requires a little hack\nif not qc.cregs:\n    c = ClassicalRegister(N, name='c')\n    qc.add_register(c)\nqc.measure(qc.qregs[0], qc.cregs[0])\n# And run\nbackend = Aer.get_backend('qasm_simulator')\ncounts = execute(qc, backend).result().get_counts()\nprint(counts)\n"
    },
    {
      "cell_type": "markdown",
      "metadata": {
        "slideshow": {
          "slide_type": "slide"
        }
      },
      "source": "### Let's compare Qiskit circuit with the one we constructed earlier\n\nNote that Qiskit uses Hamiltonian $C = \\frac{1}{2}\\sum_{ij\\in E}(-Z_iZ_j)$, so we will have to add a factor of $\\frac{1}{2}$ to our parameters gamma to match our circuit"
    },
    {
      "cell_type": "code",
      "execution_count": 49,
      "metadata": {
        "trusted": true
      },
      "outputs": [
        {
          "data": {
            "image/png": "[encoded data removed]",
            "text/plain": "<Figure size 1170.2x385.28 with 1 Axes>"
          },
          "execution_count": 49,
          "metadata": {},
          "output_type": "execute_result"
        }
      ],
      "source": "qc_our = get_qaoa_circuit_sv(G,[np.pi/3], [np.pi/2])\nqc_our.draw()"
    },
    {
      "cell_type": "code",
      "execution_count": 50,
      "metadata": {
        "scrolled": false,
        "slideshow": {
          "slide_type": "fragment"
        },
        "trusted": true
      },
      "outputs": [
        {
          "data": {
            "image/png": "[encoded data removed]",
            "text/plain": "<Figure size 1290.6x325.08 with 1 Axes>"
          },
          "execution_count": 50,
          "metadata": {},
          "output_type": "execute_result"
        }
      ],
      "source": "from qiskit.compiler import transpile\nvar_form_qiskit = QAOAVarForm(C.to_opflow(), 1)\nqc_qiskit = var_form_qiskit.construct_circuit([2*np.pi, 2*np.pi/3])\ncircuit_qiskit = transpile(qc_qiskit, optimization_level=0,basis_gates=['rz', 'rx', 'h', 'cx'])\ncircuit_qiskit.draw()"
    },
    {
      "cell_type": "markdown",
      "metadata": {
        "slideshow": {
          "slide_type": "slide"
        }
      },
      "source": "### Yay! The two match"
    },
    {
      "cell_type": "markdown",
      "metadata": {
        "slideshow": {
          "slide_type": "slide"
        }
      },
      "source": "### Confirming two circuits produce the same unitary (up to global phase)"
    },
    {
      "cell_type": "code",
      "execution_count": 51,
      "metadata": {
        "trusted": true
      },
      "outputs": [
        {
          "name": "stdout",
          "output_type": "stream",
          "text": "False\n"
        }
      ],
      "source": "def equal_up_to_global_phase(sv1, sv2):\n    nnz = np.nonzero((sv1 != 0) & (sv2 != 0))  \n    phase = sv1[nnz] / sv2[nnz]\n    return np.all(np.isclose(phase, phase[0]))\n\n# to get rid of numerical errors\ndef remove_vals_smaller_than_eps(a, eps=10*np.finfo(np.float).eps):\n    a.real[abs(a.real) < eps] = 0.0\n    a.imag[abs(a.imag) < eps] = 0.0\n    return a\n\nbackend = Aer.get_backend(\"unitary_simulator\")\nunitary_our = remove_vals_smaller_than_eps(execute(qc_our, backend=backend).result().get_unitary())\nunitary_qiskit = remove_vals_smaller_than_eps(execute(qc_qiskit, backend=backend).result().get_unitary())\nprint(equal_up_to_global_phase(unitary_our, unitary_qiskit))"
    },
    {
      "cell_type": "markdown",
      "metadata": {
        "slideshow": {
          "slide_type": "slide"
        }
      },
      "source": "### Q: what if I want to use the Hamiltonian that I've built in numpy?\n\nYou can do that too! All you need to do is to convert it to Qiskit object"
    },
    {
      "cell_type": "code",
      "execution_count": 52,
      "metadata": {
        "trusted": true
      },
      "outputs": [
        {
          "name": "stdout",
          "output_type": "stream",
          "text": "type of C_numpy is <class 'numpy.ndarray'>\n"
        },
        {
          "data": {
            "text/plain": "<qiskit.aqua.algorithms.minimum_eigen_solvers.qaoa.var_form.QAOAVarForm at 0x7f03eb466eb0>"
          },
          "execution_count": 52,
          "metadata": {},
          "output_type": "execute_result"
        }
      ],
      "source": "print(f\"type of C_numpy is {type(C_numpy)}\")\n\nfrom qiskit.aqua.operators import MatrixOperator\nC_converted = MatrixOperator(C_numpy)\n\n# Now we can use it!\nvar_form = QAOAVarForm(C_converted.to_opflow(), p)\nvar_form"
    },
    {
      "cell_type": "markdown",
      "metadata": {
        "slideshow": {
          "slide_type": "slide"
        }
      },
      "source": "### Q: Okay, but we still have to wrap it into objective and pass it to optimizer, which is a lot of work! Can Qiskit do that for me too?\n\nYes! The reason I'm leaving it to the end of the tutorial is that it looks nice and clean, but it might not be flexible enough for a researcher like yourself. Moreover, the cleanliness of the interface hides a lot of underlying complexity (as you've seen earlier) and introduces some limitations. One of such limitations is that you have to work with optimizers supported by Qiskit (though it's fairly easy to add a new one). The main point is that qiskit is open source, so you can always modify it to suit your needs! "
    },
    {
      "cell_type": "code",
      "execution_count": 53,
      "metadata": {
        "scrolled": true,
        "trusted": true
      },
      "outputs": [
        {
          "name": "stderr",
          "output_type": "stream",
          "text": "Evolved Hamiltonian is not composed of only MatrixOps, converting to Matrix representation, which can be expensive.\nEvolved Hamiltonian is not composed of only MatrixOps, converting to Matrix representation, which can be expensive.\nEvolved Hamiltonian is not composed of only MatrixOps, converting to Matrix representation, which can be expensive.\nEvolved Hamiltonian is not composed of only MatrixOps, converting to Matrix representation, which can be expensive.\nEvolved Hamiltonian is not composed of only MatrixOps, converting to Matrix representation, which can be expensive.\n"
        },
        {
          "name": "stdout",
          "output_type": "stream",
          "text": "Traceback \u001b[1;36m(most recent call last)\u001b[0m:\n  File \u001b[0;32m\"<ipython-input-53-10ead2314bc9>\"\u001b[0m, line \u001b[0;32m8\u001b[0m, in \u001b[0;35m<module>\u001b[0m\n    result = qaoa.run(backend)\n  File \u001b[0;32m\"/opt/conda/lib/python3.8/site-packages/qiskit/aqua/algorithms/quantum_algorithm.py\"\u001b[0m, line \u001b[0;32m71\u001b[0m, in \u001b[0;35mrun\u001b[0m\n    return self._run()\n  File \u001b[0;32m\"/opt/conda/lib/python3.8/site-packages/qiskit/aqua/algorithms/minimum_eigen_solvers/vqe.py\"\u001b[0m, line \u001b[0;32m429\u001b[0m, in \u001b[0;35m_run\u001b[0m\n    vqresult = self.find_minimum(initial_point=self.initial_point,\n  File \u001b[0;32m\"/opt/conda/lib/python3.8/site-packages/qiskit/aqua/algorithms/vq_algorithm.py\"\u001b[0m, line \u001b[0;32m209\u001b[0m, in \u001b[0;35mfind_minimum\u001b[0m\n    opt_params, opt_val, num_optimizer_evals = optimizer.optimize(nparms,\n  File \u001b[0;32m\"/opt/conda/lib/python3.8/site-packages/qiskit/aqua/components/optimizers/cobyla.py\"\u001b[0m, line \u001b[0;32m71\u001b[0m, in \u001b[0;35moptimize\u001b[0m\n    res = minimize(objective_function, initial_point, tol=self._tol,\n  File \u001b[0;32m\"/opt/conda/lib/python3.8/site-packages/scipy/optimize/_minimize.py\"\u001b[0m, line \u001b[0;32m625\u001b[0m, in \u001b[0;35mminimize\u001b[0m\n    return _minimize_cobyla(fun, x0, args, constraints, **options)\n  File \u001b[0;32m\"/opt/conda/lib/python3.8/site-packages/scipy/optimize/cobyla.py\"\u001b[0m, line \u001b[0;32m34\u001b[0m, in \u001b[0;35mwrapper\u001b[0m\n    return func(*args, **kwargs)\n  File \u001b[0;32m\"/opt/conda/lib/python3.8/site-packages/scipy/optimize/cobyla.py\"\u001b[0m, line \u001b[0;32m260\u001b[0m, in \u001b[0;35m_minimize_cobyla\u001b[0m\n    xopt, info = _cobyla.minimize(calcfc, m=m, x=np.copy(x0), rhobeg=rhobeg,\n  File \u001b[0;32m\"/opt/conda/lib/python3.8/site-packages/scipy/optimize/cobyla.py\"\u001b[0m, line \u001b[0;32m252\u001b[0m, in \u001b[0;35mcalcfc\u001b[0m\n    f = fun(x, *args)\n  File \u001b[0;32m\"/opt/conda/lib/python3.8/site-packages/qiskit/aqua/algorithms/minimum_eigen_solvers/vqe.py\"\u001b[0m, line \u001b[0;32m525\u001b[0m, in \u001b[0;35m_energy_evaluation\u001b[0m\n    sampled_expect_op = self._circuit_sampler.convert(self._expect_op, params=param_bindings)\n  File \u001b[0;32m\"/opt/conda/lib/python3.8/site-packages/qiskit/aqua/operators/converters/circuit_sampler.py\"\u001b[0m, line \u001b[0;32m205\u001b[0m, in \u001b[0;35mconvert\u001b[0m\n    sampled_statefn_dicts = self.sample_circuits(circuit_sfns=circs,\n  File \u001b[0;32m\"/opt/conda/lib/python3.8/site-packages/qiskit/aqua/operators/converters/circuit_sampler.py\"\u001b[0m, line \u001b[0;32m292\u001b[0m, in \u001b[0;35msample_circuits\u001b[0m\n    results = self.quantum_instance.execute(ready_circs,\n  File \u001b[0;32m\"/opt/conda/lib/python3.8/site-packages/qiskit/aqua/quantum_instance.py\"\u001b[0m, line \u001b[0;32m398\u001b[0m, in \u001b[0;35mexecute\u001b[0m\n    result = run_qobj(qobj, self._backend, self._qjob_config,\n\u001b[1;36m  File \u001b[1;32m\"/opt/conda/lib/python3.8/site-packages/qiskit/aqua/utils/run_circuits.py\"\u001b[1;36m, line \u001b[1;32m334\u001b[1;36m, in \u001b[1;35mrun_qobj\u001b[1;36m\u001b[0m\n\u001b[1;33m    raise AquaError('Circuit execution failed: {}'.format(msg))\u001b[0m\n\u001b[1;31mAquaError\u001b[0m\u001b[1;31m:\u001b[0m 'Circuit execution failed: ERROR: Failed to load qobj: Invalid parameterized qobj: instruction param position out of range'\n\nUse %tb to get the full traceback.\n"
        },
        {
          "data": {
            "text/html": "\n<style>\n.button {\n  border: none;\n  color: white;\n  padding: 4px 8px;\n  text-align: center;\n  text-decoration: none;\n  display: inline-block;\n  font-size: 12px;\n  margin: 4px 2px;\n  transition-duration: 0.2s;\n  cursor: pointer;\n}\n.iqx-button {\n  background-color: #0f62fe; \n  color: white; \n}\n.iqx-button:hover {\n  background-color: #0043ce;\n  color: white;\n}\n</style>\n<a href=\"https://stackoverflow.com/search?q=AquaError: Circuit execution failed: ERROR: Failed to load qobj: Invalid parameterized qobj: instruction param position out of range\" target='_blank'><button class='button iqx-button'>Search for solution online</button></a>\n",
            "text/plain": "<IPython.core.display.HTML object>"
          },
          "metadata": {},
          "output_type": "display_data"
        }
      ],
      "source": "from qiskit.aqua.algorithms.minimum_eigen_solvers import QAOA\nfrom qiskit.aqua.components.optimizers import COBYLA\nfrom qiskit.optimization.applications.ising import max_cut\n\ncobyla = COBYLA(maxiter=1000)\nqaoa = QAOA(C_converted, cobyla, p=5)\nbackend = Aer.get_backend('qasm_simulator')\nresult = qaoa.run(backend)\n\nx = sample_most_likely(result['eigenstate'])\nprint('final maxcut energy:', result['eigenvalue'] + offset)\nprint('solution:', x)"
    },
    {
      "cell_type": "code",
      "execution_count": null,
      "metadata": {
        "trusted": true
      },
      "outputs": [],
      "source": ""
    }
  ],
  "metadata": {
    "celltoolbar": "Slideshow",
    "kernelspec": {
      "display_name": "Python 3",
      "language": "python",
      "name": "python3"
    },
    "language_info": {
      "codemirror_mode": {
        "name": "ipython",
        "version": 3
      },
      "file_extension": ".py",
      "mimetype": "text/x-python",
      "name": "python",
      "nbconvert_exporter": "python",
      "pygments_lexer": "ipython3",
      "version": "3.8.6"
    }
  },
  "nbformat": 4,
  "nbformat_minor": 2
}