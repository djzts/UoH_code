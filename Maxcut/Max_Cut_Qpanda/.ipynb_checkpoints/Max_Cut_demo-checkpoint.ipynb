{
 "cells": [
  {
   "cell_type": "markdown",
   "metadata": {},
   "source": [
    "# prepare the data\n",
    "# 准备数据"
   ]
  },
  {
   "cell_type": "code",
   "execution_count": 20,
   "metadata": {},
   "outputs": [],
   "source": [
    "import pyqpanda as q \n",
    "import numpy as np\n",
    "from pyqpanda import *"
   ]
  },
  {
   "cell_type": "code",
   "execution_count": 21,
   "metadata": {},
   "outputs": [],
   "source": [
    "#define our problem\n",
    "problem = {'Z0 Z4':0.73,\n",
    "           'Z0 Z5':0.73,\n",
    "           'Z0 Z6':0.73,\n",
    "           'Z1 Z4':0.73,\n",
    "           'Z1 Z5':0.73,\n",
    "           'Z2 Z5':0.73,\n",
    "           'Z2 Z6':0.73,\n",
    "           'Z3 Z5':0.73,\n",
    "           'Z4 Z6':0.73,}"
   ]
  },
  {
   "cell_type": "markdown",
   "metadata": {},
   "source": [
    "<img src = 'Qmap.png' width = '1000'>"
   ]
  },
  {
   "cell_type": "markdown",
   "metadata": {},
   "source": [
    "# 定义量子线路 "
   ]
  },
  {
   "cell_type": "code",
   "execution_count": 28,
   "metadata": {},
   "outputs": [],
   "source": [
    "#def q map 定义量子线路\n",
    "def oneCircuit(qlist, Hamiltontian, beta, gamma): #def 一组量子BIT 一组hamilton的数据 beta and gamma\n",
    "    vqc = q.VariationalQuantumCircuit()\n",
    "    for i in range(len(Hamiltontian)):\n",
    "        temp_vec = []  #临时数组记录当前的 表达式.\n",
    "        item = Hamiltonian[i]\n",
    "        dictionary_p = item[0] #一个字典 表达量子比特的索引\n",
    "        for iter in dictionary_p:\n",
    "            if 'Z' != dict_p[iter]:  #简单判断字典是否属于泡利Z门\n",
    "                pass\n",
    "            tmp_vec.append(qlist[iter])  # 如果是,则记录该量子BIT\n",
    "        coef = item[1] #记录edge 的各自权重\n",
    "        \n",
    "        if 2 != len(temp_vec):  #判断每个表达式使用的逻辑门的bit数是否为两个\n",
    "            pass    #不是就pass掉\n",
    "        \n",
    "        vqc.insert(q.VaritaionalQuantumGate_CNOT(temp_vec[0], temp_vec[1]))  #插入gate 变量1是控制bit 变量2是受控BIT\n",
    "        vqc.insert(q.VaritaionalQuantumGate_RZ(temp_vec[1], 2 * gamma * coef))  \n",
    "        vqc.insert(q.VaritaionalQuantumGate_CNOT(temp_vec[0], temp_vec[1]))  #插入gate 变量1是控制bit 变量2是受控BIT\n",
    "        \n",
    "    for j in qlist:\n",
    "        vqc.insert(q.VaritaionalQuantumGate_RX(j, 2 * bata))\n",
    "                \n",
    "    return vqc    "
   ]
  },
  {
   "cell_type": "markdown",
   "metadata": {},
   "source": [
    "# 算法实现"
   ]
  },
  {
   "cell_type": "code",
   "execution_count": 29,
   "metadata": {},
   "outputs": [
    {
     "ename": "NameError",
     "evalue": "name 'Hamiltonian' is not defined",
     "output_type": "error",
     "traceback": [
      "\u001b[1;31m---------------------------------------------------------------------------\u001b[0m",
      "\u001b[1;31mNameError\u001b[0m                                 Traceback (most recent call last)",
      "\u001b[1;32m<ipython-input-29-19666f72b553>\u001b[0m in \u001b[0;36m<module>\u001b[1;34m\u001b[0m\n\u001b[0;32m     16\u001b[0m \u001b[1;33m\u001b[0m\u001b[0m\n\u001b[0;32m     17\u001b[0m \u001b[1;32mfor\u001b[0m \u001b[0mi\u001b[0m \u001b[1;32min\u001b[0m \u001b[0mrange\u001b[0m\u001b[1;33m(\u001b[0m\u001b[0mstep\u001b[0m\u001b[1;33m)\u001b[0m\u001b[1;33m:\u001b[0m\u001b[1;33m\u001b[0m\u001b[1;33m\u001b[0m\u001b[0m\n\u001b[1;32m---> 18\u001b[1;33m     \u001b[0mvqc\u001b[0m\u001b[1;33m.\u001b[0m\u001b[0minsert\u001b[0m\u001b[1;33m(\u001b[0m\u001b[0moneCircuit\u001b[0m\u001b[1;33m(\u001b[0m\u001b[0mqlist\u001b[0m\u001b[1;33m,\u001b[0m \u001b[0mHp\u001b[0m\u001b[1;33m.\u001b[0m\u001b[0mtoHamiltonian\u001b[0m\u001b[1;33m(\u001b[0m\u001b[1;36m1\u001b[0m\u001b[1;33m)\u001b[0m\u001b[1;33m,\u001b[0m \u001b[0mbeta\u001b[0m\u001b[1;33m[\u001b[0m\u001b[0mi\u001b[0m\u001b[1;33m]\u001b[0m\u001b[1;33m,\u001b[0m \u001b[0mgamma\u001b[0m\u001b[1;33m[\u001b[0m\u001b[0mi\u001b[0m\u001b[1;33m]\u001b[0m\u001b[1;33m)\u001b[0m\u001b[1;33m)\u001b[0m\u001b[1;33m\u001b[0m\u001b[1;33m\u001b[0m\u001b[0m\n\u001b[0m\u001b[0;32m     19\u001b[0m \u001b[1;33m\u001b[0m\u001b[0m\n\u001b[0;32m     20\u001b[0m \u001b[0mloss\u001b[0m \u001b[1;33m=\u001b[0m \u001b[0mq\u001b[0m\u001b[1;33m.\u001b[0m\u001b[0mpop\u001b[0m\u001b[1;33m(\u001b[0m\u001b[0mvqc\u001b[0m\u001b[1;33m,\u001b[0m \u001b[0mHp\u001b[0m\u001b[1;33m,\u001b[0m \u001b[0mmachine\u001b[0m\u001b[1;33m.\u001b[0m \u001b[0mqlist\u001b[0m\u001b[1;33m)\u001b[0m\u001b[1;33m\u001b[0m\u001b[1;33m\u001b[0m\u001b[0m\n",
      "\u001b[1;32m<ipython-input-28-7fb63f039f9f>\u001b[0m in \u001b[0;36moneCircuit\u001b[1;34m(qlist, Hamiltontian, beta, gamma)\u001b[0m\n\u001b[0;32m      2\u001b[0m \u001b[1;32mdef\u001b[0m \u001b[0moneCircuit\u001b[0m\u001b[1;33m(\u001b[0m\u001b[0mqlist\u001b[0m\u001b[1;33m,\u001b[0m \u001b[0mHamiltontian\u001b[0m\u001b[1;33m,\u001b[0m \u001b[0mbeta\u001b[0m\u001b[1;33m,\u001b[0m \u001b[0mgamma\u001b[0m\u001b[1;33m)\u001b[0m\u001b[1;33m:\u001b[0m \u001b[1;31m#def 一组量子BIT 一组hamilton的数据 beta and gamma\u001b[0m\u001b[1;33m\u001b[0m\u001b[1;33m\u001b[0m\u001b[0m\n\u001b[0;32m      3\u001b[0m     \u001b[0mvqc\u001b[0m \u001b[1;33m=\u001b[0m \u001b[0mq\u001b[0m\u001b[1;33m.\u001b[0m\u001b[0mVariationalQuantumCircuit\u001b[0m\u001b[1;33m(\u001b[0m\u001b[1;33m)\u001b[0m\u001b[1;33m\u001b[0m\u001b[1;33m\u001b[0m\u001b[0m\n\u001b[1;32m----> 4\u001b[1;33m     \u001b[1;32mfor\u001b[0m \u001b[0mi\u001b[0m \u001b[1;32min\u001b[0m \u001b[0mrange\u001b[0m\u001b[1;33m(\u001b[0m\u001b[0mlen\u001b[0m\u001b[1;33m(\u001b[0m\u001b[0mHamiltonian\u001b[0m\u001b[1;33m)\u001b[0m\u001b[1;33m)\u001b[0m\u001b[1;33m:\u001b[0m\u001b[1;33m\u001b[0m\u001b[1;33m\u001b[0m\u001b[0m\n\u001b[0m\u001b[0;32m      5\u001b[0m         \u001b[0mtemp_vec\u001b[0m \u001b[1;33m=\u001b[0m \u001b[1;33m[\u001b[0m\u001b[1;33m]\u001b[0m  \u001b[1;31m#临时数组记录当前的 表达式.\u001b[0m\u001b[1;33m\u001b[0m\u001b[1;33m\u001b[0m\u001b[0m\n\u001b[0;32m      6\u001b[0m         \u001b[0mitem\u001b[0m \u001b[1;33m=\u001b[0m \u001b[0mHamiltonian\u001b[0m\u001b[1;33m[\u001b[0m\u001b[0mi\u001b[0m\u001b[1;33m]\u001b[0m\u001b[1;33m\u001b[0m\u001b[1;33m\u001b[0m\u001b[0m\n",
      "\u001b[1;31mNameError\u001b[0m: name 'Hamiltonian' is not defined"
     ]
    }
   ],
   "source": [
    "Hp = q.PauliOperator(problem)\n",
    "qubit_num = Hp.getMaxIndex()\n",
    "\n",
    "machine = q.init_quantum_machine(QMachineType.CPU)\n",
    "qlist = machine.qAlloc_many(qubit_num)\n",
    "\n",
    "step = 2\n",
    "\n",
    "beta = q.var(np.ones((step, 1), dtype = 'float64'), True)\n",
    "gamma = q.var(np.ones((step, 1), dtype = 'float64'), True)\n",
    "\n",
    "vqc = q.VariationalQuantumCircuit()\n",
    "\n",
    "for i in qlist:\n",
    "    vqc.insert(q.VariationalQuantumGate_H(i))\n",
    "    \n",
    "for i in range(step):\n",
    "    vqc.insert(oneCircuit(qlist, Hp.toHamiltonian(1), beta[i], gamma[i]))\n",
    "\n",
    "loss = q.pop(vqc, Hp, machine. qlist)\n",
    "\n",
    "optimizer = q.MomentumOptimizer.minimize(loss, 0.02, 0.9)\n",
    "\n",
    "leaves = optimizer.get_variables()\n",
    "\n",
    "for i in range(100):\n",
    "    loss_value = optimizer.get_loss()\n",
    "    print(\"i:\",i,\"loss:\",loss_value)\n",
    "    \n",
    "\n",
    "    "
   ]
  },
  {
   "cell_type": "code",
   "execution_count": null,
   "metadata": {},
   "outputs": [],
   "source": []
  }
 ],
 "metadata": {
  "kernelspec": {
   "display_name": "Python 3",
   "language": "python",
   "name": "python3"
  },
  "language_info": {
   "codemirror_mode": {
    "name": "ipython",
    "version": 3
   },
   "file_extension": ".py",
   "mimetype": "text/x-python",
   "name": "python",
   "nbconvert_exporter": "python",
   "pygments_lexer": "ipython3",
   "version": "3.8.6"
  }
 },
 "nbformat": 4,
 "nbformat_minor": 4
}
