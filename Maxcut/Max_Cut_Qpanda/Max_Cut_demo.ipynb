{
 "cells": [
  {
   "cell_type": "markdown",
   "metadata": {},
   "source": [
    "# prepare the data\n",
    "# 准备数据"
   ]
  },
  {
   "cell_type": "code",
   "execution_count": 8,
   "metadata": {},
   "outputs": [],
   "source": [
    "import pyqpanda as q \n",
    "import numpy as np\n",
    "from pyqpanda import *\n",
    "from tqdm.notebook import tqdm"
   ]
  },
  {
   "cell_type": "markdown",
   "metadata": {},
   "source": [
    "<img src = 'Q_question.png' width = '1000'>"
   ]
  },
  {
   "cell_type": "code",
   "execution_count": 2,
   "metadata": {},
   "outputs": [],
   "source": [
    "#define our problem\n",
    "problem = {'Z0 Z4':0.73,\n",
    "           'Z0 Z5':0.33,\n",
    "           'Z0 Z6':0.5,\n",
    "           'Z1 Z4':0.69,\n",
    "           'Z1 Z5':0.36,\n",
    "           'Z2 Z5':0.88,\n",
    "           'Z2 Z6':0.58,\n",
    "           'Z3 Z5':0.67,\n",
    "           'Z4 Z6':0.43,}"
   ]
  },
  {
   "cell_type": "markdown",
   "metadata": {},
   "source": [
    "<img src = 'Qmap.png' width = '1000'>"
   ]
  },
  {
   "cell_type": "markdown",
   "metadata": {},
   "source": [
    "# 定义量子线路 "
   ]
  },
  {
   "cell_type": "code",
   "execution_count": 3,
   "metadata": {},
   "outputs": [],
   "source": [
    "#def q map 定义量子线路\n",
    "def oneCircuit(qlist, Hamiltontian, beta, gamma): #def 一组量子BIT 一组hamilton的数据 beta and gamma\n",
    "    vqc = q.VariationalQuantumCircuit()\n",
    "    for i in range(len(Hamiltontian)):\n",
    "        temp_vec = []  #临时数组记录当前的 表达式.\n",
    "        item = Hamiltontian[i]\n",
    "        dictionary_p = item[0] #一个字典 表达量子比特的索引\n",
    "        for iter in dictionary_p:\n",
    "            if 'Z' != dictionary_p[iter]:  #简单判断字典是否属于泡利Z门\n",
    "                pass\n",
    "            temp_vec.append(qlist[iter])  # 如果是,则记录该量子BIT\n",
    "        coef = item[1] #记录edge 的各自权重\n",
    "        \n",
    "        if 2 != len(temp_vec):  #判断每个表达式使用的逻辑门的bit数是否为两个\n",
    "            pass    #不是就pass掉\n",
    "        \n",
    "        vqc.insert(q.VariationalQuantumGate_CNOT(temp_vec[0], temp_vec[1]))  #插入gate 变量1是控制bit 变量2是受控BIT\n",
    "        vqc.insert(q.VariationalQuantumGate_RZ(temp_vec[1], 2 * gamma * coef))  \n",
    "        vqc.insert(q.VariationalQuantumGate_CNOT(temp_vec[0], temp_vec[1]))  #插入gate 变量1是控制bit 变量2是受控BIT\n",
    "        \n",
    "    for j in qlist:\n",
    "        vqc.insert(q.VariationalQuantumGate_RX(j, 2 * beta))\n",
    "                \n",
    "    return vqc    "
   ]
  },
  {
   "cell_type": "markdown",
   "metadata": {},
   "source": [
    "# 算法实现"
   ]
  },
  {
   "cell_type": "code",
   "execution_count": 9,
   "metadata": {},
   "outputs": [
    {
     "data": {
      "application/vnd.jupyter.widget-view+json": {
       "model_id": "699f9115581b46c0a4ad28cffccfcfc9",
       "version_major": 2,
       "version_minor": 0
      },
      "text/plain": [
       "HBox(children=(HTML(value=''), FloatProgress(value=0.0), HTML(value='')))"
      ]
     },
     "metadata": {},
     "output_type": "display_data"
    },
    {
     "name": "stdout",
     "output_type": "stream",
     "text": [
      "\n"
     ]
    }
   ],
   "source": [
    "Hp = q.PauliOperator(problem)\n",
    "qubit_num = Hp.getMaxIndex()\n",
    "trial_num = 100\n",
    "Loss = np.zeros(trial_num)\n",
    "\n",
    "#machine = q.init_quantum_machine(QMachineType.CPU)\n",
    "machine = q.init_quantum_machine(QMachineType.CPU)\n",
    "qlist = machine.qAlloc_many(qubit_num)\n",
    "\n",
    "step = 2\n",
    "\n",
    "beta = q.var(np.ones((step, 1), dtype = 'float64'), True)\n",
    "gamma = q.var(np.ones((step, 1), dtype = 'float64'), True)\n",
    "\n",
    "vqc = q.VariationalQuantumCircuit()\n",
    "\n",
    "for i in qlist:\n",
    "    vqc.insert(q.VariationalQuantumGate_H(i))\n",
    "    \n",
    "for i in range(step):\n",
    "    vqc.insert(oneCircuit(qlist, Hp.toHamiltonian(1), beta[i], gamma[i]))\n",
    "\n",
    "loss = q.qop(vqc, Hp, machine, qlist)\n",
    "\n",
    "optimizer = q.MomentumOptimizer.minimize(loss, 0.02, 0.9)\n",
    "\n",
    "leaves = optimizer.get_variables()\n",
    "\n",
    "for i in tqdm(range(trial_num),\"Trail time\"):\n",
    "    loss_value = optimizer.get_loss()\n",
    "    Loss[i] = loss_value\n",
    "    #print(\"i:\",i,\"loss:\",loss_value)\n",
    "    optimizer.run(leaves, 0)\n",
    "\n",
    "    "
   ]
  },
  {
   "cell_type": "code",
   "execution_count": 10,
   "metadata": {},
   "outputs": [
    {
     "data": {
      "image/png": "[encoded data removed]",
      "text/plain": [
       "<Figure size 432x288 with 1 Axes>"
      ]
     },
     "metadata": {
      "needs_background": "light"
     },
     "output_type": "display_data"
    }
   ],
   "source": [
    "import matplotlib.pyplot as plt\n",
    "plt.plot(Loss)\n",
    "plt.ylabel('loss_rate')\n",
    "plt.xlabel('trail_time')\n",
    "plt.show()"
   ]
  },
  {
   "cell_type": "markdown",
   "metadata": {},
   "source": [
    "# 结果验证"
   ]
  },
  {
   "cell_type": "code",
   "execution_count": 41,
   "metadata": {},
   "outputs": [],
   "source": [
    "prog=q.QProg()\n",
    "circuit = vqc.feed()\n",
    "prog.insert(circuit)\n",
    "q.directly_run(prog)\n",
    "\n",
    "result = q.quick_measure(qlist, trial_num)"
   ]
  },
  {
   "cell_type": "code",
   "execution_count": 42,
   "metadata": {},
   "outputs": [],
   "source": [
    "q_candidate = []\n",
    "q_occurance = []\n",
    "q_result = result.keys()\n",
    "for item in q_result:\n",
    "    q_candidate.append(item)\n",
    "    q_occurance.append(result[item])"
   ]
  },
  {
   "cell_type": "code",
   "execution_count": 43,
   "metadata": {},
   "outputs": [
    {
     "data": {
      "text/plain": [
       "Text(0.5, 0, 'Occurance')"
      ]
     },
     "execution_count": 43,
     "metadata": {},
     "output_type": "execute_result"
    },
    {
     "data": {
      "image/png": "[encoded data removed]",
      "text/plain": [
       "<Figure size 432x864 with 1 Axes>"
      ]
     },
     "metadata": {
      "needs_background": "light"
     },
     "output_type": "display_data"
    }
   ],
   "source": [
    "plt.figure(figsize = (6,12))\n",
    "plt.barh(q_candidate, q_occurance, height=0.5, align='center')\n",
    "plt.grid(True)\n",
    "plt.xlabel('Occurance')"
   ]
  },
  {
   "cell_type": "code",
   "execution_count": null,
   "metadata": {},
   "outputs": [],
   "source": []
  }
 ],
 "metadata": {
  "kernelspec": {
   "display_name": "Python 3",
   "language": "python",
   "name": "python3"
  },
  "language_info": {
   "codemirror_mode": {
    "name": "ipython",
    "version": 3
   },
   "file_extension": ".py",
   "mimetype": "text/x-python",
   "name": "python",
   "nbconvert_exporter": "python",
   "pygments_lexer": "ipython3",
   "version": "3.8.6"
  }
 },
 "nbformat": 4,
 "nbformat_minor": 4
}
