{
 "cells": [
  {
   "cell_type": "code",
   "execution_count": 107,
   "id": "61d84554",
   "metadata": {},
   "outputs": [
    {
     "data": {
      "text/html": [
       "<style>.container { width:100% !important; }</style>"
      ],
      "text/plain": [
       "<IPython.core.display.HTML object>"
      ]
     },
     "metadata": {},
     "output_type": "display_data"
    },
    {
     "name": "stdout",
     "output_type": "stream",
     "text": [
      "[StructuredSolver(id='DW_2000Q_6'), StructuredSolver(id='Advantage_system6.1'), StructuredSolver(id='Advantage2_prototype1.1'), StructuredSolver(id='Advantage_system4.1')]\n"
     ]
    }
   ],
   "source": [
    "%run Function_set_dic_cqm_new.ipynb\n",
    "import networkx as nx\n",
    "import numpy as np\n",
    "from collections import defaultdict\n",
    "import random\n",
    "from numpy import random\n",
    "import matplotlib.pyplot as plt\n",
    "\n",
    "from dwave.cloud import Client\n",
    "client = Client.from_config(token='DEV-a3f87cd2fb51d10601c4e8bd16114d92614fc291')     \n",
    "print(client.get_solvers() )\n",
    "\n",
    "import dimod\n",
    "from dwave.system import LeapHybridSampler\n",
    "import pandas as pd\n",
    "\n",
    "# load json module\n",
    "import json\n",
    "import time"
   ]
  },
  {
   "cell_type": "code",
   "execution_count": 89,
   "id": "d42e3d2b",
   "metadata": {},
   "outputs": [],
   "source": [
    "i = 0\n",
    "network_list = []\n",
    "while i < 10:\n",
    "    #print(network_list)\n",
    "    \n",
    "    network,pos = Make_Question(3,3,Density = 0.85, option = \"1-norm\", distance = 2)\n",
    "    #print(pos)\n",
    "    \n",
    "    if not any(np.array_equal(network, j) for j in network_list):\n",
    "        network_list.append(network)\n",
    "        np.save(f\"testbench_case/network_{i}\", network)\n",
    "        np.save(f\"testbench_case/pos_{i}\", pos)\n",
    "        i+= 1\n",
    "        "
   ]
  },
  {
   "cell_type": "code",
   "execution_count": 116,
   "id": "de9d2b39",
   "metadata": {},
   "outputs": [
    {
     "data": {
      "text/html": [
       "<style>.container { width:100% !important; }</style>"
      ],
      "text/plain": [
       "<IPython.core.display.HTML object>"
      ]
     },
     "metadata": {},
     "output_type": "display_data"
    },
    {
     "name": "stdout",
     "output_type": "stream",
     "text": [
      "graph0-try0\n",
      "0 feasible solutions of 31.\n",
      "None\n"
     ]
    }
   ],
   "source": [
    "%run Function_set_dic_cqm_new.ipynb\n",
    "time =  np.zeros((10,3,3))\n",
    "count = 0\n",
    "\n",
    "#for i in range(1):\n",
    "#    for j in range(3):\n",
    "while count < 1:\n",
    "\n",
    "        i = count // 3\n",
    "        j = count % 3\n",
    "        \n",
    "        print(f\"graph{i}-try{j}\")\n",
    "        \n",
    "        network = np.load(f\"testbench_case/network_{i}.npy\")\n",
    "        pos = np.load(f\"testbench_case/pos_{i}.npy\", allow_pickle=True).item()\n",
    "        \n",
    "        \n",
    "        G, compelete_label = complete_Graph(network,pos)\n",
    "        \n",
    "        Q = len(pos)-1\n",
    "        # How many edges\n",
    "        edge_number = len(compelete_label)\n",
    "\n",
    "\n",
    "        # basic_cost shape => (1,number_of_edge)\n",
    "        # such as : basic_cost = np.vstack(np.ones(number_of_edge))\n",
    "        # test case : #basic_cost = np.arange(edge_number)\n",
    "\n",
    "        basic_cost = np.ones(edge_number) * 1\n",
    "        \n",
    "        # flow cost (p)\n",
    "        flow_cost = np.ones(edge_number) \n",
    "        \n",
    "        p = 1\n",
    "\n",
    "        # make dictionary\n",
    "        edge_dictionary, Total = make_dictionary(edge_number, Q)\n",
    "\n",
    "        # initialize a QUBO matrix needed\n",
    "        QUBO_matrix_initial = np.zeros((Total, Total))\n",
    "        \n",
    "        x = [[dimod.Binary(f'x_{m}_{n}') for n in range(1,Q+1)] for m in range(edge_number)]\n",
    "        \n",
    "        cqm = dimod.ConstrainedQuadraticModel()\n",
    "        \n",
    "        c_e = (np.tile(np.vstack(basic_cost),(1,Q + 1))).flatten()\n",
    "        \n",
    "        level_coeff = (np.tile(np.arange(1,Q + 1),(edge_number,1))).flatten()\n",
    "\n",
    "        cqm.set_objective((sum(basic_cost[i] * sum(x[i][j] for j in range(Q)) for i in range(edge_number)) + p * sum(c_e[m] * sum(n * x[m][n] for n in range(Q)) for m in range(edge_number)) ) )\n",
    "        \n",
    "        \n",
    "        ## C 1\n",
    "        for vertex in range(1, Q + 1):\n",
    "    \n",
    "            index = constraint_1(network, Q, edge_dictionary, compelete_label, vertex)\n",
    "\n",
    "            cqm.add_constraint( sum( sum(x[i][j] for j in range(Q)) for i in index) == 1, label=f'constraint_1_vertex_{vertex}')\n",
    "        \n",
    "        ## C 2\n",
    "        for vertex in range(1, Q + 1):\n",
    "\n",
    "            index_out, index_in = constraint_2(network, Q, edge_dictionary, compelete_label, vertex)\n",
    "\n",
    "            cqm.add_constraint( sum(sum( (j+1) * x[i][j] for j in range(Q)) for i in index_out) - sum( sum( (n+1) * x[m][n] for n in range(Q)) for m in index_in)  == 1, label=f'constraint_2_vertex_{vertex}')\n",
    "        \n",
    "        ## C 3\n",
    "        for level in range(Q):\n",
    "            if level == 2:\n",
    "                cqm.add_constraint( sum(x[m][level]  for m in range(Q)) >= 1, label=f'constraint_3_left_{level}')\n",
    "            else:\n",
    "                cqm.add_constraint( sum(x[m][level]  for m in range(Q)) >= 0, label=f'constraint_3_left_{level}')\n",
    "\n",
    "            #cqm.add_constraint( sum(x[m][level]  for m in range(Q)) <= Q, label=f'constraint_3_right_{level}')\n",
    "        \n",
    "        from dwave.system import LeapHybridCQMSampler\n",
    "        sampler = LeapHybridCQMSampler()   \n",
    "        \n",
    "        sampleset = sampler.sample_cqm(cqm, label=f\"Solar Panel Strategy - model{i} - try{j}\")\n",
    "        \n",
    "        print(\"{} feasible solutions of {}.\".format(sampleset.record.is_feasible.sum(), len(sampleset)))\n",
    "        \n",
    "        if sampleset.record.is_feasible.sum() > 0:\n",
    "            time[i,j,0] =  sampleset['qpu_access_time']\n",
    "            time[i,j,1] =  sampleset['charge_time']\n",
    "            time[i,j,2] =  sampleset['run_time'] \n",
    "        else:\n",
    "            time[i,j,0] =  -1\n",
    "            time[i,j,1] =  -1\n",
    "            time[i,j,2] =  -1\n",
    "            break\n",
    "        \n",
    "        time.sleep(5)\n",
    "        \n",
    "        count += 1 \n",
    "        \n",
    "np.save(\"dwave-33-time\",time)   \n",
    "        \n",
    "        "
   ]
  },
  {
   "cell_type": "code",
   "execution_count": 71,
   "id": "9cce963a",
   "metadata": {},
   "outputs": [
    {
     "ename": "AttributeError",
     "evalue": "'builtin_function_or_method' object has no attribute 'item'",
     "output_type": "error",
     "traceback": [
      "\u001b[1;31m---------------------------------------------------------------------------\u001b[0m",
      "\u001b[1;31mAttributeError\u001b[0m                            Traceback (most recent call last)",
      "\u001b[1;32m<ipython-input-71-63554da9c670>\u001b[0m in \u001b[0;36m<module>\u001b[1;34m\u001b[0m\n\u001b[1;32m----> 1\u001b[1;33m \u001b[0mpos\u001b[0m\u001b[1;33m.\u001b[0m\u001b[0mitem\u001b[0m\u001b[1;33m\u001b[0m\u001b[1;33m\u001b[0m\u001b[0m\n\u001b[0m",
      "\u001b[1;31mAttributeError\u001b[0m: 'builtin_function_or_method' object has no attribute 'item'"
     ]
    }
   ],
   "source": [
    "pos.item"
   ]
  },
  {
   "cell_type": "code",
   "execution_count": 110,
   "id": "e404abb6",
   "metadata": {},
   "outputs": [
    {
     "name": "stdout",
     "output_type": "stream",
     "text": [
      "0 0\n",
      "0 1\n",
      "1 0\n",
      "1 1\n"
     ]
    }
   ],
   "source": [
    "for i in range(2):\n",
    "    for j in range(4):\n",
    "        print(i,j)\n",
    "        if j == 1:\n",
    "            break"
   ]
  }
 ],
 "metadata": {
  "kernelspec": {
   "display_name": "Python 3",
   "language": "python",
   "name": "python3"
  },
  "language_info": {
   "codemirror_mode": {
    "name": "ipython",
    "version": 3
   },
   "file_extension": ".py",
   "mimetype": "text/x-python",
   "name": "python",
   "nbconvert_exporter": "python",
   "pygments_lexer": "ipython3",
   "version": "3.8.6"
  }
 },
 "nbformat": 4,
 "nbformat_minor": 5
}
