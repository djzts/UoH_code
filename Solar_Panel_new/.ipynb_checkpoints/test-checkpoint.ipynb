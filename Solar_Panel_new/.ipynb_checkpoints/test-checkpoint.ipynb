{
 "cells": [
  {
   "cell_type": "code",
   "execution_count": 2,
   "id": "7d81e3d6",
   "metadata": {},
   "outputs": [
    {
     "data": {
      "text/html": [
       "<style>.container { width:100% !important; }</style>"
      ],
      "text/plain": [
       "<IPython.core.display.HTML object>"
      ]
     },
     "metadata": {},
     "output_type": "display_data"
    }
   ],
   "source": [
    "%run Function_set_dic.ipynb\n",
    "import networkx as nx\n",
    "import numpy as np\n",
    "from collections import defaultdict\n",
    "import random\n",
    "from numpy import random\n",
    "import matplotlib.pyplot as plt"
   ]
  },
  {
   "cell_type": "code",
   "execution_count": 3,
   "id": "df6770aa",
   "metadata": {},
   "outputs": [],
   "source": [
    "import dimod"
   ]
  },
  {
   "cell_type": "code",
   "execution_count": 6,
   "id": "287f98f8",
   "metadata": {},
   "outputs": [],
   "source": [
    "weights = [.9, .7, .2, .1]\n",
    "capacity = 1\n",
    "\n",
    "y = [dimod.Binary(f'y_{j}') for j in range(len(weights))]\n",
    "\n",
    "x = [[dimod.Binary(f'x_{i}_{j}') for j in range(len(weights))] for i in range(len(weights))]"
   ]
  },
  {
   "cell_type": "code",
   "execution_count": 7,
   "id": "67868ba6",
   "metadata": {},
   "outputs": [],
   "source": [
    "cqm = dimod.ConstrainedQuadraticModel()"
   ]
  },
  {
   "cell_type": "code",
   "execution_count": 9,
   "id": "72bf69a8",
   "metadata": {},
   "outputs": [],
   "source": [
    "cqm.set_objective(sum(y))"
   ]
  },
  {
   "cell_type": "code",
   "execution_count": null,
   "id": "ba033e77",
   "metadata": {},
   "outputs": [],
   "source": [
    "for i in range(len(weights)):\n",
    "    cqm.add_constraint(sum(x[i]) == 1, label=f'item_placing_{i}')"
   ]
  }
 ],
 "metadata": {
  "kernelspec": {
   "display_name": "Python 3",
   "language": "python",
   "name": "python3"
  },
  "language_info": {
   "codemirror_mode": {
    "name": "ipython",
    "version": 3
   },
   "file_extension": ".py",
   "mimetype": "text/x-python",
   "name": "python",
   "nbconvert_exporter": "python",
   "pygments_lexer": "ipython3",
   "version": "3.8.6"
  }
 },
 "nbformat": 4,
 "nbformat_minor": 5
}
