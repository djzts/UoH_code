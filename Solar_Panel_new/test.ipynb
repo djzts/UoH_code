{
 "cells": [
  {
   "cell_type": "code",
   "execution_count": 2,
   "id": "9bb63c88",
   "metadata": {},
   "outputs": [
    {
     "data": {
      "text/html": [
       "<style>.container { width:100% !important; }</style>"
      ],
      "text/plain": [
       "<IPython.core.display.HTML object>"
      ]
     },
     "metadata": {},
     "output_type": "display_data"
    }
   ],
   "source": [
    "%run Function_set_dic.ipynb\n",
    "import networkx as nx\n",
    "import numpy as np\n",
    "from collections import defaultdict\n",
    "import random\n",
    "from numpy import random\n",
    "import matplotlib.pyplot as plt"
   ]
  },
  {
   "cell_type": "code",
   "execution_count": 14,
   "id": "9d9d17bf",
   "metadata": {},
   "outputs": [],
   "source": [
    "import dimod\n",
    ">>> from dwave.system import LeapHybridCQMSampler\n",
    ">>> sampler = LeapHybridCQMSampler()     "
   ]
  },
  {
   "cell_type": "code",
   "execution_count": 15,
   "id": "85d90870",
   "metadata": {},
   "outputs": [],
   "source": [
    "weights = [.9, .7, .2, .1]\n",
    "capacity = 1\n",
    "\n",
    "y = [dimod.Binary(f'y_{j}') for j in range(len(weights))]\n",
    "\n",
    "x = [[dimod.Binary(f'x_{i}_{j}') for j in range(len(weights))] for i in range(len(weights))]"
   ]
  },
  {
   "cell_type": "code",
   "execution_count": 16,
   "id": "d9159af0",
   "metadata": {},
   "outputs": [],
   "source": [
    "cqm = dimod.ConstrainedQuadraticModel()"
   ]
  },
  {
   "cell_type": "code",
   "execution_count": 17,
   "id": "bb3e0928",
   "metadata": {},
   "outputs": [],
   "source": [
    "cqm.set_objective(sum(y))"
   ]
  },
  {
   "cell_type": "code",
   "execution_count": 18,
   "id": "304a439a",
   "metadata": {},
   "outputs": [],
   "source": [
    "for i in range(len(weights)):\n",
    "    cqm.add_constraint(sum(x[i]) == 1, label=f'item_placing_{i}')"
   ]
  },
  {
   "cell_type": "code",
   "execution_count": 19,
   "id": "21d60d51",
   "metadata": {},
   "outputs": [],
   "source": [
    "for j in range(len(weights)):\n",
    "...     cqm.add_constraint(\n",
    "...         sum(weights[i] * x[i][j] for i in range(len(weights))) - y[j] * capacity <= 0,\n",
    "...         label=f'capacity_bin_{j}')"
   ]
  },
  {
   "cell_type": "code",
   "execution_count": 20,
   "id": "e5b2a615",
   "metadata": {},
   "outputs": [],
   "source": [
    "sampleset = sampler.sample_cqm(cqm,\n",
    "...                                time_limit=60,\n",
    "...                                label=\"SDK Examples - Stock-Selling Strategy\")  "
   ]
  },
  {
   "cell_type": "code",
   "execution_count": 21,
   "id": "bc3643df",
   "metadata": {},
   "outputs": [
    {
     "name": "stdout",
     "output_type": "stream",
     "text": [
      "40 feasible solutions of 61.\n"
     ]
    }
   ],
   "source": [
    "print(\"{} feasible solutions of {}.\".format(\n",
    "...       sampleset.record.is_feasible.sum(), len(sampleset)))   "
   ]
  },
  {
   "cell_type": "code",
   "execution_count": 22,
   "id": "eef94a78",
   "metadata": {},
   "outputs": [
    {
     "name": "stdout",
     "output_type": "stream",
     "text": [
      "QuadraticModel({'y_0': 1.0, 'y_1': 1.0, 'y_2': 1.0, 'y_3': 1.0, 'x_0_0': 0.0, 'x_0_1': 0.0, 'x_0_2': 0.0, 'x_0_3': 0.0, 'x_1_0': 0.0, 'x_1_1': 0.0, 'x_1_2': 0.0, 'x_1_3': 0.0, 'x_2_0': 0.0, 'x_2_1': 0.0, 'x_2_2': 0.0, 'x_2_3': 0.0, 'x_3_0': 0.0, 'x_3_1': 0.0, 'x_3_2': 0.0, 'x_3_3': 0.0}, {}, 0.0, {'y_0': 'BINARY', 'y_1': 'BINARY', 'y_2': 'BINARY', 'y_3': 'BINARY', 'x_0_0': 'BINARY', 'x_0_1': 'BINARY', 'x_0_2': 'BINARY', 'x_0_3': 'BINARY', 'x_1_0': 'BINARY', 'x_1_1': 'BINARY', 'x_1_2': 'BINARY', 'x_1_3': 'BINARY', 'x_2_0': 'BINARY', 'x_2_1': 'BINARY', 'x_2_2': 'BINARY', 'x_2_3': 'BINARY', 'x_3_0': 'BINARY', 'x_3_1': 'BINARY', 'x_3_2': 'BINARY', 'x_3_3': 'BINARY'}, dtype='float64')\n"
     ]
    }
   ],
   "source": [
    "a = getattr(cqm,'_objective')\n",
    "print(getattr(cqm,'_objective'))"
   ]
  },
  {
   "cell_type": "code",
   "execution_count": 23,
   "id": "594e49ca",
   "metadata": {},
   "outputs": [
    {
     "name": "stdout",
     "output_type": "stream",
     "text": [
      "{'item_placing_0': BinaryQuadraticModel({'x_0_0': 1.0, 'x_0_1': 1.0, 'x_0_2': 1.0, 'x_0_3': 1.0}, {}, 0.0, 'BINARY') == 1, 'item_placing_1': BinaryQuadraticModel({'x_1_0': 1.0, 'x_1_1': 1.0, 'x_1_2': 1.0, 'x_1_3': 1.0}, {}, 0.0, 'BINARY') == 1, 'item_placing_2': BinaryQuadraticModel({'x_2_0': 1.0, 'x_2_1': 1.0, 'x_2_2': 1.0, 'x_2_3': 1.0}, {}, 0.0, 'BINARY') == 1, 'item_placing_3': BinaryQuadraticModel({'x_3_0': 1.0, 'x_3_1': 1.0, 'x_3_2': 1.0, 'x_3_3': 1.0}, {}, 0.0, 'BINARY') == 1, 'capacity_bin_0': BinaryQuadraticModel({'x_0_0': 0.9, 'x_1_0': 0.7, 'x_2_0': 0.2, 'x_3_0': 0.1, 'y_0': -1.0}, {}, -0.0, 'BINARY') <= 0, 'capacity_bin_1': BinaryQuadraticModel({'x_0_1': 0.9, 'x_1_1': 0.7, 'x_2_1': 0.2, 'x_3_1': 0.1, 'y_1': -1.0}, {}, -0.0, 'BINARY') <= 0, 'capacity_bin_2': BinaryQuadraticModel({'x_0_2': 0.9, 'x_1_2': 0.7, 'x_2_2': 0.2, 'x_3_2': 0.1, 'y_2': -1.0}, {}, -0.0, 'BINARY') <= 0, 'capacity_bin_3': BinaryQuadraticModel({'x_0_3': 0.9, 'x_1_3': 0.7, 'x_2_3': 0.2, 'x_3_3': 0.1, 'y_3': -1.0}, {}, -0.0, 'BINARY') <= 0}\n"
     ]
    }
   ],
   "source": [
    "a = getattr(cqm,'_constraints')\n",
    "print(getattr(cqm,'_constraints'))"
   ]
  },
  {
   "cell_type": "code",
   "execution_count": null,
   "id": "5b9877c9",
   "metadata": {},
   "outputs": [],
   "source": []
  }
 ],
 "metadata": {
  "kernelspec": {
   "display_name": "Python 3",
   "language": "python",
   "name": "python3"
  },
  "language_info": {
   "codemirror_mode": {
    "name": "ipython",
    "version": 3
   },
   "file_extension": ".py",
   "mimetype": "text/x-python",
   "name": "python",
   "nbconvert_exporter": "python",
   "pygments_lexer": "ipython3",
   "version": "3.8.6"
  }
 },
 "nbformat": 4,
 "nbformat_minor": 5
}
