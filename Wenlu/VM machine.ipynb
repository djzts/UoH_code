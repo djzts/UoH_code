{
 "cells": [
  {
   "cell_type": "code",
   "execution_count": 261,
   "id": "fe89ea7f",
   "metadata": {},
   "outputs": [
    {
     "name": "stdout",
     "output_type": "stream",
     "text": [
      "Hello, World!\n"
     ]
    }
   ],
   "source": [
    "\"\"\"\n",
    "This is a comment\n",
    "written in\n",
    "more than just one line\n",
    "\"\"\"\n",
    "print(\"Hello, World!\")\n"
   ]
  },
  {
   "cell_type": "code",
   "execution_count": 262,
   "id": "ecc85300",
   "metadata": {},
   "outputs": [
    {
     "data": {
      "text/html": [
       "<style>.container { width:100% !important; }</style>"
      ],
      "text/plain": [
       "<IPython.core.display.HTML object>"
      ]
     },
     "metadata": {},
     "output_type": "display_data"
    }
   ],
   "source": [
    "import networkx as nx\n",
    "import numpy as np\n",
    "from collections import defaultdict\n",
    "import random\n",
    "from IPython.core.display import display, HTML\n",
    "display(HTML(\"<style>.container { width:100% !important; }</style>\"))"
   ]
  },
  {
   "cell_type": "code",
   "execution_count": 263,
   "id": "d3057a8a",
   "metadata": {},
   "outputs": [],
   "source": [
    "N = 5\n",
    "#M = 5\n",
    "I = 3\n",
    "J = 3\n",
    "K = 5\n",
    "Channel_upperbound = 15\n",
    "Data_upperbound = 50\n",
    "Processing_upperbound = 25\n",
    "self_looped = 100"
   ]
  },
  {
   "cell_type": "code",
   "execution_count": 264,
   "id": "f3d9fee1",
   "metadata": {},
   "outputs": [],
   "source": [
    "#Channel_link_same = np.triu(np.random.randint(Channel_upperbound,size=(N+1, M+1)) +1 , k = 1)\n",
    "#Channel_link_same = Channel_link_same + Channel_link_same.T\n",
    "#Channel_link_same[0,:] = 0\n",
    "#print(Channel_link_same)"
   ]
  },
  {
   "cell_type": "code",
   "execution_count": 280,
   "id": "76e16475",
   "metadata": {},
   "outputs": [
    {
     "name": "stdout",
     "output_type": "stream",
     "text": [
      "[[  0.   7.  12.   5.   8.   6.]\n",
      " [  0. 100.   1.   7.  15.   4.]\n",
      " [  0.   6. 100.   7.  11.  13.]\n",
      " [  0.   1.  10. 100.   2.  14.]\n",
      " [  0.   6.   7.   2. 100.   7.]\n",
      " [  0.   9.   8.   4.   3. 100.]]\n"
     ]
    }
   ],
   "source": [
    "Channel_link_general = np.random.randint(Channel_upperbound,size=(N+1, N+1),) +1\n",
    "Channel_link_general = Channel_link_general - np.diag(np.diag(Channel_link_general)) + self_looped*np.eye(N+1,N+1)\n",
    "Channel_link_general[:,0] = 0\n",
    "print(Channel_link_general)"
   ]
  },
  {
   "cell_type": "code",
   "execution_count": 281,
   "id": "acac7a2a",
   "metadata": {},
   "outputs": [
    {
     "name": "stdout",
     "output_type": "stream",
     "text": [
      "[[30  6  7]\n",
      " [48 44 26]\n",
      " [28 23 31]]\n"
     ]
    }
   ],
   "source": [
    "Data_Queue = np.random.randint(Data_upperbound,size=(I, J))+1\n",
    "print(Data_Queue)\n"
   ]
  },
  {
   "cell_type": "code",
   "execution_count": 282,
   "id": "210fedda",
   "metadata": {},
   "outputs": [
    {
     "name": "stdout",
     "output_type": "stream",
     "text": [
      "[[2 4 5]\n",
      " [1 3 4]\n",
      " [1 3 5]\n",
      " [1 3 4]\n",
      " [1 3 5]]\n"
     ]
    }
   ],
   "source": [
    "flag = True\n",
    "while flag:\n",
    "    VM_Data_type = np.sort(np.array([np.array(np.random.choice(K, I, replace = False)) for i in range(N)])) + 1\n",
    "    uniques = np.unique(VM_Data_type)\n",
    "    flag = (len(uniques)<K)\n",
    "print(VM_Data_type)"
   ]
  },
  {
   "cell_type": "code",
   "execution_count": 283,
   "id": "103cf754",
   "metadata": {},
   "outputs": [
    {
     "name": "stdout",
     "output_type": "stream",
     "text": [
      "[[1 4 3]\n",
      " [3 5 4]\n",
      " [4 3 1]]\n"
     ]
    }
   ],
   "source": [
    "Data_type_Queue = np.array([np.array(np.random.choice(K, I, replace = False)) for i in range(J)])+1\n",
    "print(Data_type_Queue)"
   ]
  },
  {
   "cell_type": "code",
   "execution_count": 284,
   "id": "3c4eff54",
   "metadata": {},
   "outputs": [
    {
     "name": "stdout",
     "output_type": "stream",
     "text": [
      "[[ 0.  2.  0. 14. 16.]\n",
      " [20.  0. 14.  5.  0.]\n",
      " [ 3.  0.  5.  0. 23.]\n",
      " [ 8.  0. 25.  6.  0.]\n",
      " [ 9.  0. 25.  0.  1.]]\n"
     ]
    }
   ],
   "source": [
    "VM_Data_speed_preset = np.array([np.array(np.random.choice(Processing_upperbound, K, replace = False)) for i in range(N)]) + 1\n",
    "VM_Data_speed_bolean = np.zeros((N,K))\n",
    "for row in range(N):\n",
    "    VM_Data_speed_bolean[row,VM_Data_type[row,:]-1] = 1\n",
    "\n",
    "VM_Data_speed = VM_Data_speed_bolean * VM_Data_speed_preset\n",
    "#print(VM_Data_speed_preset)\n",
    "#print(Data_type_Queue)\n",
    "print(VM_Data_speed)"
   ]
  },
  {
   "cell_type": "code",
   "execution_count": 285,
   "id": "f6e5290f",
   "metadata": {},
   "outputs": [
    {
     "name": "stdout",
     "output_type": "stream",
     "text": [
      "[[inf 15. inf  3.  2. inf  3. inf  1.  1. inf  4. inf  1.  1.]\n",
      " [ 2. inf  3.  6. inf  1. inf  1.  2. inf  1. inf  1.  2. inf]\n",
      " [10. inf  6. inf  2.  2. inf  2. inf  1.  3. inf  2. inf  1.]\n",
      " [ 4. inf  2.  5. inf  1. inf  1.  1. inf  1. inf  1.  2. inf]\n",
      " [ 4. inf  2. inf 30.  1. inf  1. inf  6.  1. inf  1. inf  7.]\n",
      " [inf 24. inf  4.  3. inf 22. inf  4.  3. inf 13. inf  2.  2.]\n",
      " [ 3. inf  4. 10. inf  3. inf  4.  9. inf  2. inf  2.  6. inf]\n",
      " [16. inf 10. inf  3. 15. inf  9. inf  2.  9. inf  6. inf  2.]\n",
      " [ 6. inf  2.  8. inf  6. inf  2.  8. inf  4. inf  2.  5. inf]\n",
      " [ 6. inf  2. inf 48.  5. inf  2. inf 44.  3. inf  2. inf 26.]\n",
      " [inf 14. inf  2.  2. inf 12. inf  2.  2. inf 16. inf  3.  2.]\n",
      " [ 2. inf  2.  6. inf  2. inf  2.  5. inf  2. inf  3.  7. inf]\n",
      " [10. inf  6. inf  2.  8. inf  5. inf  1. 11. inf  7. inf  2.]\n",
      " [ 4. inf  2.  5. inf  3. inf  1.  4. inf  4. inf  2.  6. inf]\n",
      " [ 4. inf  2. inf 28.  3. inf  1. inf 23.  4. inf  2. inf 31.]]\n"
     ]
    },
    {
     "name": "stderr",
     "output_type": "stream",
     "text": [
      "<ipython-input-285-f1188eb3a796>:1: RuntimeWarning: divide by zero encountered in true_divide\n",
      "  Processing_time = np.ceil(np.kron(Data_Queue,1./VM_Data_speed))\n"
     ]
    }
   ],
   "source": [
    "Processing_time = np.ceil(np.kron(Data_Queue,1./VM_Data_speed))\n",
    "print(Processing_time)"
   ]
  },
  {
   "cell_type": "code",
   "execution_count": 286,
   "id": "d113579d",
   "metadata": {},
   "outputs": [
    {
     "name": "stdout",
     "output_type": "stream",
     "text": [
      "[[inf 15. inf  3.  2.]\n",
      " [ 2. inf  3.  6. inf]\n",
      " [10. inf  6. inf  2.]\n",
      " [ 4. inf  2.  5. inf]\n",
      " [ 4. inf  2. inf 30.]]\n"
     ]
    },
    {
     "name": "stderr",
     "output_type": "stream",
     "text": [
      "<ipython-input-286-f7e45b9883a8>:2: RuntimeWarning: divide by zero encountered in true_divide\n",
      "  Processing_time_final = 1./np.zeros((I,J,N))\n"
     ]
    }
   ],
   "source": [
    "Processing_time_alt=np.ceil(np.reshape(Processing_time,(I,N,J,N)))\n",
    "Processing_time_final = 1./np.zeros((I,J,N))\n",
    "for i in range(I):\n",
    "    for j in range(J):\n",
    "        function_type = Data_type_Queue[i,j]-1\n",
    "        #print(Data_type_Queue[i,j]-1)\n",
    "        Processing_time_final[i,j] = Processing_time_alt[i,:,j,function_type]\n",
    "print(Processing_time_alt[0,:,0,:])"
   ]
  },
  {
   "cell_type": "code",
   "execution_count": 287,
   "id": "674c2da5",
   "metadata": {},
   "outputs": [
    {
     "name": "stdout",
     "output_type": "stream",
     "text": [
      "[[[inf  2. 10.  4.  4.]\n",
      "  [ 1.  2. inf  1. inf]\n",
      "  [inf  1.  2.  1.  1.]]\n",
      "\n",
      " [[inf  4. 10.  2.  2.]\n",
      "  [ 3. inf  2. inf 44.]\n",
      "  [ 2.  6. inf  5. inf]]\n",
      "\n",
      " [[ 2.  6. inf  5. inf]\n",
      "  [inf  2.  5.  1.  1.]\n",
      "  [inf  2. 11.  4.  4.]]]\n"
     ]
    }
   ],
   "source": [
    "print(Processing_time_final[:,:,:])"
   ]
  },
  {
   "cell_type": "code",
   "execution_count": 288,
   "id": "2f6e704b",
   "metadata": {},
   "outputs": [
    {
     "name": "stdout",
     "output_type": "stream",
     "text": [
      "[[inf  5.  3.  6.  4.  5. inf  1.  1.  2.  1.  1. inf  1.  1.  2.  1.  2.]\n",
      " [inf  1. 30.  5.  2.  8. inf  1.  6.  1.  1.  2. inf  1.  7.  1.  1.  2.]\n",
      " [inf  5.  1.  5.  3.  3. inf  1.  1.  1.  1.  1. inf  2.  1.  1.  1.  1.]\n",
      " [inf 30.  3.  1. 15.  3. inf  6.  1.  1.  3.  1. inf  7.  1.  1.  4.  1.]\n",
      " [inf  5.  5. 15.  1.  5. inf  1.  1.  3.  1.  1. inf  2.  1.  4.  1.  1.]\n",
      " [inf  4.  4.  8. 10.  1. inf  1.  1.  2.  2.  1. inf  1.  1.  2.  3.  1.]\n",
      " [inf  7.  4. 10.  6.  8. inf  7.  4.  9.  6.  8. inf  4.  3.  6.  4.  5.]\n",
      " [inf  1. 48.  7.  4. 12. inf  1. 44.  7.  3. 11. inf  1. 26.  4.  2.  7.]\n",
      " [inf  8.  1.  7.  5.  4. inf  8.  1.  7.  4.  4. inf  5.  1.  4.  3.  2.]\n",
      " [inf 48.  5.  1. 24.  4. inf 44.  5.  1. 22.  4. inf 26.  3.  1. 13.  2.]\n",
      " [inf  8.  7. 24.  1.  7. inf  8.  7. 22.  1.  7. inf  5.  4. 13.  1.  4.]\n",
      " [inf  6.  6. 12. 16.  1. inf  5.  6. 11. 15.  1. inf  3.  4.  7.  9.  1.]\n",
      " [inf  4.  3.  6.  4.  5. inf  4.  2.  5.  3.  4. inf  5.  3.  7.  4.  6.]\n",
      " [inf  1. 28.  4.  2.  7. inf  1. 23.  4.  2.  6. inf  1. 31.  5.  3.  8.]\n",
      " [inf  5.  1.  4.  3.  3. inf  4.  1.  4.  3.  2. inf  6.  1.  5.  3.  3.]\n",
      " [inf 28.  3.  1. 14.  2. inf 23.  3.  1. 12.  2. inf 31.  4.  1. 16.  3.]\n",
      " [inf  5.  4. 14.  1.  4. inf  4.  4. 12.  1.  4. inf  6.  5. 16.  1.  5.]\n",
      " [inf  4.  4.  7. 10.  1. inf  3.  3.  6.  8.  1. inf  4.  4.  8. 11.  1.]]\n"
     ]
    },
    {
     "name": "stderr",
     "output_type": "stream",
     "text": [
      "<ipython-input-288-fea94200f4d0>:1: RuntimeWarning: divide by zero encountered in true_divide\n",
      "  Transmission_time = np.ceil(np.kron(Data_Queue,1./Channel_link_general))\n"
     ]
    }
   ],
   "source": [
    "Transmission_time = np.ceil(np.kron(Data_Queue,1./Channel_link_general))\n",
    "print(Transmission_time)"
   ]
  },
  {
   "cell_type": "code",
   "execution_count": 289,
   "id": "8ed3b4be",
   "metadata": {},
   "outputs": [
    {
     "name": "stdout",
     "output_type": "stream",
     "text": [
      "[[inf  5.  3.  6.  4.  5.]\n",
      " [inf  1. 30.  5.  2.  8.]\n",
      " [inf  5.  1.  5.  3.  3.]\n",
      " [inf 30.  3.  1. 15.  3.]\n",
      " [inf  5.  5. 15.  1.  5.]\n",
      " [inf  4.  4.  8. 10.  1.]]\n"
     ]
    }
   ],
   "source": [
    "Transmission_time_alt=np.ceil(np.reshape(Transmission_time,(I,K+1,J,K+1)))\n",
    "print(Transmission_time_alt[0,:,0,:])"
   ]
  },
  {
   "cell_type": "code",
   "execution_count": null,
   "id": "1134aefd",
   "metadata": {},
   "outputs": [],
   "source": []
  },
  {
   "cell_type": "code",
   "execution_count": 296,
   "id": "9f4ce3bb",
   "metadata": {},
   "outputs": [
    {
     "name": "stdout",
     "output_type": "stream",
     "text": [
      "[[0. 1. 1. 1. 1.]\n",
      " [1. 0. 1. 1. 1.]\n",
      " [1. 1. 0. 1. 1.]\n",
      " [1. 1. 1. 0. 1.]\n",
      " [1. 1. 1. 1. 0.]]\n"
     ]
    }
   ],
   "source": [
    "import networkx as nx\n",
    "network = np.ones((N,N))-np.eye(N)\n",
    "print(network)\n",
    "G = nx.from_numpy_matrix(network,create_using=nx.DiGraph(directed=True))\n",
    "edge_label = {}\n",
    "for j, edge in enumerate(G.edges()):\n",
    "    #edge_label.update({(edge[0],edge[1]): \"<\"+ str(Channel_link_general[edge[0]+1,edge[1]+1])+ \"|\" +str(Channel_link_general[edge[1]+1,edge[0]+1])+\">\" })\n",
    "    if edge[1] > edge[0]:\n",
    "        edge_label.update({(edge[0],edge[1]): \"<\" + str(np.int(Channel_link_general[edge[0]+1,edge[1]+1])) + \"|\" })\n",
    "    else:\n",
    "        edge_label.update({(edge[0],edge[1]): \"|\" + str(np.int(Channel_link_general[edge[0]+1,edge[1]+1])) + \">\" })"
   ]
  },
  {
   "cell_type": "code",
   "execution_count": null,
   "id": "0b6546ea",
   "metadata": {},
   "outputs": [],
   "source": []
  },
  {
   "cell_type": "code",
   "execution_count": 297,
   "id": "f42ae794",
   "metadata": {},
   "outputs": [
    {
     "data": {
      "image/png": "[encoded data removed]",
      "text/plain": [
       "<Figure size 432x288 with 1 Axes>"
      ]
     },
     "metadata": {},
     "output_type": "display_data"
    }
   ],
   "source": [
    "pos = nx.circular_layout(G)\n",
    "#graph = nx.draw(G,pos,with_labels = True, connectionstyle='arc3, rad = 0.1')\n",
    "graph = nx.draw(G,pos,with_labels = True)\n",
    "graph = nx.draw_networkx_edge_labels(G,pos,edge_labels = edge_label,label_pos = 0.8)"
   ]
  },
  {
   "cell_type": "code",
   "execution_count": 310,
   "id": "64f0dad8",
   "metadata": {},
   "outputs": [
    {
     "data": {
      "text/plain": [
       "OutEdgeView([(0, 1), (0, 2), (0, 0), (1, 0), (1, 2), (1, 1), (2, 0), (2, 1), (2, 2)])"
      ]
     },
     "execution_count": 310,
     "metadata": {},
     "output_type": "execute_result"
    }
   ],
   "source": [
    "G.edges()"
   ]
  },
  {
   "cell_type": "code",
   "execution_count": 311,
   "id": "d2916f9a",
   "metadata": {},
   "outputs": [
    {
     "data": {
      "text/plain": [
       "{0: array([1.00000000e+00, 1.98682151e-08]),\n",
       " 1: array([-0.50000007,  0.86602542]),\n",
       " 2: array([-0.49999993, -0.86602544])}"
      ]
     },
     "execution_count": 311,
     "metadata": {},
     "output_type": "execute_result"
    }
   ],
   "source": [
    "pos"
   ]
  },
  {
   "cell_type": "code",
   "execution_count": 312,
   "id": "92a29327",
   "metadata": {},
   "outputs": [
    {
     "data": {
      "text/plain": [
       "array([[  0.,   7.,  12.,   5.,   8.,   6.],\n",
       "       [  0., 100.,   1.,   7.,  15.,   4.],\n",
       "       [  0.,   6., 100.,   7.,  11.,  13.],\n",
       "       [  0.,   1.,  10., 100.,   2.,  14.],\n",
       "       [  0.,   6.,   7.,   2., 100.,   7.],\n",
       "       [  0.,   9.,   8.,   4.,   3., 100.]])"
      ]
     },
     "execution_count": 312,
     "metadata": {},
     "output_type": "execute_result"
    }
   ],
   "source": [
    "Channel_link_general"
   ]
  },
  {
   "cell_type": "code",
   "execution_count": 313,
   "id": "f92a6401",
   "metadata": {},
   "outputs": [],
   "source": [
    "H = nx.from_numpy_matrix(Channel_link_general,create_using=nx.DiGraph(directed=True))\n",
    "pos = nx.circular_layout(H,center=(1, 1))\n",
    "#graph = nx.draw(G,pos,with_labels = True, connectionstyle='arc3, rad = 0.1')\n"
   ]
  },
  {
   "cell_type": "code",
   "execution_count": 314,
   "id": "d5580902",
   "metadata": {},
   "outputs": [],
   "source": [
    "edge_label = {}\n",
    "for j, edge in enumerate(H.edges()):\n",
    "    #edge_label.update({(edge[0],edge[1]): \"<\"+ str(Channel_link_general[edge[0]+1,edge[1]+1])+ \"|\" +str(Channel_link_general[edge[1]+1,edge[0]+1])+\">\" })\n",
    "    if edge[1] > edge[0]:\n",
    "        edge_label.update({(edge[0],edge[1]): \"<\" + str(np.int(Channel_link_general[edge[0],edge[1]])) + \"|\" })\n",
    "    else:\n",
    "        edge_label.update({(edge[0],edge[1]): \"|\" + str(np.int(Channel_link_general[edge[0],edge[1]])) + \">\" })"
   ]
  },
  {
   "cell_type": "code",
   "execution_count": 315,
   "id": "ed6ced46",
   "metadata": {},
   "outputs": [
    {
     "data": {
      "image/png": "[encoded data removed]",
      "text/plain": [
       "<Figure size 432x288 with 1 Axes>"
      ]
     },
     "metadata": {},
     "output_type": "display_data"
    }
   ],
   "source": [
    "graph = nx.draw(H,pos,with_labels = True,connectionstyle='arc3, rad = 0.0')\n",
    "labels = nx.get_edge_attributes(H,'weight')\n",
    "graph2 = nx.draw_networkx_edge_labels(H,pos,edge_labels=edge_label,label_pos = 0.8)"
   ]
  },
  {
   "cell_type": "code",
   "execution_count": 316,
   "id": "abda18e8",
   "metadata": {},
   "outputs": [
    {
     "data": {
      "image/png": "[encoded data removed]",
      "text/plain": [
       "<Figure size 432x288 with 1 Axes>"
      ]
     },
     "metadata": {},
     "output_type": "display_data"
    }
   ],
   "source": [
    "import networkx as nx\n",
    "import matplotlib.pyplot as plt\n",
    "\n",
    "# Create a graph and add a self-loop to node 0\n",
    "G = nx.complete_graph(3, create_using=nx.DiGraph)\n",
    "G.add_edge(0, 0)\n",
    "pos = nx.circular_layout(G)\n",
    "\n",
    "# As of version 2.6, self-loops are drawn by default with the same styling as\n",
    "# other edges\n",
    "nx.draw(G, pos, with_labels=True)\n",
    "\n",
    "# Add self-loops to the remaining nodes\n",
    "edgelist = [(1, 1), (2, 2)]\n",
    "G.add_edges_from(edgelist)\n",
    "\n",
    "# Draw the newly added self-loops with different formatting\n",
    "nx.draw_networkx_edges(G, pos, edgelist=edgelist, arrowstyle=\"<|-\", style=\"dashed\")\n",
    "\n",
    "plt.show()"
   ]
  },
  {
   "cell_type": "code",
   "execution_count": null,
   "id": "8eca50cb",
   "metadata": {},
   "outputs": [],
   "source": []
  },
  {
   "cell_type": "code",
   "execution_count": null,
   "id": "2517171e",
   "metadata": {},
   "outputs": [],
   "source": []
  }
 ],
 "metadata": {
  "kernelspec": {
   "display_name": "Python 3",
   "language": "python",
   "name": "python3"
  },
  "language_info": {
   "codemirror_mode": {
    "name": "ipython",
    "version": 3
   },
   "file_extension": ".py",
   "mimetype": "text/x-python",
   "name": "python",
   "nbconvert_exporter": "python",
   "pygments_lexer": "ipython3",
   "version": "3.8.6"
  }
 },
 "nbformat": 4,
 "nbformat_minor": 5
}
