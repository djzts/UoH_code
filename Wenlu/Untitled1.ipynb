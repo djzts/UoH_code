{
 "cells": [
  {
   "cell_type": "code",
   "execution_count": 2,
   "id": "9d86367e",
   "metadata": {},
   "outputs": [],
   "source": [
    "import dwavebinarycsp\n",
    "import dwavebinarycsp.factories.constraint.gates as gates\n",
    "csp = dwavebinarycsp.ConstraintSatisfactionProblem(dwavebinarycsp.BINARY)\n",
    "csp.add_constraint(gates.and_gate(['x1', 'x2', 'y1']))  # add an AND gate\n",
    "bqm = dwavebinarycsp.stitch(csp)\n"
   ]
  },
  {
   "cell_type": "code",
   "execution_count": 3,
   "id": "fff83c46",
   "metadata": {},
   "outputs": [
    {
     "data": {
      "text/plain": [
       "BinaryQuadraticModel({x1: -8.801848139228241e-12, x2: -8.79962769317899e-12, y1: 5.999999999981847}, {('x1', 'x2'): 1.9999999999996438, ('x1', 'y1'): -3.9999999999951994, ('x2', 'y1'): -3.9999999999952074}, 1.3237633211815591e-11, 'BINARY')"
      ]
     },
     "execution_count": 3,
     "metadata": {},
     "output_type": "execute_result"
    }
   ],
   "source": [
    "bqm "
   ]
  },
  {
   "cell_type": "code",
   "execution_count": null,
   "id": "553501bf",
   "metadata": {},
   "outputs": [],
   "source": []
  }
 ],
 "metadata": {
  "kernelspec": {
   "display_name": "Python 3",
   "language": "python",
   "name": "python3"
  },
  "language_info": {
   "codemirror_mode": {
    "name": "ipython",
    "version": 3
   },
   "file_extension": ".py",
   "mimetype": "text/x-python",
   "name": "python",
   "nbconvert_exporter": "python",
   "pygments_lexer": "ipython3",
   "version": "3.8.6"
  }
 },
 "nbformat": 4,
 "nbformat_minor": 5
}
