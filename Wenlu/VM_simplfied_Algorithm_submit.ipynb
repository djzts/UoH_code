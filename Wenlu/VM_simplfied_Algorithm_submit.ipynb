{
 "cells": [
  {
   "cell_type": "code",
   "execution_count": 239,
   "id": "eee5ec43",
   "metadata": {},
   "outputs": [
    {
     "data": {
      "text/html": [
       "<style>.container { width:100% !important; }</style>"
      ],
      "text/plain": [
       "<IPython.core.display.HTML object>"
      ]
     },
     "metadata": {},
     "output_type": "display_data"
    }
   ],
   "source": [
    "%run Make_Question_simplified.ipynb\n",
    "import numpy as np\n",
    "from collections import defaultdict\n",
    "\n",
    "import random\n",
    "import matplotlib.pyplot as plt\n",
    "import warnings\n",
    "warnings.filterwarnings(\"ignore\")\n",
    "import time\n",
    "import csv\n",
    "\n",
    "from collections import defaultdict\n",
    "\n",
    "from dwave.system.samplers import DWaveSampler\n",
    "from dwave.system.composites import EmbeddingComposite\n",
    "import networkx as nx\n",
    "import numpy as np\n",
    "\n",
    "import dwave.inspector\n",
    "import dimod\n",
    "\n",
    "import matplotlib\n",
    "\n",
    "from matplotlib import pyplot as plt\n"
   ]
  },
  {
   "cell_type": "code",
   "execution_count": 347,
   "id": "3e4af47d",
   "metadata": {},
   "outputs": [],
   "source": [
    "N = 2\n",
    "#M = 5\n",
    "I = 2\n",
    "J = 2\n",
    "K = 4\n",
    "Data_upperbound = 20\n",
    "Processing_upperbound = 20\n",
    "Data_input = Data_Queue(I,J,Data_upperbound)\n",
    "Data_input_type = Data_Queue_type(I,J,K)\n",
    "VM_type = VM_Data_type_gen(I,K,N)\n",
    "\n",
    "VM_speed = VM_Data_processing_speed(Processing_upperbound, VM_type, K)\n",
    "VM_DP_time = VM_Data_processing_time(Data_input, Data_input_type , VM_speed)\n",
    "\n",
    "modified_VM_DP_time =np.copy(VM_DP_time)\n",
    "modified_VM_DP_time[np.isinf(modified_VM_DP_time)]=np.inf\n",
    "\n"
   ]
  },
  {
   "cell_type": "code",
   "execution_count": 348,
   "id": "681baa3f",
   "metadata": {
    "scrolled": true
   },
   "outputs": [
    {
     "name": "stdout",
     "output_type": "stream",
     "text": [
      "[[1 2 3]\n",
      " [1 2 4]]\n",
      "[[2 4]\n",
      " [1 2]]\n",
      "[[[ 3.  2.]\n",
      "  [inf  1.]]\n",
      "\n",
      " [[ 1.  1.]\n",
      "  [ 3.  2.]]]\n",
      "T_max is  7\n"
     ]
    }
   ],
   "source": [
    "T_max_true = little_greedy_algorithm(VM_DP_time,I,J,N)\n",
    "print(VM_type)\n",
    "print(Data_input_type)\n",
    "print(VM_DP_time)\n",
    "#print(np.min(VM_DP_time.reshape(I*J,N),1))\n",
    "T_max= T_max_true + 1\n",
    "#T_max += 1\n",
    "print(\"T_max is \",T_max_true)\n",
    "#print(\"let t = 1 unit of time\")"
   ]
  },
  {
   "cell_type": "code",
   "execution_count": null,
   "id": "3c5925de",
   "metadata": {},
   "outputs": [],
   "source": []
  },
  {
   "cell_type": "code",
   "execution_count": 349,
   "id": "651c8102",
   "metadata": {},
   "outputs": [
    {
     "name": "stdout",
     "output_type": "stream",
     "text": [
      "z_0110\n",
      "z_1100\n",
      "z_1110\n"
     ]
    }
   ],
   "source": [
    "position_dictionary, Total = Make_dictionary(I,J,N,T_max)\n",
    "QUBO_init = np.zeros((Total, Total))\n",
    "P = {\n",
    "    \"Obj\": 2,\n",
    "    \"C1\":  4460,\n",
    "    \"C2\":  4350,\n",
    "    \"C3\":  4550,\n",
    "    \"C4\":  4550,\n",
    "    \"C5\":  5050,\n",
    "    \"C6\":  4050,\n",
    "    \"C7\":  12050,\n",
    "    \"C8\":  7550,\n",
    "    \"C9\":  4750,\n",
    "    \"Cadd\":  4950,\n",
    "    \"Cadd1\":  4910,\n",
    "    \"Cadd2\":  9610,\n",
    "    \"Caddz\":  4010,\n",
    "}\n",
    "QUBO_0 = mk_QUBO_0(I,J,N,T_max,QUBO_init,P)\n",
    "QUBO_1 = mk_QUBO_1(I,J,N,T_max,QUBO_init,VM_type,Data_input_type,position_dictionary,P)\n",
    "QUBO_2 = mk_QUBO_2(I,J,N,T_max,QUBO_init,VM_type,Data_input_type,position_dictionary,P)\n",
    "QUBO_3 = mk_QUBO_3(I,J,N,T_max,QUBO_init,VM_type,Data_input_type,position_dictionary,P)\n",
    "QUBO_4 = mk_QUBO_4(I,J,N,T_max,QUBO_init,VM_type,Data_input_type,position_dictionary,P)\n",
    "QUBO_5 = mk_QUBO_5(I,J,N,T_max,QUBO_init,VM_type,Data_input_type,position_dictionary,modified_VM_DP_time,P)\n",
    "QUBO_6 = mk_QUBO_6(I,J,N,T_max,QUBO_init,VM_type,Data_input_type,position_dictionary,modified_VM_DP_time,P)\n",
    "QUBO_7 = mk_QUBO_7(I,J,N,T_max,QUBO_init,VM_type,Data_input_type,position_dictionary,modified_VM_DP_time,P)\n",
    "#QUBO_8 = mk_QUBO_8(I,J,N,T_max,QUBO_init,VM_type,Data_input_type,position_dictionary,modified_VM_DP_time,P)\n",
    "QUBO_add = mk_QUBO_add(I,J,N,T_max,QUBO_init,VM_type,Data_input_type,position_dictionary,modified_VM_DP_time,P)\n",
    "\n",
    "QUBO_add_1 = mk_QUBO_add_1(I,J,N,T_max,QUBO_init,VM_type,Data_input_type,position_dictionary,modified_VM_DP_time,P)\n",
    "QUBO_add_2 = mk_QUBO_add_2(I,J,N,T_max,QUBO_init,VM_type,Data_input_type,position_dictionary,modified_VM_DP_time,P)\n",
    "\n",
    "QUBO_add_z = mk_QUBO_add_z(I,J,N,T_max,QUBO_init,VM_type,Data_input_type,position_dictionary,modified_VM_DP_time,P)\n",
    "\n",
    "QUBO = np.zeros_like(QUBO_init)\n",
    "QUBO = QUBO_0 * P['Obj'] + QUBO_add + QUBO_1 + QUBO_2 + QUBO_3 + QUBO_4 + QUBO_5 + QUBO_6 + QUBO_7 + QUBO_add_z + QUBO_add_1 + QUBO_add_2# + QUBO_8\n",
    "#show_graph(QUBO) \n",
    "#print(len(position_dictionary))\n",
    "QUBO,position_dictionary = mk_QUBO_8_alt(I,J,N,T_max,QUBO,VM_type,Data_input_type,position_dictionary,modified_VM_DP_time,P)\n",
    "#print(len(position_dictionary),np.shape(QUBO))\n",
    "QUBO,position_dictionary = mk_QUBO_9_alt(I,J,N,T_max,QUBO,VM_type,Data_input_type,position_dictionary,modified_VM_DP_time,P)\n",
    "#print(len(position_dictionary),np.shape(QUBO))\n",
    "\n",
    "\n",
    "#show_graph(QUBO_5) "
   ]
  },
  {
   "cell_type": "code",
   "execution_count": 350,
   "id": "c4046044",
   "metadata": {},
   "outputs": [
    {
     "name": "stdout",
     "output_type": "stream",
     "text": [
      "warning, QUBO is too big 280\n"
     ]
    }
   ],
   "source": [
    "size,_ = np.shape(QUBO)\n",
    "if size> 270:\n",
    "    print(\"warning, QUBO is too big\",size)"
   ]
  },
  {
   "cell_type": "code",
   "execution_count": 351,
   "id": "08bff110",
   "metadata": {},
   "outputs": [
    {
     "data": {
      "text/html": [
       "<style>.container { width:100% !important; }</style>"
      ],
      "text/plain": [
       "<IPython.core.display.HTML object>"
      ]
     },
     "metadata": {},
     "output_type": "display_data"
    },
    {
     "name": "stdout",
     "output_type": "stream",
     "text": [
      "Constraint_1:  True\n",
      "Constraint_2:  True\n",
      "Constraint_3:  True\n",
      "Constraint_4:  True\n",
      "Constraint_5:  True\n",
      "Constraint_6:  True\n",
      "Constraint_7:  True\n",
      "Constraint_8:  True\n",
      "Constraint_9:  True\n",
      "Constraint_add:  True\n",
      "Constraint_add_p:  True\n",
      "Constraint_add_z:  True\n"
     ]
    }
   ],
   "source": [
    "from dwave.system import LeapHybridSampler\n",
    "\n",
    "\n",
    "width,height = np.shape(QUBO)\n",
    "\n",
    "QUBO_dictionary = defaultdict(int)\n",
    "for i in range(width):\n",
    "    for j in range(height):\n",
    "        QUBO_dictionary[(i,j)] = QUBO[i,j]\n",
    "        \n",
    "#sampler = EmbeddingComposite(DWaveSampler(solver={'qpu': True}))\n",
    "#sampler = EmbeddingComposite(DWaveSampler())\n",
    "# Select a solver\n",
    "sampler = LeapHybridSampler()\n",
    "\n",
    "num_reads = 10000\n",
    "#sampleset = sampler.sample_qubo(QUBO, chain_strength = 8, num_reads=num_reads)\n",
    "#sampleset = sampler.sample_qubo(QUBO, num_reads=num_reads)\n",
    "sampleset = sampler.sample_qubo(QUBO)\n",
    "\n",
    "\n",
    "#sample = sampleset.first.sample\n",
    "#energy = sampleset.first.energy\n",
    "#print(sample,energy)\n",
    "OP = sampleset.to_pandas_dataframe()\n",
    "import pandas as pd\n",
    "\n",
    "OP = OP.sort_values(\"energy\")\n",
    "OP_final = OP.to_numpy()\n",
    "\n",
    "rank = 0\n",
    "\n",
    "\n",
    "OP_opt = OP_final[rank,:].flatten()\n",
    "sample = OP_opt.astype(int)\n",
    "\n",
    "\n",
    "%run Make_Question_simplified.ipynb\n",
    "#dir(sampleset)\n",
    "print(\"Constraint_1: \",check_C1 (position_dictionary,sample,I,J,VM_type,Data_input_type))\n",
    "print(\"Constraint_2: \",check_C2 (position_dictionary,sample,I,J,N,T_max))\n",
    "print(\"Constraint_3: \",check_C3 (position_dictionary,sample,I,J,N,T_max))\n",
    "print(\"Constraint_4: \",check_C4 (position_dictionary,sample,I,J,N,T_max))\n",
    "print(\"Constraint_5: \",check_C5 (position_dictionary,sample,I,J,VM_type,Data_input_type,T_max,modified_VM_DP_time))\n",
    "print(\"Constraint_6: \",check_C6 (position_dictionary,sample,I,J,N,T_max))\n",
    "print(\"Constraint_7: \",check_C7 (position_dictionary,sample,I,J,N,T_max))\n",
    "print(\"Constraint_8: \",check_C8_alt(position_dictionary,sample,I,J,VM_type,Data_input_type,T_max,modified_VM_DP_time))\n",
    "print(\"Constraint_9: \",check_C9 (position_dictionary,sample,I,J,VM_type,Data_input_type,T_max,modified_VM_DP_time))\n",
    "print(\"Constraint_add: \",check_C_add(position_dictionary,sample,I,J,N,VM_type,Data_input_type,T_max))\n",
    "print(\"Constraint_add_p: \",check_C_add_1(position_dictionary,sample,I,J,N,T_max))\n",
    "\n",
    "print(\"Constraint_add_z: \",check_C_add_2(position_dictionary,sample,I,J,N,T_max))"
   ]
  },
  {
   "cell_type": "code",
   "execution_count": 352,
   "id": "385ccd4b",
   "metadata": {},
   "outputs": [],
   "source": [
    "#OP"
   ]
  },
  {
   "cell_type": "code",
   "execution_count": 353,
   "id": "78868b3a",
   "metadata": {
    "scrolled": true
   },
   "outputs": [
    {
     "name": "stdout",
     "output_type": "stream",
     "text": [
      "when t =  0 : the machine 0 is working on 1 th people's 0 th workload. Function type 1\n",
      "when t =  1 : the machine 0 is working on 0 th people's 0 th workload. Function type 2\n",
      "when t =  2 : the machine 0 is working on 0 th people's 0 th workload. Function type 2\n",
      "when t =  3 : the machine 0 is working on 0 th people's 0 th workload. Function type 2\n",
      "when t =  4 : the machine 0 is ending 0 th people's 0 th workload.\n",
      "when t =  5 : the machine 0 is hanging up\n",
      "when t =  6 : the machine 0 is hanging up\n",
      "when t =  7 : the machine 0 is hanging up\n",
      "-----------------------------------------------------------------------\n",
      "when t =  0 : the machine 1 is hanging up\n",
      "when t =  1 : the machine 1 is working on 1 th people's 1 th workload. Function type 2\n",
      "when t =  2 : the machine 1 is working on 1 th people's 1 th workload. Function type 2\n",
      "when t =  3 : the machine 1 is ending 1 th people's 1 th workload.\n",
      "when t =  4 : the machine 1 is working on 0 th people's 1 th workload. Function type 4\n",
      "when t =  5 : the machine 1 is ending 0 th people's 1 th workload.\n",
      "when t =  6 : the machine 1 is hanging up\n",
      "when t =  7 : the machine 1 is hanging up\n",
      "-----------------------------------------------------------------------\n",
      "The opt_time is:  8\n",
      "the greedy time is:  7\n"
     ]
    }
   ],
   "source": [
    "for m in range(N):\n",
    "    for t in range(T_max):\n",
    "        start = np.zeros((I,J))\n",
    "        work = np.zeros((I,J))\n",
    "        end = np.zeros((I,J))\n",
    "        for i in range(I):\n",
    "            for j in range(J):\n",
    "                #print('p_%d%d%d%d value:'%(i,J-1,m,t), sample[position_dictionary['p_%d%d%d%d'%(i,J-1,m,t)]])\n",
    "            \n",
    "                start[i,j] = sample[position_dictionary['z_%d%d%d%d'%(i,j,m,t)]] \n",
    "                work[i,j] = sample[position_dictionary['y_%d%d%d%d'%(i,j,m,t)]] \n",
    "                end[i,j] = sample[position_dictionary['p_%d%d%d%d'%(i,j,m,t)]] \n",
    "        people,index = np.where(work == 1)\n",
    "        start,index_s = np.where(start == 1)\n",
    "        end,index_e = np.where(end == 1)\n",
    "        if len(people) > 0:      \n",
    "#            if len(start) > 0:\n",
    "#                print(\"when t = \", t ,\": the machine\", m ,\"is starting\", start[0],\"th people's\", index_s[0], \"th workload.\")\n",
    "#            else:\n",
    "                print(\"when t = \", t ,\": the machine\", m ,\"is working on\", people[0],\"th people's\", index[0], \"th workload.\",\"Function type\", Data_input_type[people[0],index[0]])   \n",
    "        elif len(end) > 0:\n",
    "            print(\"when t = \", t ,\": the machine\", m ,\"is ending\", end[0],\"th people's\", index_e[0], \"th workload.\")\n",
    "\n",
    "            \n",
    "        else:\n",
    "            print(\"when t = \", t ,\": the machine\", m ,\"is hanging up\")\n",
    "            \n",
    "    print(\"-----------------------------------------------------------------------\")\n",
    "    \n",
    "opt_time = 0\n",
    "for i in range(I):    \n",
    "    for m in range(N):\n",
    "        for t in range(T_max):\n",
    "            #print('p_%d%d%d%d value:'%(i,J-1,m,t), sample[position_dictionary['p_%d%d%d%d'%(i,J-1,m,t)]])\n",
    "            #print(t * sample[position_dictionary['p_%d%d%d%d'%(i,J-1,m,t)]],'p_%d%d%d%d'%(i,J-1,m,t))\n",
    "            opt_time += t * sample[position_dictionary['p_%d%d%d%d'%(i,J-1,m,t)]]\n",
    "            \n",
    "\n",
    "\n",
    "print(\"The opt_time is: \", opt_time)\n",
    "print(\"the greedy time is: \", T_max_true)"
   ]
  },
  {
   "cell_type": "code",
   "execution_count": null,
   "id": "66dff14b",
   "metadata": {},
   "outputs": [],
   "source": []
  },
  {
   "cell_type": "code",
   "execution_count": null,
   "id": "772d7181",
   "metadata": {},
   "outputs": [],
   "source": []
  },
  {
   "cell_type": "code",
   "execution_count": 360,
   "id": "77f5eee7",
   "metadata": {},
   "outputs": [
    {
     "name": "stdout",
     "output_type": "stream",
     "text": [
      "5\n"
     ]
    }
   ],
   "source": [
    "p_ = np.zeros((I,J,N,T_max))\n",
    "for i in range(I):    \n",
    "    for j in range(J):  \n",
    "        for m in range(N):\n",
    "            for t in range(T_max):\n",
    "                p_[i,j,m,t] = sample[position_dictionary['p_%d%d%d%d'%(i,j,m,t)]]\n",
    "_,_,_,time_final = np.where(p_)\n",
    "QUBO_time = np.max(time_final)\n",
    "print(QUBO_time )"
   ]
  },
  {
   "cell_type": "code",
   "execution_count": 361,
   "id": "6c450142",
   "metadata": {},
   "outputs": [
    {
     "data": {
      "text/html": [
       "<div>\n",
       "<style scoped>\n",
       "    .dataframe tbody tr th:only-of-type {\n",
       "        vertical-align: middle;\n",
       "    }\n",
       "\n",
       "    .dataframe tbody tr th {\n",
       "        vertical-align: top;\n",
       "    }\n",
       "\n",
       "    .dataframe thead th {\n",
       "        text-align: right;\n",
       "    }\n",
       "</style>\n",
       "<table border=\"1\" class=\"dataframe\">\n",
       "  <thead>\n",
       "    <tr style=\"text-align: right;\">\n",
       "      <th></th>\n",
       "      <th>0</th>\n",
       "      <th>1</th>\n",
       "      <th>2</th>\n",
       "      <th>3</th>\n",
       "      <th>4</th>\n",
       "      <th>5</th>\n",
       "      <th>6</th>\n",
       "      <th>7</th>\n",
       "      <th>8</th>\n",
       "      <th>9</th>\n",
       "      <th>...</th>\n",
       "      <th>272</th>\n",
       "      <th>273</th>\n",
       "      <th>274</th>\n",
       "      <th>275</th>\n",
       "      <th>276</th>\n",
       "      <th>277</th>\n",
       "      <th>278</th>\n",
       "      <th>279</th>\n",
       "      <th>energy</th>\n",
       "      <th>num_occurrences</th>\n",
       "    </tr>\n",
       "  </thead>\n",
       "  <tbody>\n",
       "    <tr>\n",
       "      <th>0</th>\n",
       "      <td>1</td>\n",
       "      <td>0</td>\n",
       "      <td>0</td>\n",
       "      <td>1</td>\n",
       "      <td>1</td>\n",
       "      <td>0</td>\n",
       "      <td>0</td>\n",
       "      <td>1</td>\n",
       "      <td>0</td>\n",
       "      <td>0</td>\n",
       "      <td>...</td>\n",
       "      <td>0</td>\n",
       "      <td>0</td>\n",
       "      <td>0</td>\n",
       "      <td>0</td>\n",
       "      <td>0</td>\n",
       "      <td>0</td>\n",
       "      <td>0</td>\n",
       "      <td>0</td>\n",
       "      <td>-92104.0</td>\n",
       "      <td>1</td>\n",
       "    </tr>\n",
       "  </tbody>\n",
       "</table>\n",
       "<p>1 rows × 282 columns</p>\n",
       "</div>"
      ],
      "text/plain": [
       "   0  1  2  3  4  5  6  7  8  9  ...  272  273  274  275  276  277  278  279  \\\n",
       "0  1  0  0  1  1  0  0  1  0  0  ...    0    0    0    0    0    0    0    0   \n",
       "\n",
       "    energy  num_occurrences  \n",
       "0 -92104.0                1  \n",
       "\n",
       "[1 rows x 282 columns]"
      ]
     },
     "execution_count": 361,
     "metadata": {},
     "output_type": "execute_result"
    }
   ],
   "source": [
    "OP"
   ]
  },
  {
   "cell_type": "code",
   "execution_count": 362,
   "id": "497e401b",
   "metadata": {},
   "outputs": [
    {
     "name": "stdout",
     "output_type": "stream",
     "text": [
      "error\n",
      "Example_I2_J2_N2_ex1/Data_input\n"
     ]
    }
   ],
   "source": [
    "#sampleset\n",
    "answer = np.array(sample)\n",
    "\n",
    "#print(answer.dtype,answer)\n",
    "import os\n",
    "attempt = 1\n",
    "try:\n",
    "    os.mkdir(\"Example_I%d_J%d_N%d_ex%d\"%(I,J,N,attempt))    \n",
    "except:\n",
    "    print(\"error\")\n",
    "print('Example_I%d_J%d_N%d_ex%d/Data_input'%(I,J,N,attempt))\n"
   ]
  },
  {
   "cell_type": "code",
   "execution_count": 363,
   "id": "84a4b518",
   "metadata": {},
   "outputs": [],
   "source": [
    "np.save('Example_I%d_J%d_N%d_ex%d/Data_input'%(I,J,N,attempt), Data_input)\n",
    "np.save('Example_I%d_J%d_N%d_ex%d/Data_input_type'%(I,J,N,attempt), Data_input_type )\n",
    "np.save('Example_I%d_J%d_N%d_ex%d/VM_type'%(I,J,N,attempt), VM_type)\n",
    "np.save('Example_I%d_J%d_N%d_ex%d/VM_speed'%(I,J,N,attempt), VM_speed)\n",
    "np.save('Example_I%d_J%d_N%d_ex%d/T_max_true'%(I,J,N,attempt), T_max_true)\n",
    "np.save('Example_I%d_J%d_N%d_ex%d/QUBO_time'%(I,J,N,attempt), QUBO_time)\n",
    "np.save('Example_I%d_J%d_N%d_ex%d/opt_time'%(I,J,N,attempt), opt_time)\n",
    "np.save('Example_I%d_J%d_N%d_ex%d/opt_time_divide_N'%(I,J,N,attempt), opt_time/N)\n",
    "np.save('Example_I%d_J%d_N%d_ex%d/answer'%(I,J,N,attempt), answer)\n",
    "np.save('Example_I%d_J%d_N%d_ex%d/VM_speed'%(I,J,N,attempt), VM_speed)\n",
    "np.save('Example_I%d_J%d_N%d_ex%d/VM_DP_time'%(I,J,N,attempt), VM_DP_time)\n",
    "OP.to_csv('Example_I%d_J%d_N%d_ex%d/answer_pandas.csv'%(I,J,N,attempt),index=False)\n",
    "np.save('Example_I%d_J%d_N%d_ex%d/P'%(I,J,N,attempt), P)\n",
    "np.save('Example_I%d_J%d_N%d_ex%d/QUBO'%(I,J,N,attempt), QUBO)\n"
   ]
  },
  {
   "cell_type": "code",
   "execution_count": null,
   "id": "fc40dbbd",
   "metadata": {},
   "outputs": [],
   "source": [
    "#import numpy as np\n",
    "\n",
    "# Save\n",
    "#dictionary = {'hello':'world'}\n",
    "#np.save('my_file.npy', dictionary) \n",
    "\n",
    "# Load\n",
    "#read_dictionary = np.load('my_file.npy',allow_pickle='TRUE').item()\n",
    "#print(read_dictionary['hello']) # displays \"world\""
   ]
  },
  {
   "cell_type": "code",
   "execution_count": 626,
   "id": "13adef8a",
   "metadata": {},
   "outputs": [
    {
     "name": "stdout",
     "output_type": "stream",
     "text": [
      "Machine 0\n",
      "t =  0  z_00 value: 0  y_00 value: 0  p_00 value: 0\n",
      "t =  0  z_01 value: 0  y_01 value: 0  p_01 value: 0\n",
      "t =  0  z_10 value: 0  y_10 value: 0  p_10 value: 0\n",
      "t =  0  z_11 value: 0  y_11 value: 0  p_11 value: 0\n",
      "t =  1  z_00 value: 0  y_00 value: 0  p_00 value: 0\n",
      "t =  1  z_01 value: 1  y_01 value: 1  p_01 value: 0\n",
      "t =  1  z_10 value: 0  y_10 value: 0  p_10 value: 0\n",
      "t =  1  z_11 value: 0  y_11 value: 0  p_11 value: 0\n",
      "t =  2  z_00 value: 0  y_00 value: 0  p_00 value: 0\n",
      "t =  2  z_01 value: 0  y_01 value: 1  p_01 value: 0\n",
      "t =  2  z_10 value: 0  y_10 value: 0  p_10 value: 0\n",
      "t =  2  z_11 value: 0  y_11 value: 0  p_11 value: 0\n",
      "t =  3  z_00 value: 0  y_00 value: 0  p_00 value: 0\n",
      "t =  3  z_01 value: 0  y_01 value: 0  p_01 value: 1\n",
      "t =  3  z_10 value: 0  y_10 value: 0  p_10 value: 0\n",
      "t =  3  z_11 value: 1  y_11 value: 1  p_11 value: 0\n",
      "t =  4  z_00 value: 0  y_00 value: 0  p_00 value: 0\n",
      "t =  4  z_01 value: 0  y_01 value: 0  p_01 value: 0\n",
      "t =  4  z_10 value: 0  y_10 value: 0  p_10 value: 0\n",
      "t =  4  z_11 value: 0  y_11 value: 0  p_11 value: 1\n",
      "t =  5  z_00 value: 0  y_00 value: 0  p_00 value: 0\n",
      "t =  5  z_01 value: 0  y_01 value: 0  p_01 value: 0\n",
      "t =  5  z_10 value: 0  y_10 value: 0  p_10 value: 0\n",
      "t =  5  z_11 value: 0  y_11 value: 0  p_11 value: 0\n",
      "t =  6  z_00 value: 0  y_00 value: 0  p_00 value: 0\n",
      "t =  6  z_01 value: 0  y_01 value: 0  p_01 value: 0\n",
      "t =  6  z_10 value: 0  y_10 value: 0  p_10 value: 0\n",
      "t =  6  z_11 value: 0  y_11 value: 0  p_11 value: 0\n",
      "Machine 1\n",
      "t =  0  z_00 value: 1  y_00 value: 1  p_00 value: 0\n",
      "t =  0  z_01 value: 0  y_01 value: 0  p_01 value: 0\n",
      "t =  0  z_10 value: 0  y_10 value: 0  p_10 value: 0\n",
      "t =  0  z_11 value: 0  y_11 value: 0  p_11 value: 0\n",
      "t =  1  z_00 value: 0  y_00 value: 0  p_00 value: 1\n",
      "t =  1  z_01 value: 0  y_01 value: 0  p_01 value: 0\n",
      "t =  1  z_10 value: 1  y_10 value: 1  p_10 value: 0\n",
      "t =  1  z_11 value: 0  y_11 value: 0  p_11 value: 0\n",
      "t =  2  z_00 value: 0  y_00 value: 0  p_00 value: 0\n",
      "t =  2  z_01 value: 0  y_01 value: 0  p_01 value: 0\n",
      "t =  2  z_10 value: 0  y_10 value: 0  p_10 value: 1\n",
      "t =  2  z_11 value: 0  y_11 value: 0  p_11 value: 0\n",
      "t =  3  z_00 value: 0  y_00 value: 0  p_00 value: 0\n",
      "t =  3  z_01 value: 0  y_01 value: 0  p_01 value: 0\n",
      "t =  3  z_10 value: 0  y_10 value: 0  p_10 value: 0\n",
      "t =  3  z_11 value: 0  y_11 value: 0  p_11 value: 0\n",
      "t =  4  z_00 value: 0  y_00 value: 0  p_00 value: 0\n",
      "t =  4  z_01 value: 0  y_01 value: 0  p_01 value: 0\n",
      "t =  4  z_10 value: 0  y_10 value: 0  p_10 value: 0\n",
      "t =  4  z_11 value: 0  y_11 value: 0  p_11 value: 0\n",
      "t =  5  z_00 value: 0  y_00 value: 0  p_00 value: 0\n",
      "t =  5  z_01 value: 0  y_01 value: 0  p_01 value: 0\n",
      "t =  5  z_10 value: 0  y_10 value: 0  p_10 value: 0\n",
      "t =  5  z_11 value: 0  y_11 value: 0  p_11 value: 0\n",
      "t =  6  z_00 value: 0  y_00 value: 0  p_00 value: 0\n",
      "t =  6  z_01 value: 0  y_01 value: 0  p_01 value: 0\n",
      "t =  6  z_10 value: 0  y_10 value: 0  p_10 value: 0\n",
      "t =  6  z_11 value: 0  y_11 value: 0  p_11 value: 0\n"
     ]
    }
   ],
   "source": [
    "for m in range(N):\n",
    "    print(\"Machine\",m)\n",
    "    for t in range(T_max):\n",
    "        for i in range(I):\n",
    "            \n",
    "            for j in range(J):        \n",
    "                print(\"t = \",t,' z_%d%d value:'%(i,j), sample[position_dictionary['z_%d%d%d%d'%(i,j,m,t)]],' y_%d%d value:'%(i,j), sample[position_dictionary['y_%d%d%d%d'%(i,j,m,t)]],' p_%d%d value:'%(i,j), sample[position_dictionary['p_%d%d%d%d'%(i,j,m,t)]])\n"
   ]
  },
  {
   "cell_type": "code",
   "execution_count": 599,
   "id": "1fd08257",
   "metadata": {},
   "outputs": [
    {
     "name": "stdout",
     "output_type": "stream",
     "text": [
      "p_0100 value: 0\n",
      "p_0101 value: 0\n",
      "p_0102 value: 0\n",
      "p_0103 value: 0\n",
      "p_0104 value: 1\n",
      "p_0105 value: 0\n",
      "p_0110 value: 0\n",
      "p_0111 value: 0\n",
      "p_0112 value: 0\n",
      "p_0113 value: 0\n",
      "p_0114 value: 0\n",
      "p_0115 value: 0\n",
      "p_1100 value: 0\n",
      "p_1101 value: 0\n",
      "p_1102 value: 1\n",
      "p_1103 value: 0\n",
      "p_1104 value: 0\n",
      "p_1105 value: 0\n",
      "p_1110 value: 0\n",
      "p_1111 value: 0\n",
      "p_1112 value: 0\n",
      "p_1113 value: 0\n",
      "p_1114 value: 0\n",
      "p_1115 value: 0\n",
      "The opt_time is:  6\n",
      "the greedy time is:  6\n"
     ]
    }
   ],
   "source": []
  },
  {
   "cell_type": "code",
   "execution_count": null,
   "id": "4992f2ce",
   "metadata": {},
   "outputs": [],
   "source": []
  },
  {
   "cell_type": "code",
   "execution_count": null,
   "id": "d8fbfed2",
   "metadata": {},
   "outputs": [],
   "source": []
  }
 ],
 "metadata": {
  "kernelspec": {
   "display_name": "Python 3",
   "language": "python",
   "name": "python3"
  },
  "language_info": {
   "codemirror_mode": {
    "name": "ipython",
    "version": 3
   },
   "file_extension": ".py",
   "mimetype": "text/x-python",
   "name": "python",
   "nbconvert_exporter": "python",
   "pygments_lexer": "ipython3",
   "version": "3.8.6"
  }
 },
 "nbformat": 4,
 "nbformat_minor": 5
}
