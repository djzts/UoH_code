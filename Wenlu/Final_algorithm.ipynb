{
 "cells": [
  {
   "cell_type": "code",
   "execution_count": 535,
   "id": "fd6683e7",
   "metadata": {},
   "outputs": [
    {
     "data": {
      "text/html": [
       "<style>.container { width:100% !important; }</style>"
      ],
      "text/plain": [
       "<IPython.core.display.HTML object>"
      ]
     },
     "metadata": {},
     "output_type": "display_data"
    }
   ],
   "source": [
    "%run Make_Questiones.ipynb\n",
    "import numpy as np\n",
    "from collections import defaultdict\n",
    "import random\n",
    "import matplotlib.pyplot as plt\n",
    "import warnings\n",
    "warnings.filterwarnings(\"ignore\")\n",
    "import time\n"
   ]
  },
  {
   "cell_type": "code",
   "execution_count": 536,
   "id": "3fd8aa2f",
   "metadata": {},
   "outputs": [],
   "source": [
    "N = 3\n",
    "#M = 5\n",
    "I = 2\n",
    "J = 3\n",
    "K = 5\n",
    "Channel_upperbound = 5\n",
    "Data_upperbound = 20\n",
    "Processing_upperbound = 70\n",
    "self_looped = 100"
   ]
  },
  {
   "cell_type": "code",
   "execution_count": 537,
   "id": "06e2d24d",
   "metadata": {},
   "outputs": [],
   "source": [
    "Channel_link = Create_channel(N,Channel_upperbound,option = \"same\",initial_length = 1)\n",
    "#print(Channel_link)"
   ]
  },
  {
   "cell_type": "code",
   "execution_count": 538,
   "id": "02a2c712",
   "metadata": {},
   "outputs": [
    {
     "name": "stdout",
     "output_type": "stream",
     "text": [
      "[[1 2 4 5]\n",
      " [1 2 3 4]\n",
      " [1 2 4 5]]\n",
      "[[3 4 5]\n",
      " [3 1 4]]\n"
     ]
    }
   ],
   "source": [
    "Data_input = Data_Queue(I,J,Data_upperbound)\n",
    "Data_input_type = Data_Queue_type(I,J,K)\n",
    "VM_type = VM_Data_type_gen(I,K,N)\n",
    "VM_speed = VM_Data_processing_speed(Processing_upperbound, VM_type, K)\n",
    "#print(Data_input_type)\n",
    "print(VM_type)\n",
    "print(Data_input_type)"
   ]
  },
  {
   "cell_type": "code",
   "execution_count": 539,
   "id": "aca497b0",
   "metadata": {},
   "outputs": [
    {
     "name": "stdout",
     "output_type": "stream",
     "text": [
      "(2, 3, 3) (2, 3) (3, 5)\n"
     ]
    }
   ],
   "source": [
    "print(np.shape(VM_DP_time),np.shape( Data_input_type),np.shape(VM_speed))\n",
    "\n",
    "VM_DP_time = VM_Data_processing_time(Data_input, Data_input_type , VM_speed)\n"
   ]
  },
  {
   "cell_type": "code",
   "execution_count": 540,
   "id": "30515c45",
   "metadata": {},
   "outputs": [],
   "source": [
    "Transmission_time = Channel_Data_transmission_time(Data_input , Channel_link)"
   ]
  },
  {
   "cell_type": "code",
   "execution_count": 541,
   "id": "e2503d2d",
   "metadata": {},
   "outputs": [
    {
     "data": {
      "image/png": "[encoded data removed]",
      "text/plain": [
       "<Figure size 432x288 with 1 Axes>"
      ]
     },
     "metadata": {},
     "output_type": "display_data"
    }
   ],
   "source": [
    "Draw_network(Channel_link)"
   ]
  },
  {
   "cell_type": "code",
   "execution_count": 542,
   "id": "028b6ea1",
   "metadata": {},
   "outputs": [
    {
     "data": {
      "image/png": "[encoded data removed]",
      "text/plain": [
       "<Figure size 648x648 with 1 Axes>"
      ]
     },
     "metadata": {
      "needs_background": "light"
     },
     "output_type": "display_data"
    }
   ],
   "source": [
    "show_relation(np.sign(Channel_link))"
   ]
  },
  {
   "cell_type": "code",
   "execution_count": 543,
   "id": "afd6d425",
   "metadata": {},
   "outputs": [
    {
     "name": "stdout",
     "output_type": "stream",
     "text": [
      "[0 2]\n"
     ]
    }
   ],
   "source": [
    "next_index,_ = np.where(VM_type==5)\n",
    "print(next_index)\n",
    "#print(y_index)"
   ]
  },
  {
   "cell_type": "code",
   "execution_count": 555,
   "id": "d5e12dcb",
   "metadata": {},
   "outputs": [],
   "source": [
    "#VM_DP_time"
   ]
  },
  {
   "cell_type": "code",
   "execution_count": 547,
   "id": "fe9560dd",
   "metadata": {},
   "outputs": [
    {
     "name": "stdout",
     "output_type": "stream",
     "text": [
      "每个任务的经过未知机器处理的最大时间\n",
      "[[1. 2. 2.]\n",
      " [1. 2. 1.]]\n",
      "Worst case processing T_max 为: 9.0\n"
     ]
    }
   ],
   "source": [
    "modified_VM_DP_time = VM_DP_time\n",
    "modified_VM_DP_time[np.isinf(modified_VM_DP_time)]=0\n",
    "print(\"每个任务的经过未知机器处理的最大时间\")\n",
    "print(np.max(modified_VM_DP_time[:,:,:],2))\n",
    "T_max_DP = np.sum(np.max(modified_VM_DP_time[:,:,:],2))\n",
    "print(\"Worst case processing T_max 为:\", T_max_DP)"
   ]
  },
  {
   "cell_type": "code",
   "execution_count": 548,
   "id": "1c0100ca",
   "metadata": {},
   "outputs": [
    {
     "name": "stdout",
     "output_type": "stream",
     "text": [
      "(2, 3, 3, 3)\n",
      "每个任务的经过未知link的最大时间\n",
      "[[7. 9. 7.]\n",
      " [9. 4. 4.]]\n",
      "Worst case of transmission T_max 为: 40.0\n"
     ]
    }
   ],
   "source": [
    "modified_Transmission_time = Transmission_time[:,1:,:,1:]\n",
    "modified_Transmission_time[np.isinf(modified_Transmission_time)] = 0  #可不做（只要左，上需要从除去inf，除非不是全连接图）\n",
    "print(np.shape(modified_Transmission_time))\n",
    "print(\"每个任务的经过未知link的最大时间\")\n",
    "print(np.max(modified_Transmission_time,(1,3)))\n",
    "\n",
    "T_max_DT = np.sum(np.max(modified_Transmission_time,(1,3)))\n",
    "\n",
    "print(\"Worst case of transmission T_max 为:\", T_max_DT)"
   ]
  },
  {
   "cell_type": "code",
   "execution_count": 549,
   "id": "e9f42411",
   "metadata": {},
   "outputs": [
    {
     "name": "stdout",
     "output_type": "stream",
     "text": [
      "Worst case of whole DT + DP T_max 为: 49\n"
     ]
    }
   ],
   "source": [
    "T_max = int(T_max_DP + T_max_DT )\n",
    "print(\"Worst case of whole DT + DP T_max 为:\", T_max)"
   ]
  },
  {
   "cell_type": "code",
   "execution_count": null,
   "id": "26ed80a3",
   "metadata": {},
   "outputs": [],
   "source": []
  },
  {
   "cell_type": "code",
   "execution_count": 550,
   "id": "dbe4f1c5",
   "metadata": {},
   "outputs": [
    {
     "name": "stdout",
     "output_type": "stream",
     "text": [
      "let t = 1 unit of time\n"
     ]
    }
   ],
   "source": [
    "print(\"let t = 1 unit of time\")"
   ]
  },
  {
   "cell_type": "code",
   "execution_count": 551,
   "id": "784e9606",
   "metadata": {},
   "outputs": [
    {
     "data": {
      "image/png": "[encoded data removed]",
      "text/plain": [
       "<Figure size 648x648 with 2 Axes>"
      ]
     },
     "metadata": {
      "needs_background": "light"
     },
     "output_type": "display_data"
    }
   ],
   "source": [
    "#Obj QUBO dont flatten yet\n",
    "w = np.zeros((I,J,N,N,T_max))\n",
    "w[:,J-1,:,:,:] = 1\n",
    "QUBO_0 = np.diag(w.flatten())\n",
    "#print(QUBO)\n",
    "show_graph(QUBO_0)"
   ]
  },
  {
   "cell_type": "code",
   "execution_count": 552,
   "id": "775116fa",
   "metadata": {},
   "outputs": [
    {
     "data": {
      "image/png": "[encoded data removed]",
      "text/plain": [
       "<Figure size 648x648 with 2 Axes>"
      ]
     },
     "metadata": {
      "needs_background": "light"
     },
     "output_type": "display_data"
    }
   ],
   "source": [
    "#C2\n",
    "P2 = np.ones((I,J))\n",
    "QUBO_2 = np.zeros_like(QUBO_0)\n",
    "\n",
    "#print(P2)\n",
    "for i in range(I):\n",
    "    for j in range(J):\n",
    "        w = np.zeros((I,J,N,N,T_max))\n",
    "        w[i,j,:,:,:] = 1    \n",
    "        QUBO_2 += P2[i,j]*np.outer(w.flatten(),w.flatten())\n",
    "        \n",
    "show_graph(QUBO_2)"
   ]
  },
  {
   "cell_type": "code",
   "execution_count": 553,
   "id": "d591b281",
   "metadata": {},
   "outputs": [
    {
     "name": "stdout",
     "output_type": "stream",
     "text": [
      "[1] [1]\n",
      "[0 1 2] [0 1 2]\n",
      "[1] [1]\n",
      "[0 1 2] [0 1 2]\n"
     ]
    },
    {
     "data": {
      "image/png": "[encoded data removed]",
      "text/plain": [
       "<Figure size 648x648 with 2 Axes>"
      ]
     },
     "metadata": {
      "needs_background": "light"
     },
     "output_type": "display_data"
    }
   ],
   "source": [
    "#C3 P 算错了 should be j-1\n",
    "P3 = np.ones((I,J))\n",
    "QUBO_3 = np.zeros_like(QUBO_0)\n",
    "\n",
    "#print(P3)\n",
    "for i in range(I):\n",
    "    for j in range(J-1):\n",
    "        \n",
    "        w = np.zeros((I,J,N,N,T_max))\n",
    "        V_ij_k, _ = np.where(VM_type == Data_input_type[i,j])\n",
    "        V_ijplus1_k, _ = np.where(VM_type == Data_input_type[i,j])\n",
    "        print(V_ij_k,V_ijplus1_k)\n",
    "        \n",
    "        w[i,j,V_ij_k,V_ijplus1_k,:] = 1    \n",
    "        QUBO_3 += P3[i,j]*np.outer(w.flatten(),w.flatten())\n",
    "\n",
    "show_graph(QUBO_3)\n",
    "        \n",
    "        \n"
   ]
  },
  {
   "cell_type": "code",
   "execution_count": 531,
   "id": "ecd6f74a",
   "metadata": {},
   "outputs": [
    {
     "name": "stdout",
     "output_type": "stream",
     "text": [
      "2 3 3\n"
     ]
    }
   ],
   "source": [
    "position_dictionary = {}\n",
    "print(I,J,N)"
   ]
  },
  {
   "cell_type": "code",
   "execution_count": 533,
   "id": "bf156641",
   "metadata": {},
   "outputs": [],
   "source": [
    "# set-up a dictionary\n",
    "\n",
    "# x input\n",
    "for i in range(I):\n",
    "    for j in range(J):\n",
    "        for m in range(N):\n",
    "            for n in range(N):\n",
    "                for t in range(T_max):\n",
    "                    \n",
    "                    multiplier = np.array([i,j,m,n,t])\n",
    "                    unit = np.array([J*T_max*N**2,T_max*N**2,T_max*N,T_max,1])\n",
    "                    #print(np.dot(multiplier,unit))\n",
    "                    position_dictionary[\"X_%d%d%d%d%d\"%(i,j,m,n,t)] = np.dot(multiplier,unit)\n",
    "\n",
    "Var_X_num = len(position_dictionary)\n",
    "# y input\n",
    "for i in range(I):\n",
    "    for j in range(J):\n",
    "        for m in range(N):\n",
    "            for t in range(T_max):\n",
    "                multiplier = np.array([i,j,m,t])\n",
    "                unit = np.array([J*T_max*N,,T_max*N,T_max,1])\n",
    "                #print(np.dot(multiplier,unit))\n",
    "                position_dictionary[\"X_%d%d%d%d%d\"%(i,j,m,n,t)] = np.dot(multiplier,unit) + Var_X_num\n",
    "                \n",
    "#"
   ]
  },
  {
   "cell_type": "code",
   "execution_count": 534,
   "id": "438c2edc",
   "metadata": {},
   "outputs": [
    {
     "data": {
      "text/plain": [
       "2160"
      ]
     },
     "execution_count": 534,
     "metadata": {},
     "output_type": "execute_result"
    }
   ],
   "source": [
    "len(position_dictionary)"
   ]
  },
  {
   "cell_type": "code",
   "execution_count": null,
   "id": "c2081a5a",
   "metadata": {},
   "outputs": [],
   "source": []
  },
  {
   "cell_type": "code",
   "execution_count": null,
   "id": "9a00306e",
   "metadata": {},
   "outputs": [],
   "source": []
  },
  {
   "cell_type": "code",
   "execution_count": null,
   "id": "5374ca89",
   "metadata": {},
   "outputs": [],
   "source": []
  },
  {
   "cell_type": "code",
   "execution_count": null,
   "id": "7e6840d6",
   "metadata": {},
   "outputs": [],
   "source": []
  },
  {
   "cell_type": "code",
   "execution_count": null,
   "id": "2600eb6a",
   "metadata": {},
   "outputs": [],
   "source": []
  },
  {
   "cell_type": "code",
   "execution_count": null,
   "id": "ffe7addb",
   "metadata": {},
   "outputs": [],
   "source": []
  },
  {
   "cell_type": "code",
   "execution_count": null,
   "id": "b0749dc6",
   "metadata": {},
   "outputs": [],
   "source": []
  },
  {
   "cell_type": "code",
   "execution_count": 471,
   "id": "ce597c90",
   "metadata": {},
   "outputs": [
    {
     "data": {
      "text/plain": [
       "'X_11331'"
      ]
     },
     "execution_count": 471,
     "metadata": {},
     "output_type": "execute_result"
    }
   ],
   "source": [
    "m = N\n",
    "n = N\n",
    "t = 1\n",
    "\"X_%d%d%d%d%d\"%(i,j,m,n,t)"
   ]
  },
  {
   "cell_type": "code",
   "execution_count": 472,
   "id": "9f466252",
   "metadata": {},
   "outputs": [
    {
     "data": {
      "text/plain": [
       "4225"
      ]
     },
     "execution_count": 472,
     "metadata": {},
     "output_type": "execute_result"
    }
   ],
   "source": [
    "multiplier = np.array([i,j,m,n,t])\n",
    "unit = np.array([J*T_max*N**2,T_max*N**2,T_max*N,T_max,1])\n",
    "np.dot(multiplier,unit)"
   ]
  },
  {
   "cell_type": "code",
   "execution_count": null,
   "id": "d4560fea",
   "metadata": {},
   "outputs": [],
   "source": []
  }
 ],
 "metadata": {
  "kernelspec": {
   "display_name": "Python 3",
   "language": "python",
   "name": "python3"
  },
  "language_info": {
   "codemirror_mode": {
    "name": "ipython",
    "version": 3
   },
   "file_extension": ".py",
   "mimetype": "text/x-python",
   "name": "python",
   "nbconvert_exporter": "python",
   "pygments_lexer": "ipython3",
   "version": "3.8.6"
  }
 },
 "nbformat": 4,
 "nbformat_minor": 5
}
