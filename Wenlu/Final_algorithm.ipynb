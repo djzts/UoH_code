{
 "cells": [
  {
   "cell_type": "code",
   "execution_count": 1,
   "id": "fd6683e7",
   "metadata": {},
   "outputs": [
    {
     "data": {
      "text/html": [
       "<style>.container { width:100% !important; }</style>"
      ],
      "text/plain": [
       "<IPython.core.display.HTML object>"
      ]
     },
     "metadata": {},
     "output_type": "display_data"
    }
   ],
   "source": [
    "%run Make_Questiones.ipynb\n",
    "import numpy as np\n",
    "from collections import defaultdict\n",
    "import random\n",
    "import matplotlib.pyplot as plt\n",
    "import warnings\n",
    "warnings.filterwarnings(\"ignore\")\n",
    "import time\n",
    "import csv"
   ]
  },
  {
   "cell_type": "code",
   "execution_count": 2,
   "id": "3fd8aa2f",
   "metadata": {},
   "outputs": [],
   "source": [
    "N = 2\n",
    "#M = 5\n",
    "I = 2\n",
    "J = 2\n",
    "K = 3\n",
    "Channel_upperbound = 35\n",
    "Data_upperbound = 20\n",
    "Processing_upperbound = 35\n",
    "self_looped = 100"
   ]
  },
  {
   "cell_type": "code",
   "execution_count": 3,
   "id": "06e2d24d",
   "metadata": {},
   "outputs": [
    {
     "name": "stdout",
     "output_type": "stream",
     "text": [
      "[[  0.   1.   1.]\n",
      " [  0. 100.  26.]\n",
      " [  0.  19. 100.]]\n"
     ]
    }
   ],
   "source": [
    "Channel_link = Create_channel(N,Channel_upperbound,option = \"same\",initial_length = 1)\n",
    "print(Channel_link)"
   ]
  },
  {
   "cell_type": "code",
   "execution_count": 4,
   "id": "02a2c712",
   "metadata": {},
   "outputs": [
    {
     "name": "stdout",
     "output_type": "stream",
     "text": [
      "[[1 2]\n",
      " [1 3]]\n",
      "[[3 1]\n",
      " [1 3]]\n"
     ]
    }
   ],
   "source": [
    "Data_input = Data_Queue(I,J,Data_upperbound)\n",
    "Data_input_type = Data_Queue_type(I,J,K)\n",
    "VM_type = VM_Data_type_gen(I,K,N)\n",
    "VM_speed = VM_Data_processing_speed(Processing_upperbound, VM_type, K)\n",
    "#print(Data_input_type)\n",
    "print(VM_type)\n",
    "print(Data_input_type)"
   ]
  },
  {
   "cell_type": "code",
   "execution_count": 5,
   "id": "aca497b0",
   "metadata": {},
   "outputs": [
    {
     "name": "stdout",
     "output_type": "stream",
     "text": [
      "(2, 2, 2) (2, 2) (2, 3)\n"
     ]
    }
   ],
   "source": [
    "\n",
    "\n",
    "VM_DP_time = VM_Data_processing_time(Data_input, Data_input_type , VM_speed)\n",
    "print(np.shape(VM_DP_time),np.shape( Data_input_type),np.shape(VM_speed))"
   ]
  },
  {
   "cell_type": "code",
   "execution_count": 6,
   "id": "2cc33ce2",
   "metadata": {},
   "outputs": [
    {
     "data": {
      "text/plain": [
       "array([[[inf,  2.],\n",
       "        [ 3.,  1.]],\n",
       "\n",
       "       [[ 5.,  1.],\n",
       "        [inf,  2.]]])"
      ]
     },
     "execution_count": 6,
     "metadata": {},
     "output_type": "execute_result"
    }
   ],
   "source": [
    "VM_DP_time"
   ]
  },
  {
   "cell_type": "code",
   "execution_count": 7,
   "id": "30515c45",
   "metadata": {},
   "outputs": [
    {
     "data": {
      "text/plain": [
       "(2, 3, 2, 3)"
      ]
     },
     "execution_count": 7,
     "metadata": {},
     "output_type": "execute_result"
    }
   ],
   "source": [
    "Transmission_time = Channel_Data_transmission_time(Data_input , Channel_link)\n",
    "np.shape(Transmission_time)\n"
   ]
  },
  {
   "cell_type": "code",
   "execution_count": 8,
   "id": "e2503d2d",
   "metadata": {},
   "outputs": [
    {
     "data": {
      "image/png": "[encoded data removed]",
      "text/plain": [
       "<Figure size 432x288 with 1 Axes>"
      ]
     },
     "metadata": {},
     "output_type": "display_data"
    }
   ],
   "source": [
    "Draw_network(Channel_link)"
   ]
  },
  {
   "cell_type": "code",
   "execution_count": 9,
   "id": "028b6ea1",
   "metadata": {},
   "outputs": [
    {
     "data": {
      "image/png": "[encoded data removed]",
      "text/plain": [
       "<Figure size 648x648 with 1 Axes>"
      ]
     },
     "metadata": {
      "needs_background": "light"
     },
     "output_type": "display_data"
    }
   ],
   "source": [
    "show_relation(np.sign(Channel_link))"
   ]
  },
  {
   "cell_type": "code",
   "execution_count": 10,
   "id": "afd6d425",
   "metadata": {},
   "outputs": [
    {
     "name": "stdout",
     "output_type": "stream",
     "text": [
      "[]\n"
     ]
    }
   ],
   "source": [
    "next_index,_ = np.where(VM_type==5)\n",
    "print(next_index)\n",
    "#print(y_index)"
   ]
  },
  {
   "cell_type": "code",
   "execution_count": null,
   "id": "d5e12dcb",
   "metadata": {},
   "outputs": [],
   "source": []
  },
  {
   "cell_type": "code",
   "execution_count": 11,
   "id": "fe9560dd",
   "metadata": {},
   "outputs": [
    {
     "name": "stdout",
     "output_type": "stream",
     "text": [
      "每个任务的经过未知机器处理的最大时间\n",
      "[[2. 3.]\n",
      " [5. 2.]]\n",
      "Worst case processing T_max 为: 12.0\n"
     ]
    }
   ],
   "source": [
    "modified_VM_DP_time = VM_DP_time\n",
    "modified_VM_DP_time[np.isinf(modified_VM_DP_time)]=0\n",
    "print(\"每个任务的经过未知机器处理的最大时间\")\n",
    "print(np.max(modified_VM_DP_time[:,:,:],2))\n",
    "T_max_DP = np.sum(np.max(modified_VM_DP_time[:,:,:],2))\n",
    "print(\"Worst case processing T_max 为:\", T_max_DP)"
   ]
  },
  {
   "cell_type": "code",
   "execution_count": 12,
   "id": "1c0100ca",
   "metadata": {},
   "outputs": [
    {
     "name": "stdout",
     "output_type": "stream",
     "text": [
      "(2, 2, 2, 2)\n",
      "每个任务的经过未知link的最大时间\n",
      "[[1. 1.]\n",
      " [2. 1.]]\n",
      "Worst case of transmission T_max 为: 5.0\n"
     ]
    }
   ],
   "source": [
    "modified_Transmission_time = Transmission_time[:,1:,:,1:]\n",
    "modified_Transmission_time[np.isinf(modified_Transmission_time)] = 0  #可不做（只要左，上需要从除去inf，除非不是全连接图）\n",
    "print(np.shape(modified_Transmission_time))\n",
    "print(\"每个任务的经过未知link的最大时间\")\n",
    "print(np.max(modified_Transmission_time,(1,3)))\n",
    "\n",
    "T_max_DT = np.sum(np.max(modified_Transmission_time,(1,3)))\n",
    "\n",
    "print(\"Worst case of transmission T_max 为:\", T_max_DT)"
   ]
  },
  {
   "cell_type": "code",
   "execution_count": 13,
   "id": "e9f42411",
   "metadata": {},
   "outputs": [
    {
     "name": "stdout",
     "output_type": "stream",
     "text": [
      "Worst case of whole DT + DP T_max 为: 17\n"
     ]
    }
   ],
   "source": [
    "T_max = int(T_max_DP + T_max_DT )\n",
    "print(\"Worst case of whole DT + DP T_max 为:\", T_max)"
   ]
  },
  {
   "cell_type": "code",
   "execution_count": 14,
   "id": "26ed80a3",
   "metadata": {},
   "outputs": [
    {
     "name": "stdout",
     "output_type": "stream",
     "text": [
      "6\n"
     ]
    }
   ],
   "source": [
    "initial_Transmission_time = Transmission_time[:,1:,:,1:]\n",
    "T_max = little_greedy_algorithm(VM_DP_time,initial_Transmission_time,I,J,N)\n",
    "print(T_max)"
   ]
  },
  {
   "cell_type": "code",
   "execution_count": 15,
   "id": "dbe4f1c5",
   "metadata": {},
   "outputs": [
    {
     "name": "stdout",
     "output_type": "stream",
     "text": [
      "let t = 1 unit of time\n"
     ]
    }
   ],
   "source": [
    "print(\"let t = 1 unit of time\")"
   ]
  },
  {
   "cell_type": "code",
   "execution_count": 16,
   "id": "5415f72a",
   "metadata": {},
   "outputs": [],
   "source": [
    "position_dictionary, Total = Make_dictionary(I,J,N,T_max)\n",
    "QUBO_init = np.zeros((Total, Total))"
   ]
  },
  {
   "cell_type": "code",
   "execution_count": 17,
   "id": "784e9606",
   "metadata": {},
   "outputs": [
    {
     "name": "stdout",
     "output_type": "stream",
     "text": [
      "\n"
     ]
    },
    {
     "data": {
      "image/png": "[encoded data removed]",
      "text/plain": [
       "<Figure size 648x648 with 2 Axes>"
      ]
     },
     "metadata": {
      "needs_background": "light"
     },
     "output_type": "display_data"
    }
   ],
   "source": [
    "#Obj QUBO dont flatten yet\n",
    "w = np.zeros((I,J,N,N,T_max))\n",
    "w[:,J-1,:,:,:] = 1\n",
    "print()\n",
    "QUBO_0 = np.zeros_like(QUBO_init)\n",
    "QUBO_0[:len(w.flatten()),:len(w.flatten())] = np.diag(w.flatten())\n",
    "\n",
    "#print(QUBO)\n",
    "show_graph(QUBO_0)"
   ]
  },
  {
   "cell_type": "code",
   "execution_count": 18,
   "id": "3ecadf46",
   "metadata": {},
   "outputs": [
    {
     "data": {
      "image/png": "[encoded data removed]",
      "text/plain": [
       "<Figure size 648x648 with 2 Axes>"
      ]
     },
     "metadata": {
      "needs_background": "light"
     },
     "output_type": "display_data"
    }
   ],
   "source": [
    "#C1\n",
    "P1 = np.ones((I,J))\n",
    "QUBO_1 = np.zeros_like(QUBO_init)\n",
    "for i in range(I):\n",
    "    for j in range(J):\n",
    "        V_ij_k, _ = np.where(VM_type == Data_input_type[i,j])\n",
    "        index_matched = [];\n",
    "        for machine in V_ij_k:\n",
    "            for t in range(T_max):\n",
    "                index_matched.append(position_dictionary['z_%d%d%d%d'%(i,j,machine,t)])\n",
    "        #print(index_matched)\n",
    "        z_matched = np.zeros(Total)\n",
    "        z_matched[np.array(index_matched)] = 1\n",
    "        QUBO_1 += P1[i,j]*np.outer(z_matched,z_matched)\n",
    "\n",
    "show_graph(QUBO_1)"
   ]
  },
  {
   "cell_type": "code",
   "execution_count": 19,
   "id": "775116fa",
   "metadata": {},
   "outputs": [
    {
     "data": {
      "image/png": "[encoded data removed]",
      "text/plain": [
       "<Figure size 648x648 with 2 Axes>"
      ]
     },
     "metadata": {
      "needs_background": "light"
     },
     "output_type": "display_data"
    }
   ],
   "source": [
    "#C2\n",
    "P2 = np.ones((I,J))\n",
    "QUBO_2 = np.zeros_like(QUBO_0)\n",
    "\n",
    "#print(P2)\n",
    "for i in range(I):\n",
    "    for j in range(J):\n",
    "        w = np.zeros((I,J,N,N,T_max))\n",
    "        w[i,j,:,:,:] = 1    \n",
    "        QUBO_2[:len(w.flatten()),:len(w.flatten())] += P2[i,j]*np.outer(w.flatten(),w.flatten())\n",
    "        \n",
    "show_graph(QUBO_2)"
   ]
  },
  {
   "cell_type": "code",
   "execution_count": 20,
   "id": "d591b281",
   "metadata": {},
   "outputs": [
    {
     "data": {
      "image/png": "[encoded data removed]",
      "text/plain": [
       "<Figure size 648x648 with 2 Axes>"
      ]
     },
     "metadata": {
      "needs_background": "light"
     },
     "output_type": "display_data"
    }
   ],
   "source": [
    "#C3 P 算错了 should be j-1\n",
    "P3 = np.ones((I,J))\n",
    "QUBO_3 = np.zeros_like(QUBO_0)\n",
    "\n",
    "#print(P3)\n",
    "for i in range(I):\n",
    "    for j in range(J-1):\n",
    "        \n",
    "        w = np.zeros((I,J,N,N,T_max))\n",
    "        V_ij_k, _ = np.where(VM_type == Data_input_type[i,j])\n",
    "        V_ijplus1_k, _ = np.where(VM_type == Data_input_type[i,j+1])\n",
    "        for m in V_ij_k:\n",
    "            for n in V_ijplus1_k:\n",
    "                w[i,j,m,n,:] = 1    \n",
    "        QUBO_3[:len(w.flatten()),:len(w.flatten())] += P3[i,j]*np.outer(w.flatten(),w.flatten())\n",
    "\n",
    "show_graph(QUBO_3)\n",
    "        \n",
    "        \n"
   ]
  },
  {
   "cell_type": "code",
   "execution_count": 21,
   "id": "bf156641",
   "metadata": {},
   "outputs": [
    {
     "data": {
      "image/png": "[encoded data removed]",
      "text/plain": [
       "<Figure size 648x648 with 2 Axes>"
      ]
     },
     "metadata": {
      "needs_background": "light"
     },
     "output_type": "display_data"
    }
   ],
   "source": [
    "#C4\n",
    "P4 = np.ones((N,T_max))\n",
    "QUBO_4 = np.zeros_like(QUBO_init)\n",
    "for m in range(N):\n",
    "    for t in range(T_max):\n",
    "        index_matched = []\n",
    "        for i in range(I):\n",
    "            for j in range(J):\n",
    "                index_matched.append(position_dictionary['y_%d%d%d%d'%(i,j,m,t)])\n",
    "        #print(index_matched)\n",
    "        y_matched = np.zeros(Total)\n",
    "        y_matched[np.array(index_matched)] = 1\n",
    "        #print(np.sum(y_matched))\n",
    "        QUBO_4 += P4[m,t]*(np.outer(y_matched,y_matched)-np.diag(y_matched))\n",
    "\n",
    "show_graph(QUBO_4)        "
   ]
  },
  {
   "cell_type": "code",
   "execution_count": 22,
   "id": "9a00306e",
   "metadata": {},
   "outputs": [
    {
     "data": {
      "image/png": "[encoded data removed]",
      "text/plain": [
       "<Figure size 648x648 with 2 Axes>"
      ]
     },
     "metadata": {
      "needs_background": "light"
     },
     "output_type": "display_data"
    }
   ],
   "source": [
    "#C6 这个M 有限制？\n",
    "P6 = np.ones((I,J,N))\n",
    "QUBO_6 = np.zeros_like(QUBO_init)\n",
    "for i in range(I):\n",
    "    for j in range(J-1):\n",
    "        for m in range(N):\n",
    "            index_matched = []\n",
    "            for t in range(T_max):\n",
    "                index_matched.append(position_dictionary['y_%d%d%d%d'%(i,j,m,t)])\n",
    "        #print(index_matched)\n",
    "            y_matched = np.zeros(Total)\n",
    "            y_matched[np.array(index_matched)] = 1\n",
    "            QUBO_6 += P6[i,j,m]*(modified_VM_DP_time[i,j,m] * (np.outer(y_matched,y_matched)-np.diag(y_matched))+np.diag(y_matched) )\n",
    "\n",
    "show_graph(QUBO_6)        "
   ]
  },
  {
   "cell_type": "code",
   "execution_count": 23,
   "id": "5374ca89",
   "metadata": {},
   "outputs": [
    {
     "data": {
      "image/png": "[encoded data removed]",
      "text/plain": [
       "<Figure size 648x648 with 2 Axes>"
      ]
     },
     "metadata": {
      "needs_background": "light"
     },
     "output_type": "display_data"
    }
   ],
   "source": [
    "#C9\n",
    "P9 = np.ones((N,N,T_max))\n",
    "QUBO_9 = np.zeros_like(QUBO_init)\n",
    "for m in range(N):\n",
    "    for n in range(N):\n",
    "        for t in range(T_max):\n",
    "            index_matched_term1 = []\n",
    "            index_matched_term2 = []\n",
    "            for i in range(I):\n",
    "                for j in range(J):\n",
    "                    index_matched_term1.append(position_dictionary['v_%d%d%d%d%d'%(i,j,m,n,t)])\n",
    "                    index_matched_term2.append(position_dictionary['v_%d%d%d%d%d'%(i,j,n,m,t)])\n",
    "            # record them down to 2 vectors\n",
    "            v_matched = np.zeros(Total)\n",
    "            v_matched[np.array(index_matched_term1)] = 1\n",
    "            v_matched[np.array(index_matched_term2)] = 1\n",
    "            # Part1\n",
    "            QUBO_9 += P9[m,n,t]*(np.outer(v_matched,v_matched)-np.diag(v_matched))\n",
    "\n",
    "show_graph(QUBO_9)    "
   ]
  },
  {
   "cell_type": "code",
   "execution_count": 24,
   "id": "7e6840d6",
   "metadata": {},
   "outputs": [
    {
     "data": {
      "image/png": "[encoded data removed]",
      "text/plain": [
       "<Figure size 648x648 with 2 Axes>"
      ]
     },
     "metadata": {
      "needs_background": "light"
     },
     "output_type": "display_data"
    }
   ],
   "source": [
    "#C11 这个M 有限制？\n",
    "P11 = np.ones((I,J,N,N))\n",
    "QUBO_11 = np.zeros_like(QUBO_init)\n",
    "for i in range(I):\n",
    "    for j in range(J-1):\n",
    "        for m in range(N):\n",
    "            for n in range(N):\n",
    "                index_matched = []\n",
    "                for t in range(T_max):\n",
    "                    index_matched.append(position_dictionary['v_%d%d%d%d%d'%(i,j,m,n,t)])\n",
    "                #print(index_matched)\n",
    "                v_matched = np.zeros(Total)\n",
    "                v_matched[np.array(index_matched)] = 1\n",
    "                QUBO_11 += P11[i,j,m,n]*(modified_Transmission_time[i,m,j,n] * (np.outer(v_matched,v_matched)-np.diag(v_matched))+np.diag(v_matched) )\n",
    "\n",
    "show_graph(QUBO_11)        "
   ]
  },
  {
   "cell_type": "code",
   "execution_count": 25,
   "id": "e94bc9eb",
   "metadata": {},
   "outputs": [
    {
     "data": {
      "image/png": "[encoded data removed]",
      "text/plain": [
       "<Figure size 648x648 with 2 Axes>"
      ]
     },
     "metadata": {
      "needs_background": "light"
     },
     "output_type": "display_data"
    }
   ],
   "source": [
    "QUBO = np.zeros_like(QUBO_init)\n",
    "QUBO = QUBO_0 + QUBO_1 + QUBO_2 + QUBO_3 + QUBO_4 + QUBO_6 + QUBO_9 + QUBO_11\n",
    "show_graph(QUBO) \n",
    "position_dictionary, Total = Make_dictionary(I,J,N,T_max)\n",
    "QUBO_init = np.zeros((Total, Total))\n",
    "with open('data.csv', 'w') as f:\n",
    "    for key in position_dictionary.keys():\n",
    "        f.write(\"%s, %s\\n\" % (key, position_dictionary[key]))\n",
    "Total = len(position_dictionary)\n"
   ]
  },
  {
   "cell_type": "code",
   "execution_count": 26,
   "id": "2600eb6a",
   "metadata": {},
   "outputs": [
    {
     "data": {
      "image/png": "[encoded data removed]",
      "text/plain": [
       "<Figure size 648x648 with 2 Axes>"
      ]
     },
     "metadata": {
      "needs_background": "light"
     },
     "output_type": "display_data"
    }
   ],
   "source": [
    "## Single Slack Variable part\n",
    "#C5\n",
    "constraint = 5\n",
    "P5 = np.ones((I,J,N,T_max))\n",
    "for i in range(I):\n",
    "    for j in range(J-1):\n",
    "        for m in range(N):\n",
    "            for t in range(T_max):\n",
    "            \n",
    "                index_matched_y = []\n",
    "                index_matched_y.append(position_dictionary['y_%d%d%d%d'%(i,j,m,t)])\n",
    "                \n",
    "                index_matched_w = []\n",
    "                V_ijplus1_k, _ = np.where(VM_type == Data_input_type[i,j+1])\n",
    "                for n in V_ijplus1_k:\n",
    "                    for t in range(T_max):\n",
    "                        index_matched_w.append(position_dictionary['w_%d%d%d%d%d'%(i,j,m,n,t)])\n",
    "                \n",
    "                #slack var\n",
    "                #print(np.shape(QUBO))\n",
    "                position_dictionary[\"s_%d_%d%d%d%d\"%(constraint,i,j,m,t)] = Total\n",
    "                Total += 1\n",
    "                QUBO = np.pad(QUBO, [(0, 1), (0, 1)], mode='constant', constant_values = 0)\n",
    "                #print(np.shape(QUBO))\n",
    "                #\n",
    "                \n",
    "                #print(len(position_dictionary))\n",
    "                var_matched = np.zeros(Total)\n",
    "                var_matched[index_matched_y] = 1\n",
    "                var_matched[index_matched_w] = -1\n",
    "                var_matched[-1] = 1\n",
    "                QUBO += P5[i,j,m,t]*np.outer(var_matched,var_matched)\n",
    "                \n",
    "show_graph(QUBO) "
   ]
  },
  {
   "cell_type": "code",
   "execution_count": 27,
   "id": "5be9e86c",
   "metadata": {},
   "outputs": [
    {
     "data": {
      "image/png": "[encoded data removed]",
      "text/plain": [
       "<Figure size 648x648 with 2 Axes>"
      ]
     },
     "metadata": {
      "needs_background": "light"
     },
     "output_type": "display_data"
    }
   ],
   "source": [
    "## Single Slack Variable part\n",
    "#C8\n",
    "constraint = 8\n",
    "P8 = np.ones((I,J,N,T_max))\n",
    "for i in range(I):\n",
    "    for j in range(J):\n",
    "        for m in range(N):\n",
    "            for t in range(T_max):\n",
    "                index_matched_y = []\n",
    "                index_matched_y.append(position_dictionary['y_%d%d%d%d'%(i,j,m,t)])                \n",
    "                \n",
    "                alpha = 0\n",
    "                index_matched_z = []\n",
    "                for alpha in range(1,int(modified_VM_DP_time[i,j,m])+1):\n",
    "                    index_matched_z.append(position_dictionary['z_%d%d%d%d'%(i,j,m,max(t-alpha+1,0))])\n",
    "                \n",
    "                #slack var\n",
    "                #print(np.shape(QUBO))\n",
    "                if (alpha <= 0):\n",
    "                    continue\n",
    "                else:    \n",
    "                    position_dictionary[\"s_%d_%d%d%d%d\"%(constraint,i,j,m,t)] = Total\n",
    "                    Total += 1\n",
    "                    QUBO = np.pad(QUBO, [(0, 1), (0, 1)], mode='constant', constant_values = 0)\n",
    "                    #print(np.shape(QUBO))\n",
    "                    #\n",
    "                \n",
    "                    #print(len(position_dictionary))\n",
    "                    var_matched = np.zeros(Total)\n",
    "                    var_matched[index_matched_y] = -1\n",
    "                    var_matched[np.unique(index_matched_z)] = 1\n",
    "                    var_matched[-1] = 1\n",
    "                    QUBO += P8[i,j,m,t]*np.outer(var_matched,var_matched)\n",
    "                \n",
    "show_graph(QUBO) "
   ]
  },
  {
   "cell_type": "code",
   "execution_count": 28,
   "id": "c11be5c8",
   "metadata": {},
   "outputs": [
    {
     "data": {
      "image/png": "[encoded data removed]",
      "text/plain": [
       "<Figure size 648x648 with 2 Axes>"
      ]
     },
     "metadata": {
      "needs_background": "light"
     },
     "output_type": "display_data"
    }
   ],
   "source": [
    "## Single Slack Variable part\n",
    "#C13\n",
    "constraint = 13\n",
    "P13 = np.ones((I,J,N,N,T_max))\n",
    "for i in range(I):\n",
    "    for j in range(J):\n",
    "        for m in range(N):\n",
    "            for n in range(N):\n",
    "                for t in range(T_max):\n",
    "                    index_matched_v = []\n",
    "                    index_matched_v.append(position_dictionary['v_%d%d%d%d%d'%(i,j,m,n,t)])                \n",
    "                    \n",
    "                    alpha = 0\n",
    "                    index_matched_w = []\n",
    "                    for alpha in range(1,int(modified_Transmission_time[i,m,j,n])+1):\n",
    "                        index_matched_w.append(position_dictionary['w_%d%d%d%d%d'%(i,j,m,n,max(t-alpha+1,0))])\n",
    "\n",
    "                    #slack var\n",
    "                    #print(np.shape(QUBO))\n",
    "                    if (alpha <= 0):\n",
    "                        continue\n",
    "                    else:    \n",
    "                        position_dictionary[\"s_%d_%d%d%d%d%d\"%(constraint,i,j,m,n,t)] = Total\n",
    "                        Total += 1\n",
    "                        QUBO = np.pad(QUBO, [(0, 1), (0, 1)], mode='constant', constant_values = 0)\n",
    "                        #print(np.shape(QUBO))\n",
    "                        #\n",
    "\n",
    "                        #print(len(position_dictionary))\n",
    "                        var_matched = np.zeros(Total)\n",
    "                        var_matched[index_matched_v] = -1\n",
    "                        var_matched[np.unique(index_matched_w)] = 1\n",
    "                        var_matched[-1] = 1\n",
    "                        QUBO += P13[i,j,m,n,t]*np.outer(var_matched,var_matched)\n",
    "                \n",
    "show_graph(QUBO) "
   ]
  },
  {
   "cell_type": "code",
   "execution_count": 29,
   "id": "6547bc3d",
   "metadata": {},
   "outputs": [
    {
     "data": {
      "image/png": "[encoded data removed]",
      "text/plain": [
       "<Figure size 648x648 with 2 Axes>"
      ]
     },
     "metadata": {
      "needs_background": "light"
     },
     "output_type": "display_data"
    }
   ],
   "source": [
    "## Double Slack Variable part\n",
    "#C7\n",
    "constraint = 7\n",
    "P7 = np.ones((I,J,N,N,T_max,T_max))\n",
    "for i in range(I):\n",
    "    for j in range(J):\n",
    "        for m in range(N):\n",
    "            for n in range(N):\n",
    "                for t in range(1,T_max):\n",
    "                    for beta in range(T_max-t):\n",
    "                        index_matched_w = position_dictionary['w_%d%d%d%d%d'%(i,j,m,n,t+beta)]\n",
    "                        index_matched_y1 = position_dictionary['y_%d%d%d%d'%(i,j,m,t-1)]\n",
    "                        index_matched_y2 = position_dictionary['y_%d%d%d%d'%(i,j,m,t)]\n",
    "                        index_matched_z = position_dictionary['z_%d%d%d%d'%(i,j,m,t)]\n",
    "                        \n",
    "                        position_dictionary[\"s_%d_%d%d%d%d%d\"%(constraint,i,j,m,n,t)] = Total\n",
    "                        Total += 2\n",
    "                        QUBO = np.pad(QUBO, [(0, 2), (0, 2)], mode='constant', constant_values = 0)\n",
    "                        \n",
    "                        var_matched = np.zeros(Total)\n",
    "                        var_matched[index_matched_w] = 1\n",
    "                        var_matched[index_matched_y1] = -1\n",
    "                        var_matched[index_matched_y2] = 1\n",
    "                        var_matched[index_matched_z] = -1\n",
    "                        var_matched[-2] = 1\n",
    "                        var_matched[-1] = 2\n",
    "                        \n",
    "                        QUBO += P7[i,j,m,n,t,beta]*np.outer(var_matched,var_matched)\n",
    "                        \n",
    "show_graph(QUBO)                         "
   ]
  },
  {
   "cell_type": "code",
   "execution_count": null,
   "id": "b95d6958",
   "metadata": {},
   "outputs": [],
   "source": []
  },
  {
   "cell_type": "code",
   "execution_count": 30,
   "id": "4f57eb26",
   "metadata": {},
   "outputs": [
    {
     "data": {
      "image/png": "[encoded data removed]",
      "text/plain": [
       "<Figure size 648x648 with 2 Axes>"
      ]
     },
     "metadata": {
      "needs_background": "light"
     },
     "output_type": "display_data"
    }
   ],
   "source": [
    "## Double Slack Variable part\n",
    "#C12\n",
    "constraint = 12\n",
    "P12 = np.ones((I,J,N,N,T_max,T_max))\n",
    "for i in range(I):\n",
    "    for j in range(J):\n",
    "        for m in range(N):\n",
    "            for n in range(N):\n",
    "                for t in range(1,T_max):\n",
    "                    for beta in range(T_max-t):\n",
    "                        index_matched_z = position_dictionary['z_%d%d%d%d'%(i,j,m,t+beta)]\n",
    "                        index_matched_v1 = position_dictionary['v_%d%d%d%d%d'%(i,j,m,n,t-1)]\n",
    "                        index_matched_v2 = position_dictionary['v_%d%d%d%d%d'%(i,j,m,n,t)]\n",
    "                        index_matched_w = position_dictionary['w_%d%d%d%d%d'%(i,j,m,n,t)]\n",
    "                        \n",
    "                        position_dictionary[\"s_%d_%d%d%d%d%d\"%(constraint,i,j,m,n,t)] = Total\n",
    "                        Total += 2\n",
    "                        QUBO = np.pad(QUBO, [(0, 2), (0, 2)], mode='constant', constant_values = 0)\n",
    "                        \n",
    "                        var_matched = np.zeros(Total)\n",
    "                        var_matched[index_matched_z] = 1\n",
    "                        var_matched[index_matched_v1] = -1\n",
    "                        var_matched[index_matched_v2] = 1\n",
    "                        var_matched[index_matched_w] = -1\n",
    "                        var_matched[-2] = 1\n",
    "                        var_matched[-1] = 2\n",
    "                        \n",
    "                        QUBO += P12[i,j,m,n,t,beta]*np.outer(var_matched,var_matched)\n",
    "\n",
    "show_graph(QUBO) "
   ]
  },
  {
   "cell_type": "code",
   "execution_count": 35,
   "id": "24c7f778",
   "metadata": {},
   "outputs": [],
   "source": [
    "width,height = np.shape(QUBO)"
   ]
  },
  {
   "cell_type": "code",
   "execution_count": 36,
   "id": "49582d35",
   "metadata": {},
   "outputs": [
    {
     "data": {
      "text/plain": [
       "(2, 1)"
      ]
     },
     "execution_count": 36,
     "metadata": {},
     "output_type": "execute_result"
    }
   ],
   "source": [
    "np.shape(np.array([[1],[2]]))"
   ]
  },
  {
   "cell_type": "code",
   "execution_count": null,
   "id": "7c2207ab",
   "metadata": {},
   "outputs": [],
   "source": []
  },
  {
   "cell_type": "code",
   "execution_count": null,
   "id": "0ae940c4",
   "metadata": {},
   "outputs": [],
   "source": []
  },
  {
   "cell_type": "code",
   "execution_count": null,
   "id": "4b70e1e8",
   "metadata": {},
   "outputs": [],
   "source": []
  },
  {
   "cell_type": "code",
   "execution_count": null,
   "id": "124d9a3d",
   "metadata": {},
   "outputs": [],
   "source": []
  },
  {
   "cell_type": "code",
   "execution_count": 37,
   "id": "481731cb",
   "metadata": {},
   "outputs": [],
   "source": [
    "from collections import defaultdict\n",
    "\n",
    "from dwave.system.samplers import DWaveSampler\n",
    "from dwave.system.composites import EmbeddingComposite\n",
    "import networkx as nx\n",
    "import numpy as np\n",
    "\n",
    "import matplotlib\n",
    "matplotlib.use(\"agg\")\n",
    "from matplotlib import pyplot as plt\n",
    "        "
   ]
  },
  {
   "cell_type": "code",
   "execution_count": 38,
   "id": "a27b9dd0",
   "metadata": {},
   "outputs": [
    {
     "ename": "ValueError",
     "evalue": "no embedding found",
     "output_type": "error",
     "traceback": [
      "\u001b[1;31m---------------------------------------------------------------------------\u001b[0m",
      "\u001b[1;31mValueError\u001b[0m                                Traceback (most recent call last)",
      "\u001b[1;32m<ipython-input-38-dc3c046ee429>\u001b[0m in \u001b[0;36m<module>\u001b[1;34m\u001b[0m\n\u001b[0;32m     20\u001b[0m \u001b[1;33m\u001b[0m\u001b[0m\n\u001b[0;32m     21\u001b[0m \u001b[0msampler\u001b[0m \u001b[1;33m=\u001b[0m \u001b[0mEmbeddingComposite\u001b[0m\u001b[1;33m(\u001b[0m\u001b[0mDWaveSampler\u001b[0m\u001b[1;33m(\u001b[0m\u001b[0msolver\u001b[0m\u001b[1;33m=\u001b[0m\u001b[1;33m{\u001b[0m\u001b[1;34m'topology__type'\u001b[0m\u001b[1;33m:\u001b[0m \u001b[1;34m'chimera'\u001b[0m\u001b[1;33m}\u001b[0m\u001b[1;33m)\u001b[0m\u001b[1;33m)\u001b[0m\u001b[1;33m\u001b[0m\u001b[1;33m\u001b[0m\u001b[0m\n\u001b[1;32m---> 22\u001b[1;33m \u001b[0mresponse\u001b[0m \u001b[1;33m=\u001b[0m \u001b[0msampler\u001b[0m\u001b[1;33m.\u001b[0m\u001b[0msample_qubo\u001b[0m\u001b[1;33m(\u001b[0m\u001b[0mQUBO_dictionary\u001b[0m\u001b[1;33m,\u001b[0m \u001b[0mchain_strength\u001b[0m\u001b[1;33m=\u001b[0m\u001b[0mchainstrength\u001b[0m\u001b[1;33m,\u001b[0m \u001b[0mnum_reads\u001b[0m\u001b[1;33m=\u001b[0m\u001b[0mnumruns\u001b[0m\u001b[1;33m)\u001b[0m\u001b[1;33m\u001b[0m\u001b[1;33m\u001b[0m\u001b[0m\n\u001b[0m",
      "\u001b[1;32mc:\\python38\\lib\\site-packages\\dimod\\core\\sampler.py\u001b[0m in \u001b[0;36msample_qubo\u001b[1;34m(self, Q, **parameters)\u001b[0m\n\u001b[0;32m    238\u001b[0m         \"\"\"\n\u001b[0;32m    239\u001b[0m         \u001b[0mbqm\u001b[0m \u001b[1;33m=\u001b[0m \u001b[0mBinaryQuadraticModel\u001b[0m\u001b[1;33m.\u001b[0m\u001b[0mfrom_qubo\u001b[0m\u001b[1;33m(\u001b[0m\u001b[0mQ\u001b[0m\u001b[1;33m)\u001b[0m\u001b[1;33m\u001b[0m\u001b[1;33m\u001b[0m\u001b[0m\n\u001b[1;32m--> 240\u001b[1;33m         \u001b[1;32mreturn\u001b[0m \u001b[0mself\u001b[0m\u001b[1;33m.\u001b[0m\u001b[0msample\u001b[0m\u001b[1;33m(\u001b[0m\u001b[0mbqm\u001b[0m\u001b[1;33m,\u001b[0m \u001b[1;33m**\u001b[0m\u001b[0mparameters\u001b[0m\u001b[1;33m)\u001b[0m\u001b[1;33m\u001b[0m\u001b[1;33m\u001b[0m\u001b[0m\n\u001b[0m",
      "\u001b[1;32mc:\\python38\\lib\\site-packages\\dwave\\system\\composites\\embedding.py\u001b[0m in \u001b[0;36msample\u001b[1;34m(self, bqm, chain_strength, chain_break_method, chain_break_fraction, embedding_parameters, return_embedding, warnings, **parameters)\u001b[0m\n\u001b[0;32m    239\u001b[0m \u001b[1;33m\u001b[0m\u001b[0m\n\u001b[0;32m    240\u001b[0m         \u001b[1;32mif\u001b[0m \u001b[0mbqm\u001b[0m \u001b[1;32mand\u001b[0m \u001b[1;32mnot\u001b[0m \u001b[0membedding\u001b[0m\u001b[1;33m:\u001b[0m\u001b[1;33m\u001b[0m\u001b[1;33m\u001b[0m\u001b[0m\n\u001b[1;32m--> 241\u001b[1;33m             \u001b[1;32mraise\u001b[0m \u001b[0mValueError\u001b[0m\u001b[1;33m(\u001b[0m\u001b[1;34m\"no embedding found\"\u001b[0m\u001b[1;33m)\u001b[0m\u001b[1;33m\u001b[0m\u001b[1;33m\u001b[0m\u001b[0m\n\u001b[0m\u001b[0;32m    242\u001b[0m \u001b[1;33m\u001b[0m\u001b[0m\n\u001b[0;32m    243\u001b[0m         \u001b[1;32mif\u001b[0m \u001b[1;32mnot\u001b[0m \u001b[0mhasattr\u001b[0m\u001b[1;33m(\u001b[0m\u001b[0membedding\u001b[0m\u001b[1;33m,\u001b[0m \u001b[1;34m'embed_bqm'\u001b[0m\u001b[1;33m)\u001b[0m\u001b[1;33m:\u001b[0m\u001b[1;33m\u001b[0m\u001b[1;33m\u001b[0m\u001b[0m\n",
      "\u001b[1;31mValueError\u001b[0m: no embedding found"
     ]
    }
   ],
   "source": [
    "#from dwave.system import LeapHybridSampler\n",
    "\n",
    "\n",
    "QUBO_dictionary = defaultdict(int)\n",
    "for i in range(width):\n",
    "    for j in range(height):\n",
    "        QUBO_dictionary[(i,j)] = QUBO[i,j]\n",
    "\n",
    "# Select a solver\n",
    "#sampler = LeapHybridSampler()\n",
    "\n",
    "\n",
    "\n",
    "# ------- Run our QUBO on the QPU -------\n",
    "# Set up QPU parameters\n",
    "chainstrength = 8\n",
    "numruns = 3  #Max =1e4 , a Complex problem needs more numruns \n",
    "\n",
    "#response = sampler.sample_qubo(QUBO)\n",
    "\n",
    "sampler = EmbeddingComposite(DWaveSampler(solver={'topology__type': 'chimera'}))\n",
    "response = sampler.sample_qubo(QUBO_dictionary, chain_strength=chainstrength, num_reads=numruns)"
   ]
  },
  {
   "cell_type": "code",
   "execution_count": 75,
   "id": "3a54b9b6",
   "metadata": {},
   "outputs": [
    {
     "data": {
      "text/plain": [
       "defaultdict(int,\n",
       "            {(0, 0): 7.0,\n",
       "             (0, 1): 6.0,\n",
       "             (0, 2): 6.0,\n",
       "             (0, 3): 6.0,\n",
       "             (0, 4): 6.0,\n",
       "             (0, 5): 1.0,\n",
       "             (0, 6): 1.0,\n",
       "             (0, 7): 1.0,\n",
       "             (0, 8): 1.0,\n",
       "             (0, 9): 1.0,\n",
       "             (0, 10): 1.0,\n",
       "             (0, 11): 1.0,\n",
       "             (0, 12): 1.0,\n",
       "             (0, 13): 1.0,\n",
       "             (0, 14): 1.0,\n",
       "             (0, 15): 1.0,\n",
       "             (0, 16): 1.0,\n",
       "             (0, 17): 1.0,\n",
       "             (0, 18): 1.0,\n",
       "             (0, 19): 1.0,\n",
       "             (0, 20): 0.0,\n",
       "             (0, 21): 0.0,\n",
       "             (0, 22): 0.0,\n",
       "             (0, 23): 0.0,\n",
       "             (0, 24): 0.0,\n",
       "             (0, 25): 0.0,\n",
       "             (0, 26): 0.0,\n",
       "             (0, 27): 0.0,\n",
       "             (0, 28): 0.0,\n",
       "             (0, 29): 0.0,\n",
       "             (0, 30): 0.0,\n",
       "             (0, 31): 0.0,\n",
       "             (0, 32): 0.0,\n",
       "             (0, 33): 0.0,\n",
       "             (0, 34): 0.0,\n",
       "             (0, 35): 0.0,\n",
       "             (0, 36): 0.0,\n",
       "             (0, 37): 0.0,\n",
       "             (0, 38): 0.0,\n",
       "             (0, 39): 0.0,\n",
       "             (0, 40): 0.0,\n",
       "             (0, 41): 0.0,\n",
       "             (0, 42): 0.0,\n",
       "             (0, 43): 0.0,\n",
       "             (0, 44): 0.0,\n",
       "             (0, 45): 0.0,\n",
       "             (0, 46): 0.0,\n",
       "             (0, 47): 0.0,\n",
       "             (0, 48): 0.0,\n",
       "             (0, 49): 0.0,\n",
       "             (0, 50): 0.0,\n",
       "             (0, 51): 0.0,\n",
       "             (0, 52): 0.0,\n",
       "             (0, 53): 0.0,\n",
       "             (0, 54): 0.0,\n",
       "             (0, 55): 0.0,\n",
       "             (0, 56): 0.0,\n",
       "             (0, 57): 0.0,\n",
       "             (0, 58): 0.0,\n",
       "             (0, 59): 0.0,\n",
       "             (0, 60): 0.0,\n",
       "             (0, 61): 0.0,\n",
       "             (0, 62): 0.0,\n",
       "             (0, 63): 0.0,\n",
       "             (0, 64): 0.0,\n",
       "             (0, 65): 0.0,\n",
       "             (0, 66): 0.0,\n",
       "             (0, 67): 0.0,\n",
       "             (0, 68): 0.0,\n",
       "             (0, 69): 0.0,\n",
       "             (0, 70): 0.0,\n",
       "             (0, 71): 0.0,\n",
       "             (0, 72): 0.0,\n",
       "             (0, 73): 0.0,\n",
       "             (0, 74): 0.0,\n",
       "             (0, 75): 0.0,\n",
       "             (0, 76): 0.0,\n",
       "             (0, 77): 0.0,\n",
       "             (0, 78): 0.0,\n",
       "             (0, 79): 0.0,\n",
       "             (0, 80): -1.0,\n",
       "             (0, 81): 0.0,\n",
       "             (0, 82): 0.0,\n",
       "             (0, 83): 0.0,\n",
       "             (0, 84): 0.0,\n",
       "             (0, 85): 0.0,\n",
       "             (0, 86): 0.0,\n",
       "             (0, 87): 0.0,\n",
       "             (0, 88): 0.0,\n",
       "             (0, 89): 0.0,\n",
       "             (0, 90): 0.0,\n",
       "             (0, 91): 0.0,\n",
       "             (0, 92): 0.0,\n",
       "             (0, 93): 0.0,\n",
       "             (0, 94): 0.0,\n",
       "             (0, 95): 0.0,\n",
       "             (0, 96): 0.0,\n",
       "             (0, 97): 0.0,\n",
       "             (0, 98): 0.0,\n",
       "             (0, 99): 0.0,\n",
       "             (0, 100): 0.0,\n",
       "             (0, 101): 0.0,\n",
       "             (0, 102): 0.0,\n",
       "             (0, 103): 0.0,\n",
       "             (0, 104): 0.0,\n",
       "             (0, 105): 0.0,\n",
       "             (0, 106): 0.0,\n",
       "             (0, 107): 0.0,\n",
       "             (0, 108): 0.0,\n",
       "             (0, 109): 0.0,\n",
       "             (0, 110): 0.0,\n",
       "             (0, 111): 0.0,\n",
       "             (0, 112): 0.0,\n",
       "             (0, 113): 0.0,\n",
       "             (0, 114): 0.0,\n",
       "             (0, 115): 0.0,\n",
       "             (0, 116): 0.0,\n",
       "             (0, 117): 0.0,\n",
       "             (0, 118): 0.0,\n",
       "             (0, 119): 0.0,\n",
       "             (0, 120): 0.0,\n",
       "             (0, 121): 0.0,\n",
       "             (0, 122): 0.0,\n",
       "             (0, 123): 0.0,\n",
       "             (0, 124): 0.0,\n",
       "             (0, 125): 0.0,\n",
       "             (0, 126): 0.0,\n",
       "             (0, 127): 0.0,\n",
       "             (0, 128): 0.0,\n",
       "             (0, 129): 0.0,\n",
       "             (0, 130): 0.0,\n",
       "             (0, 131): 0.0,\n",
       "             (0, 132): 0.0,\n",
       "             (0, 133): 0.0,\n",
       "             (0, 134): 0.0,\n",
       "             (0, 135): 0.0,\n",
       "             (0, 136): 0.0,\n",
       "             (0, 137): 0.0,\n",
       "             (0, 138): 0.0,\n",
       "             (0, 139): 0.0,\n",
       "             (0, 140): 0.0,\n",
       "             (0, 141): 0.0,\n",
       "             (0, 142): 0.0,\n",
       "             (0, 143): 0.0,\n",
       "             (0, 144): 0.0,\n",
       "             (0, 145): 0.0,\n",
       "             (0, 146): 0.0,\n",
       "             (0, 147): 0.0,\n",
       "             (0, 148): 0.0,\n",
       "             (0, 149): 0.0,\n",
       "             (0, 150): 0.0,\n",
       "             (0, 151): 0.0,\n",
       "             (0, 152): 0.0,\n",
       "             (0, 153): 0.0,\n",
       "             (0, 154): 0.0,\n",
       "             (0, 155): 0.0,\n",
       "             (0, 156): 0.0,\n",
       "             (0, 157): 0.0,\n",
       "             (0, 158): 0.0,\n",
       "             (0, 159): 0.0,\n",
       "             (0, 160): -1.0,\n",
       "             (0, 161): -1.0,\n",
       "             (0, 162): -1.0,\n",
       "             (0, 163): -1.0,\n",
       "             (0, 164): -1.0,\n",
       "             (0, 165): 0.0,\n",
       "             (0, 166): 0.0,\n",
       "             (0, 167): 0.0,\n",
       "             (0, 168): 0.0,\n",
       "             (0, 169): 0.0,\n",
       "             (0, 170): 0.0,\n",
       "             (0, 171): 0.0,\n",
       "             (0, 172): 0.0,\n",
       "             (0, 173): 0.0,\n",
       "             (0, 174): 0.0,\n",
       "             (0, 175): 0.0,\n",
       "             (0, 176): 0.0,\n",
       "             (0, 177): 0.0,\n",
       "             (0, 178): 0.0,\n",
       "             (0, 179): 0.0,\n",
       "             (0, 180): 0.0,\n",
       "             (0, 181): 0.0,\n",
       "             (0, 182): 0.0,\n",
       "             (0, 183): 0.0,\n",
       "             (0, 184): 0.0,\n",
       "             (0, 185): 0.0,\n",
       "             (0, 186): 0.0,\n",
       "             (0, 187): 0.0,\n",
       "             (0, 188): 0.0,\n",
       "             (0, 189): 0.0,\n",
       "             (0, 190): 0.0,\n",
       "             (0, 191): 0.0,\n",
       "             (0, 192): 0.0,\n",
       "             (0, 193): 0.0,\n",
       "             (0, 194): 0.0,\n",
       "             (0, 195): 0.0,\n",
       "             (0, 196): 0.0,\n",
       "             (0, 197): 0.0,\n",
       "             (0, 198): 0.0,\n",
       "             (0, 199): 0.0,\n",
       "             (0, 200): 0.0,\n",
       "             (0, 201): 0.0,\n",
       "             (0, 202): 0.0,\n",
       "             (0, 203): 0.0,\n",
       "             (0, 204): 0.0,\n",
       "             (0, 205): 0.0,\n",
       "             (0, 206): 0.0,\n",
       "             (0, 207): 0.0,\n",
       "             (0, 208): 0.0,\n",
       "             (0, 209): 0.0,\n",
       "             (0, 210): 0.0,\n",
       "             (0, 211): 0.0,\n",
       "             (0, 212): 0.0,\n",
       "             (0, 213): 0.0,\n",
       "             (0, 214): 0.0,\n",
       "             (0, 215): 0.0,\n",
       "             (0, 216): 0.0,\n",
       "             (0, 217): 0.0,\n",
       "             (0, 218): 0.0,\n",
       "             (0, 219): 0.0,\n",
       "             (0, 220): 0.0,\n",
       "             (0, 221): 0.0,\n",
       "             (0, 222): 0.0,\n",
       "             (0, 223): 0.0,\n",
       "             (0, 224): 0.0,\n",
       "             (0, 225): 0.0,\n",
       "             (0, 226): 0.0,\n",
       "             (0, 227): 0.0,\n",
       "             (0, 228): 0.0,\n",
       "             (0, 229): 0.0,\n",
       "             (0, 230): 0.0,\n",
       "             (0, 231): 0.0,\n",
       "             (0, 232): 0.0,\n",
       "             (0, 233): 0.0,\n",
       "             (0, 234): 0.0,\n",
       "             (0, 235): 0.0,\n",
       "             (0, 236): 0.0,\n",
       "             (0, 237): 0.0,\n",
       "             (0, 238): 0.0,\n",
       "             (0, 239): 0.0,\n",
       "             (0, 240): -1.0,\n",
       "             (0, 241): -1.0,\n",
       "             (0, 242): -1.0,\n",
       "             (0, 243): -1.0,\n",
       "             (0, 244): -1.0,\n",
       "             (0, 245): 0.0,\n",
       "             (0, 246): 0.0,\n",
       "             (0, 247): 0.0,\n",
       "             (0, 248): 0.0,\n",
       "             (0, 249): 0.0,\n",
       "             (0, 250): 0.0,\n",
       "             (0, 251): 0.0,\n",
       "             (0, 252): 0.0,\n",
       "             (0, 253): 0.0,\n",
       "             (0, 254): 0.0,\n",
       "             (0, 255): 0.0,\n",
       "             (0, 256): 0.0,\n",
       "             (0, 257): 0.0,\n",
       "             (0, 258): 0.0,\n",
       "             (0, 259): 0.0,\n",
       "             (0, 260): 0.0,\n",
       "             (0, 261): 0.0,\n",
       "             (0, 262): 0.0,\n",
       "             (0, 263): 0.0,\n",
       "             (0, 264): 0.0,\n",
       "             (0, 265): 0.0,\n",
       "             (0, 266): 0.0,\n",
       "             (0, 267): 0.0,\n",
       "             (0, 268): 0.0,\n",
       "             (0, 269): 0.0,\n",
       "             (0, 270): 0.0,\n",
       "             (0, 271): 0.0,\n",
       "             (0, 272): 0.0,\n",
       "             (0, 273): 0.0,\n",
       "             (0, 274): 0.0,\n",
       "             (0, 275): 0.0,\n",
       "             (0, 276): 0.0,\n",
       "             (0, 277): 0.0,\n",
       "             (0, 278): 0.0,\n",
       "             (0, 279): 0.0,\n",
       "             (0, 280): 0.0,\n",
       "             (0, 281): 0.0,\n",
       "             (0, 282): 0.0,\n",
       "             (0, 283): 0.0,\n",
       "             (0, 284): 0.0,\n",
       "             (0, 285): 1.0,\n",
       "             (0, 286): 0.0,\n",
       "             (0, 287): 0.0,\n",
       "             (0, 288): 0.0,\n",
       "             (0, 289): 0.0,\n",
       "             (0, 290): 0.0,\n",
       "             (0, 291): 0.0,\n",
       "             (0, 292): 0.0,\n",
       "             (0, 293): 0.0,\n",
       "             (0, 294): 0.0,\n",
       "             (0, 295): 0.0,\n",
       "             (0, 296): 0.0,\n",
       "             (0, 297): 0.0,\n",
       "             (0, 298): 0.0,\n",
       "             (0, 299): 0.0,\n",
       "             (0, 300): 0.0,\n",
       "             (0, 301): 0.0,\n",
       "             (0, 302): 0.0,\n",
       "             (0, 303): 0.0,\n",
       "             (0, 304): 0.0,\n",
       "             (0, 305): 0.0,\n",
       "             (0, 306): 0.0,\n",
       "             (0, 307): 0.0,\n",
       "             (0, 308): 0.0,\n",
       "             (0, 309): 0.0,\n",
       "             (0, 310): 0.0,\n",
       "             (0, 311): 0.0,\n",
       "             (0, 312): 0.0,\n",
       "             (0, 313): 0.0,\n",
       "             (0, 314): 0.0,\n",
       "             (0, 315): 0.0,\n",
       "             (0, 316): 0.0,\n",
       "             (0, 317): 0.0,\n",
       "             (0, 318): 0.0,\n",
       "             (0, 319): 0.0,\n",
       "             (0, 320): 0.0,\n",
       "             (0, 321): 0.0,\n",
       "             (0, 322): 0.0,\n",
       "             (0, 323): 0.0,\n",
       "             (0, 324): 0.0,\n",
       "             (0, 325): 0.0,\n",
       "             (0, 326): 0.0,\n",
       "             (0, 327): 0.0,\n",
       "             (0, 328): 0.0,\n",
       "             (0, 329): 0.0,\n",
       "             (0, 330): 0.0,\n",
       "             (0, 331): 0.0,\n",
       "             (0, 332): 0.0,\n",
       "             (0, 333): 0.0,\n",
       "             (0, 334): 0.0,\n",
       "             (0, 335): 0.0,\n",
       "             (0, 336): 0.0,\n",
       "             (0, 337): 0.0,\n",
       "             (0, 338): 0.0,\n",
       "             (0, 339): 0.0,\n",
       "             (0, 340): 0.0,\n",
       "             (0, 341): 0.0,\n",
       "             (0, 342): 0.0,\n",
       "             (0, 343): 0.0,\n",
       "             (0, 344): 0.0,\n",
       "             (0, 345): 0.0,\n",
       "             (0, 346): 0.0,\n",
       "             (0, 347): 0.0,\n",
       "             (0, 348): 0.0,\n",
       "             (0, 349): 0.0,\n",
       "             (0, 350): 0.0,\n",
       "             (0, 351): 0.0,\n",
       "             (0, 352): 0.0,\n",
       "             (0, 353): 0.0,\n",
       "             (0, 354): 0.0,\n",
       "             (0, 355): 0.0,\n",
       "             (0, 356): 0.0,\n",
       "             (0, 357): 0.0,\n",
       "             (0, 358): 0.0,\n",
       "             (0, 359): 0.0,\n",
       "             (0, 360): 0.0,\n",
       "             (0, 361): 0.0,\n",
       "             (0, 362): 0.0,\n",
       "             (0, 363): 0.0,\n",
       "             (0, 364): 0.0,\n",
       "             (0, 365): 0.0,\n",
       "             (0, 366): 0.0,\n",
       "             (0, 367): 0.0,\n",
       "             (0, 368): 0.0,\n",
       "             (0, 369): 0.0,\n",
       "             (0, 370): 0.0,\n",
       "             (0, 371): 0.0,\n",
       "             (0, 372): 0.0,\n",
       "             (0, 373): 0.0,\n",
       "             (0, 374): 0.0,\n",
       "             (0, 375): 0.0,\n",
       "             (0, 376): 0.0,\n",
       "             (0, 377): 0.0,\n",
       "             (0, 378): 0.0,\n",
       "             (0, 379): 0.0,\n",
       "             (0, 380): 0.0,\n",
       "             (0, 381): 0.0,\n",
       "             (0, 382): 0.0,\n",
       "             (0, 383): 0.0,\n",
       "             (0, 384): 0.0,\n",
       "             (0, 385): 0.0,\n",
       "             (0, 386): 0.0,\n",
       "             (0, 387): 0.0,\n",
       "             (0, 388): 0.0,\n",
       "             (0, 389): 0.0,\n",
       "             (0, 390): 0.0,\n",
       "             (0, 391): 0.0,\n",
       "             (0, 392): 0.0,\n",
       "             (0, 393): 0.0,\n",
       "             (0, 394): 0.0,\n",
       "             (0, 395): 0.0,\n",
       "             (0, 396): 0.0,\n",
       "             (0, 397): 0.0,\n",
       "             (0, 398): 0.0,\n",
       "             (0, 399): 0.0,\n",
       "             (0, 400): 0.0,\n",
       "             (0, 401): 0.0,\n",
       "             (0, 402): 0.0,\n",
       "             (0, 403): 0.0,\n",
       "             (0, 404): 0.0,\n",
       "             (0, 405): 0.0,\n",
       "             (0, 406): 0.0,\n",
       "             (0, 407): 0.0,\n",
       "             (0, 408): 0.0,\n",
       "             (0, 409): 0.0,\n",
       "             (0, 410): 0.0,\n",
       "             (0, 411): 0.0,\n",
       "             (0, 412): 0.0,\n",
       "             (0, 413): 0.0,\n",
       "             (0, 414): 0.0,\n",
       "             (0, 415): 0.0,\n",
       "             (0, 416): 0.0,\n",
       "             (0, 417): 0.0,\n",
       "             (0, 418): 0.0,\n",
       "             (0, 419): 0.0,\n",
       "             (0, 420): 0.0,\n",
       "             (0, 421): 0.0,\n",
       "             (0, 422): 0.0,\n",
       "             (0, 423): 0.0,\n",
       "             (0, 424): 0.0,\n",
       "             (0, 425): 0.0,\n",
       "             (0, 426): 0.0,\n",
       "             (0, 427): 0.0,\n",
       "             (0, 428): 0.0,\n",
       "             (0, 429): 0.0,\n",
       "             (0, 430): 0.0,\n",
       "             (0, 431): 0.0,\n",
       "             (0, 432): 0.0,\n",
       "             (0, 433): 0.0,\n",
       "             (0, 434): 0.0,\n",
       "             (0, 435): 0.0,\n",
       "             (0, 436): 0.0,\n",
       "             (0, 437): 0.0,\n",
       "             (0, 438): 0.0,\n",
       "             (0, 439): 0.0,\n",
       "             (0, 440): 0.0,\n",
       "             (0, 441): 0.0,\n",
       "             (0, 442): 0.0,\n",
       "             (0, 443): 0.0,\n",
       "             (0, 444): 0.0,\n",
       "             (0, 445): 0.0,\n",
       "             (0, 446): 0.0,\n",
       "             (0, 447): 0.0,\n",
       "             (0, 448): 0.0,\n",
       "             (0, 449): 0.0,\n",
       "             (0, 450): 0.0,\n",
       "             (0, 451): 0.0,\n",
       "             (0, 452): 0.0,\n",
       "             (0, 453): 0.0,\n",
       "             (0, 454): 0.0,\n",
       "             (0, 455): 0.0,\n",
       "             (0, 456): 0.0,\n",
       "             (0, 457): 0.0,\n",
       "             (0, 458): 0.0,\n",
       "             (0, 459): 0.0,\n",
       "             (0, 460): 0.0,\n",
       "             (0, 461): 0.0,\n",
       "             (0, 462): 0.0,\n",
       "             (0, 463): 0.0,\n",
       "             (0, 464): 0.0,\n",
       "             (0, 465): 0.0,\n",
       "             (0, 466): 0.0,\n",
       "             (0, 467): 0.0,\n",
       "             (0, 468): 0.0,\n",
       "             (0, 469): 0.0,\n",
       "             (0, 470): 0.0,\n",
       "             (0, 471): 0.0,\n",
       "             (0, 472): 0.0,\n",
       "             (0, 473): 0.0,\n",
       "             (0, 474): 0.0,\n",
       "             (0, 475): 0.0,\n",
       "             (0, 476): 0.0,\n",
       "             (0, 477): 0.0,\n",
       "             (0, 478): 0.0,\n",
       "             (0, 479): 0.0,\n",
       "             (0, 480): 0.0,\n",
       "             (0, 481): 0.0,\n",
       "             (0, 482): 0.0,\n",
       "             (0, 483): 0.0,\n",
       "             (0, 484): 0.0,\n",
       "             (0, 485): 0.0,\n",
       "             (0, 486): 0.0,\n",
       "             (0, 487): 0.0,\n",
       "             (0, 488): 0.0,\n",
       "             (0, 489): 0.0,\n",
       "             (0, 490): 0.0,\n",
       "             (0, 491): 0.0,\n",
       "             (0, 492): 0.0,\n",
       "             (0, 493): 0.0,\n",
       "             (0, 494): 0.0,\n",
       "             (0, 495): 0.0,\n",
       "             (0, 496): 0.0,\n",
       "             (0, 497): 0.0,\n",
       "             (0, 498): 0.0,\n",
       "             (0, 499): 0.0,\n",
       "             (0, 500): 0.0,\n",
       "             (0, 501): 0.0,\n",
       "             (0, 502): 0.0,\n",
       "             (0, 503): 0.0,\n",
       "             (0, 504): 0.0,\n",
       "             (0, 505): 0.0,\n",
       "             (0, 506): 0.0,\n",
       "             (0, 507): 0.0,\n",
       "             (0, 508): 0.0,\n",
       "             (0, 509): 0.0,\n",
       "             (0, 510): 0.0,\n",
       "             (0, 511): 0.0,\n",
       "             (0, 512): 0.0,\n",
       "             (0, 513): 0.0,\n",
       "             (0, 514): 0.0,\n",
       "             (0, 515): 0.0,\n",
       "             (0, 516): 0.0,\n",
       "             (0, 517): 0.0,\n",
       "             (0, 518): 0.0,\n",
       "             (0, 519): 0.0,\n",
       "             (0, 520): 0.0,\n",
       "             (0, 521): 0.0,\n",
       "             (0, 522): 0.0,\n",
       "             (0, 523): 0.0,\n",
       "             (0, 524): 0.0,\n",
       "             (0, 525): 0.0,\n",
       "             (0, 526): 0.0,\n",
       "             (0, 527): 0.0,\n",
       "             (0, 528): 0.0,\n",
       "             (0, 529): 0.0,\n",
       "             (0, 530): 0.0,\n",
       "             (0, 531): 0.0,\n",
       "             (0, 532): 0.0,\n",
       "             (0, 533): 0.0,\n",
       "             (0, 534): 0.0,\n",
       "             (0, 535): 0.0,\n",
       "             (0, 536): 0.0,\n",
       "             (0, 537): 0.0,\n",
       "             (0, 538): 0.0,\n",
       "             (0, 539): 0.0,\n",
       "             (0, 540): 0.0,\n",
       "             (0, 541): 0.0,\n",
       "             (0, 542): 0.0,\n",
       "             (0, 543): 0.0,\n",
       "             (0, 544): 0.0,\n",
       "             (0, 545): 0.0,\n",
       "             (0, 546): 0.0,\n",
       "             (0, 547): 0.0,\n",
       "             (0, 548): 0.0,\n",
       "             (0, 549): 0.0,\n",
       "             (0, 550): 0.0,\n",
       "             (0, 551): 0.0,\n",
       "             (0, 552): 0.0,\n",
       "             (0, 553): 0.0,\n",
       "             (0, 554): 0.0,\n",
       "             (0, 555): 0.0,\n",
       "             (0, 556): 0.0,\n",
       "             (0, 557): 0.0,\n",
       "             (0, 558): 0.0,\n",
       "             (0, 559): 0.0,\n",
       "             (0, 560): 0.0,\n",
       "             (0, 561): 0.0,\n",
       "             (0, 562): 0.0,\n",
       "             (0, 563): 0.0,\n",
       "             (0, 564): 0.0,\n",
       "             (0, 565): 0.0,\n",
       "             (0, 566): 0.0,\n",
       "             (0, 567): 0.0,\n",
       "             (0, 568): 0.0,\n",
       "             (0, 569): 0.0,\n",
       "             (0, 570): 0.0,\n",
       "             (0, 571): 0.0,\n",
       "             (0, 572): 0.0,\n",
       "             (0, 573): 0.0,\n",
       "             (0, 574): 0.0,\n",
       "             (0, 575): 0.0,\n",
       "             (0, 576): 0.0,\n",
       "             (0, 577): 0.0,\n",
       "             (0, 578): 0.0,\n",
       "             (0, 579): 0.0,\n",
       "             (0, 580): 0.0,\n",
       "             (0, 581): 0.0,\n",
       "             (0, 582): 0.0,\n",
       "             (0, 583): 0.0,\n",
       "             (0, 584): 0.0,\n",
       "             (0, 585): 0.0,\n",
       "             (0, 586): 0.0,\n",
       "             (0, 587): 0.0,\n",
       "             (0, 588): 0.0,\n",
       "             (0, 589): 0.0,\n",
       "             (0, 590): 0.0,\n",
       "             (0, 591): 0.0,\n",
       "             (0, 592): 0.0,\n",
       "             (0, 593): 0.0,\n",
       "             (0, 594): 0.0,\n",
       "             (0, 595): 0.0,\n",
       "             (0, 596): 0.0,\n",
       "             (0, 597): 0.0,\n",
       "             (0, 598): 0.0,\n",
       "             (0, 599): 0.0,\n",
       "             (0, 600): 0.0,\n",
       "             (0, 601): 0.0,\n",
       "             (0, 602): 0.0,\n",
       "             (0, 603): 0.0,\n",
       "             (0, 604): 0.0,\n",
       "             (0, 605): 0.0,\n",
       "             (0, 606): 0.0,\n",
       "             (0, 607): 0.0,\n",
       "             (0, 608): 0.0,\n",
       "             (0, 609): 0.0,\n",
       "             (0, 610): 0.0,\n",
       "             (0, 611): 0.0,\n",
       "             (0, 612): 0.0,\n",
       "             (0, 613): 0.0,\n",
       "             (0, 614): 0.0,\n",
       "             (0, 615): 0.0,\n",
       "             (0, 616): 0.0,\n",
       "             (0, 617): 0.0,\n",
       "             (0, 618): 0.0,\n",
       "             (0, 619): 0.0,\n",
       "             (0, 620): 0.0,\n",
       "             (0, 621): 0.0,\n",
       "             (0, 622): 0.0,\n",
       "             (0, 623): 0.0,\n",
       "             (0, 624): 0.0,\n",
       "             (0, 625): 0.0,\n",
       "             (0, 626): 0.0,\n",
       "             (0, 627): 0.0,\n",
       "             (0, 628): 0.0,\n",
       "             (0, 629): 0.0,\n",
       "             (0, 630): 0.0,\n",
       "             (0, 631): 0.0,\n",
       "             (0, 632): 0.0,\n",
       "             (0, 633): 0.0,\n",
       "             (0, 634): 0.0,\n",
       "             (0, 635): 0.0,\n",
       "             (0, 636): 0.0,\n",
       "             (0, 637): 0.0,\n",
       "             (0, 638): 0.0,\n",
       "             (0, 639): 0.0,\n",
       "             (0, 640): 0.0,\n",
       "             (0, 641): 0.0,\n",
       "             (0, 642): 0.0,\n",
       "             (0, 643): 0.0,\n",
       "             (0, 644): 0.0,\n",
       "             (0, 645): 0.0,\n",
       "             (0, 646): 0.0,\n",
       "             (0, 647): 0.0,\n",
       "             (0, 648): 0.0,\n",
       "             (0, 649): 0.0,\n",
       "             (0, 650): 0.0,\n",
       "             (0, 651): 0.0,\n",
       "             (0, 652): 0.0,\n",
       "             (0, 653): 0.0,\n",
       "             (0, 654): 0.0,\n",
       "             (0, 655): 0.0,\n",
       "             (0, 656): 0.0,\n",
       "             (0, 657): 0.0,\n",
       "             (0, 658): 0.0,\n",
       "             (0, 659): 0.0,\n",
       "             (0, 660): 0.0,\n",
       "             (0, 661): 0.0,\n",
       "             (0, 662): 0.0,\n",
       "             (0, 663): 0.0,\n",
       "             (0, 664): 0.0,\n",
       "             (0, 665): 0.0,\n",
       "             (0, 666): 0.0,\n",
       "             (0, 667): 0.0,\n",
       "             (0, 668): 0.0,\n",
       "             (0, 669): 0.0,\n",
       "             (0, 670): 0.0,\n",
       "             (0, 671): 0.0,\n",
       "             (0, 672): 0.0,\n",
       "             (0, 673): 0.0,\n",
       "             (0, 674): 0.0,\n",
       "             (0, 675): 0.0,\n",
       "             (0, 676): 0.0,\n",
       "             (0, 677): 0.0,\n",
       "             (0, 678): 0.0,\n",
       "             (0, 679): 0.0,\n",
       "             (0, 680): 0.0,\n",
       "             (0, 681): 0.0,\n",
       "             (0, 682): 0.0,\n",
       "             (0, 683): 0.0,\n",
       "             (0, 684): 0.0,\n",
       "             (0, 685): 0.0,\n",
       "             (0, 686): 0.0,\n",
       "             (0, 687): 0.0,\n",
       "             (0, 688): 0.0,\n",
       "             (0, 689): 0.0,\n",
       "             (0, 690): 0.0,\n",
       "             (0, 691): 0.0,\n",
       "             (0, 692): 0.0,\n",
       "             (0, 693): 0.0,\n",
       "             (0, 694): 0.0,\n",
       "             (0, 695): 0.0,\n",
       "             (0, 696): 0.0,\n",
       "             (0, 697): 0.0,\n",
       "             (0, 698): 0.0,\n",
       "             (0, 699): 0.0,\n",
       "             (0, 700): 0.0,\n",
       "             (0, 701): 0.0,\n",
       "             (0, 702): 0.0,\n",
       "             (0, 703): 0.0,\n",
       "             (0, 704): 0.0,\n",
       "             (0, 705): 0.0,\n",
       "             (0, 706): 0.0,\n",
       "             (0, 707): 0.0,\n",
       "             (0, 708): 0.0,\n",
       "             (0, 709): 0.0,\n",
       "             (0, 710): 0.0,\n",
       "             (0, 711): 0.0,\n",
       "             (0, 712): 0.0,\n",
       "             (0, 713): 0.0,\n",
       "             (0, 714): 0.0,\n",
       "             (0, 715): 0.0,\n",
       "             (0, 716): 0.0,\n",
       "             (0, 717): 0.0,\n",
       "             (0, 718): 0.0,\n",
       "             (0, 719): 0.0,\n",
       "             (0, 720): 0.0,\n",
       "             (0, 721): 0.0,\n",
       "             (0, 722): 0.0,\n",
       "             (0, 723): 0.0,\n",
       "             (0, 724): 0.0,\n",
       "             (0, 725): 0.0,\n",
       "             (0, 726): 0.0,\n",
       "             (0, 727): 0.0,\n",
       "             (0, 728): 0.0,\n",
       "             (0, 729): 0.0,\n",
       "             (0, 730): 0.0,\n",
       "             (0, 731): 0.0,\n",
       "             (0, 732): 0.0,\n",
       "             (0, 733): 0.0,\n",
       "             (0, 734): 0.0,\n",
       "             (0, 735): 0.0,\n",
       "             (0, 736): 0.0,\n",
       "             (0, 737): 0.0,\n",
       "             (0, 738): 0.0,\n",
       "             (0, 739): 0.0,\n",
       "             (0, 740): 0.0,\n",
       "             (0, 741): 0.0,\n",
       "             (0, 742): 0.0,\n",
       "             (0, 743): 0.0,\n",
       "             (0, 744): 0.0,\n",
       "             (0, 745): 0.0,\n",
       "             (0, 746): 0.0,\n",
       "             (0, 747): 0.0,\n",
       "             (0, 748): 0.0,\n",
       "             (0, 749): 0.0,\n",
       "             (0, 750): 0.0,\n",
       "             (0, 751): 0.0,\n",
       "             (0, 752): 0.0,\n",
       "             (0, 753): 0.0,\n",
       "             (0, 754): 0.0,\n",
       "             (0, 755): 0.0,\n",
       "             (0, 756): 0.0,\n",
       "             (0, 757): 0.0,\n",
       "             (0, 758): 0.0,\n",
       "             (0, 759): 0.0,\n",
       "             (0, 760): 0.0,\n",
       "             (0, 761): 0.0,\n",
       "             (0, 762): 0.0,\n",
       "             (0, 763): 0.0,\n",
       "             (0, 764): 0.0,\n",
       "             (0, 765): 0.0,\n",
       "             (0, 766): 0.0,\n",
       "             (0, 767): 0.0,\n",
       "             (0, 768): 0.0,\n",
       "             (0, 769): 0.0,\n",
       "             (0, 770): 0.0,\n",
       "             (0, 771): 0.0,\n",
       "             (0, 772): 0.0,\n",
       "             (0, 773): 0.0,\n",
       "             (0, 774): 0.0,\n",
       "             (0, 775): 0.0,\n",
       "             (0, 776): 0.0,\n",
       "             (0, 777): 0.0,\n",
       "             (0, 778): 0.0,\n",
       "             (0, 779): 0.0,\n",
       "             (0, 780): 0.0,\n",
       "             (0, 781): 0.0,\n",
       "             (0, 782): 0.0,\n",
       "             (0, 783): 0.0,\n",
       "             (0, 784): 0.0,\n",
       "             (0, 785): 0.0,\n",
       "             (0, 786): 0.0,\n",
       "             (0, 787): 0.0,\n",
       "             (0, 788): 0.0,\n",
       "             (0, 789): 0.0,\n",
       "             (0, 790): 0.0,\n",
       "             (0, 791): 0.0,\n",
       "             (0, 792): 0.0,\n",
       "             (0, 793): 0.0,\n",
       "             (0, 794): 0.0,\n",
       "             (0, 795): 0.0,\n",
       "             (0, 796): 0.0,\n",
       "             (0, 797): 0.0,\n",
       "             (0, 798): 0.0,\n",
       "             (0, 799): 0.0,\n",
       "             (0, 800): 0.0,\n",
       "             (0, 801): 0.0,\n",
       "             (0, 802): 0.0,\n",
       "             (0, 803): 0.0,\n",
       "             (0, 804): 0.0,\n",
       "             (0, 805): 0.0,\n",
       "             (0, 806): 0.0,\n",
       "             (0, 807): 0.0,\n",
       "             (0, 808): 0.0,\n",
       "             (0, 809): 0.0,\n",
       "             (0, 810): 0.0,\n",
       "             (0, 811): 0.0,\n",
       "             (0, 812): 0.0,\n",
       "             (0, 813): 0.0,\n",
       "             (0, 814): 0.0,\n",
       "             (0, 815): 0.0,\n",
       "             (0, 816): 0.0,\n",
       "             (0, 817): 0.0,\n",
       "             (0, 818): 0.0,\n",
       "             (0, 819): 0.0,\n",
       "             (0, 820): 0.0,\n",
       "             (0, 821): 0.0,\n",
       "             (0, 822): 0.0,\n",
       "             (0, 823): 0.0,\n",
       "             (0, 824): 0.0,\n",
       "             (0, 825): 0.0,\n",
       "             (0, 826): 0.0,\n",
       "             (0, 827): 0.0,\n",
       "             (0, 828): 0.0,\n",
       "             (0, 829): 0.0,\n",
       "             (0, 830): 0.0,\n",
       "             (0, 831): 0.0,\n",
       "             (0, 832): 0.0,\n",
       "             (0, 833): 0.0,\n",
       "             (0, 834): 0.0,\n",
       "             (0, 835): 0.0,\n",
       "             (0, 836): 0.0,\n",
       "             (0, 837): 0.0,\n",
       "             (0, 838): 0.0,\n",
       "             (0, 839): 0.0,\n",
       "             (0, 840): 0.0,\n",
       "             (0, 841): 0.0,\n",
       "             (0, 842): 0.0,\n",
       "             (0, 843): 0.0,\n",
       "             (0, 844): 0.0,\n",
       "             (0, 845): 0.0,\n",
       "             (0, 846): 0.0,\n",
       "             (0, 847): 0.0,\n",
       "             (0, 848): 0.0,\n",
       "             (0, 849): 0.0,\n",
       "             (0, 850): 0.0,\n",
       "             (0, 851): 0.0,\n",
       "             (0, 852): 0.0,\n",
       "             (0, 853): 0.0,\n",
       "             (0, 854): 0.0,\n",
       "             (0, 855): 0.0,\n",
       "             (0, 856): 0.0,\n",
       "             (0, 857): 0.0,\n",
       "             (0, 858): 0.0,\n",
       "             (0, 859): 0.0,\n",
       "             (0, 860): 0.0,\n",
       "             (0, 861): 0.0,\n",
       "             (0, 862): 0.0,\n",
       "             (0, 863): 0.0,\n",
       "             (0, 864): 0.0,\n",
       "             (0, 865): 0.0,\n",
       "             (0, 866): 0.0,\n",
       "             (0, 867): 0.0,\n",
       "             (0, 868): 0.0,\n",
       "             (0, 869): 0.0,\n",
       "             (0, 870): 0.0,\n",
       "             (0, 871): 0.0,\n",
       "             (0, 872): 0.0,\n",
       "             (0, 873): 0.0,\n",
       "             (0, 874): 0.0,\n",
       "             (0, 875): 0.0,\n",
       "             (0, 876): 0.0,\n",
       "             (0, 877): 0.0,\n",
       "             (0, 878): 0.0,\n",
       "             (0, 879): 0.0,\n",
       "             (0, 880): 0.0,\n",
       "             (0, 881): 0.0,\n",
       "             (0, 882): 0.0,\n",
       "             (0, 883): 0.0,\n",
       "             (0, 884): 0.0,\n",
       "             (0, 885): 0.0,\n",
       "             (0, 886): 0.0,\n",
       "             (0, 887): 0.0,\n",
       "             (0, 888): 0.0,\n",
       "             (0, 889): 0.0,\n",
       "             (0, 890): 0.0,\n",
       "             (0, 891): 0.0,\n",
       "             (0, 892): 0.0,\n",
       "             (0, 893): 0.0,\n",
       "             (0, 894): 0.0,\n",
       "             (0, 895): 0.0,\n",
       "             (0, 896): 0.0,\n",
       "             (0, 897): 0.0,\n",
       "             (0, 898): 0.0,\n",
       "             (0, 899): 0.0,\n",
       "             (0, 900): 0.0,\n",
       "             (0, 901): 0.0,\n",
       "             (0, 902): 0.0,\n",
       "             (0, 903): 0.0,\n",
       "             (0, 904): 0.0,\n",
       "             (0, 905): 0.0,\n",
       "             (0, 906): 0.0,\n",
       "             (0, 907): 0.0,\n",
       "             (0, 908): 0.0,\n",
       "             (0, 909): 0.0,\n",
       "             (0, 910): 0.0,\n",
       "             (0, 911): 0.0,\n",
       "             (0, 912): 0.0,\n",
       "             (0, 913): 0.0,\n",
       "             (0, 914): 0.0,\n",
       "             (0, 915): 0.0,\n",
       "             (0, 916): 0.0,\n",
       "             (0, 917): 0.0,\n",
       "             (0, 918): 0.0,\n",
       "             (0, 919): 0.0,\n",
       "             (0, 920): 0.0,\n",
       "             (0, 921): 0.0,\n",
       "             (0, 922): 0.0,\n",
       "             (0, 923): 0.0,\n",
       "             (0, 924): 0.0,\n",
       "             (0, 925): 0.0,\n",
       "             (0, 926): 0.0,\n",
       "             (0, 927): 0.0,\n",
       "             (0, 928): 0.0,\n",
       "             (0, 929): 0.0,\n",
       "             (0, 930): 0.0,\n",
       "             (0, 931): 0.0,\n",
       "             (0, 932): 0.0,\n",
       "             (0, 933): 0.0,\n",
       "             (0, 934): 0.0,\n",
       "             (0, 935): 0.0,\n",
       "             (0, 936): 0.0,\n",
       "             (0, 937): 0.0,\n",
       "             (0, 938): 0.0,\n",
       "             (0, 939): 0.0,\n",
       "             (0, 940): 0.0,\n",
       "             (0, 941): 0.0,\n",
       "             (0, 942): 0.0,\n",
       "             (0, 943): 0.0,\n",
       "             (0, 944): 0.0,\n",
       "             (0, 945): 0.0,\n",
       "             (0, 946): 0.0,\n",
       "             (0, 947): 0.0,\n",
       "             (0, 948): 0.0,\n",
       "             (0, 949): 0.0,\n",
       "             (0, 950): 0.0,\n",
       "             (0, 951): 0.0,\n",
       "             (0, 952): 0.0,\n",
       "             (0, 953): 0.0,\n",
       "             (0, 954): 0.0,\n",
       "             (0, 955): 0.0,\n",
       "             (0, 956): 0.0,\n",
       "             (0, 957): 0.0,\n",
       "             (0, 958): 0.0,\n",
       "             (0, 959): 0.0,\n",
       "             (0, 960): 0.0,\n",
       "             (0, 961): 0.0,\n",
       "             (0, 962): 0.0,\n",
       "             (0, 963): 0.0,\n",
       "             (0, 964): 0.0,\n",
       "             (0, 965): 0.0,\n",
       "             (0, 966): 0.0,\n",
       "             (0, 967): 0.0,\n",
       "             (0, 968): 0.0,\n",
       "             (0, 969): 0.0,\n",
       "             (0, 970): 0.0,\n",
       "             (0, 971): 0.0,\n",
       "             (0, 972): 0.0,\n",
       "             (0, 973): 0.0,\n",
       "             (0, 974): 0.0,\n",
       "             (0, 975): 0.0,\n",
       "             (0, 976): 0.0,\n",
       "             (0, 977): 0.0,\n",
       "             (0, 978): 0.0,\n",
       "             (0, 979): 0.0,\n",
       "             (0, 980): 0.0,\n",
       "             (0, 981): 0.0,\n",
       "             (0, 982): 0.0,\n",
       "             (0, 983): 0.0,\n",
       "             (0, 984): 0.0,\n",
       "             (0, 985): 0.0,\n",
       "             (0, 986): 0.0,\n",
       "             (0, 987): 0.0,\n",
       "             (0, 988): 0.0,\n",
       "             (0, 989): 0.0,\n",
       "             (0, 990): 0.0,\n",
       "             (0, 991): 0.0,\n",
       "             (0, 992): 0.0,\n",
       "             (0, 993): 0.0,\n",
       "             (0, 994): 0.0,\n",
       "             (0, 995): 0.0,\n",
       "             (0, 996): 0.0,\n",
       "             (0, 997): 0.0,\n",
       "             (0, 998): 0.0,\n",
       "             (0, 999): 0.0,\n",
       "             ...})"
      ]
     },
     "execution_count": 75,
     "metadata": {},
     "output_type": "execute_result"
    }
   ],
   "source": [
    "QUBO_dictionary"
   ]
  },
  {
   "cell_type": "code",
   "execution_count": null,
   "id": "16bf8ee0",
   "metadata": {},
   "outputs": [],
   "source": [
    "## Retrieve QPU timing data\n",
    "print(response.info[\"timing\"]) \n",
    "\n",
    "## Retrieve Energy data  \n",
    "energies = iter(response.data())"
   ]
  },
  {
   "cell_type": "code",
   "execution_count": null,
   "id": "bcf84134",
   "metadata": {},
   "outputs": [],
   "source": [
    "print(response.info) "
   ]
  },
  {
   "cell_type": "code",
   "execution_count": null,
   "id": "ece35e10",
   "metadata": {},
   "outputs": [],
   "source": [
    "print('-' * 60)\n",
    "print('{:>15s}{:>15s}{:^15s}{:^15s}'.format('Set 0','Set 1','Energy','Cut Size'))\n",
    "print('-' * 60)\n",
    "for rank, line in enumerate(response):\n",
    "    # 2.\n",
    "    S0_alt = \"\"\n",
    "    for k,v in line.items():\n",
    "        S0_alt += str(v)\n",
    "    #print(type(v)) \n",
    "    E = next(energies).energy\n",
    "  \n",
    "    # 2. Binary representation: Example 5 vertices: '11000' --> -15 15\n",
    "    print('{:>15s} --> {:^15s}{:^15s}'.format(str(rank),str(E),str(int(-1*E))))\n",
    "    \n",
    "    # only show lowest x(x = 20) enegy values and their combinations.\n",
    "    if rank > 20:\n",
    "        break"
   ]
  },
  {
   "cell_type": "code",
   "execution_count": null,
   "id": "62be809c",
   "metadata": {},
   "outputs": [],
   "source": []
  },
  {
   "cell_type": "code",
   "execution_count": null,
   "id": "af3b055c",
   "metadata": {},
   "outputs": [],
   "source": []
  },
  {
   "cell_type": "code",
   "execution_count": null,
   "id": "554b6a6a",
   "metadata": {},
   "outputs": [],
   "source": []
  },
  {
   "cell_type": "code",
   "execution_count": null,
   "id": "d6024044",
   "metadata": {},
   "outputs": [],
   "source": []
  },
  {
   "cell_type": "code",
   "execution_count": null,
   "id": "01b2a755",
   "metadata": {},
   "outputs": [],
   "source": []
  },
  {
   "cell_type": "code",
   "execution_count": null,
   "id": "a627d036",
   "metadata": {},
   "outputs": [],
   "source": []
  },
  {
   "cell_type": "code",
   "execution_count": 67,
   "id": "339eea5f",
   "metadata": {},
   "outputs": [],
   "source": [
    "f = line[1]"
   ]
  },
  {
   "cell_type": "code",
   "execution_count": 75,
   "id": "5927905a",
   "metadata": {},
   "outputs": [
    {
     "name": "stdout",
     "output_type": "stream",
     "text": [
      "(2175,)\n"
     ]
    }
   ],
   "source": [
    "vals = np.fromiter(f.values(), dtype=int)\n",
    "print(np.shape(vals))"
   ]
  },
  {
   "cell_type": "code",
   "execution_count": 73,
   "id": "4a860cb2",
   "metadata": {},
   "outputs": [
    {
     "name": "stdout",
     "output_type": "stream",
     "text": [
      "[1 2 3 4]\n"
     ]
    }
   ],
   "source": [
    "dict = {\"a\": 1, \"b\": 2, \"c\": 3, \"d\": 4}\n",
    "vals = np.fromiter(dict.values(), dtype=int)\n",
    "print(vals)"
   ]
  },
  {
   "cell_type": "code",
   "execution_count": 68,
   "id": "b0749dc6",
   "metadata": {},
   "outputs": [
    {
     "ename": "IndentationError",
     "evalue": "unexpected indent (<ipython-input-68-6e4e43c6da88>, line 10)",
     "output_type": "error",
     "traceback": [
      "\u001b[1;36m  File \u001b[1;32m\"<ipython-input-68-6e4e43c6da88>\"\u001b[1;36m, line \u001b[1;32m10\u001b[0m\n\u001b[1;33m    S0_alt = \"\"\u001b[0m\n\u001b[1;37m    ^\u001b[0m\n\u001b[1;31mIndentationError\u001b[0m\u001b[1;31m:\u001b[0m unexpected indent\n"
     ]
    }
   ],
   "source": [
    "# 1.\n",
    "    # S0 = [k for k,v in line.items() if v == 0]\n",
    "    # S1 = [k for k,v in line.items() if v == 1]\n",
    "    # \n",
    "    # Vertices representation: Example 5 vertices: [0,1][2,3,4] -15 15\n",
    "    # print('{:>15s}{:>15s}{:^15s}{:^15s}'.format(str(S0),str(S1),str(E),str(int(-1*E))))\n",
    "    \n",
    "    \n",
    "    # 2.\n",
    "    S0_alt = \"\"\n",
    "    for k,v in line.items():\n",
    "        S0_alt += str(v)\n",
    "    #print(type(v)) \n",
    "    E = next(energies).energy\n",
    "  \n",
    "    # 2. Binary representation: Example 5 vertices: '11000' --> -15 15\n",
    "    print('{:>15s} --> {:^15s}{:^15s}'.format(str(S0_alt),str(E),str(int(-1*E))))\n",
    "    \n",
    "    # only show lowest x(x = 20) enegy values and their combinations.\n",
    "    if rank > 20:\n",
    "        break"
   ]
  },
  {
   "cell_type": "code",
   "execution_count": null,
   "id": "d4560fea",
   "metadata": {},
   "outputs": [],
   "source": []
  }
 ],
 "metadata": {
  "kernelspec": {
   "display_name": "Python 3",
   "language": "python",
   "name": "python3"
  },
  "language_info": {
   "codemirror_mode": {
    "name": "ipython",
    "version": 3
   },
   "file_extension": ".py",
   "mimetype": "text/x-python",
   "name": "python",
   "nbconvert_exporter": "python",
   "pygments_lexer": "ipython3",
   "version": "3.8.6"
  }
 },
 "nbformat": 4,
 "nbformat_minor": 5
}
