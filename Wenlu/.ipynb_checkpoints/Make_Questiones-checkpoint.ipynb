{
 "cells": [
  {
   "cell_type": "code",
   "execution_count": 49,
   "id": "335fc304",
   "metadata": {},
   "outputs": [
    {
     "data": {
      "text/html": [
       "<style>.container { width:100% !important; }</style>"
      ],
      "text/plain": [
       "<IPython.core.display.HTML object>"
      ]
     },
     "metadata": {},
     "output_type": "display_data"
    }
   ],
   "source": [
    "import networkx as nx\n",
    "import numpy as np\n",
    "from collections import defaultdict\n",
    "import matplotlib.pyplot as plt\n",
    "import random\n",
    "from IPython.core.display import display, HTML\n",
    "display(HTML(\"<style>.container { width:100% !important; }</style>\"))"
   ]
  },
  {
   "cell_type": "code",
   "execution_count": 50,
   "id": "b61bf5e2",
   "metadata": {},
   "outputs": [],
   "source": [
    "def Create_channel(N,Channel_upperbound,option = \"general\",initial_length = 1):\n",
    "    '''\n",
    "    options:\n",
    "        general:\n",
    "            Random wire length from 0 to N virtual machines\n",
    "        same, initial_length:\n",
    "            Same wire length from 0 to N virtual machines. \n",
    "            If no specific details the progra will assume all items are 1\n",
    "            The length cannot be 0 or the network will not take it as a normal edge.\n",
    "    '''\n",
    "    Channel_link = np.random.randint(Channel_upperbound,size=(N+1, N+1),) +1\n",
    "    Channel_link = Channel_link - np.diag(np.diag(Channel_link)) + self_looped*np.eye(N+1,N+1)\n",
    "    if option == \"general\":\n",
    "        Channel_link[:,0] = 0\n",
    "    elif option == 'same':\n",
    "        Channel_link[0,:] = initial_length\n",
    "        Channel_link[:,0] = 0\n",
    "    else:\n",
    "        print(\"Oops!  That was no valid option.  Try again...\")\n",
    "    \n",
    "    return Channel_link"
   ]
  },
  {
   "cell_type": "code",
   "execution_count": 38,
   "id": "6290da73",
   "metadata": {},
   "outputs": [],
   "source": [
    "def Data_Queue(I,J,Data_upperbound):\n",
    "    Data_Queue = np.random.randint(Data_upperbound,size=(I, J))+1\n",
    "    return Data_Queue\n"
   ]
  },
  {
   "cell_type": "code",
   "execution_count": 39,
   "id": "2eecc72c",
   "metadata": {},
   "outputs": [],
   "source": [
    "def Data_Queue_type(I,J,K):\n",
    "    Data_type_Queue = np.array([np.array(np.random.choice(K, J, replace = False)) for i in range(I)], dtype=\"object\")+1\n",
    "    return Data_type_Queue\n"
   ]
  },
  {
   "cell_type": "code",
   "execution_count": 40,
   "id": "67208661",
   "metadata": {},
   "outputs": [],
   "source": [
    "def VM_Data_type_gen(I,K,N):\n",
    "    flag = True\n",
    "    while flag:\n",
    "        type_selected = np.random.randint(1,K)\n",
    "        VM_Data_type = np.sort(np.array([np.array(np.random.choice(K, type_selected, replace = False)) for i in range(N)])) + 1\n",
    "        uniques = np.unique(VM_Data_type)\n",
    "        flag = (len(uniques)<K)\n",
    "    return VM_Data_type"
   ]
  },
  {
   "cell_type": "code",
   "execution_count": 41,
   "id": "7c941cb6",
   "metadata": {},
   "outputs": [],
   "source": [
    "def VM_Data_processing_speed(Processing_upperbound, VM_Data_type, K):\n",
    "    N = len(VM_Data_type)\n",
    "    VM_Data_speed_preset = np.array([np.array(np.random.choice(Processing_upperbound, K, replace = False)) for i in range(N)]) + 1\n",
    "    VM_Data_speed_bolean = np.zeros((N,K))\n",
    "    for row in range(N):\n",
    "        VM_Data_speed_bolean[row,VM_Data_type[row,:]-1] = 1\n",
    "\n",
    "    VM_Data_speed = VM_Data_speed_bolean * VM_Data_speed_preset\n",
    "    return VM_Data_speed"
   ]
  },
  {
   "cell_type": "code",
   "execution_count": 42,
   "id": "a36d7a3c",
   "metadata": {},
   "outputs": [],
   "source": [
    "def VM_Data_processing_time(Data_Queue,Data_type_Queue , VM_Data_speed):\n",
    "    #\n",
    "    I,J = np.shape(Data_Queue)\n",
    "    N = len(VM_Data_speed)\n",
    "    \n",
    "    #\n",
    "    General_Processing_time = np.ceil(np.kron(Data_Queue,1./VM_Data_speed))\n",
    "    Processing_time_alt=np.ceil(np.reshape(General_Processing_time,(I,N,J,K)))\n",
    "    Processing_time_final = 1./np.zeros((I,J,N))\n",
    "    \n",
    "    for i in range(I):\n",
    "        for j in range(J):\n",
    "            function_type = Data_type_Queue[i,j]-1\n",
    "\n",
    "            Processing_time_final[i,j] = Processing_time_alt[i,:,j,function_type]\n",
    "    \n",
    "    return Processing_time_final"
   ]
  },
  {
   "cell_type": "code",
   "execution_count": 43,
   "id": "0bd7084d",
   "metadata": {},
   "outputs": [],
   "source": [
    "def Channel_Data_transmission_time(Data_Queue , Channel_link):\n",
    "    #N' = N+1 contain initial node\n",
    "    I,J = np.shape(Data_Queue)\n",
    "    N_prime = len(Channel_link)\n",
    "    \n",
    "    Transmission_time = np.ceil(np.kron(Data_Queue,1./Channel_link))\n",
    "    Transmission_time = np.reshape(Transmission_time,(I,N_prime,J,N_prime))\n",
    "    \n",
    "    return Transmission_time"
   ]
  },
  {
   "cell_type": "code",
   "execution_count": 44,
   "id": "23345bc1",
   "metadata": {},
   "outputs": [],
   "source": [
    "def Draw_network(Channel_link):\n",
    "    G = nx.from_numpy_matrix(Channel_link,create_using=nx.DiGraph(directed=True))\n",
    "    edge_label = {}\n",
    "    for j, edge in enumerate(G.edges()):\n",
    "        #edge_label.update({(edge[0],edge[1]): \"<\"+ str(Channel_link[edge[0]+1,edge[1]+1])+ \"|\" +str(Channel_link_[edge[1]+1,edge[0]+1])+\">\" })\n",
    "        #print(edge)\n",
    "        if edge[1] > edge[0]:\n",
    "            edge_label.update({(edge[0],edge[1]): \"<\" + str(int(Channel_link[edge[0],edge[1]])) + \"|\" })\n",
    "        else:\n",
    "            edge_label.update({(edge[0],edge[1]): \"|\" + str(int(Channel_link[edge[0],edge[1]])) + \">\" })    \n",
    "        pos = nx.circular_layout(G)\n",
    "    #graph = nx.draw(G,pos,with_labels = True, connectionstyle='arc3, rad = 0.1')\n",
    "    graph = nx.draw(G,pos,with_labels = True)\n",
    "    graph = nx.draw_networkx_edge_labels(G,pos,edge_labels = edge_label,label_pos = 0.8)"
   ]
  },
  {
   "cell_type": "code",
   "execution_count": 45,
   "id": "a07227ec",
   "metadata": {},
   "outputs": [],
   "source": [
    "def show_graph(matrix):\n",
    "    matfig = plt.figure(figsize=(9,9)) \n",
    "    plt.matshow(matrix,fignum=matfig.number)\n",
    "    plt.colorbar()\n",
    "    plt.show()    "
   ]
  },
  {
   "cell_type": "code",
   "execution_count": 55,
   "id": "2c5801d6",
   "metadata": {},
   "outputs": [],
   "source": [
    "def show_relation(Final_map):\n",
    "    #matfig = plt.figure(figsize=(Final_map.shape[0],Final_map.shape[1]))\n",
    "    matfig = plt.figure(figsize=(9,9))\n",
    "    plt.matshow(Final_map,cmap=plt.cm.binary,fignum=matfig.number)\n",
    "    ax = plt.gca()\n",
    "    #plt.matshow(Final_map,cmap=plt.cm.binary)\n",
    "    plt.ylabel('Source node index')\n",
    "    plt.xlabel('To node index')\n",
    "    plt.title (\"Direction map visualization\")\n",
    "\n",
    "    # Major ticks\n",
    "    ax.set_xticks(np.arange(0, Final_map.shape[0], step=1))\n",
    "    ax.set_yticks(np.arange(0, Final_map.shape[0], step=1))\n",
    "\n",
    "    # Labels for major ticks\n",
    "    ax.set_xticklabels(np.arange(0, Final_map.shape[0], step=1))\n",
    "    ax.set_yticklabels(np.arange(0, Final_map.shape[0], step=1))\n",
    "\n",
    "    # Minor ticks\n",
    "    ax.set_xticks(np.arange(0.5, Final_map.shape[0]+0.5, step=1), minor=True)\n",
    "    ax.set_yticks(np.arange(0.5, Final_map.shape[0]+0.5, step=1), minor=True)\n",
    "\n",
    "    # Gridlines based on minor ticks\n",
    "    ax.grid(which='minor', color='r', linestyle='-', linewidth=1)\n",
    "\n",
    "    plt.show()"
   ]
  },
  {
   "cell_type": "code",
   "execution_count": null,
   "id": "9592c195",
   "metadata": {},
   "outputs": [],
   "source": []
  },
  {
   "cell_type": "code",
   "execution_count": null,
   "id": "5ac155f7",
   "metadata": {},
   "outputs": [],
   "source": []
  }
 ],
 "metadata": {
  "kernelspec": {
   "display_name": "Python 3",
   "language": "python",
   "name": "python3"
  },
  "language_info": {
   "codemirror_mode": {
    "name": "ipython",
    "version": 3
   },
   "file_extension": ".py",
   "mimetype": "text/x-python",
   "name": "python",
   "nbconvert_exporter": "python",
   "pygments_lexer": "ipython3",
   "version": "3.8.6"
  }
 },
 "nbformat": 4,
 "nbformat_minor": 5
}
