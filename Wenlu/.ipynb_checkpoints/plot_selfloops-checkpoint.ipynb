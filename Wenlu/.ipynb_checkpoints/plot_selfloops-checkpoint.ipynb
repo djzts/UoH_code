{
 "cells": [
  {
   "cell_type": "code",
   "execution_count": 1,
   "metadata": {},
   "outputs": [],
   "source": [
    "%matplotlib inline"
   ]
  },
  {
   "cell_type": "markdown",
   "metadata": {},
   "source": [
    "\n",
    "# Self-loops\n",
    "\n",
    "A self-loop is an edge that originates from and terminates the same node.\n",
    "This example shows how to draw self-loops with `nx_pylab`.\n"
   ]
  },
  {
   "cell_type": "code",
   "execution_count": 2,
   "metadata": {},
   "outputs": [
    {
     "data": {
      "image/png": "[encoded data removed]",
      "text/plain": [
       "<Figure size 432x288 with 1 Axes>"
      ]
     },
     "metadata": {},
     "output_type": "display_data"
    }
   ],
   "source": [
    "import networkx as nx\n",
    "import matplotlib.pyplot as plt\n",
    "\n",
    "# Create a graph and add a self-loop to node 0\n",
    "G = nx.complete_graph(3, create_using=nx.DiGraph)\n",
    "G.add_edge(0, 0)\n",
    "pos = nx.circular_layout(G)\n",
    "\n",
    "# As of version 2.6, self-loops are drawn by default with the same styling as\n",
    "# other edges\n",
    "nx.draw(G, pos, with_labels=True)\n",
    "\n",
    "# Add self-loops to the remaining nodes\n",
    "edgelist = [(1, 1), (2, 2)]\n",
    "G.add_edges_from(edgelist)\n",
    "\n",
    "# Draw the newly added self-loops with different formatting\n",
    "nx.draw_networkx_edges(G, pos, edgelist=edgelist, arrowstyle=\"<|-\", style=\"dashed\")\n",
    "\n",
    "plt.show()"
   ]
  },
  {
   "cell_type": "code",
   "execution_count": null,
   "metadata": {},
   "outputs": [],
   "source": []
  }
 ],
 "metadata": {
  "kernelspec": {
   "display_name": "Python 3",
   "language": "python",
   "name": "python3"
  },
  "language_info": {
   "codemirror_mode": {
    "name": "ipython",
    "version": 3
   },
   "file_extension": ".py",
   "mimetype": "text/x-python",
   "name": "python",
   "nbconvert_exporter": "python",
   "pygments_lexer": "ipython3",
   "version": "3.8.6"
  }
 },
 "nbformat": 4,
 "nbformat_minor": 1
}
