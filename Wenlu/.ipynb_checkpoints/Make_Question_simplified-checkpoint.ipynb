{
 "cells": [
  {
   "cell_type": "code",
   "execution_count": 2,
   "id": "3a3e1d3e",
   "metadata": {},
   "outputs": [
    {
     "data": {
      "text/html": [
       "<style>.container { width:100% !important; }</style>"
      ],
      "text/plain": [
       "<IPython.core.display.HTML object>"
      ]
     },
     "metadata": {},
     "output_type": "display_data"
    }
   ],
   "source": [
    "import networkx as nx\n",
    "import numpy as np\n",
    "from collections import defaultdict\n",
    "import matplotlib.pyplot as plt\n",
    "import random\n",
    "from IPython.core.display import display, HTML\n",
    "display(HTML(\"<style>.container { width:100% !important; }</style>\"))"
   ]
  },
  {
   "cell_type": "code",
   "execution_count": 3,
   "id": "02d3aa15",
   "metadata": {},
   "outputs": [],
   "source": [
    "def Data_Queue(I,J,Data_upperbound):\n",
    "    Data_Queue = np.random.randint(Data_upperbound,size=(I, J))+1\n",
    "    return Data_Queue"
   ]
  },
  {
   "cell_type": "code",
   "execution_count": 4,
   "id": "257999a3",
   "metadata": {},
   "outputs": [],
   "source": [
    "def Data_Queue_type(I,J,K):\n",
    "    Data_type_Queue = np.array([np.array(np.random.choice(K, J, replace = False)) for i in range(I)], dtype=\"object\")+1\n",
    "    return Data_type_Queue"
   ]
  },
  {
   "cell_type": "code",
   "execution_count": 5,
   "id": "64ea802d",
   "metadata": {},
   "outputs": [],
   "source": [
    "def VM_Data_type_gen(I,K,N):\n",
    "    flag = True\n",
    "    while flag:\n",
    "        type_selected = np.random.randint(1,K)\n",
    "        VM_Data_type = np.sort(np.array([np.array(np.random.choice(K, type_selected, replace = False)) for i in range(N)])) + 1\n",
    "        uniques = np.unique(VM_Data_type)\n",
    "        flag = (len(uniques)<K)\n",
    "    return VM_Data_type"
   ]
  },
  {
   "cell_type": "code",
   "execution_count": 6,
   "id": "636c4a9f",
   "metadata": {},
   "outputs": [],
   "source": [
    "def VM_Data_processing_speed(Processing_upperbound, VM_Data_type, K):\n",
    "    N = len(VM_Data_type)\n",
    "    VM_Data_speed_preset = np.array([np.array(np.random.choice(Processing_upperbound, K, replace = False)) for i in range(N)]) + 1\n",
    "    VM_Data_speed_bolean = np.zeros((N,K))\n",
    "    for row in range(N):\n",
    "        VM_Data_speed_bolean[row,VM_Data_type[row,:]-1] = 1\n",
    "\n",
    "    VM_Data_speed = VM_Data_speed_bolean * VM_Data_speed_preset\n",
    "    return VM_Data_speed"
   ]
  },
  {
   "cell_type": "code",
   "execution_count": 11,
   "id": "017ab6dc",
   "metadata": {},
   "outputs": [],
   "source": [
    "def VM_Data_processing_time(Data_Queue,Data_type_Queue , VM_Data_speed):\n",
    "    #\n",
    "    I,J = np.shape(Data_Queue)\n",
    "    N = len(VM_Data_speed)\n",
    "    \n",
    "    #\n",
    "    General_Processing_time = np.ceil(np.kron(Data_Queue,1./VM_Data_speed))\n",
    "    Processing_time_alt=np.ceil(np.reshape(General_Processing_time,(I,N,J,K)))\n",
    "    Processing_time_final = 1./np.zeros((I,J,N))\n",
    "    \n",
    "    #print(Processing_time_alt)\n",
    "    \n",
    "    for i in range(I):\n",
    "        for j in range(J):\n",
    "            function_type = Data_type_Queue[i,j]-1\n",
    "\n",
    "            Processing_time_final[i,j] = Processing_time_alt[i,:,j,function_type]\n",
    "    \n",
    "    #print(Processing_time_final)\n",
    "    \n",
    "    return Processing_time_final"
   ]
  },
  {
   "cell_type": "code",
   "execution_count": 2,
   "id": "713f03ae",
   "metadata": {},
   "outputs": [],
   "source": [
    "def show_graph(matrix):\n",
    "    matfig = plt.figure(figsize=(9,9)) \n",
    "    plt.matshow(matrix,fignum=matfig.number)\n",
    "    plt.colorbar()\n",
    "    plt.show() "
   ]
  },
  {
   "cell_type": "code",
   "execution_count": 8,
   "id": "629ac910",
   "metadata": {},
   "outputs": [],
   "source": [
    "def Make_dictionary(I,J,N,T_max):\n",
    "    position_dictionary = {}\n",
    "    # set-up a dictionary\n",
    "    Total = 0\n",
    "    # x input\n",
    "    for i in range(I):\n",
    "        for j in range(J):\n",
    "            for m in range(N):\n",
    "                    multiplier = np.array([i,j,m])\n",
    "                    unit = np.array([J*N,N,1])\n",
    "                    #print(np.dot(multiplier,unit))\n",
    "                    position_dictionary[\"x_%d%d%d\"%(i,j,m)] = int(np.dot(multiplier,unit))\n",
    "    Num_of_x = len(position_dictionary) - Total\n",
    "    Total = len(position_dictionary)\n",
    "\n",
    "\n",
    "    # p input\n",
    "    for i in range(I):\n",
    "        for j in range(J):\n",
    "            for m in range(N):\n",
    "                    for t in range(T_max):\n",
    "\n",
    "                        multiplier = np.array([i,j,m,t])\n",
    "                        unit = np.array([J*T_max*N,T_max*N,T_max,1])\n",
    "                        #print(np.dot(multiplier,unit))\n",
    "                        position_dictionary[\"p_%d%d%d%d\"%(i,j,m,t)] = int(np.dot(multiplier,unit)) + Total\n",
    "\n",
    "    Num_of_p = len(position_dictionary) - Total\n",
    "    Total = len(position_dictionary)                    \n",
    "\n",
    "\n",
    "    # y input\n",
    "    for i in range(I):\n",
    "        for j in range(J):\n",
    "            for m in range(N):\n",
    "                for t in range(T_max):\n",
    "                    multiplier = np.array([i,j,m,t])\n",
    "                    unit = np.array([J*T_max*N,T_max*N,T_max,1])\n",
    "                    #print(np.dot(multiplier,unit))\n",
    "                    position_dictionary[\"y_%d%d%d%d\"%(i,j,m,t)] = int(np.dot(multiplier,unit)) + Total\n",
    "    Num_of_y = len(position_dictionary) - Total\n",
    "    Total = len(position_dictionary)                \n",
    "\n",
    "    # z input\n",
    "    for i in range(I):\n",
    "        for j in range(J):\n",
    "            for m in range(N):\n",
    "                for t in range(T_max):\n",
    "                    multiplier = np.array([i,j,m,t]) \n",
    "                    unit = np.array([J*T_max*N,T_max*N,T_max,1])\n",
    "                    #print(np.dot(multiplier,unit))\n",
    "                    position_dictionary[\"z_%d%d%d%d\"%(i,j,m,t)] = int(np.dot(multiplier,unit)) + Total\n",
    "    Num_of_z = len(position_dictionary) - Total\n",
    "    Total = len(position_dictionary)   \n",
    "    return position_dictionary, Total"
   ]
  },
  {
   "cell_type": "code",
   "execution_count": 7,
   "id": "e06872e9",
   "metadata": {},
   "outputs": [],
   "source": [
    "def little_greedy_algorithm(VM_DP_time,I,J,N):\n",
    "    Total_time = VM_DP_time\n",
    "\n",
    "                \n",
    "    answer = np.sum(np.min(Total_time,2))\n",
    "    return int(answer)"
   ]
  },
  {
   "cell_type": "code",
   "execution_count": null,
   "id": "0b4b0684",
   "metadata": {},
   "outputs": [],
   "source": []
  }
 ],
 "metadata": {
  "kernelspec": {
   "display_name": "Python 3",
   "language": "python",
   "name": "python3"
  },
  "language_info": {
   "codemirror_mode": {
    "name": "ipython",
    "version": 3
   },
   "file_extension": ".py",
   "mimetype": "text/x-python",
   "name": "python",
   "nbconvert_exporter": "python",
   "pygments_lexer": "ipython3",
   "version": "3.8.6"
  }
 },
 "nbformat": 4,
 "nbformat_minor": 5
}
