{
 "cells": [
  {
   "cell_type": "code",
   "execution_count": 1,
   "id": "fe89ea7f",
   "metadata": {},
   "outputs": [
    {
     "name": "stdout",
     "output_type": "stream",
     "text": [
      "Hello, World!\n"
     ]
    }
   ],
   "source": [
    "\"\"\"\n",
    "This is a comment\n",
    "written in\n",
    "more than just one line\n",
    "\"\"\"\n",
    "print(\"Hello, World!\")\n"
   ]
  },
  {
   "cell_type": "code",
   "execution_count": 47,
   "id": "ecc85300",
   "metadata": {},
   "outputs": [
    {
     "data": {
      "text/html": [
       "<style>.container { width:100% !important; }</style>"
      ],
      "text/plain": [
       "<IPython.core.display.HTML object>"
      ]
     },
     "metadata": {},
     "output_type": "display_data"
    }
   ],
   "source": [
    "import networkx as nx\n",
    "import numpy as np\n",
    "from collections import defaultdict\n",
    "import random\n",
    "from IPython.core.display import display, HTML\n",
    "display(HTML(\"<style>.container { width:100% !important; }</style>\"))"
   ]
  },
  {
   "cell_type": "code",
   "execution_count": 3,
   "id": "d3057a8a",
   "metadata": {},
   "outputs": [],
   "source": [
    "N = 5\n",
    "#M = 5\n",
    "I = 3\n",
    "J = 3\n",
    "K = 5\n",
    "Channel_upperbound = 15\n",
    "Data_upperbound = 50\n",
    "Processing_upperbound = 25\n",
    "self_looped = 100"
   ]
  },
  {
   "cell_type": "code",
   "execution_count": 4,
   "id": "f3d9fee1",
   "metadata": {},
   "outputs": [],
   "source": [
    "#Channel_link_same = np.triu(np.random.randint(Channel_upperbound,size=(N+1, M+1)) +1 , k = 1)\n",
    "#Channel_link_same = Channel_link_same + Channel_link_same.T\n",
    "#Channel_link_same[0,:] = 0\n",
    "#print(Channel_link_same)"
   ]
  },
  {
   "cell_type": "code",
   "execution_count": 5,
   "id": "76e16475",
   "metadata": {},
   "outputs": [
    {
     "name": "stdout",
     "output_type": "stream",
     "text": [
      "[[  0.   4.  11.   7.   2.   4.]\n",
      " [  0. 100.  12.  10.   1.  10.]\n",
      " [  0.   4. 100.   7.  12.   9.]\n",
      " [  0.   4.   8. 100.   1.   1.]\n",
      " [  0.  13.  11.   4. 100.  14.]\n",
      " [  0.  15.  10.  12.   3. 100.]]\n"
     ]
    }
   ],
   "source": [
    "Channel_link_general = np.random.randint(Channel_upperbound,size=(N+1, N+1),) +1\n",
    "Channel_link_general = Channel_link_general - np.diag(np.diag(Channel_link_general)) + self_looped*np.eye(N+1,N+1)\n",
    "Channel_link_general[:,0] = 0\n",
    "print(Channel_link_general)"
   ]
  },
  {
   "cell_type": "code",
   "execution_count": 6,
   "id": "acac7a2a",
   "metadata": {},
   "outputs": [
    {
     "name": "stdout",
     "output_type": "stream",
     "text": [
      "[[ 4 40  3]\n",
      " [47  3 36]\n",
      " [17 24 31]]\n"
     ]
    }
   ],
   "source": [
    "Data_Queue = np.random.randint(Data_upperbound,size=(I, J))+1\n",
    "print(Data_Queue)\n"
   ]
  },
  {
   "cell_type": "code",
   "execution_count": 7,
   "id": "210fedda",
   "metadata": {},
   "outputs": [
    {
     "name": "stdout",
     "output_type": "stream",
     "text": [
      "[[3 4 5]\n",
      " [1 3 4]\n",
      " [2 3 4]\n",
      " [1 3 5]\n",
      " [1 2 3]]\n"
     ]
    }
   ],
   "source": [
    "flag = True\n",
    "while flag:\n",
    "    VM_Data_type = np.sort(np.array([np.array(np.random.choice(K, I, replace = False)) for i in range(N)])) + 1\n",
    "    uniques = np.unique(VM_Data_type)\n",
    "    flag = (len(uniques)<K)\n",
    "print(VM_Data_type)"
   ]
  },
  {
   "cell_type": "code",
   "execution_count": 65,
   "id": "5a02743c",
   "metadata": {},
   "outputs": [
    {
     "ename": "TypeError",
     "evalue": "data type 'ndarray' not understood",
     "output_type": "error",
     "traceback": [
      "\u001b[1;31m---------------------------------------------------------------------------\u001b[0m",
      "\u001b[1;31mTypeError\u001b[0m                                 Traceback (most recent call last)",
      "\u001b[1;32m<ipython-input-65-373b5582ca1c>\u001b[0m in \u001b[0;36m<module>\u001b[1;34m\u001b[0m\n\u001b[0;32m      1\u001b[0m \u001b[0mflag\u001b[0m \u001b[1;33m=\u001b[0m \u001b[1;32mTrue\u001b[0m\u001b[1;33m\u001b[0m\u001b[1;33m\u001b[0m\u001b[0m\n\u001b[0;32m      2\u001b[0m \u001b[1;32mwhile\u001b[0m \u001b[0mflag\u001b[0m\u001b[1;33m:\u001b[0m\u001b[1;33m\u001b[0m\u001b[1;33m\u001b[0m\u001b[0m\n\u001b[1;32m----> 3\u001b[1;33m     \u001b[0mVM_Data_type\u001b[0m \u001b[1;33m=\u001b[0m \u001b[0mnp\u001b[0m\u001b[1;33m.\u001b[0m\u001b[0marray\u001b[0m\u001b[1;33m(\u001b[0m\u001b[1;33m[\u001b[0m \u001b[0mnp\u001b[0m\u001b[1;33m.\u001b[0m\u001b[0msort\u001b[0m\u001b[1;33m(\u001b[0m\u001b[0mnp\u001b[0m\u001b[1;33m.\u001b[0m\u001b[0mrandom\u001b[0m\u001b[1;33m.\u001b[0m\u001b[0mchoice\u001b[0m\u001b[1;33m(\u001b[0m\u001b[0mK\u001b[0m\u001b[1;33m,\u001b[0m \u001b[0mnp\u001b[0m\u001b[1;33m.\u001b[0m\u001b[0mrandom\u001b[0m\u001b[1;33m.\u001b[0m\u001b[0mrandint\u001b[0m\u001b[1;33m(\u001b[0m\u001b[1;36m1\u001b[0m\u001b[1;33m,\u001b[0m\u001b[0mK\u001b[0m\u001b[1;33m)\u001b[0m\u001b[1;33m,\u001b[0m \u001b[0mreplace\u001b[0m \u001b[1;33m=\u001b[0m \u001b[1;32mFalse\u001b[0m\u001b[1;33m)\u001b[0m\u001b[1;33m)\u001b[0m \u001b[1;32mfor\u001b[0m \u001b[0mi\u001b[0m \u001b[1;32min\u001b[0m \u001b[0mrange\u001b[0m\u001b[1;33m(\u001b[0m\u001b[0mN\u001b[0m\u001b[1;33m)\u001b[0m \u001b[1;33m]\u001b[0m\u001b[1;33m,\u001b[0m \u001b[0mdtype\u001b[0m\u001b[1;33m=\u001b[0m\u001b[1;34m\"ndarray\"\u001b[0m\u001b[1;33m)\u001b[0m \u001b[1;33m+\u001b[0m \u001b[1;36m1\u001b[0m\u001b[1;33m\u001b[0m\u001b[1;33m\u001b[0m\u001b[0m\n\u001b[0m\u001b[0;32m      4\u001b[0m     \u001b[0mprint\u001b[0m\u001b[1;33m(\u001b[0m\u001b[0mVM_Data_type\u001b[0m\u001b[1;33m)\u001b[0m\u001b[1;33m\u001b[0m\u001b[1;33m\u001b[0m\u001b[0m\n\u001b[0;32m      5\u001b[0m     \u001b[0muniques\u001b[0m \u001b[1;33m=\u001b[0m \u001b[0mnp\u001b[0m\u001b[1;33m.\u001b[0m\u001b[0munique\u001b[0m\u001b[1;33m(\u001b[0m\u001b[0mVM_Data_type\u001b[0m\u001b[1;33m.\u001b[0m\u001b[0mall\u001b[0m\u001b[1;33m(\u001b[0m\u001b[1;33m)\u001b[0m\u001b[1;33m)\u001b[0m\u001b[1;33m\u001b[0m\u001b[1;33m\u001b[0m\u001b[0m\n",
      "\u001b[1;31mTypeError\u001b[0m: data type 'ndarray' not understood"
     ]
    }
   ],
   "source": [
    "flag = True\n",
    "while flag:\n",
    "    VM_Data_type = np.array([ np.sort(np.random.choice(K, np.random.randint(1,K), replace = False)) for i in range(N) ], dtype=\"ndarray\") + 1\n",
    "    print(VM_Data_type)\n",
    "    uniques = np.unique(VM_Data_type.all())\n",
    "    flag = (len(uniques)<K)\n",
    "print(VM_Data_type)"
   ]
  },
  {
   "cell_type": "code",
   "execution_count": 51,
   "id": "103cf754",
   "metadata": {},
   "outputs": [
    {
     "name": "stdout",
     "output_type": "stream",
     "text": [
      "[array([5, 1, 2]) array([4, 1, 2, 3]) array([1, 2])]\n"
     ]
    }
   ],
   "source": [
    "Data_type_Queue = np.array([np.array(np.random.choice(K, np.random.randint(1,K), replace = False)) for i in range(J)], dtype=\"object\")+1\n",
    "print(Data_type_Queue)"
   ]
  },
  {
   "cell_type": "code",
   "execution_count": 9,
   "id": "3c4eff54",
   "metadata": {},
   "outputs": [
    {
     "name": "stdout",
     "output_type": "stream",
     "text": [
      "[[ 0.  0.  9. 24.  2.]\n",
      " [16.  0.  1. 21.  0.]\n",
      " [ 0.  1. 17. 13.  0.]\n",
      " [21.  0. 11.  0. 19.]\n",
      " [22. 13.  1.  0.  0.]]\n"
     ]
    }
   ],
   "source": [
    "VM_Data_speed_preset = np.array([np.array(np.random.choice(Processing_upperbound, K, replace = False)) for i in range(N)]) + 1\n",
    "VM_Data_speed_bolean = np.zeros((N,K))\n",
    "for row in range(N):\n",
    "    VM_Data_speed_bolean[row,VM_Data_type[row,:]-1] = 1\n",
    "\n",
    "VM_Data_speed = VM_Data_speed_bolean * VM_Data_speed_preset\n",
    "#print(VM_Data_speed_preset)\n",
    "#print(Data_type_Queue)\n",
    "print(VM_Data_speed)"
   ]
  },
  {
   "cell_type": "code",
   "execution_count": 10,
   "id": "f6e5290f",
   "metadata": {},
   "outputs": [
    {
     "name": "stdout",
     "output_type": "stream",
     "text": [
      "[[inf inf  1.  1.  2. inf inf  5.  2. 20. inf inf  1.  1.  2.]\n",
      " [ 1. inf  4.  1. inf  3. inf 40.  2. inf  1. inf  3.  1. inf]\n",
      " [inf  4.  1.  1. inf inf 40.  3.  4. inf inf  3.  1.  1. inf]\n",
      " [ 1. inf  1. inf  1.  2. inf  4. inf  3.  1. inf  1. inf  1.]\n",
      " [ 1.  1.  4. inf inf  2.  4. 40. inf inf  1.  1.  3. inf inf]\n",
      " [inf inf  6.  2. 24. inf inf  1.  1.  2. inf inf  4.  2. 18.]\n",
      " [ 3. inf 47.  3. inf  1. inf  3.  1. inf  3. inf 36.  2. inf]\n",
      " [inf 47.  3.  4. inf inf  3.  1.  1. inf inf 36.  3.  3. inf]\n",
      " [ 3. inf  5. inf  3.  1. inf  1. inf  1.  2. inf  4. inf  2.]\n",
      " [ 3.  4. 47. inf inf  1.  1.  3. inf inf  2.  3. 36. inf inf]\n",
      " [inf inf  2.  1.  9. inf inf  3.  1. 12. inf inf  4.  2. 16.]\n",
      " [ 2. inf 17.  1. inf  2. inf 24.  2. inf  2. inf 31.  2. inf]\n",
      " [inf 17.  1.  2. inf inf 24.  2.  2. inf inf 31.  2.  3. inf]\n",
      " [ 1. inf  2. inf  1.  2. inf  3. inf  2.  2. inf  3. inf  2.]\n",
      " [ 1.  2. 17. inf inf  2.  2. 24. inf inf  2.  3. 31. inf inf]]\n"
     ]
    },
    {
     "name": "stderr",
     "output_type": "stream",
     "text": [
      "<ipython-input-10-f1188eb3a796>:1: RuntimeWarning: divide by zero encountered in true_divide\n",
      "  Processing_time = np.ceil(np.kron(Data_Queue,1./VM_Data_speed))\n"
     ]
    }
   ],
   "source": [
    "Processing_time = np.ceil(np.kron(Data_Queue,1./VM_Data_speed))\n",
    "print(Processing_time)"
   ]
  },
  {
   "cell_type": "code",
   "execution_count": 11,
   "id": "d113579d",
   "metadata": {},
   "outputs": [
    {
     "name": "stdout",
     "output_type": "stream",
     "text": [
      "[[inf inf  1.  1.  2.]\n",
      " [ 1. inf  4.  1. inf]\n",
      " [inf  4.  1.  1. inf]\n",
      " [ 1. inf  1. inf  1.]\n",
      " [ 1.  1.  4. inf inf]]\n"
     ]
    },
    {
     "name": "stderr",
     "output_type": "stream",
     "text": [
      "<ipython-input-11-f7e45b9883a8>:2: RuntimeWarning: divide by zero encountered in true_divide\n",
      "  Processing_time_final = 1./np.zeros((I,J,N))\n"
     ]
    }
   ],
   "source": [
    "Processing_time_alt=np.ceil(np.reshape(Processing_time,(I,N,J,N)))\n",
    "Processing_time_final = 1./np.zeros((I,J,N))\n",
    "for i in range(I):\n",
    "    for j in range(J):\n",
    "        function_type = Data_type_Queue[i,j]-1\n",
    "        #print(Data_type_Queue[i,j]-1)\n",
    "        Processing_time_final[i,j] = Processing_time_alt[i,:,j,function_type]\n",
    "print(Processing_time_alt[0,:,0,:])"
   ]
  },
  {
   "cell_type": "code",
   "execution_count": 12,
   "id": "674c2da5",
   "metadata": {},
   "outputs": [
    {
     "name": "stdout",
     "output_type": "stream",
     "text": [
      "[[[ 1.  4.  1.  1.  4.]\n",
      "  [inf inf 40. inf  4.]\n",
      "  [ 2. inf inf  1. inf]]\n",
      "\n",
      " [[ 6. 47.  3.  5. 47.]\n",
      "  [ 1.  1.  1. inf inf]\n",
      "  [18. inf inf  2. inf]]\n",
      "\n",
      " [[ 2. 17.  1.  2. 17.]\n",
      "  [12. inf inf  2. inf]\n",
      "  [inf inf 31. inf  3.]]]\n"
     ]
    }
   ],
   "source": [
    "print(Processing_time_final[:,:,:])"
   ]
  },
  {
   "cell_type": "code",
   "execution_count": 35,
   "id": "2f6e704b",
   "metadata": {},
   "outputs": [
    {
     "name": "stdout",
     "output_type": "stream",
     "text": [
      "[[inf  1.  1.  1.  2.  1. inf 10.  4.  6. 20. 10. inf  1.  1.  1.  2.  1.]\n",
      " [inf  1.  1.  1.  4.  1. inf  1.  4.  4. 40.  4. inf  1.  1.  1.  3.  1.]\n",
      " [inf  1.  1.  1.  1.  1. inf 10.  1.  6.  4.  5. inf  1.  1.  1.  1.  1.]\n",
      " [inf  1.  1.  1.  4.  4. inf 10.  5.  1. 40. 40. inf  1.  1.  1.  3.  3.]\n",
      " [inf  1.  1.  1.  1.  1. inf  4.  4. 10.  1.  3. inf  1.  1.  1.  1.  1.]\n",
      " [inf  1.  1.  1.  2.  1. inf  3.  4.  4. 14.  1. inf  1.  1.  1.  1.  1.]\n",
      " [inf 12.  5.  7. 24. 12. inf  1.  1.  1.  2.  1. inf  9.  4.  6. 18.  9.]\n",
      " [inf  1.  4.  5. 47.  5. inf  1.  1.  1.  3.  1. inf  1.  3.  4. 36.  4.]\n",
      " [inf 12.  1.  7.  4.  6. inf  1.  1.  1.  1.  1. inf  9.  1.  6.  3.  4.]\n",
      " [inf 12.  6.  1. 47. 47. inf  1.  1.  1.  3.  3. inf  9.  5.  1. 36. 36.]\n",
      " [inf  4.  5. 12.  1.  4. inf  1.  1.  1.  1.  1. inf  3.  4.  9.  1.  3.]\n",
      " [inf  4.  5.  4. 16.  1. inf  1.  1.  1.  1.  1. inf  3.  4.  3. 12.  1.]\n",
      " [inf  5.  2.  3.  9.  5. inf  6.  3.  4. 12.  6. inf  8.  3.  5. 16.  8.]\n",
      " [inf  1.  2.  2. 17.  2. inf  1.  2.  3. 24.  3. inf  1.  3.  4. 31.  4.]\n",
      " [inf  5.  1.  3.  2.  2. inf  6.  1.  4.  2.  3. inf  8.  1.  5.  3.  4.]\n",
      " [inf  5.  3.  1. 17. 17. inf  6.  3.  1. 24. 24. inf  8.  4.  1. 31. 31.]\n",
      " [inf  2.  2.  5.  1.  2. inf  2.  3.  6.  1.  2. inf  3.  3.  8.  1.  3.]\n",
      " [inf  2.  2.  2.  6.  1. inf  2.  3.  2.  8.  1. inf  3.  4.  3. 11.  1.]]\n"
     ]
    },
    {
     "name": "stderr",
     "output_type": "stream",
     "text": [
      "<ipython-input-35-fea94200f4d0>:1: RuntimeWarning: divide by zero encountered in true_divide\n",
      "  Transmission_time = np.ceil(np.kron(Data_Queue,1./Channel_link_general))\n"
     ]
    }
   ],
   "source": [
    "Transmission_time = np.ceil(np.kron(Data_Queue,1./Channel_link_general))\n",
    "print(Transmission_time)"
   ]
  },
  {
   "cell_type": "code",
   "execution_count": 14,
   "id": "8ed3b4be",
   "metadata": {},
   "outputs": [
    {
     "name": "stdout",
     "output_type": "stream",
     "text": [
      "[[inf  1.  1.  1.  2.  1.]\n",
      " [inf  1.  1.  1.  4.  1.]\n",
      " [inf  1.  1.  1.  1.  1.]\n",
      " [inf  1.  1.  1.  4.  4.]\n",
      " [inf  1.  1.  1.  1.  1.]\n",
      " [inf  1.  1.  1.  2.  1.]]\n"
     ]
    }
   ],
   "source": [
    "Transmission_time_alt=np.ceil(np.reshape(Transmission_time,(I,K+1,J,K+1)))\n",
    "print(Transmission_time_alt[0,:,0,:])"
   ]
  },
  {
   "cell_type": "code",
   "execution_count": null,
   "id": "1134aefd",
   "metadata": {},
   "outputs": [],
   "source": []
  },
  {
   "cell_type": "code",
   "execution_count": 26,
   "id": "9f4ce3bb",
   "metadata": {},
   "outputs": [
    {
     "name": "stdout",
     "output_type": "stream",
     "text": [
      "[[0. 1. 1. 1. 1.]\n",
      " [1. 0. 1. 1. 1.]\n",
      " [1. 1. 0. 1. 1.]\n",
      " [1. 1. 1. 0. 1.]\n",
      " [1. 1. 1. 1. 0.]]\n"
     ]
    }
   ],
   "source": [
    "import networkx as nx\n",
    "network = np.ones((N,N))-np.eye(N)\n",
    "print(network)\n",
    "G = nx.from_numpy_matrix(network,create_using=nx.DiGraph(directed=True))\n",
    "edge_label = {}\n",
    "for j, edge in enumerate(G.edges()):\n",
    "    #edge_label.update({(edge[0],edge[1]): \"<\"+ str(Channel_link_general[edge[0]+1,edge[1]+1])+ \"|\" +str(Channel_link_general[edge[1]+1,edge[0]+1])+\">\" })\n",
    "    if edge[1] > edge[0]:\n",
    "        edge_label.update({(edge[0],edge[1]): \"<\" + str(int(Channel_link_general[edge[0]+1,edge[1]+1])) + \"|\" })\n",
    "    else:\n",
    "        edge_label.update({(edge[0],edge[1]): \"|\" + str(int(Channel_link_general[edge[0]+1,edge[1]+1])) + \">\" })"
   ]
  },
  {
   "cell_type": "code",
   "execution_count": null,
   "id": "0b6546ea",
   "metadata": {},
   "outputs": [],
   "source": []
  },
  {
   "cell_type": "code",
   "execution_count": 27,
   "id": "f42ae794",
   "metadata": {},
   "outputs": [
    {
     "data": {
      "image/png": "[encoded data removed]",
      "text/plain": [
       "<Figure size 432x288 with 1 Axes>"
      ]
     },
     "metadata": {},
     "output_type": "display_data"
    }
   ],
   "source": [
    "pos = nx.circular_layout(G)\n",
    "#graph = nx.draw(G,pos,with_labels = True, connectionstyle='arc3, rad = 0.1')\n",
    "graph = nx.draw(G,pos,with_labels = True)\n",
    "graph = nx.draw_networkx_edge_labels(G,pos,edge_labels = edge_label,label_pos = 0.8)"
   ]
  },
  {
   "cell_type": "code",
   "execution_count": 28,
   "id": "64f0dad8",
   "metadata": {},
   "outputs": [
    {
     "data": {
      "text/plain": [
       "OutEdgeView([(0, 1), (0, 2), (0, 3), (0, 4), (1, 0), (1, 2), (1, 3), (1, 4), (2, 0), (2, 1), (2, 3), (2, 4), (3, 0), (3, 1), (3, 2), (3, 4), (4, 0), (4, 1), (4, 2), (4, 3)])"
      ]
     },
     "execution_count": 28,
     "metadata": {},
     "output_type": "execute_result"
    }
   ],
   "source": [
    "G.edges()"
   ]
  },
  {
   "cell_type": "code",
   "execution_count": 29,
   "id": "d2916f9a",
   "metadata": {},
   "outputs": [
    {
     "data": {
      "text/plain": [
       "{0: array([1.00000000e+00, 2.38418583e-08]),\n",
       " 1: array([0.30901696, 0.95105658]),\n",
       " 2: array([-0.80901709,  0.58778522]),\n",
       " 3: array([-0.80901698, -0.58778535]),\n",
       " 4: array([ 0.30901711, -0.95105647])}"
      ]
     },
     "execution_count": 29,
     "metadata": {},
     "output_type": "execute_result"
    }
   ],
   "source": [
    "pos"
   ]
  },
  {
   "cell_type": "code",
   "execution_count": 30,
   "id": "92a29327",
   "metadata": {},
   "outputs": [
    {
     "data": {
      "text/plain": [
       "array([[  0.,   4.,  11.,   7.,   2.,   4.],\n",
       "       [  0., 100.,  12.,  10.,   1.,  10.],\n",
       "       [  0.,   4., 100.,   7.,  12.,   9.],\n",
       "       [  0.,   4.,   8., 100.,   1.,   1.],\n",
       "       [  0.,  13.,  11.,   4., 100.,  14.],\n",
       "       [  0.,  15.,  10.,  12.,   3., 100.]])"
      ]
     },
     "execution_count": 30,
     "metadata": {},
     "output_type": "execute_result"
    }
   ],
   "source": [
    "Channel_link_general"
   ]
  },
  {
   "cell_type": "code",
   "execution_count": 39,
   "id": "f92a6401",
   "metadata": {},
   "outputs": [],
   "source": [
    "H = nx.from_numpy_matrix(Channel_link_general,create_using=nx.DiGraph(directed=True))\n",
    "#pos = nx.circular_layout(H,center=(1, 1))\n",
    "pos = draw_random\n",
    "#graph = nx.draw(G,pos,with_labels = True, connectionstyle='arc3, rad = 0.1')\n"
   ]
  },
  {
   "cell_type": "code",
   "execution_count": 40,
   "id": "d5580902",
   "metadata": {},
   "outputs": [],
   "source": [
    "edge_label = {}\n",
    "for j, edge in enumerate(H.edges()):\n",
    "    #edge_label.update({(edge[0],edge[1]): \"<\"+ str(Channel_link_general[edge[0]+1,edge[1]+1])+ \"|\" +str(Channel_link_general[edge[1]+1,edge[0]+1])+\">\" })\n",
    "    if edge[1] > edge[0]:\n",
    "        edge_label.update({(edge[0],edge[1]): \"<\" + str(int(Channel_link_general[edge[0],edge[1]])) + \"|\" })\n",
    "    else:\n",
    "        edge_label.update({(edge[0],edge[1]): \"|\" + str(int(Channel_link_general[edge[0],edge[1]])) + \">\" })"
   ]
  },
  {
   "cell_type": "code",
   "execution_count": 46,
   "id": "ed6ced46",
   "metadata": {},
   "outputs": [
    {
     "data": {
      "image/png": "[encoded data removed]",
      "text/plain": [
       "<Figure size 432x288 with 1 Axes>"
      ]
     },
     "metadata": {},
     "output_type": "display_data"
    }
   ],
   "source": [
    "graph = nx.draw(H,pos,with_labels = True,connectionstyle='arc3, rad = 0.1')\n",
    "labels = nx.get_edge_attributes(H,'weight')\n",
    "graph2 = nx.draw_networkx_edge_labels(H,pos,edge_labels=edge_label,label_pos = 0.8)"
   ]
  },
  {
   "cell_type": "code",
   "execution_count": 34,
   "id": "abda18e8",
   "metadata": {},
   "outputs": [
    {
     "data": {
      "image/png": "[encoded data removed]",
      "text/plain": [
       "<Figure size 432x288 with 1 Axes>"
      ]
     },
     "metadata": {},
     "output_type": "display_data"
    }
   ],
   "source": [
    "import networkx as nx\n",
    "import matplotlib.pyplot as plt\n",
    "\n",
    "# Create a graph and add a self-loop to node 0\n",
    "G = nx.complete_graph(3, create_using=nx.DiGraph)\n",
    "G.add_edge(0, 0)\n",
    "pos = nx.circular_layout(G)\n",
    "\n",
    "# As of version 2.6, self-loops are drawn by default with the same styling as\n",
    "# other edges\n",
    "nx.draw(G, pos, with_labels=True)\n",
    "\n",
    "# Add self-loops to the remaining nodes\n",
    "edgelist = [(1, 1), (2, 2)]\n",
    "G.add_edges_from(edgelist)\n",
    "\n",
    "# Draw the newly added self-loops with different formatting\n",
    "nx.draw_networkx_edges(G, pos, edgelist=edgelist, arrowstyle=\"<|-\", style=\"dashed\")\n",
    "\n",
    "plt.show()"
   ]
  },
  {
   "cell_type": "code",
   "execution_count": null,
   "id": "8eca50cb",
   "metadata": {},
   "outputs": [],
   "source": []
  },
  {
   "cell_type": "code",
   "execution_count": null,
   "id": "2517171e",
   "metadata": {},
   "outputs": [],
   "source": []
  },
  {
   "cell_type": "code",
   "execution_count": null,
   "id": "7cd746be",
   "metadata": {},
   "outputs": [],
   "source": []
  }
 ],
 "metadata": {
  "kernelspec": {
   "display_name": "Python 3",
   "language": "python",
   "name": "python3"
  },
  "language_info": {
   "codemirror_mode": {
    "name": "ipython",
    "version": 3
   },
   "file_extension": ".py",
   "mimetype": "text/x-python",
   "name": "python",
   "nbconvert_exporter": "python",
   "pygments_lexer": "ipython3",
   "version": "3.8.6"
  }
 },
 "nbformat": 4,
 "nbformat_minor": 5
}
