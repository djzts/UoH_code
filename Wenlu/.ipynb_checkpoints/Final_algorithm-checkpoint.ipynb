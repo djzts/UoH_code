{
 "cells": [
  {
   "cell_type": "code",
   "execution_count": 485,
   "id": "a2c1fa93",
   "metadata": {},
   "outputs": [
    {
     "data": {
      "text/html": [
       "<style>.container { width:100% !important; }</style>"
      ],
      "text/plain": [
       "<IPython.core.display.HTML object>"
      ]
     },
     "metadata": {},
     "output_type": "display_data"
    }
   ],
   "source": [
    "%run Make_Questiones.ipynb\n",
    "import numpy as np\n",
    "from collections import defaultdict\n",
    "import random\n",
    "import matplotlib.pyplot as plt\n",
    "import warnings\n",
    "warnings.filterwarnings(\"ignore\")\n",
    "import time\n"
   ]
  },
  {
   "cell_type": "code",
   "execution_count": 509,
   "id": "8040682e",
   "metadata": {},
   "outputs": [],
   "source": [
    "N = 3\n",
    "#M = 5\n",
    "I = 2\n",
    "J = 3\n",
    "K = 5\n",
    "Channel_upperbound = 5\n",
    "Data_upperbound = 20\n",
    "Processing_upperbound = 70\n",
    "self_looped = 100"
   ]
  },
  {
   "cell_type": "code",
   "execution_count": 487,
   "id": "18605193",
   "metadata": {},
   "outputs": [],
   "source": [
    "Channel_link = Create_channel(N,Channel_upperbound,option = \"same\",initial_length = 1)\n",
    "#print(Channel_link)"
   ]
  },
  {
   "cell_type": "code",
   "execution_count": 488,
   "id": "f5365146",
   "metadata": {},
   "outputs": [
    {
     "name": "stdout",
     "output_type": "stream",
     "text": [
      "[[2 3]\n",
      " [3 5]\n",
      " [1 4]]\n",
      "[[4 5 3]\n",
      " [4 5 2]]\n"
     ]
    }
   ],
   "source": [
    "Data_input = Data_Queue(I,J,Data_upperbound)\n",
    "Data_input_type = Data_Queue_type(I,J,K)\n",
    "VM_type = VM_Data_type_gen(I,K,N)\n",
    "VM_speed = VM_Data_processing_speed(Processing_upperbound, VM_type, K)\n",
    "#print(Data_input_type)\n",
    "print(VM_type)\n",
    "print(Data_input_type)"
   ]
  },
  {
   "cell_type": "code",
   "execution_count": 489,
   "id": "04126844",
   "metadata": {},
   "outputs": [
    {
     "name": "stdout",
     "output_type": "stream",
     "text": [
      "(2, 3, 3) (2, 3) (3, 5)\n"
     ]
    }
   ],
   "source": [
    "print(np.shape(VM_DP_time),np.shape( Data_input_type),np.shape(VM_speed))\n",
    "\n",
    "VM_DP_time = VM_Data_processing_time(Data_input, Data_input_type , VM_speed)\n"
   ]
  },
  {
   "cell_type": "code",
   "execution_count": 490,
   "id": "64834feb",
   "metadata": {},
   "outputs": [],
   "source": [
    "Transmission_time = Channel_Data_transmission_time(Data_input , Channel_link)"
   ]
  },
  {
   "cell_type": "code",
   "execution_count": 491,
   "id": "b5c58334",
   "metadata": {},
   "outputs": [
    {
     "data": {
      "image/png": "[encoded data removed]",
      "text/plain": [
       "<Figure size 432x288 with 1 Axes>"
      ]
     },
     "metadata": {},
     "output_type": "display_data"
    }
   ],
   "source": [
    "Draw_network(Channel_link)"
   ]
  },
  {
   "cell_type": "code",
   "execution_count": 492,
   "id": "bcf136d0",
   "metadata": {},
   "outputs": [
    {
     "data": {
      "image/png": "[encoded data removed]",
      "text/plain": [
       "<Figure size 648x648 with 1 Axes>"
      ]
     },
     "metadata": {
      "needs_background": "light"
     },
     "output_type": "display_data"
    }
   ],
   "source": [
    "show_relation(np.sign(Channel_link))"
   ]
  },
  {
   "cell_type": "code",
   "execution_count": 493,
   "id": "5e9677f8",
   "metadata": {},
   "outputs": [
    {
     "name": "stdout",
     "output_type": "stream",
     "text": [
      "[1]\n"
     ]
    }
   ],
   "source": [
    "next_index,_ = np.where(VM_type==5)\n",
    "print(next_index)\n",
    "#print(y_index)"
   ]
  },
  {
   "cell_type": "code",
   "execution_count": 494,
   "id": "cd5ce3d1",
   "metadata": {},
   "outputs": [
    {
     "name": "stdout",
     "output_type": "stream",
     "text": [
      "每个任务的经过未知机器处理的最大时间\n",
      "[[1. 1. 1.]\n",
      " [1. 1. 2.]]\n",
      "Worst case processing T_max 为: 88\n"
     ]
    }
   ],
   "source": [
    "modified_VM_DP_time = VM_DP_time\n",
    "modified_VM_DP_time[np.isinf(modified_VM_DP_time)]=0\n",
    "print(\"每个任务的经过未知机器处理的最大时间\")\n",
    "print(np.max(modified_VM_DP_time[:,:,:],2))\n",
    "T_max_DP = np.sum(np.max(modified_VM_DP_time[:,:,:],2))\n",
    "print(\"Worst case processing T_max 为:\", T_max)"
   ]
  },
  {
   "cell_type": "code",
   "execution_count": 495,
   "id": "e0104013",
   "metadata": {},
   "outputs": [
    {
     "name": "stdout",
     "output_type": "stream",
     "text": [
      "(2, 3, 3, 3)\n",
      "每个任务的经过未知link的最大时间\n",
      "[[14.  8. 16.]\n",
      " [ 2.  3. 20.]]\n",
      "Worst case of transmission T_max 为: 63.0\n"
     ]
    }
   ],
   "source": [
    "modified_Transmission_time = Transmission_time[:,1:,:,1:]\n",
    "modified_Transmission_time[np.isinf(modified_Transmission_time)] = 0  #可不做（只要左，上需要从除去inf，除非不是全连接图）\n",
    "print(np.shape(modified_Transmission_time))\n",
    "print(\"每个任务的经过未知link的最大时间\")\n",
    "print(np.max(modified_Transmission_time,(1,3)))\n",
    "\n",
    "T_max_DT = np.sum(np.max(modified_Transmission_time,(1,3)))\n",
    "\n",
    "print(\"Worst case of transmission T_max 为:\", T_max_DT)"
   ]
  },
  {
   "cell_type": "code",
   "execution_count": 496,
   "id": "21a89fcd",
   "metadata": {},
   "outputs": [
    {
     "name": "stdout",
     "output_type": "stream",
     "text": [
      "Worst case of whole DT + DP T_max 为: 70\n"
     ]
    }
   ],
   "source": [
    "T_max = int(T_max_DP + T_max_DT )\n",
    "print(\"Worst case of whole DT + DP T_max 为:\", T_max)"
   ]
  },
  {
   "cell_type": "code",
   "execution_count": null,
   "id": "81a8b93b",
   "metadata": {},
   "outputs": [],
   "source": []
  },
  {
   "cell_type": "code",
   "execution_count": 497,
   "id": "9efd83e1",
   "metadata": {},
   "outputs": [
    {
     "name": "stdout",
     "output_type": "stream",
     "text": [
      "let t = 1 unit of time\n"
     ]
    }
   ],
   "source": [
    "print(\"let t = 1 unit of time\")"
   ]
  },
  {
   "cell_type": "code",
   "execution_count": 498,
   "id": "67e466dc",
   "metadata": {},
   "outputs": [
    {
     "data": {
      "image/png": "[encoded data removed]",
      "text/plain": [
       "<Figure size 648x648 with 2 Axes>"
      ]
     },
     "metadata": {
      "needs_background": "light"
     },
     "output_type": "display_data"
    }
   ],
   "source": [
    "#Obj QUBO dont flatten yet\n",
    "w = np.zeros((I,J,N,N,T_max))\n",
    "w[:,J-1,:,:,:] = 1\n",
    "QUBO_0 = np.diag(w.flatten())\n",
    "#print(QUBO)\n",
    "show_graph(QUBO_0)"
   ]
  },
  {
   "cell_type": "code",
   "execution_count": 499,
   "id": "13cb22a2",
   "metadata": {},
   "outputs": [
    {
     "data": {
      "image/png": "[encoded data removed]",
      "text/plain": [
       "<Figure size 648x648 with 2 Axes>"
      ]
     },
     "metadata": {
      "needs_background": "light"
     },
     "output_type": "display_data"
    }
   ],
   "source": [
    "#C2\n",
    "P2 = np.ones((I,J))\n",
    "QUBO_2 = np.zeros_like(QUBO_0)\n",
    "\n",
    "#print(P2)\n",
    "for i in range(I):\n",
    "    for j in range(J):\n",
    "        w = np.zeros((I,J,N,N,T_max))\n",
    "        w[i,j,:,:,:] = 1    \n",
    "        QUBO_2 += P2[i,j]*np.outer(w.flatten(),w.flatten())\n",
    "        \n",
    "show_graph(QUBO_2)"
   ]
  },
  {
   "cell_type": "code",
   "execution_count": 500,
   "id": "de3f26c0",
   "metadata": {},
   "outputs": [
    {
     "name": "stdout",
     "output_type": "stream",
     "text": [
      "[2] [2]\n",
      "[1] [1]\n",
      "[2] [2]\n",
      "[1] [1]\n"
     ]
    },
    {
     "data": {
      "image/png": "[encoded data removed]",
      "text/plain": [
       "<Figure size 648x648 with 2 Axes>"
      ]
     },
     "metadata": {
      "needs_background": "light"
     },
     "output_type": "display_data"
    }
   ],
   "source": [
    "#C3 P 算错了 should be j-1\n",
    "P3 = np.ones((I,J))\n",
    "QUBO_3 = np.zeros_like(QUBO_0)\n",
    "\n",
    "#print(P3)\n",
    "for i in range(I):\n",
    "    for j in range(J-1):\n",
    "        \n",
    "        w = np.zeros((I,J,N,N,T_max))\n",
    "        V_ij_k, _ = np.where(VM_type == Data_input_type[i,j])\n",
    "        V_ijplus1_k, _ = np.where(VM_type == Data_input_type[i,j])\n",
    "        print(V_ij_k,V_ijplus1_k)\n",
    "        \n",
    "        w[i,j,V_ij_k,V_ijplus1_k,:] = 1    \n",
    "        QUBO_3 += P3[i,j]*np.outer(w.flatten(),w.flatten())\n",
    "\n",
    "show_graph(QUBO_3)\n",
    "        \n",
    "        \n"
   ]
  },
  {
   "cell_type": "code",
   "execution_count": 514,
   "id": "cf60123c",
   "metadata": {},
   "outputs": [
    {
     "name": "stdout",
     "output_type": "stream",
     "text": [
      "2 3 0\n"
     ]
    }
   ],
   "source": [
    "position_dictionary = {}\n",
    "print(I,J,N)"
   ]
  },
  {
   "cell_type": "code",
   "execution_count": 512,
   "id": "744c30f1",
   "metadata": {},
   "outputs": [],
   "source": [
    "# set-up a dictionary\n",
    "\n",
    "# x input\n",
    "for i in range(I):\n",
    "    for j in range(J):\n",
    "        for m in range(N):\n",
    "            for n in range(N):\n",
    "                for t in range(T_max):\n",
    "                    \n",
    "                    multiplier = np.array([i,j,m,n,t])\n",
    "                    unit = np.array([J*T_max*N**2,T_max*N**2,T_max*N,T_max,1])\n",
    "                    print(np.dot(multiplier,unit))\n",
    "                    position_dictionary[\"X_%d%d%d%d%d\"%(i,j,m,n,t)] = np.dot(multiplier,unit)\n",
    "\n",
    "# y input\n"
   ]
  },
  {
   "cell_type": "code",
   "execution_count": 513,
   "id": "d952ad6a",
   "metadata": {},
   "outputs": [
    {
     "data": {
      "text/plain": [
       "70"
      ]
     },
     "execution_count": 513,
     "metadata": {},
     "output_type": "execute_result"
    }
   ],
   "source": [
    "len(position_dictionary)"
   ]
  },
  {
   "cell_type": "code",
   "execution_count": null,
   "id": "00a221a7",
   "metadata": {},
   "outputs": [],
   "source": []
  },
  {
   "cell_type": "code",
   "execution_count": null,
   "id": "03f941aa",
   "metadata": {},
   "outputs": [],
   "source": []
  },
  {
   "cell_type": "code",
   "execution_count": null,
   "id": "955eba2b",
   "metadata": {},
   "outputs": [],
   "source": []
  },
  {
   "cell_type": "code",
   "execution_count": null,
   "id": "1cbc3a45",
   "metadata": {},
   "outputs": [],
   "source": []
  },
  {
   "cell_type": "code",
   "execution_count": null,
   "id": "bffacd5d",
   "metadata": {},
   "outputs": [],
   "source": []
  },
  {
   "cell_type": "code",
   "execution_count": null,
   "id": "79fea362",
   "metadata": {},
   "outputs": [],
   "source": []
  },
  {
   "cell_type": "code",
   "execution_count": null,
   "id": "3d5038c1",
   "metadata": {},
   "outputs": [],
   "source": []
  },
  {
   "cell_type": "code",
   "execution_count": 471,
   "id": "e230ee60",
   "metadata": {},
   "outputs": [
    {
     "data": {
      "text/plain": [
       "'X_11331'"
      ]
     },
     "execution_count": 471,
     "metadata": {},
     "output_type": "execute_result"
    }
   ],
   "source": [
    "m = N\n",
    "n = N\n",
    "t = 1\n",
    "\"X_%d%d%d%d%d\"%(i,j,m,n,t)"
   ]
  },
  {
   "cell_type": "code",
   "execution_count": 472,
   "id": "abca7807",
   "metadata": {},
   "outputs": [
    {
     "data": {
      "text/plain": [
       "4225"
      ]
     },
     "execution_count": 472,
     "metadata": {},
     "output_type": "execute_result"
    }
   ],
   "source": [
    "multiplier = np.array([i,j,m,n,t])\n",
    "unit = np.array([J*T_max*N**2,T_max*N**2,T_max*N,T_max,1])\n",
    "np.dot(multiplier,unit)"
   ]
  },
  {
   "cell_type": "code",
   "execution_count": null,
   "id": "d880bbd9",
   "metadata": {},
   "outputs": [],
   "source": []
  }
 ],
 "metadata": {
  "kernelspec": {
   "display_name": "Python 3",
   "language": "python",
   "name": "python3"
  },
  "language_info": {
   "codemirror_mode": {
    "name": "ipython",
    "version": 3
   },
   "file_extension": ".py",
   "mimetype": "text/x-python",
   "name": "python",
   "nbconvert_exporter": "python",
   "pygments_lexer": "ipython3",
   "version": "3.8.6"
  }
 },
 "nbformat": 4,
 "nbformat_minor": 5
}
