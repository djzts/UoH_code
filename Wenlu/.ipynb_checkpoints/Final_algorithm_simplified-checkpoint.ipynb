{
 "cells": [
  {
   "cell_type": "code",
   "execution_count": 183,
   "id": "bd972aa5",
   "metadata": {},
   "outputs": [
    {
     "data": {
      "text/html": [
       "<style>.container { width:100% !important; }</style>"
      ],
      "text/plain": [
       "<IPython.core.display.HTML object>"
      ]
     },
     "metadata": {},
     "output_type": "display_data"
    },
    {
     "ename": "SyntaxError",
     "evalue": "invalid syntax (<ipython-input-183-ccc0d9016b27>, line 1)",
     "output_type": "error",
     "traceback": [
      "\u001b[1;36m  File \u001b[1;32m\"<ipython-input-183-ccc0d9016b27>\"\u001b[1;36m, line \u001b[1;32m1\u001b[0m\n\u001b[1;33m    def mk_QUBO_0(I,J,N,T_max,QUBO_init)\u001b[0m\n\u001b[1;37m                                        ^\u001b[0m\n\u001b[1;31mSyntaxError\u001b[0m\u001b[1;31m:\u001b[0m invalid syntax\n"
     ]
    },
    {
     "ename": "SyntaxError",
     "evalue": "invalid syntax (<ipython-input-183-ccc0d9016b27>, line 1)",
     "output_type": "error",
     "traceback": [
      "Traceback \u001b[1;36m(most recent call last)\u001b[0m:\n",
      "  File \u001b[0;32m\"c:\\python38\\lib\\site-packages\\IPython\\core\\interactiveshell.py\"\u001b[0m, line \u001b[0;32m3441\u001b[0m, in \u001b[0;35mrun_code\u001b[0m\n    exec(code_obj, self.user_global_ns, self.user_ns)\n",
      "  File \u001b[0;32m\"<ipython-input-183-a83f758074a2>\"\u001b[0m, line \u001b[0;32m1\u001b[0m, in \u001b[0;35m<module>\u001b[0m\n    get_ipython().run_line_magic('run', 'Make_Question_simplified.ipynb')\n",
      "  File \u001b[0;32m\"c:\\python38\\lib\\site-packages\\IPython\\core\\interactiveshell.py\"\u001b[0m, line \u001b[0;32m2348\u001b[0m, in \u001b[0;35mrun_line_magic\u001b[0m\n    result = fn(*args, **kwargs)\n",
      "  File \u001b[0;32m\"<decorator-gen-53>\"\u001b[0m, line \u001b[0;32m2\u001b[0m, in \u001b[0;35mrun\u001b[0m\n",
      "  File \u001b[0;32m\"c:\\python38\\lib\\site-packages\\IPython\\core\\magic.py\"\u001b[0m, line \u001b[0;32m187\u001b[0m, in \u001b[0;35m<lambda>\u001b[0m\n    call = lambda f, *a, **k: f(*a, **k)\n",
      "  File \u001b[0;32m\"c:\\python38\\lib\\site-packages\\IPython\\core\\magics\\execution.py\"\u001b[0m, line \u001b[0;32m724\u001b[0m, in \u001b[0;35mrun\u001b[0m\n    self.shell.safe_execfile_ipy(filename, raise_exceptions=True)\n",
      "  File \u001b[0;32m\"c:\\python38\\lib\\site-packages\\IPython\\core\\interactiveshell.py\"\u001b[0m, line \u001b[0;32m2835\u001b[0m, in \u001b[0;35msafe_execfile_ipy\u001b[0m\n    result.raise_error()\n",
      "  File \u001b[0;32m\"c:\\python38\\lib\\site-packages\\IPython\\core\\interactiveshell.py\"\u001b[0m, line \u001b[0;32m329\u001b[0m, in \u001b[0;35mraise_error\u001b[0m\n    raise self.error_before_exec\n",
      "  File \u001b[0;32m\"c:\\python38\\lib\\site-packages\\IPython\\core\\interactiveshell.py\"\u001b[0m, line \u001b[0;32m3140\u001b[0m, in \u001b[0;35mrun_cell_async\u001b[0m\n    code_ast = compiler.ast_parse(cell, filename=cell_name)\n",
      "\u001b[1;36m  File \u001b[1;32m\"c:\\python38\\lib\\site-packages\\IPython\\core\\compilerop.py\"\u001b[1;36m, line \u001b[1;32m101\u001b[1;36m, in \u001b[1;35mast_parse\u001b[1;36m\u001b[0m\n\u001b[1;33m    return compile(source, filename, symbol, self.flags | PyCF_ONLY_AST, 1)\u001b[0m\n",
      "\u001b[1;36m  File \u001b[1;32m\"<ipython-input-183-ccc0d9016b27>\"\u001b[1;36m, line \u001b[1;32m1\u001b[0m\n\u001b[1;33m    def mk_QUBO_0(I,J,N,T_max,QUBO_init)\u001b[0m\n\u001b[1;37m                                        ^\u001b[0m\n\u001b[1;31mSyntaxError\u001b[0m\u001b[1;31m:\u001b[0m invalid syntax\n"
     ]
    }
   ],
   "source": [
    "%run Make_Question_simplified.ipynb\n",
    "import numpy as np\n",
    "from collections import defaultdict\n",
    "\n",
    "import random\n",
    "import matplotlib.pyplot as plt\n",
    "import warnings\n",
    "warnings.filterwarnings(\"ignore\")\n",
    "import time\n",
    "import csv"
   ]
  },
  {
   "cell_type": "code",
   "execution_count": 186,
   "id": "95e4c7a0",
   "metadata": {},
   "outputs": [],
   "source": [
    "N = 2\n",
    "#M = 5\n",
    "I = 2\n",
    "J = 2\n",
    "K = 3\n",
    "Data_upperbound = 20\n",
    "Processing_upperbound = 20\n",
    "Data_input = Data_Queue(I,J,Data_upperbound)\n",
    "Data_input_type = Data_Queue_type(I,J,K)\n",
    "VM_type = VM_Data_type_gen(I,K,N)\n",
    "\n",
    "VM_speed = VM_Data_processing_speed(Processing_upperbound, VM_type, K)\n",
    "VM_DP_time = VM_Data_processing_time(Data_input, Data_input_type , VM_speed)\n",
    "\n",
    "modified_VM_DP_time =np.copy(VM_DP_time)\n",
    "modified_VM_DP_time[np.isinf(modified_VM_DP_time)]=np.inf\n",
    "\n",
    "T_max = little_greedy_algorithm(VM_DP_time,I,J,N)"
   ]
  },
  {
   "cell_type": "code",
   "execution_count": 188,
   "id": "17db370b",
   "metadata": {},
   "outputs": [
    {
     "name": "stdout",
     "output_type": "stream",
     "text": [
      "[[1 2]\n",
      " [1 3]]\n",
      "[[3 1]\n",
      " [3 1]]\n",
      "[[[inf  5.]\n",
      "  [ 1.  1.]]\n",
      "\n",
      " [[inf  5.]\n",
      "  [ 1.  1.]]]\n",
      "[5. 1. 5. 1.]\n",
      "T_max is  12\n",
      "let t = 1 unit of time\n"
     ]
    }
   ],
   "source": [
    "print(VM_type)\n",
    "print(Data_input_type)\n",
    "print(VM_DP_time)\n",
    "print(np.min(VM_DP_time.reshape(I*J,N),1))\n",
    "print(\"T_max is \",T_max)\n",
    "print(\"let t = 1 unit of time\")"
   ]
  },
  {
   "cell_type": "code",
   "execution_count": 162,
   "id": "75039b57",
   "metadata": {},
   "outputs": [],
   "source": [
    "position_dictionary, Total = Make_dictionary(I,J,N,T_max)\n",
    "QUBO_init = np.zeros((Total, Total))\n",
    "P = {\n",
    "    \"Obj\": 1,\n",
    "    \"C1\":  1,\n",
    "    \"C2\":  10,\n",
    "    \"C3\":  1,\n",
    "    \"C4\":  1,\n",
    "    \"C5\":  1,\n",
    "    \"C6\":  1,\n",
    "    \"C7\":  1,\n",
    "    \"C8\":  1,\n",
    "    \"C9\":  1,\n",
    "    \"Cadd\":  100,\n",
    "    \"Cadd1\":  1,\n",
    "    \"Cadd2\":  1,\n",
    "}"
   ]
  },
  {
   "cell_type": "code",
   "execution_count": 163,
   "id": "a1c3a20b",
   "metadata": {},
   "outputs": [
    {
     "data": {
      "image/png": "[encoded data removed]",
      "text/plain": [
       "<Figure size 648x648 with 2 Axes>"
      ]
     },
     "metadata": {
      "needs_background": "light"
     },
     "output_type": "display_data"
    }
   ],
   "source": [
    "#Obj QUBO dont flatten yet\n",
    "QUBO_0 = np.zeros_like(QUBO_init)\n",
    "for i in range(I):    \n",
    "    for m in range(N):\n",
    "        for t in range(T_max):\n",
    "            #print(position_dictionary['p_%d%d%d%d'%(i,J-1,m,t)])\n",
    "            index_matched = position_dictionary['p_%d%d%d%d'%(i,J-1,m,t)]\n",
    "            QUBO_0[index_matched,index_matched] += t\n",
    "\n",
    "#print(QUBO)\n",
    "show_graph(QUBO_0)"
   ]
  },
  {
   "cell_type": "code",
   "execution_count": 164,
   "id": "c41abe76",
   "metadata": {},
   "outputs": [
    {
     "data": {
      "image/png": "[encoded data removed]",
      "text/plain": [
       "<Figure size 648x648 with 2 Axes>"
      ]
     },
     "metadata": {
      "needs_background": "light"
     },
     "output_type": "display_data"
    }
   ],
   "source": [
    "#C1 line(3)\n",
    "P1 = np.ones((I,J)) * P[\"C1\"]\n",
    "QUBO_1 = np.zeros_like(QUBO_init)\n",
    "\n",
    "for i in range(I):\n",
    "    for j in range(J):\n",
    "        \n",
    "        V_ij_k, _ = np.where(VM_type == Data_input_type[i,j])\n",
    "        index_matched = [];\n",
    "        \n",
    "        for machine in V_ij_k:\n",
    "            index_matched.append(position_dictionary['x_%d%d%d'%(i,j,machine)])\n",
    "        \n",
    "        #print(V_ij_k)\n",
    "        x_matched = np.zeros(Total)\n",
    "        x_matched[np.array(index_matched)] = 1\n",
    "        QUBO_1 += P1[i,j]* (1 * np.outer(x_matched,x_matched) - 2*np.diag(x_matched))\n",
    "\n",
    "show_graph(QUBO_1)"
   ]
  },
  {
   "cell_type": "code",
   "execution_count": 165,
   "id": "22e1c4b7",
   "metadata": {},
   "outputs": [
    {
     "data": {
      "image/png": "[encoded data removed]",
      "text/plain": [
       "<Figure size 648x648 with 2 Axes>"
      ]
     },
     "metadata": {
      "needs_background": "light"
     },
     "output_type": "display_data"
    }
   ],
   "source": [
    "#C2 line(4)\n",
    "P2 = np.ones((I,J,N)) * P[\"C2\"]\n",
    "QUBO_2 = np.zeros_like(QUBO_init)\n",
    "for i in range(I):\n",
    "    for j in range(J):\n",
    "        for m in range(N):\n",
    "            \n",
    "            index_matched_z = []\n",
    "            index_matched_x = []\n",
    "            \n",
    "            index_matched_x.append(position_dictionary['x_%d%d%d'%(i,j,m)])\n",
    "            \n",
    "            for t in range(T_max):\n",
    "                index_matched_z.append(position_dictionary['z_%d%d%d%d'%(i,j,m,t)])\n",
    "            #print(index_matched)\n",
    "            var_matched = np.zeros(Total)\n",
    "            var_matched[np.array(index_matched_z)] = -1\n",
    "            var_matched[np.array(index_matched_x)] = 1\n",
    "            QUBO_2 += P2[i,j,m]*np.outer(var_matched,var_matched)\n",
    "\n",
    "show_graph(QUBO_2)"
   ]
  },
  {
   "cell_type": "code",
   "execution_count": 166,
   "id": "d400ea66",
   "metadata": {},
   "outputs": [
    {
     "data": {
      "image/png": "[encoded data removed]",
      "text/plain": [
       "<Figure size 648x648 with 2 Axes>"
      ]
     },
     "metadata": {
      "needs_background": "light"
     },
     "output_type": "display_data"
    }
   ],
   "source": [
    "#C3 line(5)\n",
    "P3 = np.ones((N,T_max)) * P[\"C3\"]\n",
    "QUBO_3 = np.zeros_like(QUBO_init)\n",
    "for m in range(N):\n",
    "    for t in range(T_max):\n",
    "        index_matched = [];\n",
    "        for i in range(I):\n",
    "            for j in range(J):\n",
    "                index_matched.append(position_dictionary['y_%d%d%d%d'%(i,j,m,t)])\n",
    "        #print(index_matched)\n",
    "        var_matched = np.zeros(Total)\n",
    "        var_matched[np.array(index_matched)] = 1\n",
    "        QUBO_3 += P3[m,t]*(np.outer(var_matched,var_matched)-np.diag(var_matched))\n",
    "\n",
    "show_graph(QUBO_3)"
   ]
  },
  {
   "cell_type": "code",
   "execution_count": 167,
   "id": "5c3ab4e1",
   "metadata": {},
   "outputs": [
    {
     "data": {
      "image/png": "[encoded data removed]",
      "text/plain": [
       "<Figure size 648x648 with 2 Axes>"
      ]
     },
     "metadata": {
      "needs_background": "light"
     },
     "output_type": "display_data"
    }
   ],
   "source": [
    "#C4 line(6)\n",
    "P4 = np.ones((I,J,N,T_max)) * P[\"C4\"]\n",
    "QUBO_4 = np.zeros_like(QUBO_init)\n",
    "\n",
    "for i in range(I):\n",
    "    for j in range(J):\n",
    "        for m in range(N):\n",
    "            for t in range(T_max):\n",
    "                QUBO_temp = np.zeros_like(QUBO_init)\n",
    "                index_matched_x = position_dictionary['x_%d%d%d'%(i,j,m)]\n",
    "            \n",
    "                index_matched_y = position_dictionary['y_%d%d%d%d'%(i,j,m,t)]\n",
    "                #print(index_matched)\n",
    "                QUBO_temp[index_matched_y,index_matched_y] = 1 \n",
    "                QUBO_temp[index_matched_y,index_matched_x] = -1 \n",
    "                QUBO_4 += P4[i,j,m,t]*QUBO_temp\n",
    "\n",
    "show_graph(QUBO_4)"
   ]
  },
  {
   "cell_type": "code",
   "execution_count": 168,
   "id": "64ccf5d8",
   "metadata": {},
   "outputs": [
    {
     "data": {
      "image/png": "[encoded data removed]",
      "text/plain": [
       "<Figure size 648x648 with 2 Axes>"
      ]
     },
     "metadata": {
      "needs_background": "light"
     },
     "output_type": "display_data"
    }
   ],
   "source": [
    "#C5 line(7)\n",
    "P5 = np.ones((I,J,N)) * P[\"C5\"]\n",
    "QUBO_5 = np.zeros_like(QUBO_init)\n",
    "for i in range(I):\n",
    "    for j in range(J):\n",
    "        V_ij_k, _ = np.where(VM_type == Data_input_type[i,j])\n",
    "        for machine in V_ij_k:\n",
    "            index_matched_y = []\n",
    "            for t in range(T_max):\n",
    "                index_matched_y.append(position_dictionary['y_%d%d%d%d'%(i,j,machine,t)])\n",
    "                \n",
    "            var_matched = np.zeros(Total)\n",
    "            #print(modified_VM_DP_time[i,j,m] )\n",
    "            #print(index_matched_y)\n",
    "            var_matched[np.array(index_matched_y)] = 1\n",
    "            QUBO_5 += P5[i,j,machine]*( np.outer(var_matched,var_matched) - 2 * modified_VM_DP_time[i,j,machine] * np.diag(var_matched))\n",
    "\n",
    "\n",
    "show_graph(QUBO_5)"
   ]
  },
  {
   "cell_type": "code",
   "execution_count": 169,
   "id": "cc334617",
   "metadata": {},
   "outputs": [
    {
     "name": "stdout",
     "output_type": "stream",
     "text": [
      "[[[inf  1.]\n",
      "  [ 1.  1.]]\n",
      "\n",
      " [[ 1. inf]\n",
      "  [ 2.  2.]]]\n"
     ]
    }
   ],
   "source": [
    "print(modified_VM_DP_time) "
   ]
  },
  {
   "cell_type": "code",
   "execution_count": 170,
   "id": "e5d39356",
   "metadata": {},
   "outputs": [
    {
     "data": {
      "image/png": "[encoded data removed]",
      "text/plain": [
       "<Figure size 648x648 with 2 Axes>"
      ]
     },
     "metadata": {
      "needs_background": "light"
     },
     "output_type": "display_data"
    }
   ],
   "source": [
    "#C6 line(8)\n",
    "P6 = np.ones((I,J,N,T_max)) * P[\"C6\"]\n",
    "QUBO_6 = np.zeros_like(QUBO_init)\n",
    "for i in range(I):\n",
    "    for j in range(J):\n",
    "        for m in range(N):\n",
    "            for t in range(1,T_max):\n",
    "                index_matched_z =  position_dictionary['z_%d%d%d%d'%(i,j,m,t)]\n",
    "                index_matched_p =  position_dictionary['p_%d%d%d%d'%(i,j,m,t)]\n",
    "                \n",
    "                var_matched = np.zeros(Total)\n",
    "\n",
    "                var_matched[index_matched_z ] = 1\n",
    "                var_matched[index_matched_p ] = 1\n",
    "                \n",
    "                QUBO_6 += P6[i,j,m,t]*(0.5*np.outer(var_matched,var_matched)-np.diag(var_matched))\n",
    "\n",
    "\n",
    "show_graph(QUBO_6)"
   ]
  },
  {
   "cell_type": "code",
   "execution_count": 171,
   "id": "60e45911",
   "metadata": {},
   "outputs": [
    {
     "data": {
      "image/png": "[encoded data removed]",
      "text/plain": [
       "<Figure size 648x648 with 2 Axes>"
      ]
     },
     "metadata": {
      "needs_background": "light"
     },
     "output_type": "display_data"
    }
   ],
   "source": [
    "#C7 line(9)\n",
    "P7 = np.ones((I,J,N,T_max)) * P[\"C7\"]\n",
    "QUBO_7 = np.zeros_like(QUBO_init)\n",
    "for i in range(I):\n",
    "    for j in range(J):\n",
    "        for m in range(N):\n",
    "            for t in range(T_max):\n",
    "                if t>0:\n",
    "                    index_matched_y_pre =  position_dictionary['y_%d%d%d%d'%(i,j,m,t-1)]\n",
    "                index_matched_y =  position_dictionary['y_%d%d%d%d'%(i,j,m,t)]\n",
    "                index_matched_z =  position_dictionary['z_%d%d%d%d'%(i,j,m,t)]\n",
    "                index_matched_p =  position_dictionary['p_%d%d%d%d'%(i,j,m,t)]\n",
    "                \n",
    "                var_matched = np.zeros(Total)\n",
    "                \n",
    "                if t>0:\n",
    "                    var_matched[index_matched_y_pre] = 1\n",
    "                var_matched[index_matched_y] = -1\n",
    "                var_matched[index_matched_z ] = 1\n",
    "                var_matched[index_matched_p ] = -1\n",
    "                \n",
    "                QUBO_7 += P7[i,j,m,t]*np.outer(var_matched,var_matched)\n",
    "                #show_graph(np.outer(var_matched,var_matched))\n",
    "                    \n",
    "show_graph(QUBO_7)\n",
    "                "
   ]
  },
  {
   "cell_type": "code",
   "execution_count": 172,
   "id": "d65cfc3b",
   "metadata": {},
   "outputs": [
    {
     "data": {
      "image/png": "[encoded data removed]",
      "text/plain": [
       "<Figure size 648x648 with 2 Axes>"
      ]
     },
     "metadata": {
      "needs_background": "light"
     },
     "output_type": "display_data"
    }
   ],
   "source": [
    "#C8 line(11)\n",
    "P8 = np.ones((I,J,N,T_max,T_max)) * P[\"C8\"]\n",
    "QUBO_8 = np.zeros_like(QUBO_init)\n",
    "beta = T_max\n",
    "\n",
    "for i in range(I):\n",
    "    for j in range(J-1):\n",
    "        V_ij_k, _ = np.where(VM_type == Data_input_type[i,j])\n",
    "        for machine in V_ij_k:\n",
    "            for t in range(T_max):\n",
    "                for beta in range(1,T_max+1):\n",
    "                    \n",
    "                    V_ijplus1_k, _ = np.where(VM_type == Data_input_type[i,j+1])\n",
    "                    \n",
    "                    t_prime = t + beta \n",
    "                    \n",
    "                    if (t_prime >= T_max) or (t_prime <= 0):\n",
    "                        \n",
    "                        continue                                            \n",
    "                    \n",
    "                    for machine_prime in V_ijplus1_k:\n",
    "                        \n",
    "                        QUBO_temp = np.zeros_like(QUBO_init)    \n",
    "                    \n",
    "                        index_matched_z = position_dictionary['z_%d%d%d%d'%(i,j+1,machine_prime,t_prime)]\n",
    "                        \n",
    "                        index_matched_p = position_dictionary['p_%d%d%d%d'%(i,j,machine,t)]\n",
    "                        #print(index_matched)\n",
    "                        QUBO_temp[index_matched_z,index_matched_z] = 1 \n",
    "                        QUBO_temp[index_matched_z,index_matched_p] = -1 \n",
    "                        QUBO_8 += P8[i,j,machine,t,t_prime] * QUBO_temp\n",
    "\n",
    "show_graph(QUBO_8)"
   ]
  },
  {
   "cell_type": "code",
   "execution_count": 173,
   "id": "07dd96db",
   "metadata": {},
   "outputs": [
    {
     "data": {
      "image/png": "[encoded data removed]",
      "text/plain": [
       "<Figure size 648x648 with 2 Axes>"
      ]
     },
     "metadata": {
      "needs_background": "light"
     },
     "output_type": "display_data"
    }
   ],
   "source": [
    "#C add line(##)\n",
    "P_add = P[\"Cadd\"]\n",
    "QUBO_add = np.zeros_like(QUBO_init)\n",
    "for i in range(I):\n",
    "    for j in range(J):\n",
    "        \n",
    "        V_ij_k, _ = np.where(VM_type == Data_input_type[i,j])\n",
    "        \n",
    "        All_VM = np.arange(N)\n",
    "        diff_VM = np.setdiff1d(All_VM,V_ij_k)\n",
    "        #print(V_ij_k)\n",
    "        #print(diff_VM )\n",
    "        for machine in diff_VM :\n",
    "            index_matched_x = position_dictionary['x_%d%d%d'%(i,j,machine)]\n",
    "            QUBO_add[index_matched_x,index_matched_x] = P_add\n",
    "            for t in range(T_max):\n",
    "                index_matched_p = position_dictionary['p_%d%d%d%d'%(i,j,machine,t)]\n",
    "                index_matched_y = position_dictionary['y_%d%d%d%d'%(i,j,machine,t)]\n",
    "                index_matched_z = position_dictionary['z_%d%d%d%d'%(i,j,machine,t)]\n",
    "                QUBO_add[index_matched_p,index_matched_p] = P_add\n",
    "                QUBO_add[index_matched_y,index_matched_y] = P_add\n",
    "                QUBO_add[index_matched_z,index_matched_z] = P_add\n",
    "                \n",
    "                \n",
    "               \n",
    "show_graph(QUBO_add)"
   ]
  },
  {
   "cell_type": "code",
   "execution_count": 174,
   "id": "276486e4",
   "metadata": {},
   "outputs": [
    {
     "data": {
      "image/png": "[encoded data removed]",
      "text/plain": [
       "<Figure size 648x648 with 2 Axes>"
      ]
     },
     "metadata": {
      "needs_background": "light"
     },
     "output_type": "display_data"
    }
   ],
   "source": [
    "#C_add1 line(3) about p\n",
    "P_add_1 = np.ones((I,J,N)) * P[\"Cadd1\"]\n",
    "QUBO_add_1 = np.zeros_like(QUBO_init)\n",
    "\n",
    "for i in range(I):\n",
    "    for j in range(J):\n",
    "        index_matched = [];\n",
    "        for m in range(N):\n",
    "            for t in range(T_max):\n",
    "                index_matched.append(position_dictionary['p_%d%d%d%d'%(i,j,m,t)])\n",
    "            p_matched = np.zeros(Total)\n",
    "            p_matched[np.array(index_matched)] = 1\n",
    "        QUBO_add_1 += P_add_1[i,j,m]* (1 * np.outer(p_matched, p_matched) - 2*np.diag(p_matched))\n",
    "\n",
    "show_graph(QUBO_add_1)"
   ]
  },
  {
   "cell_type": "code",
   "execution_count": 175,
   "id": "05fbf9b4",
   "metadata": {},
   "outputs": [
    {
     "data": {
      "image/png": "[encoded data removed]",
      "text/plain": [
       "<Figure size 648x648 with 2 Axes>"
      ]
     },
     "metadata": {
      "needs_background": "light"
     },
     "output_type": "display_data"
    }
   ],
   "source": [
    "#C_add1 line(3) about z\n",
    "P_add_2 = np.ones((I,J,N)) * P[\"Cadd2\"]\n",
    "QUBO_add_2 = np.zeros_like(QUBO_init)\n",
    "\n",
    "for i in range(I):\n",
    "    for j in range(J):\n",
    "        index_matched = [];\n",
    "        for m in range(N):\n",
    "            for t in range(T_max):\n",
    "                index_matched.append(position_dictionary['z_%d%d%d%d'%(i,j,m,t)])\n",
    "            p_matched = np.zeros(Total)\n",
    "            p_matched[np.array(index_matched)] = 1\n",
    "        QUBO_add_2 += P_add_2[i,j,m]* (1 * np.outer(p_matched, p_matched) - 2*np.diag(p_matched))\n",
    "\n",
    "show_graph(QUBO_add_2)"
   ]
  },
  {
   "cell_type": "code",
   "execution_count": 176,
   "id": "ddd3d323",
   "metadata": {},
   "outputs": [
    {
     "data": {
      "image/png": "[encoded data removed]",
      "text/plain": [
       "<Figure size 648x648 with 2 Axes>"
      ]
     },
     "metadata": {
      "needs_background": "light"
     },
     "output_type": "display_data"
    }
   ],
   "source": [
    "QUBO = np.zeros_like(QUBO_init)\n",
    "QUBO = QUBO_0 * P['Obj'] + QUBO_add + QUBO_1 + QUBO_2 + QUBO_3 + QUBO_4 + QUBO_5 + QUBO_6 + QUBO_7 + QUBO_8 + QUBO_add_1 + QUBO_add_2\n",
    "show_graph(QUBO) "
   ]
  },
  {
   "cell_type": "code",
   "execution_count": 178,
   "id": "50d98431",
   "metadata": {},
   "outputs": [
    {
     "data": {
      "image/png": "[encoded data removed]",
      "text/plain": [
       "<Figure size 648x648 with 2 Axes>"
      ]
     },
     "metadata": {
      "needs_background": "light"
     },
     "output_type": "display_data"
    }
   ],
   "source": [
    "## Single Slack Variable part\n",
    "#C9 line(10)\n",
    "\n",
    "constraint = 9\n",
    "P9 = np.ones((I,J,N,T_max)) * P[\"C9\"]\n",
    "for i in range(I):\n",
    "    for j in range(J):\n",
    "        for t in range(T_max):\n",
    "            V_ij_k, _ = np.where(VM_type == Data_input_type[i,j])\n",
    "            for machine in V_ij_k:\n",
    "            \n",
    "                index_matched_y = []\n",
    "                index_matched_y.append(position_dictionary['y_%d%d%d%d'%(i,j,machine,t)])                \n",
    "                \n",
    "                alpha = 0\n",
    "                index_matched_z = []\n",
    "                for alpha in range(int(modified_VM_DP_time[i,j,machine])):\n",
    "                    t_prime = t-alpha+1\n",
    "                    if (t_prime >= 0) and (t_prime < T_max):\n",
    "                        index_matched_z.append( position_dictionary['z_%d%d%d%d'%(i,j,machine,t_prime)] ) \n",
    "                    else:\n",
    "                        continue\n",
    "                        \n",
    "                \n",
    "                #slack var\n",
    "                #print(index_matched_z,index_matched_y)\n",
    "\n",
    "    \n",
    "                position_dictionary[\"s_%d_%d%d%d%d\"%(constraint,i,j,machine,t)] = Total\n",
    "                Total += 1\n",
    "                \n",
    "                QUBO = np.pad(QUBO, [(0, 1), (0, 1)], mode='constant', constant_values = 0)\n",
    "                #print(np.shape(QUBO))\n",
    "                #\n",
    "                \n",
    "                #print(len(position_dictionary))\n",
    "                var_matched = np.zeros(Total)\n",
    "                var_matched[index_matched_y] = -1\n",
    "                var_matched[index_matched_z] = 1\n",
    "                var_matched[-1] = 1\n",
    "                QUBO += P9[i,j,machine,t]*np.outer(var_matched,var_matched)\n",
    "                #show_graph(np.outer(var_matched,var_matched)) \n",
    "show_graph(QUBO) "
   ]
  },
  {
   "cell_type": "code",
   "execution_count": 179,
   "id": "43ced058",
   "metadata": {},
   "outputs": [],
   "source": [
    "from collections import defaultdict\n",
    "\n",
    "from dwave.system.samplers import DWaveSampler\n",
    "from dwave.system.composites import EmbeddingComposite\n",
    "import networkx as nx\n",
    "import numpy as np\n",
    "import dwave.inspector\n",
    "import dimod\n",
    "\n",
    "import matplotlib\n",
    "matplotlib.use(\"agg\")\n",
    "from matplotlib import pyplot as plt"
   ]
  },
  {
   "cell_type": "code",
   "execution_count": 180,
   "id": "9ed27b12",
   "metadata": {},
   "outputs": [],
   "source": [
    "c = 1\n",
    "width,height = np.shape(QUBO)\n",
    "\n",
    "QUBO_dictionary = defaultdict(int)\n",
    "for i in range(width):\n",
    "    for j in range(height):\n",
    "        QUBO_dictionary[(i,j)] = QUBO[i,j]\n",
    "import dwave.inspector\n",
    "sampler = EmbeddingComposite(DWaveSampler(solver={'qpu': True}))\n",
    "\n",
    "num_reads = 10000\n",
    "#sampleset = sampler.sample_qubo(QUBO, chain_strength = 8, num_reads=num_reads)\n",
    "sampleset = sampler.sample_qubo(QUBO, num_reads=num_reads)"
   ]
  },
  {
   "cell_type": "code",
   "execution_count": 181,
   "id": "5d22a73c",
   "metadata": {},
   "outputs": [],
   "source": [
    "#print(sampleset)"
   ]
  },
  {
   "cell_type": "code",
   "execution_count": 182,
   "id": "29cc25dd",
   "metadata": {},
   "outputs": [
    {
     "name": "stdout",
     "output_type": "stream",
     "text": [
      "Constraint_1:  True\n",
      "Constraint_2:  True\n",
      "Constraint_3:  False\n",
      "Constraint_4:  False\n",
      "Constraint_5:  False\n",
      "Constraint_6:  False\n",
      "Constraint_7:  False\n",
      "Constraint_8:  False\n",
      "Constraint_9:  False\n",
      "Constraint_add:  True\n",
      "Constraint_add_p:  False\n",
      "Constraint_add_z:  False\n"
     ]
    }
   ],
   "source": [
    "#sample = sampleset.first.sample\n",
    "#energy = sampleset.first.energy\n",
    "#print(sample,energy)\n",
    "OP = sampleset.to_pandas_dataframe()\n",
    "import pandas as pd\n",
    "OP = OP.sort_values(\"energy\")\n",
    "OP_final = OP.to_numpy()\n",
    "\n",
    "rank = 0\n",
    "\n",
    "OP_opt = OP_final[rank,:].flatten()\n",
    "sample = OP_opt.astype(int)\n",
    "\n",
    "\n",
    "#dir(sampleset)\n",
    "print(\"Constraint_1: \",check_C1 (position_dictionary,sample,I,J,VM_type,Data_input_type))\n",
    "print(\"Constraint_2: \",check_C2 (position_dictionary,sample,I,J,N,T_max))\n",
    "print(\"Constraint_3: \",check_C3 (position_dictionary,sample,I,J,N,T_max))\n",
    "print(\"Constraint_4: \",check_C4 (position_dictionary,sample,I,J,N,T_max))\n",
    "print(\"Constraint_5: \",check_C5 (position_dictionary,sample,I,J,VM_type,Data_input_type,T_max,modified_VM_DP_time))\n",
    "print(\"Constraint_6: \",check_C6 (position_dictionary,sample,I,J,N,T_max))\n",
    "print(\"Constraint_7: \",check_C7 (position_dictionary,sample,I,J,N,T_max))\n",
    "print(\"Constraint_8: \",check_C8 (position_dictionary,sample,I,J,VM_type,Data_input_type,T_max,modified_VM_DP_time))\n",
    "print(\"Constraint_9: \",check_C9 (position_dictionary,sample,I,J,VM_type,Data_input_type,T_max))\n",
    "print(\"Constraint_add: \",check_C_add(position_dictionary,sample,I,J,N,VM_type,Data_input_type,T_max))\n",
    "print(\"Constraint_add_p: \",check_C_add_1(position_dictionary,sample,I,J,N,T_max))\n",
    "print(\"Constraint_add_z: \",check_C_add_2(position_dictionary,sample,I,J,N,T_max))"
   ]
  },
  {
   "cell_type": "code",
   "execution_count": 89,
   "id": "a865f6f7",
   "metadata": {},
   "outputs": [],
   "source": [
    "#sample = np.fromiter(sample.values(), dtype=int)\n",
    "#sample\n",
    "#OP"
   ]
  },
  {
   "cell_type": "code",
   "execution_count": 90,
   "id": "a508d28b",
   "metadata": {},
   "outputs": [],
   "source": [
    "np.save('Answers/Data_input', Data_input)\n",
    "np.save('Answers/Data_input_type ', Data_input_type )\n",
    "np.save('Answers/VM_type', VM_type)\n",
    "np.save('Answers/VM_speed', VM_speed)\n",
    "np.save('Answers/answer', sample)"
   ]
  },
  {
   "cell_type": "code",
   "execution_count": 142,
   "id": "a4dac813",
   "metadata": {},
   "outputs": [
    {
     "name": "stdout",
     "output_type": "stream",
     "text": [
      "p_0100 value: 0\n",
      "p_0101 value: 0\n",
      "p_0102 value: 0\n",
      "p_0103 value: 0\n",
      "p_0104 value: 0\n",
      "p_0105 value: 1\n",
      "p_0106 value: 0\n",
      "p_0110 value: 0\n",
      "p_0111 value: 0\n",
      "p_0112 value: 0\n",
      "p_0113 value: 0\n",
      "p_0114 value: 0\n",
      "p_0115 value: 0\n",
      "p_0116 value: 0\n",
      "p_1100 value: 0\n",
      "p_1101 value: 0\n",
      "p_1102 value: 0\n",
      "p_1103 value: 0\n",
      "p_1104 value: 0\n",
      "p_1105 value: 0\n",
      "p_1106 value: 0\n",
      "p_1110 value: 0\n",
      "p_1111 value: 0\n",
      "p_1112 value: 1\n",
      "p_1113 value: 0\n",
      "p_1114 value: 1\n",
      "p_1115 value: 0\n",
      "p_1116 value: 0\n",
      "The opt_time is:  11\n",
      "the greedy time is:  7\n"
     ]
    }
   ],
   "source": [
    "opt_time = 0\n",
    "for i in range(I):    \n",
    "    for m in range(N):\n",
    "        for t in range(T_max):\n",
    "            print('p_%d%d%d%d value:'%(i,J-1,m,t), sample[position_dictionary['p_%d%d%d%d'%(i,J-1,m,t)]])\n",
    "            \n",
    "            opt_time += t * sample[position_dictionary['p_%d%d%d%d'%(i,J-1,m,t)]]\n",
    "            \n",
    "\n",
    "print(\"The opt_time is: \", opt_time)\n",
    "print(\"the greedy time is: \", T_max)\n"
   ]
  },
  {
   "cell_type": "code",
   "execution_count": 143,
   "id": "54919b78",
   "metadata": {},
   "outputs": [
    {
     "name": "stdout",
     "output_type": "stream",
     "text": [
      "0 0 1 x_001\n",
      "0 1 0 x_010\n",
      "1 0 0 x_100\n",
      "1 0 1 x_101\n",
      "1 1 1 x_111\n",
      "The opt_time is:  13.0\n",
      "the greedy time is:  7\n"
     ]
    }
   ],
   "source": [
    "opt_time = 0\n",
    "for i in range(I): \n",
    "    for j in range(J): \n",
    "        V_ij_k, _ = np.where(VM_type == Data_input_type[i,j])\n",
    "        for machine in V_ij_k:\n",
    "            print(i,j,machine,'x_%d%d%d'%(i,j,machine),)\n",
    "            #print('x_%d%d%d value:'%(i,j,m,t), sample[position_dictionary['p_%d%d%d%d'%(i,J-1,m,t)]])\n",
    "            opt_time += VM_DP_time[i,j,machine] * sample[position_dictionary['x_%d%d%d'%(i,j,machine)]]\n",
    "            \n",
    "\n",
    "print(\"The opt_time is: \", opt_time)\n",
    "print(\"the greedy time is: \", T_max)"
   ]
  },
  {
   "cell_type": "code",
   "execution_count": 86,
   "id": "4b994548",
   "metadata": {},
   "outputs": [],
   "source": [
    "#print(sampleset)"
   ]
  },
  {
   "cell_type": "code",
   "execution_count": 131,
   "id": "3d21ca08",
   "metadata": {},
   "outputs": [],
   "source": [
    "#position_dictionary"
   ]
  },
  {
   "cell_type": "code",
   "execution_count": null,
   "id": "a47ce88e",
   "metadata": {},
   "outputs": [],
   "source": []
  },
  {
   "cell_type": "code",
   "execution_count": null,
   "id": "819f1483",
   "metadata": {},
   "outputs": [],
   "source": []
  },
  {
   "cell_type": "code",
   "execution_count": null,
   "id": "6e7a51f1",
   "metadata": {},
   "outputs": [],
   "source": []
  },
  {
   "cell_type": "code",
   "execution_count": null,
   "id": "6a48b777",
   "metadata": {},
   "outputs": [],
   "source": []
  },
  {
   "cell_type": "code",
   "execution_count": 136,
   "id": "ff160efd",
   "metadata": {},
   "outputs": [],
   "source": [
    "#keys=sample[:I*J*N]\n",
    "#answer = keys.reshape([I,J,N])\n",
    "#print(answer)"
   ]
  },
  {
   "cell_type": "code",
   "execution_count": 49,
   "id": "80783eaf",
   "metadata": {},
   "outputs": [
    {
     "data": {
      "text/plain": [
       "array([], dtype=float64)"
      ]
     },
     "execution_count": 49,
     "metadata": {},
     "output_type": "execute_result"
    }
   ],
   "source": [
    "np.empty([0])"
   ]
  },
  {
   "cell_type": "code",
   "execution_count": null,
   "id": "a4e4b820",
   "metadata": {},
   "outputs": [],
   "source": [
    "OP = sampleset.to_pandas_dataframe()\n",
    "OP"
   ]
  },
  {
   "cell_type": "code",
   "execution_count": 136,
   "id": "d9296979",
   "metadata": {},
   "outputs": [
    {
     "data": {
      "text/html": [
       "<div>\n",
       "<style scoped>\n",
       "    .dataframe tbody tr th:only-of-type {\n",
       "        vertical-align: middle;\n",
       "    }\n",
       "\n",
       "    .dataframe tbody tr th {\n",
       "        vertical-align: top;\n",
       "    }\n",
       "\n",
       "    .dataframe thead th {\n",
       "        text-align: right;\n",
       "    }\n",
       "</style>\n",
       "<table border=\"1\" class=\"dataframe\">\n",
       "  <thead>\n",
       "    <tr style=\"text-align: right;\">\n",
       "      <th></th>\n",
       "      <th>0</th>\n",
       "      <th>1</th>\n",
       "      <th>2</th>\n",
       "      <th>3</th>\n",
       "      <th>4</th>\n",
       "      <th>5</th>\n",
       "      <th>6</th>\n",
       "      <th>7</th>\n",
       "      <th>8</th>\n",
       "      <th>9</th>\n",
       "      <th>...</th>\n",
       "      <th>338</th>\n",
       "      <th>339</th>\n",
       "      <th>340</th>\n",
       "      <th>341</th>\n",
       "      <th>342</th>\n",
       "      <th>343</th>\n",
       "      <th>344</th>\n",
       "      <th>chain_break_fraction</th>\n",
       "      <th>energy</th>\n",
       "      <th>num_occurrences</th>\n",
       "    </tr>\n",
       "  </thead>\n",
       "  <tbody>\n",
       "    <tr>\n",
       "      <th>0</th>\n",
       "      <td>1</td>\n",
       "      <td>0</td>\n",
       "      <td>0</td>\n",
       "      <td>1</td>\n",
       "      <td>0</td>\n",
       "      <td>1</td>\n",
       "      <td>1</td>\n",
       "      <td>1</td>\n",
       "      <td>0</td>\n",
       "      <td>1</td>\n",
       "      <td>...</td>\n",
       "      <td>1</td>\n",
       "      <td>0</td>\n",
       "      <td>1</td>\n",
       "      <td>1</td>\n",
       "      <td>0</td>\n",
       "      <td>0</td>\n",
       "      <td>0</td>\n",
       "      <td>0.028986</td>\n",
       "      <td>8318.0</td>\n",
       "      <td>1</td>\n",
       "    </tr>\n",
       "    <tr>\n",
       "      <th>1</th>\n",
       "      <td>1</td>\n",
       "      <td>0</td>\n",
       "      <td>0</td>\n",
       "      <td>1</td>\n",
       "      <td>0</td>\n",
       "      <td>1</td>\n",
       "      <td>1</td>\n",
       "      <td>1</td>\n",
       "      <td>0</td>\n",
       "      <td>1</td>\n",
       "      <td>...</td>\n",
       "      <td>1</td>\n",
       "      <td>0</td>\n",
       "      <td>1</td>\n",
       "      <td>0</td>\n",
       "      <td>0</td>\n",
       "      <td>0</td>\n",
       "      <td>0</td>\n",
       "      <td>0.020290</td>\n",
       "      <td>10229.0</td>\n",
       "      <td>1</td>\n",
       "    </tr>\n",
       "    <tr>\n",
       "      <th>2</th>\n",
       "      <td>1</td>\n",
       "      <td>0</td>\n",
       "      <td>1</td>\n",
       "      <td>1</td>\n",
       "      <td>0</td>\n",
       "      <td>1</td>\n",
       "      <td>0</td>\n",
       "      <td>1</td>\n",
       "      <td>0</td>\n",
       "      <td>1</td>\n",
       "      <td>...</td>\n",
       "      <td>0</td>\n",
       "      <td>0</td>\n",
       "      <td>0</td>\n",
       "      <td>1</td>\n",
       "      <td>0</td>\n",
       "      <td>0</td>\n",
       "      <td>1</td>\n",
       "      <td>0.031884</td>\n",
       "      <td>12144.0</td>\n",
       "      <td>1</td>\n",
       "    </tr>\n",
       "    <tr>\n",
       "      <th>3</th>\n",
       "      <td>1</td>\n",
       "      <td>0</td>\n",
       "      <td>0</td>\n",
       "      <td>1</td>\n",
       "      <td>0</td>\n",
       "      <td>1</td>\n",
       "      <td>1</td>\n",
       "      <td>0</td>\n",
       "      <td>1</td>\n",
       "      <td>0</td>\n",
       "      <td>...</td>\n",
       "      <td>0</td>\n",
       "      <td>0</td>\n",
       "      <td>0</td>\n",
       "      <td>0</td>\n",
       "      <td>0</td>\n",
       "      <td>0</td>\n",
       "      <td>1</td>\n",
       "      <td>0.023188</td>\n",
       "      <td>9629.0</td>\n",
       "      <td>1</td>\n",
       "    </tr>\n",
       "    <tr>\n",
       "      <th>4</th>\n",
       "      <td>1</td>\n",
       "      <td>0</td>\n",
       "      <td>1</td>\n",
       "      <td>0</td>\n",
       "      <td>0</td>\n",
       "      <td>0</td>\n",
       "      <td>0</td>\n",
       "      <td>1</td>\n",
       "      <td>0</td>\n",
       "      <td>1</td>\n",
       "      <td>...</td>\n",
       "      <td>0</td>\n",
       "      <td>0</td>\n",
       "      <td>1</td>\n",
       "      <td>1</td>\n",
       "      <td>0</td>\n",
       "      <td>1</td>\n",
       "      <td>0</td>\n",
       "      <td>0.026087</td>\n",
       "      <td>9729.0</td>\n",
       "      <td>1</td>\n",
       "    </tr>\n",
       "    <tr>\n",
       "      <th>...</th>\n",
       "      <td>...</td>\n",
       "      <td>...</td>\n",
       "      <td>...</td>\n",
       "      <td>...</td>\n",
       "      <td>...</td>\n",
       "      <td>...</td>\n",
       "      <td>...</td>\n",
       "      <td>...</td>\n",
       "      <td>...</td>\n",
       "      <td>...</td>\n",
       "      <td>...</td>\n",
       "      <td>...</td>\n",
       "      <td>...</td>\n",
       "      <td>...</td>\n",
       "      <td>...</td>\n",
       "      <td>...</td>\n",
       "      <td>...</td>\n",
       "      <td>...</td>\n",
       "      <td>...</td>\n",
       "      <td>...</td>\n",
       "      <td>...</td>\n",
       "    </tr>\n",
       "    <tr>\n",
       "      <th>9995</th>\n",
       "      <td>1</td>\n",
       "      <td>0</td>\n",
       "      <td>0</td>\n",
       "      <td>1</td>\n",
       "      <td>0</td>\n",
       "      <td>0</td>\n",
       "      <td>1</td>\n",
       "      <td>1</td>\n",
       "      <td>1</td>\n",
       "      <td>1</td>\n",
       "      <td>...</td>\n",
       "      <td>0</td>\n",
       "      <td>0</td>\n",
       "      <td>0</td>\n",
       "      <td>1</td>\n",
       "      <td>0</td>\n",
       "      <td>0</td>\n",
       "      <td>0</td>\n",
       "      <td>0.066667</td>\n",
       "      <td>20949.0</td>\n",
       "      <td>1</td>\n",
       "    </tr>\n",
       "    <tr>\n",
       "      <th>9996</th>\n",
       "      <td>1</td>\n",
       "      <td>0</td>\n",
       "      <td>1</td>\n",
       "      <td>0</td>\n",
       "      <td>0</td>\n",
       "      <td>1</td>\n",
       "      <td>0</td>\n",
       "      <td>1</td>\n",
       "      <td>0</td>\n",
       "      <td>1</td>\n",
       "      <td>...</td>\n",
       "      <td>1</td>\n",
       "      <td>0</td>\n",
       "      <td>0</td>\n",
       "      <td>1</td>\n",
       "      <td>0</td>\n",
       "      <td>0</td>\n",
       "      <td>0</td>\n",
       "      <td>0.063768</td>\n",
       "      <td>16854.0</td>\n",
       "      <td>1</td>\n",
       "    </tr>\n",
       "    <tr>\n",
       "      <th>9997</th>\n",
       "      <td>1</td>\n",
       "      <td>0</td>\n",
       "      <td>1</td>\n",
       "      <td>1</td>\n",
       "      <td>0</td>\n",
       "      <td>1</td>\n",
       "      <td>0</td>\n",
       "      <td>1</td>\n",
       "      <td>0</td>\n",
       "      <td>1</td>\n",
       "      <td>...</td>\n",
       "      <td>0</td>\n",
       "      <td>0</td>\n",
       "      <td>1</td>\n",
       "      <td>0</td>\n",
       "      <td>0</td>\n",
       "      <td>1</td>\n",
       "      <td>0</td>\n",
       "      <td>0.063768</td>\n",
       "      <td>16534.0</td>\n",
       "      <td>1</td>\n",
       "    </tr>\n",
       "    <tr>\n",
       "      <th>9998</th>\n",
       "      <td>1</td>\n",
       "      <td>0</td>\n",
       "      <td>0</td>\n",
       "      <td>0</td>\n",
       "      <td>0</td>\n",
       "      <td>0</td>\n",
       "      <td>1</td>\n",
       "      <td>0</td>\n",
       "      <td>0</td>\n",
       "      <td>1</td>\n",
       "      <td>...</td>\n",
       "      <td>0</td>\n",
       "      <td>0</td>\n",
       "      <td>1</td>\n",
       "      <td>0</td>\n",
       "      <td>0</td>\n",
       "      <td>1</td>\n",
       "      <td>0</td>\n",
       "      <td>0.057971</td>\n",
       "      <td>17140.0</td>\n",
       "      <td>1</td>\n",
       "    </tr>\n",
       "    <tr>\n",
       "      <th>9999</th>\n",
       "      <td>1</td>\n",
       "      <td>0</td>\n",
       "      <td>1</td>\n",
       "      <td>1</td>\n",
       "      <td>0</td>\n",
       "      <td>1</td>\n",
       "      <td>0</td>\n",
       "      <td>1</td>\n",
       "      <td>0</td>\n",
       "      <td>1</td>\n",
       "      <td>...</td>\n",
       "      <td>0</td>\n",
       "      <td>0</td>\n",
       "      <td>0</td>\n",
       "      <td>0</td>\n",
       "      <td>0</td>\n",
       "      <td>0</td>\n",
       "      <td>1</td>\n",
       "      <td>0.072464</td>\n",
       "      <td>18023.0</td>\n",
       "      <td>1</td>\n",
       "    </tr>\n",
       "  </tbody>\n",
       "</table>\n",
       "<p>10000 rows × 348 columns</p>\n",
       "</div>"
      ],
      "text/plain": [
       "      0  1  2  3  4  5  6  7  8  9  ...  338  339  340  341  342  343  344  \\\n",
       "0     1  0  0  1  0  1  1  1  0  1  ...    1    0    1    1    0    0    0   \n",
       "1     1  0  0  1  0  1  1  1  0  1  ...    1    0    1    0    0    0    0   \n",
       "2     1  0  1  1  0  1  0  1  0  1  ...    0    0    0    1    0    0    1   \n",
       "3     1  0  0  1  0  1  1  0  1  0  ...    0    0    0    0    0    0    1   \n",
       "4     1  0  1  0  0  0  0  1  0  1  ...    0    0    1    1    0    1    0   \n",
       "...  .. .. .. .. .. .. .. .. .. ..  ...  ...  ...  ...  ...  ...  ...  ...   \n",
       "9995  1  0  0  1  0  0  1  1  1  1  ...    0    0    0    1    0    0    0   \n",
       "9996  1  0  1  0  0  1  0  1  0  1  ...    1    0    0    1    0    0    0   \n",
       "9997  1  0  1  1  0  1  0  1  0  1  ...    0    0    1    0    0    1    0   \n",
       "9998  1  0  0  0  0  0  1  0  0  1  ...    0    0    1    0    0    1    0   \n",
       "9999  1  0  1  1  0  1  0  1  0  1  ...    0    0    0    0    0    0    1   \n",
       "\n",
       "      chain_break_fraction   energy  num_occurrences  \n",
       "0                 0.028986   8318.0                1  \n",
       "1                 0.020290  10229.0                1  \n",
       "2                 0.031884  12144.0                1  \n",
       "3                 0.023188   9629.0                1  \n",
       "4                 0.026087   9729.0                1  \n",
       "...                    ...      ...              ...  \n",
       "9995              0.066667  20949.0                1  \n",
       "9996              0.063768  16854.0                1  \n",
       "9997              0.063768  16534.0                1  \n",
       "9998              0.057971  17140.0                1  \n",
       "9999              0.072464  18023.0                1  \n",
       "\n",
       "[10000 rows x 348 columns]"
      ]
     },
     "execution_count": 136,
     "metadata": {},
     "output_type": "execute_result"
    }
   ],
   "source": []
  },
  {
   "cell_type": "code",
   "execution_count": 137,
   "id": "7217f00d",
   "metadata": {},
   "outputs": [],
   "source": [
    "import pandas as pd"
   ]
  },
  {
   "cell_type": "code",
   "execution_count": 138,
   "id": "105fc4d7",
   "metadata": {},
   "outputs": [
    {
     "data": {
      "text/html": [
       "<div>\n",
       "<style scoped>\n",
       "    .dataframe tbody tr th:only-of-type {\n",
       "        vertical-align: middle;\n",
       "    }\n",
       "\n",
       "    .dataframe tbody tr th {\n",
       "        vertical-align: top;\n",
       "    }\n",
       "\n",
       "    .dataframe thead th {\n",
       "        text-align: right;\n",
       "    }\n",
       "</style>\n",
       "<table border=\"1\" class=\"dataframe\">\n",
       "  <thead>\n",
       "    <tr style=\"text-align: right;\">\n",
       "      <th></th>\n",
       "      <th>0</th>\n",
       "      <th>1</th>\n",
       "      <th>2</th>\n",
       "      <th>3</th>\n",
       "      <th>4</th>\n",
       "      <th>5</th>\n",
       "      <th>6</th>\n",
       "      <th>7</th>\n",
       "      <th>8</th>\n",
       "      <th>9</th>\n",
       "      <th>...</th>\n",
       "      <th>338</th>\n",
       "      <th>339</th>\n",
       "      <th>340</th>\n",
       "      <th>341</th>\n",
       "      <th>342</th>\n",
       "      <th>343</th>\n",
       "      <th>344</th>\n",
       "      <th>chain_break_fraction</th>\n",
       "      <th>energy</th>\n",
       "      <th>num_occurrences</th>\n",
       "    </tr>\n",
       "  </thead>\n",
       "  <tbody>\n",
       "    <tr>\n",
       "      <th>1108</th>\n",
       "      <td>1</td>\n",
       "      <td>0</td>\n",
       "      <td>0</td>\n",
       "      <td>1</td>\n",
       "      <td>0</td>\n",
       "      <td>1</td>\n",
       "      <td>1</td>\n",
       "      <td>0</td>\n",
       "      <td>0</td>\n",
       "      <td>0</td>\n",
       "      <td>...</td>\n",
       "      <td>1</td>\n",
       "      <td>0</td>\n",
       "      <td>1</td>\n",
       "      <td>0</td>\n",
       "      <td>0</td>\n",
       "      <td>0</td>\n",
       "      <td>0</td>\n",
       "      <td>0.034783</td>\n",
       "      <td>6721.0</td>\n",
       "      <td>1</td>\n",
       "    </tr>\n",
       "    <tr>\n",
       "      <th>3624</th>\n",
       "      <td>1</td>\n",
       "      <td>0</td>\n",
       "      <td>0</td>\n",
       "      <td>1</td>\n",
       "      <td>0</td>\n",
       "      <td>1</td>\n",
       "      <td>0</td>\n",
       "      <td>1</td>\n",
       "      <td>0</td>\n",
       "      <td>1</td>\n",
       "      <td>...</td>\n",
       "      <td>0</td>\n",
       "      <td>0</td>\n",
       "      <td>0</td>\n",
       "      <td>1</td>\n",
       "      <td>0</td>\n",
       "      <td>0</td>\n",
       "      <td>0</td>\n",
       "      <td>0.046377</td>\n",
       "      <td>6827.0</td>\n",
       "      <td>1</td>\n",
       "    </tr>\n",
       "    <tr>\n",
       "      <th>3742</th>\n",
       "      <td>1</td>\n",
       "      <td>0</td>\n",
       "      <td>1</td>\n",
       "      <td>0</td>\n",
       "      <td>0</td>\n",
       "      <td>1</td>\n",
       "      <td>0</td>\n",
       "      <td>1</td>\n",
       "      <td>0</td>\n",
       "      <td>0</td>\n",
       "      <td>...</td>\n",
       "      <td>1</td>\n",
       "      <td>0</td>\n",
       "      <td>0</td>\n",
       "      <td>0</td>\n",
       "      <td>0</td>\n",
       "      <td>0</td>\n",
       "      <td>0</td>\n",
       "      <td>0.037681</td>\n",
       "      <td>6936.0</td>\n",
       "      <td>1</td>\n",
       "    </tr>\n",
       "    <tr>\n",
       "      <th>134</th>\n",
       "      <td>1</td>\n",
       "      <td>0</td>\n",
       "      <td>1</td>\n",
       "      <td>0</td>\n",
       "      <td>0</td>\n",
       "      <td>1</td>\n",
       "      <td>1</td>\n",
       "      <td>1</td>\n",
       "      <td>0</td>\n",
       "      <td>1</td>\n",
       "      <td>...</td>\n",
       "      <td>0</td>\n",
       "      <td>0</td>\n",
       "      <td>0</td>\n",
       "      <td>0</td>\n",
       "      <td>1</td>\n",
       "      <td>0</td>\n",
       "      <td>0</td>\n",
       "      <td>0.014493</td>\n",
       "      <td>7027.0</td>\n",
       "      <td>1</td>\n",
       "    </tr>\n",
       "    <tr>\n",
       "      <th>26</th>\n",
       "      <td>1</td>\n",
       "      <td>0</td>\n",
       "      <td>0</td>\n",
       "      <td>1</td>\n",
       "      <td>0</td>\n",
       "      <td>1</td>\n",
       "      <td>0</td>\n",
       "      <td>1</td>\n",
       "      <td>0</td>\n",
       "      <td>1</td>\n",
       "      <td>...</td>\n",
       "      <td>1</td>\n",
       "      <td>0</td>\n",
       "      <td>0</td>\n",
       "      <td>0</td>\n",
       "      <td>0</td>\n",
       "      <td>0</td>\n",
       "      <td>1</td>\n",
       "      <td>0.023188</td>\n",
       "      <td>7030.0</td>\n",
       "      <td>1</td>\n",
       "    </tr>\n",
       "    <tr>\n",
       "      <th>...</th>\n",
       "      <td>...</td>\n",
       "      <td>...</td>\n",
       "      <td>...</td>\n",
       "      <td>...</td>\n",
       "      <td>...</td>\n",
       "      <td>...</td>\n",
       "      <td>...</td>\n",
       "      <td>...</td>\n",
       "      <td>...</td>\n",
       "      <td>...</td>\n",
       "      <td>...</td>\n",
       "      <td>...</td>\n",
       "      <td>...</td>\n",
       "      <td>...</td>\n",
       "      <td>...</td>\n",
       "      <td>...</td>\n",
       "      <td>...</td>\n",
       "      <td>...</td>\n",
       "      <td>...</td>\n",
       "      <td>...</td>\n",
       "      <td>...</td>\n",
       "    </tr>\n",
       "    <tr>\n",
       "      <th>7705</th>\n",
       "      <td>1</td>\n",
       "      <td>0</td>\n",
       "      <td>1</td>\n",
       "      <td>1</td>\n",
       "      <td>0</td>\n",
       "      <td>1</td>\n",
       "      <td>1</td>\n",
       "      <td>1</td>\n",
       "      <td>1</td>\n",
       "      <td>1</td>\n",
       "      <td>...</td>\n",
       "      <td>0</td>\n",
       "      <td>1</td>\n",
       "      <td>1</td>\n",
       "      <td>1</td>\n",
       "      <td>0</td>\n",
       "      <td>0</td>\n",
       "      <td>1</td>\n",
       "      <td>0.028986</td>\n",
       "      <td>22228.0</td>\n",
       "      <td>1</td>\n",
       "    </tr>\n",
       "    <tr>\n",
       "      <th>9975</th>\n",
       "      <td>1</td>\n",
       "      <td>0</td>\n",
       "      <td>1</td>\n",
       "      <td>0</td>\n",
       "      <td>1</td>\n",
       "      <td>1</td>\n",
       "      <td>0</td>\n",
       "      <td>0</td>\n",
       "      <td>0</td>\n",
       "      <td>1</td>\n",
       "      <td>...</td>\n",
       "      <td>0</td>\n",
       "      <td>0</td>\n",
       "      <td>1</td>\n",
       "      <td>0</td>\n",
       "      <td>0</td>\n",
       "      <td>1</td>\n",
       "      <td>0</td>\n",
       "      <td>0.057971</td>\n",
       "      <td>22334.0</td>\n",
       "      <td>1</td>\n",
       "    </tr>\n",
       "    <tr>\n",
       "      <th>9972</th>\n",
       "      <td>1</td>\n",
       "      <td>0</td>\n",
       "      <td>0</td>\n",
       "      <td>1</td>\n",
       "      <td>0</td>\n",
       "      <td>1</td>\n",
       "      <td>1</td>\n",
       "      <td>1</td>\n",
       "      <td>1</td>\n",
       "      <td>1</td>\n",
       "      <td>...</td>\n",
       "      <td>0</td>\n",
       "      <td>0</td>\n",
       "      <td>1</td>\n",
       "      <td>0</td>\n",
       "      <td>0</td>\n",
       "      <td>0</td>\n",
       "      <td>0</td>\n",
       "      <td>0.052174</td>\n",
       "      <td>22343.0</td>\n",
       "      <td>1</td>\n",
       "    </tr>\n",
       "    <tr>\n",
       "      <th>9599</th>\n",
       "      <td>1</td>\n",
       "      <td>0</td>\n",
       "      <td>1</td>\n",
       "      <td>0</td>\n",
       "      <td>0</td>\n",
       "      <td>1</td>\n",
       "      <td>1</td>\n",
       "      <td>1</td>\n",
       "      <td>0</td>\n",
       "      <td>0</td>\n",
       "      <td>...</td>\n",
       "      <td>1</td>\n",
       "      <td>0</td>\n",
       "      <td>1</td>\n",
       "      <td>0</td>\n",
       "      <td>0</td>\n",
       "      <td>1</td>\n",
       "      <td>0</td>\n",
       "      <td>0.043478</td>\n",
       "      <td>22635.0</td>\n",
       "      <td>1</td>\n",
       "    </tr>\n",
       "    <tr>\n",
       "      <th>9971</th>\n",
       "      <td>1</td>\n",
       "      <td>0</td>\n",
       "      <td>1</td>\n",
       "      <td>1</td>\n",
       "      <td>0</td>\n",
       "      <td>1</td>\n",
       "      <td>1</td>\n",
       "      <td>1</td>\n",
       "      <td>0</td>\n",
       "      <td>1</td>\n",
       "      <td>...</td>\n",
       "      <td>0</td>\n",
       "      <td>0</td>\n",
       "      <td>1</td>\n",
       "      <td>1</td>\n",
       "      <td>0</td>\n",
       "      <td>0</td>\n",
       "      <td>0</td>\n",
       "      <td>0.037681</td>\n",
       "      <td>23542.0</td>\n",
       "      <td>1</td>\n",
       "    </tr>\n",
       "  </tbody>\n",
       "</table>\n",
       "<p>10000 rows × 348 columns</p>\n",
       "</div>"
      ],
      "text/plain": [
       "      0  1  2  3  4  5  6  7  8  9  ...  338  339  340  341  342  343  344  \\\n",
       "1108  1  0  0  1  0  1  1  0  0  0  ...    1    0    1    0    0    0    0   \n",
       "3624  1  0  0  1  0  1  0  1  0  1  ...    0    0    0    1    0    0    0   \n",
       "3742  1  0  1  0  0  1  0  1  0  0  ...    1    0    0    0    0    0    0   \n",
       "134   1  0  1  0  0  1  1  1  0  1  ...    0    0    0    0    1    0    0   \n",
       "26    1  0  0  1  0  1  0  1  0  1  ...    1    0    0    0    0    0    1   \n",
       "...  .. .. .. .. .. .. .. .. .. ..  ...  ...  ...  ...  ...  ...  ...  ...   \n",
       "7705  1  0  1  1  0  1  1  1  1  1  ...    0    1    1    1    0    0    1   \n",
       "9975  1  0  1  0  1  1  0  0  0  1  ...    0    0    1    0    0    1    0   \n",
       "9972  1  0  0  1  0  1  1  1  1  1  ...    0    0    1    0    0    0    0   \n",
       "9599  1  0  1  0  0  1  1  1  0  0  ...    1    0    1    0    0    1    0   \n",
       "9971  1  0  1  1  0  1  1  1  0  1  ...    0    0    1    1    0    0    0   \n",
       "\n",
       "      chain_break_fraction   energy  num_occurrences  \n",
       "1108              0.034783   6721.0                1  \n",
       "3624              0.046377   6827.0                1  \n",
       "3742              0.037681   6936.0                1  \n",
       "134               0.014493   7027.0                1  \n",
       "26                0.023188   7030.0                1  \n",
       "...                    ...      ...              ...  \n",
       "7705              0.028986  22228.0                1  \n",
       "9975              0.057971  22334.0                1  \n",
       "9972              0.052174  22343.0                1  \n",
       "9599              0.043478  22635.0                1  \n",
       "9971              0.037681  23542.0                1  \n",
       "\n",
       "[10000 rows x 348 columns]"
      ]
     },
     "execution_count": 138,
     "metadata": {},
     "output_type": "execute_result"
    }
   ],
   "source": [
    "OP = OP.sort_values(\"energy\")\n",
    "OP"
   ]
  },
  {
   "cell_type": "code",
   "execution_count": 139,
   "id": "02c6c252",
   "metadata": {},
   "outputs": [],
   "source": [
    "#OP = OP.sort_values(\"num_occurrences\")\n",
    "#OP"
   ]
  },
  {
   "cell_type": "code",
   "execution_count": 140,
   "id": "fc0432a4",
   "metadata": {},
   "outputs": [],
   "source": [
    "OP_final = OP.to_numpy()"
   ]
  },
  {
   "cell_type": "code",
   "execution_count": 146,
   "id": "cf422f77",
   "metadata": {},
   "outputs": [],
   "source": [
    "OP_opt = OP_final[0,:].flatten()"
   ]
  },
  {
   "cell_type": "code",
   "execution_count": 147,
   "id": "73b4d602",
   "metadata": {},
   "outputs": [],
   "source": [
    "op_opt = OP_opt.astype(int)"
   ]
  },
  {
   "cell_type": "code",
   "execution_count": 148,
   "id": "388adb8d",
   "metadata": {},
   "outputs": [
    {
     "data": {
      "text/plain": [
       "1"
      ]
     },
     "execution_count": 148,
     "metadata": {},
     "output_type": "execute_result"
    }
   ],
   "source": [
    "op_opt[0]"
   ]
  },
  {
   "cell_type": "code",
   "execution_count": 149,
   "id": "b1d6d890",
   "metadata": {},
   "outputs": [
    {
     "name": "stdout",
     "output_type": "stream",
     "text": [
      "[1 0 0 1 0 1 1 0]\n",
      "[[[1 0]\n",
      "  [0 1]]\n",
      "\n",
      " [[0 1]\n",
      "  [1 0]]]\n"
     ]
    }
   ],
   "source": [
    "keys = op_opt[:I*J*N]\n",
    "print(keys)\n",
    "answer = keys.reshape([I,J,N])\n",
    "\n",
    "print(answer)"
   ]
  },
  {
   "cell_type": "code",
   "execution_count": 150,
   "id": "d2e9fe65",
   "metadata": {},
   "outputs": [
    {
     "name": "stdout",
     "output_type": "stream",
     "text": [
      "[[2 3]\n",
      " [1 3]]\n"
     ]
    }
   ],
   "source": [
    "print(VM_type)"
   ]
  },
  {
   "cell_type": "code",
   "execution_count": 151,
   "id": "2698c717",
   "metadata": {},
   "outputs": [
    {
     "name": "stdout",
     "output_type": "stream",
     "text": [
      "[[2 3]\n",
      " [1 3]]\n"
     ]
    }
   ],
   "source": [
    "print(Data_input_type)"
   ]
  },
  {
   "cell_type": "code",
   "execution_count": null,
   "id": "45ef95a8",
   "metadata": {},
   "outputs": [],
   "source": []
  },
  {
   "cell_type": "code",
   "execution_count": null,
   "id": "f9c61a09",
   "metadata": {},
   "outputs": [],
   "source": []
  },
  {
   "cell_type": "code",
   "execution_count": null,
   "id": "77e1748d",
   "metadata": {},
   "outputs": [],
   "source": [
    "#from dwave.system import LeapHybridSampler\n",
    "'''\n",
    "import hybrid\n",
    "workflow = hybrid.Loop(\n",
    "   hybrid.RacingBranches(\n",
    "      hybrid.InterruptableTabuSampler(),\n",
    "      hybrid.EnergyImpactDecomposer(size=30, rolling=True, rolling_history=0.75)\n",
    "      | hybrid.QPUSubproblemAutoEmbeddingSampler()\n",
    "      | hybrid.SplatComposer()) | hybrid.ArgMin(), convergence=3)\n",
    "bqm = dimod.BinaryQuadraticModel.from_qubo(QUBO)\n",
    "result = hybrid.HybridSampler(workflow).sample(bqm)  \n",
    "'''\n",
    "#print(\"Solution: sample={}\".format(result.first)) \n",
    "\n",
    "c = 1\n",
    "\n",
    "# Select a solver\n",
    "#sampler = LeapHybridSampler()\n",
    "\n",
    "\n",
    "\n",
    "# ------- Run our QUBO on the QPU -------\n",
    "# Set up QPU parameters\n",
    "#chainstrength = 8\n",
    "#numruns = 3  #Max =1e4 , a Complex problem needs more numruns \n",
    "\n",
    "#response = sampler.sample_qubo(QUBO)\n",
    "\n",
    "\n",
    "#dwave_sampler = EmbeddingComposite(DWaveSampler(solver={'qpu': True}))\n",
    "#bqm = dimod.BinaryQuadraticModel.from_qubo(QUBO)\n",
    "#sampleset = dwave_sampler.sample(bqm, num_reads=1000)\n",
    "\n",
    "\n",
    "\n",
    "#sampler = EmbeddingComposite(DWaveSampler(solver='DW_2000Q_6'))\n",
    "#response = sampler.sample_qubo(QUBO_dictionary, chain_strength=chainstrength, num_reads=numruns)\n"
   ]
  }
 ],
 "metadata": {
  "kernelspec": {
   "display_name": "Python 3",
   "language": "python",
   "name": "python3"
  },
  "language_info": {
   "codemirror_mode": {
    "name": "ipython",
    "version": 3
   },
   "file_extension": ".py",
   "mimetype": "text/x-python",
   "name": "python",
   "nbconvert_exporter": "python",
   "pygments_lexer": "ipython3",
   "version": "3.8.6"
  }
 },
 "nbformat": 4,
 "nbformat_minor": 5
}
