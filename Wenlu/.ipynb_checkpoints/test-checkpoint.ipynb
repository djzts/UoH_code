{
 "cells": [
  {
   "cell_type": "code",
   "execution_count": 62,
   "id": "a14f9fd9",
   "metadata": {},
   "outputs": [
    {
     "data": {
      "text/html": [
       "<style>.container { width:100% !important; }</style>"
      ],
      "text/plain": [
       "<IPython.core.display.HTML object>"
      ]
     },
     "metadata": {},
     "output_type": "display_data"
    }
   ],
   "source": [
    "%run Make_Question_simplified.ipynb\n",
    "import numpy as np\n",
    "from collections import defaultdict\n",
    "\n",
    "import random\n",
    "import matplotlib.pyplot as plt\n",
    "import warnings\n",
    "warnings.filterwarnings(\"ignore\")\n",
    "import time\n",
    "import csv\n",
    "\n",
    "from collections import defaultdict\n",
    "\n",
    "from dwave.system.samplers import DWaveSampler\n",
    "from dwave.system.composites import EmbeddingComposite\n",
    "import networkx as nx\n",
    "import numpy as np\n",
    "\n",
    "import dwave.inspector\n",
    "import dimod\n",
    "\n",
    "\n",
    "import matplotlib\n",
    "\n",
    "from matplotlib import pyplot as plt\n",
    "\n",
    "from dwave.system import LeapHybridSampler\n",
    "\n",
    "import pandas as pd\n",
    "\n",
    "import matplotlib.pyplot as plt\n",
    "import numpy as np\n",
    "import scipy\n",
    "import scipy.stats\n",
    "\n",
    "from tqdm.notebook import tqdm"
   ]
  },
  {
   "cell_type": "code",
   "execution_count": 2,
   "id": "4cec2cea",
   "metadata": {},
   "outputs": [],
   "source": [
    "def Measure(QUBO): \n",
    "    width,height = np.shape(QUBO)\n",
    "\n",
    "    QUBO_dictionary = defaultdict(int)\n",
    "    for i in range(width):\n",
    "        for j in range(height):\n",
    "            QUBO_dictionary[(i,j)] = QUBO[i,j]\n",
    "\n",
    "    #sampler = EmbeddingComposite(DWaveSampler(solver={'qpu': True}))\n",
    "    #sampler = EmbeddingComposite(DWaveSampler())\n",
    "    # Select a solver\n",
    "    sampler = LeapHybridSampler()\n",
    "\n",
    "    num_reads = 10000\n",
    "    #sampleset = sampler.sample_qubo(QUBO, chain_strength = 8, num_reads=num_reads)\n",
    "    #sampleset = sampler.sample_qubo(QUBO, num_reads=num_reads)\n",
    "    sampleset = sampler.sample_qubo(QUBO)\n",
    "\n",
    "\n",
    "    #sample = sampleset.first.sample\n",
    "    #energy = sampleset.first.energy\n",
    "    #print(sample,energy)\n",
    "    OP = sampleset.to_pandas_dataframe()\n",
    "    \n",
    "\n",
    "    OP = OP.sort_values(\"energy\")\n",
    "    OP_final = OP.to_numpy()\n",
    "\n",
    "    rank = 0\n",
    "\n",
    "\n",
    "    OP_opt = OP_final[rank,:].flatten()\n",
    "    sample = OP_opt.astype(int)\n",
    "    \n",
    "    return sample, sampleset\n",
    "\n"
   ]
  },
  {
   "cell_type": "code",
   "execution_count": 106,
   "id": "1c8a01c6",
   "metadata": {},
   "outputs": [
    {
     "name": "stdout",
     "output_type": "stream",
     "text": [
      "[[2 4]\n",
      " [1 3]]\n",
      "[[3 4 2]\n",
      " [1 2 3]\n",
      " [4 1 2]]\n",
      "[[[inf  1.]\n",
      "  [ 2. inf]\n",
      "  [ 1. inf]]\n",
      "\n",
      " [[inf  2.]\n",
      "  [ 2. inf]\n",
      "  [inf  2.]]\n",
      "\n",
      " [[ 2. inf]\n",
      "  [inf  2.]\n",
      "  [ 1. inf]]]\n",
      "T_max is  16\n"
     ]
    }
   ],
   "source": [
    "N = 2\n",
    "#M = 5\n",
    "I = 3\n",
    "J = 3\n",
    "K = 4\n",
    "Data_upperbound = 20\n",
    "Processing_upperbound = 20\n",
    "Data_input = Data_Queue(I,J,Data_upperbound)\n",
    "\n",
    "Data_input_type = Data_Queue_type(I,J,K)\n",
    "VM_type = VM_Data_type_gen(I,K,N)\n",
    "\n",
    "VM_speed = VM_Data_processing_speed(Processing_upperbound, VM_type, K)\n",
    "VM_DP_time = VM_Data_processing_time(Data_input, Data_input_type , VM_speed)\n",
    "\n",
    "modified_VM_DP_time =np.copy(VM_DP_time)\n",
    "modified_VM_DP_time[np.isinf(modified_VM_DP_time)]=np.inf\n",
    "\n",
    "T_max_true = little_greedy_algorithm(VM_DP_time,I,J,N)\n",
    "print(VM_type)\n",
    "print(Data_input_type)\n",
    "print(VM_DP_time)\n",
    "#print(np.min(VM_DP_time.reshape(I*J,N),1))\n",
    "T_max= T_max_true + 1\n",
    "#T_max += 1\n",
    "print(\"T_max is \",T_max_true)\n",
    "#print(\"let t = 1 unit of time\")"
   ]
  },
  {
   "cell_type": "code",
   "execution_count": null,
   "id": "ecd593f3",
   "metadata": {},
   "outputs": [],
   "source": []
  },
  {
   "cell_type": "code",
   "execution_count": 107,
   "id": "18174710",
   "metadata": {},
   "outputs": [
    {
     "name": "stdout",
     "output_type": "stream",
     "text": [
      "z_0100\n",
      "z_0200\n",
      "z_1100\n",
      "z_1210\n",
      "z_2110\n",
      "z_2200\n"
     ]
    }
   ],
   "source": [
    "position_dictionary, Total = Make_dictionary(I,J,N,T_max)\n",
    "QUBO_init = np.zeros((Total, Total))\n",
    "P = {\n",
    "    \"Obj\": 1,\n",
    "    \"C1\":  600,\n",
    "    \"C2\":  600,\n",
    "    \"C3\":  600,\n",
    "    \"C4\":  600,\n",
    "    \"C5\":  600,\n",
    "    \"C6\":  600,\n",
    "    \"C7\":  1000,\n",
    "    \"C8\":  600,\n",
    "    \"C9\":  600,\n",
    "    \"Cadd\":  600,\n",
    "    \"Cadd1\":  600,\n",
    "    \"Cadd2\":  600,\n",
    "    \"Caddz\":  600,\n",
    "}\n",
    "QUBO_0 = mk_QUBO_0(I,J,N,T_max,QUBO_init,P)\n",
    "QUBO_1 = mk_QUBO_1(I,J,N,T_max,QUBO_init,VM_type,Data_input_type,position_dictionary,P)\n",
    "QUBO_2 = mk_QUBO_2(I,J,N,T_max,QUBO_init,VM_type,Data_input_type,position_dictionary,P)\n",
    "QUBO_3 = mk_QUBO_3(I,J,N,T_max,QUBO_init,VM_type,Data_input_type,position_dictionary,P)\n",
    "QUBO_4 = mk_QUBO_4(I,J,N,T_max,QUBO_init,VM_type,Data_input_type,position_dictionary,P)\n",
    "QUBO_5 = mk_QUBO_5(I,J,N,T_max,QUBO_init,VM_type,Data_input_type,position_dictionary,modified_VM_DP_time,P)\n",
    "QUBO_6 = mk_QUBO_6(I,J,N,T_max,QUBO_init,VM_type,Data_input_type,position_dictionary,modified_VM_DP_time,P)\n",
    "QUBO_7 = mk_QUBO_7(I,J,N,T_max,QUBO_init,VM_type,Data_input_type,position_dictionary,modified_VM_DP_time,P)\n",
    "#QUBO_8 = mk_QUBO_8(I,J,N,T_max,QUBO_init,VM_type,Data_input_type,position_dictionary,modified_VM_DP_time,P)\n",
    "QUBO_add = mk_QUBO_add(I,J,N,T_max,QUBO_init,VM_type,Data_input_type,position_dictionary,modified_VM_DP_time,P)\n",
    "\n",
    "QUBO_add_1 = mk_QUBO_add_1(I,J,N,T_max,QUBO_init,VM_type,Data_input_type,position_dictionary,modified_VM_DP_time,P)\n",
    "QUBO_add_2 = mk_QUBO_add_2(I,J,N,T_max,QUBO_init,VM_type,Data_input_type,position_dictionary,modified_VM_DP_time,P)\n",
    "\n",
    "QUBO_add_z = mk_QUBO_add_z(I,J,N,T_max,QUBO_init,VM_type,Data_input_type,position_dictionary,modified_VM_DP_time,P)\n",
    "\n",
    "QUBO = np.zeros_like(QUBO_init)\n",
    "QUBO = QUBO_0 * P['Obj'] + QUBO_add + QUBO_1 + QUBO_2 + QUBO_3 + QUBO_4 + QUBO_5 + QUBO_6 + QUBO_7 + QUBO_add_z + QUBO_add_1 + QUBO_add_2# + QUBO_8\n",
    "#show_graph(QUBO) \n",
    "#print(len(position_dictionary))\n",
    "QUBO,position_dictionary = mk_QUBO_8_alt(I,J,N,T_max,QUBO,VM_type,Data_input_type,position_dictionary,modified_VM_DP_time,P)\n",
    "#print(len(position_dictionary),np.shape(QUBO))\n",
    "QUBO,position_dictionary = mk_QUBO_9_alt(I,J,N,T_max,QUBO,VM_type,Data_input_type,position_dictionary,modified_VM_DP_time,P)\n",
    "#print(len(position_dictionary),np.shape(QUBO))\n"
   ]
  },
  {
   "cell_type": "code",
   "execution_count": null,
   "id": "58561202",
   "metadata": {},
   "outputs": [],
   "source": []
  },
  {
   "cell_type": "code",
   "execution_count": 108,
   "id": "40aac0b1",
   "metadata": {},
   "outputs": [
    {
     "data": {
      "application/vnd.jupyter.widget-view+json": {
       "model_id": "396b7879e0524b4d810734efb36aa1c7",
       "version_major": 2,
       "version_minor": 0
      },
      "text/plain": [
       "HBox(children=(HTML(value=''), FloatProgress(value=0.0, max=1.0), HTML(value='')))"
      ]
     },
     "metadata": {},
     "output_type": "display_data"
    },
    {
     "name": "stdout",
     "output_type": "stream",
     "text": [
      "Constraint_1:  True\n",
      "Constraint_2:  True\n",
      "Constraint_3:  True\n",
      "Constraint_4:  True\n",
      "Constraint_5:  True\n",
      "Constraint_6:  True\n",
      "Constraint_7:  True\n",
      "Constraint_8:  True\n",
      "Constraint_9:  True\n",
      "Constraint_add:  True\n",
      "Constraint_add_p:  True\n",
      "Constraint_add_z:  True\n",
      "\n"
     ]
    }
   ],
   "source": [
    "num_runs = 50\n",
    "Success = np.zeros(num_runs)\n",
    "qpu_access_time = []\n",
    "qpu_charge_time = []\n",
    "run_time = []\n",
    "QUBO_time = []\n",
    "Obj_time = []\n",
    "\n",
    "\n",
    "for num in tqdm(range(num_runs)):\n",
    "    sample,sampleset = Measure(QUBO)\n",
    "    #dir(sa mpleset)\n",
    "    Constraint = np.zeros(12)\n",
    "    Constraint[0] = check_C1 (position_dictionary,sample,I,J,VM_type,Data_input_type)\n",
    "    Constraint[1] = check_C2 (position_dictionary,sample,I,J,N,T_max)\n",
    "    Constraint[2] = check_C3 (position_dictionary,sample,I,J,N,T_max)\n",
    "    Constraint[3] = check_C4 (position_dictionary,sample,I,J,N,T_max)\n",
    "    Constraint[4] = check_C5 (position_dictionary,sample,I,J,VM_type,Data_input_type,T_max,modified_VM_DP_time)\n",
    "    Constraint[5] = check_C6 (position_dictionary,sample,I,J,N,T_max)\n",
    "    Constraint[6] = check_C7 (position_dictionary,sample,I,J,N,T_max)\n",
    "    Constraint[7] = check_C8_alt(position_dictionary,sample,I,J,VM_type,Data_input_type,T_max,modified_VM_DP_time)\n",
    "    Constraint[8] = check_C9 (position_dictionary,sample,I,J,VM_type,Data_input_type,T_max,modified_VM_DP_time)\n",
    "    Constraint[9] = check_C_add(position_dictionary,sample,I,J,N,VM_type,Data_input_type,T_max)\n",
    "    Constraint[10] = check_C_add_1(position_dictionary,sample,I,J,N,T_max)\n",
    "    Constraint[11] = check_C_add_2(position_dictionary,sample,I,J,N,T_max)\n",
    "    \n",
    "    \n",
    "    \n",
    "    print(\"Constraint_1: \",check_C1 (position_dictionary,sample,I,J,VM_type,Data_input_type))\n",
    "    print(\"Constraint_2: \",check_C2 (position_dictionary,sample,I,J,N,T_max))\n",
    "    print(\"Constraint_3: \",check_C3 (position_dictionary,sample,I,J,N,T_max))\n",
    "    print(\"Constraint_4: \",check_C4 (position_dictionary,sample,I,J,N,T_max))\n",
    "    print(\"Constraint_5: \",check_C5 (position_dictionary,sample,I,J,VM_type,Data_input_type,T_max,modified_VM_DP_time))\n",
    "    print(\"Constraint_6: \",check_C6 (position_dictionary,sample,I,J,N,T_max))\n",
    "    print(\"Constraint_7: \",check_C7 (position_dictionary,sample,I,J,N,T_max))\n",
    "    print(\"Constraint_8: \",check_C8_alt(position_dictionary,sample,I,J,VM_type,Data_input_type,T_max,modified_VM_DP_time))\n",
    "    print(\"Constraint_9: \",check_C9 (position_dictionary,sample,I,J,VM_type,Data_input_type,T_max,modified_VM_DP_time))\n",
    "    print(\"Constraint_add: \",check_C_add(position_dictionary,sample,I,J,N,VM_type,Data_input_type,T_max))\n",
    "    print(\"Constraint_add_p: \",check_C_add_1(position_dictionary,sample,I,J,N,T_max))\n",
    "    print(\"Constraint_add_z: \",check_C_add_2(position_dictionary,sample,I,J,N,T_max))\n",
    "    \n",
    "    Success[num] = int(Constraint.all()) \n",
    "    \n",
    "    qpu_access_time.append(sampleset.info['qpu_access_time']/(10**6))\n",
    "    qpu_charge_time.append(sampleset.info['charge_time']/(10**6))\n",
    "    run_time.append(sampleset.info['run_time']/(10**6))\n",
    "    \n",
    "    p_ = np.zeros((I,J,N,T_max))\n",
    "    opt_time = 0\n",
    "    for i in range(I):    \n",
    "        for j in range(J):  \n",
    "            for m in range(N):\n",
    "                for t in range(T_max):\n",
    "                    p_[i,j,m,t] = sample[position_dictionary['p_%d%d%d%d'%(i,j,m,t)]]\n",
    "                    if j == J-1:\n",
    "                        opt_time += t * sample[position_dictionary['p_%d%d%d%d'%(i,j,m,t)]]\n",
    "    \n",
    "    _,_,_,time_final = np.where(p_)\n",
    "    \n",
    "    QUBO_time.append(np.max(time_final))\n",
    "    Obj_time.append(opt_time)            \n",
    "    \n",
    "    "
   ]
  },
  {
   "cell_type": "code",
   "execution_count": 86,
   "id": "8b43d33a",
   "metadata": {},
   "outputs": [
    {
     "data": {
      "text/plain": [
       "1"
      ]
     },
     "execution_count": 86,
     "metadata": {},
     "output_type": "execute_result"
    }
   ],
   "source": [
    "int(True)"
   ]
  },
  {
   "cell_type": "code",
   "execution_count": 87,
   "id": "5ecb61d9",
   "metadata": {},
   "outputs": [
    {
     "data": {
      "text/plain": [
       "True"
      ]
     },
     "execution_count": 87,
     "metadata": {},
     "output_type": "execute_result"
    }
   ],
   "source": [
    "Constraint.all()"
   ]
  },
  {
   "cell_type": "code",
   "execution_count": 88,
   "id": "4c5e273f",
   "metadata": {},
   "outputs": [
    {
     "data": {
      "text/plain": [
       "array([1., 1., 1., 1., 1., 1., 1., 1., 1., 1., 1., 1., 1., 1., 1., 1., 1.,\n",
       "       1., 1., 1., 1., 1., 1., 1., 1., 1., 1., 1., 1., 1., 1., 1., 1., 1.,\n",
       "       1., 1., 1., 1., 1., 1., 1., 1., 1., 1., 1., 1., 1., 1., 1., 1.])"
      ]
     },
     "execution_count": 88,
     "metadata": {},
     "output_type": "execute_result"
    }
   ],
   "source": [
    "Success"
   ]
  },
  {
   "cell_type": "code",
   "execution_count": 89,
   "id": "f32c8208",
   "metadata": {},
   "outputs": [
    {
     "data": {
      "text/plain": [
       "True"
      ]
     },
     "execution_count": 89,
     "metadata": {},
     "output_type": "execute_result"
    }
   ],
   "source": [
    "Constraint.all()"
   ]
  },
  {
   "cell_type": "code",
   "execution_count": 90,
   "id": "295acd10",
   "metadata": {},
   "outputs": [
    {
     "name": "stdout",
     "output_type": "stream",
     "text": [
      "[0.06592, 0.065913, 0.032957, 0.065922, 0.065914, 0.065912, 0.032518, 0.0, 0.043195, 0.042725, 0.065024, 0.065019, 0.065916, 0.065018, 0.065012, 0.065913, 0.065018, 0.065916, 0.065904, 0.065028, 0.032501, 0.032511, 0.075244, 0.076131, 0.065905, 0.065926, 0.065905, 0.065911, 0.076144, 0.065907, 0.065902, 0.032509, 0.065023, 0.065018, 0.06592, 0.065016, 0.065024, 0.065929, 0.065913, 0.065911, 0.065915, 0.065909, 0.065019, 0.075259, 0.032513, 0.065023, 0.065019, 0.065009, 0.065925, 0.032959]\n",
      "[2.994846, 2.990222, 2.992298, 2.998411, 2.99965, 2.993399, 2.985077, 2.990341, 2.983835, 2.993691, 2.987134, 2.998002, 2.995725, 2.997006, 2.994545, 3.0, 2.98961, 2.997931, 2.99115, 2.991748, 2.992876, 2.997947, 2.993767, 2.987616, 2.991097, 2.99085, 2.997721, 2.995332, 2.987708, 2.98678, 2.993027, 2.99307, 2.989273, 2.990779, 2.995529, 2.993772, 2.995458, 2.989527, 2.997821, 3.0, 2.990775, 2.998657, 2.990026, 2.996476, 2.993445, 2.99647, 2.999374, 2.991957, 2.998684, 2.994483]\n",
      "[2.994846, 2.990222, 2.992298, 2.998411, 2.99965, 2.993399, 2.985077, 2.990341, 2.983835, 2.993691, 2.987134, 2.998002, 2.995725, 2.997006, 2.994545, 3.003754, 2.98961, 2.997931, 2.99115, 2.991748, 2.992876, 2.997947, 2.993767, 2.987616, 2.991097, 2.99085, 2.997721, 2.995332, 2.987708, 2.98678, 2.993027, 2.99307, 2.989273, 2.990779, 2.995529, 2.993772, 2.995458, 2.989527, 2.997821, 3.003722, 2.990775, 2.998657, 2.990026, 2.996476, 2.993445, 2.99647, 2.999374, 2.991957, 2.998684, 2.994483]\n",
      "[6, 8, 6, 6, 8, 7, 8, 7, 6, 5, 7, 6, 7, 5, 7, 7, 7, 8, 6, 5, 6, 5, 6, 8, 6, 7, 7, 6, 7, 5, 6, 8, 6, 7, 7, 6, 8, 7, 6, 7, 6, 8, 8, 8, 6, 6, 5, 6, 7, 5]\n",
      "[10, 11, 11, 10, 11, 11, 13, 11, 9, 9, 13, 10, 11, 8, 12, 11, 10, 13, 11, 9, 11, 9, 11, 11, 10, 10, 12, 12, 12, 9, 10, 13, 11, 14, 12, 11, 11, 11, 10, 11, 11, 11, 12, 12, 11, 11, 10, 11, 12, 10]\n",
      "8\n"
     ]
    }
   ],
   "source": [
    "print(qpu_access_time)\n",
    "print(qpu_charge_time) \n",
    "print(run_time) \n",
    "print(QUBO_time) \n",
    "print(Obj_time) \n",
    "print(T_max_true) "
   ]
  },
  {
   "cell_type": "code",
   "execution_count": 91,
   "id": "bc4b43f3",
   "metadata": {},
   "outputs": [],
   "source": [
    "QUBO_shape = np.shape(QUBO)\n",
    "np.save('I3J3N2/qpu_access_time',qpu_access_time)\n",
    "np.save('I3J3N2/qpu_charge_time',qpu_charge_time)\n",
    "np.save('I3J3N2/run_time',run_time)\n",
    "np.save('I3J3N2/QUBO_time',QUBO_time)\n",
    "np.save('I3J3N2/Obj_time',Obj_time)\n",
    "np.save('I3J3N2/Success',Success)\n",
    "np.save('I3J3N2/QUBO_shape',QUBO_shape)\n",
    "np.save('I3J3N2/T_max_true',T_max_true)"
   ]
  },
  {
   "cell_type": "code",
   "execution_count": 2,
   "id": "966abbc4",
   "metadata": {},
   "outputs": [],
   "source": [
    "\n"
   ]
  },
  {
   "cell_type": "code",
   "execution_count": null,
   "id": "81ef74c1",
   "metadata": {},
   "outputs": [],
   "source": []
  }
 ],
 "metadata": {
  "kernelspec": {
   "display_name": "Python 3",
   "language": "python",
   "name": "python3"
  },
  "language_info": {
   "codemirror_mode": {
    "name": "ipython",
    "version": 3
   },
   "file_extension": ".py",
   "mimetype": "text/x-python",
   "name": "python",
   "nbconvert_exporter": "python",
   "pygments_lexer": "ipython3",
   "version": "3.8.6"
  }
 },
 "nbformat": 4,
 "nbformat_minor": 5
}
