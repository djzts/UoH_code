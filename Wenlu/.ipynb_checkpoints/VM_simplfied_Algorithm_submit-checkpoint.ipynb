{
 "cells": [
  {
   "cell_type": "code",
   "execution_count": 1091,
   "id": "eee5ec43",
   "metadata": {},
   "outputs": [
    {
     "data": {
      "text/html": [
       "<style>.container { width:100% !important; }</style>"
      ],
      "text/plain": [
       "<IPython.core.display.HTML object>"
      ]
     },
     "metadata": {},
     "output_type": "display_data"
    }
   ],
   "source": [
    "%run Make_Question_simplified.ipynb\n",
    "import numpy as np\n",
    "from collections import defaultdict\n",
    "\n",
    "import random\n",
    "import matplotlib.pyplot as plt\n",
    "import warnings\n",
    "warnings.filterwarnings(\"ignore\")\n",
    "import time\n",
    "import csv\n",
    "\n",
    "from collections import defaultdict\n",
    "\n",
    "from dwave.system.samplers import DWaveSampler\n",
    "from dwave.system.composites import EmbeddingComposite\n",
    "import networkx as nx\n",
    "import numpy as np\n",
    "import dwave.inspector\n",
    "import dimod\n",
    "\n",
    "import matplotlib\n",
    "\n",
    "from matplotlib import pyplot as plt\n"
   ]
  },
  {
   "cell_type": "code",
   "execution_count": 1109,
   "id": "3e4af47d",
   "metadata": {},
   "outputs": [],
   "source": [
    "N = 2\n",
    "#M = 5\n",
    "I = 3\n",
    "J = 3\n",
    "K = 4\n",
    "Data_upperbound = 20\n",
    "Processing_upperbound = 20\n",
    "Data_input = Data_Queue(I,J,Data_upperbound)\n",
    "Data_input_type = Data_Queue_type(I,J,K)\n",
    "VM_type = VM_Data_type_gen(I,K,N)\n",
    "\n",
    "VM_speed = VM_Data_processing_speed(Processing_upperbound, VM_type, K)\n",
    "VM_DP_time = VM_Data_processing_time(Data_input, Data_input_type , VM_speed)\n",
    "\n",
    "modified_VM_DP_time =np.copy(VM_DP_time)\n",
    "modified_VM_DP_time[np.isinf(modified_VM_DP_time)]=np.inf\n",
    "\n"
   ]
  },
  {
   "cell_type": "code",
   "execution_count": 1110,
   "id": "681baa3f",
   "metadata": {
    "scrolled": true
   },
   "outputs": [
    {
     "name": "stdout",
     "output_type": "stream",
     "text": [
      "[[1 3 4]\n",
      " [2 3 4]]\n",
      "[[4 2 1]\n",
      " [2 3 1]\n",
      " [3 4 2]]\n",
      "[[[ 6.  1.]\n",
      "  [inf  1.]\n",
      "  [ 2. inf]]\n",
      "\n",
      " [[inf  2.]\n",
      "  [ 4.  7.]\n",
      "  [ 1. inf]]\n",
      "\n",
      " [[ 2.  4.]\n",
      "  [16.  2.]\n",
      "  [inf  2.]]]\n",
      "T_max is  18\n"
     ]
    }
   ],
   "source": [
    "T_max_true = little_greedy_algorithm(VM_DP_time,I,J,N)\n",
    "print(VM_type)\n",
    "print(Data_input_type)\n",
    "print(VM_DP_time)\n",
    "#print(np.min(VM_DP_time.reshape(I*J,N),1))\n",
    "T_max= T_max_true + 1\n",
    "#T_max += 1\n",
    "print(\"T_max is \",T_max_true)\n",
    "#print(\"let t = 1 unit of time\")"
   ]
  },
  {
   "cell_type": "code",
   "execution_count": 1141,
   "id": "651c8102",
   "metadata": {},
   "outputs": [
    {
     "name": "stdout",
     "output_type": "stream",
     "text": [
      "z_0110\n",
      "z_0200\n",
      "z_1100\n",
      "z_1110\n",
      "z_1200\n",
      "z_2100\n",
      "z_2110\n",
      "z_2210\n"
     ]
    }
   ],
   "source": [
    "position_dictionary, Total = Make_dictionary(I,J,N,T_max)\n",
    "QUBO_init = np.zeros((Total, Total))\n",
    "P = {\n",
    "    \"Obj\": 20,\n",
    "    \"C1\":  4460,\n",
    "    \"C2\":  4350,\n",
    "    \"C3\":  4550,\n",
    "    \"C4\":  4550,\n",
    "    \"C5\":  4050,\n",
    "    \"C6\":  4050,\n",
    "    \"C7\":  5050,\n",
    "    \"C8\":  4550,\n",
    "    \"C9\":  4750,\n",
    "    \"Cadd\":  4950,\n",
    "    \"Cadd1\":  4910,\n",
    "    \"Cadd2\":  4610,\n",
    "    \"Caddz\":  4010,\n",
    "}\n",
    "QUBO_0 = mk_QUBO_0(I,J,N,T_max,QUBO_init,P)\n",
    "QUBO_1 = mk_QUBO_1(I,J,N,T_max,QUBO_init,VM_type,Data_input_type,position_dictionary,P)\n",
    "QUBO_2 = mk_QUBO_2(I,J,N,T_max,QUBO_init,VM_type,Data_input_type,position_dictionary,P)\n",
    "QUBO_3 = mk_QUBO_3(I,J,N,T_max,QUBO_init,VM_type,Data_input_type,position_dictionary,P)\n",
    "QUBO_4 = mk_QUBO_4(I,J,N,T_max,QUBO_init,VM_type,Data_input_type,position_dictionary,P)\n",
    "QUBO_5 = mk_QUBO_5(I,J,N,T_max,QUBO_init,VM_type,Data_input_type,position_dictionary,modified_VM_DP_time,P)\n",
    "QUBO_6 = mk_QUBO_6(I,J,N,T_max,QUBO_init,VM_type,Data_input_type,position_dictionary,modified_VM_DP_time,P)\n",
    "QUBO_7 = mk_QUBO_7(I,J,N,T_max,QUBO_init,VM_type,Data_input_type,position_dictionary,modified_VM_DP_time,P)\n",
    "#QUBO_8 = mk_QUBO_8(I,J,N,T_max,QUBO_init,VM_type,Data_input_type,position_dictionary,modified_VM_DP_time,P)\n",
    "QUBO_add = mk_QUBO_add(I,J,N,T_max,QUBO_init,VM_type,Data_input_type,position_dictionary,modified_VM_DP_time,P)\n",
    "\n",
    "QUBO_add_1 = mk_QUBO_add_1(I,J,N,T_max,QUBO_init,VM_type,Data_input_type,position_dictionary,modified_VM_DP_time,P)\n",
    "QUBO_add_2 = mk_QUBO_add_2(I,J,N,T_max,QUBO_init,VM_type,Data_input_type,position_dictionary,modified_VM_DP_time,P)\n",
    "\n",
    "QUBO_add_z = mk_QUBO_add_z(I,J,N,T_max,QUBO_init,VM_type,Data_input_type,position_dictionary,modified_VM_DP_time,P)\n",
    "\n",
    "QUBO = np.zeros_like(QUBO_init)\n",
    "QUBO = QUBO_0 * P['Obj'] + QUBO_add + QUBO_1 + QUBO_2 + QUBO_3 + QUBO_4 + QUBO_5 + QUBO_6 + QUBO_7 + QUBO_add_z + QUBO_add_1 + QUBO_add_2# + QUBO_8\n",
    "#show_graph(QUBO) \n",
    "#print(len(position_dictionary))\n",
    "QUBO,position_dictionary = mk_QUBO_8_alt(I,J,N,T_max,QUBO,VM_type,Data_input_type,position_dictionary,modified_VM_DP_time,P)\n",
    "#print(len(position_dictionary),np.shape(QUBO))\n",
    "QUBO,position_dictionary = mk_QUBO_9_alt(I,J,N,T_max,QUBO,VM_type,Data_input_type,position_dictionary,modified_VM_DP_time,P)\n",
    "#print(len(position_dictionary),np.shape(QUBO))\n",
    "\n",
    "\n",
    "#show_graph(QUBO_5) "
   ]
  },
  {
   "cell_type": "code",
   "execution_count": 1142,
   "id": "c4046044",
   "metadata": {},
   "outputs": [
    {
     "name": "stdout",
     "output_type": "stream",
     "text": [
      "warning, QUBO is too big 1443\n"
     ]
    }
   ],
   "source": [
    "size,_ = np.shape(QUBO)\n",
    "if size> 270:\n",
    "    print(\"warning, QUBO is too big\",size)"
   ]
  },
  {
   "cell_type": "code",
   "execution_count": 1143,
   "id": "08bff110",
   "metadata": {},
   "outputs": [
    {
     "ename": "SolverFailureError",
     "evalue": "Problem not accepted because user 63992 has insufficient remaining solver access time in project 163",
     "output_type": "error",
     "traceback": [
      "\u001b[1;31m---------------------------------------------------------------------------\u001b[0m",
      "\u001b[1;31mSolverFailureError\u001b[0m                        Traceback (most recent call last)",
      "\u001b[1;32m<ipython-input-1143-91c5a87a590b>\u001b[0m in \u001b[0;36m<module>\u001b[1;34m\u001b[0m\n\u001b[0;32m     23\u001b[0m \u001b[1;31m#energy = sampleset.first.energy\u001b[0m\u001b[1;33m\u001b[0m\u001b[1;33m\u001b[0m\u001b[1;33m\u001b[0m\u001b[0m\n\u001b[0;32m     24\u001b[0m \u001b[1;31m#print(sample,energy)\u001b[0m\u001b[1;33m\u001b[0m\u001b[1;33m\u001b[0m\u001b[1;33m\u001b[0m\u001b[0m\n\u001b[1;32m---> 25\u001b[1;33m \u001b[0mOP\u001b[0m \u001b[1;33m=\u001b[0m \u001b[0msampleset\u001b[0m\u001b[1;33m.\u001b[0m\u001b[0mto_pandas_dataframe\u001b[0m\u001b[1;33m(\u001b[0m\u001b[1;33m)\u001b[0m\u001b[1;33m\u001b[0m\u001b[1;33m\u001b[0m\u001b[0m\n\u001b[0m\u001b[0;32m     26\u001b[0m \u001b[1;32mimport\u001b[0m \u001b[0mpandas\u001b[0m \u001b[1;32mas\u001b[0m \u001b[0mpd\u001b[0m\u001b[1;33m\u001b[0m\u001b[1;33m\u001b[0m\u001b[0m\n\u001b[0;32m     27\u001b[0m \u001b[1;33m\u001b[0m\u001b[0m\n",
      "\u001b[1;32mc:\\python38\\lib\\site-packages\\dimod\\sampleset.py\u001b[0m in \u001b[0;36mto_pandas_dataframe\u001b[1;34m(self, sample_column)\u001b[0m\n\u001b[0;32m   1655\u001b[0m         \u001b[1;32melse\u001b[0m\u001b[1;33m:\u001b[0m\u001b[1;33m\u001b[0m\u001b[1;33m\u001b[0m\u001b[0m\n\u001b[0;32m   1656\u001b[0m             \u001b[1;31m# work directly with the record, it's much faster\u001b[0m\u001b[1;33m\u001b[0m\u001b[1;33m\u001b[0m\u001b[1;33m\u001b[0m\u001b[0m\n\u001b[1;32m-> 1657\u001b[1;33m             \u001b[0mdf\u001b[0m \u001b[1;33m=\u001b[0m \u001b[0mpd\u001b[0m\u001b[1;33m.\u001b[0m\u001b[0mDataFrame\u001b[0m\u001b[1;33m(\u001b[0m\u001b[0mself\u001b[0m\u001b[1;33m.\u001b[0m\u001b[0mrecord\u001b[0m\u001b[1;33m.\u001b[0m\u001b[0msample\u001b[0m\u001b[1;33m,\u001b[0m \u001b[0mcolumns\u001b[0m\u001b[1;33m=\u001b[0m\u001b[0mself\u001b[0m\u001b[1;33m.\u001b[0m\u001b[0mvariables\u001b[0m\u001b[1;33m)\u001b[0m\u001b[1;33m\u001b[0m\u001b[1;33m\u001b[0m\u001b[0m\n\u001b[0m\u001b[0;32m   1658\u001b[0m \u001b[1;33m\u001b[0m\u001b[0m\n\u001b[0;32m   1659\u001b[0m             \u001b[1;32mfor\u001b[0m \u001b[0mfield\u001b[0m \u001b[1;32min\u001b[0m \u001b[0msorted\u001b[0m\u001b[1;33m(\u001b[0m\u001b[0mself\u001b[0m\u001b[1;33m.\u001b[0m\u001b[0mrecord\u001b[0m\u001b[1;33m.\u001b[0m\u001b[0mdtype\u001b[0m\u001b[1;33m.\u001b[0m\u001b[0mfields\u001b[0m\u001b[1;33m)\u001b[0m\u001b[1;33m:\u001b[0m  \u001b[1;31m# sort for consistency\u001b[0m\u001b[1;33m\u001b[0m\u001b[1;33m\u001b[0m\u001b[0m\n",
      "\u001b[1;32mc:\\python38\\lib\\site-packages\\dimod\\sampleset.py\u001b[0m in \u001b[0;36mrecord\u001b[1;34m(self)\u001b[0m\n\u001b[0;32m    871\u001b[0m \u001b[1;33m\u001b[0m\u001b[0m\n\u001b[0;32m    872\u001b[0m         \"\"\"\n\u001b[1;32m--> 873\u001b[1;33m         \u001b[0mself\u001b[0m\u001b[1;33m.\u001b[0m\u001b[0mresolve\u001b[0m\u001b[1;33m(\u001b[0m\u001b[1;33m)\u001b[0m\u001b[1;33m\u001b[0m\u001b[1;33m\u001b[0m\u001b[0m\n\u001b[0m\u001b[0;32m    874\u001b[0m         \u001b[1;32mreturn\u001b[0m \u001b[0mself\u001b[0m\u001b[1;33m.\u001b[0m\u001b[0m_record\u001b[0m\u001b[1;33m\u001b[0m\u001b[1;33m\u001b[0m\u001b[0m\n\u001b[0;32m    875\u001b[0m \u001b[1;33m\u001b[0m\u001b[0m\n",
      "\u001b[1;32mc:\\python38\\lib\\site-packages\\dimod\\sampleset.py\u001b[0m in \u001b[0;36mresolve\u001b[1;34m(self)\u001b[0m\n\u001b[0;32m   1206\u001b[0m         \u001b[1;31m# if it doesn't have the attribute then it is already resolved\u001b[0m\u001b[1;33m\u001b[0m\u001b[1;33m\u001b[0m\u001b[1;33m\u001b[0m\u001b[0m\n\u001b[0;32m   1207\u001b[0m         \u001b[1;32mif\u001b[0m \u001b[0mhasattr\u001b[0m\u001b[1;33m(\u001b[0m\u001b[0mself\u001b[0m\u001b[1;33m,\u001b[0m \u001b[1;34m'_future'\u001b[0m\u001b[1;33m)\u001b[0m\u001b[1;33m:\u001b[0m\u001b[1;33m\u001b[0m\u001b[1;33m\u001b[0m\u001b[0m\n\u001b[1;32m-> 1208\u001b[1;33m             \u001b[0msamples\u001b[0m \u001b[1;33m=\u001b[0m \u001b[0mself\u001b[0m\u001b[1;33m.\u001b[0m\u001b[0m_result_hook\u001b[0m\u001b[1;33m(\u001b[0m\u001b[0mself\u001b[0m\u001b[1;33m.\u001b[0m\u001b[0m_future\u001b[0m\u001b[1;33m)\u001b[0m\u001b[1;33m\u001b[0m\u001b[1;33m\u001b[0m\u001b[0m\n\u001b[0m\u001b[0;32m   1209\u001b[0m             \u001b[0mself\u001b[0m\u001b[1;33m.\u001b[0m\u001b[0m__init__\u001b[0m\u001b[1;33m(\u001b[0m\u001b[0msamples\u001b[0m\u001b[1;33m.\u001b[0m\u001b[0mrecord\u001b[0m\u001b[1;33m,\u001b[0m \u001b[0msamples\u001b[0m\u001b[1;33m.\u001b[0m\u001b[0mvariables\u001b[0m\u001b[1;33m,\u001b[0m \u001b[0msamples\u001b[0m\u001b[1;33m.\u001b[0m\u001b[0minfo\u001b[0m\u001b[1;33m,\u001b[0m \u001b[0msamples\u001b[0m\u001b[1;33m.\u001b[0m\u001b[0mvartype\u001b[0m\u001b[1;33m)\u001b[0m\u001b[1;33m\u001b[0m\u001b[1;33m\u001b[0m\u001b[0m\n\u001b[0;32m   1210\u001b[0m             \u001b[1;32mdel\u001b[0m \u001b[0mself\u001b[0m\u001b[1;33m.\u001b[0m\u001b[0m_future\u001b[0m\u001b[1;33m\u001b[0m\u001b[1;33m\u001b[0m\u001b[0m\n",
      "\u001b[1;32mc:\\python38\\lib\\site-packages\\dwave\\cloud\\computation.py\u001b[0m in \u001b[0;36m<lambda>\u001b[1;34m(f)\u001b[0m\n\u001b[0;32m    834\u001b[0m \u001b[1;33m\u001b[0m\u001b[0m\n\u001b[0;32m    835\u001b[0m         self._sampleset = sampleset = dimod.SampleSet.from_future(\n\u001b[1;32m--> 836\u001b[1;33m             self, lambda f: f.wait_sampleset())\n\u001b[0m\u001b[0;32m    837\u001b[0m \u001b[1;33m\u001b[0m\u001b[0m\n\u001b[0;32m    838\u001b[0m         \u001b[1;32mreturn\u001b[0m \u001b[0msampleset\u001b[0m\u001b[1;33m\u001b[0m\u001b[1;33m\u001b[0m\u001b[0m\n",
      "\u001b[1;32mc:\\python38\\lib\\site-packages\\dwave\\cloud\\computation.py\u001b[0m in \u001b[0;36mwait_sampleset\u001b[1;34m(self)\u001b[0m\n\u001b[0;32m    774\u001b[0m \u001b[1;33m\u001b[0m\u001b[0m\n\u001b[0;32m    775\u001b[0m         \u001b[1;31m# blocking result get\u001b[0m\u001b[1;33m\u001b[0m\u001b[1;33m\u001b[0m\u001b[1;33m\u001b[0m\u001b[0m\n\u001b[1;32m--> 776\u001b[1;33m         \u001b[0mresult\u001b[0m \u001b[1;33m=\u001b[0m \u001b[0mself\u001b[0m\u001b[1;33m.\u001b[0m\u001b[0m_load_result\u001b[0m\u001b[1;33m(\u001b[0m\u001b[1;33m)\u001b[0m\u001b[1;33m\u001b[0m\u001b[1;33m\u001b[0m\u001b[0m\n\u001b[0m\u001b[0;32m    777\u001b[0m \u001b[1;33m\u001b[0m\u001b[0m\n\u001b[0;32m    778\u001b[0m         \u001b[1;31m# common problem info: id/label\u001b[0m\u001b[1;33m\u001b[0m\u001b[1;33m\u001b[0m\u001b[1;33m\u001b[0m\u001b[0m\n",
      "\u001b[1;32mc:\\python38\\lib\\site-packages\\dwave\\cloud\\computation.py\u001b[0m in \u001b[0;36m_load_result\u001b[1;34m(self)\u001b[0m\n\u001b[0;32m    899\u001b[0m             \u001b[1;31m# Check for other error conditions\u001b[0m\u001b[1;33m\u001b[0m\u001b[1;33m\u001b[0m\u001b[1;33m\u001b[0m\u001b[0m\n\u001b[0;32m    900\u001b[0m             \u001b[1;32mif\u001b[0m \u001b[0mself\u001b[0m\u001b[1;33m.\u001b[0m\u001b[0m_exception\u001b[0m \u001b[1;32mis\u001b[0m \u001b[1;32mnot\u001b[0m \u001b[1;32mNone\u001b[0m\u001b[1;33m:\u001b[0m\u001b[1;33m\u001b[0m\u001b[1;33m\u001b[0m\u001b[0m\n\u001b[1;32m--> 901\u001b[1;33m                 \u001b[1;32mraise\u001b[0m \u001b[0mself\u001b[0m\u001b[1;33m.\u001b[0m\u001b[0m_exception\u001b[0m\u001b[1;33m\u001b[0m\u001b[1;33m\u001b[0m\u001b[0m\n\u001b[0m\u001b[0;32m    902\u001b[0m \u001b[1;33m\u001b[0m\u001b[0m\n\u001b[0;32m    903\u001b[0m             \u001b[1;31m# If someone else took care of this while we were waiting\u001b[0m\u001b[1;33m\u001b[0m\u001b[1;33m\u001b[0m\u001b[1;33m\u001b[0m\u001b[0m\n",
      "\u001b[1;32mc:\\python38\\lib\\site-packages\\dwave\\cloud\\client.py\u001b[0m in \u001b[0;36m_handle_problem_status\u001b[1;34m(self, message, future)\u001b[0m\n\u001b[0;32m   1347\u001b[0m                     \u001b[1;32mraise\u001b[0m \u001b[0mSolverOfflineError\u001b[0m\u001b[1;33m(\u001b[0m\u001b[0merrmsg\u001b[0m\u001b[1;33m)\u001b[0m\u001b[1;33m\u001b[0m\u001b[1;33m\u001b[0m\u001b[0m\n\u001b[0;32m   1348\u001b[0m                 \u001b[1;32melse\u001b[0m\u001b[1;33m:\u001b[0m\u001b[1;33m\u001b[0m\u001b[1;33m\u001b[0m\u001b[0m\n\u001b[1;32m-> 1349\u001b[1;33m                     \u001b[1;32mraise\u001b[0m \u001b[0mSolverFailureError\u001b[0m\u001b[1;33m(\u001b[0m\u001b[0merrmsg\u001b[0m\u001b[1;33m)\u001b[0m\u001b[1;33m\u001b[0m\u001b[1;33m\u001b[0m\u001b[0m\n\u001b[0m\u001b[0;32m   1350\u001b[0m \u001b[1;33m\u001b[0m\u001b[0m\n\u001b[0;32m   1351\u001b[0m         \u001b[1;32mexcept\u001b[0m \u001b[0mException\u001b[0m \u001b[1;32mas\u001b[0m \u001b[0mexc\u001b[0m\u001b[1;33m:\u001b[0m\u001b[1;33m\u001b[0m\u001b[1;33m\u001b[0m\u001b[0m\n",
      "\u001b[1;31mSolverFailureError\u001b[0m: Problem not accepted because user 63992 has insufficient remaining solver access time in project 163"
     ]
    }
   ],
   "source": [
    "from dwave.system import LeapHybridSampler\n",
    "\n",
    "\n",
    "width,height = np.shape(QUBO)\n",
    "\n",
    "QUBO_dictionary = defaultdict(int)\n",
    "for i in range(width):\n",
    "    for j in range(height):\n",
    "        QUBO_dictionary[(i,j)] = QUBO[i,j]\n",
    "        \n",
    "#sampler = EmbeddingComposite(DWaveSampler(solver={'qpu': True}))\n",
    "#sampler = EmbeddingComposite(DWaveSampler())\n",
    "# Select a solver\n",
    "sampler = LeapHybridSampler()\n",
    "\n",
    "num_reads = 10000\n",
    "#sampleset = sampler.sample_qubo(QUBO, chain_strength = 8, num_reads=num_reads)\n",
    "#sampleset = sampler.sample_qubo(QUBO, num_reads=num_reads)\n",
    "sampleset = sampler.sample_qubo(QUBO)\n",
    "\n",
    "\n",
    "#sample = sampleset.first.sample\n",
    "#energy = sampleset.first.energy\n",
    "#print(sample,energy)\n",
    "OP = sampleset.to_pandas_dataframe()\n",
    "import pandas as pd\n",
    "\n",
    "OP = OP.sort_values(\"energy\")\n",
    "OP_final = OP.to_numpy()\n",
    "\n",
    "rank = 0\n",
    "\n",
    "\n",
    "OP_opt = OP_final[rank,:].flatten()\n",
    "sample = OP_opt.astype(int)\n",
    "\n"
   ]
  },
  {
   "cell_type": "code",
   "execution_count": null,
   "id": "e54a1779",
   "metadata": {},
   "outputs": [],
   "source": [
    "%run Make_Question_simplified.ipynb\n",
    "#dir(sampleset)\n",
    "print(\"Constraint_1: \",check_C1 (position_dictionary,sample,I,J,VM_type,Data_input_type))\n",
    "print(\"Constraint_2: \",check_C2 (position_dictionary,sample,I,J,N,T_max))\n",
    "print(\"Constraint_3: \",check_C3 (position_dictionary,sample,I,J,N,T_max))\n",
    "print(\"Constraint_4: \",check_C4 (position_dictionary,sample,I,J,N,T_max))\n",
    "print(\"Constraint_5: \",check_C5 (position_dictionary,sample,I,J,VM_type,Data_input_type,T_max,modified_VM_DP_time))\n",
    "print(\"Constraint_6: \",check_C6 (position_dictionary,sample,I,J,N,T_max))\n",
    "print(\"Constraint_7: \",check_C7 (position_dictionary,sample,I,J,N,T_max))\n",
    "print(\"Constraint_8: \",check_C8_alt(position_dictionary,sample,I,J,VM_type,Data_input_type,T_max,modified_VM_DP_time))\n",
    "print(\"Constraint_9: \",check_C9 (position_dictionary,sample,I,J,VM_type,Data_input_type,T_max,modified_VM_DP_time))\n",
    "print(\"Constraint_add: \",check_C_add(position_dictionary,sample,I,J,N,VM_type,Data_input_type,T_max))\n",
    "print(\"Constraint_add_p: \",check_C_add_1(position_dictionary,sample,I,J,N,T_max))\n",
    "\n",
    "print(\"Constraint_add_z: \",check_C_add_2(position_dictionary,sample,I,J,N,T_max))"
   ]
  },
  {
   "cell_type": "code",
   "execution_count": 1086,
   "id": "385ccd4b",
   "metadata": {},
   "outputs": [],
   "source": [
    "#OP"
   ]
  },
  {
   "cell_type": "code",
   "execution_count": null,
   "id": "c7146d5f",
   "metadata": {},
   "outputs": [],
   "source": []
  },
  {
   "cell_type": "code",
   "execution_count": 1087,
   "id": "78868b3a",
   "metadata": {
    "scrolled": true
   },
   "outputs": [
    {
     "name": "stdout",
     "output_type": "stream",
     "text": [
      "when t =  0 : the machine 0 is working on 2 th people's 0 th workload. Function type 3\n",
      "when t =  1 : the machine 0 is working on 2 th people's 0 th workload. Function type 3\n",
      "when t =  2 : the machine 0 is working on 2 th people's 0 th workload. Function type 3\n",
      "when t =  3 : the machine 0 is ending 2 th people's 0 th workload.\n",
      "when t =  4 : the machine 0 is hanging up\n",
      "when t =  5 : the machine 0 is hanging up\n",
      "when t =  6 : the machine 0 is hanging up\n",
      "when t =  7 : the machine 0 is hanging up\n",
      "when t =  8 : the machine 0 is working on 1 th people's 1 th workload. Function type 3\n",
      "when t =  9 : the machine 0 is working on 1 th people's 1 th workload. Function type 3\n",
      "when t =  10 : the machine 0 is working on 1 th people's 1 th workload. Function type 3\n",
      "when t =  11 : the machine 0 is working on 1 th people's 1 th workload. Function type 3\n",
      "when t =  12 : the machine 0 is ending 1 th people's 1 th workload.\n",
      "when t =  13 : the machine 0 is hanging up\n",
      "-----------------------------------------------------------------------\n",
      "when t =  0 : the machine 1 is working on 0 th people's 0 th workload. Function type 2\n",
      "when t =  1 : the machine 1 is working on 0 th people's 0 th workload. Function type 2\n",
      "when t =  2 : the machine 1 is ending 0 th people's 0 th workload.\n",
      "when t =  3 : the machine 1 is working on 2 th people's 1 th workload. Function type 2\n",
      "when t =  4 : the machine 1 is ending 2 th people's 1 th workload.\n",
      "when t =  5 : the machine 1 is working on 0 th people's 1 th workload. Function type 1\n",
      "when t =  6 : the machine 1 is working on 1 th people's 0 th workload. Function type 1\n",
      "when t =  7 : the machine 1 is ending 1 th people's 0 th workload.\n",
      "when t =  8 : the machine 1 is hanging up\n",
      "when t =  9 : the machine 1 is hanging up\n",
      "when t =  10 : the machine 1 is hanging up\n",
      "when t =  11 : the machine 1 is hanging up\n",
      "when t =  12 : the machine 1 is hanging up\n",
      "when t =  13 : the machine 1 is hanging up\n",
      "-----------------------------------------------------------------------\n",
      "The opt_time is:  22\n",
      "the greedy time is:  13\n"
     ]
    }
   ],
   "source": [
    "for m in range(N):\n",
    "    for t in range(T_max):\n",
    "        start = np.zeros((I,J))\n",
    "        work = np.zeros((I,J))\n",
    "        end = np.zeros((I,J))\n",
    "        for i in range(I):\n",
    "            for j in range(J):\n",
    "                #print('p_%d%d%d%d value:'%(i,J-1,m,t), sample[position_dictionary['p_%d%d%d%d'%(i,J-1,m,t)]])\n",
    "            \n",
    "                start[i,j] = sample[position_dictionary['z_%d%d%d%d'%(i,j,m,t)]] \n",
    "                work[i,j] = sample[position_dictionary['y_%d%d%d%d'%(i,j,m,t)]] \n",
    "                end[i,j] = sample[position_dictionary['p_%d%d%d%d'%(i,j,m,t)]] \n",
    "        people,index = np.where(work == 1)\n",
    "        start,index_s = np.where(start == 1)\n",
    "        end,index_e = np.where(end == 1)\n",
    "        if len(people) > 0:      \n",
    "#            if len(start) > 0:\n",
    "#                print(\"when t = \", t ,\": the machine\", m ,\"is starting\", start[0],\"th people's\", index_s[0], \"th workload.\")\n",
    "#            else:\n",
    "                print(\"when t = \", t ,\": the machine\", m ,\"is working on\", people[0],\"th people's\", index[0], \"th workload.\",\"Function type\", Data_input_type[people[0],index[0]])   \n",
    "        elif len(end) > 0:\n",
    "            print(\"when t = \", t ,\": the machine\", m ,\"is ending\", end[0],\"th people's\", index_e[0], \"th workload.\")\n",
    "\n",
    "            \n",
    "        else:\n",
    "            print(\"when t = \", t ,\": the machine\", m ,\"is hanging up\")\n",
    "            \n",
    "    print(\"-----------------------------------------------------------------------\")\n",
    "    \n",
    "opt_time = 0\n",
    "for i in range(I):    \n",
    "    for m in range(N):\n",
    "        for t in range(T_max):\n",
    "            #print('p_%d%d%d%d value:'%(i,J-1,m,t), sample[position_dictionary['p_%d%d%d%d'%(i,J-1,m,t)]])\n",
    "            #print(t * sample[position_dictionary['p_%d%d%d%d'%(i,J-1,m,t)]],'p_%d%d%d%d'%(i,J-1,m,t))\n",
    "            opt_time += t * sample[position_dictionary['p_%d%d%d%d'%(i,J-1,m,t)]]\n",
    "            \n",
    "\n",
    "\n",
    "print(\"The opt_time is: \", opt_time)\n",
    "print(\"the greedy time is: \", T_max_true)"
   ]
  },
  {
   "cell_type": "code",
   "execution_count": null,
   "id": "66dff14b",
   "metadata": {},
   "outputs": [],
   "source": []
  },
  {
   "cell_type": "code",
   "execution_count": null,
   "id": "772d7181",
   "metadata": {},
   "outputs": [],
   "source": []
  },
  {
   "cell_type": "code",
   "execution_count": 1088,
   "id": "77f5eee7",
   "metadata": {},
   "outputs": [
    {
     "name": "stdout",
     "output_type": "stream",
     "text": [
      "12\n"
     ]
    }
   ],
   "source": [
    "p_ = np.zeros((I,J,N,T_max))\n",
    "for i in range(I):    \n",
    "    for j in range(J):  \n",
    "        for m in range(N):\n",
    "            for t in range(T_max):\n",
    "                p_[i,j,m,t] = sample[position_dictionary['p_%d%d%d%d'%(i,j,m,t)]]\n",
    "_,_,_,time_final = np.where(p_)\n",
    "QUBO_time = np.max(time_final)\n",
    "print(QUBO_time )"
   ]
  },
  {
   "cell_type": "code",
   "execution_count": 1089,
   "id": "6c450142",
   "metadata": {},
   "outputs": [
    {
     "data": {
      "text/html": [
       "<div>\n",
       "<style scoped>\n",
       "    .dataframe tbody tr th:only-of-type {\n",
       "        vertical-align: middle;\n",
       "    }\n",
       "\n",
       "    .dataframe tbody tr th {\n",
       "        vertical-align: top;\n",
       "    }\n",
       "\n",
       "    .dataframe thead th {\n",
       "        text-align: right;\n",
       "    }\n",
       "</style>\n",
       "<table border=\"1\" class=\"dataframe\">\n",
       "  <thead>\n",
       "    <tr style=\"text-align: right;\">\n",
       "      <th></th>\n",
       "      <th>0</th>\n",
       "      <th>1</th>\n",
       "      <th>2</th>\n",
       "      <th>3</th>\n",
       "      <th>4</th>\n",
       "      <th>5</th>\n",
       "      <th>6</th>\n",
       "      <th>7</th>\n",
       "      <th>8</th>\n",
       "      <th>9</th>\n",
       "      <th>...</th>\n",
       "      <th>676</th>\n",
       "      <th>677</th>\n",
       "      <th>678</th>\n",
       "      <th>679</th>\n",
       "      <th>680</th>\n",
       "      <th>681</th>\n",
       "      <th>682</th>\n",
       "      <th>683</th>\n",
       "      <th>energy</th>\n",
       "      <th>num_occurrences</th>\n",
       "    </tr>\n",
       "  </thead>\n",
       "  <tbody>\n",
       "    <tr>\n",
       "      <th>0</th>\n",
       "      <td>0</td>\n",
       "      <td>1</td>\n",
       "      <td>0</td>\n",
       "      <td>1</td>\n",
       "      <td>0</td>\n",
       "      <td>1</td>\n",
       "      <td>1</td>\n",
       "      <td>0</td>\n",
       "      <td>1</td>\n",
       "      <td>0</td>\n",
       "      <td>...</td>\n",
       "      <td>0</td>\n",
       "      <td>0</td>\n",
       "      <td>0</td>\n",
       "      <td>0</td>\n",
       "      <td>0</td>\n",
       "      <td>0</td>\n",
       "      <td>0</td>\n",
       "      <td>0</td>\n",
       "      <td>-10420.0</td>\n",
       "      <td>1</td>\n",
       "    </tr>\n",
       "  </tbody>\n",
       "</table>\n",
       "<p>1 rows × 686 columns</p>\n",
       "</div>"
      ],
      "text/plain": [
       "   0  1  2  3  4  5  6  7  8  9  ...  676  677  678  679  680  681  682  683  \\\n",
       "0  0  1  0  1  0  1  1  0  1  0  ...    0    0    0    0    0    0    0    0   \n",
       "\n",
       "    energy  num_occurrences  \n",
       "0 -10420.0                1  \n",
       "\n",
       "[1 rows x 686 columns]"
      ]
     },
     "execution_count": 1089,
     "metadata": {},
     "output_type": "execute_result"
    }
   ],
   "source": [
    "OP"
   ]
  },
  {
   "cell_type": "code",
   "execution_count": 1090,
   "id": "497e401b",
   "metadata": {},
   "outputs": [],
   "source": [
    "#sampleset\n",
    "answer = np.array(sample)\n",
    "\n",
    "#print(answer.dtype,answer)\n",
    "import os\n",
    "attempt = 3\n",
    "try:\n",
    "    os.mkdir(\"Example_I%d_J%d_N%d_ex%d\"%(I,J,N,attempt))    \n",
    "except:\n",
    "    print(\"error\")\n",
    "\n",
    "np.save('Example_I%d_J%d_N%d_ex%d/Data_input'%(I,J,N,attempt), Data_input)\n",
    "np.save('Example_I%d_J%d_N%d_ex%d/Data_input_type'%(I,J,N,attempt), Data_input_type )\n",
    "np.save('Example_I%d_J%d_N%d_ex%d/VM_type'%(I,J,N,attempt), VM_type)\n",
    "np.save('Example_I%d_J%d_N%d_ex%d/VM_speed'%(I,J,N,attempt), VM_speed)\n",
    "np.save('Example_I%d_J%d_N%d_ex%d/T_max_true'%(I,J,N,attempt), T_max_true)\n",
    "np.save('Example_I%d_J%d_N%d_ex%d/QUBO_time'%(I,J,N,attempt), QUBO_time)\n",
    "np.save('Example_I%d_J%d_N%d_ex%d/opt_time'%(I,J,N,attempt), opt_time)\n",
    "np.save('Example_I%d_J%d_N%d_ex%d/opt_time_divide_N'%(I,J,N,attempt), opt_time/N)\n",
    "np.save('Example_I%d_J%d_N%d_ex%d/answer'%(I,J,N,attempt), answer)\n",
    "np.save('Example_I%d_J%d_N%d_ex%d/VM_speed'%(I,J,N,attempt), VM_speed)\n",
    "np.save('Example_I%d_J%d_N%d_ex%d/VM_DP_time'%(I,J,N,attempt), VM_DP_time)\n",
    "OP.to_csv('Example_I%d_J%d_N%d_ex%d/answer_pandas.csv'%(I,J,N,attempt),index=False)\n",
    "np.save('Example_I%d_J%d_N%d_ex%d/P'%(I,J,N,attempt), P)\n",
    "np.save('Example_I%d_J%d_N%d_ex%d/QUBO'%(I,J,N,attempt), QUBO)"
   ]
  },
  {
   "cell_type": "code",
   "execution_count": null,
   "id": "84a4b518",
   "metadata": {},
   "outputs": [],
   "source": [
    "\n"
   ]
  },
  {
   "cell_type": "code",
   "execution_count": null,
   "id": "fc40dbbd",
   "metadata": {},
   "outputs": [],
   "source": [
    "#import numpy as np\n",
    "\n",
    "# Save\n",
    "#dictionary = {'hello':'world'}\n",
    "#np.save('my_file.npy', dictionary) \n",
    "\n",
    "# Load\n",
    "#read_dictionary = np.load('my_file.npy',allow_pickle='TRUE').item()\n",
    "#print(read_dictionary['hello']) # displays \"world\""
   ]
  },
  {
   "cell_type": "code",
   "execution_count": 626,
   "id": "13adef8a",
   "metadata": {},
   "outputs": [
    {
     "name": "stdout",
     "output_type": "stream",
     "text": [
      "Machine 0\n",
      "t =  0  z_00 value: 0  y_00 value: 0  p_00 value: 0\n",
      "t =  0  z_01 value: 0  y_01 value: 0  p_01 value: 0\n",
      "t =  0  z_10 value: 0  y_10 value: 0  p_10 value: 0\n",
      "t =  0  z_11 value: 0  y_11 value: 0  p_11 value: 0\n",
      "t =  1  z_00 value: 0  y_00 value: 0  p_00 value: 0\n",
      "t =  1  z_01 value: 1  y_01 value: 1  p_01 value: 0\n",
      "t =  1  z_10 value: 0  y_10 value: 0  p_10 value: 0\n",
      "t =  1  z_11 value: 0  y_11 value: 0  p_11 value: 0\n",
      "t =  2  z_00 value: 0  y_00 value: 0  p_00 value: 0\n",
      "t =  2  z_01 value: 0  y_01 value: 1  p_01 value: 0\n",
      "t =  2  z_10 value: 0  y_10 value: 0  p_10 value: 0\n",
      "t =  2  z_11 value: 0  y_11 value: 0  p_11 value: 0\n",
      "t =  3  z_00 value: 0  y_00 value: 0  p_00 value: 0\n",
      "t =  3  z_01 value: 0  y_01 value: 0  p_01 value: 1\n",
      "t =  3  z_10 value: 0  y_10 value: 0  p_10 value: 0\n",
      "t =  3  z_11 value: 1  y_11 value: 1  p_11 value: 0\n",
      "t =  4  z_00 value: 0  y_00 value: 0  p_00 value: 0\n",
      "t =  4  z_01 value: 0  y_01 value: 0  p_01 value: 0\n",
      "t =  4  z_10 value: 0  y_10 value: 0  p_10 value: 0\n",
      "t =  4  z_11 value: 0  y_11 value: 0  p_11 value: 1\n",
      "t =  5  z_00 value: 0  y_00 value: 0  p_00 value: 0\n",
      "t =  5  z_01 value: 0  y_01 value: 0  p_01 value: 0\n",
      "t =  5  z_10 value: 0  y_10 value: 0  p_10 value: 0\n",
      "t =  5  z_11 value: 0  y_11 value: 0  p_11 value: 0\n",
      "t =  6  z_00 value: 0  y_00 value: 0  p_00 value: 0\n",
      "t =  6  z_01 value: 0  y_01 value: 0  p_01 value: 0\n",
      "t =  6  z_10 value: 0  y_10 value: 0  p_10 value: 0\n",
      "t =  6  z_11 value: 0  y_11 value: 0  p_11 value: 0\n",
      "Machine 1\n",
      "t =  0  z_00 value: 1  y_00 value: 1  p_00 value: 0\n",
      "t =  0  z_01 value: 0  y_01 value: 0  p_01 value: 0\n",
      "t =  0  z_10 value: 0  y_10 value: 0  p_10 value: 0\n",
      "t =  0  z_11 value: 0  y_11 value: 0  p_11 value: 0\n",
      "t =  1  z_00 value: 0  y_00 value: 0  p_00 value: 1\n",
      "t =  1  z_01 value: 0  y_01 value: 0  p_01 value: 0\n",
      "t =  1  z_10 value: 1  y_10 value: 1  p_10 value: 0\n",
      "t =  1  z_11 value: 0  y_11 value: 0  p_11 value: 0\n",
      "t =  2  z_00 value: 0  y_00 value: 0  p_00 value: 0\n",
      "t =  2  z_01 value: 0  y_01 value: 0  p_01 value: 0\n",
      "t =  2  z_10 value: 0  y_10 value: 0  p_10 value: 1\n",
      "t =  2  z_11 value: 0  y_11 value: 0  p_11 value: 0\n",
      "t =  3  z_00 value: 0  y_00 value: 0  p_00 value: 0\n",
      "t =  3  z_01 value: 0  y_01 value: 0  p_01 value: 0\n",
      "t =  3  z_10 value: 0  y_10 value: 0  p_10 value: 0\n",
      "t =  3  z_11 value: 0  y_11 value: 0  p_11 value: 0\n",
      "t =  4  z_00 value: 0  y_00 value: 0  p_00 value: 0\n",
      "t =  4  z_01 value: 0  y_01 value: 0  p_01 value: 0\n",
      "t =  4  z_10 value: 0  y_10 value: 0  p_10 value: 0\n",
      "t =  4  z_11 value: 0  y_11 value: 0  p_11 value: 0\n",
      "t =  5  z_00 value: 0  y_00 value: 0  p_00 value: 0\n",
      "t =  5  z_01 value: 0  y_01 value: 0  p_01 value: 0\n",
      "t =  5  z_10 value: 0  y_10 value: 0  p_10 value: 0\n",
      "t =  5  z_11 value: 0  y_11 value: 0  p_11 value: 0\n",
      "t =  6  z_00 value: 0  y_00 value: 0  p_00 value: 0\n",
      "t =  6  z_01 value: 0  y_01 value: 0  p_01 value: 0\n",
      "t =  6  z_10 value: 0  y_10 value: 0  p_10 value: 0\n",
      "t =  6  z_11 value: 0  y_11 value: 0  p_11 value: 0\n"
     ]
    }
   ],
   "source": [
    "for m in range(N):\n",
    "    print(\"Machine\",m)\n",
    "    for t in range(T_max):\n",
    "        for i in range(I):\n",
    "            \n",
    "            for j in range(J):        \n",
    "                print(\"t = \",t,' z_%d%d value:'%(i,j), sample[position_dictionary['z_%d%d%d%d'%(i,j,m,t)]],' y_%d%d value:'%(i,j), sample[position_dictionary['y_%d%d%d%d'%(i,j,m,t)]],' p_%d%d value:'%(i,j), sample[position_dictionary['p_%d%d%d%d'%(i,j,m,t)]])\n"
   ]
  },
  {
   "cell_type": "code",
   "execution_count": 599,
   "id": "1fd08257",
   "metadata": {},
   "outputs": [
    {
     "name": "stdout",
     "output_type": "stream",
     "text": [
      "p_0100 value: 0\n",
      "p_0101 value: 0\n",
      "p_0102 value: 0\n",
      "p_0103 value: 0\n",
      "p_0104 value: 1\n",
      "p_0105 value: 0\n",
      "p_0110 value: 0\n",
      "p_0111 value: 0\n",
      "p_0112 value: 0\n",
      "p_0113 value: 0\n",
      "p_0114 value: 0\n",
      "p_0115 value: 0\n",
      "p_1100 value: 0\n",
      "p_1101 value: 0\n",
      "p_1102 value: 1\n",
      "p_1103 value: 0\n",
      "p_1104 value: 0\n",
      "p_1105 value: 0\n",
      "p_1110 value: 0\n",
      "p_1111 value: 0\n",
      "p_1112 value: 0\n",
      "p_1113 value: 0\n",
      "p_1114 value: 0\n",
      "p_1115 value: 0\n",
      "The opt_time is:  6\n",
      "the greedy time is:  6\n"
     ]
    }
   ],
   "source": []
  },
  {
   "cell_type": "code",
   "execution_count": null,
   "id": "4992f2ce",
   "metadata": {},
   "outputs": [],
   "source": []
  },
  {
   "cell_type": "code",
   "execution_count": null,
   "id": "d8fbfed2",
   "metadata": {},
   "outputs": [],
   "source": []
  }
 ],
 "metadata": {
  "kernelspec": {
   "display_name": "Python 3",
   "language": "python",
   "name": "python3"
  },
  "language_info": {
   "codemirror_mode": {
    "name": "ipython",
    "version": 3
   },
   "file_extension": ".py",
   "mimetype": "text/x-python",
   "name": "python",
   "nbconvert_exporter": "python",
   "pygments_lexer": "ipython3",
   "version": "3.8.6"
  }
 },
 "nbformat": 4,
 "nbformat_minor": 5
}
