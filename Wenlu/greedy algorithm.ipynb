{
 "cells": [
  {
   "cell_type": "code",
   "execution_count": 3,
   "id": "9e9f7d8f",
   "metadata": {},
   "outputs": [
    {
     "data": {
      "text/html": [
       "<style>.container { width:100% !important; }</style>"
      ],
      "text/plain": [
       "<IPython.core.display.HTML object>"
      ]
     },
     "metadata": {},
     "output_type": "display_data"
    }
   ],
   "source": [
    "%run Make_Questiones.ipynb\n",
    "import numpy as np\n",
    "from collections import defaultdict\n",
    "import random\n",
    "import matplotlib.pyplot as plt\n",
    "import warnings\n",
    "warnings.filterwarnings(\"ignore\")\n",
    "import time\n",
    "import csv"
   ]
  },
  {
   "cell_type": "code",
   "execution_count": 4,
   "id": "c6967bd9",
   "metadata": {},
   "outputs": [],
   "source": [
    "N = 3\n",
    "#M = 5\n",
    "I = 2\n",
    "J = 3\n",
    "K = 5\n",
    "Channel_upperbound = 20\n",
    "Data_upperbound = 20\n",
    "Processing_upperbound = 45\n",
    "self_looped = 100"
   ]
  },
  {
   "cell_type": "code",
   "execution_count": 5,
   "id": "b1144f4b",
   "metadata": {},
   "outputs": [],
   "source": [
    "Channel_link = Create_channel(N,Channel_upperbound,option = \"same\",initial_length = 1)\n",
    "Data_input = Data_Queue(I,J,Data_upperbound)\n",
    "Data_input_type = Data_Queue_type(I,J,K)\n",
    "VM_type = VM_Data_type_gen(I,K,N)\n",
    "VM_speed = VM_Data_processing_speed(Processing_upperbound, VM_type, K)\n",
    "\n",
    "VM_DP_time = VM_Data_processing_time(Data_input, Data_input_type , VM_speed)\n",
    "Transmission_time = Channel_Data_transmission_time(Data_input , Channel_link)"
   ]
  },
  {
   "cell_type": "code",
   "execution_count": 8,
   "id": "385ec5f2",
   "metadata": {},
   "outputs": [
    {
     "name": "stdout",
     "output_type": "stream",
     "text": [
      "[[[ 1.  1. inf]\n",
      "  [inf inf  4.]\n",
      "  [inf inf  1.]]\n",
      "\n",
      " [[inf inf  1.]\n",
      "  [ 1. inf inf]\n",
      "  [inf inf  5.]]]\n",
      "[[[[1. 1. 1.]\n",
      "   [1. 1. 1.]\n",
      "   [1. 1. 1.]]\n",
      "\n",
      "  [[1. 1. 1.]\n",
      "   [1. 1. 1.]\n",
      "   [1. 1. 1.]]\n",
      "\n",
      "  [[1. 1. 1.]\n",
      "   [1. 1. 1.]\n",
      "   [1. 1. 1.]]]\n",
      "\n",
      "\n",
      " [[[1. 1. 1.]\n",
      "   [1. 1. 4.]\n",
      "   [1. 1. 2.]]\n",
      "\n",
      "  [[1. 1. 1.]\n",
      "   [1. 1. 3.]\n",
      "   [1. 1. 1.]]\n",
      "\n",
      "  [[1. 1. 1.]\n",
      "   [2. 1. 1.]\n",
      "   [1. 1. 1.]]]]\n"
     ]
    }
   ],
   "source": [
    "print(VM_DP_time)\n",
    "modified_Transmission_time = Transmission_time[:,1:,:,1:]\n",
    "modified_Transmission_time[np.isinf(modified_Transmission_time)] = 0  #可不做（只要左，上需要从除去inf，除非不是全连接图）\n",
    "print(modified_Transmission_time)"
   ]
  },
  {
   "cell_type": "code",
   "execution_count": 12,
   "id": "7ad567be",
   "metadata": {},
   "outputs": [],
   "source": [
    "# Transmission focusing\n",
    "Total_time = modified_Transmission_time\n",
    "for i in range(I):\n",
    "    for j in range(J):\n",
    "        for n in range(N):\n",
    "            Total_time[i,:,j,n] += VM_DP_time[i,j,n]\n",
    "        "
   ]
  },
  {
   "cell_type": "code",
   "execution_count": 22,
   "id": "3d16a71e",
   "metadata": {},
   "outputs": [
    {
     "data": {
      "text/plain": [
       "19.0"
      ]
     },
     "execution_count": 22,
     "metadata": {},
     "output_type": "execute_result"
    }
   ],
   "source": [
    "np.sum(np.min(Total_time,(1,3)))"
   ]
  },
  {
   "cell_type": "code",
   "execution_count": null,
   "id": "f943bde4",
   "metadata": {},
   "outputs": [],
   "source": []
  },
  {
   "cell_type": "code",
   "execution_count": 14,
   "id": "0a554ba2",
   "metadata": {},
   "outputs": [
    {
     "data": {
      "text/plain": [
       "array([[ 2.,  2., inf],\n",
       "       [ 2.,  2., inf],\n",
       "       [ 2.,  2., inf]])"
      ]
     },
     "execution_count": 14,
     "metadata": {},
     "output_type": "execute_result"
    }
   ],
   "source": [
    "Total_time[0,:,0,:]"
   ]
  },
  {
   "cell_type": "code",
   "execution_count": 15,
   "id": "67930668",
   "metadata": {},
   "outputs": [
    {
     "data": {
      "text/plain": [
       "array([[inf, inf,  5.],\n",
       "       [inf, inf,  5.],\n",
       "       [inf, inf,  5.]])"
      ]
     },
     "execution_count": 15,
     "metadata": {},
     "output_type": "execute_result"
    }
   ],
   "source": [
    "Total_time[0,:,1,:]"
   ]
  },
  {
   "cell_type": "code",
   "execution_count": 16,
   "id": "80b339ca",
   "metadata": {},
   "outputs": [
    {
     "data": {
      "text/plain": [
       "array([[inf, inf,  2.],\n",
       "       [inf, inf,  2.],\n",
       "       [inf, inf,  2.]])"
      ]
     },
     "execution_count": 16,
     "metadata": {},
     "output_type": "execute_result"
    }
   ],
   "source": [
    "Total_time[0,:,2,:]"
   ]
  },
  {
   "cell_type": "code",
   "execution_count": 18,
   "id": "925d03a9",
   "metadata": {},
   "outputs": [
    {
     "data": {
      "text/plain": [
       "array([[inf, inf,  2.],\n",
       "       [inf, inf,  2.],\n",
       "       [inf, inf,  2.]])"
      ]
     },
     "execution_count": 18,
     "metadata": {},
     "output_type": "execute_result"
    }
   ],
   "source": [
    "Total_time[1,:,0,:]"
   ]
  },
  {
   "cell_type": "code",
   "execution_count": 19,
   "id": "98f007dd",
   "metadata": {},
   "outputs": [
    {
     "data": {
      "text/plain": [
       "array([[ 2., inf, inf],\n",
       "       [ 2., inf, inf],\n",
       "       [ 3., inf, inf]])"
      ]
     },
     "execution_count": 19,
     "metadata": {},
     "output_type": "execute_result"
    }
   ],
   "source": [
    "Total_time[1,:,1,:]"
   ]
  },
  {
   "cell_type": "code",
   "execution_count": 20,
   "id": "34482b8a",
   "metadata": {},
   "outputs": [
    {
     "data": {
      "text/plain": [
       "array([[inf, inf,  7.],\n",
       "       [inf, inf,  6.],\n",
       "       [inf, inf,  6.]])"
      ]
     },
     "execution_count": 20,
     "metadata": {},
     "output_type": "execute_result"
    }
   ],
   "source": [
    "Total_time[1,:,2,:]"
   ]
  },
  {
   "cell_type": "code",
   "execution_count": null,
   "id": "e04e70fe",
   "metadata": {},
   "outputs": [],
   "source": []
  }
 ],
 "metadata": {
  "kernelspec": {
   "display_name": "Python 3",
   "language": "python",
   "name": "python3"
  },
  "language_info": {
   "codemirror_mode": {
    "name": "ipython",
    "version": 3
   },
   "file_extension": ".py",
   "mimetype": "text/x-python",
   "name": "python",
   "nbconvert_exporter": "python",
   "pygments_lexer": "ipython3",
   "version": "3.8.6"
  }
 },
 "nbformat": 4,
 "nbformat_minor": 5
}
