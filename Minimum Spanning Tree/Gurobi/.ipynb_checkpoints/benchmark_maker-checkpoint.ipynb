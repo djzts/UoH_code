{
 "cells": [
  {
   "cell_type": "code",
   "execution_count": 65,
   "id": "f8036f12",
   "metadata": {},
   "outputs": [
    {
     "data": {
      "text/html": [
       "<style>.container { width:100% !important; }</style>"
      ],
      "text/plain": [
       "<IPython.core.display.HTML object>"
      ]
     },
     "metadata": {},
     "output_type": "display_data"
    }
   ],
   "source": [
    "%run Function_set_gurobi.ipynb\n",
    "import networkx as nx\n",
    "import numpy as np\n",
    "from collections import defaultdict\n",
    "import random\n",
    "from numpy import random\n",
    "import matplotlib.pyplot as plt\n",
    "import json\n",
    "import os"
   ]
  },
  {
   "cell_type": "code",
   "execution_count": 66,
   "id": "8a55daad",
   "metadata": {},
   "outputs": [],
   "source": [
    "class NumpyEncoder(json.JSONEncoder):\n",
    "    \"\"\" Special json encoder for numpy types \"\"\"\n",
    "    def default(self, obj):\n",
    "        if isinstance(obj, np.integer):\n",
    "            return int(obj)\n",
    "        elif isinstance(obj, np.floating):\n",
    "            return float(obj)\n",
    "        elif isinstance(obj, np.ndarray):\n",
    "            return obj.tolist()\n",
    "        return json.JSONEncoder.default(self, obj)"
   ]
  },
  {
   "cell_type": "code",
   "execution_count": 68,
   "id": "209948e6",
   "metadata": {},
   "outputs": [
    {
     "name": "stdout",
     "output_type": "stream",
     "text": [
      "F:\\UoH\\UoH_code\\Minimum Spanning Tree\\Gurobi\\W3_H4_Benchmark\n",
      "{\"0\": [6.7, 8], \"1\": [4, 6], \"2\": [2, 6], \"3\": [0, 6], \"4\": [4, 4], \"5\": [2, 4], \"6\": [0, 4], \"7\": [2, 2], \"8\": [0, 2], \"9\": [4, 0], \"10\": [2, 0]}\n",
      "{\"0\": [6.7, 8], \"1\": [4, 6], \"2\": [2, 6], \"3\": [0, 6], \"4\": [4, 4], \"5\": [2, 4], \"6\": [0, 4], \"7\": [2, 2], \"8\": [0, 2], \"9\": [4, 0], \"10\": [2, 0]}\n",
      "{\"0\": [6.7, 8], \"1\": [4, 6], \"2\": [2, 6], \"3\": [0, 6], \"4\": [4, 4], \"5\": [2, 4], \"6\": [2, 2], \"7\": [0, 2], \"8\": [4, 0], \"9\": [2, 0], \"10\": [0, 0]}\n",
      "{\"0\": [6.7, 8], \"1\": [2, 6], \"2\": [0, 6], \"3\": [4, 4], \"4\": [2, 4], \"5\": [0, 4], \"6\": [4, 2], \"7\": [2, 2], \"8\": [0, 2], \"9\": [4, 0], \"10\": [2, 0]}\n",
      "{\"0\": [6.7, 8], \"1\": [4, 6], \"2\": [2, 6], \"3\": [0, 6], \"4\": [4, 4], \"5\": [2, 4], \"6\": [4, 2], \"7\": [2, 2], \"8\": [0, 2], \"9\": [4, 0], \"10\": [2, 0]}\n",
      "{\"0\": [6.7, 8], \"1\": [4, 6], \"2\": [2, 6], \"3\": [0, 6], \"4\": [4, 4], \"5\": [2, 4], \"6\": [0, 4], \"7\": [2, 2], \"8\": [0, 2], \"9\": [4, 0], \"10\": [2, 0]}\n",
      "{\"0\": [6.7, 8], \"1\": [2, 6], \"2\": [0, 6], \"3\": [4, 4], \"4\": [2, 4], \"5\": [0, 4], \"6\": [2, 2], \"7\": [0, 2], \"8\": [4, 0], \"9\": [2, 0], \"10\": [0, 0]}\n",
      "{\"0\": [6.7, 8], \"1\": [4, 6], \"2\": [2, 6], \"3\": [0, 6], \"4\": [4, 4], \"5\": [2, 4], \"6\": [2, 2], \"7\": [0, 2], \"8\": [4, 0], \"9\": [2, 0], \"10\": [0, 0]}\n",
      "{\"0\": [6.7, 8], \"1\": [2, 6], \"2\": [0, 6], \"3\": [4, 4], \"4\": [2, 4], \"5\": [0, 4], \"6\": [4, 2], \"7\": [2, 2], \"8\": [0, 2], \"9\": [4, 0], \"10\": [2, 0]}\n",
      "{\"0\": [6.7, 8], \"1\": [2, 6], \"2\": [0, 6], \"3\": [4, 4], \"4\": [2, 4], \"5\": [4, 2], \"6\": [2, 2], \"7\": [0, 2], \"8\": [4, 0], \"9\": [2, 0], \"10\": [0, 0]}\n",
      "{\"0\": [6.7, 8], \"1\": [2, 6], \"2\": [0, 6], \"3\": [4, 4], \"4\": [2, 4], \"5\": [0, 4], \"6\": [2, 2], \"7\": [0, 2], \"8\": [4, 0], \"9\": [2, 0], \"10\": [0, 0]}\n",
      "{\"0\": [6.7, 8], \"1\": [2, 6], \"2\": [0, 6], \"3\": [4, 4], \"4\": [2, 4], \"5\": [0, 4], \"6\": [4, 2], \"7\": [2, 2], \"8\": [0, 2], \"9\": [4, 0], \"10\": [2, 0]}\n",
      "{\"0\": [6.7, 8], \"1\": [4, 6], \"2\": [2, 6], \"3\": [0, 6], \"4\": [4, 4], \"5\": [2, 4], \"6\": [0, 4], \"7\": [2, 2], \"8\": [0, 2], \"9\": [4, 0], \"10\": [2, 0]}\n",
      "{\"0\": [6.7, 8], \"1\": [2, 6], \"2\": [0, 6], \"3\": [4, 4], \"4\": [2, 4], \"5\": [0, 4], \"6\": [2, 2], \"7\": [0, 2], \"8\": [4, 0], \"9\": [2, 0], \"10\": [0, 0]}\n",
      "{\"0\": [6.7, 8], \"1\": [2, 6], \"2\": [0, 6], \"3\": [4, 4], \"4\": [2, 4], \"5\": [0, 4], \"6\": [4, 2], \"7\": [2, 2], \"8\": [0, 2], \"9\": [4, 0], \"10\": [2, 0]}\n",
      "{\"0\": [6.7, 8], \"1\": [2, 6], \"2\": [0, 6], \"3\": [4, 4], \"4\": [2, 4], \"5\": [0, 4], \"6\": [2, 2], \"7\": [0, 2], \"8\": [4, 0], \"9\": [2, 0], \"10\": [0, 0]}\n",
      "{\"0\": [6.7, 8], \"1\": [2, 6], \"2\": [0, 6], \"3\": [4, 4], \"4\": [2, 4], \"5\": [4, 2], \"6\": [2, 2], \"7\": [0, 2], \"8\": [4, 0], \"9\": [2, 0], \"10\": [0, 0]}\n",
      "{\"0\": [6.7, 8], \"1\": [2, 6], \"2\": [0, 6], \"3\": [4, 4], \"4\": [2, 4], \"5\": [0, 4], \"6\": [2, 2], \"7\": [0, 2], \"8\": [4, 0], \"9\": [2, 0], \"10\": [0, 0]}\n",
      "{\"0\": [6.7, 8], \"1\": [4, 6], \"2\": [2, 6], \"3\": [0, 6], \"4\": [4, 4], \"5\": [2, 4], \"6\": [0, 4], \"7\": [2, 2], \"8\": [0, 2], \"9\": [4, 0], \"10\": [2, 0]}\n",
      "{\"0\": [6.7, 8], \"1\": [4, 6], \"2\": [2, 6], \"3\": [0, 6], \"4\": [4, 4], \"5\": [2, 4], \"6\": [2, 2], \"7\": [0, 2], \"8\": [4, 0], \"9\": [2, 0], \"10\": [0, 0]}\n"
     ]
    }
   ],
   "source": [
    "bench_num = 20\n",
    "\n",
    "Width = 3\n",
    "Height = 4\n",
    "D = 0.7\n",
    "\n",
    "\n",
    "current_directory = os.getcwd()\n",
    "    \n",
    "next_dir = \"W%d_H%d_Benchmark\"%(Width, Height)\n",
    "    \n",
    "final_directory = os.path.join(current_directory, next_dir)\n",
    "    \n",
    "print(final_directory)\n",
    "    \n",
    "if not os.path.exists(final_directory):\n",
    "    os.makedirs(final_directory)\n",
    "\n",
    "\n",
    "for i in range(bench_num):  \n",
    "    \n",
    "    network,pos = Make_Question(Width, Height, Density = D, option = \"1-norm\", distance = 1)\n",
    "    \n",
    "    plt.figure(i)\n",
    "    \n",
    "    G, compelete_label, graph = complete_Graph(network,pos)\n",
    "    \n",
    "    \n",
    "    np.save(\"W%d_H%d_Benchmark/W%d_H%d_Benchmark%d.npy\"%(Width, Height, Width, Height, i) , network)\n",
    "    \n",
    "    \n",
    "    # create json object from dictionary\n",
    "    dumped = json.dumps(pos, cls=NumpyEncoder)\n",
    "    print(dumped)\n",
    "\n",
    "    # open file for writing, \"w\" \n",
    "    \n",
    "    with open(\"W%d_H%d_Benchmark/W%d_H%d_Benchmark%d.json\"%(Width, Height, Width, Height, i), 'w') as f:\n",
    "        json.dump(dumped, f)\n",
    "\n",
    "    # write json object to file\n",
    "    #f.write(json)\n",
    "\n",
    "    # close file\n",
    "    f.close()\n",
    "\n"
   ]
  },
  {
   "cell_type": "code",
   "execution_count": null,
   "id": "a88d3e7c",
   "metadata": {},
   "outputs": [],
   "source": [
    "#\n",
    "#W4H3 W3H4 D=0.7\n",
    "# rest  0.85"
   ]
  },
  {
   "cell_type": "code",
   "execution_count": null,
   "id": "c5620248",
   "metadata": {},
   "outputs": [],
   "source": []
  }
 ],
 "metadata": {
  "kernelspec": {
   "display_name": "Python 3",
   "language": "python",
   "name": "python3"
  },
  "language_info": {
   "codemirror_mode": {
    "name": "ipython",
    "version": 3
   },
   "file_extension": ".py",
   "mimetype": "text/x-python",
   "name": "python",
   "nbconvert_exporter": "python",
   "pygments_lexer": "ipython3",
   "version": "3.8.6"
  }
 },
 "nbformat": 4,
 "nbformat_minor": 5
}
