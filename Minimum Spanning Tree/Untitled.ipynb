{
 "cells": [
  {
   "cell_type": "code",
   "execution_count": 26,
   "metadata": {},
   "outputs": [
    {
     "name": "stdout",
     "output_type": "stream",
     "text": [
      "40\n",
      "On Feb 10 : 1.500000 million were vaccinated\n",
      "On Feb 11 : 2.100000 million were vaccinated\n",
      "On Feb 12 : 2.940000 million were vaccinated\n",
      "On Feb 13 : 4.116000 million were vaccinated\n",
      "On Feb 14 : 5.762400 million were vaccinated\n",
      "On Feb 15 : 8.067360 million were vaccinated\n",
      "On Feb 16 : 11.294304 million were vaccinated\n",
      "On Feb 17 : 15.812026 million were vaccinated\n",
      "On Feb 18 : 22.136836 million were vaccinated\n",
      "On Feb 19 : 30.991570 million were vaccinated\n",
      "On Feb 20 : 43.388198 million were vaccinated\n",
      "By Feb 20 : 57.002635 % of the population is vaccinated\n"
     ]
    }
   ],
   "source": [
    "#2 with a fixed increasing rate\n",
    "\n",
    "increasing_rate = float(input())/100\n",
    "init_day = 10\n",
    "init_poulation_vaccinated = 1.5\n",
    "#print(\"increasing rate: %f %% \"%(increasing_rate*100))\n",
    "#print(\"On Feb %d : %f million were vaccinated\"%(init_day,init_poulation_vaccinated))\n",
    "for day in range(11):\n",
    "    poulation_vaccinated = 1.5*(1+increasing_rate)**(day)\n",
    "    print(\"On Feb %d : %f million were vaccinated\"%(init_day+day,poulation_vaccinated))\n",
    "    #print(\"On Feb \",init_day+day,poulation_by_end_vaccinated,\" million were vaccinated\")\n",
    "\n",
    "vaccinated = 40\n",
    "total = 330\n",
    "poulation_by_end_vaccinated = 1.5*((1-(1+increasing_rate)**(11))/(1-(1+increasing_rate))) + vaccinated\n",
    "print(\"By Feb %d : %f %% of the population is vaccinated\"%(init_day+day,poulation_by_end_vaccinated /total*100))"
   ]
  },
  {
   "cell_type": "code",
   "execution_count": null,
   "metadata": {},
   "outputs": [],
   "source": []
  }
 ],
 "metadata": {
  "kernelspec": {
   "display_name": "Python 3",
   "language": "python",
   "name": "python3"
  },
  "language_info": {
   "codemirror_mode": {
    "name": "ipython",
    "version": 3
   },
   "file_extension": ".py",
   "mimetype": "text/x-python",
   "name": "python",
   "nbconvert_exporter": "python",
   "pygments_lexer": "ipython3",
   "version": "3.8.6"
  }
 },
 "nbformat": 4,
 "nbformat_minor": 4
}
