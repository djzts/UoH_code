{
 "cells": [
  {
   "cell_type": "markdown",
   "metadata": {},
   "source": [
    "## Objective\n",
    "$$\n",
    "\\sum_{e \\in E} c_e \\sum_{d = 1}^{Q} x^2_{e,d} + p \\sum_{e \\in E'} c_e \\sum_{d = 1}^{Q} (d-1) x^2_{e,d}\n",
    "$$"
   ]
  },
  {
   "cell_type": "markdown",
   "metadata": {},
   "source": [
    "## Constraint 1\n",
    "$$\n",
    "\\sum_{e \\in \\delta^+ (i)} \\sum_{d = 1}^{Q} x_{e,d} - 1\n",
    "$$\n",
    "$$\n",
    "\\Rightarrow (\\sum_{e \\in \\delta^+ (i)} \\sum_{d = 1}^{Q} x_{e,d} - 1)^2\n",
    "$$\n",
    "$$\n",
    "\\Rightarrow (\\sum_{e \\in \\delta^+ (i)} \\sum_{d = 1}^{Q} x_{e,d})^2 - 2\\sum_{e \\in \\delta^+ (i)} \\sum_{d = 1}^{Q} x_{e,d} +  1\n",
    "$$\n",
    "$$\n",
    "\\Rightarrow \\sum_{m, i \\in \\delta^+ (i)} \\sum_{n, j \\in Q}x_{i,j}x_{m,n} - 2\\sum_{e \\in \\delta^+ (i)} \\sum_{d = 1}^{Q} x_{e,d} +  1\n",
    "$$"
   ]
  },
  {
   "cell_type": "markdown",
   "metadata": {},
   "source": [
    "## Constraint 2\n",
    "$$\n",
    "\\sum_{e \\in \\delta^+ (i)} \\sum_{d = 1}^{Q} d x_{e,d}- \\sum_{e \\in \\delta^- (i)} \\sum_{d = 1}^{Q}d x_{e,d} - 1\n",
    "$$\n",
    "$$\n",
    "\\Rightarrow (\\sum_{e \\in \\delta^+ (i)} \\sum_{d = 1}^{Q} d x_{e,d}- \\sum_{e \\in \\delta^- (i)} \\sum_{d = 1}^{Q} d x_{e,d} - 1)^2 \\\\\n",
    "$$\n",
    "$$\n",
    "\\Rightarrow (A-B-1)^2\n",
    "$$\n",
    "$$\n",
    "\\Rightarrow (A-1)^2 + B^2 -2(A-1)B \n",
    "$$\n",
    "$$\n",
    "\\Rightarrow (A-1)^2 + (B^2-2B+1) -2(A-1)B-1 + 2B\n",
    "$$\n",
    "$$\n",
    "\\Rightarrow (A-1)^2 + (B-1)^2 -2AB + 4B - 1 \\\\\n",
    "$$\n",
    "\n",
    "$$\n",
    "\\Rightarrow (A-1)^2 + (B+1)^2 -2AB - 1 \\\\\n",
    "$$\n",
    "\n",
    "$$\n",
    "(A-1)^2\\Rightarrow  \\sum_{m, i \\in \\delta^+ (i)} \\sum_{n, j \\in Q}j n x_{i,j}x_{m,n} - 2\\sum_{e \\in \\delta^+ (i)} \\sum_{d = 1}^{Q} d x_{e,d}  +  1 \n",
    "$$\n",
    "$$\n",
    "(B-1)^2\\Rightarrow  \\sum_{m, i \\in \\delta^- (i)} \\sum_{n, j \\in Q}j n x_{i,j}x_{m,n} - 2\\sum_{e \\in \\delta^- (i)} \\sum_{d = 1}^{Q} d x_{e,d}  +  1 \n",
    "$$\n",
    "$$\n",
    "4B\\Rightarrow  \\sum_{e \\in \\delta^- (i)} \\sum_{d = 1}^{Q} 4 d x_{e,d}\n",
    "$$\n",
    "$$\n",
    "2AB\\Rightarrow  2\\sum_{e \\in \\delta^+ (i)} \\sum_{d = 1}^{Q} x_{e,d} \\sum_{e' \\in \\delta^- (i)} \\sum_{d' = 1}^{Q} x_{e',d'}\n",
    "= 2 \\sum_{d = 1}^{Q}  \\sum_{d' = 1}^{Q} d d' \\sum_{e \\in \\delta^+ (i)}\\sum_{e' \\in \\delta^- (i)} x_{e,d} x_{e',d'}\n",
    "$$"
   ]
  },
  {
   "cell_type": "markdown",
   "metadata": {},
   "source": [
    "## Constraint 3\n",
    "### part 1 ,we use slack var to solve the right inequality\n",
    "$$\n",
    "\\sum_{e\\in E\\backslash E'} x_{e,t} \\leq m_t^u\n",
    "$$\n",
    "if $$ m_t^u \\geq \\max \\sum_{e\\in E\\backslash E'} x_{e,t} $$\n",
    "add no slack Var. if not\n",
    "slack vars need(svn):\n",
    "$$ svn  = \\text{ceil}[\\log_2 ( \\sum_{e\\in E\\backslash E'} \\mathbb{1} -m_t^u)]] $$\n",
    "Then new penalty function is:\n",
    "$$\n",
    "\\sum_{e\\in E\\backslash E'} x_{e,t} - \\sum_{0\\leq i\\leq svn} 2^i x_{i,t}- m_t^u = 0\n",
    "$$\n",
    "the slack var will be formed like below:\n",
    "$$\n",
    "\\sum_{e\\in E\\backslash E'} x_{e,t} \\leq  m_t^u + x_1 + 2x_2 + 4x_3 + 8x_4 + ... \\\\\n",
    "$$\n",
    "Hence, the formulation is \n",
    "$$\n",
    "\\Rightarrow P(\\sum_{e\\in E\\backslash E'} x_{e,t} + \\sum_{0\\leq i\\leq svn} 2^i x_{i,t}- m_t^u)^2 \n",
    "$$\n",
    "$$\n",
    "\\Rightarrow P\\left[(\\sum_{e\\in E\\backslash E'} x_{e,t})^2 + (\\sum_{0\\leq i\\leq svn} 2^i x_{i,t})^2 + (m_t^u)^2 -\n",
    "\\sum_{0\\leq i\\leq svn} 2^{i+1} x_{i,t}m_t^u +\\sum_{0\\leq i\\leq svn} 2^{i+1} x_{i,t}\\sum_{e\\in E\\backslash E'} x_{e,t}-2m_t^u\\sum_{e\\in E\\backslash E'} x_{e,t}\\right]\n",
    "$$\n",
    "$$\n",
    "\\Rightarrow P\\left[(\\sum_{e,e'\\in E\\backslash E'} x_{e,t}x_{e',t}) - 2m_t^u\\sum_{e\\in E\\backslash E'} x_{e,t} + \\sum_{0\\leq i,j\\leq svn'} 2^{i+j} x'_{i,t}x'_{j,t} - \\sum_{0\\leq i\\leq svn'}2^{i+1} x'_{i,t}m_t^u + \\sum_{0\\leq i\\leq svn'}\\sum_{e\\in E\\backslash E'} 2^{i+1} x'_{i,t} x_{e,t} + (m_t^u)^2\\right]\n",
    "$$"
   ]
  },
  {
   "cell_type": "markdown",
   "metadata": {},
   "source": [
    "### part 2 (the counterpart)\n",
    "$$\n",
    " m_t^l  \\leq \\sum_{e\\in E\\backslash E'} x_e^t \n",
    "$$\n",
    "if $$ m_t^l =0\n",
    "$$\n",
    "add no slack Var. if not\n",
    "slack vars need (svn'):\n",
    "$$ svn'  = \\text{ceil}[\\log_2 ( m_t^l)]] $$\n",
    "Then new penalty function is:\n",
    "$$\n",
    "\\sum_{e\\in E\\backslash E'} x_{e,t} + \\sum_{0\\leq i\\leq svn'} 2^i x'_{i,t}- m_t^l = 0\n",
    "$$\n",
    "the slack var will be formed like below:\n",
    "$$\n",
    "m_t^l \\leq \\sum_{e\\in E \\backslash E'} x_{e,t} + x'_1 + 2x'_2 + 4x'_3 + 8x'_4 + ... \\\\\n",
    "$$\n",
    "Hence, the formulation is \n",
    "$$\n",
    "\\Rightarrow P(\\sum_{e\\in E \\backslash E'} x_{e,t} - \\sum_{0\\leq i\\leq svn'} 2^i x'_{i,t}- m_t^l)^2 \n",
    "$$\n",
    "$$\n",
    "\\Rightarrow P\\left[(\\sum_{e\\in E\\backslash E'} x_{e,t})^2 + (\\sum_{0\\leq i\\leq svn'} 2^i x'_{i,t})^2 + (m_t^u)^2 +\n",
    "2\\sum_{0\\leq i\\leq svn'} 2^i x'_{i,t}m_t^l - 2\\sum_{0\\leq i\\leq svn'} 2^i x'_{i,t}\\sum_{e\\in E\\backslash E'} x_{e,t} - 2m_t^l\\sum_{e\\in E\\backslash E'} x_{e,t}\\right]\n",
    "$$\n",
    "\n",
    "$$\n",
    "\\Rightarrow P\\left[(\\sum_{e,e'\\in E\\backslash E'} x_{e,t}x_{e',t}) - 2m_t^l\\sum_{e\\in E\\backslash E'} x_{e,t} + \\sum_{0\\leq i,j\\leq svn'} 2^{i+j} x'_{i,t}x'_{j,t} + \\sum_{0\\leq i\\leq svn'}2^{i+1} x'_{i,t}m_t^l - \\sum_{0\\leq i\\leq svn'}\\sum_{e\\in E\\backslash E'} 2^{i+1} x'_{i,t} x_{e,t} + (m_t^l)^2\\right]\n",
    "$$\n",
    "\n",
    "original QUBO matrix will be padding $ t$ class , there are $$\\text{ceil}[\\log_2 ( m_t^l)]] + \\text{ceil}[\\log_2 ( \\sum_{e\\in E \\backslash E'} \\mathbb{1} -m_t^u)]] $$ slack variables in each class"
   ]
  },
  {
   "cell_type": "markdown",
   "metadata": {},
   "source": [
    "## contraint 4\n",
    "need larger penalty $P' = 10^3$.\n",
    "\n",
    "$$\n",
    "\\Rightarrow P\\left( \\left\\{x_{e,t} \\mid  e\\in E \\backslash E', t\\not\\in T \\right\\} \\right)\n",
    "$$"
   ]
  }
 ],
 "metadata": {
  "kernelspec": {
   "display_name": "Python 3",
   "language": "python",
   "name": "python3"
  },
  "language_info": {
   "codemirror_mode": {
    "name": "ipython",
    "version": 3
   },
   "file_extension": ".py",
   "mimetype": "text/x-python",
   "name": "python",
   "nbconvert_exporter": "python",
   "pygments_lexer": "ipython3",
   "version": "3.8.6"
  }
 },
 "nbformat": 4,
 "nbformat_minor": 4
}
