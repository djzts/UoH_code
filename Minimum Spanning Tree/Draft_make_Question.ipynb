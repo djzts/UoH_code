{
 "cells": [
  {
   "cell_type": "code",
   "execution_count": 323,
   "metadata": {},
   "outputs": [],
   "source": [
    "import networkx as nx\n",
    "import numpy as np\n",
    "from collections import defaultdict\n",
    "import random\n"
   ]
  },
  {
   "cell_type": "code",
   "execution_count": 337,
   "metadata": {},
   "outputs": [],
   "source": [
    "# setup a random symmetric 2D matrix with 0 diag (a point won't connect it self)\n",
    "def Make_Question(n):\n",
    "    G_ori = np.around(np.random.rand(n, n),decimals=3)\n",
    "    G_final = G_ori - np.diag(np.diag(G_ori))\n",
    "    Question =  (G_final + G_final.T)/2\n",
    "    return Question\n",
    "# ------- Set up our graph -------\n",
    "\n",
    "\n",
    "                      \n"
   ]
  },
  {
   "cell_type": "code",
   "execution_count": 371,
   "metadata": {},
   "outputs": [
    {
     "name": "stdout",
     "output_type": "stream",
     "text": [
      "[[0. 1. 2.]\n",
      " [0. 1. 2.]\n",
      " [0. 1. 2.]\n",
      " [0. 1. 2.]\n",
      " [0. 1. 2.]\n",
      " [0. 1. 2.]\n",
      " [0. 1. 2.]]\n"
     ]
    }
   ],
   "source": [
    "long = 3\n",
    "high = 7\n",
    "nx, ny = (long, high)\n",
    "x = np.arange(nx,dtype=float)\n",
    "y = np.arange(ny,dtype=float)\n",
    "xv, yv = np.meshgrid(x, y)\n",
    "print(xv)"
   ]
  },
  {
   "cell_type": "code",
   "execution_count": 372,
   "metadata": {},
   "outputs": [
    {
     "name": "stdout",
     "output_type": "stream",
     "text": [
      "[[0. 0. 0.]\n",
      " [1. 1. 1.]\n",
      " [2. 2. 2.]\n",
      " [3. 3. 3.]\n",
      " [4. 4. 4.]\n",
      " [5. 5. 5.]\n",
      " [6. 6. 6.]]\n"
     ]
    },
    {
     "data": {
      "text/plain": [
       "numpy.ndarray"
      ]
     },
     "execution_count": 372,
     "metadata": {},
     "output_type": "execute_result"
    }
   ],
   "source": [
    "print(yv)\n",
    "type(yv)"
   ]
  },
  {
   "cell_type": "code",
   "execution_count": 375,
   "metadata": {},
   "outputs": [
    {
     "name": "stdout",
     "output_type": "stream",
     "text": [
      "[[0.0625 0.25   0.0625]\n",
      " [0.0625 0.25   0.0625]\n",
      " [0.0625 0.25   0.0625]\n",
      " [0.0625 0.25   0.0625]\n",
      " [0.0625 0.25   0.0625]\n",
      " [0.0625 0.25   0.0625]\n",
      " [0.0625 0.25   0.0625]]\n",
      "[[0.00390625 0.00390625 0.00390625]\n",
      " [0.015625   0.015625   0.015625  ]\n",
      " [0.0625     0.0625     0.0625    ]\n",
      " [0.25       0.25       0.25      ]\n",
      " [0.0625     0.0625     0.0625    ]\n",
      " [0.015625   0.015625   0.015625  ]\n",
      " [0.00390625 0.00390625 0.00390625]]\n",
      "[[0.00024414 0.00097656 0.00024414]\n",
      " [0.00097656 0.00390625 0.00097656]\n",
      " [0.00390625 0.015625   0.00390625]\n",
      " [0.015625   0.0625     0.015625  ]\n",
      " [0.00390625 0.015625   0.00390625]\n",
      " [0.00097656 0.00390625 0.00097656]\n",
      " [0.00024414 0.00097656 0.00024414]]\n",
      "[[0.00157233 0.00628931 0.00157233]\n",
      " [0.00628931 0.02515723 0.00628931]\n",
      " [0.02515723 0.10062893 0.02515723]\n",
      " [0.10062893 0.40251572 0.10062893]\n",
      " [0.02515723 0.10062893 0.02515723]\n",
      " [0.00628931 0.02515723 0.00628931]\n",
      " [0.00157233 0.00628931 0.00157233]]\n"
     ]
    }
   ],
   "source": [
    "Px = np.power(4,-np.abs(xv-long//2)-1)\n",
    "print(Px)\n",
    "Py = np.power(4,-np.abs(yv-high//2)-1)\n",
    "print(Py)\n",
    "mesh_porbability = np.multiply(Px,Py)\n",
    "print(np.multiply(Px,Py))\n",
    "final_probability = np.multiply(Px,Py)/np.sum(mesh_porbability)\n",
    "print(np.multiply(Px,Py)/np.sum(mesh_porbability))"
   ]
  },
  {
   "cell_type": "code",
   "execution_count": 376,
   "metadata": {},
   "outputs": [
    {
     "name": "stdout",
     "output_type": "stream",
     "text": [
      "1.0000000000000002\n"
     ]
    }
   ],
   "source": [
    "print(np.sum(final_probability))\n"
   ]
  },
  {
   "cell_type": "code",
   "execution_count": 383,
   "metadata": {},
   "outputs": [
    {
     "name": "stdout",
     "output_type": "stream",
     "text": [
      "15\n",
      "[ 4 12 10 13 14  7 11  9  8 16  6 18  1  3 15]\n"
     ]
    }
   ],
   "source": [
    "from numpy import random\n",
    "m = np.int(3.0/4.0*long*high)\n",
    "print(m)\n",
    "allocation = np.random.choice(np.arange(long*high), m, replace=False, p = final_probability.flatten())\n",
    "print(allocation)"
   ]
  },
  {
   "cell_type": "code",
   "execution_count": 389,
   "metadata": {},
   "outputs": [
    {
     "name": "stdout",
     "output_type": "stream",
     "text": [
      "[ 4 12 10 13 14  7 11  9  8 16  6 18  1  3 15]\n",
      "[0 1 1 1 2 1 1 1 1 2 0 2 0 0 2]\n",
      "[4 5 3 6 0 0 4 2 1 2 6 4 1 3 1]\n"
     ]
    },
    {
     "data": {
      "image/png": "[encoded data removed]",
      "text/plain": [
       "<Figure size 432x288 with 1 Axes>"
      ]
     },
     "metadata": {
      "needs_background": "light"
     },
     "output_type": "display_data"
    }
   ],
   "source": [
    "print(allocation)\n",
    "x = allocation // high\n",
    "print(x)\n",
    "y = allocation %  high\n",
    "print(y)\n",
    "plt.plot(x, y, 'o', color='black');"
   ]
  },
  {
   "cell_type": "code",
   "execution_count": 351,
   "metadata": {},
   "outputs": [
    {
     "name": "stdout",
     "output_type": "stream",
     "text": [
      "[[3 1]\n",
      " [1 3]\n",
      " [2 2]\n",
      " [4 3]\n",
      " [1 1]\n",
      " [2 3]\n",
      " [2 1]\n",
      " [3 4]\n",
      " [1 2]\n",
      " [3 3]\n",
      " [3 0]\n",
      " [3 2]\n",
      " [2 4]\n",
      " [2 0]\n",
      " [4 0]\n",
      " [0 2]\n",
      " [0 1]\n",
      " [4 2]]\n"
     ]
    }
   ],
   "source": [
    "vertices = np.vstack((x, y)).T\n",
    "print(vertices)"
   ]
  },
  {
   "cell_type": "code",
   "execution_count": 352,
   "metadata": {},
   "outputs": [
    {
     "name": "stdout",
     "output_type": "stream",
     "text": [
      "[3 1]\n",
      "[[0 0]\n",
      " [2 2]\n",
      " [1 1]\n",
      " [1 2]\n",
      " [2 0]\n",
      " [1 2]\n",
      " [1 0]\n",
      " [0 3]\n",
      " [2 1]\n",
      " [0 2]\n",
      " [0 1]\n",
      " [0 1]\n",
      " [1 3]\n",
      " [1 1]\n",
      " [1 1]\n",
      " [3 1]\n",
      " [3 0]\n",
      " [1 1]]\n",
      "[0.         2.82842712 1.41421356 2.23606798 2.         2.23606798\n",
      " 1.         3.         2.23606798 2.         1.         1.\n",
      " 3.16227766 1.41421356 1.41421356 3.16227766 3.         1.41421356]\n",
      "(array([ 0,  2,  6, 10, 11, 13, 14, 17], dtype=int64),)\n"
     ]
    }
   ],
   "source": [
    "example = vertices[0]\n",
    "print(example)\n",
    "print(np.abs(vertices-example))\n",
    "#print(np.sum(np.abs(vertices-example),axis = 1))\n",
    "print(np.linalg.norm(np.abs(vertices-example),axis = 1))\n",
    "\n",
    "\n",
    "#print(np.where(np.sum(np.abs(vertices-example),axis = 1) == 1))\n",
    "print(np.where(np.linalg.norm(np.abs(vertices-example),axis = 1) < 2))"
   ]
  },
  {
   "cell_type": "code",
   "execution_count": 353,
   "metadata": {},
   "outputs": [
    {
     "name": "stdout",
     "output_type": "stream",
     "text": [
      "[[0. 0. 0. 0. 0. 0. 1. 0. 0. 0. 1. 1. 0. 0. 0. 0. 0. 0.]\n",
      " [0. 0. 0. 0. 0. 1. 0. 0. 1. 0. 0. 0. 0. 0. 0. 0. 0. 0.]\n",
      " [0. 0. 0. 0. 0. 1. 1. 0. 1. 0. 0. 1. 0. 0. 0. 0. 0. 0.]\n",
      " [0. 0. 0. 0. 0. 0. 0. 0. 0. 1. 0. 0. 0. 0. 0. 0. 0. 1.]\n",
      " [0. 0. 0. 0. 0. 0. 1. 0. 1. 0. 0. 0. 0. 0. 0. 0. 1. 0.]\n",
      " [0. 1. 1. 0. 0. 0. 0. 0. 0. 1. 0. 0. 1. 0. 0. 0. 0. 0.]\n",
      " [1. 0. 1. 0. 1. 0. 0. 0. 0. 0. 0. 0. 0. 1. 0. 0. 0. 0.]\n",
      " [0. 0. 0. 0. 0. 0. 0. 0. 0. 1. 0. 0. 1. 0. 0. 0. 0. 0.]\n",
      " [0. 1. 1. 0. 1. 0. 0. 0. 0. 0. 0. 0. 0. 0. 0. 1. 0. 0.]\n",
      " [0. 0. 0. 1. 0. 1. 0. 1. 0. 0. 0. 1. 0. 0. 0. 0. 0. 0.]\n",
      " [1. 0. 0. 0. 0. 0. 0. 0. 0. 0. 0. 0. 0. 1. 1. 0. 0. 0.]\n",
      " [1. 0. 1. 0. 0. 0. 0. 0. 0. 1. 0. 0. 0. 0. 0. 0. 0. 1.]\n",
      " [0. 0. 0. 0. 0. 1. 0. 1. 0. 0. 0. 0. 0. 0. 0. 0. 0. 0.]\n",
      " [0. 0. 0. 0. 0. 0. 1. 0. 0. 0. 1. 0. 0. 0. 0. 0. 0. 0.]\n",
      " [0. 0. 0. 0. 0. 0. 0. 0. 0. 0. 1. 0. 0. 0. 0. 0. 0. 0.]\n",
      " [0. 0. 0. 0. 0. 0. 0. 0. 1. 0. 0. 0. 0. 0. 0. 0. 1. 0.]\n",
      " [0. 0. 0. 0. 1. 0. 0. 0. 0. 0. 0. 0. 0. 0. 0. 1. 0. 0.]\n",
      " [0. 0. 0. 1. 0. 0. 0. 0. 0. 0. 0. 1. 0. 0. 0. 0. 0. 0.]]\n",
      "[[0. 1. 1. 1. 1. 1. 1. 1. 1. 1. 1. 1. 1. 1. 1. 1. 1. 1. 1.]\n",
      " [0. 0. 0. 0. 0. 0. 0. 1. 0. 0. 0. 1. 1. 0. 0. 0. 0. 0. 0.]\n",
      " [0. 0. 0. 0. 0. 0. 1. 0. 0. 1. 0. 0. 0. 0. 0. 0. 0. 0. 0.]\n",
      " [0. 0. 0. 0. 0. 0. 1. 1. 0. 1. 0. 0. 1. 0. 0. 0. 0. 0. 0.]\n",
      " [0. 0. 0. 0. 0. 0. 0. 0. 0. 0. 1. 0. 0. 0. 0. 0. 0. 0. 1.]\n",
      " [0. 0. 0. 0. 0. 0. 0. 1. 0. 1. 0. 0. 0. 0. 0. 0. 0. 1. 0.]\n",
      " [0. 0. 0. 0. 0. 0. 0. 0. 0. 0. 1. 0. 0. 1. 0. 0. 0. 0. 0.]\n",
      " [0. 0. 0. 0. 0. 0. 0. 0. 0. 0. 0. 0. 0. 0. 1. 0. 0. 0. 0.]\n",
      " [0. 0. 0. 0. 0. 0. 0. 0. 0. 0. 1. 0. 0. 1. 0. 0. 0. 0. 0.]\n",
      " [0. 0. 0. 0. 0. 0. 0. 0. 0. 0. 0. 0. 0. 0. 0. 0. 1. 0. 0.]\n",
      " [0. 0. 0. 0. 0. 0. 0. 0. 0. 0. 0. 0. 1. 0. 0. 0. 0. 0. 0.]\n",
      " [0. 0. 0. 0. 0. 0. 0. 0. 0. 0. 0. 0. 0. 0. 1. 1. 0. 0. 0.]\n",
      " [0. 0. 0. 0. 0. 0. 0. 0. 0. 0. 0. 0. 0. 0. 0. 0. 0. 0. 1.]\n",
      " [0. 0. 0. 0. 0. 0. 0. 0. 0. 0. 0. 0. 0. 0. 0. 0. 0. 0. 0.]\n",
      " [0. 0. 0. 0. 0. 0. 0. 0. 0. 0. 0. 0. 0. 0. 0. 0. 0. 0. 0.]\n",
      " [0. 0. 0. 0. 0. 0. 0. 0. 0. 0. 0. 0. 0. 0. 0. 0. 0. 0. 0.]\n",
      " [0. 0. 0. 0. 0. 0. 0. 0. 0. 0. 0. 0. 0. 0. 0. 0. 0. 1. 0.]\n",
      " [0. 0. 0. 0. 0. 0. 0. 0. 0. 0. 0. 0. 0. 0. 0. 0. 0. 0. 0.]\n",
      " [0. 0. 0. 0. 0. 0. 0. 0. 0. 0. 0. 0. 0. 0. 0. 0. 0. 0. 0.]]\n"
     ]
    }
   ],
   "source": [
    "network = np.zeros((m,m))\n",
    "for i, vertex in enumerate(vertices):\n",
    "    example = vertices[i]\n",
    "    # adjacent option\n",
    "    index = np.where(np.sum(np.abs(vertices-example),axis = 1) == 1)\n",
    "    # include diag\n",
    "    # index = np.where(np.linalg.norm(np.abs(vertices-example),axis = 1) < 2)\n",
    "    \n",
    "    network[i][index] = 1\n",
    "\n",
    "print(network)\n",
    "network_adv = np.triu(np.pad(network, ((1,0), (1,0)), 'constant', constant_values=(1, 1)),k=1)\n",
    "print(network_adv)"
   ]
  },
  {
   "cell_type": "code",
   "execution_count": 355,
   "metadata": {},
   "outputs": [
    {
     "name": "stdout",
     "output_type": "stream",
     "text": [
      "(3, 1)\n",
      "(1, 3)\n",
      "(2, 2)\n",
      "(4, 3)\n",
      "(1, 1)\n",
      "(2, 3)\n",
      "(2, 1)\n",
      "(3, 4)\n",
      "(1, 2)\n",
      "(3, 3)\n",
      "(3, 0)\n",
      "(3, 2)\n",
      "(2, 4)\n",
      "(2, 0)\n",
      "(4, 0)\n",
      "(0, 2)\n",
      "(0, 1)\n",
      "(4, 2)\n"
     ]
    },
    {
     "data": {
      "image/png": "[encoded data removed]",
      "text/plain": [
       "<Figure size 432x288 with 1 Axes>"
      ]
     },
     "metadata": {},
     "output_type": "display_data"
    }
   ],
   "source": [
    "import networkx as nx\n",
    "G = nx.from_numpy_matrix(network_adv)\n",
    "pos = {0: (n+1,n)} \n",
    "for i, vertex in enumerate(vertices):\n",
    "    temp_pos = (vertex[0],vertex[1])\n",
    "    print(temp_pos)\n",
    "    pos.update({i+1: temp_pos})\n",
    "   \n",
    "nx.draw(G,pos,with_labels = True)"
   ]
  },
  {
   "cell_type": "code",
   "execution_count": null,
   "metadata": {},
   "outputs": [],
   "source": []
  },
  {
   "cell_type": "code",
   "execution_count": null,
   "metadata": {},
   "outputs": [],
   "source": []
  }
 ],
 "metadata": {
  "kernelspec": {
   "display_name": "Python 3",
   "language": "python",
   "name": "python3"
  },
  "language_info": {
   "codemirror_mode": {
    "name": "ipython",
    "version": 3
   },
   "file_extension": ".py",
   "mimetype": "text/x-python",
   "name": "python",
   "nbconvert_exporter": "python",
   "pygments_lexer": "ipython3",
   "version": "3.8.6"
  }
 },
 "nbformat": 4,
 "nbformat_minor": 4
}
