{
 "cells": [
  {
   "cell_type": "code",
   "execution_count": 2,
   "id": "bf48159c",
   "metadata": {},
   "outputs": [
    {
     "data": {
      "text/html": [
       "<style>.container { width:100% !important; }</style>"
      ],
      "text/plain": [
       "<IPython.core.display.HTML object>"
      ]
     },
     "metadata": {},
     "output_type": "display_data"
    }
   ],
   "source": [
    "import numpy as np\n",
    "from collections import defaultdict\n",
    "import random\n",
    "from numpy import random\n",
    "import matplotlib.pyplot as plt\n",
    "\n",
    "\n",
    "from collections import defaultdict\n",
    "\n",
    "from dwave.system.samplers import DWaveSampler\n",
    "from dwave.system.composites import EmbeddingComposite\n",
    "import networkx as nx\n",
    "import numpy as np\n",
    "import dwave.inspector\n",
    "import dimod\n",
    "from dwave.system import LeapHybridSampler\n",
    "import matplotlib\n",
    "from IPython.core.display import display, HTML\n",
    "display(HTML(\"<style>.container { width:100% !important; }</style>\"))\n",
    "\n",
    "\n",
    "## Quantum Part\n",
    "from collections import defaultdict\n",
    "\n",
    "from dwave.system.samplers import DWaveSampler\n",
    "from dwave.system.composites import EmbeddingComposite\n",
    "import networkx as nx\n",
    "import numpy as np\n",
    "import dwave.inspector\n",
    "import dimod\n",
    "from dwave.system import LeapHybridSampler\n",
    "import matplotlib\n",
    "from matplotlib import pyplot as plt"
   ]
  },
  {
   "cell_type": "code",
   "execution_count": 3,
   "id": "2bb2b037",
   "metadata": {},
   "outputs": [],
   "source": [
    "def make_dictionary():\n",
    "    Var_dictionary = {}\n",
    "    # set-up a dictionary\n",
    "    Total = 0\n",
    "    # x input\n",
    "    for e in range(2):\n",
    "        Var_dictionary[\"x_%d\"%(e)] = int(e)\n",
    "    Total = len(Var_dictionary)   \n",
    "    return Var_dictionary, Total"
   ]
  },
  {
   "cell_type": "code",
   "execution_count": 4,
   "id": "9c603917",
   "metadata": {},
   "outputs": [],
   "source": [
    "def show_graph(matrix):\n",
    "    matfig = plt.figure(figsize=(9,9)) \n",
    "    plt.matshow(matrix,fignum=matfig.number)\n",
    "    plt.colorbar()\n",
    "    plt.show() "
   ]
  },
  {
   "cell_type": "code",
   "execution_count": 5,
   "id": "cdcd3198",
   "metadata": {},
   "outputs": [],
   "source": [
    "def dot(*mats):\n",
    "    A = mats[0]\n",
    "    for B in mats[1:]:\n",
    "        A = np.dot(A,B)    \n",
    "    return A\n",
    "        "
   ]
  },
  {
   "cell_type": "markdown",
   "id": "52491d20",
   "metadata": {},
   "source": [
    "## Objective\n",
    "$$\n",
    "\\max 8y_{1} + 9y_{1} + 5y_{3} + 6y_{4} -15x_{1} - 10x_{2} \n",
    "$$\n",
    "\n",
    "$$\n",
    "s.t. \\quad y_{1} + y_{3} \\leq 1\n",
    "$$\n",
    "\n",
    "$$\n",
    "\\qquad \\  y_{1} + y_{4} \\leq 1\n",
    "$$\n",
    "\n",
    "$$\n",
    "\\qquad \\  y_{2} + y_{3} \\leq 1\n",
    "$$\n",
    "\n",
    "$$\n",
    "\\qquad \\  y_{2} + y_{4} \\leq 1\n",
    "$$\n",
    "\n",
    "$$\n",
    "\\qquad \\  x_{1} + x_{2} \\geq 1\n",
    "$$\n",
    "\n",
    "$$\n",
    "\\qquad \\  y_{1} - x_{1} \\leq 0\n",
    "$$\n",
    "\n",
    "$$\n",
    "\\qquad \\  y_{2} - x_{1} \\leq 0\n",
    "$$\n",
    "\n",
    "$$\n",
    "\\qquad \\  y_{3} - x_{2} \\leq 0\n",
    "$$\n",
    "\n",
    "$$\n",
    "\\qquad \\  y_{4} - x_{2} \\leq 0\n",
    "$$\n",
    "\n",
    "$$\n",
    "\\qquad \\ \\forall \\ j \\quad y_{j} \\geq 0\n",
    "$$"
   ]
  },
  {
   "cell_type": "markdown",
   "id": "37b77e85",
   "metadata": {},
   "source": [
    "## The Master problem\n",
    "\n",
    "$$\n",
    "\\max_{x,t} \\, c^{\\intercal} x + t\n",
    "$$\n",
    "\n",
    "$$\n",
    "s.t. \\quad (b-Ax)^{\\intercal}u^{k} \\geq t \\quad \\forall k \\in K\n",
    "$$\n",
    "\n",
    "$$\n",
    "\\qquad \\ (b-Ax)^{\\intercal}r^{j} \\geq 0 \\quad \\forall j \\in J\n",
    "$$\n",
    "\n",
    "$$\n",
    "t \\in \\mathbb{R} \\ , \\  x\\in X\n",
    "$$\n"
   ]
  },
  {
   "cell_type": "markdown",
   "id": "e29985dd",
   "metadata": {},
   "source": [
    "## The Rewritten Master problem\n",
    "\n",
    "$$\n",
    "\\max_{x,t} \\, c^{\\intercal} x + t\n",
    "$$\n",
    "\n",
    "$$\n",
    "s.t. \\quad t +\\left(u^{k}\\right)^{\\intercal}Ax \\geq b^{\\intercal}u^{k} \\quad \\forall k \\in K\n",
    "$$\n",
    "\n",
    "$$\n",
    "\\qquad \\ \\left(r^{j}\\right)^{\\intercal}Ax \\geq b^{\\intercal}r^{j} \\quad \\forall j \\in J\n",
    "$$\n",
    "\n",
    "$$\n",
    "t \\in \\mathbb{R} \\ , \\  x\\in X\n",
    "$$"
   ]
  },
  {
   "cell_type": "markdown",
   "id": "ec246142",
   "metadata": {},
   "source": [
    "## Initial relaxed Master Problem\n",
    "The first four constraints imply $y_{j} \\leq 1$ for $j = 1, . . . , 4$, for any choice of $x$.\n",
    "Thus, we can get a very simple bound for the problem: set $y_{j} = 1$ for $j = 1, . . . , 4$. This gives a value of $28$ from the $y$ variables.\n",
    "\n"
   ]
  },
  {
   "cell_type": "code",
   "execution_count": 6,
   "id": "883c349c",
   "metadata": {},
   "outputs": [],
   "source": [
    "A = np.array([[0, 0],\n",
    "              [0, 0],\n",
    "              [0, 0],\n",
    "              [0, 0],\n",
    "              [-1, -1],\n",
    "              [-1, 0],\n",
    "              [-1, 0],\n",
    "              [0, -1],\n",
    "              [0, -1],])\n",
    "\n",
    "G = np.array([[1,0,1,0], \n",
    "              [1,0,0,1],\n",
    "              [0,1,1,0],\n",
    "              [0,1,0,1],\n",
    "              [0,0,0,0],\n",
    "              [1,0,0,0],\n",
    "              [0,1,0,0],\n",
    "              [0,0,1,0],\n",
    "              [0,0,0,1],\n",
    "             ])\n",
    "b = np.array([1,1,1,1,-1,0,0,0,0])\n",
    "\n",
    "c = np.array([-15.0,-10.0])\n",
    "\n",
    "h = np.array([8,9,5,6])"
   ]
  },
  {
   "cell_type": "code",
   "execution_count": 7,
   "id": "bf635b7a",
   "metadata": {},
   "outputs": [],
   "source": [
    "#obj\n",
    "\n",
    "QUBO_matrix_initial = np.zeros((2,2))\n",
    "Var_dic, length = make_dictionary()\n",
    "\n",
    "# OBJ\n",
    "QUBO = np.diag(np.abs(c))  \n",
    "\n",
    "# Select a solver\n",
    "sampler = LeapHybridSampler()\n",
    "\n",
    "sampleset = sampler.sample_qubo(QUBO)\n"
   ]
  },
  {
   "cell_type": "code",
   "execution_count": 8,
   "id": "1b240ef2",
   "metadata": {},
   "outputs": [
    {
     "name": "stdout",
     "output_type": "stream",
     "text": [
      "result x = : [0. 0.]\n"
     ]
    }
   ],
   "source": [
    "OP = sampleset.to_pandas_dataframe()\n",
    "OP_final = OP.to_numpy()[0]\n",
    "result = OP_final[:length]\n",
    "print(\"result x = :\",result)"
   ]
  },
  {
   "cell_type": "code",
   "execution_count": 9,
   "id": "42d1367b",
   "metadata": {},
   "outputs": [],
   "source": [
    "x = result\n",
    "obj = b-np.dot(A,x)"
   ]
  },
  {
   "cell_type": "markdown",
   "id": "ba7669c7",
   "metadata": {},
   "source": []
  },
  {
   "cell_type": "code",
   "execution_count": 10,
   "id": "d4f18f59",
   "metadata": {},
   "outputs": [],
   "source": [
    "from scipy.optimize import linprog"
   ]
  },
  {
   "cell_type": "code",
   "execution_count": 11,
   "id": "1685f17e",
   "metadata": {},
   "outputs": [],
   "source": [
    "#obj = [+1, +1, 1, 1, -1, 0, 0, 0, 0]\n",
    "#      ─┬  ─┬  \n",
    "#       │   │  .......\n",
    "#       │   └┤ Coefficient for u2\n",
    "#       └────┤ Coefficient for u1\n",
    "\n",
    "lhs_ineq = [[-1, -1, -0, -0, -0, -1, -0, -0, -0],\n",
    "            [-0, -0, -1, -1, -0, -0, -1, -0, -0],\n",
    "            [-1, -0, -1, -0, -0, -0, -0, -1, -0],\n",
    "            [-0, -1, -0, -1, -0, -1, -0, -0, -1]]\n",
    "\n",
    "rhs_ineq = [-8,\n",
    "            -9,\n",
    "            -5,\n",
    "            -6]\n",
    "\n",
    "bnd = [(0, float(\"inf\")),\n",
    "       (0, float(\"inf\")),\n",
    "       (0, float(\"inf\")),\n",
    "       (0, float(\"inf\")),\n",
    "       (0, float(\"inf\")),\n",
    "       (0, float(\"inf\")),\n",
    "       (0, float(\"inf\")),\n",
    "       (0, float(\"inf\")),   \n",
    "       (0, float(\"inf\")),]  # Bounds of u s\n",
    "\n",
    "opt = linprog(c=obj, A_ub=lhs_ineq, b_ub=rhs_ineq, bounds=bnd,method=\"revised simplex\")"
   ]
  },
  {
   "cell_type": "code",
   "execution_count": 12,
   "id": "d31e78f1",
   "metadata": {},
   "outputs": [],
   "source": [
    "r = np.sign(opt['x'])"
   ]
  },
  {
   "cell_type": "code",
   "execution_count": 13,
   "id": "33d358f9",
   "metadata": {},
   "outputs": [
    {
     "name": "stdout",
     "output_type": "stream",
     "text": [
      "[-1. -1.] <= -1.0\n"
     ]
    }
   ],
   "source": [
    "cons_add_lhs = dot(r,A)\n",
    "cons_add_rhs = dot(b,r)\n",
    "print(cons_add_lhs,\"<=\",cons_add_rhs)"
   ]
  },
  {
   "cell_type": "code",
   "execution_count": 14,
   "id": "aef636ed",
   "metadata": {},
   "outputs": [
    {
     "name": "stdout",
     "output_type": "stream",
     "text": [
      "[1. 1.] >= 1.0\n"
     ]
    }
   ],
   "source": [
    "symbol = \"<=\"\n",
    "if np.sign(cons_add_rhs) == -1:\n",
    "    symbol = \">=\"\n",
    "\n",
    "cons_add_lhs_final = np.sign(cons_add_rhs) * cons_add_lhs\n",
    "cons_add_rhs_final = np.sign(cons_add_rhs) * cons_add_rhs\n",
    "\n",
    "\n",
    "print(cons_add_lhs_final, symbol, cons_add_rhs_final)"
   ]
  },
  {
   "cell_type": "code",
   "execution_count": 15,
   "id": "e8024b09",
   "metadata": {},
   "outputs": [
    {
     "data": {
      "text/plain": [
       "array([[-1. ,  0.5],\n",
       "       [ 0.5, -1. ]])"
      ]
     },
     "execution_count": 15,
     "metadata": {},
     "output_type": "execute_result"
    }
   ],
   "source": [
    "np.asarray(0.5 * (np.outer(cons_add_lhs_final,cons_add_lhs_final) - 3.0 * np.diag(cons_add_lhs_final)))"
   ]
  },
  {
   "cell_type": "code",
   "execution_count": 16,
   "id": "87101bb5",
   "metadata": {},
   "outputs": [
    {
     "name": "stdout",
     "output_type": "stream",
     "text": [
      "[[-735.  375.]\n",
      " [ 375. -740.]]\n"
     ]
    },
    {
     "data": {
      "image/png": "[encoded data removed]",
      "text/plain": [
       "<Figure size 648x648 with 2 Axes>"
      ]
     },
     "metadata": {
      "needs_background": "light"
     },
     "output_type": "display_data"
    }
   ],
   "source": [
    "# Obj\n",
    "QUBO = np.diag(np.abs(c))  \n",
    "\n",
    "# add constraint (r1)^{T} Ax ≤ b^{T} r1 to (RMP):\n",
    "\n",
    "Penalty = np.max(np.abs(c))*50\n",
    "\n",
    "QUBO += Penalty * np.asarray(0.5 * (np.outer(cons_add_lhs_final,cons_add_lhs_final) - 3.0 * np.diag(cons_add_lhs_final)))\n",
    "\n",
    "print(QUBO)\n",
    "show_graph(QUBO)\n",
    "\n",
    "# Select a solver\n",
    "sampler = LeapHybridSampler()\n",
    "\n",
    "sampleset = sampler.sample_qubo(QUBO)"
   ]
  },
  {
   "cell_type": "code",
   "execution_count": 17,
   "id": "9104065e",
   "metadata": {},
   "outputs": [
    {
     "name": "stdout",
     "output_type": "stream",
     "text": [
      "result x = : [0. 1.]\n"
     ]
    }
   ],
   "source": [
    "OP = sampleset.to_pandas_dataframe()\n",
    "OP_final = OP.to_numpy()[0]\n",
    "result = OP_final[:length]\n",
    "print(\"result x = :\",result)"
   ]
  },
  {
   "cell_type": "code",
   "execution_count": 18,
   "id": "71717053",
   "metadata": {},
   "outputs": [
    {
     "name": "stdout",
     "output_type": "stream",
     "text": [
      "[1. 1. 1. 1. 0. 0. 0. 1. 1.]\n"
     ]
    }
   ],
   "source": [
    "x = result\n",
    "obj = b-np.dot(A,x)\n",
    "print(obj)"
   ]
  },
  {
   "cell_type": "code",
   "execution_count": 24,
   "id": "2cd62e7f",
   "metadata": {},
   "outputs": [
    {
     "name": "stdout",
     "output_type": "stream",
     "text": [
      "[[-1, -1, 0, 0, 0, -1, 0, 0, 0], [0, 0, -1, -1, 0, 0, -1, 0, 0], [-1, 0, -1, 0, 0, 0, 0, -1, 0], [0, -1, 0, -1, 0, -1, 0, 0, -1]]\n",
      "[-8, -9, -5, -6]\n"
     ]
    }
   ],
   "source": [
    "print(lhs_ineq)\n",
    "print(rhs_ineq)"
   ]
  },
  {
   "cell_type": "code",
   "execution_count": 26,
   "id": "f687a8b7",
   "metadata": {},
   "outputs": [],
   "source": [
    "opt = linprog(c=obj, A_ub=lhs_ineq, b_ub=rhs_ineq, bounds=bnd,method=\"simplex\")"
   ]
  },
  {
   "cell_type": "code",
   "execution_count": 46,
   "id": "06a4a907",
   "metadata": {},
   "outputs": [
    {
     "name": "stdout",
     "output_type": "stream",
     "text": [
      "     con: array([], dtype=float64)\n",
      "     fun: 5.000000000004908\n",
      " message: 'Optimization terminated successfully.'\n",
      "     nit: 5\n",
      "   slack: array([ 1.84328402e+00,  1.49594542e+00, -7.44559969e-12,  2.41302602e+00])\n",
      "  status: 0\n",
      " success: True\n",
      "       x: array([1.43025800e+00, 8.73380824e-12, 2.16349619e+00, 1.02671838e-12,\n",
      "       2.49982544e+00, 8.41302602e+00, 8.33244923e+00, 1.40624581e+00,\n",
      "       2.59350723e-12])\n"
     ]
    }
   ],
   "source": [
    "print(opt)"
   ]
  },
  {
   "cell_type": "code",
   "execution_count": 22,
   "id": "d055458c",
   "metadata": {},
   "outputs": [
    {
     "name": "stdout",
     "output_type": "stream",
     "text": [
      "[-12.   0.] <= 5.0\n"
     ]
    }
   ],
   "source": [
    "r = opt['x']\n",
    "cons_add_lhs = dot(r,A)\n",
    "cons_add_rhs = dot(b,r)\n",
    "print(cons_add_lhs,\"<=\",cons_add_rhs)"
   ]
  },
  {
   "cell_type": "code",
   "execution_count": null,
   "id": "940f92e4",
   "metadata": {},
   "outputs": [],
   "source": []
  }
 ],
 "metadata": {
  "kernelspec": {
   "display_name": "Python 3",
   "language": "python",
   "name": "python3"
  },
  "language_info": {
   "codemirror_mode": {
    "name": "ipython",
    "version": 3
   },
   "file_extension": ".py",
   "mimetype": "text/x-python",
   "name": "python",
   "nbconvert_exporter": "python",
   "pygments_lexer": "ipython3",
   "version": "3.8.6"
  }
 },
 "nbformat": 4,
 "nbformat_minor": 5
}
