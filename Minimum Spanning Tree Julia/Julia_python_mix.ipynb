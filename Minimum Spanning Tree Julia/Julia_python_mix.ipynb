{
 "cells": [
  {
   "cell_type": "code",
   "execution_count": 6,
   "id": "3960fe1a",
   "metadata": {},
   "outputs": [
    {
     "name": "stderr",
     "output_type": "stream",
     "text": [
      "\u001b[32m\u001b[1m   Building\u001b[22m\u001b[39m Conda ─→ `C:\\Users\\Bastiiii\\.julia\\packages\\Conda\\x5ml4\\deps\\build.log`\n",
      "\u001b[32m\u001b[1m   Building\u001b[22m\u001b[39m PyCall → `C:\\Users\\Bastiiii\\.julia\\packages\\PyCall\\tqyST\\deps\\build.log`\n"
     ]
    }
   ],
   "source": [
    "import Pkg\n",
    "#Pkg.add(\"StatsBase\")\n",
    "#Pkg.add(\"Distributions\")\n",
    "#Pkg.add(\"GraphPlot\")\n",
    "#Pkg.add(\"Plots\")\n",
    "#Pkg.add(\"GraphRecipes\")\n",
    "#Pkg.add(\"NetworkLayout\")\n",
    "#Pkg.add(\"GeometryTypes\")\n",
    "#Pkg.add(\"PaddedViews\")\n",
    "#Pkg.add(\"Cairo\")\n",
    "#Pkg.add(\"Compose\")\n",
    "#Pkg.add(\"Plots\")\n",
    "#Pkg.add(\"PyPlot\")\n",
    "using StatsBase\n",
    "using Random\n",
    "using Distributions\n",
    "using LinearAlgebra\n",
    "using LightGraphs\n",
    "#using LightGraphs: smallgraph\n",
    "using GraphPlot\n",
    "#using GraphRecipes, Plots\n",
    "#using NetworkLayout:SFDP\n",
    "#using GeometryTypes\n",
    "using PaddedViews\n",
    "using Cairo, Compose\n",
    "using Plots\n",
    "ENV[\"PYTHON\"] = raw\"C:\\Python38\\python.exe\" \n",
    "Pkg.build(\"PyCall\")\n",
    "using PyCall\n",
    "pyplot() #change backend\n",
    "\n",
    "#Pkg.add(\"JuMP\")\n",
    "#Pkg.add(\"GLPK\")\n",
    "using JuMP\n",
    "using GLPK"
   ]
  },
  {
   "cell_type": "code",
   "execution_count": 8,
   "id": "2bc2f5ea",
   "metadata": {},
   "outputs": [
    {
     "data": {
      "text/plain": [
       "Make_Question (generic function with 5 methods)"
      ]
     },
     "execution_count": 8,
     "metadata": {},
     "output_type": "execute_result"
    }
   ],
   "source": [
    "\"\"\"\n",
    "ForSample function https://github.com/JuliaStats/StatsBase.jl/blob/08d4b77a4b42ef8cadb67b98da65e7fbd9959e0b/src/sampling.jl#L445-L456\n",
    "\n",
    "In our code, we use a simple sample fucntion, which has a stucture below\n",
    "## sample([rng], a, [wv::AbstractWeights], n::Integer; replace=true, ordered=false) ##\n",
    "\n",
    "For weight factors [wv::AbstractWeights], please see https://juliastats.org/StatsBase.jl/stable/weights/\n",
    "There are different weight vectors. the type of weight in our code is Probability weights.\n",
    "(https://juliastats.org/StatsBase.jl/stable/weights/#ProbabilityWeights-1)\n",
    "Attention!\n",
    "U need delcare you weight type in the sample function or the sample function will not take it as a valid input\n",
    "##\n",
    "example:(this is invalid) ✘ the right one is in our code.\n",
    "sample(Grid_Label_flatten::AbstractArray,✘final_probability_flatten✘, amount_panel , replace = false, ordered= true)\n",
    "##\n",
    "\"\"\"\n",
    "\n",
    "\n",
    "function Make_Question(n::Int,m::Int,factor::Int = 10, Density::Float64 = 0.8, option::String = \"1-norm\", distance::Int = 1)\n",
    "    Grid_Label =  transpose( reshape(  collect(1:n*m),(n,m) ) )\n",
    "    Grid_Label_flatten = reshape(Grid_Label,(m*n))\n",
    "    \n",
    "    px = abs.(((Grid_Label.-1) .% n).-((n-1)/2) )\n",
    "    py = abs.(((Grid_Label.-1) .÷ n).-((n-1)/2))\n",
    "    mesh_porbability = factor .^ -(px.+py)\n",
    "    final_probability = mesh_porbability / sum(mesh_porbability)\n",
    "    final_probability_flatten= reshape(final_probability, (m*n))\n",
    "    \n",
    "    amount_panel = Int(round(Density*n*m))\n",
    "    \n",
    "    allocation = sample(Grid_Label_flatten::AbstractArray, ProbabilityWeights(final_probability_flatten), amount_panel , replace = false, ordered= true)\n",
    "    \n",
    "    position_y = (allocation.-1).÷ n\n",
    "    position_x = (allocation.-1).% n\n",
    "    \n",
    "    \"\"\"\n",
    "    make pairs to such structure to calculate the norm (for instance)\n",
    "    2×32 Transpose{Int64,Array{Int64,2}}: \n",
    "     0  0  0  1  1  1  1  2  2  2  2  3  3  …  4  4  4  5  5  5  5  5  6  6  6  7\n",
    "     2  3  4  2  3  4  5  2  3  4  5  0  1     3  4  5  0  2  3  4  5  1  2  4  0\n",
    "    \"\"\"\n",
    "    position_pairs_pre = transpose(hcat(position_x,position_y))\n",
    "    position_pairs = reshape(position_pairs_pre, (1 ,2 ,size(position_x)[1]))\n",
    "    \n",
    "    node_number = size(position_x)[1]\n",
    "    Vector_2d_distance_set = zeros((1,2,node_number,node_number))\n",
    "    [Vector_2d_distance_set[:,:,:,index] .= position_pairs .- position_pairs[:,:,index] for index in 1:node_number]\n",
    "    \n",
    "    norm_distance_set = zeros((node_number,node_number))\n",
    "    if option == \"1-norm\"\n",
    "        \n",
    "        [norm_distance_set[index,:] .= [norm(slice,1) for slice in eachslice(Vector_2d_distance_set[:,:,:,index], dims=3)] for index in 1:node_number ]\n",
    "    \n",
    "    elseif option == \"2-norm\"\n",
    "    \n",
    "        [norm_distance_set[index,:] .= [norm(slice,2) for slice in eachslice(Vector_2d_distance_set[:,:,:,index], dims=3)] for index in 1:node_number ]\n",
    "    else\n",
    "        println(\"wrong input pal~\")\n",
    "        return 0\n",
    "    end\n",
    "\n",
    "    \n",
    "    \n",
    "    \n",
    "    network_adv = norm_distance_set .<= distance\n",
    "    \n",
    "    nodelabel = collect(1:node_number+1).-1\n",
    "    \n",
    "    network = network_adv - I\n",
    "    \n",
    "    # In order to be align with python style, add node and padding 1 and 0 to left and top in sequence.  \n",
    "        #      vertices  x0t|\n",
    "        #     0 | 0 | 0 | 0 | \n",
    "   #vertices' 1 | * | * | * | Left 1\n",
    "        #     1 | * | o | o | \n",
    "        #x0t  1 | * | o | o | \n",
    "        #    Top 2\n",
    "    \n",
    "    network_expand_left = collect(PaddedView(1, network, (1:node_number, 0:node_number)))\n",
    "    \n",
    "    #display(network_expand_left)\n",
    "    \n",
    "    network_expand_bottom = collect(PaddedView(0, network_expand_left, (0:node_number , 1:node_number+1 )))\n",
    "    \n",
    "    #display(network_expand_bottom)\n",
    "    \n",
    "    complete_network = network_expand_bottom\n",
    "    \n",
    "    pos = Dict()\n",
    "    pos[0] = (m-0.5,n)\n",
    "    for n in 1:length(position_x)\n",
    "        pos[n] = (position_x[n],position_y[n])\n",
    "    end\n",
    "    \n",
    "    \n",
    "    return complete_network,allocation,node_number,pos , nodelabel;\n",
    "end"
   ]
  },
  {
   "cell_type": "code",
   "execution_count": 132,
   "id": "ebeecbe5",
   "metadata": {},
   "outputs": [],
   "source": [
    "m = 2\n",
    "n = 2\n",
    "complete_network,allocation,node_number,pos,nodelabel = Make_Question(n::Int,m::Int);\n",
    "\n"
   ]
  },
  {
   "cell_type": "code",
   "execution_count": 133,
   "id": "5a51a506",
   "metadata": {},
   "outputs": [
    {
     "data": {
      "image/png": "[encoded data removed]",
      "text/plain": [
       "PyPlot.Figure(PyObject <Figure size 640x480 with 1 Axes>)"
      ]
     },
     "metadata": {},
     "output_type": "display_data"
    }
   ],
   "source": [
    "py\"\"\"\n",
    "import networkx as nx\n",
    "import numpy as np\n",
    "from collections import defaultdict\n",
    "import random\n",
    "from numpy import random\n",
    "\n",
    "def Draw_Graph(network,pos):\n",
    "    G = nx.DiGraph()\n",
    "    G = nx.from_numpy_array(network)\n",
    "    \n",
    "    # Label Edge with following rules:\n",
    "    # 1. num(BUS)<num(branch)\n",
    "    # 2. priority(BUS)>priority(branch)\n",
    "    edge_label = {}\n",
    "    for j, edge in enumerate(G.edges()):\n",
    "        edge_label.update({(edge[0],edge[1]): str(j)})\n",
    "       \n",
    "    #print(edge_label)\n",
    "    nx.draw(G,pos,with_labels=True)\n",
    "    graph = nx.draw_networkx_edge_labels(G,pos,edge_labels = edge_label)\n",
    "    #graph = nx.draw_networkx_edge_labels(G,pos)\n",
    "    return G, edge_label, graph\n",
    "\n",
    "\"\"\"\n",
    "G, compelete_label, graph = py\"Draw_Graph\"(complete_network,pos);"
   ]
  },
  {
   "cell_type": "code",
   "execution_count": 134,
   "id": "72547902",
   "metadata": {},
   "outputs": [
    {
     "data": {
      "image/png": "[encoded data removed]",
      "text/plain": [
       "PyPlot.Figure(PyObject <Figure size 640x480 with 1 Axes>)"
      ]
     },
     "metadata": {},
     "output_type": "display_data"
    }
   ],
   "source": [
    "py\"\"\"\n",
    "import networkx as nx\n",
    "import numpy as np\n",
    "from collections import defaultdict\n",
    "import random\n",
    "from numpy import random\n",
    "\n",
    "def sub_Graph(network,pos,compelete_label):\n",
    "    G_prime = nx.DiGraph()\n",
    "    G_prime = nx.from_numpy_array(network)\n",
    "    G_prime.remove_node(0)\n",
    "    \n",
    "    sub_edge_label = {}\n",
    "    for j, edge in enumerate(G_prime.edges()):\n",
    "        sub_edge_label.update({(edge[0],edge[1]): compelete_label[(edge[0],edge[1])]})\n",
    "    \n",
    "    nx.draw(G_prime,pos,with_labels=True)\n",
    "    a = nx.draw_networkx_edge_labels(G_prime,pos,edge_labels = sub_edge_label)\n",
    "    return G_prime, sub_edge_label\n",
    "\n",
    "\"\"\"\n",
    "G_prime, sub_edge_label = py\"sub_Graph\"(complete_network,pos,compelete_label);"
   ]
  },
  {
   "cell_type": "code",
   "execution_count": 135,
   "id": "8ea46d98",
   "metadata": {},
   "outputs": [],
   "source": [
    "py\"\"\"\n",
    "import networkx as nx\n",
    "import numpy as np\n",
    "from collections import defaultdict\n",
    "import random\n",
    "from numpy import random\n",
    "\n",
    "def edge_map (G, compelete_label, sub_edge_label):\n",
    "    complete_edge = np.asarray(G.edges())\n",
    "    new_map = np.zeros((len(compelete_label),len(compelete_label)))\n",
    "    for edge in sub_edge_label:\n",
    "    \n",
    "        map_index_0, _ = np.where(complete_edge == edge[0])\n",
    "        map_index_1, _ = np.where(complete_edge == edge[1])\n",
    "    \n",
    "        edge_index = np.int(compelete_label[(edge[0],edge[1])])\n",
    "        new_map[edge_index][map_index_0] = 1\n",
    "        new_map[edge_index][map_index_1] = 1\n",
    "        \n",
    "        new_map = new_map- np.diag(np.diag(new_map))\n",
    "        \n",
    "        lowest_edge = len(compelete_label)- len(sub_edge_label)\n",
    "    return new_map, lowest_edge\n",
    "\n",
    "\"\"\"\n",
    "Final_map, lowest_edge_number = py\"edge_map\"(G, compelete_label, sub_edge_label);"
   ]
  },
  {
   "cell_type": "code",
   "execution_count": 136,
   "id": "b70f805e",
   "metadata": {},
   "outputs": [
    {
     "data": {
      "image/png": "[encoded data removed]",
      "text/plain": [
       "PyPlot.Figure(PyObject <Figure size 900x900 with 1 Axes>)"
      ]
     },
     "metadata": {},
     "output_type": "display_data"
    },
    {
     "data": {
      "image/png": "[encoded data removed]",
      "text/plain": [
       "PyPlot.Figure(PyObject <Figure size 800x600 with 1 Axes>)"
      ]
     },
     "metadata": {},
     "output_type": "display_data"
    }
   ],
   "source": [
    "py\"\"\"\n",
    "import networkx as nx\n",
    "import numpy as np\n",
    "from collections import defaultdict\n",
    "import random\n",
    "from numpy import random\n",
    "import matplotlib.pyplot as plt\n",
    "\n",
    "def Draw_edge_map (Final_map, lowest_edge_number,compelete_label,pos,G):\n",
    "    matfig = plt.figure(figsize=(9,9))\n",
    "    plt.matshow(Final_map,cmap=plt.cm.binary,fignum=matfig.number)\n",
    "    ax = plt.gca()\n",
    "    #plt.matshow(Final_map,cmap=plt.cm.binary)\n",
    "    plt.xlabel('Leaving edge index')\n",
    "    plt.ylabel('Source edge index')\n",
    "    plt.title (\"Direction map visualization\")\n",
    "\n",
    "    # Major ticks\n",
    "    ax.set_xticks(np.arange(0, Final_map.shape[0], step=1))\n",
    "    ax.set_yticks(np.arange(0, Final_map.shape[0], step=1))\n",
    "\n",
    "    # Labels for major ticks\n",
    "    ax.set_xticklabels(np.arange(0, Final_map.shape[0], step=1))\n",
    "    ax.set_yticklabels(np.arange(0, Final_map.shape[0], step=1))\n",
    "\n",
    "    # Minor ticks\n",
    "    ax.set_xticks(np.arange(0.5, Final_map.shape[0]+0.5, step=1), minor=True)\n",
    "    ax.set_yticks(np.arange(0.5, Final_map.shape[0]+0.5, step=1), minor=True)\n",
    "\n",
    "    # Gridlines based on minor ticks\n",
    "    ax.grid(which='minor', color='r', linestyle='-', linewidth=1)\n",
    "\n",
    "\n",
    "\n",
    "    plt.figure(2,figsize=(8,6)) \n",
    "    nx.draw(G,pos,with_labels=True)\n",
    "    net_graph = nx.draw_networkx_edge_labels(G,pos,edge_labels = compelete_label)\n",
    "\n",
    "\"\"\"\n",
    "py\"Draw_edge_map\"(Final_map, lowest_edge_number,compelete_label,pos,G)\n",
    "\n",
    "# Quick note of plt.show() is kind of deprecated.\n",
    "# .julia\\packages\\PyCall\\tqyST\\src\\pyeval.jl:38: UserWarning: Matplotlib is currently using agg, which is a non-GUI backend, so cannot show the figure.\n",
    "# @pycheckn ccall((@pysym :PyEval_EvalCode),"
   ]
  },
  {
   "cell_type": "code",
   "execution_count": 137,
   "id": "49874c3e",
   "metadata": {},
   "outputs": [
    {
     "data": {
      "text/plain": [
       "3"
      ]
     },
     "execution_count": 137,
     "metadata": {},
     "output_type": "execute_result"
    }
   ],
   "source": [
    "lowest_edge_number"
   ]
  },
  {
   "cell_type": "code",
   "execution_count": 157,
   "id": "d18fe850",
   "metadata": {},
   "outputs": [
    {
     "data": {
      "text/plain": [
       "5-element Array{Array{Int64,1},1}:\n",
       " []\n",
       " []\n",
       " []\n",
       " [1, 3, 5]\n",
       " [2, 3, 4]"
      ]
     },
     "execution_count": 157,
     "metadata": {},
     "output_type": "execute_result"
    }
   ],
   "source": [
    "iout_map = [ findall( x ->  x > 0,Final_map[ie,:]) for ie in 1:size(Final_map)[1]]"
   ]
  },
  {
   "cell_type": "code",
   "execution_count": 158,
   "id": "6e2545a7",
   "metadata": {},
   "outputs": [
    {
     "data": {
      "text/plain": [
       "5-element Array{Array{Int64,1},1}:\n",
       " [4]\n",
       " [5]\n",
       " [4, 5]\n",
       " [5]\n",
       " [4]"
      ]
     },
     "execution_count": 158,
     "metadata": {},
     "output_type": "execute_result"
    }
   ],
   "source": [
    "iin_map = [ findall( x ->  x > 0,Final_map[:,ie]) for ie in 1:size(Final_map)[1]]"
   ]
  },
  {
   "cell_type": "code",
   "execution_count": 142,
   "id": "b4ff2c56",
   "metadata": {},
   "outputs": [
    {
     "name": "stdout",
     "output_type": "stream",
     "text": [
      "3\n",
      "5\n"
     ]
    }
   ],
   "source": [
    "Q = length(allocation) 　\n",
    "Edge_set = size(Final_map)[1]\n",
    "c_e = 1\n",
    "p =1\n",
    "println(Q)\n",
    "println(Edge_set)\n"
   ]
  },
  {
   "cell_type": "code",
   "execution_count": 162,
   "id": "4ed1e47e",
   "metadata": {},
   "outputs": [
    {
     "name": "stdout",
     "output_type": "stream",
     "text": [
      "Min x[1,1] + x[2,1] + x[3,1] + x[4,1] + x[5,1] + x[1,2] + x[2,2] + x[3,2] + 2 x[4,2] + 2 x[5,2] + x[1,3] + x[2,3] + x[3,3] + 3 x[4,3] + 3 x[5,3]\n",
      "Subject to\n",
      " x[1,1] + x[1,2] + x[1,3] + x[3,1] + x[3,2] + x[3,3] + x[5,1] + x[5,2] + x[5,3] == 1.0\n",
      " x[2,1] + x[2,2] + x[2,3] + x[3,1] + x[3,2] + x[3,3] + x[4,1] + x[4,2] + x[4,3] == 1.0\n",
      " x[1,1] + 2 x[1,2] + 3 x[1,3] + x[3,1] + 2 x[3,2] + 3 x[3,3] == 1.0\n",
      " x[2,1] + 2 x[2,2] + 3 x[2,3] + x[3,1] + 2 x[3,2] + 3 x[3,3] == 1.0\n",
      " x[1,1] + x[2,1] + x[3,1] + x[4,1] + 2 x[1,2] + 2 x[2,2] + 2 x[3,2] + 2 x[4,2] + 3 x[1,3] + 3 x[2,3] + 3 x[3,3] + 3 x[4,3] == 3.0\n",
      " x[1,1] binary\n",
      " x[1,2] binary\n",
      " x[1,3] binary\n",
      " x[2,1] binary\n",
      " x[2,2] binary\n",
      " x[2,3] binary\n",
      " x[3,1] binary\n",
      " x[3,2] binary\n",
      " x[3,3] binary\n",
      " x[4,1] binary\n",
      " x[4,2] binary\n",
      " x[4,3] binary\n",
      " x[5,1] binary\n",
      " x[5,2] binary\n",
      " x[5,3] binary\n"
     ]
    }
   ],
   "source": [
    "using JuMP\n",
    "using GLPK\n",
    "model = Model(with_optimizer(GLPK.Optimizer))\n",
    "@variable(model, x[1:Edge_set, 1 : Q], Bin)\n",
    "    \n",
    "@objective(model, Min, \n",
    "        sum(\n",
    "            sum(\n",
    "                c_e * x[ie,id]\n",
    "            for ie = 1: Edge_set)\n",
    "        for id = 1: Q)\n",
    "        +\n",
    "        p*sum(\n",
    "            sum(\n",
    "                (id-1) * c_e * x[ie,id]\n",
    "            for ie =lowest_edge_number + 1 : Edge_set)\n",
    "        for id = 1: Q)\n",
    "        )\n",
    "\n",
    "@constraint(model,c1[ie in lowest_edge_number+1:Edge_set], sum(sum(x[iout,id] for id =1 :Q) for iout in iout_map[ie])== 1)\n",
    "@constraint(model,c2[ie in lowest_edge_number+1:Edge_set], (sum(sum(id*x[iout,id] for id =1 :Q) for iout in iout_map[ie]) - sum(sum(id*x[iin,id] for id =1 :Q) for iin in iin_map[ie]))== 1)\n",
    "@constraint(model,c3,sum(sum(id*x[ie,id] for ie in 1:lowest_edge_number+1) for id in 1:Q)== Q)\n",
    "\n",
    "#@constraint(model, c2, 7x + 12y >= 120)\n",
    "print(model)\n"
   ]
  },
  {
   "cell_type": "code",
   "execution_count": 163,
   "id": "014b0e50",
   "metadata": {},
   "outputs": [
    {
     "name": "stdout",
     "output_type": "stream",
     "text": [
      "termination_status(model) = MathOptInterface.INFEASIBLE\n"
     ]
    },
    {
     "ename": "MathOptInterface.ResultIndexBoundsError{MathOptInterface.ObjectiveValue}",
     "evalue": "Result index of attribute MathOptInterface.ObjectiveValue(1) out of bounds. There are currently 0 solution(s) in the model.",
     "output_type": "error",
     "traceback": [
      "Result index of attribute MathOptInterface.ObjectiveValue(1) out of bounds. There are currently 0 solution(s) in the model.",
      "",
      "Stacktrace:",
      " [1] check_result_index_bounds at C:\\Users\\Bastiiii\\.julia\\packages\\MathOptInterface\\izyVf\\src\\attributes.jl:133 [inlined]",
      " [2] get at C:\\Users\\Bastiiii\\.julia\\packages\\GLPK\\oTTtu\\src\\MOI_wrapper.jl:1698 [inlined]",
      " [3] get(::MathOptInterface.Bridges.LazyBridgeOptimizer{GLPK.Optimizer}, ::MathOptInterface.ObjectiveValue) at C:\\Users\\Bastiiii\\.julia\\packages\\MathOptInterface\\izyVf\\src\\Bridges\\bridge_optimizer.jl:646",
      " [4] get(::MathOptInterface.Utilities.CachingOptimizer{MathOptInterface.AbstractOptimizer,MathOptInterface.Utilities.UniversalFallback{MathOptInterface.Utilities.Model{Float64}}}, ::MathOptInterface.ObjectiveValue) at C:\\Users\\Bastiiii\\.julia\\packages\\MathOptInterface\\izyVf\\src\\Utilities\\cachingoptimizer.jl:493",
      " [5] _moi_get_result(::MathOptInterface.Utilities.CachingOptimizer{MathOptInterface.AbstractOptimizer,MathOptInterface.Utilities.UniversalFallback{MathOptInterface.Utilities.Model{Float64}}}, ::MathOptInterface.ObjectiveValue) at C:\\Users\\Bastiiii\\.julia\\packages\\JuMP\\MsUSY\\src\\JuMP.jl:633",
      " [6] get(::Model, ::MathOptInterface.ObjectiveValue) at C:\\Users\\Bastiiii\\.julia\\packages\\JuMP\\MsUSY\\src\\JuMP.jl:646",
      " [7] objective_value(::Model) at C:\\Users\\Bastiiii\\.julia\\packages\\JuMP\\MsUSY\\src\\objective.jl:25",
      " [8] top-level scope at show.jl:613",
      " [9] top-level scope at In[163]:3"
     ]
    }
   ],
   "source": [
    "optimize!(model)\n",
    "@show termination_status(model)\n",
    "#@show primal_status(model)\n",
    "#@show dual_status(model)\n",
    "@show objective_value(model)\n",
    "@show JuMP.value.(x)\n",
    "#@show shadow_price(c1)\n",
    "#@show shadow_price(c2)"
   ]
  },
  {
   "cell_type": "code",
   "execution_count": 164,
   "id": "425b394c",
   "metadata": {},
   "outputs": [],
   "source": [
    "# 需要改的部分\n",
    "#1、 Python 生成的边图应该保持方向性，虽然这样会double 边的数量\n",
    "#2、注意 原论文公式2，3  i应该只覆盖比lowest_edge_number的edge的编号（白话说就是只统计双向边的进出流量） \n",
    "#3、应增添每个顶点的进出edge 的黑白图"
   ]
  },
  {
   "cell_type": "code",
   "execution_count": null,
   "id": "188a40a2",
   "metadata": {},
   "outputs": [],
   "source": []
  }
 ],
 "metadata": {
  "kernelspec": {
   "display_name": "Julia 1.4.2",
   "language": "julia",
   "name": "julia-1.4"
  },
  "language_info": {
   "file_extension": ".jl",
   "mimetype": "application/julia",
   "name": "julia",
   "version": "1.4.2"
  }
 },
 "nbformat": 4,
 "nbformat_minor": 5
}
