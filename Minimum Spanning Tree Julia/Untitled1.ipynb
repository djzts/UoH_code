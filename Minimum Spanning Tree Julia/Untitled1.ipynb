{
 "cells": [
  {
   "cell_type": "code",
   "execution_count": 105,
   "id": "91524554",
   "metadata": {},
   "outputs": [],
   "source": [
    "import networkx as nx\n",
    "import numpy as np\n",
    "from collections import defaultdict\n",
    "import random\n",
    "from numpy import random\n",
    "\n",
    "def show_answer(answer):\n",
    "    edge_num , Q = np.shape(answer) \n",
    "    print(edge_num , Q)\n",
    "    result = answer.flatten()\n",
    "    print(result)\n",
    "    temp = np.where(result>0)[0]\n",
    "    final_index = temp.astype(int)+1\n",
    "    print(final_index)\n"
   ]
  },
  {
   "cell_type": "code",
   "execution_count": 106,
   "id": "7c937ac2",
   "metadata": {},
   "outputs": [],
   "source": [
    "answer = np.array([[0, 0, 0, 0, 0, 0, 0,],\n",
    " [0, 0, 0, 0, 0, 0, 0,],\n",
    " [0, 0, 0, 0, 1, 0, 0,],\n",
    " [0, 0, 0, 0, 0, 0, 0,],\n",
    " [0, 0, 0, 0, 0, 0, 0,],\n",
    " [1, 0, 0, 0, 0, 0, 0,],\n",
    " [1, 0, 0, 0, 0, 0, 0,],\n",
    " [1, 0, 0, 0, 0, 0, 0,],\n",
    " [0, 0, 0, 0, 0, 0, 0,],\n",
    " [0, 0, 0, 0, 0, 0, 0,],\n",
    " [0, 0, 0, 0, 0, 0, 0,],\n",
    " [0, 0, 0, 0, 0, 0, 0,],\n",
    " [1, 0, 0, 0, 0, 0, 0,],\n",
    " [0, 0, 0, 0, 0, 0, 0,],\n",
    " [1, 0, 0, 0, 0, 0, 0,],\n",
    " [0, 0, 0, 0, 0, 0, 0,],\n",
    " [0, 0, 0, 0, 0, 0, 0,],\n",
    " [0, 0, 0, 0, 0, 0, 0,]])\n",
    "Q = np.shape(answer)[1]"
   ]
  },
  {
   "cell_type": "code",
   "execution_count": 107,
   "id": "ed64f4f3",
   "metadata": {},
   "outputs": [
    {
     "name": "stdout",
     "output_type": "stream",
     "text": [
      "7\n"
     ]
    }
   ],
   "source": [
    "print(Q)"
   ]
  },
  {
   "cell_type": "code",
   "execution_count": 108,
   "id": "0814dcd0",
   "metadata": {},
   "outputs": [
    {
     "name": "stdout",
     "output_type": "stream",
     "text": [
      "18 7\n",
      "[0 0 0 0 0 0 0 0 0 0 0 0 0 0 0 0 0 0 1 0 0 0 0 0 0 0 0 0 0 0 0 0 0 0 0 1 0\n",
      " 0 0 0 0 0 1 0 0 0 0 0 0 1 0 0 0 0 0 0 0 0 0 0 0 0 0 0 0 0 0 0 0 0 0 0 0 0\n",
      " 0 0 0 0 0 0 0 0 0 0 1 0 0 0 0 0 0 0 0 0 0 0 0 0 1 0 0 0 0 0 0 0 0 0 0 0 0\n",
      " 0 0 0 0 0 0 0 0 0 0 0 0 0 0 0]\n",
      "[19 36 43 50 85 99]\n"
     ]
    }
   ],
   "source": [
    "result = show_answer(answer)"
   ]
  },
  {
   "cell_type": "code",
   "execution_count": 103,
   "id": "53324139",
   "metadata": {},
   "outputs": [
    {
     "ename": "TypeError",
     "evalue": "'>' not supported between instances of 'NoneType' and 'int'",
     "output_type": "error",
     "traceback": [
      "\u001b[1;31m---------------------------------------------------------------------------\u001b[0m",
      "\u001b[1;31mTypeError\u001b[0m                                 Traceback (most recent call last)",
      "\u001b[1;32m<ipython-input-103-43113dc580c3>\u001b[0m in \u001b[0;36m<module>\u001b[1;34m\u001b[0m\n\u001b[1;32m----> 1\u001b[1;33m \u001b[0ma\u001b[0m \u001b[1;33m=\u001b[0m \u001b[0mresult\u001b[0m\u001b[1;33m[\u001b[0m\u001b[0mresult\u001b[0m\u001b[1;33m>\u001b[0m\u001b[1;36m0\u001b[0m\u001b[1;33m]\u001b[0m\u001b[1;33m\u001b[0m\u001b[1;33m\u001b[0m\u001b[0m\n\u001b[0m",
      "\u001b[1;31mTypeError\u001b[0m: '>' not supported between instances of 'NoneType' and 'int'"
     ]
    }
   ],
   "source": [
    "a = result[result>0]"
   ]
  },
  {
   "cell_type": "code",
   "execution_count": 104,
   "id": "3a779f5d",
   "metadata": {},
   "outputs": [
    {
     "data": {
      "text/plain": [
       "array([18, 35, 42, 49, 84, 98])"
      ]
     },
     "execution_count": 104,
     "metadata": {},
     "output_type": "execute_result"
    }
   ],
   "source": [
    "a"
   ]
  },
  {
   "cell_type": "code",
   "execution_count": null,
   "id": "627d02ad",
   "metadata": {},
   "outputs": [],
   "source": []
  }
 ],
 "metadata": {
  "kernelspec": {
   "display_name": "Python 3",
   "language": "python",
   "name": "python3"
  },
  "language_info": {
   "codemirror_mode": {
    "name": "ipython",
    "version": 3
   },
   "file_extension": ".py",
   "mimetype": "text/x-python",
   "name": "python",
   "nbconvert_exporter": "python",
   "pygments_lexer": "ipython3",
   "version": "3.8.6"
  }
 },
 "nbformat": 4,
 "nbformat_minor": 5
}
