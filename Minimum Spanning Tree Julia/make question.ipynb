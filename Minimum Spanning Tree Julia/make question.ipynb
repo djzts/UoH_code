{
 "cells": [
  {
   "cell_type": "code",
   "execution_count": 385,
   "metadata": {},
   "outputs": [
    {
     "name": "stderr",
     "output_type": "stream",
     "text": [
      "\u001b[32m\u001b[1m  Resolving\u001b[22m\u001b[39m package versions...\n",
      "\u001b[32m\u001b[1m   Updating\u001b[22m\u001b[39m `C:\\Users\\Bastiiii\\.julia\\environments\\v1.4\\Project.toml`\n",
      "\u001b[90m [no changes]\u001b[39m\n",
      "\u001b[32m\u001b[1m   Updating\u001b[22m\u001b[39m `C:\\Users\\Bastiiii\\.julia\\environments\\v1.4\\Manifest.toml`\n",
      "\u001b[90m [no changes]\u001b[39m\n",
      "\u001b[32m\u001b[1m  Resolving\u001b[22m\u001b[39m package versions...\n",
      "\u001b[32m\u001b[1m   Updating\u001b[22m\u001b[39m `C:\\Users\\Bastiiii\\.julia\\environments\\v1.4\\Project.toml`\n",
      "\u001b[90m [no changes]\u001b[39m\n",
      "\u001b[32m\u001b[1m   Updating\u001b[22m\u001b[39m `C:\\Users\\Bastiiii\\.julia\\environments\\v1.4\\Manifest.toml`\n",
      "\u001b[90m [no changes]\u001b[39m\n"
     ]
    }
   ],
   "source": [
    "Pkg.add(\"StatsBase\")\n",
    "Pkg.add(\"Distributions\")\n",
    "using StatsBase\n",
    "using Random\n",
    "using Distributions\n",
    "using LinearAlgebra"
   ]
  },
  {
   "cell_type": "code",
   "execution_count": 386,
   "metadata": {},
   "outputs": [
    {
     "data": {
      "text/plain": [
       "Make_Question (generic function with 5 methods)"
      ]
     },
     "execution_count": 386,
     "metadata": {},
     "output_type": "execute_result"
    }
   ],
   "source": [
    "\"\"\"\n",
    "ForSample function https://github.com/JuliaStats/StatsBase.jl/blob/08d4b77a4b42ef8cadb67b98da65e7fbd9959e0b/src/sampling.jl#L445-L456\n",
    "\n",
    "In our code, we use a simple sample fucntion, which has a stucture below\n",
    "## sample([rng], a, [wv::AbstractWeights], n::Integer; replace=true, ordered=false) ##\n",
    "\n",
    "For weight factors [wv::AbstractWeights], please see https://juliastats.org/StatsBase.jl/stable/weights/\n",
    "There are different weight vectors. the type of weight in our code is Probability weights.\n",
    "(https://juliastats.org/StatsBase.jl/stable/weights/#ProbabilityWeights-1)\n",
    "Attention!\n",
    "U need delcare you weight type in the sample function or the sample function will not take it as a valid input\n",
    "##\n",
    "example:(this is invalid) ✘ the right one is in our code.\n",
    "sample(Grid_Label_flatten::AbstractArray,✘final_probability_flatten✘, amount_panel , replace = false, ordered= true)\n",
    "##\n",
    "\"\"\"\n",
    "\n",
    "function Make_Question(n::Int,m::Int,factor::Int = 10, Density::Float64 = 0.75, option::String = \"1-norm\", distance::Int = 2)\n",
    "    Grid_Label =  transpose( reshape(  collect(1:n*m),(n,m) ) )\n",
    "    Grid_Label_flatten = reshape(Grid_Label,(m*n))\n",
    "    \n",
    "    px = abs.(((Grid_Label.-1) .% n).-((n-1)/2) )\n",
    "    py = abs.(((a_python.-1) .÷ n).-((n-1)/2))\n",
    "    mesh_porbability = 2 .^ -(px.+py)\n",
    "    final_probability = mesh_porbability / sum(mesh_porbability)\n",
    "    final_probability_flatten= reshape(final_probability, (m*n))\n",
    "    \n",
    "    amount_panel = Int(round(Density*n*m))\n",
    "    \n",
    "    allocation = sample(Grid_Label_flatten::AbstractArray, ProbabilityWeights(final_probability_flatten), amount_panel , replace = false, ordered= true)\n",
    "    \n",
    "    return allocation\n",
    "end"
   ]
  },
  {
   "cell_type": "code",
   "execution_count": null,
   "metadata": {},
   "outputs": [],
   "source": []
  },
  {
   "cell_type": "code",
   "execution_count": 387,
   "metadata": {},
   "outputs": [
    {
     "data": {
      "text/plain": [
       "7×6 Transpose{Int64,Array{Int64,2}}:\n",
       "  1   2   3   4   5   6\n",
       "  7   8   9  10  11  12\n",
       " 13  14  15  16  17  18\n",
       " 19  20  21  22  23  24\n",
       " 25  26  27  28  29  30\n",
       " 31  32  33  34  35  36\n",
       " 37  38  39  40  41  42"
      ]
     },
     "execution_count": 387,
     "metadata": {},
     "output_type": "execute_result"
    }
   ],
   "source": [
    "n = 6\n",
    "m = 7\n",
    "Grid_Label =  transpose( reshape(  collect(1:n*m),(n,m) ) )\n"
   ]
  },
  {
   "cell_type": "code",
   "execution_count": 388,
   "metadata": {},
   "outputs": [
    {
     "data": {
      "text/plain": [
       "4×8 Array{Int64,2}:\n",
       " 1   7  11  15  19  23  28  32\n",
       " 3   8  12  16  20  25  29  33\n",
       " 4   9  13  17  21  26  30  34\n",
       " 5  10  14  18  22  27  31  41"
      ]
     },
     "execution_count": 388,
     "metadata": {},
     "output_type": "execute_result"
    }
   ],
   "source": [
    "answer = Make_Question(n::Int,m::Int);\n",
    "reshape(answer,(4,8))"
   ]
  },
  {
   "cell_type": "code",
   "execution_count": 389,
   "metadata": {},
   "outputs": [
    {
     "data": {
      "text/plain": [
       "(32,)"
      ]
     },
     "execution_count": 389,
     "metadata": {},
     "output_type": "execute_result"
    }
   ],
   "source": [
    "size(answer)"
   ]
  },
  {
   "cell_type": "code",
   "execution_count": 401,
   "metadata": {},
   "outputs": [
    {
     "data": {
      "text/plain": [
       "32-element Array{Int64,1}:\n",
       " 0\n",
       " 0\n",
       " 0\n",
       " 0\n",
       " 1\n",
       " 1\n",
       " 1\n",
       " 1\n",
       " 1\n",
       " 2\n",
       " 2\n",
       " 2\n",
       " 2\n",
       " ⋮\n",
       " 3\n",
       " 4\n",
       " 4\n",
       " 4\n",
       " 4\n",
       " 4\n",
       " 5\n",
       " 5\n",
       " 5\n",
       " 5\n",
       " 5\n",
       " 6"
      ]
     },
     "execution_count": 401,
     "metadata": {},
     "output_type": "execute_result"
    }
   ],
   "source": [
    "position_x = answer.÷ n"
   ]
  },
  {
   "cell_type": "code",
   "execution_count": 402,
   "metadata": {},
   "outputs": [
    {
     "data": {
      "text/plain": [
       "32-element Array{Int64,1}:\n",
       " 1\n",
       " 3\n",
       " 4\n",
       " 5\n",
       " 1\n",
       " 2\n",
       " 3\n",
       " 4\n",
       " 5\n",
       " 0\n",
       " 1\n",
       " 2\n",
       " 3\n",
       " ⋮\n",
       " 5\n",
       " 1\n",
       " 2\n",
       " 3\n",
       " 4\n",
       " 5\n",
       " 0\n",
       " 1\n",
       " 2\n",
       " 3\n",
       " 4\n",
       " 5"
      ]
     },
     "execution_count": 402,
     "metadata": {},
     "output_type": "execute_result"
    }
   ],
   "source": [
    "position_y = answer.% n"
   ]
  },
  {
   "cell_type": "code",
   "execution_count": 403,
   "metadata": {},
   "outputs": [
    {
     "data": {
      "text/plain": [
       "(32,)"
      ]
     },
     "execution_count": 403,
     "metadata": {},
     "output_type": "execute_result"
    }
   ],
   "source": [
    "size(position_x)"
   ]
  },
  {
   "cell_type": "code",
   "execution_count": 404,
   "metadata": {},
   "outputs": [
    {
     "data": {
      "text/plain": [
       "2×32 Transpose{Int64,Array{Int64,2}}:\n",
       " 0  0  0  0  1  1  1  1  1  2  2  2  2  …  3  4  4  4  4  4  5  5  5  5  5  6\n",
       " 1  3  4  5  1  2  3  4  5  0  1  2  3     5  1  2  3  4  5  0  1  2  3  4  5"
      ]
     },
     "execution_count": 404,
     "metadata": {},
     "output_type": "execute_result"
    }
   ],
   "source": [
    "k = transpose(hcat(position_x,position_y))"
   ]
  },
  {
   "cell_type": "code",
   "execution_count": 405,
   "metadata": {},
   "outputs": [
    {
     "data": {
      "text/plain": [
       "1×2×32 reshape(::Transpose{Int64,Array{Int64,2}}, 1, 2, 32) with eltype Int64:\n",
       "[:, :, 1] =\n",
       " 0  1\n",
       "\n",
       "[:, :, 2] =\n",
       " 0  3\n",
       "\n",
       "[:, :, 3] =\n",
       " 0  4\n",
       "\n",
       "...\n",
       "\n",
       "[:, :, 30] =\n",
       " 5  3\n",
       "\n",
       "[:, :, 31] =\n",
       " 5  4\n",
       "\n",
       "[:, :, 32] =\n",
       " 6  5"
      ]
     },
     "execution_count": 405,
     "metadata": {},
     "output_type": "execute_result"
    }
   ],
   "source": [
    "position = reshape( k, (1 ,2 ,size(position_x)[1]))"
   ]
  },
  {
   "cell_type": "code",
   "execution_count": 406,
   "metadata": {},
   "outputs": [
    {
     "name": "stdout",
     "output_type": "stream",
     "text": [
      "[0 1]\n"
     ]
    },
    {
     "data": {
      "text/plain": [
       "1.0"
      ]
     },
     "execution_count": 406,
     "metadata": {},
     "output_type": "execute_result"
    }
   ],
   "source": [
    "println(position[:,:,1])\n",
    "norm(position[:,:,1],1)"
   ]
  },
  {
   "cell_type": "code",
   "execution_count": 407,
   "metadata": {},
   "outputs": [
    {
     "data": {
      "text/plain": [
       "1×2×32 Array{Int64,3}:\n",
       "[:, :, 1] =\n",
       " 0  0\n",
       "\n",
       "[:, :, 2] =\n",
       " 0  2\n",
       "\n",
       "[:, :, 3] =\n",
       " 0  3\n",
       "\n",
       "...\n",
       "\n",
       "[:, :, 30] =\n",
       " 5  2\n",
       "\n",
       "[:, :, 31] =\n",
       " 5  3\n",
       "\n",
       "[:, :, 32] =\n",
       " 6  4"
      ]
     },
     "execution_count": 407,
     "metadata": {},
     "output_type": "execute_result"
    }
   ],
   "source": [
    "a = position .- position[:,:,1]"
   ]
  },
  {
   "cell_type": "code",
   "execution_count": 408,
   "metadata": {},
   "outputs": [
    {
     "data": {
      "text/plain": [
       "32-element Array{Float64,1}:\n",
       " 0.0\n",
       " 2.0\n",
       " 3.0\n",
       " 4.0\n",
       " 1.0\n",
       " 1.4142135623730951\n",
       " 2.23606797749979\n",
       " 3.1622776601683795\n",
       " 4.123105625617661\n",
       " 2.23606797749979\n",
       " 2.0\n",
       " 2.23606797749979\n",
       " 2.8284271247461903\n",
       " ⋮\n",
       " 5.0\n",
       " 4.0\n",
       " 4.123105625617661\n",
       " 4.47213595499958\n",
       " 5.0\n",
       " 5.656854249492381\n",
       " 5.0990195135927845\n",
       " 5.0\n",
       " 5.0990195135927845\n",
       " 5.385164807134504\n",
       " 5.830951894845301\n",
       " 7.211102550927978"
      ]
     },
     "execution_count": 408,
     "metadata": {},
     "output_type": "execute_result"
    }
   ],
   "source": [
    "b = [norm(slice,2) for slice in eachslice(a, dims=3)]"
   ]
  },
  {
   "cell_type": "code",
   "execution_count": 409,
   "metadata": {},
   "outputs": [
    {
     "data": {
      "text/plain": [
       "32-element BitArray{1}:\n",
       " 1\n",
       " 0\n",
       " 0\n",
       " 0\n",
       " 1\n",
       " 0\n",
       " 0\n",
       " 0\n",
       " 0\n",
       " 0\n",
       " 0\n",
       " 0\n",
       " 0\n",
       " ⋮\n",
       " 0\n",
       " 0\n",
       " 0\n",
       " 0\n",
       " 0\n",
       " 0\n",
       " 0\n",
       " 0\n",
       " 0\n",
       " 0\n",
       " 0\n",
       " 0"
      ]
     },
     "execution_count": 409,
     "metadata": {},
     "output_type": "execute_result"
    }
   ],
   "source": [
    "cond = b .<= 1"
   ]
  },
  {
   "cell_type": "code",
   "execution_count": 410,
   "metadata": {},
   "outputs": [
    {
     "data": {
      "text/plain": [
       "2-element Array{Int64,1}:\n",
       " 1\n",
       " 5"
      ]
     },
     "execution_count": 410,
     "metadata": {},
     "output_type": "execute_result"
    }
   ],
   "source": [
    "index = findall(x->x == 1, cond)"
   ]
  },
  {
   "cell_type": "code",
   "execution_count": 416,
   "metadata": {},
   "outputs": [
    {
     "data": {
      "text/plain": [
       "2-element Array{Int64,1}:\n",
       " 1\n",
       " 7"
      ]
     },
     "execution_count": 416,
     "metadata": {},
     "output_type": "execute_result"
    }
   ],
   "source": [
    "final_index = answer[index]"
   ]
  },
  {
   "cell_type": "code",
   "execution_count": 421,
   "metadata": {},
   "outputs": [
    {
     "data": {
      "text/plain": [
       "42×42 Array{Float64,2}:\n",
       " 1.0  0.0  0.0  0.0  0.0  0.0  1.0  0.0  …  0.0  0.0  0.0  0.0  0.0  0.0  0.0\n",
       " 0.0  0.0  0.0  0.0  0.0  0.0  0.0  0.0     0.0  0.0  0.0  0.0  0.0  0.0  0.0\n",
       " 0.0  0.0  0.0  0.0  0.0  0.0  0.0  0.0     0.0  0.0  0.0  0.0  0.0  0.0  0.0\n",
       " 0.0  0.0  0.0  0.0  0.0  0.0  0.0  0.0     0.0  0.0  0.0  0.0  0.0  0.0  0.0\n",
       " 0.0  0.0  0.0  0.0  0.0  0.0  0.0  0.0     0.0  0.0  0.0  0.0  0.0  0.0  0.0\n",
       " 0.0  0.0  0.0  0.0  0.0  0.0  0.0  0.0  …  0.0  0.0  0.0  0.0  0.0  0.0  0.0\n",
       " 0.0  0.0  0.0  0.0  0.0  0.0  0.0  0.0     0.0  0.0  0.0  0.0  0.0  0.0  0.0\n",
       " 0.0  0.0  0.0  0.0  0.0  0.0  0.0  0.0     0.0  0.0  0.0  0.0  0.0  0.0  0.0\n",
       " 0.0  0.0  0.0  0.0  0.0  0.0  0.0  0.0     0.0  0.0  0.0  0.0  0.0  0.0  0.0\n",
       " 0.0  0.0  0.0  0.0  0.0  0.0  0.0  0.0     0.0  0.0  0.0  0.0  0.0  0.0  0.0\n",
       " 0.0  0.0  0.0  0.0  0.0  0.0  0.0  0.0  …  0.0  0.0  0.0  0.0  0.0  0.0  0.0\n",
       " 0.0  0.0  0.0  0.0  0.0  0.0  0.0  0.0     0.0  0.0  0.0  0.0  0.0  0.0  0.0\n",
       " 0.0  0.0  0.0  0.0  0.0  0.0  0.0  0.0     0.0  0.0  0.0  0.0  0.0  0.0  0.0\n",
       " ⋮                        ⋮              ⋱  ⋮                        ⋮    \n",
       " 0.0  0.0  0.0  0.0  0.0  0.0  0.0  0.0  …  0.0  0.0  0.0  0.0  0.0  0.0  0.0\n",
       " 0.0  0.0  0.0  0.0  0.0  0.0  0.0  0.0     0.0  0.0  0.0  0.0  0.0  0.0  0.0\n",
       " 0.0  0.0  0.0  0.0  0.0  0.0  0.0  0.0     0.0  0.0  0.0  0.0  0.0  0.0  0.0\n",
       " 0.0  0.0  0.0  0.0  0.0  0.0  0.0  0.0     0.0  0.0  0.0  0.0  0.0  0.0  0.0\n",
       " 0.0  0.0  0.0  0.0  0.0  0.0  0.0  0.0     0.0  0.0  0.0  0.0  0.0  0.0  0.0\n",
       " 0.0  0.0  0.0  0.0  0.0  0.0  0.0  0.0  …  0.0  0.0  0.0  0.0  0.0  0.0  0.0\n",
       " 0.0  0.0  0.0  0.0  0.0  0.0  0.0  0.0     0.0  0.0  0.0  0.0  0.0  0.0  0.0\n",
       " 0.0  0.0  0.0  0.0  0.0  0.0  0.0  0.0     0.0  0.0  0.0  0.0  0.0  0.0  0.0\n",
       " 0.0  0.0  0.0  0.0  0.0  0.0  0.0  0.0     0.0  0.0  0.0  0.0  0.0  0.0  0.0\n",
       " 0.0  0.0  0.0  0.0  0.0  0.0  0.0  0.0     0.0  0.0  0.0  0.0  0.0  0.0  0.0\n",
       " 0.0  0.0  0.0  0.0  0.0  0.0  0.0  0.0  …  0.0  0.0  0.0  0.0  0.0  0.0  0.0\n",
       " 0.0  0.0  0.0  0.0  0.0  0.0  0.0  0.0     0.0  0.0  0.0  0.0  0.0  0.0  0.0"
      ]
     },
     "execution_count": 421,
     "metadata": {},
     "output_type": "execute_result"
    }
   ],
   "source": [
    "map = zeros((n*m,n*m))\n",
    "map[1 , [i for i in final_index] ] .= 1\n",
    "map"
   ]
  },
  {
   "cell_type": "code",
   "execution_count": 279,
   "metadata": {},
   "outputs": [
    {
     "data": {
      "text/plain": [
       "7×6 LinearAlgebra.Transpose{Int64,Array{Int64,2}}:\n",
       "  1   2   3   4   5   6\n",
       "  7   8   9  10  11  12\n",
       " 13  14  15  16  17  18\n",
       " 19  20  21  22  23  24\n",
       " 25  26  27  28  29  30\n",
       " 31  32  33  34  35  36\n",
       " 37  38  39  40  41  42"
      ]
     },
     "execution_count": 279,
     "metadata": {},
     "output_type": "execute_result"
    }
   ],
   "source": [
    " transpose( reshape(  collect(1:n*m),(n,m) ) )"
   ]
  },
  {
   "cell_type": "code",
   "execution_count": null,
   "metadata": {},
   "outputs": [],
   "source": []
  }
 ],
 "metadata": {
  "kernelspec": {
   "display_name": "Julia 1.4.2",
   "language": "julia",
   "name": "julia-1.4"
  },
  "language_info": {
   "file_extension": ".jl",
   "mimetype": "application/julia",
   "name": "julia",
   "version": "1.4.2"
  }
 },
 "nbformat": 4,
 "nbformat_minor": 4
}
