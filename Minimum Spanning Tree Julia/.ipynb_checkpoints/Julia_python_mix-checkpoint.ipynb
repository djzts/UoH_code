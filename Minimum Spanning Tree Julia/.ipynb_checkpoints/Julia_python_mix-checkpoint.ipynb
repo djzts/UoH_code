{
 "cells": [
  {
   "cell_type": "code",
   "execution_count": 1,
   "id": "3960fe1a",
   "metadata": {},
   "outputs": [
    {
     "name": "stderr",
     "output_type": "stream",
     "text": [
      "\u001b[32m\u001b[1m   Building\u001b[22m\u001b[39m Conda ─→ `C:\\Users\\Bastiiii\\.julia\\packages\\Conda\\x5ml4\\deps\\build.log`\n",
      "\u001b[32m\u001b[1m   Building\u001b[22m\u001b[39m PyCall → `C:\\Users\\Bastiiii\\.julia\\packages\\PyCall\\tqyST\\deps\\build.log`\n"
     ]
    }
   ],
   "source": [
    "import Pkg\n",
    "#Pkg.add(\"StatsBase\")\n",
    "#Pkg.add(\"Distributions\")\n",
    "#Pkg.add(\"GraphPlot\")\n",
    "#Pkg.add(\"Plots\")\n",
    "#Pkg.add(\"GraphRecipes\")\n",
    "#Pkg.add(\"NetworkLayout\")\n",
    "#Pkg.add(\"GeometryTypes\")\n",
    "#Pkg.add(\"PaddedViews\")\n",
    "#Pkg.add(\"Cairo\")\n",
    "#Pkg.add(\"Compose\")\n",
    "#Pkg.add(\"Plots\")\n",
    "#Pkg.add(\"PyPlot\")\n",
    "using StatsBase\n",
    "using Random\n",
    "using Distributions\n",
    "using LinearAlgebra\n",
    "using LightGraphs\n",
    "#using LightGraphs: smallgraph\n",
    "using GraphPlot\n",
    "#using GraphRecipes, Plots\n",
    "#using NetworkLayout:SFDP\n",
    "#using GeometryTypes\n",
    "using PaddedViews\n",
    "using Cairo, Compose\n",
    "using Plots\n",
    "ENV[\"PYTHON\"] = raw\"C:\\Python38\\python.exe\" \n",
    "Pkg.build(\"PyCall\")\n",
    "using PyCall\n",
    "pyplot() #change backend\n",
    "\n",
    "#Pkg.add(\"JuMP\")\n",
    "#Pkg.add(\"GLPK\")\n",
    "using JuMP\n",
    "using GLPK\n"
   ]
  },
  {
   "cell_type": "code",
   "execution_count": 2,
   "id": "787be507",
   "metadata": {},
   "outputs": [
    {
     "data": {
      "text/html": [
       "<style>.container { width:100% !important; }</style>"
      ]
     },
     "metadata": {},
     "output_type": "display_data"
    }
   ],
   "source": [
    "display(\"text/html\", \"<style>.container { width:100% !important; }</style>\")"
   ]
  },
  {
   "cell_type": "code",
   "execution_count": 3,
   "id": "2bc2f5ea",
   "metadata": {},
   "outputs": [
    {
     "data": {
      "text/plain": [
       "\"    position_pairs_pre = transpose(hcat(position_x,position_y))\\n    position_pairs = reshape(position_pairs_pre, (1 ,2 ,size(position_x)[1]))\\n    \\n    node_number = size(position_x)[1]\\n    Vector_2d_distance_set = zeros((1,2,node_number,node_number))\\n    [Vector_2d_distance_set[:,:,:,index] .= position_pairs .- position_pairs[:,:,index] for index in 1:node_number]\\n    \\n    norm_distance_set = zeros((node_number,node_number))\\n    if option == \\\"1-norm\\\"\\n        \\n        [norm_distance_set[index,:] .= [norm(slice,1) for slice in eachslice(Vector_2d_distance_set[:,:,:,index], dims=3)] for index in 1:node_number ]\\n    \\n    elseif option == \\\"2-norm\\\"\\n    \\n        [norm_distance_set[index,:] .= [norm(slice,2) for slice in eachslice(Vector_2d_distance_set[:,:,:,index], dims=3)] for index in 1:node_number ]\\n    else\\n        println(\\\"wrong input pal~\\\")\\n        return 0\\n    end\\n\\n    \\n    \\n    \\n    #network_adv = norm_distance_set .<= distance\\n    \\n    #nodelabel = collect(1:node_number+1).-1\\n    \\n    #network = network_adv - I\\n    \\n    # In order to be align with python style, add node and padding 1 and 0 to left and top in sequence.  \\n        #      vertices  x0t|\\n        #     0 | 0 | 0 | 0 | \\n   #vertices' 1 | * | * | * | Left 1\\n        #     1 | * | o | o | \\n        #x0t  1 | * | o | o | \\n        #    Top 2\\n   \\n    network_expand_left = collect(PaddedView(1, network, (1:node_number, 0:node_number)))\\n    \\n    #display(network_expand_left)\\n    \\n    network_expand_bottom = collect(PaddedView(0, network_expand_left, (0:node_number , 1:node_number+1 )))\\n    \\n    #display(network_expand_bottom)\\n    \\n    complete_network = network_expand_bottom\\n   \\n    pos = Dict()\\n    pos[0] = (1.2*m-0.5,1.2*n)\\n    for n in 1:length(position_x)\\n        pos[n] = (position_x[n],position_y[n])\\n    end\\n    \\n    \\n    return complete_network,allocation,node_number,pos , nodelabel\\nend\\n\\n\""
      ]
     },
     "execution_count": 3,
     "metadata": {},
     "output_type": "execute_result"
    }
   ],
   "source": [
    "\"\"\"\n",
    "ForSample function https://github.com/JuliaStats/StatsBase.jl/blob/08d4b77a4b42ef8cadb67b98da65e7fbd9959e0b/src/sampling.jl#L445-L456\n",
    "\n",
    "In our code, we use a simple sample fucntion, which has a stucture below\n",
    "## sample([rng], a, [wv::AbstractWeights], n::Integer; replace=true, ordered=false) ##\n",
    "\n",
    "For weight factors [wv::AbstractWeights], please see https://juliastats.org/StatsBase.jl/stable/weights/\n",
    "There are different weight vectors. the type of weight in our code is Probability weights.\n",
    "(https://juliastats.org/StatsBase.jl/stable/weights/#ProbabilityWeights-1)\n",
    "Attention!\n",
    "U need delcare you weight type in the sample function or the sample function will not take it as a valid input\n",
    "##\n",
    "example:(this is invalid) ✘ the right one is in our code.\n",
    "sample(Grid_Label_flatten::AbstractArray,✘final_probability_flatten✘, amount_panel , replace = false, ordered= true)\n",
    "##\n",
    "\"\"\"\n",
    "\n",
    "\"\"\"\n",
    "function Make_Question(n::Int,m::Int,factor::Int = 10, Density::Float64 = 0.8, option::String = \"1-norm\", distance::Int = 1)\n",
    "    Grid_Label =  transpose( reshape(  collect(1:n*m),(n,m) ) )\n",
    "    Grid_Label_flatten = reshape(Grid_Label,(m*n))\n",
    "    \n",
    "    px = abs.(((Grid_Label.-1) .% n).-((n-1)/2) )\n",
    "    py = abs.(((Grid_Label.-1) .÷ n).-((n-1)/2))\n",
    "    mesh_porbability = factor .^ -(px.+py)\n",
    "    final_probability = mesh_porbability / sum(mesh_porbability)\n",
    "    final_probability_flatten= reshape(final_probability, (m*n))\n",
    "    \n",
    "    amount_panel = Int(round(Density*n*m))\n",
    "    \n",
    "    allocation = sample(Grid_Label_flatten::AbstractArray, ProbabilityWeights(final_probability_flatten), amount_panel , replace = false, ordered= true)\n",
    "    \n",
    "    position_y = (allocation.-1).÷ n\n",
    "    position_x = (allocation.-1).% n\n",
    "    \n",
    "    \"\"\"\n",
    "    #make pairs to such structure to calculate the norm (for instance)\n",
    "    #2×32 Transpose{Int64,Array{Int64,2}}: \n",
    "    # 0  0  0  1  1  1  1  2  2  2  2  3  3  …  4  4  4  5  5  5  5  5  6  6  6  7\n",
    "    # 2  3  4  2  3  4  5  2  3  4  5  0  1     3  4  5  0  2  3  4  5  1  2  4  0\n",
    "    \"\"\"\n",
    "    position_pairs_pre = transpose(hcat(position_x,position_y))\n",
    "    position_pairs = reshape(position_pairs_pre, (1 ,2 ,size(position_x)[1]))\n",
    "    \n",
    "    node_number = size(position_x)[1]\n",
    "    Vector_2d_distance_set = zeros((1,2,node_number,node_number))\n",
    "    [Vector_2d_distance_set[:,:,:,index] .= position_pairs .- position_pairs[:,:,index] for index in 1:node_number]\n",
    "    \n",
    "    norm_distance_set = zeros((node_number,node_number))\n",
    "    if option == \"1-norm\"\n",
    "        \n",
    "        [norm_distance_set[index,:] .= [norm(slice,1) for slice in eachslice(Vector_2d_distance_set[:,:,:,index], dims=3)] for index in 1:node_number ]\n",
    "    \n",
    "    elseif option == \"2-norm\"\n",
    "    \n",
    "        [norm_distance_set[index,:] .= [norm(slice,2) for slice in eachslice(Vector_2d_distance_set[:,:,:,index], dims=3)] for index in 1:node_number ]\n",
    "    else\n",
    "        println(\"wrong input pal~\")\n",
    "        return 0\n",
    "    end\n",
    "\n",
    "    \n",
    "    \n",
    "    \n",
    "    #network_adv = norm_distance_set .<= distance\n",
    "    \n",
    "    #nodelabel = collect(1:node_number+1).-1\n",
    "    \n",
    "    #network = network_adv - I\n",
    "    \n",
    "    # In order to be align with python style, add node and padding 1 and 0 to left and top in sequence.  \n",
    "        #      vertices  x0t|\n",
    "        #     0 | 0 | 0 | 0 | \n",
    "   #vertices' 1 | * | * | * | Left 1\n",
    "        #     1 | * | o | o | \n",
    "        #x0t  1 | * | o | o | \n",
    "        #    Top 2\n",
    "   \n",
    "    network_expand_left = collect(PaddedView(1, network, (1:node_number, 0:node_number)))\n",
    "    \n",
    "    #display(network_expand_left)\n",
    "    \n",
    "    network_expand_bottom = collect(PaddedView(0, network_expand_left, (0:node_number , 1:node_number+1 )))\n",
    "    \n",
    "    #display(network_expand_bottom)\n",
    "    \n",
    "    complete_network = network_expand_bottom\n",
    "   \n",
    "    pos = Dict()\n",
    "    pos[0] = (1.2*m-0.5,1.2*n)\n",
    "    for n in 1:length(position_x)\n",
    "        pos[n] = (position_x[n],position_y[n])\n",
    "    end\n",
    "    \n",
    "    \n",
    "    return complete_network,allocation,node_number,pos , nodelabel\n",
    "end\n",
    "\n",
    "\"\"\""
   ]
  },
  {
   "cell_type": "code",
   "execution_count": 4,
   "id": "5c142464",
   "metadata": {},
   "outputs": [],
   "source": [
    "py\"\"\"\n",
    "def Make_Question(n, m, factor=10, Density = 0.75, option = \"1-norm\", distance = 2):\n",
    "    nx, ny = (n, m)\n",
    "    x = np.arange(nx,dtype=float)\n",
    "    y = np.arange(ny,dtype=float)\n",
    "    xv, yv = np.meshgrid(x, y)\n",
    "    Px = np.power(factor,-np.abs(xv-(n-1)/2))\n",
    "    Py = np.power(factor,-np.abs(yv-(m-1)/2))\n",
    "    mesh_porbability = np.multiply(Px,Py)\n",
    "    final_probability = np.multiply(Px,Py)/np.sum(mesh_porbability)\n",
    "    amount_panel = np.int(Density*n*m)\n",
    "    allocation = np.random.choice(np.arange(n*m), amount_panel, replace=False, p = final_probability.flatten())\n",
    "    x_position = allocation // m\n",
    "    y_position = allocation %  m  \n",
    "    \n",
    "    vertices = np.vstack((x_position, y_position)).T\n",
    "    vertices = vertices[np.lexsort((-vertices[:,0],-vertices[:,1]))]\n",
    "    \n",
    "    \n",
    "    example = vertices[0]\n",
    "    network = np.zeros((amount_panel,amount_panel))\n",
    "    for i, vertex in enumerate(vertices):\n",
    "        example = vertices[i]\n",
    "        if option == \"1-norm\":\n",
    "            # adjacent option\n",
    "            index = np.where(np.sum(np.abs(vertices-example),axis = 1) == 1)\n",
    "        elif option == \"2-norm\":\n",
    "            # include diag or more\n",
    "            index = np.where(np.linalg.norm(np.abs(vertices-example),axis = 1) < distance)\n",
    "        else:\n",
    "            print(\"error_input\")\n",
    "        network[i][index] = 1\n",
    "        \n",
    "    \n",
    "    network_adv = np.triu(network, k=1)\n",
    "    network_adv = network_adv + network_adv.T\n",
    "    \n",
    "    \n",
    "    network_adv = np.pad(network_adv, ((1,0), (1,0)), 'constant', constant_values=((0, 0), (1, 0)))\n",
    "    network_adv[0,0] = 0\n",
    "    \n",
    "    #print(vertices)\n",
    "    pos = {0: (2*n+0.7,m * 2)} \n",
    "    for i, vertex in enumerate(vertices * 2):\n",
    "        temp_pos = (vertex[0],vertex[1])\n",
    "        pos.update({i+1: temp_pos})\n",
    "    return network_adv,pos\n",
    "\"\"\""
   ]
  },
  {
   "cell_type": "code",
   "execution_count": 5,
   "id": "ebeecbe5",
   "metadata": {},
   "outputs": [
    {
     "ename": "PyCall.PyError",
     "evalue": "PyError ($(Expr(:escape, :(ccall(#= C:\\Users\\Bastiiii\\.julia\\packages\\PyCall\\tqyST\\src\\pyfncall.jl:43 =# @pysym(:PyObject_Call), PyPtr, (PyPtr, PyPtr, PyPtr), o, pyargsptr, kw))))) <class 'NameError'>\nNameError(\"name 'np' is not defined\")\n  File \"C:\\Users\\Bastiiii\\.julia\\packages\\PyCall\\tqyST\\src\\pyeval.jl\", line 3, in Make_Question\n    const Py_eval_input = 258\n",
     "output_type": "error",
     "traceback": [
      "PyError ($(Expr(:escape, :(ccall(#= C:\\Users\\Bastiiii\\.julia\\packages\\PyCall\\tqyST\\src\\pyfncall.jl:43 =# @pysym(:PyObject_Call), PyPtr, (PyPtr, PyPtr, PyPtr), o, pyargsptr, kw))))) <class 'NameError'>\nNameError(\"name 'np' is not defined\")\n  File \"C:\\Users\\Bastiiii\\.julia\\packages\\PyCall\\tqyST\\src\\pyeval.jl\", line 3, in Make_Question\n    const Py_eval_input = 258\n",
      "",
      "Stacktrace:",
      " [1] pyerr_check at C:\\Users\\Bastiiii\\.julia\\packages\\PyCall\\tqyST\\src\\exception.jl:62 [inlined]",
      " [2] pyerr_check at C:\\Users\\Bastiiii\\.julia\\packages\\PyCall\\tqyST\\src\\exception.jl:66 [inlined]",
      " [3] _handle_error(::String) at C:\\Users\\Bastiiii\\.julia\\packages\\PyCall\\tqyST\\src\\exception.jl:83",
      " [4] macro expansion at C:\\Users\\Bastiiii\\.julia\\packages\\PyCall\\tqyST\\src\\exception.jl:97 [inlined]",
      " [5] #109 at C:\\Users\\Bastiiii\\.julia\\packages\\PyCall\\tqyST\\src\\pyfncall.jl:43 [inlined]",
      " [6] disable_sigint at .\\c.jl:446 [inlined]",
      " [7] __pycall! at C:\\Users\\Bastiiii\\.julia\\packages\\PyCall\\tqyST\\src\\pyfncall.jl:42 [inlined]",
      " [8] _pycall!(::PyObject, ::PyObject, ::Tuple{Int64,Int64}, ::Int64, ::Ptr{Nothing}) at C:\\Users\\Bastiiii\\.julia\\packages\\PyCall\\tqyST\\src\\pyfncall.jl:29",
      " [9] _pycall!(::PyObject, ::PyObject, ::Tuple{Int64,Int64}, ::Base.Iterators.Pairs{Union{},Union{},Tuple{},NamedTuple{(),Tuple{}}}) at C:\\Users\\Bastiiii\\.julia\\packages\\PyCall\\tqyST\\src\\pyfncall.jl:11",
      " [10] (::PyObject)(::Int64, ::Vararg{Int64,N} where N; kwargs::Base.Iterators.Pairs{Union{},Union{},Tuple{},NamedTuple{(),Tuple{}}}) at C:\\Users\\Bastiiii\\.julia\\packages\\PyCall\\tqyST\\src\\pyfncall.jl:86",
      " [11] (::PyObject)(::Int64, ::Vararg{Int64,N} where N) at C:\\Users\\Bastiiii\\.julia\\packages\\PyCall\\tqyST\\src\\pyfncall.jl:86",
      " [12] top-level scope at In[5]:3"
     ]
    }
   ],
   "source": [
    "m = 3\n",
    "n = 4\n",
    "complete_network,pos = py\"Make_Question\"(m,n);\n",
    "\n"
   ]
  },
  {
   "cell_type": "code",
   "execution_count": 6,
   "id": "5a51a506",
   "metadata": {},
   "outputs": [
    {
     "ename": "UndefVarError",
     "evalue": "UndefVarError: complete_network not defined",
     "output_type": "error",
     "traceback": [
      "UndefVarError: complete_network not defined",
      "",
      "Stacktrace:",
      " [1] top-level scope at In[6]:74"
     ]
    }
   ],
   "source": [
    "py\"\"\"\n",
    "def complete_Graph (network,pos):\n",
    "    # Draw the Directed Graph\n",
    "    \n",
    "    G = nx.DiGraph()\n",
    "    G = nx.from_numpy_array(network,create_using=nx.DiGraph(directed=True))\n",
    "    \n",
    "    ##\n",
    "    \n",
    "    network_0 = network.copy()\n",
    "    network_0[1:,1:] = 0\n",
    "    \n",
    "    G_0 = nx.DiGraph()\n",
    "    G_0 = nx.from_numpy_array(network_0,create_using=nx.DiGraph(directed=True))\n",
    "      \n",
    "    nx.draw(G_0,pos,with_labels=True)\n",
    "    \n",
    "    edge_label = {}\n",
    "    for j, edge in enumerate(G_0.edges()):\n",
    "        edge_label.update({(edge[0],edge[1]): str(j + 1)})\n",
    "        \n",
    "    graph = nx.draw_networkx_edge_labels(G_0,pos,edge_labels = edge_label)\n",
    "    \n",
    "    ##\n",
    "    \n",
    "    G_prime, sub_edge_label, sub_graph = sub_Graph (network,pos)\n",
    "    \n",
    "    ##\n",
    "    edge_label.update(sub_edge_label)\n",
    "    graph.update(sub_graph)\n",
    "    \n",
    "    return G, edge_label, graph\n",
    "\n",
    "def sub_Graph (network,pos):\n",
    "    G_prime = nx.DiGraph()\n",
    "    G_prime = nx.from_numpy_array(network,create_using=nx.DiGraph(directed=True))\n",
    "    G_prime.remove_node(0)\n",
    "    \n",
    "    \n",
    "    # Label Edge with following rules:\n",
    "    # 1. num(BUS)<num(branch)\n",
    "    # 2. priority(BUS)>priority(branch)\n",
    "    sub_edge_label = {}\n",
    "    sub_edge_label_up = {}\n",
    "    sub_edge_label_down = {}\n",
    "    sub_edge_label_initial = {}\n",
    "    \n",
    "    for j, edge in enumerate(G_prime.edges()):\n",
    "        if edge[1] > edge[0]:\n",
    "            sub_edge_label_up.update({(edge[0],edge[1]): str(j+len(pos))})\n",
    "        else:\n",
    "            sub_edge_label_down.update({(edge[0],edge[1]): str(j+len(pos))})\n",
    "        \n",
    "    \n",
    "    nx.draw(G_prime,pos,with_labels=True,connectionstyle='arc3, rad = 0.2')\n",
    "    \n",
    "    \n",
    "    sub_edge_label.update(sub_edge_label_initial)\n",
    "    sub_edge_label.update(sub_edge_label_up)\n",
    "    sub_edge_label.update(sub_edge_label_down)\n",
    "    \n",
    "    sub_graph_initial = nx.draw_networkx_edge_labels(G_prime,pos,edge_labels = sub_edge_label_initial)\n",
    "    sub_graph_up = nx.draw_networkx_edge_labels(G_prime,pos,edge_labels = sub_edge_label_up, label_pos = 0.65, verticalalignment = 'bottom',horizontalalignment = 'right')\n",
    "    sub_graph_down = nx.draw_networkx_edge_labels(G_prime,pos,edge_labels = sub_edge_label_down, label_pos = 0.65, verticalalignment = 'top',horizontalalignment = 'left')\n",
    "\n",
    "    sub_graph = {}\n",
    "    sub_graph.update(sub_graph_initial)\n",
    "    sub_graph.update(sub_graph_up)\n",
    "    sub_graph.update(sub_graph_down)\n",
    "    \n",
    "    return G_prime, sub_edge_label, sub_graph\n",
    "\n",
    "\"\"\"\n",
    "G, compelete_label, graph = py\"complete_Graph\"(complete_network,pos);\n"
   ]
  },
  {
   "cell_type": "code",
   "execution_count": 7,
   "id": "72547902",
   "metadata": {},
   "outputs": [
    {
     "ename": "UndefVarError",
     "evalue": "UndefVarError: complete_network not defined",
     "output_type": "error",
     "traceback": [
      "UndefVarError: complete_network not defined",
      "",
      "Stacktrace:",
      " [1] top-level scope at In[7]:1"
     ]
    }
   ],
   "source": [
    "G_prime, sub_edge_label = py\"sub_Graph\"(complete_network,pos);"
   ]
  },
  {
   "cell_type": "code",
   "execution_count": 8,
   "id": "8ea46d98",
   "metadata": {},
   "outputs": [
    {
     "ename": "UndefVarError",
     "evalue": "UndefVarError: complete_network not defined",
     "output_type": "error",
     "traceback": [
      "UndefVarError: complete_network not defined",
      "",
      "Stacktrace:",
      " [1] top-level scope at In[8]:34"
     ]
    }
   ],
   "source": [
    "py\"\"\"\n",
    "import networkx as nx\n",
    "import numpy as np\n",
    "from collections import defaultdict\n",
    "import random\n",
    "from numpy import random\n",
    "\n",
    "def edge_map (network):\n",
    "    matfig = plt.figure(figsize=(9,9))\n",
    "    plt.matshow(network,cmap=plt.cm.binary,fignum=matfig.number)\n",
    "    ax = plt.gca()\n",
    "    #plt.matshow(Final_map,cmap=plt.cm.binary)\n",
    "    plt.xlabel('Leaving edge index')\n",
    "    plt.ylabel('Source edge index')\n",
    "    plt.title (\"Direction map visualization\")\n",
    "\n",
    "    # Major ticks\n",
    "    ax.set_xticks(np.arange(0, network.shape[0], step=1))\n",
    "    ax.set_yticks(np.arange(0, network.shape[0], step=1))\n",
    "\n",
    "    # Labels for major ticks\n",
    "    ax.set_xticklabels(np.arange(0, network.shape[0], step=1))\n",
    "    ax.set_yticklabels(np.arange(0, network.shape[0], step=1))\n",
    "\n",
    "    # Minor ticks\n",
    "    ax.set_xticks(np.arange(0.5, network.shape[0]+0.5, step=1), minor=True)\n",
    "    ax.set_yticks(np.arange(0.5, network.shape[0]+0.5, step=1), minor=True)\n",
    "\n",
    "    # Gridlines based on minor ticks\n",
    "    ax.grid(which='minor', color='r', linestyle='-', linewidth=1)\n",
    "\n",
    "    plt.show()\n",
    "\"\"\"\n",
    "py\"edge_map\"(complete_network);"
   ]
  },
  {
   "cell_type": "code",
   "execution_count": 9,
   "id": "b70f805e",
   "metadata": {},
   "outputs": [],
   "source": [
    "py\"\"\"\n",
    "import networkx as nx\n",
    "import numpy as np\n",
    "from collections import defaultdict\n",
    "import random\n",
    "from numpy import random\n",
    "import matplotlib.pyplot as plt\n",
    "\n",
    "def Draw_edge_map (Final_map, lowest_edge_number,compelete_label,pos,G):\n",
    "    matfig = plt.figure(figsize=(9,9))\n",
    "    plt.matshow(Final_map,cmap=plt.cm.binary,fignum=matfig.number)\n",
    "    ax = plt.gca()\n",
    "    #plt.matshow(Final_map,cmap=plt.cm.binary)\n",
    "    plt.xlabel('Leaving edge index')\n",
    "    plt.ylabel('Source edge index')\n",
    "    plt.title (\"Direction map visualization\")\n",
    "\n",
    "    # Major ticks\n",
    "    ax.set_xticks(np.arange(0, Final_map.shape[0], step=1))\n",
    "    ax.set_yticks(np.arange(0, Final_map.shape[0], step=1))\n",
    "\n",
    "    # Labels for major ticks\n",
    "    ax.set_xticklabels(np.arange(1, Final_map.shape[0]+1, step=1))\n",
    "    ax.set_yticklabels(np.arange(1, Final_map.shape[0]+1, step=1))\n",
    "\n",
    "    # Minor ticks\n",
    "    ax.set_xticks(np.arange(0.5, Final_map.shape[0]+0.5, step=1), minor=True)\n",
    "    ax.set_yticks(np.arange(0.5, Final_map.shape[0]+0.5, step=1), minor=True)\n",
    "\n",
    "    # Gridlines based on minor ticks\n",
    "    ax.grid(which='minor', color='r', linestyle='-', linewidth=1)\n",
    "    \n",
    "    \n",
    "\n",
    "\"\"\"\n",
    "#py\"Draw_edge_map\"(Final_map, lowest_edge_number,compelete_label,pos,G)\n",
    "\n",
    "\n",
    "# Quick note of plt.show() is kind of deprecated.\n",
    "# .julia\\packages\\PyCall\\tqyST\\src\\pyeval.jl:38: UserWarning: Matplotlib is currently using agg, which is a non-GUI backend, so cannot show the figure.\n",
    "# @pycheckn ccall((@pysym :PyEval_EvalCode),"
   ]
  },
  {
   "cell_type": "code",
   "execution_count": 10,
   "id": "9367ec5e",
   "metadata": {},
   "outputs": [
    {
     "ename": "UndefVarError",
     "evalue": "UndefVarError: complete_network not defined",
     "output_type": "error",
     "traceback": [
      "UndefVarError: complete_network not defined",
      "",
      "Stacktrace:",
      " [1] top-level scope at In[10]:1"
     ]
    }
   ],
   "source": [
    "py\"complete_Graph\"(complete_network,pos);"
   ]
  },
  {
   "cell_type": "code",
   "execution_count": 11,
   "id": "49874c3e",
   "metadata": {},
   "outputs": [
    {
     "ename": "UndefVarError",
     "evalue": "UndefVarError: complete_network not defined",
     "output_type": "error",
     "traceback": [
      "UndefVarError: complete_network not defined",
      "",
      "Stacktrace:",
      " [1] top-level scope at In[11]:1"
     ]
    }
   ],
   "source": [
    "1:size(complete_network)[1]"
   ]
  },
  {
   "cell_type": "code",
   "execution_count": 12,
   "id": "5d959a1e",
   "metadata": {},
   "outputs": [
    {
     "ename": "UndefVarError",
     "evalue": "UndefVarError: compelete_label not defined",
     "output_type": "error",
     "traceback": [
      "UndefVarError: compelete_label not defined",
      "",
      "Stacktrace:",
      " [1] top-level scope at In[12]:1"
     ]
    }
   ],
   "source": [
    "edge_total = length(compelete_label)"
   ]
  },
  {
   "cell_type": "code",
   "execution_count": 13,
   "id": "c8b48467",
   "metadata": {},
   "outputs": [
    {
     "ename": "UndefVarError",
     "evalue": "UndefVarError: compelete_label not defined",
     "output_type": "error",
     "traceback": [
      "UndefVarError: compelete_label not defined",
      "",
      "Stacktrace:",
      " [1] top-level scope at In[13]:1"
     ]
    }
   ],
   "source": [
    "compelete_label"
   ]
  },
  {
   "cell_type": "code",
   "execution_count": 14,
   "id": "d18fe850",
   "metadata": {},
   "outputs": [
    {
     "ename": "UndefVarError",
     "evalue": "UndefVarError: complete_network not defined",
     "output_type": "error",
     "traceback": [
      "UndefVarError: complete_network not defined",
      "",
      "Stacktrace:",
      " [1] top-level scope at In[14]:1"
     ]
    }
   ],
   "source": [
    "iout_map = [ findall( x ->  x > 0, complete_network[ie,:]) for ie in 1:size(complete_network)[1]]\n",
    "iin_map = [ findall( x ->  x > 0, complete_network[:,ie]) for ie in 1:size(complete_network)[1]]\n",
    "\n",
    "println(iout_map)\n",
    "println(iin_map)"
   ]
  },
  {
   "cell_type": "code",
   "execution_count": null,
   "id": "21e0db76",
   "metadata": {},
   "outputs": [],
   "source": []
  },
  {
   "cell_type": "code",
   "execution_count": 15,
   "id": "7d7ee06a",
   "metadata": {},
   "outputs": [
    {
     "ename": "UndefVarError",
     "evalue": "UndefVarError: complete_network not defined",
     "output_type": "error",
     "traceback": [
      "UndefVarError: complete_network not defined",
      "",
      "Stacktrace:",
      " [1] top-level scope at .\\In[15]:1"
     ]
    }
   ],
   "source": [
    "for i = 1: size(complete_network)[1]\n",
    "    for to_vertex in iout_map[i]\n",
    "        print((i-1,to_vertex - 1))\n",
    "        a = compelete_label[(i-1,to_vertex - 1)]\n",
    "        print(a)\n",
    "        print(typeof(parse(Int64, a)))\n",
    "        println( typeof( a ) )\n",
    "        \n",
    "    end\n",
    "end"
   ]
  },
  {
   "cell_type": "code",
   "execution_count": 16,
   "id": "e1570d9c",
   "metadata": {},
   "outputs": [
    {
     "data": {
      "text/plain": [
       "10-element Array{Float64,1}:\n",
       " 0.22011828289480007\n",
       " 0.04193336405617565\n",
       " 0.4372267355955086\n",
       " 0.6758725170701267\n",
       " 0.8632544453649882\n",
       " 0.3327228265848947\n",
       " 0.3136668368580562\n",
       " 0.7866583568744616\n",
       " 0.07392089182259354\n",
       " 0.8940030718783085"
      ]
     },
     "execution_count": 16,
     "metadata": {},
     "output_type": "execute_result"
    }
   ],
   "source": [
    "x = zeros(0)\n",
    "append!( x, rand(10) )\n"
   ]
  },
  {
   "cell_type": "code",
   "execution_count": null,
   "id": "95fd3234",
   "metadata": {},
   "outputs": [],
   "source": []
  },
  {
   "cell_type": "code",
   "execution_count": null,
   "id": "6e2545a7",
   "metadata": {},
   "outputs": [],
   "source": []
  },
  {
   "cell_type": "code",
   "execution_count": 17,
   "id": "b4ff2c56",
   "metadata": {},
   "outputs": [
    {
     "ename": "UndefVarError",
     "evalue": "UndefVarError: complete_network not defined",
     "output_type": "error",
     "traceback": [
      "UndefVarError: complete_network not defined",
      "",
      "Stacktrace:",
      " [1] top-level scope at In[17]:1"
     ]
    }
   ],
   "source": [
    "Q = size(complete_network)[1]\n",
    "c_e = 1\n",
    "p =1\n",
    "println(Q)\n",
    "typeof(Q)"
   ]
  },
  {
   "cell_type": "code",
   "execution_count": 18,
   "id": "0942438e",
   "metadata": {},
   "outputs": [
    {
     "ename": "UndefVarError",
     "evalue": "UndefVarError: complete_network not defined",
     "output_type": "error",
     "traceback": [
      "UndefVarError: complete_network not defined",
      "",
      "Stacktrace:",
      " [1] top-level scope at In[18]:1"
     ]
    }
   ],
   "source": [
    "\n",
    "py\"complete_Graph\"(complete_network,pos)"
   ]
  },
  {
   "cell_type": "code",
   "execution_count": 19,
   "id": "7f720252",
   "metadata": {},
   "outputs": [
    {
     "ename": "UndefVarError",
     "evalue": "UndefVarError: Q not defined",
     "output_type": "error",
     "traceback": [
      "UndefVarError: Q not defined",
      "",
      "Stacktrace:",
      " [1] top-level scope at In[19]:1"
     ]
    }
   ],
   "source": [
    "m_l = zeros(1,Q)\n",
    "m_u = 3 * ones(1,Q)\n",
    "m_u[1:3] .= 0\n",
    "println(m_u)"
   ]
  },
  {
   "cell_type": "code",
   "execution_count": null,
   "id": "2d90af0e",
   "metadata": {},
   "outputs": [],
   "source": [
    "def Location_Solver (edge_total, Q, m_l, m_u, compelete_label, iin_map, iout_map)"
   ]
  },
  {
   "cell_type": "code",
   "execution_count": 418,
   "id": "4ed1e47e",
   "metadata": {},
   "outputs": [
    {
     "name": "stdout",
     "output_type": "stream",
     "text": [
      "[[], [1, 3, 5], [1, 2], [1, 5, 6], [1, 2, 4, 7], [1, 4, 7, 9], [1, 5, 6, 8, 10], [1, 7], [1, 6, 10], [1, 7, 9]]\n",
      "[[2, 3, 4, 5, 6, 7, 8, 9, 10], [3, 5], [2], [5, 6], [2, 4, 7], [4, 7, 9], [5, 6, 8, 10], [7], [6, 10], [7, 9]]\n",
      "Min x[1,1] + x[2,1] + x[3,1] + x[4,1] + x[5,1] + x[6,1] + x[7,1] + x[8,1] + x[9,1] + x[10,1] + x[11,1] + x[12,1] + x[13,1] + x[14,1] + x[15,1] + x[16,1] + x[17,1] + x[18,1] + x[19,1] + x[20,1] + x[21,1] + x[22,1] + x[23,1] + x[24,1] + x[25,1] + x[26,1] + x[27,1] + x[28,1] + x[29,1] + x[1,2] + x[2,2] + x[3,2] + x[4,2] + x[5,2] + x[6,2] + x[7,2] + x[8,2] + x[9,2] + x[10,2] + 2 x[11,2] + 2 x[12,2] + 2 x[13,2] + 2 x[14,2] + 2 x[15,2] + 2 x[16,2] + 2 x[17,2] + 2 x[18,2] + 2 x[19,2] + 2 x[20,2] + 2 x[21,2] + 2 x[22,2] + 2 x[23,2] + 2 x[24,2] + 2 x[25,2] + 2 x[26,2] + 2 x[27,2] + 2 x[28,2] + 2 x[29,2] + x[1,3] + x[2,3] + x[3,3] + x[4,3] + x[5,3] + x[6,3] + x[7,3] + x[8,3] + x[9,3] + x[10,3] + 3 x[11,3] + 3 x[12,3] + 3 x[13,3] + 3 x[14,3] + 3 x[15,3] + 3 x[16,3] + 3 x[17,3] + 3 x[18,3] + 3 x[19,3] + 3 x[20,3] + 3 x[21,3] + 3 x[22,3] + 3 x[23,3] + 3 x[24,3] + 3 x[25,3] + 3 x[26,3] + 3 x[27,3] + 3 x[28,3] + 3 x[29,3] + x[1,4] + x[2,4] + x[3,4] + x[4,4] + x[5,4] + x[6,4] + x[7,4] + x[8,4] + x[9,4] + x[10,4] + 4 x[11,4] + 4 x[12,4] + 4 x[13,4] + 4 x[14,4] + 4 x[15,4] + 4 x[16,4] + 4 x[17,4] + 4 x[18,4] + 4 x[19,4] + 4 x[20,4] + 4 x[21,4] + 4 x[22,4] + 4 x[23,4] + 4 x[24,4] + 4 x[25,4] + 4 x[26,4] + 4 x[27,4] + 4 x[28,4] + 4 x[29,4] + x[1,5] + x[2,5] + x[3,5] + x[4,5] + x[5,5] + x[6,5] + x[7,5] + x[8,5] + x[9,5] + x[10,5] + 5 x[11,5] + 5 x[12,5] + 5 x[13,5] + 5 x[14,5] + 5 x[15,5] + 5 x[16,5] + 5 x[17,5] + 5 x[18,5] + 5 x[19,5] + 5 x[20,5] + 5 x[21,5] + 5 x[22,5] + 5 x[23,5] + 5 x[24,5] + 5 x[25,5] + 5 x[26,5] + 5 x[27,5] + 5 x[28,5] + 5 x[29,5] + x[1,6] + x[2,6] + x[3,6] + x[4,6] + x[5,6] + x[6,6] + x[7,6] + x[8,6] + x[9,6] + x[10,6] + 6 x[11,6] + 6 x[12,6] + 6 x[13,6] + 6 x[14,6] + 6 x[15,6] + 6 x[16,6] + 6 x[17,6] + 6 x[18,6] + 6 x[19,6] + 6 x[20,6] + 6 x[21,6] + 6 x[22,6] + 6 x[23,6] + 6 x[24,6] + 6 x[25,6] + 6 x[26,6] + 6 x[27,6] + 6 x[28,6] + 6 x[29,6] + x[1,7] + x[2,7] + x[3,7] + x[4,7] + x[5,7] + x[6,7] + x[7,7] + x[8,7] + x[9,7] + x[10,7] + 7 x[11,7] + 7 x[12,7] + 7 x[13,7] + 7 x[14,7] + 7 x[15,7] + 7 x[16,7] + 7 x[17,7] + 7 x[18,7] + 7 x[19,7] + 7 x[20,7] + 7 x[21,7] + 7 x[22,7] + 7 x[23,7] + 7 x[24,7] + 7 x[25,7] + 7 x[26,7] + 7 x[27,7] + 7 x[28,7] + 7 x[29,7] + x[1,8] + x[2,8] + x[3,8] + x[4,8] + x[5,8] + x[6,8] + x[7,8] + x[8,8] + x[9,8] + x[10,8] + 8 x[11,8] + 8 x[12,8] + 8 x[13,8] + 8 x[14,8] + 8 x[15,8] + 8 x[16,8] + 8 x[17,8] + 8 x[18,8] + 8 x[19,8] + 8 x[20,8] + 8 x[21,8] + 8 x[22,8] + 8 x[23,8] + 8 x[24,8] + 8 x[25,8] + 8 x[26,8] + 8 x[27,8] + 8 x[28,8] + 8 x[29,8] + x[1,9] + x[2,9] + x[3,9] + x[4,9] + x[5,9] + x[6,9] + x[7,9] + x[8,9] + x[9,9] + x[10,9] + 9 x[11,9] + 9 x[12,9] + 9 x[13,9] + 9 x[14,9] + 9 x[15,9] + 9 x[16,9] + 9 x[17,9] + 9 x[18,9] + 9 x[19,9] + 9 x[20,9] + 9 x[21,9] + 9 x[22,9] + 9 x[23,9] + 9 x[24,9] + 9 x[25,9] + 9 x[26,9] + 9 x[27,9] + 9 x[28,9] + 9 x[29,9] + x[1,10] + x[2,10] + x[3,10] + x[4,10] + x[5,10] + x[6,10] + x[7,10] + x[8,10] + x[9,10] + x[10,10] + 10 x[11,10] + 10 x[12,10] + 10 x[13,10] + 10 x[14,10] + 10 x[15,10] + 10 x[16,10] + 10 x[17,10] + 10 x[18,10] + 10 x[19,10] + 10 x[20,10] + 10 x[21,10] + 10 x[22,10] + 10 x[23,10] + 10 x[24,10] + 10 x[25,10] + 10 x[26,10] + 10 x[27,10] + 10 x[28,10] + 10 x[29,10]\n",
      "Subject to\n",
      " x[1,1] + x[1,2] + x[1,3] + x[1,4] + x[1,5] + x[1,6] + x[1,7] + x[1,8] + x[1,9] + x[1,10] + x[10,1] + x[10,2] + x[10,3] + x[10,4] + x[10,5] + x[10,6] + x[10,7] + x[10,8] + x[10,9] + x[10,10] + x[11,1] + x[11,2] + x[11,3] + x[11,4] + x[11,5] + x[11,6] + x[11,7] + x[11,8] + x[11,9] + x[11,10] == 1.0\n",
      " x[2,1] + x[2,2] + x[2,3] + x[2,4] + x[2,5] + x[2,6] + x[2,7] + x[2,8] + x[2,9] + x[2,10] + x[12,1] + x[12,2] + x[12,3] + x[12,4] + x[12,5] + x[12,6] + x[12,7] + x[12,8] + x[12,9] + x[12,10] == 1.0\n",
      " x[3,1] + x[3,2] + x[3,3] + x[3,4] + x[3,5] + x[3,6] + x[3,7] + x[3,8] + x[3,9] + x[3,10] + x[13,1] + x[13,2] + x[13,3] + x[13,4] + x[13,5] + x[13,6] + x[13,7] + x[13,8] + x[13,9] + x[13,10] + x[14,1] + x[14,2] + x[14,3] + x[14,4] + x[14,5] + x[14,6] + x[14,7] + x[14,8] + x[14,9] + x[14,10] == 1.0\n",
      " x[4,1] + x[4,2] + x[4,3] + x[4,4] + x[4,5] + x[4,6] + x[4,7] + x[4,8] + x[4,9] + x[4,10] + x[15,1] + x[15,2] + x[15,3] + x[15,4] + x[15,5] + x[15,6] + x[15,7] + x[15,8] + x[15,9] + x[15,10] + x[16,1] + x[16,2] + x[16,3] + x[16,4] + x[16,5] + x[16,6] + x[16,7] + x[16,8] + x[16,9] + x[16,10] + x[17,1] + x[17,2] + x[17,3] + x[17,4] + x[17,5] + x[17,6] + x[17,7] + x[17,8] + x[17,9] + x[17,10] == 1.0\n",
      " x[5,1] + x[5,2] + x[5,3] + x[5,4] + x[5,5] + x[5,6] + x[5,7] + x[5,8] + x[5,9] + x[5,10] + x[18,1] + x[18,2] + x[18,3] + x[18,4] + x[18,5] + x[18,6] + x[18,7] + x[18,8] + x[18,9] + x[18,10] + x[19,1] + x[19,2] + x[19,3] + x[19,4] + x[19,5] + x[19,6] + x[19,7] + x[19,8] + x[19,9] + x[19,10] + x[20,1] + x[20,2] + x[20,3] + x[20,4] + x[20,5] + x[20,6] + x[20,7] + x[20,8] + x[20,9] + x[20,10] == 1.0\n",
      " x[6,1] + x[6,2] + x[6,3] + x[6,4] + x[6,5] + x[6,6] + x[6,7] + x[6,8] + x[6,9] + x[6,10] + x[21,1] + x[21,2] + x[21,3] + x[21,4] + x[21,5] + x[21,6] + x[21,7] + x[21,8] + x[21,9] + x[21,10] + x[22,1] + x[22,2] + x[22,3] + x[22,4] + x[22,5] + x[22,6] + x[22,7] + x[22,8] + x[22,9] + x[22,10] + x[23,1] + x[23,2] + x[23,3] + x[23,4] + x[23,5] + x[23,6] + x[23,7] + x[23,8] + x[23,9] + x[23,10] + x[24,1] + x[24,2] + x[24,3] + x[24,4] + x[24,5] + x[24,6] + x[24,7] + x[24,8] + x[24,9] + x[24,10] == 1.0\n",
      " x[7,1] + x[7,2] + x[7,3] + x[7,4] + x[7,5] + x[7,6] + x[7,7] + x[7,8] + x[7,9] + x[7,10] + x[25,1] + x[25,2] + x[25,3] + x[25,4] + x[25,5] + x[25,6] + x[25,7] + x[25,8] + x[25,9] + x[25,10] == 1.0\n",
      " x[8,1] + x[8,2] + x[8,3] + x[8,4] + x[8,5] + x[8,6] + x[8,7] + x[8,8] + x[8,9] + x[8,10] + x[26,1] + x[26,2] + x[26,3] + x[26,4] + x[26,5] + x[26,6] + x[26,7] + x[26,8] + x[26,9] + x[26,10] + x[27,1] + x[27,2] + x[27,3] + x[27,4] + x[27,5] + x[27,6] + x[27,7] + x[27,8] + x[27,9] + x[27,10] == 1.0\n",
      " x[9,1] + x[9,2] + x[9,3] + x[9,4] + x[9,5] + x[9,6] + x[9,7] + x[9,8] + x[9,9] + x[9,10] + x[28,1] + x[28,2] + x[28,3] + x[28,4] + x[28,5] + x[28,6] + x[28,7] + x[28,8] + x[28,9] + x[28,10] + x[29,1] + x[29,2] + x[29,3] + x[29,4] + x[29,5] + x[29,6] + x[29,7] + x[29,8] + x[29,9] + x[29,10] == 1.0\n",
      " x[1,1] + 2 x[1,2] + 3 x[1,3] + 4 x[1,4] + 5 x[1,5] + 6 x[1,6] + 7 x[1,7] + 8 x[1,8] + 9 x[1,9] + 10 x[1,10] + x[10,1] + 2 x[10,2] + 3 x[10,3] + 4 x[10,4] + 5 x[10,5] + 6 x[10,6] + 7 x[10,7] + 8 x[10,8] + 9 x[10,9] + 10 x[10,10] + x[11,1] + 2 x[11,2] + 3 x[11,3] + 4 x[11,4] + 5 x[11,5] + 6 x[11,6] + 7 x[11,7] + 8 x[11,8] + 9 x[11,9] + 10 x[11,10] - x[12,1] - 2 x[12,2] - 3 x[12,3] - 4 x[12,4] - 5 x[12,5] - 6 x[12,6] - 7 x[12,7] - 8 x[12,8] - 9 x[12,9] - 10 x[12,10] - x[15,1] - 2 x[15,2] - 3 x[15,3] - 4 x[15,4] - 5 x[15,5] - 6 x[15,6] - 7 x[15,7] - 8 x[15,8] - 9 x[15,9] - 10 x[15,10] == 1.0\n",
      " x[2,1] + 2 x[2,2] + 3 x[2,3] + 4 x[2,4] + 5 x[2,5] + 6 x[2,6] + 7 x[2,7] + 8 x[2,8] + 9 x[2,9] + 10 x[2,10] + x[12,1] + 2 x[12,2] + 3 x[12,3] + 4 x[12,4] + 5 x[12,5] + 6 x[12,6] + 7 x[12,7] + 8 x[12,8] + 9 x[12,9] + 10 x[12,10] - x[10,1] - 2 x[10,2] - 3 x[10,3] - 4 x[10,4] - 5 x[10,5] - 6 x[10,6] - 7 x[10,7] - 8 x[10,8] - 9 x[10,9] - 10 x[10,10] == 1.0\n",
      " x[3,1] + 2 x[3,2] + 3 x[3,3] + 4 x[3,4] + 5 x[3,5] + 6 x[3,6] + 7 x[3,7] + 8 x[3,8] + 9 x[3,9] + 10 x[3,10] + x[13,1] + 2 x[13,2] + 3 x[13,3] + 4 x[13,4] + 5 x[13,5] + 6 x[13,6] + 7 x[13,7] + 8 x[13,8] + 9 x[13,9] + 10 x[13,10] + x[14,1] + 2 x[14,2] + 3 x[14,3] + 4 x[14,4] + 5 x[14,5] + 6 x[14,6] + 7 x[14,7] + 8 x[14,8] + 9 x[14,9] + 10 x[14,10] - x[16,1] - 2 x[16,2] - 3 x[16,3] - 4 x[16,4] - 5 x[16,5] - 6 x[16,6] - 7 x[16,7] - 8 x[16,8] - 9 x[16,9] - 10 x[16,10] - x[18,1] - 2 x[18,2] - 3 x[18,3] - 4 x[18,4] - 5 x[18,5] - 6 x[18,6] - 7 x[18,7] - 8 x[18,8] - 9 x[18,9] - 10 x[18,10] == 1.0\n",
      " x[4,1] + 2 x[4,2] + 3 x[4,3] + 4 x[4,4] + 5 x[4,5] + 6 x[4,6] + 7 x[4,7] + 8 x[4,8] + 9 x[4,9] + 10 x[4,10] + x[15,1] + 2 x[15,2] + 3 x[15,3] + 4 x[15,4] + 5 x[15,5] + 6 x[15,6] + 7 x[15,7] + 8 x[15,8] + 9 x[15,9] + 10 x[15,10] + x[16,1] + 2 x[16,2] + 3 x[16,3] + 4 x[16,4] + 5 x[16,5] + 6 x[16,6] + 7 x[16,7] + 8 x[16,8] + 9 x[16,9] + 10 x[16,10] + x[17,1] + 2 x[17,2] + 3 x[17,3] + 4 x[17,4] + 5 x[17,5] + 6 x[17,6] + 7 x[17,7] + 8 x[17,8] + 9 x[17,9] + 10 x[17,10] - x[11,1] - 2 x[11,2] - 3 x[11,3] - 4 x[11,4] - 5 x[11,5] - 6 x[11,6] - 7 x[11,7] - 8 x[11,8] - 9 x[11,9] - 10 x[11,10] - x[13,1] - 2 x[13,2] - 3 x[13,3] - 4 x[13,4] - 5 x[13,5] - 6 x[13,6] - 7 x[13,7] - 8 x[13,8] - 9 x[13,9] - 10 x[13,10] - x[21,1] - 2 x[21,2] - 3 x[21,3] - 4 x[21,4] - 5 x[21,5] - 6 x[21,6] - 7 x[21,7] - 8 x[21,8] - 9 x[21,9] - 10 x[21,10] == 1.0\n",
      " x[5,1] + 2 x[5,2] + 3 x[5,3] + 4 x[5,4] + 5 x[5,5] + 6 x[5,6] + 7 x[5,7] + 8 x[5,8] + 9 x[5,9] + 10 x[5,10] + x[18,1] + 2 x[18,2] + 3 x[18,3] + 4 x[18,4] + 5 x[18,5] + 6 x[18,6] + 7 x[18,7] + 8 x[18,8] + 9 x[18,9] + 10 x[18,10] + x[19,1] + 2 x[19,2] + 3 x[19,3] + 4 x[19,4] + 5 x[19,5] + 6 x[19,6] + 7 x[19,7] + 8 x[19,8] + 9 x[19,9] + 10 x[19,10] + x[20,1] + 2 x[20,2] + 3 x[20,3] + 4 x[20,4] + 5 x[20,5] + 6 x[20,6] + 7 x[20,7] + 8 x[20,8] + 9 x[20,9] + 10 x[20,10] - x[14,1] - 2 x[14,2] - 3 x[14,3] - 4 x[14,4] - 5 x[14,5] - 6 x[14,6] - 7 x[14,7] - 8 x[14,8] - 9 x[14,9] - 10 x[14,10] - x[22,1] - 2 x[22,2] - 3 x[22,3] - 4 x[22,4] - 5 x[22,5] - 6 x[22,6] - 7 x[22,7] - 8 x[22,8] - 9 x[22,9] - 10 x[22,10] - x[26,1] - 2 x[26,2] - 3 x[26,3] - 4 x[26,4] - 5 x[26,5] - 6 x[26,6] - 7 x[26,7] - 8 x[26,8] - 9 x[26,9] - 10 x[26,10] == 1.0\n",
      " x[6,1] + 2 x[6,2] + 3 x[6,3] + 4 x[6,4] + 5 x[6,5] + 6 x[6,6] + 7 x[6,7] + 8 x[6,8] + 9 x[6,9] + 10 x[6,10] + x[21,1] + 2 x[21,2] + 3 x[21,3] + 4 x[21,4] + 5 x[21,5] + 6 x[21,6] + 7 x[21,7] + 8 x[21,8] + 9 x[21,9] + 10 x[21,10] + x[22,1] + 2 x[22,2] + 3 x[22,3] + 4 x[22,4] + 5 x[22,5] + 6 x[22,6] + 7 x[22,7] + 8 x[22,8] + 9 x[22,9] + 10 x[22,10] + x[23,1] + 2 x[23,2] + 3 x[23,3] + 4 x[23,4] + 5 x[23,5] + 6 x[23,6] + 7 x[23,7] + 8 x[23,8] + 9 x[23,9] + 10 x[23,10] + x[24,1] + 2 x[24,2] + 3 x[24,3] + 4 x[24,4] + 5 x[24,5] + 6 x[24,6] + 7 x[24,7] + 8 x[24,8] + 9 x[24,9] + 10 x[24,10] - x[17,1] - 2 x[17,2] - 3 x[17,3] - 4 x[17,4] - 5 x[17,5] - 6 x[17,6] - 7 x[17,7] - 8 x[17,8] - 9 x[17,9] - 10 x[17,10] - x[19,1] - 2 x[19,2] - 3 x[19,3] - 4 x[19,4] - 5 x[19,5] - 6 x[19,6] - 7 x[19,7] - 8 x[19,8] - 9 x[19,9] - 10 x[19,10] - x[25,1] - 2 x[25,2] - 3 x[25,3] - 4 x[25,4] - 5 x[25,5] - 6 x[25,6] - 7 x[25,7] - 8 x[25,8] - 9 x[25,9] - 10 x[25,10] - x[28,1] - 2 x[28,2] - 3 x[28,3] - 4 x[28,4] - 5 x[28,5] - 6 x[28,6] - 7 x[28,7] - 8 x[28,8] - 9 x[28,9] - 10 x[28,10] == 1.0\n",
      " x[7,1] + 2 x[7,2] + 3 x[7,3] + 4 x[7,4] + 5 x[7,5] + 6 x[7,6] + 7 x[7,7] + 8 x[7,8] + 9 x[7,9] + 10 x[7,10] + x[25,1] + 2 x[25,2] + 3 x[25,3] + 4 x[25,4] + 5 x[25,5] + 6 x[25,6] + 7 x[25,7] + 8 x[25,8] + 9 x[25,9] + 10 x[25,10] - x[23,1] - 2 x[23,2] - 3 x[23,3] - 4 x[23,4] - 5 x[23,5] - 6 x[23,6] - 7 x[23,7] - 8 x[23,8] - 9 x[23,9] - 10 x[23,10] == 1.0\n",
      " x[8,1] + 2 x[8,2] + 3 x[8,3] + 4 x[8,4] + 5 x[8,5] + 6 x[8,6] + 7 x[8,7] + 8 x[8,8] + 9 x[8,9] + 10 x[8,10] + x[26,1] + 2 x[26,2] + 3 x[26,3] + 4 x[26,4] + 5 x[26,5] + 6 x[26,6] + 7 x[26,7] + 8 x[26,8] + 9 x[26,9] + 10 x[26,10] + x[27,1] + 2 x[27,2] + 3 x[27,3] + 4 x[27,4] + 5 x[27,5] + 6 x[27,6] + 7 x[27,7] + 8 x[27,8] + 9 x[27,9] + 10 x[27,10] - x[20,1] - 2 x[20,2] - 3 x[20,3] - 4 x[20,4] - 5 x[20,5] - 6 x[20,6] - 7 x[20,7] - 8 x[20,8] - 9 x[20,9] - 10 x[20,10] - x[29,1] - 2 x[29,2] - 3 x[29,3] - 4 x[29,4] - 5 x[29,5] - 6 x[29,6] - 7 x[29,7] - 8 x[29,8] - 9 x[29,9] - 10 x[29,10] == 1.0\n",
      " x[9,1] + 2 x[9,2] + 3 x[9,3] + 4 x[9,4] + 5 x[9,5] + 6 x[9,6] + 7 x[9,7] + 8 x[9,8] + 9 x[9,9] + 10 x[9,10] + x[28,1] + 2 x[28,2] + 3 x[28,3] + 4 x[28,4] + 5 x[28,5] + 6 x[28,6] + 7 x[28,7] + 8 x[28,8] + 9 x[28,9] + 10 x[28,10] + x[29,1] + 2 x[29,2] + 3 x[29,3] + 4 x[29,4] + 5 x[29,5] + 6 x[29,6] + 7 x[29,7] + 8 x[29,8] + 9 x[29,9] + 10 x[29,10] - x[24,1] - 2 x[24,2] - 3 x[24,3] - 4 x[24,4] - 5 x[24,5] - 6 x[24,6] - 7 x[24,7] - 8 x[24,8] - 9 x[24,9] - 10 x[24,10] - x[27,1] - 2 x[27,2] - 3 x[27,3] - 4 x[27,4] - 5 x[27,5] - 6 x[27,6] - 7 x[27,7] - 8 x[27,8] - 9 x[27,9] - 10 x[27,10] == 1.0\n",
      " x[1,1] + x[2,1] + x[3,1] + x[4,1] + x[5,1] + x[6,1] + x[7,1] + x[8,1] + x[9,1] + x[10,1] in [0.0, 0.0]\n",
      " x[1,2] + x[2,2] + x[3,2] + x[4,2] + x[5,2] + x[6,2] + x[7,2] + x[8,2] + x[9,2] + x[10,2] in [0.0, 0.0]\n",
      " x[1,3] + x[2,3] + x[3,3] + x[4,3] + x[5,3] + x[6,3] + x[7,3] + x[8,3] + x[9,3] + x[10,3] in [0.0, 0.0]\n",
      " x[1,4] + x[2,4] + x[3,4] + x[4,4] + x[5,4] + x[6,4] + x[7,4] + x[8,4] + x[9,4] + x[10,4] in [0.0, 3.0]\n",
      " x[1,5] + x[2,5] + x[3,5] + x[4,5] + x[5,5] + x[6,5] + x[7,5] + x[8,5] + x[9,5] + x[10,5] in [0.0, 3.0]\n",
      " x[1,6] + x[2,6] + x[3,6] + x[4,6] + x[5,6] + x[6,6] + x[7,6] + x[8,6] + x[9,6] + x[10,6] in [0.0, 3.0]\n",
      " x[1,7] + x[2,7] + x[3,7] + x[4,7] + x[5,7] + x[6,7] + x[7,7] + x[8,7] + x[9,7] + x[10,7] in [0.0, 3.0]\n",
      " x[1,8] + x[2,8] + x[3,8] + x[4,8] + x[5,8] + x[6,8] + x[7,8] + x[8,8] + x[9,8] + x[10,8] in [0.0, 3.0]\n",
      " x[1,9] + x[2,9] + x[3,9] + x[4,9] + x[5,9] + x[6,9] + x[7,9] + x[8,9] + x[9,9] + x[10,9] in [0.0, 3.0]\n",
      " x[1,10] + x[2,10] + x[3,10] + x[4,10] + x[5,10] + x[6,10] + x[7,10] + x[8,10] + x[9,10] + x[10,10] in [0.0, 3.0]\n",
      " x[1,1] binary\n",
      " x[1,2] binary\n",
      " x[1,3] binary\n",
      " x[1,4] binary\n",
      " x[1,5] binary\n",
      " x[1,6] binary\n",
      " x[1,7] binary\n",
      " x[1,8] binary\n",
      " x[1,9] binary\n",
      " x[1,10] binary\n",
      " x[2,1] binary\n",
      " x[2,2] binary\n",
      " x[2,3] binary\n",
      " x[2,4] binary\n",
      " x[2,5] binary\n",
      " x[2,6] binary\n",
      " x[2,7] binary\n",
      " x[2,8] binary\n",
      " x[2,9] binary\n",
      " x[2,10] binary\n",
      " x[3,1] binary\n",
      " x[3,2] binary\n",
      " x[3,3] binary\n",
      " x[3,4] binary\n",
      " x[3,5] binary\n",
      " x[3,6] binary\n",
      " x[3,7] binary\n",
      " x[3,8] binary\n",
      " x[3,9] binary\n",
      " x[3,10] binary\n",
      " x[4,1] binary\n",
      " x[4,2] binary\n",
      " x[4,3] binary\n",
      " x[4,4] binary\n",
      " x[4,5] binary\n",
      " x[4,6] binary\n",
      " x[4,7] binary\n",
      " x[4,8] binary\n",
      " x[4,9] binary\n",
      " x[4,10] binary\n",
      " x[5,1] binary\n",
      " x[5,2] binary\n",
      " x[5,3] binary\n",
      " x[5,4] binary\n",
      " x[5,5] binary\n",
      " x[5,6] binary\n",
      " x[5,7] binary\n",
      " x[5,8] binary\n",
      " x[5,9] binary\n",
      " x[5,10] binary\n",
      " x[6,1] binary\n",
      " x[6,2] binary\n",
      " x[6,3] binary\n",
      " x[6,4] binary\n",
      " x[6,5] binary\n",
      " x[6,6] binary\n",
      " x[6,7] binary\n",
      " x[6,8] binary\n",
      " x[6,9] binary\n",
      " x[6,10] binary\n",
      " x[7,1] binary\n",
      " x[7,2] binary\n",
      " x[7,3] binary\n",
      " x[7,4] binary\n",
      " x[7,5] binary\n",
      " x[7,6] binary\n",
      " x[7,7] binary\n",
      " x[7,8] binary\n",
      " x[7,9] binary\n",
      " x[7,10] binary\n",
      " x[8,1] binary\n",
      " x[8,2] binary\n",
      " x[8,3] binary\n",
      " x[8,4] binary\n",
      " x[8,5] binary\n",
      " x[8,6] binary\n",
      " x[8,7] binary\n",
      " x[8,8] binary\n",
      " x[8,9] binary\n",
      " x[8,10] binary\n",
      " x[9,1] binary\n",
      " x[9,2] binary\n",
      " x[9,3] binary\n",
      " x[9,4] binary\n",
      " x[9,5] binary\n",
      " x[9,6] binary\n",
      " x[9,7] binary\n",
      " x[9,8] binary\n",
      " x[9,9] binary\n",
      " x[9,10] binary\n",
      " x[10,1] binary\n",
      " x[10,2] binary\n",
      " x[10,3] binary\n",
      " x[10,4] binary\n",
      " x[10,5] binary\n",
      " x[10,6] binary\n",
      " x[10,7] binary\n",
      " x[10,8] binary\n",
      " x[10,9] binary\n",
      " x[10,10] binary\n",
      " x[11,1] binary\n",
      " x[11,2] binary\n",
      " x[11,3] binary\n",
      " x[11,4] binary\n",
      " x[11,5] binary\n",
      " x[11,6] binary\n",
      " x[11,7] binary\n",
      " x[11,8] binary\n",
      " x[11,9] binary\n",
      " x[11,10] binary\n",
      " x[12,1] binary\n",
      " x[12,2] binary\n",
      " x[12,3] binary\n",
      " x[12,4] binary\n",
      " x[12,5] binary\n",
      " x[12,6] binary\n",
      " x[12,7] binary\n",
      " x[12,8] binary\n",
      " x[12,9] binary\n",
      " x[12,10] binary\n",
      " x[13,1] binary\n",
      " x[13,2] binary\n",
      " x[13,3] binary\n",
      " x[13,4] binary\n",
      " x[13,5] binary\n",
      " x[13,6] binary\n",
      " x[13,7] binary\n",
      " x[13,8] binary\n",
      " x[13,9] binary\n",
      " x[13,10] binary\n",
      " x[14,1] binary\n",
      " x[14,2] binary\n",
      " x[14,3] binary\n",
      " x[14,4] binary\n",
      " x[14,5] binary\n",
      " x[14,6] binary\n",
      " x[14,7] binary\n",
      " x[14,8] binary\n",
      " x[14,9] binary\n",
      " x[14,10] binary\n",
      " x[15,1] binary\n",
      " x[15,2] binary\n",
      " x[15,3] binary\n",
      " x[15,4] binary\n",
      " x[15,5] binary\n",
      " x[15,6] binary\n",
      " x[15,7] binary\n",
      " x[15,8] binary\n",
      " x[15,9] binary\n",
      " x[15,10] binary\n",
      " x[16,1] binary\n",
      " x[16,2] binary\n",
      " x[16,3] binary\n",
      " x[16,4] binary\n",
      " x[16,5] binary\n",
      " x[16,6] binary\n",
      " x[16,7] binary\n",
      " x[16,8] binary\n",
      " x[16,9] binary\n",
      " x[16,10] binary\n",
      " x[17,1] binary\n",
      " x[17,2] binary\n",
      " x[17,3] binary\n",
      " x[17,4] binary\n",
      " x[17,5] binary\n",
      " x[17,6] binary\n",
      " x[17,7] binary\n",
      " x[17,8] binary\n",
      " x[17,9] binary\n",
      " x[17,10] binary\n",
      " x[18,1] binary\n",
      " x[18,2] binary\n",
      " x[18,3] binary\n",
      " x[18,4] binary\n",
      " x[18,5] binary\n",
      " x[18,6] binary\n",
      " x[18,7] binary\n",
      " x[18,8] binary\n",
      " x[18,9] binary\n",
      " x[18,10] binary\n",
      " x[19,1] binary\n",
      " x[19,2] binary\n",
      " x[19,3] binary\n",
      " x[19,4] binary\n",
      " x[19,5] binary\n",
      " x[19,6] binary\n",
      " x[19,7] binary\n",
      " x[19,8] binary\n",
      " x[19,9] binary\n",
      " x[19,10] binary\n",
      " x[20,1] binary\n",
      " x[20,2] binary\n",
      " x[20,3] binary\n",
      " x[20,4] binary\n",
      " x[20,5] binary\n",
      " x[20,6] binary\n",
      " x[20,7] binary\n",
      " x[20,8] binary\n",
      " x[20,9] binary\n",
      " x[20,10] binary\n",
      " x[21,1] binary\n",
      " x[21,2] binary\n",
      " x[21,3] binary\n",
      " x[21,4] binary\n",
      " x[21,5] binary\n",
      " x[21,6] binary\n",
      " x[21,7] binary\n",
      " x[21,8] binary\n",
      " x[21,9] binary\n",
      " x[21,10] binary\n",
      " x[22,1] binary\n",
      " x[22,2] binary\n",
      " x[22,3] binary\n",
      " x[22,4] binary\n",
      " x[22,5] binary\n",
      " x[22,6] binary\n",
      " x[22,7] binary\n",
      " x[22,8] binary\n",
      " x[22,9] binary\n",
      " x[22,10] binary\n",
      " x[23,1] binary\n",
      " x[23,2] binary\n",
      " x[23,3] binary\n",
      " x[23,4] binary\n",
      " x[23,5] binary\n",
      " x[23,6] binary\n",
      " x[23,7] binary\n",
      " x[23,8] binary\n",
      " x[23,9] binary\n",
      " x[23,10] binary\n",
      " x[24,1] binary\n",
      " x[24,2] binary\n",
      " x[24,3] binary\n",
      " x[24,4] binary\n",
      " x[24,5] binary\n",
      " x[24,6] binary\n",
      " x[24,7] binary\n",
      " x[24,8] binary\n",
      " x[24,9] binary\n",
      " x[24,10] binary\n",
      " x[25,1] binary\n",
      " x[25,2] binary\n",
      " x[25,3] binary\n",
      " x[25,4] binary\n",
      " x[25,5] binary\n",
      " x[25,6] binary\n",
      " x[25,7] binary\n",
      " x[25,8] binary\n",
      " x[25,9] binary\n",
      " x[25,10] binary\n",
      " x[26,1] binary\n",
      " x[26,2] binary\n",
      " x[26,3] binary\n",
      " x[26,4] binary\n",
      " x[26,5] binary\n",
      " x[26,6] binary\n",
      " x[26,7] binary\n",
      " x[26,8] binary\n",
      " x[26,9] binary\n",
      " x[26,10] binary\n",
      " x[27,1] binary\n",
      " x[27,2] binary\n",
      " x[27,3] binary\n",
      " x[27,4] binary\n",
      " x[27,5] binary\n",
      " x[27,6] binary\n",
      " x[27,7] binary\n",
      " x[27,8] binary\n",
      " x[27,9] binary\n",
      " x[27,10] binary\n",
      " x[28,1] binary\n",
      " x[28,2] binary\n",
      " x[28,3] binary\n",
      " x[28,4] binary\n",
      " x[28,5] binary\n",
      " x[28,6] binary\n",
      " x[28,7] binary\n",
      " x[28,8] binary\n",
      " x[28,9] binary\n",
      " x[28,10] binary\n",
      " x[29,1] binary\n",
      " x[29,2] binary\n",
      " x[29,3] binary\n",
      " x[29,4] binary\n",
      " x[29,5] binary\n",
      " x[29,6] binary\n",
      " x[29,7] binary\n",
      " x[29,8] binary\n",
      " x[29,9] binary\n",
      " x[29,10] binary\n"
     ]
    },
    {
     "name": "stdout",
     "output_type": "stream",
     "text": [
      "termination_status(model) = MathOptInterface.OPTIMAL\n",
      "objective_value(model) = 11.0\n"
     ]
    },
    {
     "data": {
      "text/plain": [
       "11.0"
      ]
     },
     "execution_count": 418,
     "metadata": {},
     "output_type": "execute_result"
    }
   ],
   "source": [
    "\n",
    "\n",
    "println(iout_map)\n",
    "println(iin_map)\n",
    "model = Model(with_optimizer(GLPK.Optimizer))\n",
    "@variable(model, x[1:edge_total, 1 : Q], Bin)\n",
    "    \n",
    "@objective(model, Min, \n",
    "        sum(\n",
    "            sum(\n",
    "                c_e * x[ie,id]\n",
    "            for ie = 1: edge_total)\n",
    "        for id = 1: Q)\n",
    "        +\n",
    "        p*sum(\n",
    "            sum(\n",
    "                (id-1) * c_e * x[ie,id]\n",
    "            for ie = Q + 1 : edge_total)\n",
    "        for id = 1: Q)\n",
    "        )\n",
    "\n",
    "@constraint(model,c1[ie in 2:Q], sum(sum(  x[  parse(Int64, compelete_label[(ie - 1, iout - 1 )] ) , id ]  for id =1 : Q) for iout in iout_map[ie]) == 1)\n",
    "@constraint(model,c2[ie in 2:Q], (sum(sum(id * x[parse(Int64, compelete_label[(ie - 1, iout - 1 )] ) , id] for id =1 : Q) for iout in iout_map[ie]) - sum(sum(id * x[parse(Int64, compelete_label[(iin - 1 , ie - 1 )] ), id] for id =1 :Q) for iin in iin_map[ie])) == 1)\n",
    "@constraint(model,c3[id in 1:Q], m_l[id] <= sum( x[ie , id] for ie in 1:Q ) <= m_u[id] )\n",
    "\n",
    "#@constraint(model, c2, 7x + 12y >= 120)\n",
    "print(model)\n",
    "\n",
    "optimize!(model)\n",
    "@show termination_status(model)\n",
    "\n",
    "@show objective_value(model)\n",
    "\n"
   ]
  },
  {
   "cell_type": "code",
   "execution_count": 419,
   "id": "0c4f2bd8",
   "metadata": {},
   "outputs": [
    {
     "name": "stdout",
     "output_type": "stream",
     "text": [
      "JuMP.value.(x) = [0.0 0.0 0.0 0.0 0.0 0.0 0.0 0.0 0.0 0.0; 0.0 0.0 0.0 0.0 0.0 0.0 0.0 0.0 0.0 0.0; 0.0 0.0 0.0 0.0 0.0 0.0 0.0 0.0 0.0 0.0; 0.0 0.0 0.0 1.0 0.0 0.0 0.0 0.0 0.0 0.0; 0.0 0.0 0.0 0.0 0.0 0.0 0.0 0.0 0.0 0.0; 0.0 0.0 0.0 0.0 1.0 0.0 0.0 0.0 0.0 0.0; 0.0 0.0 0.0 0.0 0.0 0.0 0.0 0.0 0.0 0.0; 0.0 0.0 0.0 0.0 0.0 0.0 0.0 0.0 0.0 0.0; 0.0 0.0 0.0 0.0 0.0 0.0 0.0 0.0 0.0 0.0; 0.0 0.0 0.0 0.0 0.0 0.0 0.0 0.0 0.0 0.0; 0.0 1.0 0.0 0.0 0.0 0.0 0.0 0.0 0.0 0.0; 1.0 0.0 0.0 0.0 0.0 0.0 0.0 0.0 0.0 0.0; 1.0 0.0 0.0 0.0 0.0 0.0 0.0 0.0 0.0 0.0; 0.0 0.0 0.0 0.0 0.0 0.0 0.0 0.0 0.0 0.0; 0.0 0.0 0.0 0.0 0.0 0.0 0.0 0.0 0.0 0.0; 0.0 0.0 0.0 0.0 0.0 0.0 0.0 0.0 0.0 0.0; 0.0 0.0 0.0 0.0 0.0 0.0 0.0 0.0 0.0 0.0; 0.0 0.0 0.0 0.0 0.0 0.0 0.0 0.0 0.0 0.0; 0.0 1.0 0.0 0.0 0.0 0.0 0.0 0.0 0.0 0.0; 0.0 0.0 0.0 0.0 0.0 0.0 0.0 0.0 0.0 0.0; 0.0 0.0 0.0 0.0 0.0 0.0 0.0 0.0 0.0 0.0; 0.0 0.0 0.0 0.0 0.0 0.0 0.0 0.0 0.0 0.0; 0.0 0.0 0.0 0.0 0.0 0.0 0.0 0.0 0.0 0.0; 0.0 0.0 0.0 0.0 0.0 0.0 0.0 0.0 0.0 0.0; 1.0 0.0 0.0 0.0 0.0 0.0 0.0 0.0 0.0 0.0; 1.0 0.0 0.0 0.0 0.0 0.0 0.0 0.0 0.0 0.0; 0.0 0.0 0.0 0.0 0.0 0.0 0.0 0.0 0.0 0.0; 1.0 0.0 0.0 0.0 0.0 0.0 0.0 0.0 0.0 0.0; 0.0 0.0 0.0 0.0 0.0 0.0 0.0 0.0 0.0 0.0]\n"
     ]
    },
    {
     "data": {
      "text/plain": [
       "29×10 Array{Float64,2}:\n",
       " 0.0  0.0  0.0  0.0  0.0  0.0  0.0  0.0  0.0  0.0\n",
       " 0.0  0.0  0.0  0.0  0.0  0.0  0.0  0.0  0.0  0.0\n",
       " 0.0  0.0  0.0  0.0  0.0  0.0  0.0  0.0  0.0  0.0\n",
       " 0.0  0.0  0.0  1.0  0.0  0.0  0.0  0.0  0.0  0.0\n",
       " 0.0  0.0  0.0  0.0  0.0  0.0  0.0  0.0  0.0  0.0\n",
       " 0.0  0.0  0.0  0.0  1.0  0.0  0.0  0.0  0.0  0.0\n",
       " 0.0  0.0  0.0  0.0  0.0  0.0  0.0  0.0  0.0  0.0\n",
       " 0.0  0.0  0.0  0.0  0.0  0.0  0.0  0.0  0.0  0.0\n",
       " 0.0  0.0  0.0  0.0  0.0  0.0  0.0  0.0  0.0  0.0\n",
       " 0.0  0.0  0.0  0.0  0.0  0.0  0.0  0.0  0.0  0.0\n",
       " 0.0  1.0  0.0  0.0  0.0  0.0  0.0  0.0  0.0  0.0\n",
       " 1.0  0.0  0.0  0.0  0.0  0.0  0.0  0.0  0.0  0.0\n",
       " 1.0  0.0  0.0  0.0  0.0  0.0  0.0  0.0  0.0  0.0\n",
       " ⋮                        ⋮                   \n",
       " 0.0  0.0  0.0  0.0  0.0  0.0  0.0  0.0  0.0  0.0\n",
       " 0.0  1.0  0.0  0.0  0.0  0.0  0.0  0.0  0.0  0.0\n",
       " 0.0  0.0  0.0  0.0  0.0  0.0  0.0  0.0  0.0  0.0\n",
       " 0.0  0.0  0.0  0.0  0.0  0.0  0.0  0.0  0.0  0.0\n",
       " 0.0  0.0  0.0  0.0  0.0  0.0  0.0  0.0  0.0  0.0\n",
       " 0.0  0.0  0.0  0.0  0.0  0.0  0.0  0.0  0.0  0.0\n",
       " 0.0  0.0  0.0  0.0  0.0  0.0  0.0  0.0  0.0  0.0\n",
       " 1.0  0.0  0.0  0.0  0.0  0.0  0.0  0.0  0.0  0.0\n",
       " 1.0  0.0  0.0  0.0  0.0  0.0  0.0  0.0  0.0  0.0\n",
       " 0.0  0.0  0.0  0.0  0.0  0.0  0.0  0.0  0.0  0.0\n",
       " 1.0  0.0  0.0  0.0  0.0  0.0  0.0  0.0  0.0  0.0\n",
       " 0.0  0.0  0.0  0.0  0.0  0.0  0.0  0.0  0.0  0.0"
      ]
     },
     "execution_count": 419,
     "metadata": {},
     "output_type": "execute_result"
    }
   ],
   "source": [
    "@show JuMP.value.(x)\n",
    "answer = JuMP.value.(x)"
   ]
  },
  {
   "cell_type": "code",
   "execution_count": 420,
   "id": "f78019c6",
   "metadata": {},
   "outputs": [
    {
     "data": {
      "image/png": "[encoded data removed]",
      "text/plain": [
       "PyPlot.Figure(PyObject <Figure size 1000x1000 with 1 Axes>)"
      ]
     },
     "metadata": {},
     "output_type": "display_data"
    },
    {
     "name": "stdout",
     "output_type": "stream",
     "text": [
      "29 10\r\n",
      "[0. 0. 0. 0. 0. 0. 0. 0. 0. 0. 0. 0. 0. 0. 0. 0. 0. 0. 0. 0. 0. 0. 0. 0.\r\n",
      " 0. 0. 0. 0. 0. 0. 0. 0. 0. 1. 0. 0. 0. 0. 0. 0. 0. 0. 0. 0. 0. 0. 0. 0.\r\n",
      " 0. 0. 0. 0. 0. 0. 1. 0. 0. 0. 0. 0. 0. 0. 0. 0. 0. 0. 0. 0. 0. 0. 0. 0.\r\n",
      " 0. 0. 0. 0. 0. 0. 0. 0. 0. 0. 0. 0. 0. 0. 0. 0. 0. 0. 0. 0. 0. 0. 0. 0.\r\n",
      " 0. 0. 0. 0. 0. 1. 0. 0. 0. 0. 0. 0. 0. 0. 1. 0. 0. 0. 0. 0. 0. 0. 0. 0.\r\n",
      " 1. 0. 0. 0. 0. 0. 0. 0. 0. 0. 0. 0. 0. 0. 0. 0. 0. 0. 0. 0. 0. 0. 0. 0.\r\n",
      " 0. 0. 0. 0. 0. 0. 0. 0. 0. 0. 0. 0. 0. 0. 0. 0. 0. 0. 0. 0. 0. 0. 0. 0.\r\n",
      " 0. 0. 0. 0. 0. 0. 0. 0. 0. 0. 0. 0. 0. 1. 0. 0. 0. 0. 0. 0. 0. 0. 0. 0.\r\n",
      " 0. 0. 0. 0. 0. 0. 0. 0. 0. 0. 0. 0. 0. 0. 0. 0. 0. 0. 0. 0. 0. 0. 0. 0.\r\n",
      " 0. 0. 0. 0. 0. 0. 0. 0. 0. 0. 0. 0. 0. 0. 0. 0. 0. 0. 0. 0. 0. 0. 0. 0.\r\n",
      " 1. 0. 0. 0. 0. 0. 0. 0. 0. 0. 1. 0. 0. 0. 0. 0. 0. 0. 0. 0. 0. 0. 0. 0.\r\n",
      " 0. 0. 0. 0. 0. 0. 1. 0. 0. 0. 0. 0. 0. 0. 0. 0. 0. 0. 0. 0. 0. 0. 0. 0.\r\n",
      " 0. 0.]\r\n",
      "[ 34  55 102 111 121 182 241 251 271]\r\n",
      "3\r\n",
      "5\r\n",
      "10\r\n",
      "11\r\n",
      "12\r\n",
      "18\r\n",
      "24\r\n",
      "25\r\n",
      "27\r\n"
     ]
    }
   ],
   "source": [
    "py\"\"\"\n",
    "import networkx as nx\n",
    "import numpy as np\n",
    "from collections import defaultdict\n",
    "import random\n",
    "from numpy import random\n",
    "\n",
    "def show_answer(answer,pos,compelete_label,network):\n",
    "    edge_num , Q = np.shape(answer) \n",
    "    print(edge_num , Q)\n",
    "    result = answer.flatten()\n",
    "    print(result)\n",
    "    temp =np.where(result > 0)[0]\n",
    "    final_index = temp.astype(int) + 1\n",
    "    print(final_index)\n",
    "    \n",
    "    final_G = nx.DiGraph()\n",
    "    final_G = nx.from_numpy_array(np.zeros_like(network),create_using=nx.DiGraph(directed=True))\n",
    "\n",
    "    for value in final_index:\n",
    "        print(str(value//Q))\n",
    "        final_G.add_weighted_edges_from([(*edge, value % Q) for edge, label in compelete_label.items() if label == str(value//Q + 1)])\n",
    "\n",
    "    matfig = plt.figure(figsize=(10,10)) \n",
    "    labels = nx.get_edge_attributes(final_G,'weight')\n",
    "    widths = list(nx.get_edge_attributes(final_G,'weight').values())\n",
    "    a = nx.draw_networkx(final_G, pos)\n",
    "    b = nx.draw_networkx_edge_labels(final_G,pos,edge_labels = labels)\n",
    "    c = nx.draw_networkx_edges(final_G,pos,width = widths)\n",
    "\n",
    "\n",
    "\"\"\"\n",
    "py\"show_answer\"(answer,pos,compelete_label,complete_network)"
   ]
  },
  {
   "cell_type": "code",
   "execution_count": 362,
   "id": "6ae9a10b",
   "metadata": {},
   "outputs": [
    {
     "data": {
      "image/png": "[encoded data removed]",
      "text/plain": [
       "PyPlot.Figure(PyObject <Figure size 640x480 with 1 Axes>)"
      ]
     },
     "metadata": {},
     "output_type": "display_data"
    }
   ],
   "source": [
    "py\"complete_Graph\"(complete_network,pos);"
   ]
  },
  {
   "cell_type": "code",
   "execution_count": 187,
   "id": "014b0e50",
   "metadata": {},
   "outputs": [
    {
     "name": "stdout",
     "output_type": "stream",
     "text": [
      "termination_status(model) = MathOptInterface.OPTIMAL\n",
      "objective_value(model) = 6.0\n",
      "JuMP.value.(x) = [0.0 0.0 0.0 0.0 0.0 0.0 0.0; 0.0 0.0 0.0 0.0 0.0 0.0 0.0; 0.0 0.0 0.0 0.0 1.0 0.0 0.0; 0.0 0.0 0.0 0.0 0.0 0.0 0.0; 0.0 0.0 0.0 0.0 0.0 0.0 0.0; 1.0 0.0 0.0 0.0 0.0 0.0 0.0; 1.0 0.0 0.0 0.0 0.0 0.0 0.0; 1.0 0.0 0.0 0.0 0.0 0.0 0.0; 0.0 0.0 0.0 0.0 0.0 0.0 0.0; 0.0 0.0 0.0 0.0 0.0 0.0 0.0; 0.0 0.0 0.0 0.0 0.0 0.0 0.0; 0.0 0.0 0.0 0.0 0.0 0.0 0.0; 1.0 0.0 0.0 0.0 0.0 0.0 0.0; 0.0 0.0 0.0 0.0 0.0 0.0 0.0; 1.0 0.0 0.0 0.0 0.0 0.0 0.0; 0.0 0.0 0.0 0.0 0.0 0.0 0.0; 0.0 0.0 0.0 0.0 0.0 0.0 0.0; 0.0 0.0 0.0 0.0 0.0 0.0 0.0]\n"
     ]
    },
    {
     "data": {
      "text/plain": [
       "18×7 Array{Float64,2}:\n",
       " 0.0  0.0  0.0  0.0  0.0  0.0  0.0\n",
       " 0.0  0.0  0.0  0.0  0.0  0.0  0.0\n",
       " 0.0  0.0  0.0  0.0  1.0  0.0  0.0\n",
       " 0.0  0.0  0.0  0.0  0.0  0.0  0.0\n",
       " 0.0  0.0  0.0  0.0  0.0  0.0  0.0\n",
       " 1.0  0.0  0.0  0.0  0.0  0.0  0.0\n",
       " 1.0  0.0  0.0  0.0  0.0  0.0  0.0\n",
       " 1.0  0.0  0.0  0.0  0.0  0.0  0.0\n",
       " 0.0  0.0  0.0  0.0  0.0  0.0  0.0\n",
       " 0.0  0.0  0.0  0.0  0.0  0.0  0.0\n",
       " 0.0  0.0  0.0  0.0  0.0  0.0  0.0\n",
       " 0.0  0.0  0.0  0.0  0.0  0.0  0.0\n",
       " 1.0  0.0  0.0  0.0  0.0  0.0  0.0\n",
       " 0.0  0.0  0.0  0.0  0.0  0.0  0.0\n",
       " 1.0  0.0  0.0  0.0  0.0  0.0  0.0\n",
       " 0.0  0.0  0.0  0.0  0.0  0.0  0.0\n",
       " 0.0  0.0  0.0  0.0  0.0  0.0  0.0\n",
       " 0.0  0.0  0.0  0.0  0.0  0.0  0.0"
      ]
     },
     "execution_count": 187,
     "metadata": {},
     "output_type": "execute_result"
    }
   ],
   "source": []
  },
  {
   "cell_type": "code",
   "execution_count": 188,
   "id": "425b394c",
   "metadata": {},
   "outputs": [],
   "source": [
    "# 需要改的部分\n",
    "#1、 Python 生成的边图应该保持方向性，虽然这样会double 边的数量\n",
    "#2、注意 原论文公式2，3  i应该只覆盖比lowest_edge_number的edge的编号（白话说就是只统计双向边的进出流量） \n",
    "#3、应增添每个顶点的进出edge 的黑白图"
   ]
  },
  {
   "cell_type": "code",
   "execution_count": null,
   "id": "188a40a2",
   "metadata": {},
   "outputs": [],
   "source": []
  }
 ],
 "metadata": {
  "kernelspec": {
   "display_name": "Julia 1.4.2",
   "language": "julia",
   "name": "julia-1.4"
  },
  "language_info": {
   "file_extension": ".jl",
   "mimetype": "application/julia",
   "name": "julia",
   "version": "1.4.2"
  }
 },
 "nbformat": 4,
 "nbformat_minor": 5
}
