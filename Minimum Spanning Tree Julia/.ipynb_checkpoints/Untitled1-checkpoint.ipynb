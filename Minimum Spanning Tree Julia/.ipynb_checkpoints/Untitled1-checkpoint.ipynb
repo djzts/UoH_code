{
 "cells": [
  {
   "cell_type": "code",
   "execution_count": 72,
   "id": "8343815d",
   "metadata": {},
   "outputs": [],
   "source": [
    "import networkx as nx\n",
    "import numpy as np\n",
    "from collections import defaultdict\n",
    "import random\n",
    "from numpy import random\n",
    "\n",
    "def show_answer(answer,pos,compelete_label,complete_network):\n",
    "    edge_num , Q = np.shape(answer) \n",
    "    print(edge_num , Q)\n",
    "    edge_y = answer * (np.arange(Q))\n",
    "    edge_x = answer * (np.vstack(np.arange(edge_num) * Q))\n",
    "    final_index = edge_x + edge_y\n",
    "    \n",
    "    final_G = nx.DiGraph()\n",
    "    final_G = nx.from_numpy_array(np.zeros_like(network),create_using=nx.DiGraph(directed=True))\n",
    "\n",
    "    for value in final_index:\n",
    "        #print(str(value//Q))\n",
    "        final_G.add_weighted_edges_from([(*edge, value % Q + 1) for edge, label in compelete_label.items() if label == str(value//Q)])\n",
    "\n",
    "    matfig = plt.figure(figsize=(10,10)) \n",
    "    labels = nx.get_edge_attributes(final_G,'weight')\n",
    "    widths = list(nx.get_edge_attributes(final_G,'weight').values())\n",
    "    print(\"widths\",widths)\n",
    "    nx.draw_networkx(final_G, pos)\n",
    "    nx.draw_networkx_edge_labels(final_G,pos,edge_labels = labels)\n",
    "    nx.draw_networkx_edges(final_G,pos,width = widths)\n",
    "    \n",
    "    return edge_x + edge_y\n",
    "    "
   ]
  },
  {
   "cell_type": "code",
   "execution_count": 73,
   "id": "256d764d",
   "metadata": {},
   "outputs": [],
   "source": [
    "answer = np.array([[0, 0, 0, 0, 0, 0, 0,],\n",
    " [0, 0, 0, 0, 0, 0, 0,],\n",
    " [0, 0, 0, 0, 1, 0, 0,],\n",
    " [0, 0, 0, 0, 0, 0, 0,],\n",
    " [0, 0, 0, 0, 0, 0, 0,],\n",
    " [1, 0, 0, 0, 0, 0, 0,],\n",
    " [1, 0, 0, 0, 0, 0, 0,],\n",
    " [1, 0, 0, 0, 0, 0, 0,],\n",
    " [0, 0, 0, 0, 0, 0, 0,],\n",
    " [0, 0, 0, 0, 0, 0, 0,],\n",
    " [0, 0, 0, 0, 0, 0, 0,],\n",
    " [0, 0, 0, 0, 0, 0, 0,],\n",
    " [1, 0, 0, 0, 0, 0, 0,],\n",
    " [0, 0, 0, 0, 0, 0, 0,],\n",
    " [1, 0, 0, 0, 0, 0, 0,],\n",
    " [0, 0, 0, 0, 0, 0, 0,],\n",
    " [0, 0, 0, 0, 0, 0, 0,],\n",
    " [0, 0, 0, 0, 0, 0, 0,]])\n",
    "Q = np.shape(answer)[1]"
   ]
  },
  {
   "cell_type": "code",
   "execution_count": 74,
   "id": "52cf5647",
   "metadata": {},
   "outputs": [
    {
     "name": "stdout",
     "output_type": "stream",
     "text": [
      "7\n"
     ]
    }
   ],
   "source": [
    "print(Q)"
   ]
  },
  {
   "cell_type": "code",
   "execution_count": 76,
   "id": "ac8bf8b8",
   "metadata": {},
   "outputs": [
    {
     "name": "stdout",
     "output_type": "stream",
     "text": [
      "18 7\n",
      "[[ 0  0  0  0  0  0  0]\n",
      " [ 0  0  0  0  0  0  0]\n",
      " [ 0  0  0  0 18  0  0]\n",
      " [ 0  0  0  0  0  0  0]\n",
      " [ 0  0  0  0  0  0  0]\n",
      " [35  0  0  0  0  0  0]\n",
      " [42  0  0  0  0  0  0]\n",
      " [49  0  0  0  0  0  0]\n",
      " [ 0  0  0  0  0  0  0]\n",
      " [ 0  0  0  0  0  0  0]\n",
      " [ 0  0  0  0  0  0  0]\n",
      " [ 0  0  0  0  0  0  0]\n",
      " [84  0  0  0  0  0  0]\n",
      " [ 0  0  0  0  0  0  0]\n",
      " [98  0  0  0  0  0  0]\n",
      " [ 0  0  0  0  0  0  0]\n",
      " [ 0  0  0  0  0  0  0]\n",
      " [ 0  0  0  0  0  0  0]]\n"
     ]
    }
   ],
   "source": [
    "result = show_answer(answer)"
   ]
  },
  {
   "cell_type": "code",
   "execution_count": 77,
   "id": "12e437d4",
   "metadata": {},
   "outputs": [],
   "source": [
    "a = result[result>0]"
   ]
  },
  {
   "cell_type": "code",
   "execution_count": 78,
   "id": "9487ce60",
   "metadata": {},
   "outputs": [
    {
     "data": {
      "text/plain": [
       "array([18, 35, 42, 49, 84, 98])"
      ]
     },
     "execution_count": 78,
     "metadata": {},
     "output_type": "execute_result"
    }
   ],
   "source": [
    "a"
   ]
  },
  {
   "cell_type": "code",
   "execution_count": null,
   "id": "a52501fb",
   "metadata": {},
   "outputs": [],
   "source": []
  }
 ],
 "metadata": {
  "kernelspec": {
   "display_name": "Python 3",
   "language": "python",
   "name": "python3"
  },
  "language_info": {
   "codemirror_mode": {
    "name": "ipython",
    "version": 3
   },
   "file_extension": ".py",
   "mimetype": "text/x-python",
   "name": "python",
   "nbconvert_exporter": "python",
   "pygments_lexer": "ipython3",
   "version": "3.8.6"
  }
 },
 "nbformat": 4,
 "nbformat_minor": 5
}
